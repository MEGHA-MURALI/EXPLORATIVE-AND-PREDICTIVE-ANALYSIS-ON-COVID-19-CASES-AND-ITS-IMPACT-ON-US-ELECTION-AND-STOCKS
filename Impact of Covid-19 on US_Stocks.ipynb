{
 "cells": [
  {
   "cell_type": "markdown",
   "metadata": {},
   "source": [
    "#                                     US STOCK ANALYSIS"
   ]
  },
  {
   "cell_type": "code",
   "execution_count": 3,
   "metadata": {},
   "outputs": [],
   "source": [
    "import datetime\n",
    "import pandas_datareader\n",
    "import pandas as pd\n",
    "from datetime import datetime\n",
    "from pandas_datareader import data, wb\n",
    "import plotly.graph_objs as go\n",
    "import matplotlib.pyplot as plt"
   ]
  },
  {
   "cell_type": "markdown",
   "metadata": {},
   "source": [
    "## Presenting the list of top US education stocks"
   ]
  },
  {
   "cell_type": "markdown",
   "metadata": {},
   "source": [
    "### American Public Education, Inc. APEI"
   ]
  },
  {
   "cell_type": "code",
   "execution_count": 4,
   "metadata": {},
   "outputs": [],
   "source": [
    "#Uploading educational data for 2019 and 2020\n",
    "\n",
    "\n",
    "APEI_data_2019 = data.DataReader('APEI','yahoo' ,start=pd.to_datetime('2019-01-01'), end=pd.to_datetime('2019-12-31'))\n",
    "APEI_data_2020 = data.DataReader('APEI','yahoo' ,start=pd.to_datetime('2020-01-01'), end=pd.to_datetime('2020-12-31'))"
   ]
  },
  {
   "cell_type": "code",
   "execution_count": 5,
   "metadata": {},
   "outputs": [
    {
     "data": {
      "text/html": [
       "<div>\n",
       "<style scoped>\n",
       "    .dataframe tbody tr th:only-of-type {\n",
       "        vertical-align: middle;\n",
       "    }\n",
       "\n",
       "    .dataframe tbody tr th {\n",
       "        vertical-align: top;\n",
       "    }\n",
       "\n",
       "    .dataframe thead th {\n",
       "        text-align: right;\n",
       "    }\n",
       "</style>\n",
       "<table border=\"1\" class=\"dataframe\">\n",
       "  <thead>\n",
       "    <tr style=\"text-align: right;\">\n",
       "      <th></th>\n",
       "      <th>High</th>\n",
       "      <th>Low</th>\n",
       "      <th>Open</th>\n",
       "      <th>Close</th>\n",
       "      <th>Volume</th>\n",
       "      <th>Adj Close</th>\n",
       "    </tr>\n",
       "    <tr>\n",
       "      <th>Date</th>\n",
       "      <th></th>\n",
       "      <th></th>\n",
       "      <th></th>\n",
       "      <th></th>\n",
       "      <th></th>\n",
       "      <th></th>\n",
       "    </tr>\n",
       "  </thead>\n",
       "  <tbody>\n",
       "    <tr>\n",
       "      <th>2019-01-02</th>\n",
       "      <td>28.120001</td>\n",
       "      <td>27.230000</td>\n",
       "      <td>28.120001</td>\n",
       "      <td>27.57</td>\n",
       "      <td>81900</td>\n",
       "      <td>27.57</td>\n",
       "    </tr>\n",
       "    <tr>\n",
       "      <th>2019-01-03</th>\n",
       "      <td>28.440001</td>\n",
       "      <td>27.200001</td>\n",
       "      <td>27.350000</td>\n",
       "      <td>27.68</td>\n",
       "      <td>60800</td>\n",
       "      <td>27.68</td>\n",
       "    </tr>\n",
       "  </tbody>\n",
       "</table>\n",
       "</div>"
      ],
      "text/plain": [
       "                 High        Low       Open  Close  Volume  Adj Close\n",
       "Date                                                                 \n",
       "2019-01-02  28.120001  27.230000  28.120001  27.57   81900      27.57\n",
       "2019-01-03  28.440001  27.200001  27.350000  27.68   60800      27.68"
      ]
     },
     "execution_count": 5,
     "metadata": {},
     "output_type": "execute_result"
    }
   ],
   "source": [
    "APEI_data_2019.head(2)"
   ]
  },
  {
   "cell_type": "code",
   "execution_count": 6,
   "metadata": {},
   "outputs": [
    {
     "data": {
      "text/html": [
       "<div>\n",
       "<style scoped>\n",
       "    .dataframe tbody tr th:only-of-type {\n",
       "        vertical-align: middle;\n",
       "    }\n",
       "\n",
       "    .dataframe tbody tr th {\n",
       "        vertical-align: top;\n",
       "    }\n",
       "\n",
       "    .dataframe thead th {\n",
       "        text-align: right;\n",
       "    }\n",
       "</style>\n",
       "<table border=\"1\" class=\"dataframe\">\n",
       "  <thead>\n",
       "    <tr style=\"text-align: right;\">\n",
       "      <th></th>\n",
       "      <th>High</th>\n",
       "      <th>Low</th>\n",
       "      <th>Open</th>\n",
       "      <th>Close</th>\n",
       "      <th>Volume</th>\n",
       "      <th>Adj Close</th>\n",
       "    </tr>\n",
       "    <tr>\n",
       "      <th>Date</th>\n",
       "      <th></th>\n",
       "      <th></th>\n",
       "      <th></th>\n",
       "      <th></th>\n",
       "      <th></th>\n",
       "      <th></th>\n",
       "    </tr>\n",
       "  </thead>\n",
       "  <tbody>\n",
       "    <tr>\n",
       "      <th>2020-01-02</th>\n",
       "      <td>27.870001</td>\n",
       "      <td>27.370001</td>\n",
       "      <td>27.629999</td>\n",
       "      <td>27.459999</td>\n",
       "      <td>109900</td>\n",
       "      <td>27.459999</td>\n",
       "    </tr>\n",
       "    <tr>\n",
       "      <th>2020-01-03</th>\n",
       "      <td>27.370001</td>\n",
       "      <td>26.430000</td>\n",
       "      <td>27.110001</td>\n",
       "      <td>27.370001</td>\n",
       "      <td>75400</td>\n",
       "      <td>27.370001</td>\n",
       "    </tr>\n",
       "  </tbody>\n",
       "</table>\n",
       "</div>"
      ],
      "text/plain": [
       "                 High        Low       Open      Close  Volume  Adj Close\n",
       "Date                                                                     \n",
       "2020-01-02  27.870001  27.370001  27.629999  27.459999  109900  27.459999\n",
       "2020-01-03  27.370001  26.430000  27.110001  27.370001   75400  27.370001"
      ]
     },
     "execution_count": 6,
     "metadata": {},
     "output_type": "execute_result"
    }
   ],
   "source": [
    "APEI_data_2020.head(2)"
   ]
  },
  {
   "cell_type": "markdown",
   "metadata": {},
   "source": [
    "American Public Education, Inc. APEI is an online provider of higher education, focused primarily on serving the military and public service communities.\n",
    "\n",
    "As per records:-The company’s expected earnings growth rate for the current year is 12.8%. Since the class and exams going online the Zacks Consensus Estimate for current-year earnings has improved 7.9% over the past 60 days due to the corona out break."
   ]
  },
  {
   "cell_type": "code",
   "execution_count": 7,
   "metadata": {},
   "outputs": [
    {
     "data": {
      "text/plain": [
       "<matplotlib.legend.Legend at 0x2bf335d1fd0>"
      ]
     },
     "execution_count": 7,
     "metadata": {},
     "output_type": "execute_result"
    },
    {
     "data": {
      "image/png": "[encoded data removed]",
      "text/plain": [
       "<Figure size 432x288 with 1 Axes>"
      ]
     },
     "metadata": {
      "needs_background": "light"
     },
     "output_type": "display_data"
    }
   ],
   "source": [
    "APEI_data_2019['Close'].plot()\n",
    "APEI_data_2020['Close'].plot()\n",
    "plt.legend()"
   ]
  },
  {
   "cell_type": "markdown",
   "metadata": {},
   "source": [
    "# K12, Inc. LRN"
   ]
  },
  {
   "cell_type": "code",
   "execution_count": 14,
   "metadata": {},
   "outputs": [],
   "source": [
    "### K12, Inc. LRN\n",
    "\n",
    "LRN_data_2019 = data.DataReader('LRN','yahoo' ,start=pd.to_datetime('2019-01-01'), end=pd.to_datetime('2019-12-31'))\n",
    "LRN_data_2020 = data.DataReader('LRN','yahoo' ,start=pd.to_datetime('2020-01-01'), end=pd.to_datetime('2020-12-31'))"
   ]
  },
  {
   "cell_type": "code",
   "execution_count": 15,
   "metadata": {},
   "outputs": [
    {
     "data": {
      "text/html": [
       "<div>\n",
       "<style scoped>\n",
       "    .dataframe tbody tr th:only-of-type {\n",
       "        vertical-align: middle;\n",
       "    }\n",
       "\n",
       "    .dataframe tbody tr th {\n",
       "        vertical-align: top;\n",
       "    }\n",
       "\n",
       "    .dataframe thead th {\n",
       "        text-align: right;\n",
       "    }\n",
       "</style>\n",
       "<table border=\"1\" class=\"dataframe\">\n",
       "  <thead>\n",
       "    <tr style=\"text-align: right;\">\n",
       "      <th></th>\n",
       "      <th>High</th>\n",
       "      <th>Low</th>\n",
       "      <th>Open</th>\n",
       "      <th>Close</th>\n",
       "      <th>Volume</th>\n",
       "      <th>Adj Close</th>\n",
       "    </tr>\n",
       "    <tr>\n",
       "      <th>Date</th>\n",
       "      <th></th>\n",
       "      <th></th>\n",
       "      <th></th>\n",
       "      <th></th>\n",
       "      <th></th>\n",
       "      <th></th>\n",
       "    </tr>\n",
       "  </thead>\n",
       "  <tbody>\n",
       "    <tr>\n",
       "      <th>2019-01-02</th>\n",
       "      <td>24.73</td>\n",
       "      <td>23.670000</td>\n",
       "      <td>24.629999</td>\n",
       "      <td>23.969999</td>\n",
       "      <td>269300</td>\n",
       "      <td>23.969999</td>\n",
       "    </tr>\n",
       "    <tr>\n",
       "      <th>2019-01-03</th>\n",
       "      <td>24.10</td>\n",
       "      <td>23.440001</td>\n",
       "      <td>24.000000</td>\n",
       "      <td>23.930000</td>\n",
       "      <td>285600</td>\n",
       "      <td>23.930000</td>\n",
       "    </tr>\n",
       "  </tbody>\n",
       "</table>\n",
       "</div>"
      ],
      "text/plain": [
       "             High        Low       Open      Close  Volume  Adj Close\n",
       "Date                                                                 \n",
       "2019-01-02  24.73  23.670000  24.629999  23.969999  269300  23.969999\n",
       "2019-01-03  24.10  23.440001  24.000000  23.930000  285600  23.930000"
      ]
     },
     "execution_count": 15,
     "metadata": {},
     "output_type": "execute_result"
    }
   ],
   "source": [
    "LRN_data_2019.head(2)"
   ]
  },
  {
   "cell_type": "code",
   "execution_count": 16,
   "metadata": {},
   "outputs": [
    {
     "data": {
      "text/html": [
       "<div>\n",
       "<style scoped>\n",
       "    .dataframe tbody tr th:only-of-type {\n",
       "        vertical-align: middle;\n",
       "    }\n",
       "\n",
       "    .dataframe tbody tr th {\n",
       "        vertical-align: top;\n",
       "    }\n",
       "\n",
       "    .dataframe thead th {\n",
       "        text-align: right;\n",
       "    }\n",
       "</style>\n",
       "<table border=\"1\" class=\"dataframe\">\n",
       "  <thead>\n",
       "    <tr style=\"text-align: right;\">\n",
       "      <th></th>\n",
       "      <th>High</th>\n",
       "      <th>Low</th>\n",
       "      <th>Open</th>\n",
       "      <th>Close</th>\n",
       "      <th>Volume</th>\n",
       "      <th>Adj Close</th>\n",
       "    </tr>\n",
       "    <tr>\n",
       "      <th>Date</th>\n",
       "      <th></th>\n",
       "      <th></th>\n",
       "      <th></th>\n",
       "      <th></th>\n",
       "      <th></th>\n",
       "      <th></th>\n",
       "    </tr>\n",
       "  </thead>\n",
       "  <tbody>\n",
       "    <tr>\n",
       "      <th>2020-01-02</th>\n",
       "      <td>20.639999</td>\n",
       "      <td>20.000000</td>\n",
       "      <td>20.520000</td>\n",
       "      <td>20.129999</td>\n",
       "      <td>184100</td>\n",
       "      <td>20.129999</td>\n",
       "    </tr>\n",
       "    <tr>\n",
       "      <th>2020-01-03</th>\n",
       "      <td>20.379999</td>\n",
       "      <td>19.889999</td>\n",
       "      <td>19.889999</td>\n",
       "      <td>20.340000</td>\n",
       "      <td>231800</td>\n",
       "      <td>20.340000</td>\n",
       "    </tr>\n",
       "  </tbody>\n",
       "</table>\n",
       "</div>"
      ],
      "text/plain": [
       "                 High        Low       Open      Close  Volume  Adj Close\n",
       "Date                                                                     \n",
       "2020-01-02  20.639999  20.000000  20.520000  20.129999  184100  20.129999\n",
       "2020-01-03  20.379999  19.889999  19.889999  20.340000  231800  20.340000"
      ]
     },
     "execution_count": 16,
     "metadata": {},
     "output_type": "execute_result"
    }
   ],
   "source": [
    "LRN_data_2020.head(2)"
   ]
  },
  {
   "cell_type": "markdown",
   "metadata": {},
   "source": [
    "K12, Inc. LRN is a leading national provider of proprietary curriculum and educational services created for online delivery to students in kindergarten through 12th grade, or K-12.\n",
    "\n",
    "As per records;-The company’s expected earnings growth rate for next year is 78.3%. The Zacks Consensus Estimate for current-year earnings has improved 32.1% over the past 60 days.Top 1st stock recommended  US educational stock to buy."
   ]
  },
  {
   "cell_type": "markdown",
   "metadata": {},
   "source": [
    "### Chegg, Inc. (NYSE:CHGG)"
   ]
  },
  {
   "cell_type": "code",
   "execution_count": 17,
   "metadata": {},
   "outputs": [],
   "source": [
    "###  Chegg, Inc. (NYSE:CHGG)\n",
    "\n",
    "CHGG_data_2019 = data.DataReader('CHGG','yahoo' ,start=pd.to_datetime('2019-01-01'), end=pd.to_datetime('2019-12-31'))\n",
    "CHGG_data_2020 = data.DataReader('CHGG','yahoo' ,start=pd.to_datetime('2020-01-01'), end=pd.to_datetime('2020-12-31'))"
   ]
  },
  {
   "cell_type": "code",
   "execution_count": 18,
   "metadata": {},
   "outputs": [
    {
     "data": {
      "text/html": [
       "<div>\n",
       "<style scoped>\n",
       "    .dataframe tbody tr th:only-of-type {\n",
       "        vertical-align: middle;\n",
       "    }\n",
       "\n",
       "    .dataframe tbody tr th {\n",
       "        vertical-align: top;\n",
       "    }\n",
       "\n",
       "    .dataframe thead th {\n",
       "        text-align: right;\n",
       "    }\n",
       "</style>\n",
       "<table border=\"1\" class=\"dataframe\">\n",
       "  <thead>\n",
       "    <tr style=\"text-align: right;\">\n",
       "      <th></th>\n",
       "      <th>High</th>\n",
       "      <th>Low</th>\n",
       "      <th>Open</th>\n",
       "      <th>Close</th>\n",
       "      <th>Volume</th>\n",
       "      <th>Adj Close</th>\n",
       "    </tr>\n",
       "    <tr>\n",
       "      <th>Date</th>\n",
       "      <th></th>\n",
       "      <th></th>\n",
       "      <th></th>\n",
       "      <th></th>\n",
       "      <th></th>\n",
       "      <th></th>\n",
       "    </tr>\n",
       "  </thead>\n",
       "  <tbody>\n",
       "    <tr>\n",
       "      <th>2019-01-02</th>\n",
       "      <td>28.590000</td>\n",
       "      <td>27.580000</td>\n",
       "      <td>28.000000</td>\n",
       "      <td>28.49</td>\n",
       "      <td>669400</td>\n",
       "      <td>28.49</td>\n",
       "    </tr>\n",
       "    <tr>\n",
       "      <th>2019-01-03</th>\n",
       "      <td>28.870001</td>\n",
       "      <td>27.799999</td>\n",
       "      <td>28.209999</td>\n",
       "      <td>28.32</td>\n",
       "      <td>702600</td>\n",
       "      <td>28.32</td>\n",
       "    </tr>\n",
       "  </tbody>\n",
       "</table>\n",
       "</div>"
      ],
      "text/plain": [
       "                 High        Low       Open  Close  Volume  Adj Close\n",
       "Date                                                                 \n",
       "2019-01-02  28.590000  27.580000  28.000000  28.49  669400      28.49\n",
       "2019-01-03  28.870001  27.799999  28.209999  28.32  702600      28.32"
      ]
     },
     "execution_count": 18,
     "metadata": {},
     "output_type": "execute_result"
    }
   ],
   "source": [
    "CHGG_data_2019.head(2)"
   ]
  },
  {
   "cell_type": "code",
   "execution_count": 19,
   "metadata": {},
   "outputs": [
    {
     "data": {
      "text/html": [
       "<div>\n",
       "<style scoped>\n",
       "    .dataframe tbody tr th:only-of-type {\n",
       "        vertical-align: middle;\n",
       "    }\n",
       "\n",
       "    .dataframe tbody tr th {\n",
       "        vertical-align: top;\n",
       "    }\n",
       "\n",
       "    .dataframe thead th {\n",
       "        text-align: right;\n",
       "    }\n",
       "</style>\n",
       "<table border=\"1\" class=\"dataframe\">\n",
       "  <thead>\n",
       "    <tr style=\"text-align: right;\">\n",
       "      <th></th>\n",
       "      <th>High</th>\n",
       "      <th>Low</th>\n",
       "      <th>Open</th>\n",
       "      <th>Close</th>\n",
       "      <th>Volume</th>\n",
       "      <th>Adj Close</th>\n",
       "    </tr>\n",
       "    <tr>\n",
       "      <th>Date</th>\n",
       "      <th></th>\n",
       "      <th></th>\n",
       "      <th></th>\n",
       "      <th></th>\n",
       "      <th></th>\n",
       "      <th></th>\n",
       "    </tr>\n",
       "  </thead>\n",
       "  <tbody>\n",
       "    <tr>\n",
       "      <th>2020-01-02</th>\n",
       "      <td>39.200001</td>\n",
       "      <td>37.810001</td>\n",
       "      <td>38.09</td>\n",
       "      <td>39.029999</td>\n",
       "      <td>1366900</td>\n",
       "      <td>39.029999</td>\n",
       "    </tr>\n",
       "    <tr>\n",
       "      <th>2020-01-03</th>\n",
       "      <td>38.610001</td>\n",
       "      <td>37.889999</td>\n",
       "      <td>38.41</td>\n",
       "      <td>38.310001</td>\n",
       "      <td>664500</td>\n",
       "      <td>38.310001</td>\n",
       "    </tr>\n",
       "  </tbody>\n",
       "</table>\n",
       "</div>"
      ],
      "text/plain": [
       "                 High        Low   Open      Close   Volume  Adj Close\n",
       "Date                                                                  \n",
       "2020-01-02  39.200001  37.810001  38.09  39.029999  1366900  39.029999\n",
       "2020-01-03  38.610001  37.889999  38.41  38.310001   664500  38.310001"
      ]
     },
     "execution_count": 19,
     "metadata": {},
     "output_type": "execute_result"
    }
   ],
   "source": [
    "CHGG_data_2020.head(2)"
   ]
  },
  {
   "cell_type": "markdown",
   "metadata": {},
   "source": [
    "Chegg, Inc is first launched in 2005. They are based in Santa Clara, California. The company provides digital textbook rentals, online tutoring, and other student services. "
   ]
  },
  {
   "cell_type": "markdown",
   "metadata": {},
   "source": [
    "How Is Coronavirus Impacting Chegg’s Stock?\n",
    "\n",
    "The global spread of coronavirus has affected industrial and economic activity across the world. However, the lockdown has actually been a blessing a disguise for a bunch of companies, and Chegg is one of them. Chegg’s business has received a boost due to the outbreak of coronavirus as educational institutions had to shut down to mitigate the spread of the virus. As a result, Chegg saw a substantial increase in new subscribers, as well as witnessed an increase in engagement from its existing subscribers. Chegg reported a robust performance in its Q2 2020 (ending June) results, with the company’s revenues growing by 63% to $153 million while its subscriber count surged to 3.7 million, an increase of 67% y-o-y. Moreover, the company expects its subscriber growth to remain upbeat in FY2020. While traditional educational companies are suffering due to the outbreak of the virus, Chegg, with its digital education model, is clearly benefiting from this pandemic. However, with things potentially returning to normal in the not-too-distant future, it is unlikely that Chegg could continue to grow at its current pace."
   ]
  },
  {
   "cell_type": "code",
   "execution_count": 20,
   "metadata": {},
   "outputs": [
    {
     "data": {
      "text/plain": [
       "<matplotlib.legend.Legend at 0x2bf34a04a30>"
      ]
     },
     "execution_count": 20,
     "metadata": {},
     "output_type": "execute_result"
    },
    {
     "data": {
      "image/png": "[encoded data removed]",
      "text/plain": [
       "<Figure size 432x288 with 1 Axes>"
      ]
     },
     "metadata": {
      "needs_background": "light"
     },
     "output_type": "display_data"
    }
   ],
   "source": [
    "CHGG_data_2019['Close'].plot()\n",
    "CHGG_data_2020['Close'].plot()\n",
    "plt.legend()"
   ]
  },
  {
   "cell_type": "code",
   "execution_count": 21,
   "metadata": {},
   "outputs": [],
   "source": [
    "###  Zoom Video Communications, Inc. (NASDAQ:ZM)\n",
    "\n",
    "ZM_data_2019 = data.DataReader('ZM','yahoo' ,start=pd.to_datetime('2019-01-01'), end=pd.to_datetime('2019-12-31'))\n",
    "ZM_data_2020 = data.DataReader('ZM','yahoo' ,start=pd.to_datetime('2020-01-01'), end=pd.to_datetime('2020-12-31'))"
   ]
  },
  {
   "cell_type": "code",
   "execution_count": 22,
   "metadata": {},
   "outputs": [
    {
     "data": {
      "text/html": [
       "<div>\n",
       "<style scoped>\n",
       "    .dataframe tbody tr th:only-of-type {\n",
       "        vertical-align: middle;\n",
       "    }\n",
       "\n",
       "    .dataframe tbody tr th {\n",
       "        vertical-align: top;\n",
       "    }\n",
       "\n",
       "    .dataframe thead th {\n",
       "        text-align: right;\n",
       "    }\n",
       "</style>\n",
       "<table border=\"1\" class=\"dataframe\">\n",
       "  <thead>\n",
       "    <tr style=\"text-align: right;\">\n",
       "      <th></th>\n",
       "      <th>High</th>\n",
       "      <th>Low</th>\n",
       "      <th>Open</th>\n",
       "      <th>Close</th>\n",
       "      <th>Volume</th>\n",
       "      <th>Adj Close</th>\n",
       "    </tr>\n",
       "    <tr>\n",
       "      <th>Date</th>\n",
       "      <th></th>\n",
       "      <th></th>\n",
       "      <th></th>\n",
       "      <th></th>\n",
       "      <th></th>\n",
       "      <th></th>\n",
       "    </tr>\n",
       "  </thead>\n",
       "  <tbody>\n",
       "    <tr>\n",
       "      <th>2019-04-18</th>\n",
       "      <td>66.000000</td>\n",
       "      <td>60.320999</td>\n",
       "      <td>65.0</td>\n",
       "      <td>62.000000</td>\n",
       "      <td>25764700</td>\n",
       "      <td>62.000000</td>\n",
       "    </tr>\n",
       "    <tr>\n",
       "      <th>2019-04-22</th>\n",
       "      <td>68.900002</td>\n",
       "      <td>59.939999</td>\n",
       "      <td>61.0</td>\n",
       "      <td>65.699997</td>\n",
       "      <td>9949700</td>\n",
       "      <td>65.699997</td>\n",
       "    </tr>\n",
       "  </tbody>\n",
       "</table>\n",
       "</div>"
      ],
      "text/plain": [
       "                 High        Low  Open      Close    Volume  Adj Close\n",
       "Date                                                                  \n",
       "2019-04-18  66.000000  60.320999  65.0  62.000000  25764700  62.000000\n",
       "2019-04-22  68.900002  59.939999  61.0  65.699997   9949700  65.699997"
      ]
     },
     "execution_count": 22,
     "metadata": {},
     "output_type": "execute_result"
    }
   ],
   "source": [
    "ZM_data_2019.head(2)"
   ]
  },
  {
   "cell_type": "code",
   "execution_count": 23,
   "metadata": {},
   "outputs": [
    {
     "data": {
      "text/html": [
       "<div>\n",
       "<style scoped>\n",
       "    .dataframe tbody tr th:only-of-type {\n",
       "        vertical-align: middle;\n",
       "    }\n",
       "\n",
       "    .dataframe tbody tr th {\n",
       "        vertical-align: top;\n",
       "    }\n",
       "\n",
       "    .dataframe thead th {\n",
       "        text-align: right;\n",
       "    }\n",
       "</style>\n",
       "<table border=\"1\" class=\"dataframe\">\n",
       "  <thead>\n",
       "    <tr style=\"text-align: right;\">\n",
       "      <th></th>\n",
       "      <th>High</th>\n",
       "      <th>Low</th>\n",
       "      <th>Open</th>\n",
       "      <th>Close</th>\n",
       "      <th>Volume</th>\n",
       "      <th>Adj Close</th>\n",
       "    </tr>\n",
       "    <tr>\n",
       "      <th>Date</th>\n",
       "      <th></th>\n",
       "      <th></th>\n",
       "      <th></th>\n",
       "      <th></th>\n",
       "      <th></th>\n",
       "      <th></th>\n",
       "    </tr>\n",
       "  </thead>\n",
       "  <tbody>\n",
       "    <tr>\n",
       "      <th>2020-01-02</th>\n",
       "      <td>69.235001</td>\n",
       "      <td>68.019997</td>\n",
       "      <td>68.800003</td>\n",
       "      <td>68.720001</td>\n",
       "      <td>1315500</td>\n",
       "      <td>68.720001</td>\n",
       "    </tr>\n",
       "    <tr>\n",
       "      <th>2020-01-03</th>\n",
       "      <td>68.680000</td>\n",
       "      <td>67.099998</td>\n",
       "      <td>67.620003</td>\n",
       "      <td>67.279999</td>\n",
       "      <td>1127900</td>\n",
       "      <td>67.279999</td>\n",
       "    </tr>\n",
       "  </tbody>\n",
       "</table>\n",
       "</div>"
      ],
      "text/plain": [
       "                 High        Low       Open      Close   Volume  Adj Close\n",
       "Date                                                                      \n",
       "2020-01-02  69.235001  68.019997  68.800003  68.720001  1315500  68.720001\n",
       "2020-01-03  68.680000  67.099998  67.620003  67.279999  1127900  67.279999"
      ]
     },
     "execution_count": 23,
     "metadata": {},
     "output_type": "execute_result"
    }
   ],
   "source": [
    "ZM_data_2020.head(2)"
   ]
  },
  {
   "cell_type": "markdown",
   "metadata": {},
   "source": [
    "Zoom Video Communications, Inc. is an American communications technology company that provides video telephony and online chat services through a cloud-based software. During the fourth quarter of 2020, the company reported a revenue of $188.3 million."
   ]
  },
  {
   "cell_type": "markdown",
   "metadata": {},
   "source": [
    "As per records:-“The biggest newcomer to the large-cap list this year was Zoom Video Communications. The company has a market cap of $134 billion and sells at nearly 100 times trailing sales. With so many people working from home, video conferencing has been a lifesaver. Most days I have multiple video calls. When people talk about changes from the past six months that are likely to outlast Covid-19, increased use of video conferencing is at the top of most lists"
   ]
  },
  {
   "cell_type": "code",
   "execution_count": 24,
   "metadata": {},
   "outputs": [
    {
     "data": {
      "text/plain": [
       "<matplotlib.legend.Legend at 0x2bf34c1cfd0>"
      ]
     },
     "execution_count": 24,
     "metadata": {},
     "output_type": "execute_result"
    },
    {
     "data": {
      "image/png": "[encoded data removed]",
      "text/plain": [
       "<Figure size 432x288 with 1 Axes>"
      ]
     },
     "metadata": {
      "needs_background": "light"
     },
     "output_type": "display_data"
    }
   ],
   "source": [
    "ZM_data_2019['Close'].plot()\n",
    "ZM_data_2020['Close'].plot()\n",
    "plt.legend()"
   ]
  },
  {
   "cell_type": "markdown",
   "metadata": {},
   "source": [
    "## Top Health care stocks in US"
   ]
  },
  {
   "cell_type": "code",
   "execution_count": 25,
   "metadata": {},
   "outputs": [],
   "source": [
    "###  Medtronic (ticker: MDT)\n",
    "\n",
    "MDT_data_2019 = data.DataReader('MDT','yahoo' ,start=pd.to_datetime('2019-01-01'), end=pd.to_datetime('2019-12-31'))\n",
    "MDT_data_2020 = data.DataReader('MDT','yahoo' ,start=pd.to_datetime('2020-01-01'), end=pd.to_datetime('2020-12-31'))"
   ]
  },
  {
   "cell_type": "code",
   "execution_count": 26,
   "metadata": {},
   "outputs": [
    {
     "data": {
      "text/html": [
       "<div>\n",
       "<style scoped>\n",
       "    .dataframe tbody tr th:only-of-type {\n",
       "        vertical-align: middle;\n",
       "    }\n",
       "\n",
       "    .dataframe tbody tr th {\n",
       "        vertical-align: top;\n",
       "    }\n",
       "\n",
       "    .dataframe thead th {\n",
       "        text-align: right;\n",
       "    }\n",
       "</style>\n",
       "<table border=\"1\" class=\"dataframe\">\n",
       "  <thead>\n",
       "    <tr style=\"text-align: right;\">\n",
       "      <th></th>\n",
       "      <th>High</th>\n",
       "      <th>Low</th>\n",
       "      <th>Open</th>\n",
       "      <th>Close</th>\n",
       "      <th>Volume</th>\n",
       "      <th>Adj Close</th>\n",
       "    </tr>\n",
       "    <tr>\n",
       "      <th>Date</th>\n",
       "      <th></th>\n",
       "      <th></th>\n",
       "      <th></th>\n",
       "      <th></th>\n",
       "      <th></th>\n",
       "      <th></th>\n",
       "    </tr>\n",
       "  </thead>\n",
       "  <tbody>\n",
       "    <tr>\n",
       "      <th>2019-01-02</th>\n",
       "      <td>90.139999</td>\n",
       "      <td>87.089996</td>\n",
       "      <td>89.529999</td>\n",
       "      <td>87.919998</td>\n",
       "      <td>7099100.0</td>\n",
       "      <td>84.123032</td>\n",
       "    </tr>\n",
       "    <tr>\n",
       "      <th>2019-01-03</th>\n",
       "      <td>87.730003</td>\n",
       "      <td>85.180000</td>\n",
       "      <td>87.620003</td>\n",
       "      <td>85.449997</td>\n",
       "      <td>6099800.0</td>\n",
       "      <td>81.759705</td>\n",
       "    </tr>\n",
       "  </tbody>\n",
       "</table>\n",
       "</div>"
      ],
      "text/plain": [
       "                 High        Low       Open      Close     Volume  Adj Close\n",
       "Date                                                                        \n",
       "2019-01-02  90.139999  87.089996  89.529999  87.919998  7099100.0  84.123032\n",
       "2019-01-03  87.730003  85.180000  87.620003  85.449997  6099800.0  81.759705"
      ]
     },
     "execution_count": 26,
     "metadata": {},
     "output_type": "execute_result"
    }
   ],
   "source": [
    "MDT_data_2019.head(2)"
   ]
  },
  {
   "cell_type": "code",
   "execution_count": 27,
   "metadata": {},
   "outputs": [
    {
     "data": {
      "text/html": [
       "<div>\n",
       "<style scoped>\n",
       "    .dataframe tbody tr th:only-of-type {\n",
       "        vertical-align: middle;\n",
       "    }\n",
       "\n",
       "    .dataframe tbody tr th {\n",
       "        vertical-align: top;\n",
       "    }\n",
       "\n",
       "    .dataframe thead th {\n",
       "        text-align: right;\n",
       "    }\n",
       "</style>\n",
       "<table border=\"1\" class=\"dataframe\">\n",
       "  <thead>\n",
       "    <tr style=\"text-align: right;\">\n",
       "      <th></th>\n",
       "      <th>High</th>\n",
       "      <th>Low</th>\n",
       "      <th>Open</th>\n",
       "      <th>Close</th>\n",
       "      <th>Volume</th>\n",
       "      <th>Adj Close</th>\n",
       "    </tr>\n",
       "    <tr>\n",
       "      <th>Date</th>\n",
       "      <th></th>\n",
       "      <th></th>\n",
       "      <th></th>\n",
       "      <th></th>\n",
       "      <th></th>\n",
       "      <th></th>\n",
       "    </tr>\n",
       "  </thead>\n",
       "  <tbody>\n",
       "    <tr>\n",
       "      <th>2020-01-02</th>\n",
       "      <td>114.910004</td>\n",
       "      <td>113.099998</td>\n",
       "      <td>114.459999</td>\n",
       "      <td>114.559998</td>\n",
       "      <td>3917000.0</td>\n",
       "      <td>111.909004</td>\n",
       "    </tr>\n",
       "    <tr>\n",
       "      <th>2020-01-03</th>\n",
       "      <td>114.410004</td>\n",
       "      <td>113.050003</td>\n",
       "      <td>113.160004</td>\n",
       "      <td>113.879997</td>\n",
       "      <td>2764600.0</td>\n",
       "      <td>111.244743</td>\n",
       "    </tr>\n",
       "  </tbody>\n",
       "</table>\n",
       "</div>"
      ],
      "text/plain": [
       "                  High         Low        Open       Close     Volume  \\\n",
       "Date                                                                    \n",
       "2020-01-02  114.910004  113.099998  114.459999  114.559998  3917000.0   \n",
       "2020-01-03  114.410004  113.050003  113.160004  113.879997  2764600.0   \n",
       "\n",
       "             Adj Close  \n",
       "Date                    \n",
       "2020-01-02  111.909004  \n",
       "2020-01-03  111.244743  "
      ]
     },
     "execution_count": 27,
     "metadata": {},
     "output_type": "execute_result"
    }
   ],
   "source": [
    "MDT_data_2020.head(2)"
   ]
  },
  {
   "cell_type": "markdown",
   "metadata": {},
   "source": [
    "### Medtronic plc "
   ]
  },
  {
   "cell_type": "markdown",
   "metadata": {},
   "source": [
    "Medtronic plc is an American Irish-domiciled medical device company that generates the majority of its sales and profits from the U.S. healthcare system but is headquartered in the Republic of Ireland for tax purposes."
   ]
  },
  {
   "cell_type": "markdown",
   "metadata": {},
   "source": [
    "As per records:-\n",
    "since the beginning of the year, at the current price of around $95, Medtronic’s stock could see a significant downside, due to the impact of the coronavirus crisis. Medtronic has outperformed the broader markets over the last two years.\n",
    "\n",
    "The company saw its sales decline 3.5% between fiscal 2018 and fiscal 2020 (Medtronic's fiscal year ends in April). This decline was primarily led by lower Cardiac & Vascular Group sales. Restrictions on elective surgeries over the last few months largely impacted this decline.\n",
    "\n",
    "he current coronavirus crisis is having a significant impact on Medtronic’s business, evident from the company’s recently reported fiscal Q4 numbers. The company reported a 25% drop in revenues"
   ]
  },
  {
   "cell_type": "code",
   "execution_count": 28,
   "metadata": {},
   "outputs": [
    {
     "data": {
      "text/plain": [
       "<matplotlib.legend.Legend at 0x2bf34a3c430>"
      ]
     },
     "execution_count": 28,
     "metadata": {},
     "output_type": "execute_result"
    },
    {
     "data": {
      "image/png": "[encoded data removed]",
      "text/plain": [
       "<Figure size 432x288 with 1 Axes>"
      ]
     },
     "metadata": {
      "needs_background": "light"
     },
     "output_type": "display_data"
    }
   ],
   "source": [
    "MDT_data_2019['Close'].plot()\n",
    "MDT_data_2020['Close'].plot()\n",
    "plt.legend()"
   ]
  },
  {
   "cell_type": "code",
   "execution_count": 29,
   "metadata": {},
   "outputs": [],
   "source": [
    "### CVS Health Corp. (CVS)\n",
    "\n",
    "CVS_data_2019 = data.DataReader('CVS','yahoo' ,start=pd.to_datetime('2019-01-01'), end=pd.to_datetime('2019-12-31'))\n",
    "CVS_data_2020 = data.DataReader('CVS','yahoo' ,start=pd.to_datetime('2020-01-01'), end=pd.to_datetime('2020-12-31'))"
   ]
  },
  {
   "cell_type": "code",
   "execution_count": 30,
   "metadata": {},
   "outputs": [
    {
     "data": {
      "text/html": [
       "<div>\n",
       "<style scoped>\n",
       "    .dataframe tbody tr th:only-of-type {\n",
       "        vertical-align: middle;\n",
       "    }\n",
       "\n",
       "    .dataframe tbody tr th {\n",
       "        vertical-align: top;\n",
       "    }\n",
       "\n",
       "    .dataframe thead th {\n",
       "        text-align: right;\n",
       "    }\n",
       "</style>\n",
       "<table border=\"1\" class=\"dataframe\">\n",
       "  <thead>\n",
       "    <tr style=\"text-align: right;\">\n",
       "      <th></th>\n",
       "      <th>High</th>\n",
       "      <th>Low</th>\n",
       "      <th>Open</th>\n",
       "      <th>Close</th>\n",
       "      <th>Volume</th>\n",
       "      <th>Adj Close</th>\n",
       "    </tr>\n",
       "    <tr>\n",
       "      <th>Date</th>\n",
       "      <th></th>\n",
       "      <th></th>\n",
       "      <th></th>\n",
       "      <th></th>\n",
       "      <th></th>\n",
       "      <th></th>\n",
       "    </tr>\n",
       "  </thead>\n",
       "  <tbody>\n",
       "    <tr>\n",
       "      <th>2019-01-02</th>\n",
       "      <td>65.870003</td>\n",
       "      <td>64.440002</td>\n",
       "      <td>64.860001</td>\n",
       "      <td>65.580002</td>\n",
       "      <td>7322400.0</td>\n",
       "      <td>61.051197</td>\n",
       "    </tr>\n",
       "    <tr>\n",
       "      <th>2019-01-03</th>\n",
       "      <td>65.900002</td>\n",
       "      <td>64.639999</td>\n",
       "      <td>65.250000</td>\n",
       "      <td>65.230003</td>\n",
       "      <td>7001800.0</td>\n",
       "      <td>60.725365</td>\n",
       "    </tr>\n",
       "  </tbody>\n",
       "</table>\n",
       "</div>"
      ],
      "text/plain": [
       "                 High        Low       Open      Close     Volume  Adj Close\n",
       "Date                                                                        \n",
       "2019-01-02  65.870003  64.440002  64.860001  65.580002  7322400.0  61.051197\n",
       "2019-01-03  65.900002  64.639999  65.250000  65.230003  7001800.0  60.725365"
      ]
     },
     "execution_count": 30,
     "metadata": {},
     "output_type": "execute_result"
    }
   ],
   "source": [
    "CVS_data_2019.head(2)"
   ]
  },
  {
   "cell_type": "code",
   "execution_count": 31,
   "metadata": {},
   "outputs": [
    {
     "data": {
      "text/html": [
       "<div>\n",
       "<style scoped>\n",
       "    .dataframe tbody tr th:only-of-type {\n",
       "        vertical-align: middle;\n",
       "    }\n",
       "\n",
       "    .dataframe tbody tr th {\n",
       "        vertical-align: top;\n",
       "    }\n",
       "\n",
       "    .dataframe thead th {\n",
       "        text-align: right;\n",
       "    }\n",
       "</style>\n",
       "<table border=\"1\" class=\"dataframe\">\n",
       "  <thead>\n",
       "    <tr style=\"text-align: right;\">\n",
       "      <th></th>\n",
       "      <th>High</th>\n",
       "      <th>Low</th>\n",
       "      <th>Open</th>\n",
       "      <th>Close</th>\n",
       "      <th>Volume</th>\n",
       "      <th>Adj Close</th>\n",
       "    </tr>\n",
       "    <tr>\n",
       "      <th>Date</th>\n",
       "      <th></th>\n",
       "      <th></th>\n",
       "      <th></th>\n",
       "      <th></th>\n",
       "      <th></th>\n",
       "      <th></th>\n",
       "    </tr>\n",
       "  </thead>\n",
       "  <tbody>\n",
       "    <tr>\n",
       "      <th>2020-01-02</th>\n",
       "      <td>74.699997</td>\n",
       "      <td>73.529999</td>\n",
       "      <td>74.650002</td>\n",
       "      <td>74.160004</td>\n",
       "      <td>5022700.0</td>\n",
       "      <td>71.398041</td>\n",
       "    </tr>\n",
       "    <tr>\n",
       "      <th>2020-01-03</th>\n",
       "      <td>74.059998</td>\n",
       "      <td>73.070000</td>\n",
       "      <td>73.220001</td>\n",
       "      <td>73.570000</td>\n",
       "      <td>4453000.0</td>\n",
       "      <td>70.830009</td>\n",
       "    </tr>\n",
       "  </tbody>\n",
       "</table>\n",
       "</div>"
      ],
      "text/plain": [
       "                 High        Low       Open      Close     Volume  Adj Close\n",
       "Date                                                                        \n",
       "2020-01-02  74.699997  73.529999  74.650002  74.160004  5022700.0  71.398041\n",
       "2020-01-03  74.059998  73.070000  73.220001  73.570000  4453000.0  70.830009"
      ]
     },
     "execution_count": 31,
     "metadata": {},
     "output_type": "execute_result"
    }
   ],
   "source": [
    "CVS_data_2020.head(2)"
   ]
  },
  {
   "cell_type": "markdown",
   "metadata": {},
   "source": [
    "CVS Health is an American healthcare company that owns CVS Pharmacy, a retail pharmacy chain; CVS Caremark, a pharmacy benefits manager; Aetna, a health insurance provider, among many other brands.\n",
    "    \n",
    "    \n",
    "As per records:- CVS underperformed the market in 2019, earning about 13.39% &\n",
    "CVS underperformed the market in 2020, losing about 8%.\n",
    "\n",
    "CVS Health’s revenues increased from  dollar 177 billion in 2016 and dollar 257 billion in 2019.CVS Health garnered over $199 billion in total revenue, reflecting 4.9% growth y-o-y in the first 3 quarters of 2020. The growth is partly aided by an increase in overall unemployment due to the pandemic, implying an increased number of government sponsored insurance enrollments for CVS Health."
   ]
  },
  {
   "cell_type": "code",
   "execution_count": 32,
   "metadata": {},
   "outputs": [
    {
     "data": {
      "text/plain": [
       "<matplotlib.legend.Legend at 0x2bf34a4ff70>"
      ]
     },
     "execution_count": 32,
     "metadata": {},
     "output_type": "execute_result"
    },
    {
     "data": {
      "image/png": "[encoded data removed]",
      "text/plain": [
       "<Figure size 432x288 with 1 Axes>"
      ]
     },
     "metadata": {
      "needs_background": "light"
     },
     "output_type": "display_data"
    }
   ],
   "source": [
    "CVS_data_2019['Close'].plot()\n",
    "CVS_data_2020['Close'].plot()\n",
    "plt.legend()"
   ]
  },
  {
   "cell_type": "code",
   "execution_count": 33,
   "metadata": {},
   "outputs": [],
   "source": [
    "### Zoetis (ZTS)\n",
    "ZTS_data_2019 = data.DataReader('ZTS','yahoo' ,start=pd.to_datetime('2019-01-01'), end=pd.to_datetime('2019-12-31'))\n",
    "ZTS_data_2020 = data.DataReader('ZTS','yahoo' ,start=pd.to_datetime('2020-01-01'), end=pd.to_datetime('2020-12-31'))\n"
   ]
  },
  {
   "cell_type": "code",
   "execution_count": 34,
   "metadata": {},
   "outputs": [
    {
     "data": {
      "text/html": [
       "<div>\n",
       "<style scoped>\n",
       "    .dataframe tbody tr th:only-of-type {\n",
       "        vertical-align: middle;\n",
       "    }\n",
       "\n",
       "    .dataframe tbody tr th {\n",
       "        vertical-align: top;\n",
       "    }\n",
       "\n",
       "    .dataframe thead th {\n",
       "        text-align: right;\n",
       "    }\n",
       "</style>\n",
       "<table border=\"1\" class=\"dataframe\">\n",
       "  <thead>\n",
       "    <tr style=\"text-align: right;\">\n",
       "      <th></th>\n",
       "      <th>High</th>\n",
       "      <th>Low</th>\n",
       "      <th>Open</th>\n",
       "      <th>Close</th>\n",
       "      <th>Volume</th>\n",
       "      <th>Adj Close</th>\n",
       "    </tr>\n",
       "    <tr>\n",
       "      <th>Date</th>\n",
       "      <th></th>\n",
       "      <th></th>\n",
       "      <th></th>\n",
       "      <th></th>\n",
       "      <th></th>\n",
       "      <th></th>\n",
       "    </tr>\n",
       "  </thead>\n",
       "  <tbody>\n",
       "    <tr>\n",
       "      <th>2019-01-02</th>\n",
       "      <td>85.080002</td>\n",
       "      <td>83.750000</td>\n",
       "      <td>84.510002</td>\n",
       "      <td>84.480003</td>\n",
       "      <td>2665600.0</td>\n",
       "      <td>83.337715</td>\n",
       "    </tr>\n",
       "    <tr>\n",
       "      <th>2019-01-03</th>\n",
       "      <td>84.239998</td>\n",
       "      <td>81.370003</td>\n",
       "      <td>84.070000</td>\n",
       "      <td>81.559998</td>\n",
       "      <td>2390900.0</td>\n",
       "      <td>80.457184</td>\n",
       "    </tr>\n",
       "  </tbody>\n",
       "</table>\n",
       "</div>"
      ],
      "text/plain": [
       "                 High        Low       Open      Close     Volume  Adj Close\n",
       "Date                                                                        \n",
       "2019-01-02  85.080002  83.750000  84.510002  84.480003  2665600.0  83.337715\n",
       "2019-01-03  84.239998  81.370003  84.070000  81.559998  2390900.0  80.457184"
      ]
     },
     "execution_count": 34,
     "metadata": {},
     "output_type": "execute_result"
    }
   ],
   "source": [
    "ZTS_data_2019.head(2)"
   ]
  },
  {
   "cell_type": "code",
   "execution_count": 35,
   "metadata": {},
   "outputs": [
    {
     "data": {
      "text/html": [
       "<div>\n",
       "<style scoped>\n",
       "    .dataframe tbody tr th:only-of-type {\n",
       "        vertical-align: middle;\n",
       "    }\n",
       "\n",
       "    .dataframe tbody tr th {\n",
       "        vertical-align: top;\n",
       "    }\n",
       "\n",
       "    .dataframe thead th {\n",
       "        text-align: right;\n",
       "    }\n",
       "</style>\n",
       "<table border=\"1\" class=\"dataframe\">\n",
       "  <thead>\n",
       "    <tr style=\"text-align: right;\">\n",
       "      <th></th>\n",
       "      <th>High</th>\n",
       "      <th>Low</th>\n",
       "      <th>Open</th>\n",
       "      <th>Close</th>\n",
       "      <th>Volume</th>\n",
       "      <th>Adj Close</th>\n",
       "    </tr>\n",
       "    <tr>\n",
       "      <th>Date</th>\n",
       "      <th></th>\n",
       "      <th></th>\n",
       "      <th></th>\n",
       "      <th></th>\n",
       "      <th></th>\n",
       "      <th></th>\n",
       "    </tr>\n",
       "  </thead>\n",
       "  <tbody>\n",
       "    <tr>\n",
       "      <th>2020-01-02</th>\n",
       "      <td>134.279999</td>\n",
       "      <td>131.479996</td>\n",
       "      <td>132.050003</td>\n",
       "      <td>134.139999</td>\n",
       "      <td>1576700.0</td>\n",
       "      <td>133.169510</td>\n",
       "    </tr>\n",
       "    <tr>\n",
       "      <th>2020-01-03</th>\n",
       "      <td>134.910004</td>\n",
       "      <td>132.270004</td>\n",
       "      <td>132.479996</td>\n",
       "      <td>134.160004</td>\n",
       "      <td>1274000.0</td>\n",
       "      <td>133.189362</td>\n",
       "    </tr>\n",
       "  </tbody>\n",
       "</table>\n",
       "</div>"
      ],
      "text/plain": [
       "                  High         Low        Open       Close     Volume  \\\n",
       "Date                                                                    \n",
       "2020-01-02  134.279999  131.479996  132.050003  134.139999  1576700.0   \n",
       "2020-01-03  134.910004  132.270004  132.479996  134.160004  1274000.0   \n",
       "\n",
       "             Adj Close  \n",
       "Date                    \n",
       "2020-01-02  133.169510  \n",
       "2020-01-03  133.189362  "
      ]
     },
     "execution_count": 35,
     "metadata": {},
     "output_type": "execute_result"
    }
   ],
   "source": [
    "ZTS_data_2020.head(2)"
   ]
  },
  {
   "cell_type": "markdown",
   "metadata": {},
   "source": [
    "Zoetis, Inc. discovers, develops and manufactures a portfolio of animal health medicines and vaccines. The company operates through the following segments: United States &International. Its products are complemented by diagnostic products, genetic tests, bio devices and services. These are designed to meet the needs of veterinarians and the livestock farmers and companion animal.\n",
    "\n",
    "As per records:- The ZTS company reported revenue of dollar 1.7 billion for the fourth quarter of 2019, which was an increase of 7% compared with the fourth quarter of 2018.\n",
    "Zoetis(ZTS) reports second quarter 2020 financial results,the company reported revenue of $1.5 billion for the second quarter of 2020, which is flat compared with the second quarter of 2019. The revenue for the second quarter of 2020 increased 4%"
   ]
  },
  {
   "cell_type": "code",
   "execution_count": 36,
   "metadata": {},
   "outputs": [
    {
     "data": {
      "text/plain": [
       "<matplotlib.legend.Legend at 0x2bf34d244c0>"
      ]
     },
     "execution_count": 36,
     "metadata": {},
     "output_type": "execute_result"
    },
    {
     "data": {
      "image/png": "[encoded data removed]",
      "text/plain": [
       "<Figure size 432x288 with 1 Axes>"
      ]
     },
     "metadata": {
      "needs_background": "light"
     },
     "output_type": "display_data"
    }
   ],
   "source": [
    "ZTS_data_2019['Close'].plot()\n",
    "ZTS_data_2020['Close'].plot()\n",
    "plt.legend()"
   ]
  },
  {
   "cell_type": "markdown",
   "metadata": {},
   "source": [
    "## Top transport system in US"
   ]
  },
  {
   "cell_type": "code",
   "execution_count": 37,
   "metadata": {},
   "outputs": [],
   "source": [
    "### Transportation and Logistics Systems, Inc. (TLSS)\n",
    "\n",
    "TLSS_data_2019 = data.DataReader('TLSS','yahoo' ,start=pd.to_datetime('2019-01-01'), end=pd.to_datetime('2019-12-31'))\n",
    "TLSS_data_2020 = data.DataReader('TLSS','yahoo' ,start=pd.to_datetime('2020-01-01'), end=pd.to_datetime('2020-12-31'))\n"
   ]
  },
  {
   "cell_type": "code",
   "execution_count": 38,
   "metadata": {},
   "outputs": [
    {
     "data": {
      "text/html": [
       "<div>\n",
       "<style scoped>\n",
       "    .dataframe tbody tr th:only-of-type {\n",
       "        vertical-align: middle;\n",
       "    }\n",
       "\n",
       "    .dataframe tbody tr th {\n",
       "        vertical-align: top;\n",
       "    }\n",
       "\n",
       "    .dataframe thead th {\n",
       "        text-align: right;\n",
       "    }\n",
       "</style>\n",
       "<table border=\"1\" class=\"dataframe\">\n",
       "  <thead>\n",
       "    <tr style=\"text-align: right;\">\n",
       "      <th></th>\n",
       "      <th>High</th>\n",
       "      <th>Low</th>\n",
       "      <th>Open</th>\n",
       "      <th>Close</th>\n",
       "      <th>Volume</th>\n",
       "      <th>Adj Close</th>\n",
       "    </tr>\n",
       "    <tr>\n",
       "      <th>Date</th>\n",
       "      <th></th>\n",
       "      <th></th>\n",
       "      <th></th>\n",
       "      <th></th>\n",
       "      <th></th>\n",
       "      <th></th>\n",
       "    </tr>\n",
       "  </thead>\n",
       "  <tbody>\n",
       "    <tr>\n",
       "      <th>2019-01-02</th>\n",
       "      <td>1.5</td>\n",
       "      <td>1.5</td>\n",
       "      <td>1.5</td>\n",
       "      <td>1.5</td>\n",
       "      <td>0</td>\n",
       "      <td>1.5</td>\n",
       "    </tr>\n",
       "    <tr>\n",
       "      <th>2019-01-03</th>\n",
       "      <td>1.5</td>\n",
       "      <td>1.5</td>\n",
       "      <td>1.5</td>\n",
       "      <td>1.5</td>\n",
       "      <td>0</td>\n",
       "      <td>1.5</td>\n",
       "    </tr>\n",
       "  </tbody>\n",
       "</table>\n",
       "</div>"
      ],
      "text/plain": [
       "            High  Low  Open  Close  Volume  Adj Close\n",
       "Date                                                 \n",
       "2019-01-02   1.5  1.5   1.5    1.5       0        1.5\n",
       "2019-01-03   1.5  1.5   1.5    1.5       0        1.5"
      ]
     },
     "execution_count": 38,
     "metadata": {},
     "output_type": "execute_result"
    }
   ],
   "source": [
    "TLSS_data_2019.head(2)"
   ]
  },
  {
   "cell_type": "code",
   "execution_count": 39,
   "metadata": {},
   "outputs": [
    {
     "data": {
      "text/html": [
       "<div>\n",
       "<style scoped>\n",
       "    .dataframe tbody tr th:only-of-type {\n",
       "        vertical-align: middle;\n",
       "    }\n",
       "\n",
       "    .dataframe tbody tr th {\n",
       "        vertical-align: top;\n",
       "    }\n",
       "\n",
       "    .dataframe thead th {\n",
       "        text-align: right;\n",
       "    }\n",
       "</style>\n",
       "<table border=\"1\" class=\"dataframe\">\n",
       "  <thead>\n",
       "    <tr style=\"text-align: right;\">\n",
       "      <th></th>\n",
       "      <th>High</th>\n",
       "      <th>Low</th>\n",
       "      <th>Open</th>\n",
       "      <th>Close</th>\n",
       "      <th>Volume</th>\n",
       "      <th>Adj Close</th>\n",
       "    </tr>\n",
       "    <tr>\n",
       "      <th>Date</th>\n",
       "      <th></th>\n",
       "      <th></th>\n",
       "      <th></th>\n",
       "      <th></th>\n",
       "      <th></th>\n",
       "      <th></th>\n",
       "    </tr>\n",
       "  </thead>\n",
       "  <tbody>\n",
       "    <tr>\n",
       "      <th>2020-01-02</th>\n",
       "      <td>8.0</td>\n",
       "      <td>8.0</td>\n",
       "      <td>8.0</td>\n",
       "      <td>8.0</td>\n",
       "      <td>0</td>\n",
       "      <td>8.0</td>\n",
       "    </tr>\n",
       "    <tr>\n",
       "      <th>2020-01-03</th>\n",
       "      <td>8.0</td>\n",
       "      <td>8.0</td>\n",
       "      <td>8.0</td>\n",
       "      <td>8.0</td>\n",
       "      <td>0</td>\n",
       "      <td>8.0</td>\n",
       "    </tr>\n",
       "  </tbody>\n",
       "</table>\n",
       "</div>"
      ],
      "text/plain": [
       "            High  Low  Open  Close  Volume  Adj Close\n",
       "Date                                                 \n",
       "2020-01-02   8.0  8.0   8.0    8.0       0        8.0\n",
       "2020-01-03   8.0  8.0   8.0    8.0       0        8.0"
      ]
     },
     "execution_count": 39,
     "metadata": {},
     "output_type": "execute_result"
    }
   ],
   "source": [
    "TLSS_data_2020.head(2)"
   ]
  },
  {
   "cell_type": "markdown",
   "metadata": {},
   "source": [
    "Transportation and Logistics Systems, Inc. provides tractor-trailer and box truck deliveries of packages on the east coast of the United States. The company offers package delivery services primarily in New York, New Jersey, Pennsylvania, Georgia, Florida, Ohio, and Tennessee, principally for Amazon and its customers, and for other customers. It also provides various logistics services to Amazon and storage solutions for Amazon's customers with limited storage facilities. The company is based in Jupiter, Florida.\n",
    "\n",
    "As per records:- \n",
    "Revenue for the year ended December 31, 2019 increased  dollar 17,736,000.\n",
    "\n",
    "TLSS recorded a loss from discontinued operations of $681,000 as compared to income from discontinued operations of dollar 100,000 for the same period in 2018.\n",
    "\n",
    "First quarter revenues for the period ended March 31, 2020 increased by approximately $2.8 million,but after that in Q2,Q3, and Q4 revenues constantly less.\n",
    "\n"
   ]
  },
  {
   "cell_type": "code",
   "execution_count": 40,
   "metadata": {},
   "outputs": [
    {
     "data": {
      "text/plain": [
       "<matplotlib.legend.Legend at 0x2bf34d16ca0>"
      ]
     },
     "execution_count": 40,
     "metadata": {},
     "output_type": "execute_result"
    },
    {
     "data": {
      "image/png": "[encoded data removed]",
      "text/plain": [
       "<Figure size 432x288 with 1 Axes>"
      ]
     },
     "metadata": {
      "needs_background": "light"
     },
     "output_type": "display_data"
    }
   ],
   "source": [
    "TLSS_data_2019['Close'].plot()\n",
    "TLSS_data_2020['Close'].plot()\n",
    "plt.legend()"
   ]
  },
  {
   "cell_type": "code",
   "execution_count": 41,
   "metadata": {},
   "outputs": [],
   "source": [
    "### J.B. Hunt Transport Services, Inc. (JBHT)\n",
    "\n",
    "JBHT_data_2019 = data.DataReader('JBHT','yahoo' ,start=pd.to_datetime('2019-01-01'), end=pd.to_datetime('2019-12-31'))\n",
    "JBHT_data_2020 = data.DataReader('JBHT','yahoo' ,start=pd.to_datetime('2020-01-01'), end=pd.to_datetime('2020-12-31'))"
   ]
  },
  {
   "cell_type": "code",
   "execution_count": 42,
   "metadata": {},
   "outputs": [
    {
     "data": {
      "text/html": [
       "<div>\n",
       "<style scoped>\n",
       "    .dataframe tbody tr th:only-of-type {\n",
       "        vertical-align: middle;\n",
       "    }\n",
       "\n",
       "    .dataframe tbody tr th {\n",
       "        vertical-align: top;\n",
       "    }\n",
       "\n",
       "    .dataframe thead th {\n",
       "        text-align: right;\n",
       "    }\n",
       "</style>\n",
       "<table border=\"1\" class=\"dataframe\">\n",
       "  <thead>\n",
       "    <tr style=\"text-align: right;\">\n",
       "      <th></th>\n",
       "      <th>High</th>\n",
       "      <th>Low</th>\n",
       "      <th>Open</th>\n",
       "      <th>Close</th>\n",
       "      <th>Volume</th>\n",
       "      <th>Adj Close</th>\n",
       "    </tr>\n",
       "    <tr>\n",
       "      <th>Date</th>\n",
       "      <th></th>\n",
       "      <th></th>\n",
       "      <th></th>\n",
       "      <th></th>\n",
       "      <th></th>\n",
       "      <th></th>\n",
       "    </tr>\n",
       "  </thead>\n",
       "  <tbody>\n",
       "    <tr>\n",
       "      <th>2019-01-02</th>\n",
       "      <td>94.269997</td>\n",
       "      <td>91.330002</td>\n",
       "      <td>91.500000</td>\n",
       "      <td>93.239998</td>\n",
       "      <td>937000.0</td>\n",
       "      <td>91.277054</td>\n",
       "    </tr>\n",
       "    <tr>\n",
       "      <th>2019-01-03</th>\n",
       "      <td>92.860001</td>\n",
       "      <td>90.599998</td>\n",
       "      <td>92.379997</td>\n",
       "      <td>90.889999</td>\n",
       "      <td>662200.0</td>\n",
       "      <td>88.976524</td>\n",
       "    </tr>\n",
       "  </tbody>\n",
       "</table>\n",
       "</div>"
      ],
      "text/plain": [
       "                 High        Low       Open      Close    Volume  Adj Close\n",
       "Date                                                                       \n",
       "2019-01-02  94.269997  91.330002  91.500000  93.239998  937000.0  91.277054\n",
       "2019-01-03  92.860001  90.599998  92.379997  90.889999  662200.0  88.976524"
      ]
     },
     "execution_count": 42,
     "metadata": {},
     "output_type": "execute_result"
    }
   ],
   "source": [
    "JBHT_data_2019.head(2)"
   ]
  },
  {
   "cell_type": "code",
   "execution_count": 43,
   "metadata": {},
   "outputs": [
    {
     "data": {
      "text/html": [
       "<div>\n",
       "<style scoped>\n",
       "    .dataframe tbody tr th:only-of-type {\n",
       "        vertical-align: middle;\n",
       "    }\n",
       "\n",
       "    .dataframe tbody tr th {\n",
       "        vertical-align: top;\n",
       "    }\n",
       "\n",
       "    .dataframe thead th {\n",
       "        text-align: right;\n",
       "    }\n",
       "</style>\n",
       "<table border=\"1\" class=\"dataframe\">\n",
       "  <thead>\n",
       "    <tr style=\"text-align: right;\">\n",
       "      <th></th>\n",
       "      <th>High</th>\n",
       "      <th>Low</th>\n",
       "      <th>Open</th>\n",
       "      <th>Close</th>\n",
       "      <th>Volume</th>\n",
       "      <th>Adj Close</th>\n",
       "    </tr>\n",
       "    <tr>\n",
       "      <th>Date</th>\n",
       "      <th></th>\n",
       "      <th></th>\n",
       "      <th></th>\n",
       "      <th></th>\n",
       "      <th></th>\n",
       "      <th></th>\n",
       "    </tr>\n",
       "  </thead>\n",
       "  <tbody>\n",
       "    <tr>\n",
       "      <th>2020-01-02</th>\n",
       "      <td>117.989998</td>\n",
       "      <td>116.440002</td>\n",
       "      <td>117.900002</td>\n",
       "      <td>117.519997</td>\n",
       "      <td>623100.0</td>\n",
       "      <td>116.195808</td>\n",
       "    </tr>\n",
       "    <tr>\n",
       "      <th>2020-01-03</th>\n",
       "      <td>117.209999</td>\n",
       "      <td>115.849998</td>\n",
       "      <td>115.849998</td>\n",
       "      <td>117.029999</td>\n",
       "      <td>535200.0</td>\n",
       "      <td>115.711327</td>\n",
       "    </tr>\n",
       "  </tbody>\n",
       "</table>\n",
       "</div>"
      ],
      "text/plain": [
       "                  High         Low        Open       Close    Volume  \\\n",
       "Date                                                                   \n",
       "2020-01-02  117.989998  116.440002  117.900002  117.519997  623100.0   \n",
       "2020-01-03  117.209999  115.849998  115.849998  117.029999  535200.0   \n",
       "\n",
       "             Adj Close  \n",
       "Date                    \n",
       "2020-01-02  116.195808  \n",
       "2020-01-03  115.711327  "
      ]
     },
     "execution_count": 43,
     "metadata": {},
     "output_type": "execute_result"
    }
   ],
   "source": [
    "JBHT_data_2020.head(2)"
   ]
  },
  {
   "cell_type": "markdown",
   "metadata": {},
   "source": [
    "J.B. Hunt Transport Services, Inc., together with its subsidiaries, provides surface transportation and delivery services in the continental United States, Canada, and Mexico. It operates in four segments: Intermodal (JBI), Dedicated Contract Services (DCS), Integrated Capacity Solutions (ICS), and Truckload (JBT). The JBI segment offers intermodal freight solutions, including origin and destination pickup, and delivery services\n",
    "\n",
    "As per records:- JBHT announced fourth quarter 2019 net earnings of dollar 144.7 million and third quarter 2020 net earnings of $125.5 million and in  fourth quarter 2020 net earnings of  dollar 154.0 million."
   ]
  },
  {
   "cell_type": "code",
   "execution_count": 44,
   "metadata": {},
   "outputs": [
    {
     "data": {
      "text/plain": [
       "<matplotlib.legend.Legend at 0x2bf34c33fd0>"
      ]
     },
     "execution_count": 44,
     "metadata": {},
     "output_type": "execute_result"
    },
    {
     "data": {
      "image/png": "[encoded data removed]",
      "text/plain": [
       "<Figure size 432x288 with 1 Axes>"
      ]
     },
     "metadata": {
      "needs_background": "light"
     },
     "output_type": "display_data"
    }
   ],
   "source": [
    "JBHT_data_2019['Close'].plot()\n",
    "JBHT_data_2020['Close'].plot()\n",
    "plt.legend()"
   ]
  },
  {
   "cell_type": "code",
   "execution_count": 45,
   "metadata": {},
   "outputs": [],
   "source": [
    "#### American Airlines Group Inc. (AAL)\n",
    "\n",
    "AAL_data_2019 = data.DataReader('AAL','yahoo' ,start=pd.to_datetime('2019-01-01'), end=pd.to_datetime('2019-12-31'))\n",
    "AAL_data_2020 = data.DataReader('AAL','yahoo' ,start=pd.to_datetime('2020-01-01'), end=pd.to_datetime('2020-12-31'))\n"
   ]
  },
  {
   "cell_type": "code",
   "execution_count": 46,
   "metadata": {},
   "outputs": [
    {
     "data": {
      "text/html": [
       "<div>\n",
       "<style scoped>\n",
       "    .dataframe tbody tr th:only-of-type {\n",
       "        vertical-align: middle;\n",
       "    }\n",
       "\n",
       "    .dataframe tbody tr th {\n",
       "        vertical-align: top;\n",
       "    }\n",
       "\n",
       "    .dataframe thead th {\n",
       "        text-align: right;\n",
       "    }\n",
       "</style>\n",
       "<table border=\"1\" class=\"dataframe\">\n",
       "  <thead>\n",
       "    <tr style=\"text-align: right;\">\n",
       "      <th></th>\n",
       "      <th>High</th>\n",
       "      <th>Low</th>\n",
       "      <th>Open</th>\n",
       "      <th>Close</th>\n",
       "      <th>Volume</th>\n",
       "      <th>Adj Close</th>\n",
       "    </tr>\n",
       "    <tr>\n",
       "      <th>Date</th>\n",
       "      <th></th>\n",
       "      <th></th>\n",
       "      <th></th>\n",
       "      <th></th>\n",
       "      <th></th>\n",
       "      <th></th>\n",
       "    </tr>\n",
       "  </thead>\n",
       "  <tbody>\n",
       "    <tr>\n",
       "      <th>2019-01-02</th>\n",
       "      <td>32.650002</td>\n",
       "      <td>31.049999</td>\n",
       "      <td>31.459999</td>\n",
       "      <td>32.480000</td>\n",
       "      <td>5229500.0</td>\n",
       "      <td>31.963160</td>\n",
       "    </tr>\n",
       "    <tr>\n",
       "      <th>2019-01-03</th>\n",
       "      <td>31.850000</td>\n",
       "      <td>28.809999</td>\n",
       "      <td>31.690001</td>\n",
       "      <td>30.059999</td>\n",
       "      <td>16822000.0</td>\n",
       "      <td>29.581665</td>\n",
       "    </tr>\n",
       "  </tbody>\n",
       "</table>\n",
       "</div>"
      ],
      "text/plain": [
       "                 High        Low       Open      Close      Volume  Adj Close\n",
       "Date                                                                         \n",
       "2019-01-02  32.650002  31.049999  31.459999  32.480000   5229500.0  31.963160\n",
       "2019-01-03  31.850000  28.809999  31.690001  30.059999  16822000.0  29.581665"
      ]
     },
     "execution_count": 46,
     "metadata": {},
     "output_type": "execute_result"
    }
   ],
   "source": [
    "AAL_data_2019.head(2)"
   ]
  },
  {
   "cell_type": "code",
   "execution_count": 47,
   "metadata": {},
   "outputs": [
    {
     "data": {
      "text/html": [
       "<div>\n",
       "<style scoped>\n",
       "    .dataframe tbody tr th:only-of-type {\n",
       "        vertical-align: middle;\n",
       "    }\n",
       "\n",
       "    .dataframe tbody tr th {\n",
       "        vertical-align: top;\n",
       "    }\n",
       "\n",
       "    .dataframe thead th {\n",
       "        text-align: right;\n",
       "    }\n",
       "</style>\n",
       "<table border=\"1\" class=\"dataframe\">\n",
       "  <thead>\n",
       "    <tr style=\"text-align: right;\">\n",
       "      <th></th>\n",
       "      <th>High</th>\n",
       "      <th>Low</th>\n",
       "      <th>Open</th>\n",
       "      <th>Close</th>\n",
       "      <th>Volume</th>\n",
       "      <th>Adj Close</th>\n",
       "    </tr>\n",
       "    <tr>\n",
       "      <th>Date</th>\n",
       "      <th></th>\n",
       "      <th></th>\n",
       "      <th></th>\n",
       "      <th></th>\n",
       "      <th></th>\n",
       "      <th></th>\n",
       "    </tr>\n",
       "  </thead>\n",
       "  <tbody>\n",
       "    <tr>\n",
       "      <th>2020-01-02</th>\n",
       "      <td>29.299999</td>\n",
       "      <td>28.65</td>\n",
       "      <td>28.98</td>\n",
       "      <td>29.09</td>\n",
       "      <td>6451100.0</td>\n",
       "      <td>28.982893</td>\n",
       "    </tr>\n",
       "    <tr>\n",
       "      <th>2020-01-03</th>\n",
       "      <td>28.290001</td>\n",
       "      <td>27.34</td>\n",
       "      <td>28.27</td>\n",
       "      <td>27.65</td>\n",
       "      <td>14008900.0</td>\n",
       "      <td>27.548195</td>\n",
       "    </tr>\n",
       "  </tbody>\n",
       "</table>\n",
       "</div>"
      ],
      "text/plain": [
       "                 High    Low   Open  Close      Volume  Adj Close\n",
       "Date                                                             \n",
       "2020-01-02  29.299999  28.65  28.98  29.09   6451100.0  28.982893\n",
       "2020-01-03  28.290001  27.34  28.27  27.65  14008900.0  27.548195"
      ]
     },
     "execution_count": 47,
     "metadata": {},
     "output_type": "execute_result"
    }
   ],
   "source": [
    "AAL_data_2020.head(2)"
   ]
  },
  {
   "cell_type": "markdown",
   "metadata": {},
   "source": [
    "American Airlines Group Inc., through its subsidiaries, operates as a network air carrier. It provides scheduled air transportation services for passengers and cargo. As of December 31, 2019, the company operated a mainline fleet of 942 aircraft.\n",
    "\n",
    "As per records:-  American Airlines' underlying financials may not make sense and market performance may not seem to make sense. After all, the stock declined -45% between 2017 and 2019, and has further dropped a massive -60% this year as a result of halted operations\n",
    "\n"
   ]
  },
  {
   "cell_type": "code",
   "execution_count": 48,
   "metadata": {},
   "outputs": [
    {
     "data": {
      "text/plain": [
       "<matplotlib.legend.Legend at 0x2bf34d7c2b0>"
      ]
     },
     "execution_count": 48,
     "metadata": {},
     "output_type": "execute_result"
    },
    {
     "data": {
      "image/png": "[encoded data removed]",
      "text/plain": [
       "<Figure size 432x288 with 1 Axes>"
      ]
     },
     "metadata": {
      "needs_background": "light"
     },
     "output_type": "display_data"
    }
   ],
   "source": [
    "AAL_data_2019['Close'].plot()\n",
    "AAL_data_2020['Close'].plot()\n",
    "plt.legend()"
   ]
  },
  {
   "cell_type": "markdown",
   "metadata": {},
   "source": [
    "##### Stocks which is affected by covid :\n",
    "1.Medtronic plc\n",
    "2.CVS Health\n",
    "3.Transportation and Logistics Systems, Inc.\n",
    "4.American Airlines Group Inc."
   ]
  },
  {
   "cell_type": "markdown",
   "metadata": {},
   "source": [
    "### If you like the work don't forget to upvote"
   ]
  }
 ],
 "metadata": {
  "kernelspec": {
   "display_name": "Python 3",
   "language": "python",
   "name": "python3"
  },
  "language_info": {
   "codemirror_mode": {
    "name": "ipython",
    "version": 3
   },
   "file_extension": ".py",
   "mimetype": "text/x-python",
   "name": "python",
   "nbconvert_exporter": "python",
   "pygments_lexer": "ipython3",
   "version": "3.8.5"
  }
 },
 "nbformat": 4,
 "nbformat_minor": 4
}
