{
 "cells": [
  {
   "cell_type": "markdown",
   "metadata": {},
   "source": [
    "# EDA - PART 2"
   ]
  },
  {
   "cell_type": "markdown",
   "metadata": {},
   "source": [
    "## Step — 1: Importing required Packages"
   ]
  },
  {
   "cell_type": "code",
   "execution_count": 1,
   "metadata": {},
   "outputs": [
    {
     "data": {
      "text/html": [
       "        <script type=\"text/javascript\">\n",
       "        window.PlotlyConfig = {MathJaxConfig: 'local'};\n",
       "        if (window.MathJax) {MathJax.Hub.Config({SVG: {font: \"STIX-Web\"}});}\n",
       "        if (typeof require !== 'undefined') {\n",
       "        require.undef(\"plotly\");\n",
       "        requirejs.config({\n",
       "            paths: {\n",
       "                'plotly': ['https://cdn.plot.ly/plotly-latest.min']\n",
       "            }\n",
       "        });\n",
       "        require(['plotly'], function(Plotly) {\n",
       "            window._Plotly = Plotly;\n",
       "        });\n",
       "        }\n",
       "        </script>\n",
       "        "
      ]
     },
     "metadata": {},
     "output_type": "display_data"
    }
   ],
   "source": [
    "import pandas as pd\n",
    "import matplotlib as plt\n",
    "import matplotlib.pyplot as plt\n",
    "import seaborn as sns\n",
    "%matplotlib inline\n",
    "import numpy as np \n",
    "import plotly \n",
    "import plotly.graph_objects as go \n",
    "import plotly.offline as pyo \n",
    "from plotly.offline import init_notebook_mode \n",
    "init_notebook_mode(connected = True) \n",
    "from IPython.display import clear_output\n",
    "import matplotlib.pyplot as plot\n",
    "import plotly.express as px\n",
    "\n",
    "from plotly.subplots import make_subplots\n",
    "from plotly.offline import download_plotlyjs, init_notebook_mode, plot, iplot\n",
    "\n",
    "import warnings\n",
    "warnings.filterwarnings(\"ignore\")"
   ]
  },
  {
   "cell_type": "markdown",
   "metadata": {},
   "source": [
    "## Step — 2: Reading the csv file"
   ]
  },
  {
   "cell_type": "code",
   "execution_count": 2,
   "metadata": {},
   "outputs": [
    {
     "data": {
      "text/html": [
       "<div>\n",
       "<style scoped>\n",
       "    .dataframe tbody tr th:only-of-type {\n",
       "        vertical-align: middle;\n",
       "    }\n",
       "\n",
       "    .dataframe tbody tr th {\n",
       "        vertical-align: top;\n",
       "    }\n",
       "\n",
       "    .dataframe thead th {\n",
       "        text-align: right;\n",
       "    }\n",
       "</style>\n",
       "<table border=\"1\" class=\"dataframe\">\n",
       "  <thead>\n",
       "    <tr style=\"text-align: right;\">\n",
       "      <th></th>\n",
       "      <th>Date</th>\n",
       "      <th>Country/Region</th>\n",
       "      <th>Province/State</th>\n",
       "      <th>Confirmed</th>\n",
       "      <th>Recovered</th>\n",
       "      <th>Deaths</th>\n",
       "    </tr>\n",
       "  </thead>\n",
       "  <tbody>\n",
       "    <tr>\n",
       "      <th>0</th>\n",
       "      <td>2020-01-22</td>\n",
       "      <td>Afghanistan</td>\n",
       "      <td>NaN</td>\n",
       "      <td>0</td>\n",
       "      <td>0.0</td>\n",
       "      <td>0</td>\n",
       "    </tr>\n",
       "    <tr>\n",
       "      <th>1</th>\n",
       "      <td>2020-01-23</td>\n",
       "      <td>Afghanistan</td>\n",
       "      <td>NaN</td>\n",
       "      <td>0</td>\n",
       "      <td>0.0</td>\n",
       "      <td>0</td>\n",
       "    </tr>\n",
       "    <tr>\n",
       "      <th>2</th>\n",
       "      <td>2020-01-24</td>\n",
       "      <td>Afghanistan</td>\n",
       "      <td>NaN</td>\n",
       "      <td>0</td>\n",
       "      <td>0.0</td>\n",
       "      <td>0</td>\n",
       "    </tr>\n",
       "    <tr>\n",
       "      <th>3</th>\n",
       "      <td>2020-01-25</td>\n",
       "      <td>Afghanistan</td>\n",
       "      <td>NaN</td>\n",
       "      <td>0</td>\n",
       "      <td>0.0</td>\n",
       "      <td>0</td>\n",
       "    </tr>\n",
       "    <tr>\n",
       "      <th>4</th>\n",
       "      <td>2020-01-26</td>\n",
       "      <td>Afghanistan</td>\n",
       "      <td>NaN</td>\n",
       "      <td>0</td>\n",
       "      <td>0.0</td>\n",
       "      <td>0</td>\n",
       "    </tr>\n",
       "  </tbody>\n",
       "</table>\n",
       "</div>"
      ],
      "text/plain": [
       "         Date Country/Region Province/State  Confirmed  Recovered  Deaths\n",
       "0  2020-01-22    Afghanistan            NaN          0        0.0       0\n",
       "1  2020-01-23    Afghanistan            NaN          0        0.0       0\n",
       "2  2020-01-24    Afghanistan            NaN          0        0.0       0\n",
       "3  2020-01-25    Afghanistan            NaN          0        0.0       0\n",
       "4  2020-01-26    Afghanistan            NaN          0        0.0       0"
      ]
     },
     "execution_count": 2,
     "metadata": {},
     "output_type": "execute_result"
    }
   ],
   "source": [
    "data=pd.read_csv(\"time-series-19-covid-combined.csv\")\n",
    "data.head()"
   ]
  },
  {
   "cell_type": "code",
   "execution_count": 3,
   "metadata": {},
   "outputs": [
    {
     "data": {
      "text/plain": [
       "(84823, 6)"
      ]
     },
     "execution_count": 3,
     "metadata": {},
     "output_type": "execute_result"
    }
   ],
   "source": [
    "data.shape"
   ]
  },
  {
   "cell_type": "code",
   "execution_count": 4,
   "metadata": {},
   "outputs": [
    {
     "data": {
      "text/html": [
       "<div>\n",
       "<style scoped>\n",
       "    .dataframe tbody tr th:only-of-type {\n",
       "        vertical-align: middle;\n",
       "    }\n",
       "\n",
       "    .dataframe tbody tr th {\n",
       "        vertical-align: top;\n",
       "    }\n",
       "\n",
       "    .dataframe thead th {\n",
       "        text-align: right;\n",
       "    }\n",
       "</style>\n",
       "<table border=\"1\" class=\"dataframe\">\n",
       "  <thead>\n",
       "    <tr style=\"text-align: right;\">\n",
       "      <th></th>\n",
       "      <th>Date</th>\n",
       "      <th>Country/Region</th>\n",
       "      <th>Province/State</th>\n",
       "      <th>Confirmed</th>\n",
       "      <th>Recovered</th>\n",
       "      <th>Deaths</th>\n",
       "    </tr>\n",
       "  </thead>\n",
       "  <tbody>\n",
       "    <tr>\n",
       "      <th>84818</th>\n",
       "      <td>2020-11-25</td>\n",
       "      <td>Zimbabwe</td>\n",
       "      <td>NaN</td>\n",
       "      <td>9508</td>\n",
       "      <td>8336.0</td>\n",
       "      <td>274</td>\n",
       "    </tr>\n",
       "    <tr>\n",
       "      <th>84819</th>\n",
       "      <td>2020-11-26</td>\n",
       "      <td>Zimbabwe</td>\n",
       "      <td>NaN</td>\n",
       "      <td>9623</td>\n",
       "      <td>8397.0</td>\n",
       "      <td>274</td>\n",
       "    </tr>\n",
       "    <tr>\n",
       "      <th>84820</th>\n",
       "      <td>2020-11-27</td>\n",
       "      <td>Zimbabwe</td>\n",
       "      <td>NaN</td>\n",
       "      <td>9714</td>\n",
       "      <td>8470.0</td>\n",
       "      <td>275</td>\n",
       "    </tr>\n",
       "    <tr>\n",
       "      <th>84821</th>\n",
       "      <td>2020-11-28</td>\n",
       "      <td>Zimbabwe</td>\n",
       "      <td>NaN</td>\n",
       "      <td>9822</td>\n",
       "      <td>8472.0</td>\n",
       "      <td>275</td>\n",
       "    </tr>\n",
       "    <tr>\n",
       "      <th>84822</th>\n",
       "      <td>2020-11-29</td>\n",
       "      <td>Zimbabwe</td>\n",
       "      <td>NaN</td>\n",
       "      <td>9822</td>\n",
       "      <td>8472.0</td>\n",
       "      <td>275</td>\n",
       "    </tr>\n",
       "  </tbody>\n",
       "</table>\n",
       "</div>"
      ],
      "text/plain": [
       "             Date Country/Region Province/State  Confirmed  Recovered  Deaths\n",
       "84818  2020-11-25       Zimbabwe            NaN       9508     8336.0     274\n",
       "84819  2020-11-26       Zimbabwe            NaN       9623     8397.0     274\n",
       "84820  2020-11-27       Zimbabwe            NaN       9714     8470.0     275\n",
       "84821  2020-11-28       Zimbabwe            NaN       9822     8472.0     275\n",
       "84822  2020-11-29       Zimbabwe            NaN       9822     8472.0     275"
      ]
     },
     "execution_count": 4,
     "metadata": {},
     "output_type": "execute_result"
    }
   ],
   "source": [
    "data.tail()"
   ]
  },
  {
   "cell_type": "code",
   "execution_count": 5,
   "metadata": {},
   "outputs": [
    {
     "data": {
      "text/plain": [
       "191"
      ]
     },
     "execution_count": 5,
     "metadata": {},
     "output_type": "execute_result"
    }
   ],
   "source": [
    "data['Country/Region'].nunique()"
   ]
  },
  {
   "cell_type": "code",
   "execution_count": 6,
   "metadata": {},
   "outputs": [
    {
     "data": {
      "text/plain": [
       "array([nan, 'Australian Capital Territory', 'New South Wales',\n",
       "       'Northern Territory', 'Queensland', 'South Australia', 'Tasmania',\n",
       "       'Victoria', 'Western Australia', 'Alberta', 'British Columbia',\n",
       "       'Diamond Princess', 'Grand Princess', 'Manitoba', 'New Brunswick',\n",
       "       'Newfoundland and Labrador', 'Northwest Territories',\n",
       "       'Nova Scotia', 'Nunavut', 'Ontario', 'Prince Edward Island',\n",
       "       'Quebec', 'Repatriated Travellers', 'Saskatchewan', 'Yukon',\n",
       "       'Anhui', 'Beijing', 'Chongqing', 'Fujian', 'Gansu', 'Guangdong',\n",
       "       'Guangxi', 'Guizhou', 'Hainan', 'Hebei', 'Heilongjiang', 'Henan',\n",
       "       'Hong Kong', 'Hubei', 'Hunan', 'Inner Mongolia', 'Jiangsu',\n",
       "       'Jiangxi', 'Jilin', 'Liaoning', 'Macau', 'Ningxia', 'Qinghai',\n",
       "       'Shaanxi', 'Shandong', 'Shanghai', 'Shanxi', 'Sichuan', 'Tianjin',\n",
       "       'Tibet', 'Xinjiang', 'Yunnan', 'Zhejiang', 'Faroe Islands',\n",
       "       'Greenland', 'French Guiana', 'French Polynesia', 'Guadeloupe',\n",
       "       'Martinique', 'Mayotte', 'New Caledonia', 'Reunion',\n",
       "       'Saint Barthelemy', 'Saint Pierre and Miquelon', 'St Martin',\n",
       "       'Aruba', 'Bonaire, Sint Eustatius and Saba', 'Curacao',\n",
       "       'Sint Maarten', 'Anguilla', 'Bermuda', 'British Virgin Islands',\n",
       "       'Cayman Islands', 'Channel Islands', 'Falkland Islands (Malvinas)',\n",
       "       'Gibraltar', 'Isle of Man', 'Montserrat',\n",
       "       'Turks and Caicos Islands'], dtype=object)"
      ]
     },
     "execution_count": 6,
     "metadata": {},
     "output_type": "execute_result"
    }
   ],
   "source": [
    "data['Province/State'].unique()"
   ]
  },
  {
   "cell_type": "code",
   "execution_count": 7,
   "metadata": {},
   "outputs": [
    {
     "data": {
      "text/html": [
       "<div>\n",
       "<style scoped>\n",
       "    .dataframe tbody tr th:only-of-type {\n",
       "        vertical-align: middle;\n",
       "    }\n",
       "\n",
       "    .dataframe tbody tr th {\n",
       "        vertical-align: top;\n",
       "    }\n",
       "\n",
       "    .dataframe thead th {\n",
       "        text-align: right;\n",
       "    }\n",
       "</style>\n",
       "<table border=\"1\" class=\"dataframe\">\n",
       "  <thead>\n",
       "    <tr style=\"text-align: right;\">\n",
       "      <th></th>\n",
       "      <th>Date</th>\n",
       "      <th>Country/Region</th>\n",
       "      <th>State</th>\n",
       "      <th>Confirmed</th>\n",
       "      <th>Recovered</th>\n",
       "      <th>Deaths</th>\n",
       "    </tr>\n",
       "  </thead>\n",
       "  <tbody>\n",
       "    <tr>\n",
       "      <th>0</th>\n",
       "      <td>2020-01-22</td>\n",
       "      <td>Afghanistan</td>\n",
       "      <td>NaN</td>\n",
       "      <td>0</td>\n",
       "      <td>0.0</td>\n",
       "      <td>0</td>\n",
       "    </tr>\n",
       "    <tr>\n",
       "      <th>1</th>\n",
       "      <td>2020-01-23</td>\n",
       "      <td>Afghanistan</td>\n",
       "      <td>NaN</td>\n",
       "      <td>0</td>\n",
       "      <td>0.0</td>\n",
       "      <td>0</td>\n",
       "    </tr>\n",
       "    <tr>\n",
       "      <th>2</th>\n",
       "      <td>2020-01-24</td>\n",
       "      <td>Afghanistan</td>\n",
       "      <td>NaN</td>\n",
       "      <td>0</td>\n",
       "      <td>0.0</td>\n",
       "      <td>0</td>\n",
       "    </tr>\n",
       "    <tr>\n",
       "      <th>3</th>\n",
       "      <td>2020-01-25</td>\n",
       "      <td>Afghanistan</td>\n",
       "      <td>NaN</td>\n",
       "      <td>0</td>\n",
       "      <td>0.0</td>\n",
       "      <td>0</td>\n",
       "    </tr>\n",
       "    <tr>\n",
       "      <th>4</th>\n",
       "      <td>2020-01-26</td>\n",
       "      <td>Afghanistan</td>\n",
       "      <td>NaN</td>\n",
       "      <td>0</td>\n",
       "      <td>0.0</td>\n",
       "      <td>0</td>\n",
       "    </tr>\n",
       "    <tr>\n",
       "      <th>...</th>\n",
       "      <td>...</td>\n",
       "      <td>...</td>\n",
       "      <td>...</td>\n",
       "      <td>...</td>\n",
       "      <td>...</td>\n",
       "      <td>...</td>\n",
       "    </tr>\n",
       "    <tr>\n",
       "      <th>84818</th>\n",
       "      <td>2020-11-25</td>\n",
       "      <td>Zimbabwe</td>\n",
       "      <td>NaN</td>\n",
       "      <td>9508</td>\n",
       "      <td>8336.0</td>\n",
       "      <td>274</td>\n",
       "    </tr>\n",
       "    <tr>\n",
       "      <th>84819</th>\n",
       "      <td>2020-11-26</td>\n",
       "      <td>Zimbabwe</td>\n",
       "      <td>NaN</td>\n",
       "      <td>9623</td>\n",
       "      <td>8397.0</td>\n",
       "      <td>274</td>\n",
       "    </tr>\n",
       "    <tr>\n",
       "      <th>84820</th>\n",
       "      <td>2020-11-27</td>\n",
       "      <td>Zimbabwe</td>\n",
       "      <td>NaN</td>\n",
       "      <td>9714</td>\n",
       "      <td>8470.0</td>\n",
       "      <td>275</td>\n",
       "    </tr>\n",
       "    <tr>\n",
       "      <th>84821</th>\n",
       "      <td>2020-11-28</td>\n",
       "      <td>Zimbabwe</td>\n",
       "      <td>NaN</td>\n",
       "      <td>9822</td>\n",
       "      <td>8472.0</td>\n",
       "      <td>275</td>\n",
       "    </tr>\n",
       "    <tr>\n",
       "      <th>84822</th>\n",
       "      <td>2020-11-29</td>\n",
       "      <td>Zimbabwe</td>\n",
       "      <td>NaN</td>\n",
       "      <td>9822</td>\n",
       "      <td>8472.0</td>\n",
       "      <td>275</td>\n",
       "    </tr>\n",
       "  </tbody>\n",
       "</table>\n",
       "<p>84823 rows × 6 columns</p>\n",
       "</div>"
      ],
      "text/plain": [
       "             Date Country/Region State  Confirmed  Recovered  Deaths\n",
       "0      2020-01-22    Afghanistan   NaN          0        0.0       0\n",
       "1      2020-01-23    Afghanistan   NaN          0        0.0       0\n",
       "2      2020-01-24    Afghanistan   NaN          0        0.0       0\n",
       "3      2020-01-25    Afghanistan   NaN          0        0.0       0\n",
       "4      2020-01-26    Afghanistan   NaN          0        0.0       0\n",
       "...           ...            ...   ...        ...        ...     ...\n",
       "84818  2020-11-25       Zimbabwe   NaN       9508     8336.0     274\n",
       "84819  2020-11-26       Zimbabwe   NaN       9623     8397.0     274\n",
       "84820  2020-11-27       Zimbabwe   NaN       9714     8470.0     275\n",
       "84821  2020-11-28       Zimbabwe   NaN       9822     8472.0     275\n",
       "84822  2020-11-29       Zimbabwe   NaN       9822     8472.0     275\n",
       "\n",
       "[84823 rows x 6 columns]"
      ]
     },
     "execution_count": 7,
     "metadata": {},
     "output_type": "execute_result"
    }
   ],
   "source": [
    "data = data.rename(columns={'Province/State':'State'})\n",
    "data"
   ]
  },
  {
   "cell_type": "code",
   "execution_count": 8,
   "metadata": {},
   "outputs": [
    {
     "data": {
      "text/html": [
       "<div>\n",
       "<style scoped>\n",
       "    .dataframe tbody tr th:only-of-type {\n",
       "        vertical-align: middle;\n",
       "    }\n",
       "\n",
       "    .dataframe tbody tr th {\n",
       "        vertical-align: top;\n",
       "    }\n",
       "\n",
       "    .dataframe thead th {\n",
       "        text-align: right;\n",
       "    }\n",
       "</style>\n",
       "<table border=\"1\" class=\"dataframe\">\n",
       "  <thead>\n",
       "    <tr style=\"text-align: right;\">\n",
       "      <th></th>\n",
       "      <th>Date</th>\n",
       "      <th>Country</th>\n",
       "      <th>State</th>\n",
       "      <th>Confirmed</th>\n",
       "      <th>Recovered</th>\n",
       "      <th>Deaths</th>\n",
       "    </tr>\n",
       "  </thead>\n",
       "  <tbody>\n",
       "    <tr>\n",
       "      <th>0</th>\n",
       "      <td>2020-01-22</td>\n",
       "      <td>Afghanistan</td>\n",
       "      <td>NaN</td>\n",
       "      <td>0</td>\n",
       "      <td>0.0</td>\n",
       "      <td>0</td>\n",
       "    </tr>\n",
       "    <tr>\n",
       "      <th>1</th>\n",
       "      <td>2020-01-23</td>\n",
       "      <td>Afghanistan</td>\n",
       "      <td>NaN</td>\n",
       "      <td>0</td>\n",
       "      <td>0.0</td>\n",
       "      <td>0</td>\n",
       "    </tr>\n",
       "    <tr>\n",
       "      <th>2</th>\n",
       "      <td>2020-01-24</td>\n",
       "      <td>Afghanistan</td>\n",
       "      <td>NaN</td>\n",
       "      <td>0</td>\n",
       "      <td>0.0</td>\n",
       "      <td>0</td>\n",
       "    </tr>\n",
       "    <tr>\n",
       "      <th>3</th>\n",
       "      <td>2020-01-25</td>\n",
       "      <td>Afghanistan</td>\n",
       "      <td>NaN</td>\n",
       "      <td>0</td>\n",
       "      <td>0.0</td>\n",
       "      <td>0</td>\n",
       "    </tr>\n",
       "    <tr>\n",
       "      <th>4</th>\n",
       "      <td>2020-01-26</td>\n",
       "      <td>Afghanistan</td>\n",
       "      <td>NaN</td>\n",
       "      <td>0</td>\n",
       "      <td>0.0</td>\n",
       "      <td>0</td>\n",
       "    </tr>\n",
       "    <tr>\n",
       "      <th>...</th>\n",
       "      <td>...</td>\n",
       "      <td>...</td>\n",
       "      <td>...</td>\n",
       "      <td>...</td>\n",
       "      <td>...</td>\n",
       "      <td>...</td>\n",
       "    </tr>\n",
       "    <tr>\n",
       "      <th>84818</th>\n",
       "      <td>2020-11-25</td>\n",
       "      <td>Zimbabwe</td>\n",
       "      <td>NaN</td>\n",
       "      <td>9508</td>\n",
       "      <td>8336.0</td>\n",
       "      <td>274</td>\n",
       "    </tr>\n",
       "    <tr>\n",
       "      <th>84819</th>\n",
       "      <td>2020-11-26</td>\n",
       "      <td>Zimbabwe</td>\n",
       "      <td>NaN</td>\n",
       "      <td>9623</td>\n",
       "      <td>8397.0</td>\n",
       "      <td>274</td>\n",
       "    </tr>\n",
       "    <tr>\n",
       "      <th>84820</th>\n",
       "      <td>2020-11-27</td>\n",
       "      <td>Zimbabwe</td>\n",
       "      <td>NaN</td>\n",
       "      <td>9714</td>\n",
       "      <td>8470.0</td>\n",
       "      <td>275</td>\n",
       "    </tr>\n",
       "    <tr>\n",
       "      <th>84821</th>\n",
       "      <td>2020-11-28</td>\n",
       "      <td>Zimbabwe</td>\n",
       "      <td>NaN</td>\n",
       "      <td>9822</td>\n",
       "      <td>8472.0</td>\n",
       "      <td>275</td>\n",
       "    </tr>\n",
       "    <tr>\n",
       "      <th>84822</th>\n",
       "      <td>2020-11-29</td>\n",
       "      <td>Zimbabwe</td>\n",
       "      <td>NaN</td>\n",
       "      <td>9822</td>\n",
       "      <td>8472.0</td>\n",
       "      <td>275</td>\n",
       "    </tr>\n",
       "  </tbody>\n",
       "</table>\n",
       "<p>84823 rows × 6 columns</p>\n",
       "</div>"
      ],
      "text/plain": [
       "             Date      Country State  Confirmed  Recovered  Deaths\n",
       "0      2020-01-22  Afghanistan   NaN          0        0.0       0\n",
       "1      2020-01-23  Afghanistan   NaN          0        0.0       0\n",
       "2      2020-01-24  Afghanistan   NaN          0        0.0       0\n",
       "3      2020-01-25  Afghanistan   NaN          0        0.0       0\n",
       "4      2020-01-26  Afghanistan   NaN          0        0.0       0\n",
       "...           ...          ...   ...        ...        ...     ...\n",
       "84818  2020-11-25     Zimbabwe   NaN       9508     8336.0     274\n",
       "84819  2020-11-26     Zimbabwe   NaN       9623     8397.0     274\n",
       "84820  2020-11-27     Zimbabwe   NaN       9714     8470.0     275\n",
       "84821  2020-11-28     Zimbabwe   NaN       9822     8472.0     275\n",
       "84822  2020-11-29     Zimbabwe   NaN       9822     8472.0     275\n",
       "\n",
       "[84823 rows x 6 columns]"
      ]
     },
     "execution_count": 8,
     "metadata": {},
     "output_type": "execute_result"
    }
   ],
   "source": [
    "# Rename columns\n",
    "data = data.rename(columns={'Country/Region':'Country'})\n",
    "data"
   ]
  },
  {
   "cell_type": "code",
   "execution_count": 9,
   "metadata": {},
   "outputs": [
    {
     "name": "stdout",
     "output_type": "stream",
     "text": [
      "The lowest date in the data set is 2020-01-22 and the highest 2020-11-29.\n"
     ]
    }
   ],
   "source": [
    "#check for data range in datasets\n",
    "\n",
    "print(\"The lowest date in the data set is {} and the highest {}.\".format(data['Date'].min(),data['Date'].max()))"
   ]
  },
  {
   "cell_type": "markdown",
   "metadata": {},
   "source": [
    "## Manipulate Dataframe"
   ]
  },
  {
   "cell_type": "code",
   "execution_count": 10,
   "metadata": {},
   "outputs": [],
   "source": [
    "df_countries = data.groupby(['Country', 'Date']).sum().reset_index().sort_values('Date', ascending=False)# Drop Duplicates\n",
    "\n",
    "# Filter by Confirmed number\n",
    "\n",
    "df_countries = df_countries.drop_duplicates(subset = ['Country'])\n",
    "df_countries = df_countries[df_countries['Confirmed']>0]"
   ]
  },
  {
   "cell_type": "code",
   "execution_count": 11,
   "metadata": {},
   "outputs": [
    {
     "data": {
      "text/html": [
       "<div>\n",
       "<style scoped>\n",
       "    .dataframe tbody tr th:only-of-type {\n",
       "        vertical-align: middle;\n",
       "    }\n",
       "\n",
       "    .dataframe tbody tr th {\n",
       "        vertical-align: top;\n",
       "    }\n",
       "\n",
       "    .dataframe thead th {\n",
       "        text-align: right;\n",
       "    }\n",
       "</style>\n",
       "<table border=\"1\" class=\"dataframe\">\n",
       "  <thead>\n",
       "    <tr style=\"text-align: right;\">\n",
       "      <th></th>\n",
       "      <th>Country</th>\n",
       "      <th>Date</th>\n",
       "      <th>Confirmed</th>\n",
       "      <th>Recovered</th>\n",
       "      <th>Deaths</th>\n",
       "    </tr>\n",
       "  </thead>\n",
       "  <tbody>\n",
       "    <tr>\n",
       "      <th>59782</th>\n",
       "      <td>Zimbabwe</td>\n",
       "      <td>2020-11-29</td>\n",
       "      <td>9822</td>\n",
       "      <td>8472.0</td>\n",
       "      <td>275</td>\n",
       "    </tr>\n",
       "    <tr>\n",
       "      <th>13458</th>\n",
       "      <td>Cote d'Ivoire</td>\n",
       "      <td>2020-11-29</td>\n",
       "      <td>21310</td>\n",
       "      <td>20947.0</td>\n",
       "      <td>131</td>\n",
       "    </tr>\n",
       "    <tr>\n",
       "      <th>29421</th>\n",
       "      <td>Kuwait</td>\n",
       "      <td>2020-11-29</td>\n",
       "      <td>142426</td>\n",
       "      <td>136413.0</td>\n",
       "      <td>878</td>\n",
       "    </tr>\n",
       "    <tr>\n",
       "      <th>30360</th>\n",
       "      <td>Latvia</td>\n",
       "      <td>2020-11-29</td>\n",
       "      <td>16975</td>\n",
       "      <td>1719.0</td>\n",
       "      <td>197</td>\n",
       "    </tr>\n",
       "    <tr>\n",
       "      <th>20657</th>\n",
       "      <td>Georgia</td>\n",
       "      <td>2020-11-29</td>\n",
       "      <td>132368</td>\n",
       "      <td>110049.0</td>\n",
       "      <td>1230</td>\n",
       "    </tr>\n",
       "    <tr>\n",
       "      <th>...</th>\n",
       "      <td>...</td>\n",
       "      <td>...</td>\n",
       "      <td>...</td>\n",
       "      <td>...</td>\n",
       "      <td>...</td>\n",
       "    </tr>\n",
       "    <tr>\n",
       "      <th>45384</th>\n",
       "      <td>Saint Lucia</td>\n",
       "      <td>2020-11-29</td>\n",
       "      <td>257</td>\n",
       "      <td>109.0</td>\n",
       "      <td>2</td>\n",
       "    </tr>\n",
       "    <tr>\n",
       "      <th>21909</th>\n",
       "      <td>Grenada</td>\n",
       "      <td>2020-11-29</td>\n",
       "      <td>41</td>\n",
       "      <td>30.0</td>\n",
       "      <td>0</td>\n",
       "    </tr>\n",
       "    <tr>\n",
       "      <th>8137</th>\n",
       "      <td>Bulgaria</td>\n",
       "      <td>2020-11-29</td>\n",
       "      <td>142486</td>\n",
       "      <td>48594.0</td>\n",
       "      <td>3814</td>\n",
       "    </tr>\n",
       "    <tr>\n",
       "      <th>15023</th>\n",
       "      <td>Denmark</td>\n",
       "      <td>2020-11-29</td>\n",
       "      <td>79872</td>\n",
       "      <td>63030.0</td>\n",
       "      <td>829</td>\n",
       "    </tr>\n",
       "    <tr>\n",
       "      <th>26604</th>\n",
       "      <td>Israel</td>\n",
       "      <td>2020-11-29</td>\n",
       "      <td>335598</td>\n",
       "      <td>323067.0</td>\n",
       "      <td>2864</td>\n",
       "    </tr>\n",
       "  </tbody>\n",
       "</table>\n",
       "<p>191 rows × 5 columns</p>\n",
       "</div>"
      ],
      "text/plain": [
       "             Country        Date  Confirmed  Recovered  Deaths\n",
       "59782       Zimbabwe  2020-11-29       9822     8472.0     275\n",
       "13458  Cote d'Ivoire  2020-11-29      21310    20947.0     131\n",
       "29421         Kuwait  2020-11-29     142426   136413.0     878\n",
       "30360         Latvia  2020-11-29      16975     1719.0     197\n",
       "20657        Georgia  2020-11-29     132368   110049.0    1230\n",
       "...              ...         ...        ...        ...     ...\n",
       "45384    Saint Lucia  2020-11-29        257      109.0       2\n",
       "21909        Grenada  2020-11-29         41       30.0       0\n",
       "8137        Bulgaria  2020-11-29     142486    48594.0    3814\n",
       "15023        Denmark  2020-11-29      79872    63030.0     829\n",
       "26604         Israel  2020-11-29     335598   323067.0    2864\n",
       "\n",
       "[191 rows x 5 columns]"
      ]
     },
     "execution_count": 11,
     "metadata": {},
     "output_type": "execute_result"
    }
   ],
   "source": [
    "df_countries "
   ]
  },
  {
   "cell_type": "code",
   "execution_count": 12,
   "metadata": {},
   "outputs": [
    {
     "data": {
      "text/html": [
       "<div>\n",
       "<style scoped>\n",
       "    .dataframe tbody tr th:only-of-type {\n",
       "        vertical-align: middle;\n",
       "    }\n",
       "\n",
       "    .dataframe tbody tr th {\n",
       "        vertical-align: top;\n",
       "    }\n",
       "\n",
       "    .dataframe thead th {\n",
       "        text-align: right;\n",
       "    }\n",
       "</style>\n",
       "<table border=\"1\" class=\"dataframe\">\n",
       "  <thead>\n",
       "    <tr style=\"text-align: right;\">\n",
       "      <th></th>\n",
       "      <th>Country</th>\n",
       "      <th>Date</th>\n",
       "      <th>Confirmed</th>\n",
       "      <th>Recovered</th>\n",
       "      <th>Deaths</th>\n",
       "    </tr>\n",
       "  </thead>\n",
       "  <tbody>\n",
       "    <tr>\n",
       "      <th>14397</th>\n",
       "      <td>Cyprus</td>\n",
       "      <td>2020-11-29</td>\n",
       "      <td>10383</td>\n",
       "      <td>2057.0</td>\n",
       "      <td>48</td>\n",
       "    </tr>\n",
       "    <tr>\n",
       "      <th>15336</th>\n",
       "      <td>Diamond Princess</td>\n",
       "      <td>2020-11-29</td>\n",
       "      <td>712</td>\n",
       "      <td>659.0</td>\n",
       "      <td>13</td>\n",
       "    </tr>\n",
       "    <tr>\n",
       "      <th>44445</th>\n",
       "      <td>Russia</td>\n",
       "      <td>2020-11-29</td>\n",
       "      <td>2249890</td>\n",
       "      <td>1746279.0</td>\n",
       "      <td>39127</td>\n",
       "    </tr>\n",
       "    <tr>\n",
       "      <th>56652</th>\n",
       "      <td>United Kingdom</td>\n",
       "      <td>2020-11-29</td>\n",
       "      <td>1621305</td>\n",
       "      <td>3514.0</td>\n",
       "      <td>58342</td>\n",
       "    </tr>\n",
       "    <tr>\n",
       "      <th>44758</th>\n",
       "      <td>Rwanda</td>\n",
       "      <td>2020-11-29</td>\n",
       "      <td>5919</td>\n",
       "      <td>5480.0</td>\n",
       "      <td>48</td>\n",
       "    </tr>\n",
       "    <tr>\n",
       "      <th>45384</th>\n",
       "      <td>Saint Lucia</td>\n",
       "      <td>2020-11-29</td>\n",
       "      <td>257</td>\n",
       "      <td>109.0</td>\n",
       "      <td>2</td>\n",
       "    </tr>\n",
       "    <tr>\n",
       "      <th>21909</th>\n",
       "      <td>Grenada</td>\n",
       "      <td>2020-11-29</td>\n",
       "      <td>41</td>\n",
       "      <td>30.0</td>\n",
       "      <td>0</td>\n",
       "    </tr>\n",
       "    <tr>\n",
       "      <th>8137</th>\n",
       "      <td>Bulgaria</td>\n",
       "      <td>2020-11-29</td>\n",
       "      <td>142486</td>\n",
       "      <td>48594.0</td>\n",
       "      <td>3814</td>\n",
       "    </tr>\n",
       "    <tr>\n",
       "      <th>15023</th>\n",
       "      <td>Denmark</td>\n",
       "      <td>2020-11-29</td>\n",
       "      <td>79872</td>\n",
       "      <td>63030.0</td>\n",
       "      <td>829</td>\n",
       "    </tr>\n",
       "    <tr>\n",
       "      <th>26604</th>\n",
       "      <td>Israel</td>\n",
       "      <td>2020-11-29</td>\n",
       "      <td>335598</td>\n",
       "      <td>323067.0</td>\n",
       "      <td>2864</td>\n",
       "    </tr>\n",
       "  </tbody>\n",
       "</table>\n",
       "</div>"
      ],
      "text/plain": [
       "                Country        Date  Confirmed  Recovered  Deaths\n",
       "14397            Cyprus  2020-11-29      10383     2057.0      48\n",
       "15336  Diamond Princess  2020-11-29        712      659.0      13\n",
       "44445            Russia  2020-11-29    2249890  1746279.0   39127\n",
       "56652    United Kingdom  2020-11-29    1621305     3514.0   58342\n",
       "44758            Rwanda  2020-11-29       5919     5480.0      48\n",
       "45384       Saint Lucia  2020-11-29        257      109.0       2\n",
       "21909           Grenada  2020-11-29         41       30.0       0\n",
       "8137           Bulgaria  2020-11-29     142486    48594.0    3814\n",
       "15023           Denmark  2020-11-29      79872    63030.0     829\n",
       "26604            Israel  2020-11-29     335598   323067.0    2864"
      ]
     },
     "execution_count": 12,
     "metadata": {},
     "output_type": "execute_result"
    }
   ],
   "source": [
    "df_countries.tail(10)"
   ]
  },
  {
   "cell_type": "markdown",
   "metadata": {},
   "source": [
    "# Creating the Choropleth visualization"
   ]
  },
  {
   "cell_type": "code",
   "execution_count": 13,
   "metadata": {},
   "outputs": [
    {
     "data": {
      "application/vnd.plotly.v1+json": {
       "config": {
        "plotlyServerURL": "https://plot.ly"
       },
       "data": [
        {
         "colorscale": [
          [
           0,
           "rgb(255,245,240)"
          ],
          [
           0.125,
           "rgb(254,224,210)"
          ],
          [
           0.25,
           "rgb(252,187,161)"
          ],
          [
           0.375,
           "rgb(252,146,114)"
          ],
          [
           0.5,
           "rgb(251,106,74)"
          ],
          [
           0.625,
           "rgb(239,59,44)"
          ],
          [
           0.75,
           "rgb(203,24,29)"
          ],
          [
           0.875,
           "rgb(165,15,21)"
          ],
          [
           1,
           "rgb(103,0,13)"
          ]
         ],
         "locationmode": "country names",
         "locations": [
          "Zimbabwe",
          "Cote d'Ivoire",
          "Kuwait",
          "Latvia",
          "Georgia",
          "New Zealand",
          "Bosnia and Herzegovina",
          "Tajikistan",
          "Costa Rica",
          "Saudi Arabia",
          "Iran",
          "Maldives",
          "Sri Lanka",
          "Burundi",
          "Poland",
          "Ecuador",
          "Mongolia",
          "Uganda",
          "Bahrain",
          "Bangladesh",
          "Liechtenstein",
          "Jordan",
          "Spain",
          "Nicaragua",
          "Indonesia",
          "Mali",
          "Monaco",
          "Peru",
          "El Salvador",
          "Guyana",
          "Cabo Verde",
          "Egypt",
          "Congo (Kinshasa)",
          "Senegal",
          "US",
          "Liberia",
          "Kenya",
          "Luxembourg",
          "Philippines",
          "Guinea-Bissau",
          "Sao Tome and Principe",
          "Namibia",
          "Germany",
          "Bahamas",
          "Qatar",
          "Dominica",
          "Ghana",
          "Nepal",
          "Cuba",
          "Saint Vincent and the Grenadines",
          "Suriname",
          "Burkina Faso",
          "Ireland",
          "Malawi",
          "Brazil",
          "Romania",
          "Djibouti",
          "Syria",
          "United Arab Emirates",
          "Azerbaijan",
          "Ukraine",
          "Guinea",
          "Montenegro",
          "Taiwan*",
          "Netherlands",
          "Iraq",
          "Malaysia",
          "Portugal",
          "Dominican Republic",
          "Sudan",
          "Botswana",
          "Angola",
          "San Marino",
          "Burma",
          "Zambia",
          "Afghanistan",
          "Vietnam",
          "Australia",
          "Uruguay",
          "Croatia",
          "Gambia",
          "Serbia",
          "Congo (Brazzaville)",
          "Albania",
          "Chile",
          "Slovakia",
          "Hungary",
          "Mauritania",
          "Finland",
          "North Macedonia",
          "Pakistan",
          "Eswatini",
          "Mexico",
          "Holy See",
          "Trinidad and Tobago",
          "Belgium",
          "Somalia",
          "China",
          "Singapore",
          "Canada",
          "Bhutan",
          "Timor-Leste",
          "Benin",
          "Algeria",
          "Belize",
          "Fiji",
          "Norway",
          "Mauritius",
          "Honduras",
          "Chad",
          "Slovenia",
          "Togo",
          "Solomon Islands",
          "Western Sahara",
          "Central African Republic",
          "Oman",
          "Ethiopia",
          "Lithuania",
          "Japan",
          "Lesotho",
          "Korea, South",
          "Thailand",
          "Panama",
          "Estonia",
          "Paraguay",
          "Haiti",
          "Comoros",
          "Seychelles",
          "Gabon",
          "India",
          "Malta",
          "Niger",
          "Equatorial Guinea",
          "Belarus",
          "Bolivia",
          "Tanzania",
          "Turkey",
          "Barbados",
          "South Sudan",
          "Cambodia",
          "Yemen",
          "Moldova",
          "Tunisia",
          "France",
          "Armenia",
          "Iceland",
          "Marshall Islands",
          "Nigeria",
          "Vanuatu",
          "Argentina",
          "Kosovo",
          "Lebanon",
          "South Africa",
          "Eritrea",
          "Colombia",
          "Sierra Leone",
          "Cameroon",
          "Uzbekistan",
          "Andorra",
          "West Bank and Gaza",
          "Papua New Guinea",
          "Greece",
          "Jamaica",
          "Guatemala",
          "Austria",
          "Saint Kitts and Nevis",
          "Kazakhstan",
          "Libya",
          "Switzerland",
          "Laos",
          "Venezuela",
          "Brunei",
          "Antigua and Barbuda",
          "MS Zaandam",
          "Kyrgyzstan",
          "Madagascar",
          "Czechia",
          "Morocco",
          "Italy",
          "Sweden",
          "Mozambique",
          "Cyprus",
          "Diamond Princess",
          "Russia",
          "United Kingdom",
          "Rwanda",
          "Saint Lucia",
          "Grenada",
          "Bulgaria",
          "Denmark",
          "Israel"
         ],
         "marker": {
          "line": {
           "color": "black",
           "width": 0.5
          }
         },
         "type": "choropleth",
         "z": [
          9822,
          21310,
          142426,
          16975,
          132368,
          2056,
          87374,
          12155,
          137093,
          357128,
          948749,
          12994,
          23484,
          681,
          985075,
          192117,
          791,
          20145,
          86787,
          462407,
          1253,
          214307,
          1628208,
          5784,
          534266,
          4688,
          608,
          962530,
          38405,
          5376,
          10747,
          115541,
          12702,
          16075,
          13383320,
          1595,
          83316,
          33409,
          429864,
          2422,
          989,
          14345,
          1055691,
          7517,
          138648,
          85,
          51569,
          231978,
          8233,
          85,
          5312,
          2856,
          72241,
          6025,
          6314740,
          471536,
          5677,
          7797,
          167753,
          118195,
          742105,
          13039,
          34881,
          651,
          527336,
          550435,
          64485,
          294799,
          143473,
          17404,
          10258,
          15103,
          1586,
          89486,
          17608,
          46215,
          1343,
          27902,
          5716,
          126612,
          3734,
          169214,
          5774,
          37625,
          550430,
          105733,
          211527,
          8547,
          24629,
          61543,
          398024,
          6410,
          1107071,
          27,
          6660,
          576599,
          4451,
          92814,
          58213,
          373662,
          396,
          30,
          2974,
          82221,
          5743,
          38,
          35828,
          501,
          107888,
          1682,
          75381,
          2962,
          17,
          10,
          4913,
          123484,
          109534,
          60193,
          147515,
          2109,
          34201,
          3998,
          164729,
          12052,
          81906,
          9272,
          611,
          173,
          9191,
          9431691,
          9752,
          1516,
          5153,
          135008,
          144622,
          509,
          607628,
          275,
          3109,
          323,
          2177,
          107017,
          96251,
          2270573,
          134768,
          5381,
          4,
          67412,
          1,
          1418807,
          39057,
          126944,
          787702,
          577,
          1308376,
          2411,
          24117,
          72870,
          6712,
          83585,
          645,
          104227,
          10709,
          121971,
          279708,
          22,
          131659,
          82430,
          318290,
          39,
          102040,
          150,
          141,
          9,
          72807,
          17341,
          519723,
          353803,
          1585178,
          243129,
          15613,
          10383,
          712,
          2249890,
          1621305,
          5919,
          257,
          41,
          142486,
          79872,
          335598
         ]
        }
       ],
       "layout": {
        "geo": {
         "projection": {
          "type": "equirectangular"
         },
         "showcoastlines": false,
         "showframe": false
        },
        "template": {
         "data": {
          "bar": [
           {
            "error_x": {
             "color": "#2a3f5f"
            },
            "error_y": {
             "color": "#2a3f5f"
            },
            "marker": {
             "line": {
              "color": "#E5ECF6",
              "width": 0.5
             }
            },
            "type": "bar"
           }
          ],
          "barpolar": [
           {
            "marker": {
             "line": {
              "color": "#E5ECF6",
              "width": 0.5
             }
            },
            "type": "barpolar"
           }
          ],
          "carpet": [
           {
            "aaxis": {
             "endlinecolor": "#2a3f5f",
             "gridcolor": "white",
             "linecolor": "white",
             "minorgridcolor": "white",
             "startlinecolor": "#2a3f5f"
            },
            "baxis": {
             "endlinecolor": "#2a3f5f",
             "gridcolor": "white",
             "linecolor": "white",
             "minorgridcolor": "white",
             "startlinecolor": "#2a3f5f"
            },
            "type": "carpet"
           }
          ],
          "choropleth": [
           {
            "colorbar": {
             "outlinewidth": 0,
             "ticks": ""
            },
            "type": "choropleth"
           }
          ],
          "contour": [
           {
            "colorbar": {
             "outlinewidth": 0,
             "ticks": ""
            },
            "colorscale": [
             [
              0,
              "#0d0887"
             ],
             [
              0.1111111111111111,
              "#46039f"
             ],
             [
              0.2222222222222222,
              "#7201a8"
             ],
             [
              0.3333333333333333,
              "#9c179e"
             ],
             [
              0.4444444444444444,
              "#bd3786"
             ],
             [
              0.5555555555555556,
              "#d8576b"
             ],
             [
              0.6666666666666666,
              "#ed7953"
             ],
             [
              0.7777777777777778,
              "#fb9f3a"
             ],
             [
              0.8888888888888888,
              "#fdca26"
             ],
             [
              1,
              "#f0f921"
             ]
            ],
            "type": "contour"
           }
          ],
          "contourcarpet": [
           {
            "colorbar": {
             "outlinewidth": 0,
             "ticks": ""
            },
            "type": "contourcarpet"
           }
          ],
          "heatmap": [
           {
            "colorbar": {
             "outlinewidth": 0,
             "ticks": ""
            },
            "colorscale": [
             [
              0,
              "#0d0887"
             ],
             [
              0.1111111111111111,
              "#46039f"
             ],
             [
              0.2222222222222222,
              "#7201a8"
             ],
             [
              0.3333333333333333,
              "#9c179e"
             ],
             [
              0.4444444444444444,
              "#bd3786"
             ],
             [
              0.5555555555555556,
              "#d8576b"
             ],
             [
              0.6666666666666666,
              "#ed7953"
             ],
             [
              0.7777777777777778,
              "#fb9f3a"
             ],
             [
              0.8888888888888888,
              "#fdca26"
             ],
             [
              1,
              "#f0f921"
             ]
            ],
            "type": "heatmap"
           }
          ],
          "heatmapgl": [
           {
            "colorbar": {
             "outlinewidth": 0,
             "ticks": ""
            },
            "colorscale": [
             [
              0,
              "#0d0887"
             ],
             [
              0.1111111111111111,
              "#46039f"
             ],
             [
              0.2222222222222222,
              "#7201a8"
             ],
             [
              0.3333333333333333,
              "#9c179e"
             ],
             [
              0.4444444444444444,
              "#bd3786"
             ],
             [
              0.5555555555555556,
              "#d8576b"
             ],
             [
              0.6666666666666666,
              "#ed7953"
             ],
             [
              0.7777777777777778,
              "#fb9f3a"
             ],
             [
              0.8888888888888888,
              "#fdca26"
             ],
             [
              1,
              "#f0f921"
             ]
            ],
            "type": "heatmapgl"
           }
          ],
          "histogram": [
           {
            "marker": {
             "colorbar": {
              "outlinewidth": 0,
              "ticks": ""
             }
            },
            "type": "histogram"
           }
          ],
          "histogram2d": [
           {
            "colorbar": {
             "outlinewidth": 0,
             "ticks": ""
            },
            "colorscale": [
             [
              0,
              "#0d0887"
             ],
             [
              0.1111111111111111,
              "#46039f"
             ],
             [
              0.2222222222222222,
              "#7201a8"
             ],
             [
              0.3333333333333333,
              "#9c179e"
             ],
             [
              0.4444444444444444,
              "#bd3786"
             ],
             [
              0.5555555555555556,
              "#d8576b"
             ],
             [
              0.6666666666666666,
              "#ed7953"
             ],
             [
              0.7777777777777778,
              "#fb9f3a"
             ],
             [
              0.8888888888888888,
              "#fdca26"
             ],
             [
              1,
              "#f0f921"
             ]
            ],
            "type": "histogram2d"
           }
          ],
          "histogram2dcontour": [
           {
            "colorbar": {
             "outlinewidth": 0,
             "ticks": ""
            },
            "colorscale": [
             [
              0,
              "#0d0887"
             ],
             [
              0.1111111111111111,
              "#46039f"
             ],
             [
              0.2222222222222222,
              "#7201a8"
             ],
             [
              0.3333333333333333,
              "#9c179e"
             ],
             [
              0.4444444444444444,
              "#bd3786"
             ],
             [
              0.5555555555555556,
              "#d8576b"
             ],
             [
              0.6666666666666666,
              "#ed7953"
             ],
             [
              0.7777777777777778,
              "#fb9f3a"
             ],
             [
              0.8888888888888888,
              "#fdca26"
             ],
             [
              1,
              "#f0f921"
             ]
            ],
            "type": "histogram2dcontour"
           }
          ],
          "mesh3d": [
           {
            "colorbar": {
             "outlinewidth": 0,
             "ticks": ""
            },
            "type": "mesh3d"
           }
          ],
          "parcoords": [
           {
            "line": {
             "colorbar": {
              "outlinewidth": 0,
              "ticks": ""
             }
            },
            "type": "parcoords"
           }
          ],
          "pie": [
           {
            "automargin": true,
            "type": "pie"
           }
          ],
          "scatter": [
           {
            "marker": {
             "colorbar": {
              "outlinewidth": 0,
              "ticks": ""
             }
            },
            "type": "scatter"
           }
          ],
          "scatter3d": [
           {
            "line": {
             "colorbar": {
              "outlinewidth": 0,
              "ticks": ""
             }
            },
            "marker": {
             "colorbar": {
              "outlinewidth": 0,
              "ticks": ""
             }
            },
            "type": "scatter3d"
           }
          ],
          "scattercarpet": [
           {
            "marker": {
             "colorbar": {
              "outlinewidth": 0,
              "ticks": ""
             }
            },
            "type": "scattercarpet"
           }
          ],
          "scattergeo": [
           {
            "marker": {
             "colorbar": {
              "outlinewidth": 0,
              "ticks": ""
             }
            },
            "type": "scattergeo"
           }
          ],
          "scattergl": [
           {
            "marker": {
             "colorbar": {
              "outlinewidth": 0,
              "ticks": ""
             }
            },
            "type": "scattergl"
           }
          ],
          "scattermapbox": [
           {
            "marker": {
             "colorbar": {
              "outlinewidth": 0,
              "ticks": ""
             }
            },
            "type": "scattermapbox"
           }
          ],
          "scatterpolar": [
           {
            "marker": {
             "colorbar": {
              "outlinewidth": 0,
              "ticks": ""
             }
            },
            "type": "scatterpolar"
           }
          ],
          "scatterpolargl": [
           {
            "marker": {
             "colorbar": {
              "outlinewidth": 0,
              "ticks": ""
             }
            },
            "type": "scatterpolargl"
           }
          ],
          "scatterternary": [
           {
            "marker": {
             "colorbar": {
              "outlinewidth": 0,
              "ticks": ""
             }
            },
            "type": "scatterternary"
           }
          ],
          "surface": [
           {
            "colorbar": {
             "outlinewidth": 0,
             "ticks": ""
            },
            "colorscale": [
             [
              0,
              "#0d0887"
             ],
             [
              0.1111111111111111,
              "#46039f"
             ],
             [
              0.2222222222222222,
              "#7201a8"
             ],
             [
              0.3333333333333333,
              "#9c179e"
             ],
             [
              0.4444444444444444,
              "#bd3786"
             ],
             [
              0.5555555555555556,
              "#d8576b"
             ],
             [
              0.6666666666666666,
              "#ed7953"
             ],
             [
              0.7777777777777778,
              "#fb9f3a"
             ],
             [
              0.8888888888888888,
              "#fdca26"
             ],
             [
              1,
              "#f0f921"
             ]
            ],
            "type": "surface"
           }
          ],
          "table": [
           {
            "cells": {
             "fill": {
              "color": "#EBF0F8"
             },
             "line": {
              "color": "white"
             }
            },
            "header": {
             "fill": {
              "color": "#C8D4E3"
             },
             "line": {
              "color": "white"
             }
            },
            "type": "table"
           }
          ]
         },
         "layout": {
          "annotationdefaults": {
           "arrowcolor": "#2a3f5f",
           "arrowhead": 0,
           "arrowwidth": 1
          },
          "autotypenumbers": "strict",
          "coloraxis": {
           "colorbar": {
            "outlinewidth": 0,
            "ticks": ""
           }
          },
          "colorscale": {
           "diverging": [
            [
             0,
             "#8e0152"
            ],
            [
             0.1,
             "#c51b7d"
            ],
            [
             0.2,
             "#de77ae"
            ],
            [
             0.3,
             "#f1b6da"
            ],
            [
             0.4,
             "#fde0ef"
            ],
            [
             0.5,
             "#f7f7f7"
            ],
            [
             0.6,
             "#e6f5d0"
            ],
            [
             0.7,
             "#b8e186"
            ],
            [
             0.8,
             "#7fbc41"
            ],
            [
             0.9,
             "#4d9221"
            ],
            [
             1,
             "#276419"
            ]
           ],
           "sequential": [
            [
             0,
             "#0d0887"
            ],
            [
             0.1111111111111111,
             "#46039f"
            ],
            [
             0.2222222222222222,
             "#7201a8"
            ],
            [
             0.3333333333333333,
             "#9c179e"
            ],
            [
             0.4444444444444444,
             "#bd3786"
            ],
            [
             0.5555555555555556,
             "#d8576b"
            ],
            [
             0.6666666666666666,
             "#ed7953"
            ],
            [
             0.7777777777777778,
             "#fb9f3a"
            ],
            [
             0.8888888888888888,
             "#fdca26"
            ],
            [
             1,
             "#f0f921"
            ]
           ],
           "sequentialminus": [
            [
             0,
             "#0d0887"
            ],
            [
             0.1111111111111111,
             "#46039f"
            ],
            [
             0.2222222222222222,
             "#7201a8"
            ],
            [
             0.3333333333333333,
             "#9c179e"
            ],
            [
             0.4444444444444444,
             "#bd3786"
            ],
            [
             0.5555555555555556,
             "#d8576b"
            ],
            [
             0.6666666666666666,
             "#ed7953"
            ],
            [
             0.7777777777777778,
             "#fb9f3a"
            ],
            [
             0.8888888888888888,
             "#fdca26"
            ],
            [
             1,
             "#f0f921"
            ]
           ]
          },
          "colorway": [
           "#636efa",
           "#EF553B",
           "#00cc96",
           "#ab63fa",
           "#FFA15A",
           "#19d3f3",
           "#FF6692",
           "#B6E880",
           "#FF97FF",
           "#FECB52"
          ],
          "font": {
           "color": "#2a3f5f"
          },
          "geo": {
           "bgcolor": "white",
           "lakecolor": "white",
           "landcolor": "#E5ECF6",
           "showlakes": true,
           "showland": true,
           "subunitcolor": "white"
          },
          "hoverlabel": {
           "align": "left"
          },
          "hovermode": "closest",
          "mapbox": {
           "style": "light"
          },
          "paper_bgcolor": "white",
          "plot_bgcolor": "#E5ECF6",
          "polar": {
           "angularaxis": {
            "gridcolor": "white",
            "linecolor": "white",
            "ticks": ""
           },
           "bgcolor": "#E5ECF6",
           "radialaxis": {
            "gridcolor": "white",
            "linecolor": "white",
            "ticks": ""
           }
          },
          "scene": {
           "xaxis": {
            "backgroundcolor": "#E5ECF6",
            "gridcolor": "white",
            "gridwidth": 2,
            "linecolor": "white",
            "showbackground": true,
            "ticks": "",
            "zerolinecolor": "white"
           },
           "yaxis": {
            "backgroundcolor": "#E5ECF6",
            "gridcolor": "white",
            "gridwidth": 2,
            "linecolor": "white",
            "showbackground": true,
            "ticks": "",
            "zerolinecolor": "white"
           },
           "zaxis": {
            "backgroundcolor": "#E5ECF6",
            "gridcolor": "white",
            "gridwidth": 2,
            "linecolor": "white",
            "showbackground": true,
            "ticks": "",
            "zerolinecolor": "white"
           }
          },
          "shapedefaults": {
           "line": {
            "color": "#2a3f5f"
           }
          },
          "ternary": {
           "aaxis": {
            "gridcolor": "white",
            "linecolor": "white",
            "ticks": ""
           },
           "baxis": {
            "gridcolor": "white",
            "linecolor": "white",
            "ticks": ""
           },
           "bgcolor": "#E5ECF6",
           "caxis": {
            "gridcolor": "white",
            "linecolor": "white",
            "ticks": ""
           }
          },
          "title": {
           "x": 0.05
          },
          "xaxis": {
           "automargin": true,
           "gridcolor": "white",
           "linecolor": "white",
           "ticks": "",
           "title": {
            "standoff": 15
           },
           "zerolinecolor": "white",
           "zerolinewidth": 2
          },
          "yaxis": {
           "automargin": true,
           "gridcolor": "white",
           "linecolor": "white",
           "ticks": "",
           "title": {
            "standoff": 15
           },
           "zerolinecolor": "white",
           "zerolinewidth": 2
          }
         }
        },
        "title": {
         "text": "Globally reported Confirmed Cases in 2020",
         "x": 0.5
        }
       }
      },
      "text/html": [
       "<div>                            <div id=\"e70f431e-ad32-4520-9281-a0c27fd4b07e\" class=\"plotly-graph-div\" style=\"height:525px; width:100%;\"></div>            <script type=\"text/javascript\">                require([\"plotly\"], function(Plotly) {                    window.PLOTLYENV=window.PLOTLYENV || {};                                    if (document.getElementById(\"e70f431e-ad32-4520-9281-a0c27fd4b07e\")) {                    Plotly.newPlot(                        \"e70f431e-ad32-4520-9281-a0c27fd4b07e\",                        [{\"colorscale\": [[0.0, \"rgb(255,245,240)\"], [0.125, \"rgb(254,224,210)\"], [0.25, \"rgb(252,187,161)\"], [0.375, \"rgb(252,146,114)\"], [0.5, \"rgb(251,106,74)\"], [0.625, \"rgb(239,59,44)\"], [0.75, \"rgb(203,24,29)\"], [0.875, \"rgb(165,15,21)\"], [1.0, \"rgb(103,0,13)\"]], \"locationmode\": \"country names\", \"locations\": [\"Zimbabwe\", \"Cote d'Ivoire\", \"Kuwait\", \"Latvia\", \"Georgia\", \"New Zealand\", \"Bosnia and Herzegovina\", \"Tajikistan\", \"Costa Rica\", \"Saudi Arabia\", \"Iran\", \"Maldives\", \"Sri Lanka\", \"Burundi\", \"Poland\", \"Ecuador\", \"Mongolia\", \"Uganda\", \"Bahrain\", \"Bangladesh\", \"Liechtenstein\", \"Jordan\", \"Spain\", \"Nicaragua\", \"Indonesia\", \"Mali\", \"Monaco\", \"Peru\", \"El Salvador\", \"Guyana\", \"Cabo Verde\", \"Egypt\", \"Congo (Kinshasa)\", \"Senegal\", \"US\", \"Liberia\", \"Kenya\", \"Luxembourg\", \"Philippines\", \"Guinea-Bissau\", \"Sao Tome and Principe\", \"Namibia\", \"Germany\", \"Bahamas\", \"Qatar\", \"Dominica\", \"Ghana\", \"Nepal\", \"Cuba\", \"Saint Vincent and the Grenadines\", \"Suriname\", \"Burkina Faso\", \"Ireland\", \"Malawi\", \"Brazil\", \"Romania\", \"Djibouti\", \"Syria\", \"United Arab Emirates\", \"Azerbaijan\", \"Ukraine\", \"Guinea\", \"Montenegro\", \"Taiwan*\", \"Netherlands\", \"Iraq\", \"Malaysia\", \"Portugal\", \"Dominican Republic\", \"Sudan\", \"Botswana\", \"Angola\", \"San Marino\", \"Burma\", \"Zambia\", \"Afghanistan\", \"Vietnam\", \"Australia\", \"Uruguay\", \"Croatia\", \"Gambia\", \"Serbia\", \"Congo (Brazzaville)\", \"Albania\", \"Chile\", \"Slovakia\", \"Hungary\", \"Mauritania\", \"Finland\", \"North Macedonia\", \"Pakistan\", \"Eswatini\", \"Mexico\", \"Holy See\", \"Trinidad and Tobago\", \"Belgium\", \"Somalia\", \"China\", \"Singapore\", \"Canada\", \"Bhutan\", \"Timor-Leste\", \"Benin\", \"Algeria\", \"Belize\", \"Fiji\", \"Norway\", \"Mauritius\", \"Honduras\", \"Chad\", \"Slovenia\", \"Togo\", \"Solomon Islands\", \"Western Sahara\", \"Central African Republic\", \"Oman\", \"Ethiopia\", \"Lithuania\", \"Japan\", \"Lesotho\", \"Korea, South\", \"Thailand\", \"Panama\", \"Estonia\", \"Paraguay\", \"Haiti\", \"Comoros\", \"Seychelles\", \"Gabon\", \"India\", \"Malta\", \"Niger\", \"Equatorial Guinea\", \"Belarus\", \"Bolivia\", \"Tanzania\", \"Turkey\", \"Barbados\", \"South Sudan\", \"Cambodia\", \"Yemen\", \"Moldova\", \"Tunisia\", \"France\", \"Armenia\", \"Iceland\", \"Marshall Islands\", \"Nigeria\", \"Vanuatu\", \"Argentina\", \"Kosovo\", \"Lebanon\", \"South Africa\", \"Eritrea\", \"Colombia\", \"Sierra Leone\", \"Cameroon\", \"Uzbekistan\", \"Andorra\", \"West Bank and Gaza\", \"Papua New Guinea\", \"Greece\", \"Jamaica\", \"Guatemala\", \"Austria\", \"Saint Kitts and Nevis\", \"Kazakhstan\", \"Libya\", \"Switzerland\", \"Laos\", \"Venezuela\", \"Brunei\", \"Antigua and Barbuda\", \"MS Zaandam\", \"Kyrgyzstan\", \"Madagascar\", \"Czechia\", \"Morocco\", \"Italy\", \"Sweden\", \"Mozambique\", \"Cyprus\", \"Diamond Princess\", \"Russia\", \"United Kingdom\", \"Rwanda\", \"Saint Lucia\", \"Grenada\", \"Bulgaria\", \"Denmark\", \"Israel\"], \"marker\": {\"line\": {\"color\": \"black\", \"width\": 0.5}}, \"type\": \"choropleth\", \"z\": [9822, 21310, 142426, 16975, 132368, 2056, 87374, 12155, 137093, 357128, 948749, 12994, 23484, 681, 985075, 192117, 791, 20145, 86787, 462407, 1253, 214307, 1628208, 5784, 534266, 4688, 608, 962530, 38405, 5376, 10747, 115541, 12702, 16075, 13383320, 1595, 83316, 33409, 429864, 2422, 989, 14345, 1055691, 7517, 138648, 85, 51569, 231978, 8233, 85, 5312, 2856, 72241, 6025, 6314740, 471536, 5677, 7797, 167753, 118195, 742105, 13039, 34881, 651, 527336, 550435, 64485, 294799, 143473, 17404, 10258, 15103, 1586, 89486, 17608, 46215, 1343, 27902, 5716, 126612, 3734, 169214, 5774, 37625, 550430, 105733, 211527, 8547, 24629, 61543, 398024, 6410, 1107071, 27, 6660, 576599, 4451, 92814, 58213, 373662, 396, 30, 2974, 82221, 5743, 38, 35828, 501, 107888, 1682, 75381, 2962, 17, 10, 4913, 123484, 109534, 60193, 147515, 2109, 34201, 3998, 164729, 12052, 81906, 9272, 611, 173, 9191, 9431691, 9752, 1516, 5153, 135008, 144622, 509, 607628, 275, 3109, 323, 2177, 107017, 96251, 2270573, 134768, 5381, 4, 67412, 1, 1418807, 39057, 126944, 787702, 577, 1308376, 2411, 24117, 72870, 6712, 83585, 645, 104227, 10709, 121971, 279708, 22, 131659, 82430, 318290, 39, 102040, 150, 141, 9, 72807, 17341, 519723, 353803, 1585178, 243129, 15613, 10383, 712, 2249890, 1621305, 5919, 257, 41, 142486, 79872, 335598]}],                        {\"geo\": {\"projection\": {\"type\": \"equirectangular\"}, \"showcoastlines\": false, \"showframe\": false}, \"template\": {\"data\": {\"bar\": [{\"error_x\": {\"color\": \"#2a3f5f\"}, \"error_y\": {\"color\": \"#2a3f5f\"}, \"marker\": {\"line\": {\"color\": \"#E5ECF6\", \"width\": 0.5}}, \"type\": \"bar\"}], \"barpolar\": [{\"marker\": {\"line\": {\"color\": \"#E5ECF6\", \"width\": 0.5}}, \"type\": \"barpolar\"}], \"carpet\": [{\"aaxis\": {\"endlinecolor\": \"#2a3f5f\", \"gridcolor\": \"white\", \"linecolor\": \"white\", \"minorgridcolor\": \"white\", \"startlinecolor\": \"#2a3f5f\"}, \"baxis\": {\"endlinecolor\": \"#2a3f5f\", \"gridcolor\": \"white\", \"linecolor\": \"white\", \"minorgridcolor\": \"white\", \"startlinecolor\": \"#2a3f5f\"}, \"type\": \"carpet\"}], \"choropleth\": [{\"colorbar\": {\"outlinewidth\": 0, \"ticks\": \"\"}, \"type\": \"choropleth\"}], \"contour\": [{\"colorbar\": {\"outlinewidth\": 0, \"ticks\": \"\"}, \"colorscale\": [[0.0, \"#0d0887\"], [0.1111111111111111, \"#46039f\"], [0.2222222222222222, \"#7201a8\"], [0.3333333333333333, \"#9c179e\"], [0.4444444444444444, \"#bd3786\"], [0.5555555555555556, \"#d8576b\"], [0.6666666666666666, \"#ed7953\"], [0.7777777777777778, \"#fb9f3a\"], [0.8888888888888888, \"#fdca26\"], [1.0, \"#f0f921\"]], \"type\": \"contour\"}], \"contourcarpet\": [{\"colorbar\": {\"outlinewidth\": 0, \"ticks\": \"\"}, \"type\": \"contourcarpet\"}], \"heatmap\": [{\"colorbar\": {\"outlinewidth\": 0, \"ticks\": \"\"}, \"colorscale\": [[0.0, \"#0d0887\"], [0.1111111111111111, \"#46039f\"], [0.2222222222222222, \"#7201a8\"], [0.3333333333333333, \"#9c179e\"], [0.4444444444444444, \"#bd3786\"], [0.5555555555555556, \"#d8576b\"], [0.6666666666666666, \"#ed7953\"], [0.7777777777777778, \"#fb9f3a\"], [0.8888888888888888, \"#fdca26\"], [1.0, \"#f0f921\"]], \"type\": \"heatmap\"}], \"heatmapgl\": [{\"colorbar\": {\"outlinewidth\": 0, \"ticks\": \"\"}, \"colorscale\": [[0.0, \"#0d0887\"], [0.1111111111111111, \"#46039f\"], [0.2222222222222222, \"#7201a8\"], [0.3333333333333333, \"#9c179e\"], [0.4444444444444444, \"#bd3786\"], [0.5555555555555556, \"#d8576b\"], [0.6666666666666666, \"#ed7953\"], [0.7777777777777778, \"#fb9f3a\"], [0.8888888888888888, \"#fdca26\"], [1.0, \"#f0f921\"]], \"type\": \"heatmapgl\"}], \"histogram\": [{\"marker\": {\"colorbar\": {\"outlinewidth\": 0, \"ticks\": \"\"}}, \"type\": \"histogram\"}], \"histogram2d\": [{\"colorbar\": {\"outlinewidth\": 0, \"ticks\": \"\"}, \"colorscale\": [[0.0, \"#0d0887\"], [0.1111111111111111, \"#46039f\"], [0.2222222222222222, \"#7201a8\"], [0.3333333333333333, \"#9c179e\"], [0.4444444444444444, \"#bd3786\"], [0.5555555555555556, \"#d8576b\"], [0.6666666666666666, \"#ed7953\"], [0.7777777777777778, \"#fb9f3a\"], [0.8888888888888888, \"#fdca26\"], [1.0, \"#f0f921\"]], \"type\": \"histogram2d\"}], \"histogram2dcontour\": [{\"colorbar\": {\"outlinewidth\": 0, \"ticks\": \"\"}, \"colorscale\": [[0.0, \"#0d0887\"], [0.1111111111111111, \"#46039f\"], [0.2222222222222222, \"#7201a8\"], [0.3333333333333333, \"#9c179e\"], [0.4444444444444444, \"#bd3786\"], [0.5555555555555556, \"#d8576b\"], [0.6666666666666666, \"#ed7953\"], [0.7777777777777778, \"#fb9f3a\"], [0.8888888888888888, \"#fdca26\"], [1.0, \"#f0f921\"]], \"type\": \"histogram2dcontour\"}], \"mesh3d\": [{\"colorbar\": {\"outlinewidth\": 0, \"ticks\": \"\"}, \"type\": \"mesh3d\"}], \"parcoords\": [{\"line\": {\"colorbar\": {\"outlinewidth\": 0, \"ticks\": \"\"}}, \"type\": \"parcoords\"}], \"pie\": [{\"automargin\": true, \"type\": \"pie\"}], \"scatter\": [{\"marker\": {\"colorbar\": {\"outlinewidth\": 0, \"ticks\": \"\"}}, \"type\": \"scatter\"}], \"scatter3d\": [{\"line\": {\"colorbar\": {\"outlinewidth\": 0, \"ticks\": \"\"}}, \"marker\": {\"colorbar\": {\"outlinewidth\": 0, \"ticks\": \"\"}}, \"type\": \"scatter3d\"}], \"scattercarpet\": [{\"marker\": {\"colorbar\": {\"outlinewidth\": 0, \"ticks\": \"\"}}, \"type\": \"scattercarpet\"}], \"scattergeo\": [{\"marker\": {\"colorbar\": {\"outlinewidth\": 0, \"ticks\": \"\"}}, \"type\": \"scattergeo\"}], \"scattergl\": [{\"marker\": {\"colorbar\": {\"outlinewidth\": 0, \"ticks\": \"\"}}, \"type\": \"scattergl\"}], \"scattermapbox\": [{\"marker\": {\"colorbar\": {\"outlinewidth\": 0, \"ticks\": \"\"}}, \"type\": \"scattermapbox\"}], \"scatterpolar\": [{\"marker\": {\"colorbar\": {\"outlinewidth\": 0, \"ticks\": \"\"}}, \"type\": \"scatterpolar\"}], \"scatterpolargl\": [{\"marker\": {\"colorbar\": {\"outlinewidth\": 0, \"ticks\": \"\"}}, \"type\": \"scatterpolargl\"}], \"scatterternary\": [{\"marker\": {\"colorbar\": {\"outlinewidth\": 0, \"ticks\": \"\"}}, \"type\": \"scatterternary\"}], \"surface\": [{\"colorbar\": {\"outlinewidth\": 0, \"ticks\": \"\"}, \"colorscale\": [[0.0, \"#0d0887\"], [0.1111111111111111, \"#46039f\"], [0.2222222222222222, \"#7201a8\"], [0.3333333333333333, \"#9c179e\"], [0.4444444444444444, \"#bd3786\"], [0.5555555555555556, \"#d8576b\"], [0.6666666666666666, \"#ed7953\"], [0.7777777777777778, \"#fb9f3a\"], [0.8888888888888888, \"#fdca26\"], [1.0, \"#f0f921\"]], \"type\": \"surface\"}], \"table\": [{\"cells\": {\"fill\": {\"color\": \"#EBF0F8\"}, \"line\": {\"color\": \"white\"}}, \"header\": {\"fill\": {\"color\": \"#C8D4E3\"}, \"line\": {\"color\": \"white\"}}, \"type\": \"table\"}]}, \"layout\": {\"annotationdefaults\": {\"arrowcolor\": \"#2a3f5f\", \"arrowhead\": 0, \"arrowwidth\": 1}, \"autotypenumbers\": \"strict\", \"coloraxis\": {\"colorbar\": {\"outlinewidth\": 0, \"ticks\": \"\"}}, \"colorscale\": {\"diverging\": [[0, \"#8e0152\"], [0.1, \"#c51b7d\"], [0.2, \"#de77ae\"], [0.3, \"#f1b6da\"], [0.4, \"#fde0ef\"], [0.5, \"#f7f7f7\"], [0.6, \"#e6f5d0\"], [0.7, \"#b8e186\"], [0.8, \"#7fbc41\"], [0.9, \"#4d9221\"], [1, \"#276419\"]], \"sequential\": [[0.0, \"#0d0887\"], [0.1111111111111111, \"#46039f\"], [0.2222222222222222, \"#7201a8\"], [0.3333333333333333, \"#9c179e\"], [0.4444444444444444, \"#bd3786\"], [0.5555555555555556, \"#d8576b\"], [0.6666666666666666, \"#ed7953\"], [0.7777777777777778, \"#fb9f3a\"], [0.8888888888888888, \"#fdca26\"], [1.0, \"#f0f921\"]], \"sequentialminus\": [[0.0, \"#0d0887\"], [0.1111111111111111, \"#46039f\"], [0.2222222222222222, \"#7201a8\"], [0.3333333333333333, \"#9c179e\"], [0.4444444444444444, \"#bd3786\"], [0.5555555555555556, \"#d8576b\"], [0.6666666666666666, \"#ed7953\"], [0.7777777777777778, \"#fb9f3a\"], [0.8888888888888888, \"#fdca26\"], [1.0, \"#f0f921\"]]}, \"colorway\": [\"#636efa\", \"#EF553B\", \"#00cc96\", \"#ab63fa\", \"#FFA15A\", \"#19d3f3\", \"#FF6692\", \"#B6E880\", \"#FF97FF\", \"#FECB52\"], \"font\": {\"color\": \"#2a3f5f\"}, \"geo\": {\"bgcolor\": \"white\", \"lakecolor\": \"white\", \"landcolor\": \"#E5ECF6\", \"showlakes\": true, \"showland\": true, \"subunitcolor\": \"white\"}, \"hoverlabel\": {\"align\": \"left\"}, \"hovermode\": \"closest\", \"mapbox\": {\"style\": \"light\"}, \"paper_bgcolor\": \"white\", \"plot_bgcolor\": \"#E5ECF6\", \"polar\": {\"angularaxis\": {\"gridcolor\": \"white\", \"linecolor\": \"white\", \"ticks\": \"\"}, \"bgcolor\": \"#E5ECF6\", \"radialaxis\": {\"gridcolor\": \"white\", \"linecolor\": \"white\", \"ticks\": \"\"}}, \"scene\": {\"xaxis\": {\"backgroundcolor\": \"#E5ECF6\", \"gridcolor\": \"white\", \"gridwidth\": 2, \"linecolor\": \"white\", \"showbackground\": true, \"ticks\": \"\", \"zerolinecolor\": \"white\"}, \"yaxis\": {\"backgroundcolor\": \"#E5ECF6\", \"gridcolor\": \"white\", \"gridwidth\": 2, \"linecolor\": \"white\", \"showbackground\": true, \"ticks\": \"\", \"zerolinecolor\": \"white\"}, \"zaxis\": {\"backgroundcolor\": \"#E5ECF6\", \"gridcolor\": \"white\", \"gridwidth\": 2, \"linecolor\": \"white\", \"showbackground\": true, \"ticks\": \"\", \"zerolinecolor\": \"white\"}}, \"shapedefaults\": {\"line\": {\"color\": \"#2a3f5f\"}}, \"ternary\": {\"aaxis\": {\"gridcolor\": \"white\", \"linecolor\": \"white\", \"ticks\": \"\"}, \"baxis\": {\"gridcolor\": \"white\", \"linecolor\": \"white\", \"ticks\": \"\"}, \"bgcolor\": \"#E5ECF6\", \"caxis\": {\"gridcolor\": \"white\", \"linecolor\": \"white\", \"ticks\": \"\"}}, \"title\": {\"x\": 0.05}, \"xaxis\": {\"automargin\": true, \"gridcolor\": \"white\", \"linecolor\": \"white\", \"ticks\": \"\", \"title\": {\"standoff\": 15}, \"zerolinecolor\": \"white\", \"zerolinewidth\": 2}, \"yaxis\": {\"automargin\": true, \"gridcolor\": \"white\", \"linecolor\": \"white\", \"ticks\": \"\", \"title\": {\"standoff\": 15}, \"zerolinecolor\": \"white\", \"zerolinewidth\": 2}}}, \"title\": {\"text\": \"Globally reported Confirmed Cases in 2020\", \"x\": 0.5}},                        {\"responsive\": true}                    ).then(function(){\n",
       "                            \n",
       "var gd = document.getElementById('e70f431e-ad32-4520-9281-a0c27fd4b07e');\n",
       "var x = new MutationObserver(function (mutations, observer) {{\n",
       "        var display = window.getComputedStyle(gd).display;\n",
       "        if (!display || display === 'none') {{\n",
       "            console.log([gd, 'removed!']);\n",
       "            Plotly.purge(gd);\n",
       "            observer.disconnect();\n",
       "        }}\n",
       "}});\n",
       "\n",
       "// Listen for the removal of the full notebook cells\n",
       "var notebookContainer = gd.closest('#notebook-container');\n",
       "if (notebookContainer) {{\n",
       "    x.observe(notebookContainer, {childList: true});\n",
       "}}\n",
       "\n",
       "// Listen for the clearing of the current output cell\n",
       "var outputEl = gd.closest('.output');\n",
       "if (outputEl) {{\n",
       "    x.observe(outputEl, {childList: true});\n",
       "}}\n",
       "\n",
       "                        })                };                });            </script>        </div>"
      ]
     },
     "metadata": {},
     "output_type": "display_data"
    }
   ],
   "source": [
    "fig = go.Figure(data=go.Choropleth(\n",
    " locations = df_countries['Country'],\n",
    " locationmode = 'country names',\n",
    " z = df_countries['Confirmed'],\n",
    " colorscale = 'Reds',\n",
    " marker_line_color = 'black',\n",
    " marker_line_width = 0.5,\n",
    "))\n",
    "fig.update_layout(\n",
    " title_text = 'Globally reported Confirmed Cases in 2020',\n",
    " title_x = 0.5,\n",
    " geo=dict(\n",
    " showframe = False,\n",
    " showcoastlines = False,\n",
    " projection_type = 'equirectangular'\n",
    " )\n",
    ")\n",
    "fig.show()"
   ]
  },
  {
   "cell_type": "markdown",
   "metadata": {},
   "source": [
    "###### With the intensity of colour we can identify the Regions with high confirmed cases.Us,India & Brazil are top countries with more confirmed cases"
   ]
  },
  {
   "cell_type": "code",
   "execution_count": 14,
   "metadata": {},
   "outputs": [
    {
     "data": {
      "application/vnd.plotly.v1+json": {
       "config": {
        "plotlyServerURL": "https://plot.ly"
       },
       "data": [
        {
         "colorscale": [
          [
           0,
           "rgb(255,245,240)"
          ],
          [
           0.125,
           "rgb(254,224,210)"
          ],
          [
           0.25,
           "rgb(252,187,161)"
          ],
          [
           0.375,
           "rgb(252,146,114)"
          ],
          [
           0.5,
           "rgb(251,106,74)"
          ],
          [
           0.625,
           "rgb(239,59,44)"
          ],
          [
           0.75,
           "rgb(203,24,29)"
          ],
          [
           0.875,
           "rgb(165,15,21)"
          ],
          [
           1,
           "rgb(103,0,13)"
          ]
         ],
         "locationmode": "country names",
         "locations": [
          "Zimbabwe",
          "Cote d'Ivoire",
          "Kuwait",
          "Latvia",
          "Georgia",
          "New Zealand",
          "Bosnia and Herzegovina",
          "Tajikistan",
          "Costa Rica",
          "Saudi Arabia",
          "Iran",
          "Maldives",
          "Sri Lanka",
          "Burundi",
          "Poland",
          "Ecuador",
          "Mongolia",
          "Uganda",
          "Bahrain",
          "Bangladesh",
          "Liechtenstein",
          "Jordan",
          "Spain",
          "Nicaragua",
          "Indonesia",
          "Mali",
          "Monaco",
          "Peru",
          "El Salvador",
          "Guyana",
          "Cabo Verde",
          "Egypt",
          "Congo (Kinshasa)",
          "Senegal",
          "US",
          "Liberia",
          "Kenya",
          "Luxembourg",
          "Philippines",
          "Guinea-Bissau",
          "Sao Tome and Principe",
          "Namibia",
          "Germany",
          "Bahamas",
          "Qatar",
          "Dominica",
          "Ghana",
          "Nepal",
          "Cuba",
          "Saint Vincent and the Grenadines",
          "Suriname",
          "Burkina Faso",
          "Ireland",
          "Malawi",
          "Brazil",
          "Romania",
          "Djibouti",
          "Syria",
          "United Arab Emirates",
          "Azerbaijan",
          "Ukraine",
          "Guinea",
          "Montenegro",
          "Taiwan*",
          "Netherlands",
          "Iraq",
          "Malaysia",
          "Portugal",
          "Dominican Republic",
          "Sudan",
          "Botswana",
          "Angola",
          "San Marino",
          "Burma",
          "Zambia",
          "Afghanistan",
          "Vietnam",
          "Australia",
          "Uruguay",
          "Croatia",
          "Gambia",
          "Serbia",
          "Congo (Brazzaville)",
          "Albania",
          "Chile",
          "Slovakia",
          "Hungary",
          "Mauritania",
          "Finland",
          "North Macedonia",
          "Pakistan",
          "Eswatini",
          "Mexico",
          "Holy See",
          "Trinidad and Tobago",
          "Belgium",
          "Somalia",
          "China",
          "Singapore",
          "Canada",
          "Bhutan",
          "Timor-Leste",
          "Benin",
          "Algeria",
          "Belize",
          "Fiji",
          "Norway",
          "Mauritius",
          "Honduras",
          "Chad",
          "Slovenia",
          "Togo",
          "Solomon Islands",
          "Western Sahara",
          "Central African Republic",
          "Oman",
          "Ethiopia",
          "Lithuania",
          "Japan",
          "Lesotho",
          "Korea, South",
          "Thailand",
          "Panama",
          "Estonia",
          "Paraguay",
          "Haiti",
          "Comoros",
          "Seychelles",
          "Gabon",
          "India",
          "Malta",
          "Niger",
          "Equatorial Guinea",
          "Belarus",
          "Bolivia",
          "Tanzania",
          "Turkey",
          "Barbados",
          "South Sudan",
          "Cambodia",
          "Yemen",
          "Moldova",
          "Tunisia",
          "France",
          "Armenia",
          "Iceland",
          "Marshall Islands",
          "Nigeria",
          "Vanuatu",
          "Argentina",
          "Kosovo",
          "Lebanon",
          "South Africa",
          "Eritrea",
          "Colombia",
          "Sierra Leone",
          "Cameroon",
          "Uzbekistan",
          "Andorra",
          "West Bank and Gaza",
          "Papua New Guinea",
          "Greece",
          "Jamaica",
          "Guatemala",
          "Austria",
          "Saint Kitts and Nevis",
          "Kazakhstan",
          "Libya",
          "Switzerland",
          "Laos",
          "Venezuela",
          "Brunei",
          "Antigua and Barbuda",
          "MS Zaandam",
          "Kyrgyzstan",
          "Madagascar",
          "Czechia",
          "Morocco",
          "Italy",
          "Sweden",
          "Mozambique",
          "Cyprus",
          "Diamond Princess",
          "Russia",
          "United Kingdom",
          "Rwanda",
          "Saint Lucia",
          "Grenada",
          "Bulgaria",
          "Denmark",
          "Israel"
         ],
         "marker": {
          "line": {
           "color": "black",
           "width": 0.5
          }
         },
         "type": "choropleth",
         "z": [
          8472,
          20947,
          136413,
          1719,
          110049,
          1959,
          51479,
          11559,
          84991,
          346409,
          658292,
          11902,
          17002,
          575,
          559429,
          169804,
          354,
          8989,
          84977,
          378172,
          1024,
          148572,
          150376,
          4225,
          445793,
          3178,
          537,
          893061,
          35078,
          4346,
          10229,
          102596,
          11585,
          15597,
          5065030,
          1343,
          54975,
          24073,
          398624,
          2309,
          930,
          13439,
          730797,
          5867,
          135862,
          63,
          50450,
          212590,
          7586,
          79,
          5192,
          2593,
          23364,
          5453,
          5581436,
          348852,
          5577,
          3500,
          154185,
          73676,
          354556,
          11982,
          23484,
          565,
          6921,
          480903,
          52647,
          209534,
          114818,
          10175,
          7717,
          7763,
          1285,
          68910,
          16983,
          36731,
          1179,
          25592,
          4267,
          101838,
          3591,
          0,
          4988,
          18481,
          525213,
          64197,
          55637,
          7717,
          16800,
          38400,
          341423,
          5996,
          818397,
          15,
          5745,
          0,
          3417,
          86998,
          58124,
          0,
          377,
          30,
          2819,
          53204,
          3131,
          33,
          17998,
          443,
          47680,
          1515,
          53687,
          2464,
          5,
          8,
          1924,
          114963,
          69315,
          14120,
          121735,
          1278,
          27653,
          3803,
          143616,
          7010,
          57947,
          7951,
          586,
          162,
          9037,
          8847600,
          7557,
          1207,
          5009,
          113375,
          121472,
          183,
          400242,
          250,
          2954,
          301,
          1504,
          94586,
          69624,
          167005,
          107364,
          5168,
          1,
          63055,
          0,
          1249843,
          24427,
          76774,
          730633,
          498,
          1204452,
          1836,
          22177,
          70151,
          5794,
          63834,
          588,
          23074,
          6066,
          110588,
          216998,
          19,
          116461,
          53266,
          222100,
          24,
          96652,
          145,
          130,
          0,
          64149,
          16657,
          444406,
          302314,
          734503,
          0,
          13677,
          2057,
          659,
          1746279,
          3514,
          5480,
          109,
          30,
          48594,
          63030,
          323067
         ]
        }
       ],
       "layout": {
        "geo": {
         "projection": {
          "type": "equirectangular"
         },
         "showcoastlines": false,
         "showframe": false
        },
        "template": {
         "data": {
          "bar": [
           {
            "error_x": {
             "color": "#2a3f5f"
            },
            "error_y": {
             "color": "#2a3f5f"
            },
            "marker": {
             "line": {
              "color": "#E5ECF6",
              "width": 0.5
             }
            },
            "type": "bar"
           }
          ],
          "barpolar": [
           {
            "marker": {
             "line": {
              "color": "#E5ECF6",
              "width": 0.5
             }
            },
            "type": "barpolar"
           }
          ],
          "carpet": [
           {
            "aaxis": {
             "endlinecolor": "#2a3f5f",
             "gridcolor": "white",
             "linecolor": "white",
             "minorgridcolor": "white",
             "startlinecolor": "#2a3f5f"
            },
            "baxis": {
             "endlinecolor": "#2a3f5f",
             "gridcolor": "white",
             "linecolor": "white",
             "minorgridcolor": "white",
             "startlinecolor": "#2a3f5f"
            },
            "type": "carpet"
           }
          ],
          "choropleth": [
           {
            "colorbar": {
             "outlinewidth": 0,
             "ticks": ""
            },
            "type": "choropleth"
           }
          ],
          "contour": [
           {
            "colorbar": {
             "outlinewidth": 0,
             "ticks": ""
            },
            "colorscale": [
             [
              0,
              "#0d0887"
             ],
             [
              0.1111111111111111,
              "#46039f"
             ],
             [
              0.2222222222222222,
              "#7201a8"
             ],
             [
              0.3333333333333333,
              "#9c179e"
             ],
             [
              0.4444444444444444,
              "#bd3786"
             ],
             [
              0.5555555555555556,
              "#d8576b"
             ],
             [
              0.6666666666666666,
              "#ed7953"
             ],
             [
              0.7777777777777778,
              "#fb9f3a"
             ],
             [
              0.8888888888888888,
              "#fdca26"
             ],
             [
              1,
              "#f0f921"
             ]
            ],
            "type": "contour"
           }
          ],
          "contourcarpet": [
           {
            "colorbar": {
             "outlinewidth": 0,
             "ticks": ""
            },
            "type": "contourcarpet"
           }
          ],
          "heatmap": [
           {
            "colorbar": {
             "outlinewidth": 0,
             "ticks": ""
            },
            "colorscale": [
             [
              0,
              "#0d0887"
             ],
             [
              0.1111111111111111,
              "#46039f"
             ],
             [
              0.2222222222222222,
              "#7201a8"
             ],
             [
              0.3333333333333333,
              "#9c179e"
             ],
             [
              0.4444444444444444,
              "#bd3786"
             ],
             [
              0.5555555555555556,
              "#d8576b"
             ],
             [
              0.6666666666666666,
              "#ed7953"
             ],
             [
              0.7777777777777778,
              "#fb9f3a"
             ],
             [
              0.8888888888888888,
              "#fdca26"
             ],
             [
              1,
              "#f0f921"
             ]
            ],
            "type": "heatmap"
           }
          ],
          "heatmapgl": [
           {
            "colorbar": {
             "outlinewidth": 0,
             "ticks": ""
            },
            "colorscale": [
             [
              0,
              "#0d0887"
             ],
             [
              0.1111111111111111,
              "#46039f"
             ],
             [
              0.2222222222222222,
              "#7201a8"
             ],
             [
              0.3333333333333333,
              "#9c179e"
             ],
             [
              0.4444444444444444,
              "#bd3786"
             ],
             [
              0.5555555555555556,
              "#d8576b"
             ],
             [
              0.6666666666666666,
              "#ed7953"
             ],
             [
              0.7777777777777778,
              "#fb9f3a"
             ],
             [
              0.8888888888888888,
              "#fdca26"
             ],
             [
              1,
              "#f0f921"
             ]
            ],
            "type": "heatmapgl"
           }
          ],
          "histogram": [
           {
            "marker": {
             "colorbar": {
              "outlinewidth": 0,
              "ticks": ""
             }
            },
            "type": "histogram"
           }
          ],
          "histogram2d": [
           {
            "colorbar": {
             "outlinewidth": 0,
             "ticks": ""
            },
            "colorscale": [
             [
              0,
              "#0d0887"
             ],
             [
              0.1111111111111111,
              "#46039f"
             ],
             [
              0.2222222222222222,
              "#7201a8"
             ],
             [
              0.3333333333333333,
              "#9c179e"
             ],
             [
              0.4444444444444444,
              "#bd3786"
             ],
             [
              0.5555555555555556,
              "#d8576b"
             ],
             [
              0.6666666666666666,
              "#ed7953"
             ],
             [
              0.7777777777777778,
              "#fb9f3a"
             ],
             [
              0.8888888888888888,
              "#fdca26"
             ],
             [
              1,
              "#f0f921"
             ]
            ],
            "type": "histogram2d"
           }
          ],
          "histogram2dcontour": [
           {
            "colorbar": {
             "outlinewidth": 0,
             "ticks": ""
            },
            "colorscale": [
             [
              0,
              "#0d0887"
             ],
             [
              0.1111111111111111,
              "#46039f"
             ],
             [
              0.2222222222222222,
              "#7201a8"
             ],
             [
              0.3333333333333333,
              "#9c179e"
             ],
             [
              0.4444444444444444,
              "#bd3786"
             ],
             [
              0.5555555555555556,
              "#d8576b"
             ],
             [
              0.6666666666666666,
              "#ed7953"
             ],
             [
              0.7777777777777778,
              "#fb9f3a"
             ],
             [
              0.8888888888888888,
              "#fdca26"
             ],
             [
              1,
              "#f0f921"
             ]
            ],
            "type": "histogram2dcontour"
           }
          ],
          "mesh3d": [
           {
            "colorbar": {
             "outlinewidth": 0,
             "ticks": ""
            },
            "type": "mesh3d"
           }
          ],
          "parcoords": [
           {
            "line": {
             "colorbar": {
              "outlinewidth": 0,
              "ticks": ""
             }
            },
            "type": "parcoords"
           }
          ],
          "pie": [
           {
            "automargin": true,
            "type": "pie"
           }
          ],
          "scatter": [
           {
            "marker": {
             "colorbar": {
              "outlinewidth": 0,
              "ticks": ""
             }
            },
            "type": "scatter"
           }
          ],
          "scatter3d": [
           {
            "line": {
             "colorbar": {
              "outlinewidth": 0,
              "ticks": ""
             }
            },
            "marker": {
             "colorbar": {
              "outlinewidth": 0,
              "ticks": ""
             }
            },
            "type": "scatter3d"
           }
          ],
          "scattercarpet": [
           {
            "marker": {
             "colorbar": {
              "outlinewidth": 0,
              "ticks": ""
             }
            },
            "type": "scattercarpet"
           }
          ],
          "scattergeo": [
           {
            "marker": {
             "colorbar": {
              "outlinewidth": 0,
              "ticks": ""
             }
            },
            "type": "scattergeo"
           }
          ],
          "scattergl": [
           {
            "marker": {
             "colorbar": {
              "outlinewidth": 0,
              "ticks": ""
             }
            },
            "type": "scattergl"
           }
          ],
          "scattermapbox": [
           {
            "marker": {
             "colorbar": {
              "outlinewidth": 0,
              "ticks": ""
             }
            },
            "type": "scattermapbox"
           }
          ],
          "scatterpolar": [
           {
            "marker": {
             "colorbar": {
              "outlinewidth": 0,
              "ticks": ""
             }
            },
            "type": "scatterpolar"
           }
          ],
          "scatterpolargl": [
           {
            "marker": {
             "colorbar": {
              "outlinewidth": 0,
              "ticks": ""
             }
            },
            "type": "scatterpolargl"
           }
          ],
          "scatterternary": [
           {
            "marker": {
             "colorbar": {
              "outlinewidth": 0,
              "ticks": ""
             }
            },
            "type": "scatterternary"
           }
          ],
          "surface": [
           {
            "colorbar": {
             "outlinewidth": 0,
             "ticks": ""
            },
            "colorscale": [
             [
              0,
              "#0d0887"
             ],
             [
              0.1111111111111111,
              "#46039f"
             ],
             [
              0.2222222222222222,
              "#7201a8"
             ],
             [
              0.3333333333333333,
              "#9c179e"
             ],
             [
              0.4444444444444444,
              "#bd3786"
             ],
             [
              0.5555555555555556,
              "#d8576b"
             ],
             [
              0.6666666666666666,
              "#ed7953"
             ],
             [
              0.7777777777777778,
              "#fb9f3a"
             ],
             [
              0.8888888888888888,
              "#fdca26"
             ],
             [
              1,
              "#f0f921"
             ]
            ],
            "type": "surface"
           }
          ],
          "table": [
           {
            "cells": {
             "fill": {
              "color": "#EBF0F8"
             },
             "line": {
              "color": "white"
             }
            },
            "header": {
             "fill": {
              "color": "#C8D4E3"
             },
             "line": {
              "color": "white"
             }
            },
            "type": "table"
           }
          ]
         },
         "layout": {
          "annotationdefaults": {
           "arrowcolor": "#2a3f5f",
           "arrowhead": 0,
           "arrowwidth": 1
          },
          "autotypenumbers": "strict",
          "coloraxis": {
           "colorbar": {
            "outlinewidth": 0,
            "ticks": ""
           }
          },
          "colorscale": {
           "diverging": [
            [
             0,
             "#8e0152"
            ],
            [
             0.1,
             "#c51b7d"
            ],
            [
             0.2,
             "#de77ae"
            ],
            [
             0.3,
             "#f1b6da"
            ],
            [
             0.4,
             "#fde0ef"
            ],
            [
             0.5,
             "#f7f7f7"
            ],
            [
             0.6,
             "#e6f5d0"
            ],
            [
             0.7,
             "#b8e186"
            ],
            [
             0.8,
             "#7fbc41"
            ],
            [
             0.9,
             "#4d9221"
            ],
            [
             1,
             "#276419"
            ]
           ],
           "sequential": [
            [
             0,
             "#0d0887"
            ],
            [
             0.1111111111111111,
             "#46039f"
            ],
            [
             0.2222222222222222,
             "#7201a8"
            ],
            [
             0.3333333333333333,
             "#9c179e"
            ],
            [
             0.4444444444444444,
             "#bd3786"
            ],
            [
             0.5555555555555556,
             "#d8576b"
            ],
            [
             0.6666666666666666,
             "#ed7953"
            ],
            [
             0.7777777777777778,
             "#fb9f3a"
            ],
            [
             0.8888888888888888,
             "#fdca26"
            ],
            [
             1,
             "#f0f921"
            ]
           ],
           "sequentialminus": [
            [
             0,
             "#0d0887"
            ],
            [
             0.1111111111111111,
             "#46039f"
            ],
            [
             0.2222222222222222,
             "#7201a8"
            ],
            [
             0.3333333333333333,
             "#9c179e"
            ],
            [
             0.4444444444444444,
             "#bd3786"
            ],
            [
             0.5555555555555556,
             "#d8576b"
            ],
            [
             0.6666666666666666,
             "#ed7953"
            ],
            [
             0.7777777777777778,
             "#fb9f3a"
            ],
            [
             0.8888888888888888,
             "#fdca26"
            ],
            [
             1,
             "#f0f921"
            ]
           ]
          },
          "colorway": [
           "#636efa",
           "#EF553B",
           "#00cc96",
           "#ab63fa",
           "#FFA15A",
           "#19d3f3",
           "#FF6692",
           "#B6E880",
           "#FF97FF",
           "#FECB52"
          ],
          "font": {
           "color": "#2a3f5f"
          },
          "geo": {
           "bgcolor": "white",
           "lakecolor": "white",
           "landcolor": "#E5ECF6",
           "showlakes": true,
           "showland": true,
           "subunitcolor": "white"
          },
          "hoverlabel": {
           "align": "left"
          },
          "hovermode": "closest",
          "mapbox": {
           "style": "light"
          },
          "paper_bgcolor": "white",
          "plot_bgcolor": "#E5ECF6",
          "polar": {
           "angularaxis": {
            "gridcolor": "white",
            "linecolor": "white",
            "ticks": ""
           },
           "bgcolor": "#E5ECF6",
           "radialaxis": {
            "gridcolor": "white",
            "linecolor": "white",
            "ticks": ""
           }
          },
          "scene": {
           "xaxis": {
            "backgroundcolor": "#E5ECF6",
            "gridcolor": "white",
            "gridwidth": 2,
            "linecolor": "white",
            "showbackground": true,
            "ticks": "",
            "zerolinecolor": "white"
           },
           "yaxis": {
            "backgroundcolor": "#E5ECF6",
            "gridcolor": "white",
            "gridwidth": 2,
            "linecolor": "white",
            "showbackground": true,
            "ticks": "",
            "zerolinecolor": "white"
           },
           "zaxis": {
            "backgroundcolor": "#E5ECF6",
            "gridcolor": "white",
            "gridwidth": 2,
            "linecolor": "white",
            "showbackground": true,
            "ticks": "",
            "zerolinecolor": "white"
           }
          },
          "shapedefaults": {
           "line": {
            "color": "#2a3f5f"
           }
          },
          "ternary": {
           "aaxis": {
            "gridcolor": "white",
            "linecolor": "white",
            "ticks": ""
           },
           "baxis": {
            "gridcolor": "white",
            "linecolor": "white",
            "ticks": ""
           },
           "bgcolor": "#E5ECF6",
           "caxis": {
            "gridcolor": "white",
            "linecolor": "white",
            "ticks": ""
           }
          },
          "title": {
           "x": 0.05
          },
          "xaxis": {
           "automargin": true,
           "gridcolor": "white",
           "linecolor": "white",
           "ticks": "",
           "title": {
            "standoff": 15
           },
           "zerolinecolor": "white",
           "zerolinewidth": 2
          },
          "yaxis": {
           "automargin": true,
           "gridcolor": "white",
           "linecolor": "white",
           "ticks": "",
           "title": {
            "standoff": 15
           },
           "zerolinecolor": "white",
           "zerolinewidth": 2
          }
         }
        },
        "title": {
         "text": "Globally reported Recovered Cases in 2020",
         "x": 0.5
        }
       }
      },
      "text/html": [
       "<div>                            <div id=\"2fa74c38-2f77-4037-954b-d5a4946fd24e\" class=\"plotly-graph-div\" style=\"height:525px; width:100%;\"></div>            <script type=\"text/javascript\">                require([\"plotly\"], function(Plotly) {                    window.PLOTLYENV=window.PLOTLYENV || {};                                    if (document.getElementById(\"2fa74c38-2f77-4037-954b-d5a4946fd24e\")) {                    Plotly.newPlot(                        \"2fa74c38-2f77-4037-954b-d5a4946fd24e\",                        [{\"colorscale\": [[0.0, \"rgb(255,245,240)\"], [0.125, \"rgb(254,224,210)\"], [0.25, \"rgb(252,187,161)\"], [0.375, \"rgb(252,146,114)\"], [0.5, \"rgb(251,106,74)\"], [0.625, \"rgb(239,59,44)\"], [0.75, \"rgb(203,24,29)\"], [0.875, \"rgb(165,15,21)\"], [1.0, \"rgb(103,0,13)\"]], \"locationmode\": \"country names\", \"locations\": [\"Zimbabwe\", \"Cote d'Ivoire\", \"Kuwait\", \"Latvia\", \"Georgia\", \"New Zealand\", \"Bosnia and Herzegovina\", \"Tajikistan\", \"Costa Rica\", \"Saudi Arabia\", \"Iran\", \"Maldives\", \"Sri Lanka\", \"Burundi\", \"Poland\", \"Ecuador\", \"Mongolia\", \"Uganda\", \"Bahrain\", \"Bangladesh\", \"Liechtenstein\", \"Jordan\", \"Spain\", \"Nicaragua\", \"Indonesia\", \"Mali\", \"Monaco\", \"Peru\", \"El Salvador\", \"Guyana\", \"Cabo Verde\", \"Egypt\", \"Congo (Kinshasa)\", \"Senegal\", \"US\", \"Liberia\", \"Kenya\", \"Luxembourg\", \"Philippines\", \"Guinea-Bissau\", \"Sao Tome and Principe\", \"Namibia\", \"Germany\", \"Bahamas\", \"Qatar\", \"Dominica\", \"Ghana\", \"Nepal\", \"Cuba\", \"Saint Vincent and the Grenadines\", \"Suriname\", \"Burkina Faso\", \"Ireland\", \"Malawi\", \"Brazil\", \"Romania\", \"Djibouti\", \"Syria\", \"United Arab Emirates\", \"Azerbaijan\", \"Ukraine\", \"Guinea\", \"Montenegro\", \"Taiwan*\", \"Netherlands\", \"Iraq\", \"Malaysia\", \"Portugal\", \"Dominican Republic\", \"Sudan\", \"Botswana\", \"Angola\", \"San Marino\", \"Burma\", \"Zambia\", \"Afghanistan\", \"Vietnam\", \"Australia\", \"Uruguay\", \"Croatia\", \"Gambia\", \"Serbia\", \"Congo (Brazzaville)\", \"Albania\", \"Chile\", \"Slovakia\", \"Hungary\", \"Mauritania\", \"Finland\", \"North Macedonia\", \"Pakistan\", \"Eswatini\", \"Mexico\", \"Holy See\", \"Trinidad and Tobago\", \"Belgium\", \"Somalia\", \"China\", \"Singapore\", \"Canada\", \"Bhutan\", \"Timor-Leste\", \"Benin\", \"Algeria\", \"Belize\", \"Fiji\", \"Norway\", \"Mauritius\", \"Honduras\", \"Chad\", \"Slovenia\", \"Togo\", \"Solomon Islands\", \"Western Sahara\", \"Central African Republic\", \"Oman\", \"Ethiopia\", \"Lithuania\", \"Japan\", \"Lesotho\", \"Korea, South\", \"Thailand\", \"Panama\", \"Estonia\", \"Paraguay\", \"Haiti\", \"Comoros\", \"Seychelles\", \"Gabon\", \"India\", \"Malta\", \"Niger\", \"Equatorial Guinea\", \"Belarus\", \"Bolivia\", \"Tanzania\", \"Turkey\", \"Barbados\", \"South Sudan\", \"Cambodia\", \"Yemen\", \"Moldova\", \"Tunisia\", \"France\", \"Armenia\", \"Iceland\", \"Marshall Islands\", \"Nigeria\", \"Vanuatu\", \"Argentina\", \"Kosovo\", \"Lebanon\", \"South Africa\", \"Eritrea\", \"Colombia\", \"Sierra Leone\", \"Cameroon\", \"Uzbekistan\", \"Andorra\", \"West Bank and Gaza\", \"Papua New Guinea\", \"Greece\", \"Jamaica\", \"Guatemala\", \"Austria\", \"Saint Kitts and Nevis\", \"Kazakhstan\", \"Libya\", \"Switzerland\", \"Laos\", \"Venezuela\", \"Brunei\", \"Antigua and Barbuda\", \"MS Zaandam\", \"Kyrgyzstan\", \"Madagascar\", \"Czechia\", \"Morocco\", \"Italy\", \"Sweden\", \"Mozambique\", \"Cyprus\", \"Diamond Princess\", \"Russia\", \"United Kingdom\", \"Rwanda\", \"Saint Lucia\", \"Grenada\", \"Bulgaria\", \"Denmark\", \"Israel\"], \"marker\": {\"line\": {\"color\": \"black\", \"width\": 0.5}}, \"type\": \"choropleth\", \"z\": [8472.0, 20947.0, 136413.0, 1719.0, 110049.0, 1959.0, 51479.0, 11559.0, 84991.0, 346409.0, 658292.0, 11902.0, 17002.0, 575.0, 559429.0, 169804.0, 354.0, 8989.0, 84977.0, 378172.0, 1024.0, 148572.0, 150376.0, 4225.0, 445793.0, 3178.0, 537.0, 893061.0, 35078.0, 4346.0, 10229.0, 102596.0, 11585.0, 15597.0, 5065030.0, 1343.0, 54975.0, 24073.0, 398624.0, 2309.0, 930.0, 13439.0, 730797.0, 5867.0, 135862.0, 63.0, 50450.0, 212590.0, 7586.0, 79.0, 5192.0, 2593.0, 23364.0, 5453.0, 5581436.0, 348852.0, 5577.0, 3500.0, 154185.0, 73676.0, 354556.0, 11982.0, 23484.0, 565.0, 6921.0, 480903.0, 52647.0, 209534.0, 114818.0, 10175.0, 7717.0, 7763.0, 1285.0, 68910.0, 16983.0, 36731.0, 1179.0, 25592.0, 4267.0, 101838.0, 3591.0, 0.0, 4988.0, 18481.0, 525213.0, 64197.0, 55637.0, 7717.0, 16800.0, 38400.0, 341423.0, 5996.0, 818397.0, 15.0, 5745.0, 0.0, 3417.0, 86998.0, 58124.0, 0.0, 377.0, 30.0, 2819.0, 53204.0, 3131.0, 33.0, 17998.0, 443.0, 47680.0, 1515.0, 53687.0, 2464.0, 5.0, 8.0, 1924.0, 114963.0, 69315.0, 14120.0, 121735.0, 1278.0, 27653.0, 3803.0, 143616.0, 7010.0, 57947.0, 7951.0, 586.0, 162.0, 9037.0, 8847600.0, 7557.0, 1207.0, 5009.0, 113375.0, 121472.0, 183.0, 400242.0, 250.0, 2954.0, 301.0, 1504.0, 94586.0, 69624.0, 167005.0, 107364.0, 5168.0, 1.0, 63055.0, 0.0, 1249843.0, 24427.0, 76774.0, 730633.0, 498.0, 1204452.0, 1836.0, 22177.0, 70151.0, 5794.0, 63834.0, 588.0, 23074.0, 6066.0, 110588.0, 216998.0, 19.0, 116461.0, 53266.0, 222100.0, 24.0, 96652.0, 145.0, 130.0, 0.0, 64149.0, 16657.0, 444406.0, 302314.0, 734503.0, 0.0, 13677.0, 2057.0, 659.0, 1746279.0, 3514.0, 5480.0, 109.0, 30.0, 48594.0, 63030.0, 323067.0]}],                        {\"geo\": {\"projection\": {\"type\": \"equirectangular\"}, \"showcoastlines\": false, \"showframe\": false}, \"template\": {\"data\": {\"bar\": [{\"error_x\": {\"color\": \"#2a3f5f\"}, \"error_y\": {\"color\": \"#2a3f5f\"}, \"marker\": {\"line\": {\"color\": \"#E5ECF6\", \"width\": 0.5}}, \"type\": \"bar\"}], \"barpolar\": [{\"marker\": {\"line\": {\"color\": \"#E5ECF6\", \"width\": 0.5}}, \"type\": \"barpolar\"}], \"carpet\": [{\"aaxis\": {\"endlinecolor\": \"#2a3f5f\", \"gridcolor\": \"white\", \"linecolor\": \"white\", \"minorgridcolor\": \"white\", \"startlinecolor\": \"#2a3f5f\"}, \"baxis\": {\"endlinecolor\": \"#2a3f5f\", \"gridcolor\": \"white\", \"linecolor\": \"white\", \"minorgridcolor\": \"white\", \"startlinecolor\": \"#2a3f5f\"}, \"type\": \"carpet\"}], \"choropleth\": [{\"colorbar\": {\"outlinewidth\": 0, \"ticks\": \"\"}, \"type\": \"choropleth\"}], \"contour\": [{\"colorbar\": {\"outlinewidth\": 0, \"ticks\": \"\"}, \"colorscale\": [[0.0, \"#0d0887\"], [0.1111111111111111, \"#46039f\"], [0.2222222222222222, \"#7201a8\"], [0.3333333333333333, \"#9c179e\"], [0.4444444444444444, \"#bd3786\"], [0.5555555555555556, \"#d8576b\"], [0.6666666666666666, \"#ed7953\"], [0.7777777777777778, \"#fb9f3a\"], [0.8888888888888888, \"#fdca26\"], [1.0, \"#f0f921\"]], \"type\": \"contour\"}], \"contourcarpet\": [{\"colorbar\": {\"outlinewidth\": 0, \"ticks\": \"\"}, \"type\": \"contourcarpet\"}], \"heatmap\": [{\"colorbar\": {\"outlinewidth\": 0, \"ticks\": \"\"}, \"colorscale\": [[0.0, \"#0d0887\"], [0.1111111111111111, \"#46039f\"], [0.2222222222222222, \"#7201a8\"], [0.3333333333333333, \"#9c179e\"], [0.4444444444444444, \"#bd3786\"], [0.5555555555555556, \"#d8576b\"], [0.6666666666666666, \"#ed7953\"], [0.7777777777777778, \"#fb9f3a\"], [0.8888888888888888, \"#fdca26\"], [1.0, \"#f0f921\"]], \"type\": \"heatmap\"}], \"heatmapgl\": [{\"colorbar\": {\"outlinewidth\": 0, \"ticks\": \"\"}, \"colorscale\": [[0.0, \"#0d0887\"], [0.1111111111111111, \"#46039f\"], [0.2222222222222222, \"#7201a8\"], [0.3333333333333333, \"#9c179e\"], [0.4444444444444444, \"#bd3786\"], [0.5555555555555556, \"#d8576b\"], [0.6666666666666666, \"#ed7953\"], [0.7777777777777778, \"#fb9f3a\"], [0.8888888888888888, \"#fdca26\"], [1.0, \"#f0f921\"]], \"type\": \"heatmapgl\"}], \"histogram\": [{\"marker\": {\"colorbar\": {\"outlinewidth\": 0, \"ticks\": \"\"}}, \"type\": \"histogram\"}], \"histogram2d\": [{\"colorbar\": {\"outlinewidth\": 0, \"ticks\": \"\"}, \"colorscale\": [[0.0, \"#0d0887\"], [0.1111111111111111, \"#46039f\"], [0.2222222222222222, \"#7201a8\"], [0.3333333333333333, \"#9c179e\"], [0.4444444444444444, \"#bd3786\"], [0.5555555555555556, \"#d8576b\"], [0.6666666666666666, \"#ed7953\"], [0.7777777777777778, \"#fb9f3a\"], [0.8888888888888888, \"#fdca26\"], [1.0, \"#f0f921\"]], \"type\": \"histogram2d\"}], \"histogram2dcontour\": [{\"colorbar\": {\"outlinewidth\": 0, \"ticks\": \"\"}, \"colorscale\": [[0.0, \"#0d0887\"], [0.1111111111111111, \"#46039f\"], [0.2222222222222222, \"#7201a8\"], [0.3333333333333333, \"#9c179e\"], [0.4444444444444444, \"#bd3786\"], [0.5555555555555556, \"#d8576b\"], [0.6666666666666666, \"#ed7953\"], [0.7777777777777778, \"#fb9f3a\"], [0.8888888888888888, \"#fdca26\"], [1.0, \"#f0f921\"]], \"type\": \"histogram2dcontour\"}], \"mesh3d\": [{\"colorbar\": {\"outlinewidth\": 0, \"ticks\": \"\"}, \"type\": \"mesh3d\"}], \"parcoords\": [{\"line\": {\"colorbar\": {\"outlinewidth\": 0, \"ticks\": \"\"}}, \"type\": \"parcoords\"}], \"pie\": [{\"automargin\": true, \"type\": \"pie\"}], \"scatter\": [{\"marker\": {\"colorbar\": {\"outlinewidth\": 0, \"ticks\": \"\"}}, \"type\": \"scatter\"}], \"scatter3d\": [{\"line\": {\"colorbar\": {\"outlinewidth\": 0, \"ticks\": \"\"}}, \"marker\": {\"colorbar\": {\"outlinewidth\": 0, \"ticks\": \"\"}}, \"type\": \"scatter3d\"}], \"scattercarpet\": [{\"marker\": {\"colorbar\": {\"outlinewidth\": 0, \"ticks\": \"\"}}, \"type\": \"scattercarpet\"}], \"scattergeo\": [{\"marker\": {\"colorbar\": {\"outlinewidth\": 0, \"ticks\": \"\"}}, \"type\": \"scattergeo\"}], \"scattergl\": [{\"marker\": {\"colorbar\": {\"outlinewidth\": 0, \"ticks\": \"\"}}, \"type\": \"scattergl\"}], \"scattermapbox\": [{\"marker\": {\"colorbar\": {\"outlinewidth\": 0, \"ticks\": \"\"}}, \"type\": \"scattermapbox\"}], \"scatterpolar\": [{\"marker\": {\"colorbar\": {\"outlinewidth\": 0, \"ticks\": \"\"}}, \"type\": \"scatterpolar\"}], \"scatterpolargl\": [{\"marker\": {\"colorbar\": {\"outlinewidth\": 0, \"ticks\": \"\"}}, \"type\": \"scatterpolargl\"}], \"scatterternary\": [{\"marker\": {\"colorbar\": {\"outlinewidth\": 0, \"ticks\": \"\"}}, \"type\": \"scatterternary\"}], \"surface\": [{\"colorbar\": {\"outlinewidth\": 0, \"ticks\": \"\"}, \"colorscale\": [[0.0, \"#0d0887\"], [0.1111111111111111, \"#46039f\"], [0.2222222222222222, \"#7201a8\"], [0.3333333333333333, \"#9c179e\"], [0.4444444444444444, \"#bd3786\"], [0.5555555555555556, \"#d8576b\"], [0.6666666666666666, \"#ed7953\"], [0.7777777777777778, \"#fb9f3a\"], [0.8888888888888888, \"#fdca26\"], [1.0, \"#f0f921\"]], \"type\": \"surface\"}], \"table\": [{\"cells\": {\"fill\": {\"color\": \"#EBF0F8\"}, \"line\": {\"color\": \"white\"}}, \"header\": {\"fill\": {\"color\": \"#C8D4E3\"}, \"line\": {\"color\": \"white\"}}, \"type\": \"table\"}]}, \"layout\": {\"annotationdefaults\": {\"arrowcolor\": \"#2a3f5f\", \"arrowhead\": 0, \"arrowwidth\": 1}, \"autotypenumbers\": \"strict\", \"coloraxis\": {\"colorbar\": {\"outlinewidth\": 0, \"ticks\": \"\"}}, \"colorscale\": {\"diverging\": [[0, \"#8e0152\"], [0.1, \"#c51b7d\"], [0.2, \"#de77ae\"], [0.3, \"#f1b6da\"], [0.4, \"#fde0ef\"], [0.5, \"#f7f7f7\"], [0.6, \"#e6f5d0\"], [0.7, \"#b8e186\"], [0.8, \"#7fbc41\"], [0.9, \"#4d9221\"], [1, \"#276419\"]], \"sequential\": [[0.0, \"#0d0887\"], [0.1111111111111111, \"#46039f\"], [0.2222222222222222, \"#7201a8\"], [0.3333333333333333, \"#9c179e\"], [0.4444444444444444, \"#bd3786\"], [0.5555555555555556, \"#d8576b\"], [0.6666666666666666, \"#ed7953\"], [0.7777777777777778, \"#fb9f3a\"], [0.8888888888888888, \"#fdca26\"], [1.0, \"#f0f921\"]], \"sequentialminus\": [[0.0, \"#0d0887\"], [0.1111111111111111, \"#46039f\"], [0.2222222222222222, \"#7201a8\"], [0.3333333333333333, \"#9c179e\"], [0.4444444444444444, \"#bd3786\"], [0.5555555555555556, \"#d8576b\"], [0.6666666666666666, \"#ed7953\"], [0.7777777777777778, \"#fb9f3a\"], [0.8888888888888888, \"#fdca26\"], [1.0, \"#f0f921\"]]}, \"colorway\": [\"#636efa\", \"#EF553B\", \"#00cc96\", \"#ab63fa\", \"#FFA15A\", \"#19d3f3\", \"#FF6692\", \"#B6E880\", \"#FF97FF\", \"#FECB52\"], \"font\": {\"color\": \"#2a3f5f\"}, \"geo\": {\"bgcolor\": \"white\", \"lakecolor\": \"white\", \"landcolor\": \"#E5ECF6\", \"showlakes\": true, \"showland\": true, \"subunitcolor\": \"white\"}, \"hoverlabel\": {\"align\": \"left\"}, \"hovermode\": \"closest\", \"mapbox\": {\"style\": \"light\"}, \"paper_bgcolor\": \"white\", \"plot_bgcolor\": \"#E5ECF6\", \"polar\": {\"angularaxis\": {\"gridcolor\": \"white\", \"linecolor\": \"white\", \"ticks\": \"\"}, \"bgcolor\": \"#E5ECF6\", \"radialaxis\": {\"gridcolor\": \"white\", \"linecolor\": \"white\", \"ticks\": \"\"}}, \"scene\": {\"xaxis\": {\"backgroundcolor\": \"#E5ECF6\", \"gridcolor\": \"white\", \"gridwidth\": 2, \"linecolor\": \"white\", \"showbackground\": true, \"ticks\": \"\", \"zerolinecolor\": \"white\"}, \"yaxis\": {\"backgroundcolor\": \"#E5ECF6\", \"gridcolor\": \"white\", \"gridwidth\": 2, \"linecolor\": \"white\", \"showbackground\": true, \"ticks\": \"\", \"zerolinecolor\": \"white\"}, \"zaxis\": {\"backgroundcolor\": \"#E5ECF6\", \"gridcolor\": \"white\", \"gridwidth\": 2, \"linecolor\": \"white\", \"showbackground\": true, \"ticks\": \"\", \"zerolinecolor\": \"white\"}}, \"shapedefaults\": {\"line\": {\"color\": \"#2a3f5f\"}}, \"ternary\": {\"aaxis\": {\"gridcolor\": \"white\", \"linecolor\": \"white\", \"ticks\": \"\"}, \"baxis\": {\"gridcolor\": \"white\", \"linecolor\": \"white\", \"ticks\": \"\"}, \"bgcolor\": \"#E5ECF6\", \"caxis\": {\"gridcolor\": \"white\", \"linecolor\": \"white\", \"ticks\": \"\"}}, \"title\": {\"x\": 0.05}, \"xaxis\": {\"automargin\": true, \"gridcolor\": \"white\", \"linecolor\": \"white\", \"ticks\": \"\", \"title\": {\"standoff\": 15}, \"zerolinecolor\": \"white\", \"zerolinewidth\": 2}, \"yaxis\": {\"automargin\": true, \"gridcolor\": \"white\", \"linecolor\": \"white\", \"ticks\": \"\", \"title\": {\"standoff\": 15}, \"zerolinecolor\": \"white\", \"zerolinewidth\": 2}}}, \"title\": {\"text\": \"Globally reported Recovered Cases in 2020\", \"x\": 0.5}},                        {\"responsive\": true}                    ).then(function(){\n",
       "                            \n",
       "var gd = document.getElementById('2fa74c38-2f77-4037-954b-d5a4946fd24e');\n",
       "var x = new MutationObserver(function (mutations, observer) {{\n",
       "        var display = window.getComputedStyle(gd).display;\n",
       "        if (!display || display === 'none') {{\n",
       "            console.log([gd, 'removed!']);\n",
       "            Plotly.purge(gd);\n",
       "            observer.disconnect();\n",
       "        }}\n",
       "}});\n",
       "\n",
       "// Listen for the removal of the full notebook cells\n",
       "var notebookContainer = gd.closest('#notebook-container');\n",
       "if (notebookContainer) {{\n",
       "    x.observe(notebookContainer, {childList: true});\n",
       "}}\n",
       "\n",
       "// Listen for the clearing of the current output cell\n",
       "var outputEl = gd.closest('.output');\n",
       "if (outputEl) {{\n",
       "    x.observe(outputEl, {childList: true});\n",
       "}}\n",
       "\n",
       "                        })                };                });            </script>        </div>"
      ]
     },
     "metadata": {},
     "output_type": "display_data"
    }
   ],
   "source": [
    "# Creating the Choropleth \n",
    "fig = go.Figure(data=go.Choropleth(\n",
    " locations = df_countries['Country'],\n",
    " locationmode = 'country names',\n",
    " z = df_countries['Recovered'],\n",
    " colorscale = 'Reds',\n",
    " marker_line_color = 'black',\n",
    " marker_line_width = 0.5,\n",
    "))\n",
    "fig.update_layout(\n",
    " title_text = 'Globally reported Recovered Cases in 2020',\n",
    " title_x = 0.5,\n",
    " geo=dict(\n",
    " showframe = False,\n",
    " showcoastlines = False,\n",
    " projection_type = 'equirectangular'\n",
    " )\n",
    ")\n",
    "fig.show()"
   ]
  },
  {
   "cell_type": "markdown",
   "metadata": {},
   "source": [
    "###### India is the first country having high recovered cases followed by Brazil & US"
   ]
  },
  {
   "cell_type": "code",
   "execution_count": 15,
   "metadata": {},
   "outputs": [
    {
     "data": {
      "application/vnd.plotly.v1+json": {
       "config": {
        "plotlyServerURL": "https://plot.ly"
       },
       "data": [
        {
         "colorscale": [
          [
           0,
           "rgb(255,245,240)"
          ],
          [
           0.125,
           "rgb(254,224,210)"
          ],
          [
           0.25,
           "rgb(252,187,161)"
          ],
          [
           0.375,
           "rgb(252,146,114)"
          ],
          [
           0.5,
           "rgb(251,106,74)"
          ],
          [
           0.625,
           "rgb(239,59,44)"
          ],
          [
           0.75,
           "rgb(203,24,29)"
          ],
          [
           0.875,
           "rgb(165,15,21)"
          ],
          [
           1,
           "rgb(103,0,13)"
          ]
         ],
         "locationmode": "country names",
         "locations": [
          "Zimbabwe",
          "Cote d'Ivoire",
          "Kuwait",
          "Latvia",
          "Georgia",
          "New Zealand",
          "Bosnia and Herzegovina",
          "Tajikistan",
          "Costa Rica",
          "Saudi Arabia",
          "Iran",
          "Maldives",
          "Sri Lanka",
          "Burundi",
          "Poland",
          "Ecuador",
          "Mongolia",
          "Uganda",
          "Bahrain",
          "Bangladesh",
          "Liechtenstein",
          "Jordan",
          "Spain",
          "Nicaragua",
          "Indonesia",
          "Mali",
          "Monaco",
          "Peru",
          "El Salvador",
          "Guyana",
          "Cabo Verde",
          "Egypt",
          "Congo (Kinshasa)",
          "Senegal",
          "US",
          "Liberia",
          "Kenya",
          "Luxembourg",
          "Philippines",
          "Guinea-Bissau",
          "Sao Tome and Principe",
          "Namibia",
          "Germany",
          "Bahamas",
          "Qatar",
          "Dominica",
          "Ghana",
          "Nepal",
          "Cuba",
          "Saint Vincent and the Grenadines",
          "Suriname",
          "Burkina Faso",
          "Ireland",
          "Malawi",
          "Brazil",
          "Romania",
          "Djibouti",
          "Syria",
          "United Arab Emirates",
          "Azerbaijan",
          "Ukraine",
          "Guinea",
          "Montenegro",
          "Taiwan*",
          "Netherlands",
          "Iraq",
          "Malaysia",
          "Portugal",
          "Dominican Republic",
          "Sudan",
          "Botswana",
          "Angola",
          "San Marino",
          "Burma",
          "Zambia",
          "Afghanistan",
          "Vietnam",
          "Australia",
          "Uruguay",
          "Croatia",
          "Gambia",
          "Serbia",
          "Congo (Brazzaville)",
          "Albania",
          "Chile",
          "Slovakia",
          "Hungary",
          "Mauritania",
          "Finland",
          "North Macedonia",
          "Pakistan",
          "Eswatini",
          "Mexico",
          "Holy See",
          "Trinidad and Tobago",
          "Belgium",
          "Somalia",
          "China",
          "Singapore",
          "Canada",
          "Bhutan",
          "Timor-Leste",
          "Benin",
          "Algeria",
          "Belize",
          "Fiji",
          "Norway",
          "Mauritius",
          "Honduras",
          "Chad",
          "Slovenia",
          "Togo",
          "Solomon Islands",
          "Western Sahara",
          "Central African Republic",
          "Oman",
          "Ethiopia",
          "Lithuania",
          "Japan",
          "Lesotho",
          "Korea, South",
          "Thailand",
          "Panama",
          "Estonia",
          "Paraguay",
          "Haiti",
          "Comoros",
          "Seychelles",
          "Gabon",
          "India",
          "Malta",
          "Niger",
          "Equatorial Guinea",
          "Belarus",
          "Bolivia",
          "Tanzania",
          "Turkey",
          "Barbados",
          "South Sudan",
          "Cambodia",
          "Yemen",
          "Moldova",
          "Tunisia",
          "France",
          "Armenia",
          "Iceland",
          "Marshall Islands",
          "Nigeria",
          "Vanuatu",
          "Argentina",
          "Kosovo",
          "Lebanon",
          "South Africa",
          "Eritrea",
          "Colombia",
          "Sierra Leone",
          "Cameroon",
          "Uzbekistan",
          "Andorra",
          "West Bank and Gaza",
          "Papua New Guinea",
          "Greece",
          "Jamaica",
          "Guatemala",
          "Austria",
          "Saint Kitts and Nevis",
          "Kazakhstan",
          "Libya",
          "Switzerland",
          "Laos",
          "Venezuela",
          "Brunei",
          "Antigua and Barbuda",
          "MS Zaandam",
          "Kyrgyzstan",
          "Madagascar",
          "Czechia",
          "Morocco",
          "Italy",
          "Sweden",
          "Mozambique",
          "Cyprus",
          "Diamond Princess",
          "Russia",
          "United Kingdom",
          "Rwanda",
          "Saint Lucia",
          "Grenada",
          "Bulgaria",
          "Denmark",
          "Israel"
         ],
         "marker": {
          "line": {
           "color": "black",
           "width": 0.5
          }
         },
         "type": "choropleth",
         "z": [
          275,
          131,
          878,
          197,
          1230,
          25,
          2620,
          86,
          1690,
          5884,
          47874,
          46,
          116,
          1,
          17029,
          13423,
          0,
          201,
          341,
          6609,
          15,
          2694,
          44668,
          160,
          16815,
          152,
          3,
          35923,
          1111,
          150,
          105,
          6636,
          333,
          333,
          266873,
          83,
          1452,
          300,
          8373,
          43,
          17,
          151,
          16306,
          163,
          237,
          0,
          323,
          1479,
          134,
          0,
          117,
          68,
          2052,
          185,
          172833,
          11193,
          61,
          413,
          570,
          1361,
          12613,
          76,
          487,
          7,
          9426,
          12224,
          357,
          4427,
          2330,
          1235,
          31,
          346,
          45,
          1918,
          357,
          1763,
          35,
          908,
          76,
          1712,
          123,
          1549,
          94,
          798,
          15356,
          816,
          4672,
          175,
          393,
          1731,
          8025,
          121,
          105655,
          0,
          120,
          16547,
          113,
          4743,
          29,
          12046,
          0,
          0,
          43,
          2410,
          147,
          2,
          328,
          10,
          2909,
          101,
          1384,
          64,
          0,
          1,
          63,
          1418,
          1700,
          493,
          2057,
          44,
          526,
          60,
          3060,
          112,
          1743,
          232,
          7,
          0,
          59,
          137139,
          133,
          70,
          85,
          1151,
          8952,
          21,
          13558,
          7,
          61,
          0,
          617,
          2290,
          3219,
          52410,
          2142,
          26,
          0,
          1173,
          0,
          38473,
          1005,
          1004,
          21477,
          0,
          36584,
          74,
          437,
          608,
          76,
          717,
          7,
          2321,
          256,
          4166,
          3105,
          0,
          1990,
          1166,
          4650,
          0,
          894,
          3,
          4,
          2,
          1271,
          251,
          8138,
          5789,
          54904,
          6681,
          130,
          48,
          13,
          39127,
          58342,
          48,
          2,
          0,
          3814,
          829,
          2864
         ]
        }
       ],
       "layout": {
        "geo": {
         "projection": {
          "type": "equirectangular"
         },
         "showcoastlines": false,
         "showframe": false
        },
        "template": {
         "data": {
          "bar": [
           {
            "error_x": {
             "color": "#2a3f5f"
            },
            "error_y": {
             "color": "#2a3f5f"
            },
            "marker": {
             "line": {
              "color": "#E5ECF6",
              "width": 0.5
             }
            },
            "type": "bar"
           }
          ],
          "barpolar": [
           {
            "marker": {
             "line": {
              "color": "#E5ECF6",
              "width": 0.5
             }
            },
            "type": "barpolar"
           }
          ],
          "carpet": [
           {
            "aaxis": {
             "endlinecolor": "#2a3f5f",
             "gridcolor": "white",
             "linecolor": "white",
             "minorgridcolor": "white",
             "startlinecolor": "#2a3f5f"
            },
            "baxis": {
             "endlinecolor": "#2a3f5f",
             "gridcolor": "white",
             "linecolor": "white",
             "minorgridcolor": "white",
             "startlinecolor": "#2a3f5f"
            },
            "type": "carpet"
           }
          ],
          "choropleth": [
           {
            "colorbar": {
             "outlinewidth": 0,
             "ticks": ""
            },
            "type": "choropleth"
           }
          ],
          "contour": [
           {
            "colorbar": {
             "outlinewidth": 0,
             "ticks": ""
            },
            "colorscale": [
             [
              0,
              "#0d0887"
             ],
             [
              0.1111111111111111,
              "#46039f"
             ],
             [
              0.2222222222222222,
              "#7201a8"
             ],
             [
              0.3333333333333333,
              "#9c179e"
             ],
             [
              0.4444444444444444,
              "#bd3786"
             ],
             [
              0.5555555555555556,
              "#d8576b"
             ],
             [
              0.6666666666666666,
              "#ed7953"
             ],
             [
              0.7777777777777778,
              "#fb9f3a"
             ],
             [
              0.8888888888888888,
              "#fdca26"
             ],
             [
              1,
              "#f0f921"
             ]
            ],
            "type": "contour"
           }
          ],
          "contourcarpet": [
           {
            "colorbar": {
             "outlinewidth": 0,
             "ticks": ""
            },
            "type": "contourcarpet"
           }
          ],
          "heatmap": [
           {
            "colorbar": {
             "outlinewidth": 0,
             "ticks": ""
            },
            "colorscale": [
             [
              0,
              "#0d0887"
             ],
             [
              0.1111111111111111,
              "#46039f"
             ],
             [
              0.2222222222222222,
              "#7201a8"
             ],
             [
              0.3333333333333333,
              "#9c179e"
             ],
             [
              0.4444444444444444,
              "#bd3786"
             ],
             [
              0.5555555555555556,
              "#d8576b"
             ],
             [
              0.6666666666666666,
              "#ed7953"
             ],
             [
              0.7777777777777778,
              "#fb9f3a"
             ],
             [
              0.8888888888888888,
              "#fdca26"
             ],
             [
              1,
              "#f0f921"
             ]
            ],
            "type": "heatmap"
           }
          ],
          "heatmapgl": [
           {
            "colorbar": {
             "outlinewidth": 0,
             "ticks": ""
            },
            "colorscale": [
             [
              0,
              "#0d0887"
             ],
             [
              0.1111111111111111,
              "#46039f"
             ],
             [
              0.2222222222222222,
              "#7201a8"
             ],
             [
              0.3333333333333333,
              "#9c179e"
             ],
             [
              0.4444444444444444,
              "#bd3786"
             ],
             [
              0.5555555555555556,
              "#d8576b"
             ],
             [
              0.6666666666666666,
              "#ed7953"
             ],
             [
              0.7777777777777778,
              "#fb9f3a"
             ],
             [
              0.8888888888888888,
              "#fdca26"
             ],
             [
              1,
              "#f0f921"
             ]
            ],
            "type": "heatmapgl"
           }
          ],
          "histogram": [
           {
            "marker": {
             "colorbar": {
              "outlinewidth": 0,
              "ticks": ""
             }
            },
            "type": "histogram"
           }
          ],
          "histogram2d": [
           {
            "colorbar": {
             "outlinewidth": 0,
             "ticks": ""
            },
            "colorscale": [
             [
              0,
              "#0d0887"
             ],
             [
              0.1111111111111111,
              "#46039f"
             ],
             [
              0.2222222222222222,
              "#7201a8"
             ],
             [
              0.3333333333333333,
              "#9c179e"
             ],
             [
              0.4444444444444444,
              "#bd3786"
             ],
             [
              0.5555555555555556,
              "#d8576b"
             ],
             [
              0.6666666666666666,
              "#ed7953"
             ],
             [
              0.7777777777777778,
              "#fb9f3a"
             ],
             [
              0.8888888888888888,
              "#fdca26"
             ],
             [
              1,
              "#f0f921"
             ]
            ],
            "type": "histogram2d"
           }
          ],
          "histogram2dcontour": [
           {
            "colorbar": {
             "outlinewidth": 0,
             "ticks": ""
            },
            "colorscale": [
             [
              0,
              "#0d0887"
             ],
             [
              0.1111111111111111,
              "#46039f"
             ],
             [
              0.2222222222222222,
              "#7201a8"
             ],
             [
              0.3333333333333333,
              "#9c179e"
             ],
             [
              0.4444444444444444,
              "#bd3786"
             ],
             [
              0.5555555555555556,
              "#d8576b"
             ],
             [
              0.6666666666666666,
              "#ed7953"
             ],
             [
              0.7777777777777778,
              "#fb9f3a"
             ],
             [
              0.8888888888888888,
              "#fdca26"
             ],
             [
              1,
              "#f0f921"
             ]
            ],
            "type": "histogram2dcontour"
           }
          ],
          "mesh3d": [
           {
            "colorbar": {
             "outlinewidth": 0,
             "ticks": ""
            },
            "type": "mesh3d"
           }
          ],
          "parcoords": [
           {
            "line": {
             "colorbar": {
              "outlinewidth": 0,
              "ticks": ""
             }
            },
            "type": "parcoords"
           }
          ],
          "pie": [
           {
            "automargin": true,
            "type": "pie"
           }
          ],
          "scatter": [
           {
            "marker": {
             "colorbar": {
              "outlinewidth": 0,
              "ticks": ""
             }
            },
            "type": "scatter"
           }
          ],
          "scatter3d": [
           {
            "line": {
             "colorbar": {
              "outlinewidth": 0,
              "ticks": ""
             }
            },
            "marker": {
             "colorbar": {
              "outlinewidth": 0,
              "ticks": ""
             }
            },
            "type": "scatter3d"
           }
          ],
          "scattercarpet": [
           {
            "marker": {
             "colorbar": {
              "outlinewidth": 0,
              "ticks": ""
             }
            },
            "type": "scattercarpet"
           }
          ],
          "scattergeo": [
           {
            "marker": {
             "colorbar": {
              "outlinewidth": 0,
              "ticks": ""
             }
            },
            "type": "scattergeo"
           }
          ],
          "scattergl": [
           {
            "marker": {
             "colorbar": {
              "outlinewidth": 0,
              "ticks": ""
             }
            },
            "type": "scattergl"
           }
          ],
          "scattermapbox": [
           {
            "marker": {
             "colorbar": {
              "outlinewidth": 0,
              "ticks": ""
             }
            },
            "type": "scattermapbox"
           }
          ],
          "scatterpolar": [
           {
            "marker": {
             "colorbar": {
              "outlinewidth": 0,
              "ticks": ""
             }
            },
            "type": "scatterpolar"
           }
          ],
          "scatterpolargl": [
           {
            "marker": {
             "colorbar": {
              "outlinewidth": 0,
              "ticks": ""
             }
            },
            "type": "scatterpolargl"
           }
          ],
          "scatterternary": [
           {
            "marker": {
             "colorbar": {
              "outlinewidth": 0,
              "ticks": ""
             }
            },
            "type": "scatterternary"
           }
          ],
          "surface": [
           {
            "colorbar": {
             "outlinewidth": 0,
             "ticks": ""
            },
            "colorscale": [
             [
              0,
              "#0d0887"
             ],
             [
              0.1111111111111111,
              "#46039f"
             ],
             [
              0.2222222222222222,
              "#7201a8"
             ],
             [
              0.3333333333333333,
              "#9c179e"
             ],
             [
              0.4444444444444444,
              "#bd3786"
             ],
             [
              0.5555555555555556,
              "#d8576b"
             ],
             [
              0.6666666666666666,
              "#ed7953"
             ],
             [
              0.7777777777777778,
              "#fb9f3a"
             ],
             [
              0.8888888888888888,
              "#fdca26"
             ],
             [
              1,
              "#f0f921"
             ]
            ],
            "type": "surface"
           }
          ],
          "table": [
           {
            "cells": {
             "fill": {
              "color": "#EBF0F8"
             },
             "line": {
              "color": "white"
             }
            },
            "header": {
             "fill": {
              "color": "#C8D4E3"
             },
             "line": {
              "color": "white"
             }
            },
            "type": "table"
           }
          ]
         },
         "layout": {
          "annotationdefaults": {
           "arrowcolor": "#2a3f5f",
           "arrowhead": 0,
           "arrowwidth": 1
          },
          "autotypenumbers": "strict",
          "coloraxis": {
           "colorbar": {
            "outlinewidth": 0,
            "ticks": ""
           }
          },
          "colorscale": {
           "diverging": [
            [
             0,
             "#8e0152"
            ],
            [
             0.1,
             "#c51b7d"
            ],
            [
             0.2,
             "#de77ae"
            ],
            [
             0.3,
             "#f1b6da"
            ],
            [
             0.4,
             "#fde0ef"
            ],
            [
             0.5,
             "#f7f7f7"
            ],
            [
             0.6,
             "#e6f5d0"
            ],
            [
             0.7,
             "#b8e186"
            ],
            [
             0.8,
             "#7fbc41"
            ],
            [
             0.9,
             "#4d9221"
            ],
            [
             1,
             "#276419"
            ]
           ],
           "sequential": [
            [
             0,
             "#0d0887"
            ],
            [
             0.1111111111111111,
             "#46039f"
            ],
            [
             0.2222222222222222,
             "#7201a8"
            ],
            [
             0.3333333333333333,
             "#9c179e"
            ],
            [
             0.4444444444444444,
             "#bd3786"
            ],
            [
             0.5555555555555556,
             "#d8576b"
            ],
            [
             0.6666666666666666,
             "#ed7953"
            ],
            [
             0.7777777777777778,
             "#fb9f3a"
            ],
            [
             0.8888888888888888,
             "#fdca26"
            ],
            [
             1,
             "#f0f921"
            ]
           ],
           "sequentialminus": [
            [
             0,
             "#0d0887"
            ],
            [
             0.1111111111111111,
             "#46039f"
            ],
            [
             0.2222222222222222,
             "#7201a8"
            ],
            [
             0.3333333333333333,
             "#9c179e"
            ],
            [
             0.4444444444444444,
             "#bd3786"
            ],
            [
             0.5555555555555556,
             "#d8576b"
            ],
            [
             0.6666666666666666,
             "#ed7953"
            ],
            [
             0.7777777777777778,
             "#fb9f3a"
            ],
            [
             0.8888888888888888,
             "#fdca26"
            ],
            [
             1,
             "#f0f921"
            ]
           ]
          },
          "colorway": [
           "#636efa",
           "#EF553B",
           "#00cc96",
           "#ab63fa",
           "#FFA15A",
           "#19d3f3",
           "#FF6692",
           "#B6E880",
           "#FF97FF",
           "#FECB52"
          ],
          "font": {
           "color": "#2a3f5f"
          },
          "geo": {
           "bgcolor": "white",
           "lakecolor": "white",
           "landcolor": "#E5ECF6",
           "showlakes": true,
           "showland": true,
           "subunitcolor": "white"
          },
          "hoverlabel": {
           "align": "left"
          },
          "hovermode": "closest",
          "mapbox": {
           "style": "light"
          },
          "paper_bgcolor": "white",
          "plot_bgcolor": "#E5ECF6",
          "polar": {
           "angularaxis": {
            "gridcolor": "white",
            "linecolor": "white",
            "ticks": ""
           },
           "bgcolor": "#E5ECF6",
           "radialaxis": {
            "gridcolor": "white",
            "linecolor": "white",
            "ticks": ""
           }
          },
          "scene": {
           "xaxis": {
            "backgroundcolor": "#E5ECF6",
            "gridcolor": "white",
            "gridwidth": 2,
            "linecolor": "white",
            "showbackground": true,
            "ticks": "",
            "zerolinecolor": "white"
           },
           "yaxis": {
            "backgroundcolor": "#E5ECF6",
            "gridcolor": "white",
            "gridwidth": 2,
            "linecolor": "white",
            "showbackground": true,
            "ticks": "",
            "zerolinecolor": "white"
           },
           "zaxis": {
            "backgroundcolor": "#E5ECF6",
            "gridcolor": "white",
            "gridwidth": 2,
            "linecolor": "white",
            "showbackground": true,
            "ticks": "",
            "zerolinecolor": "white"
           }
          },
          "shapedefaults": {
           "line": {
            "color": "#2a3f5f"
           }
          },
          "ternary": {
           "aaxis": {
            "gridcolor": "white",
            "linecolor": "white",
            "ticks": ""
           },
           "baxis": {
            "gridcolor": "white",
            "linecolor": "white",
            "ticks": ""
           },
           "bgcolor": "#E5ECF6",
           "caxis": {
            "gridcolor": "white",
            "linecolor": "white",
            "ticks": ""
           }
          },
          "title": {
           "x": 0.05
          },
          "xaxis": {
           "automargin": true,
           "gridcolor": "white",
           "linecolor": "white",
           "ticks": "",
           "title": {
            "standoff": 15
           },
           "zerolinecolor": "white",
           "zerolinewidth": 2
          },
          "yaxis": {
           "automargin": true,
           "gridcolor": "white",
           "linecolor": "white",
           "ticks": "",
           "title": {
            "standoff": 15
           },
           "zerolinecolor": "white",
           "zerolinewidth": 2
          }
         }
        },
        "title": {
         "text": "Globally reported Death Cases in 2020",
         "x": 0.5
        }
       }
      },
      "text/html": [
       "<div>                            <div id=\"4f779988-fadb-4108-8c4c-e8df119508ae\" class=\"plotly-graph-div\" style=\"height:525px; width:100%;\"></div>            <script type=\"text/javascript\">                require([\"plotly\"], function(Plotly) {                    window.PLOTLYENV=window.PLOTLYENV || {};                                    if (document.getElementById(\"4f779988-fadb-4108-8c4c-e8df119508ae\")) {                    Plotly.newPlot(                        \"4f779988-fadb-4108-8c4c-e8df119508ae\",                        [{\"colorscale\": [[0.0, \"rgb(255,245,240)\"], [0.125, \"rgb(254,224,210)\"], [0.25, \"rgb(252,187,161)\"], [0.375, \"rgb(252,146,114)\"], [0.5, \"rgb(251,106,74)\"], [0.625, \"rgb(239,59,44)\"], [0.75, \"rgb(203,24,29)\"], [0.875, \"rgb(165,15,21)\"], [1.0, \"rgb(103,0,13)\"]], \"locationmode\": \"country names\", \"locations\": [\"Zimbabwe\", \"Cote d'Ivoire\", \"Kuwait\", \"Latvia\", \"Georgia\", \"New Zealand\", \"Bosnia and Herzegovina\", \"Tajikistan\", \"Costa Rica\", \"Saudi Arabia\", \"Iran\", \"Maldives\", \"Sri Lanka\", \"Burundi\", \"Poland\", \"Ecuador\", \"Mongolia\", \"Uganda\", \"Bahrain\", \"Bangladesh\", \"Liechtenstein\", \"Jordan\", \"Spain\", \"Nicaragua\", \"Indonesia\", \"Mali\", \"Monaco\", \"Peru\", \"El Salvador\", \"Guyana\", \"Cabo Verde\", \"Egypt\", \"Congo (Kinshasa)\", \"Senegal\", \"US\", \"Liberia\", \"Kenya\", \"Luxembourg\", \"Philippines\", \"Guinea-Bissau\", \"Sao Tome and Principe\", \"Namibia\", \"Germany\", \"Bahamas\", \"Qatar\", \"Dominica\", \"Ghana\", \"Nepal\", \"Cuba\", \"Saint Vincent and the Grenadines\", \"Suriname\", \"Burkina Faso\", \"Ireland\", \"Malawi\", \"Brazil\", \"Romania\", \"Djibouti\", \"Syria\", \"United Arab Emirates\", \"Azerbaijan\", \"Ukraine\", \"Guinea\", \"Montenegro\", \"Taiwan*\", \"Netherlands\", \"Iraq\", \"Malaysia\", \"Portugal\", \"Dominican Republic\", \"Sudan\", \"Botswana\", \"Angola\", \"San Marino\", \"Burma\", \"Zambia\", \"Afghanistan\", \"Vietnam\", \"Australia\", \"Uruguay\", \"Croatia\", \"Gambia\", \"Serbia\", \"Congo (Brazzaville)\", \"Albania\", \"Chile\", \"Slovakia\", \"Hungary\", \"Mauritania\", \"Finland\", \"North Macedonia\", \"Pakistan\", \"Eswatini\", \"Mexico\", \"Holy See\", \"Trinidad and Tobago\", \"Belgium\", \"Somalia\", \"China\", \"Singapore\", \"Canada\", \"Bhutan\", \"Timor-Leste\", \"Benin\", \"Algeria\", \"Belize\", \"Fiji\", \"Norway\", \"Mauritius\", \"Honduras\", \"Chad\", \"Slovenia\", \"Togo\", \"Solomon Islands\", \"Western Sahara\", \"Central African Republic\", \"Oman\", \"Ethiopia\", \"Lithuania\", \"Japan\", \"Lesotho\", \"Korea, South\", \"Thailand\", \"Panama\", \"Estonia\", \"Paraguay\", \"Haiti\", \"Comoros\", \"Seychelles\", \"Gabon\", \"India\", \"Malta\", \"Niger\", \"Equatorial Guinea\", \"Belarus\", \"Bolivia\", \"Tanzania\", \"Turkey\", \"Barbados\", \"South Sudan\", \"Cambodia\", \"Yemen\", \"Moldova\", \"Tunisia\", \"France\", \"Armenia\", \"Iceland\", \"Marshall Islands\", \"Nigeria\", \"Vanuatu\", \"Argentina\", \"Kosovo\", \"Lebanon\", \"South Africa\", \"Eritrea\", \"Colombia\", \"Sierra Leone\", \"Cameroon\", \"Uzbekistan\", \"Andorra\", \"West Bank and Gaza\", \"Papua New Guinea\", \"Greece\", \"Jamaica\", \"Guatemala\", \"Austria\", \"Saint Kitts and Nevis\", \"Kazakhstan\", \"Libya\", \"Switzerland\", \"Laos\", \"Venezuela\", \"Brunei\", \"Antigua and Barbuda\", \"MS Zaandam\", \"Kyrgyzstan\", \"Madagascar\", \"Czechia\", \"Morocco\", \"Italy\", \"Sweden\", \"Mozambique\", \"Cyprus\", \"Diamond Princess\", \"Russia\", \"United Kingdom\", \"Rwanda\", \"Saint Lucia\", \"Grenada\", \"Bulgaria\", \"Denmark\", \"Israel\"], \"marker\": {\"line\": {\"color\": \"black\", \"width\": 0.5}}, \"type\": \"choropleth\", \"z\": [275, 131, 878, 197, 1230, 25, 2620, 86, 1690, 5884, 47874, 46, 116, 1, 17029, 13423, 0, 201, 341, 6609, 15, 2694, 44668, 160, 16815, 152, 3, 35923, 1111, 150, 105, 6636, 333, 333, 266873, 83, 1452, 300, 8373, 43, 17, 151, 16306, 163, 237, 0, 323, 1479, 134, 0, 117, 68, 2052, 185, 172833, 11193, 61, 413, 570, 1361, 12613, 76, 487, 7, 9426, 12224, 357, 4427, 2330, 1235, 31, 346, 45, 1918, 357, 1763, 35, 908, 76, 1712, 123, 1549, 94, 798, 15356, 816, 4672, 175, 393, 1731, 8025, 121, 105655, 0, 120, 16547, 113, 4743, 29, 12046, 0, 0, 43, 2410, 147, 2, 328, 10, 2909, 101, 1384, 64, 0, 1, 63, 1418, 1700, 493, 2057, 44, 526, 60, 3060, 112, 1743, 232, 7, 0, 59, 137139, 133, 70, 85, 1151, 8952, 21, 13558, 7, 61, 0, 617, 2290, 3219, 52410, 2142, 26, 0, 1173, 0, 38473, 1005, 1004, 21477, 0, 36584, 74, 437, 608, 76, 717, 7, 2321, 256, 4166, 3105, 0, 1990, 1166, 4650, 0, 894, 3, 4, 2, 1271, 251, 8138, 5789, 54904, 6681, 130, 48, 13, 39127, 58342, 48, 2, 0, 3814, 829, 2864]}],                        {\"geo\": {\"projection\": {\"type\": \"equirectangular\"}, \"showcoastlines\": false, \"showframe\": false}, \"template\": {\"data\": {\"bar\": [{\"error_x\": {\"color\": \"#2a3f5f\"}, \"error_y\": {\"color\": \"#2a3f5f\"}, \"marker\": {\"line\": {\"color\": \"#E5ECF6\", \"width\": 0.5}}, \"type\": \"bar\"}], \"barpolar\": [{\"marker\": {\"line\": {\"color\": \"#E5ECF6\", \"width\": 0.5}}, \"type\": \"barpolar\"}], \"carpet\": [{\"aaxis\": {\"endlinecolor\": \"#2a3f5f\", \"gridcolor\": \"white\", \"linecolor\": \"white\", \"minorgridcolor\": \"white\", \"startlinecolor\": \"#2a3f5f\"}, \"baxis\": {\"endlinecolor\": \"#2a3f5f\", \"gridcolor\": \"white\", \"linecolor\": \"white\", \"minorgridcolor\": \"white\", \"startlinecolor\": \"#2a3f5f\"}, \"type\": \"carpet\"}], \"choropleth\": [{\"colorbar\": {\"outlinewidth\": 0, \"ticks\": \"\"}, \"type\": \"choropleth\"}], \"contour\": [{\"colorbar\": {\"outlinewidth\": 0, \"ticks\": \"\"}, \"colorscale\": [[0.0, \"#0d0887\"], [0.1111111111111111, \"#46039f\"], [0.2222222222222222, \"#7201a8\"], [0.3333333333333333, \"#9c179e\"], [0.4444444444444444, \"#bd3786\"], [0.5555555555555556, \"#d8576b\"], [0.6666666666666666, \"#ed7953\"], [0.7777777777777778, \"#fb9f3a\"], [0.8888888888888888, \"#fdca26\"], [1.0, \"#f0f921\"]], \"type\": \"contour\"}], \"contourcarpet\": [{\"colorbar\": {\"outlinewidth\": 0, \"ticks\": \"\"}, \"type\": \"contourcarpet\"}], \"heatmap\": [{\"colorbar\": {\"outlinewidth\": 0, \"ticks\": \"\"}, \"colorscale\": [[0.0, \"#0d0887\"], [0.1111111111111111, \"#46039f\"], [0.2222222222222222, \"#7201a8\"], [0.3333333333333333, \"#9c179e\"], [0.4444444444444444, \"#bd3786\"], [0.5555555555555556, \"#d8576b\"], [0.6666666666666666, \"#ed7953\"], [0.7777777777777778, \"#fb9f3a\"], [0.8888888888888888, \"#fdca26\"], [1.0, \"#f0f921\"]], \"type\": \"heatmap\"}], \"heatmapgl\": [{\"colorbar\": {\"outlinewidth\": 0, \"ticks\": \"\"}, \"colorscale\": [[0.0, \"#0d0887\"], [0.1111111111111111, \"#46039f\"], [0.2222222222222222, \"#7201a8\"], [0.3333333333333333, \"#9c179e\"], [0.4444444444444444, \"#bd3786\"], [0.5555555555555556, \"#d8576b\"], [0.6666666666666666, \"#ed7953\"], [0.7777777777777778, \"#fb9f3a\"], [0.8888888888888888, \"#fdca26\"], [1.0, \"#f0f921\"]], \"type\": \"heatmapgl\"}], \"histogram\": [{\"marker\": {\"colorbar\": {\"outlinewidth\": 0, \"ticks\": \"\"}}, \"type\": \"histogram\"}], \"histogram2d\": [{\"colorbar\": {\"outlinewidth\": 0, \"ticks\": \"\"}, \"colorscale\": [[0.0, \"#0d0887\"], [0.1111111111111111, \"#46039f\"], [0.2222222222222222, \"#7201a8\"], [0.3333333333333333, \"#9c179e\"], [0.4444444444444444, \"#bd3786\"], [0.5555555555555556, \"#d8576b\"], [0.6666666666666666, \"#ed7953\"], [0.7777777777777778, \"#fb9f3a\"], [0.8888888888888888, \"#fdca26\"], [1.0, \"#f0f921\"]], \"type\": \"histogram2d\"}], \"histogram2dcontour\": [{\"colorbar\": {\"outlinewidth\": 0, \"ticks\": \"\"}, \"colorscale\": [[0.0, \"#0d0887\"], [0.1111111111111111, \"#46039f\"], [0.2222222222222222, \"#7201a8\"], [0.3333333333333333, \"#9c179e\"], [0.4444444444444444, \"#bd3786\"], [0.5555555555555556, \"#d8576b\"], [0.6666666666666666, \"#ed7953\"], [0.7777777777777778, \"#fb9f3a\"], [0.8888888888888888, \"#fdca26\"], [1.0, \"#f0f921\"]], \"type\": \"histogram2dcontour\"}], \"mesh3d\": [{\"colorbar\": {\"outlinewidth\": 0, \"ticks\": \"\"}, \"type\": \"mesh3d\"}], \"parcoords\": [{\"line\": {\"colorbar\": {\"outlinewidth\": 0, \"ticks\": \"\"}}, \"type\": \"parcoords\"}], \"pie\": [{\"automargin\": true, \"type\": \"pie\"}], \"scatter\": [{\"marker\": {\"colorbar\": {\"outlinewidth\": 0, \"ticks\": \"\"}}, \"type\": \"scatter\"}], \"scatter3d\": [{\"line\": {\"colorbar\": {\"outlinewidth\": 0, \"ticks\": \"\"}}, \"marker\": {\"colorbar\": {\"outlinewidth\": 0, \"ticks\": \"\"}}, \"type\": \"scatter3d\"}], \"scattercarpet\": [{\"marker\": {\"colorbar\": {\"outlinewidth\": 0, \"ticks\": \"\"}}, \"type\": \"scattercarpet\"}], \"scattergeo\": [{\"marker\": {\"colorbar\": {\"outlinewidth\": 0, \"ticks\": \"\"}}, \"type\": \"scattergeo\"}], \"scattergl\": [{\"marker\": {\"colorbar\": {\"outlinewidth\": 0, \"ticks\": \"\"}}, \"type\": \"scattergl\"}], \"scattermapbox\": [{\"marker\": {\"colorbar\": {\"outlinewidth\": 0, \"ticks\": \"\"}}, \"type\": \"scattermapbox\"}], \"scatterpolar\": [{\"marker\": {\"colorbar\": {\"outlinewidth\": 0, \"ticks\": \"\"}}, \"type\": \"scatterpolar\"}], \"scatterpolargl\": [{\"marker\": {\"colorbar\": {\"outlinewidth\": 0, \"ticks\": \"\"}}, \"type\": \"scatterpolargl\"}], \"scatterternary\": [{\"marker\": {\"colorbar\": {\"outlinewidth\": 0, \"ticks\": \"\"}}, \"type\": \"scatterternary\"}], \"surface\": [{\"colorbar\": {\"outlinewidth\": 0, \"ticks\": \"\"}, \"colorscale\": [[0.0, \"#0d0887\"], [0.1111111111111111, \"#46039f\"], [0.2222222222222222, \"#7201a8\"], [0.3333333333333333, \"#9c179e\"], [0.4444444444444444, \"#bd3786\"], [0.5555555555555556, \"#d8576b\"], [0.6666666666666666, \"#ed7953\"], [0.7777777777777778, \"#fb9f3a\"], [0.8888888888888888, \"#fdca26\"], [1.0, \"#f0f921\"]], \"type\": \"surface\"}], \"table\": [{\"cells\": {\"fill\": {\"color\": \"#EBF0F8\"}, \"line\": {\"color\": \"white\"}}, \"header\": {\"fill\": {\"color\": \"#C8D4E3\"}, \"line\": {\"color\": \"white\"}}, \"type\": \"table\"}]}, \"layout\": {\"annotationdefaults\": {\"arrowcolor\": \"#2a3f5f\", \"arrowhead\": 0, \"arrowwidth\": 1}, \"autotypenumbers\": \"strict\", \"coloraxis\": {\"colorbar\": {\"outlinewidth\": 0, \"ticks\": \"\"}}, \"colorscale\": {\"diverging\": [[0, \"#8e0152\"], [0.1, \"#c51b7d\"], [0.2, \"#de77ae\"], [0.3, \"#f1b6da\"], [0.4, \"#fde0ef\"], [0.5, \"#f7f7f7\"], [0.6, \"#e6f5d0\"], [0.7, \"#b8e186\"], [0.8, \"#7fbc41\"], [0.9, \"#4d9221\"], [1, \"#276419\"]], \"sequential\": [[0.0, \"#0d0887\"], [0.1111111111111111, \"#46039f\"], [0.2222222222222222, \"#7201a8\"], [0.3333333333333333, \"#9c179e\"], [0.4444444444444444, \"#bd3786\"], [0.5555555555555556, \"#d8576b\"], [0.6666666666666666, \"#ed7953\"], [0.7777777777777778, \"#fb9f3a\"], [0.8888888888888888, \"#fdca26\"], [1.0, \"#f0f921\"]], \"sequentialminus\": [[0.0, \"#0d0887\"], [0.1111111111111111, \"#46039f\"], [0.2222222222222222, \"#7201a8\"], [0.3333333333333333, \"#9c179e\"], [0.4444444444444444, \"#bd3786\"], [0.5555555555555556, \"#d8576b\"], [0.6666666666666666, \"#ed7953\"], [0.7777777777777778, \"#fb9f3a\"], [0.8888888888888888, \"#fdca26\"], [1.0, \"#f0f921\"]]}, \"colorway\": [\"#636efa\", \"#EF553B\", \"#00cc96\", \"#ab63fa\", \"#FFA15A\", \"#19d3f3\", \"#FF6692\", \"#B6E880\", \"#FF97FF\", \"#FECB52\"], \"font\": {\"color\": \"#2a3f5f\"}, \"geo\": {\"bgcolor\": \"white\", \"lakecolor\": \"white\", \"landcolor\": \"#E5ECF6\", \"showlakes\": true, \"showland\": true, \"subunitcolor\": \"white\"}, \"hoverlabel\": {\"align\": \"left\"}, \"hovermode\": \"closest\", \"mapbox\": {\"style\": \"light\"}, \"paper_bgcolor\": \"white\", \"plot_bgcolor\": \"#E5ECF6\", \"polar\": {\"angularaxis\": {\"gridcolor\": \"white\", \"linecolor\": \"white\", \"ticks\": \"\"}, \"bgcolor\": \"#E5ECF6\", \"radialaxis\": {\"gridcolor\": \"white\", \"linecolor\": \"white\", \"ticks\": \"\"}}, \"scene\": {\"xaxis\": {\"backgroundcolor\": \"#E5ECF6\", \"gridcolor\": \"white\", \"gridwidth\": 2, \"linecolor\": \"white\", \"showbackground\": true, \"ticks\": \"\", \"zerolinecolor\": \"white\"}, \"yaxis\": {\"backgroundcolor\": \"#E5ECF6\", \"gridcolor\": \"white\", \"gridwidth\": 2, \"linecolor\": \"white\", \"showbackground\": true, \"ticks\": \"\", \"zerolinecolor\": \"white\"}, \"zaxis\": {\"backgroundcolor\": \"#E5ECF6\", \"gridcolor\": \"white\", \"gridwidth\": 2, \"linecolor\": \"white\", \"showbackground\": true, \"ticks\": \"\", \"zerolinecolor\": \"white\"}}, \"shapedefaults\": {\"line\": {\"color\": \"#2a3f5f\"}}, \"ternary\": {\"aaxis\": {\"gridcolor\": \"white\", \"linecolor\": \"white\", \"ticks\": \"\"}, \"baxis\": {\"gridcolor\": \"white\", \"linecolor\": \"white\", \"ticks\": \"\"}, \"bgcolor\": \"#E5ECF6\", \"caxis\": {\"gridcolor\": \"white\", \"linecolor\": \"white\", \"ticks\": \"\"}}, \"title\": {\"x\": 0.05}, \"xaxis\": {\"automargin\": true, \"gridcolor\": \"white\", \"linecolor\": \"white\", \"ticks\": \"\", \"title\": {\"standoff\": 15}, \"zerolinecolor\": \"white\", \"zerolinewidth\": 2}, \"yaxis\": {\"automargin\": true, \"gridcolor\": \"white\", \"linecolor\": \"white\", \"ticks\": \"\", \"title\": {\"standoff\": 15}, \"zerolinecolor\": \"white\", \"zerolinewidth\": 2}}}, \"title\": {\"text\": \"Globally reported Death Cases in 2020\", \"x\": 0.5}},                        {\"responsive\": true}                    ).then(function(){\n",
       "                            \n",
       "var gd = document.getElementById('4f779988-fadb-4108-8c4c-e8df119508ae');\n",
       "var x = new MutationObserver(function (mutations, observer) {{\n",
       "        var display = window.getComputedStyle(gd).display;\n",
       "        if (!display || display === 'none') {{\n",
       "            console.log([gd, 'removed!']);\n",
       "            Plotly.purge(gd);\n",
       "            observer.disconnect();\n",
       "        }}\n",
       "}});\n",
       "\n",
       "// Listen for the removal of the full notebook cells\n",
       "var notebookContainer = gd.closest('#notebook-container');\n",
       "if (notebookContainer) {{\n",
       "    x.observe(notebookContainer, {childList: true});\n",
       "}}\n",
       "\n",
       "// Listen for the clearing of the current output cell\n",
       "var outputEl = gd.closest('.output');\n",
       "if (outputEl) {{\n",
       "    x.observe(outputEl, {childList: true});\n",
       "}}\n",
       "\n",
       "                        })                };                });            </script>        </div>"
      ]
     },
     "metadata": {},
     "output_type": "display_data"
    }
   ],
   "source": [
    "# Create the Choropleth\n",
    "fig = go.Figure(data=go.Choropleth(\n",
    " locations = df_countries['Country'],\n",
    " locationmode = 'country names',\n",
    " z = df_countries['Deaths'],\n",
    " colorscale = 'Reds',\n",
    " marker_line_color = 'black',\n",
    " marker_line_width = 0.5,\n",
    "))\n",
    "fig.update_layout(\n",
    " title_text = 'Globally reported Death Cases in 2020',\n",
    " title_x = 0.5,\n",
    " geo=dict(\n",
    " showframe = False,\n",
    " showcoastlines = False,\n",
    " projection_type = 'equirectangular'\n",
    " )\n",
    ")\n",
    "fig.show()"
   ]
  },
  {
   "cell_type": "markdown",
   "metadata": {},
   "source": [
    "###### US is the country with high death rate followed by Brazil and India."
   ]
  },
  {
   "cell_type": "markdown",
   "metadata": {},
   "source": [
    "### Resume the below representations to see the variation on each day"
   ]
  },
  {
   "cell_type": "code",
   "execution_count": 16,
   "metadata": {},
   "outputs": [
    {
     "data": {
      "application/vnd.plotly.v1+json": {
       "config": {
        "plotlyServerURL": "https://plot.ly"
       },
       "data": [
        {
         "coloraxis": "coloraxis",
         "geo": "geo",
         "hovertemplate": "<b>%{hovertext}</b><br><br>Date=2020-11-29<br>Country=%{location}<br>Confirmed=%{z}<extra></extra>",
         "hovertext": [
          "Zimbabwe",
          "Cote d'Ivoire",
          "Kuwait",
          "Latvia",
          "Georgia",
          "New Zealand",
          "Bosnia and Herzegovina",
          "Tajikistan",
          "Costa Rica",
          "Saudi Arabia",
          "Iran",
          "Maldives",
          "Sri Lanka",
          "Burundi",
          "Poland",
          "Ecuador",
          "Mongolia",
          "Uganda",
          "Bahrain",
          "Bangladesh",
          "Liechtenstein",
          "Jordan",
          "Spain",
          "Nicaragua",
          "Indonesia",
          "Mali",
          "Monaco",
          "Peru",
          "El Salvador",
          "Guyana",
          "Cabo Verde",
          "Egypt",
          "Congo (Kinshasa)",
          "Senegal",
          "US",
          "Liberia",
          "Kenya",
          "Luxembourg",
          "Philippines",
          "Guinea-Bissau",
          "Sao Tome and Principe",
          "Namibia",
          "Germany",
          "Bahamas",
          "Qatar",
          "Dominica",
          "Ghana",
          "Nepal",
          "Cuba",
          "Saint Vincent and the Grenadines",
          "Suriname",
          "Burkina Faso",
          "Ireland",
          "Malawi",
          "Brazil",
          "Romania",
          "Djibouti",
          "Syria",
          "United Arab Emirates",
          "Azerbaijan",
          "Ukraine",
          "Guinea",
          "Montenegro",
          "Taiwan*",
          "Netherlands",
          "Iraq",
          "Malaysia",
          "Portugal",
          "Dominican Republic",
          "Sudan",
          "Botswana",
          "Angola",
          "San Marino",
          "Burma",
          "Zambia",
          "Afghanistan",
          "Vietnam",
          "Australia",
          "Uruguay",
          "Croatia",
          "Gambia",
          "Serbia",
          "Congo (Brazzaville)",
          "Albania",
          "Chile",
          "Slovakia",
          "Hungary",
          "Mauritania",
          "Finland",
          "North Macedonia",
          "Pakistan",
          "Eswatini",
          "Mexico",
          "Holy See",
          "Trinidad and Tobago",
          "Belgium",
          "Somalia",
          "China",
          "Singapore",
          "Canada",
          "Bhutan",
          "Timor-Leste",
          "Benin",
          "Algeria",
          "Belize",
          "Fiji",
          "Norway",
          "Mauritius",
          "Honduras",
          "Chad",
          "Slovenia",
          "Togo",
          "Solomon Islands",
          "Western Sahara",
          "Central African Republic",
          "Oman",
          "Ethiopia",
          "Lithuania",
          "Japan",
          "Lesotho",
          "Korea, South",
          "Thailand",
          "Panama",
          "Estonia",
          "Paraguay",
          "Haiti",
          "Comoros",
          "Seychelles",
          "Gabon",
          "India",
          "Malta",
          "Niger",
          "Equatorial Guinea",
          "Belarus",
          "Bolivia",
          "Tanzania",
          "Turkey",
          "Barbados",
          "South Sudan",
          "Cambodia",
          "Yemen",
          "Moldova",
          "Tunisia",
          "France",
          "Armenia",
          "Iceland",
          "Marshall Islands",
          "Nigeria",
          "Vanuatu",
          "Argentina",
          "Kosovo",
          "Lebanon",
          "South Africa",
          "Eritrea",
          "Colombia",
          "Sierra Leone",
          "Cameroon",
          "Uzbekistan",
          "Andorra",
          "West Bank and Gaza",
          "Papua New Guinea",
          "Greece",
          "Jamaica",
          "Guatemala",
          "Austria",
          "Saint Kitts and Nevis",
          "Kazakhstan",
          "Libya",
          "Switzerland",
          "Laos",
          "Venezuela",
          "Brunei",
          "Antigua and Barbuda",
          "MS Zaandam",
          "Kyrgyzstan",
          "Madagascar",
          "Czechia",
          "Morocco",
          "Italy",
          "Sweden",
          "Mozambique",
          "Cyprus",
          "Diamond Princess",
          "Russia",
          "United Kingdom",
          "Rwanda",
          "Saint Lucia",
          "Grenada",
          "Bulgaria",
          "Denmark",
          "Israel"
         ],
         "locationmode": "country names",
         "locations": [
          "Zimbabwe",
          "Cote d'Ivoire",
          "Kuwait",
          "Latvia",
          "Georgia",
          "New Zealand",
          "Bosnia and Herzegovina",
          "Tajikistan",
          "Costa Rica",
          "Saudi Arabia",
          "Iran",
          "Maldives",
          "Sri Lanka",
          "Burundi",
          "Poland",
          "Ecuador",
          "Mongolia",
          "Uganda",
          "Bahrain",
          "Bangladesh",
          "Liechtenstein",
          "Jordan",
          "Spain",
          "Nicaragua",
          "Indonesia",
          "Mali",
          "Monaco",
          "Peru",
          "El Salvador",
          "Guyana",
          "Cabo Verde",
          "Egypt",
          "Congo (Kinshasa)",
          "Senegal",
          "US",
          "Liberia",
          "Kenya",
          "Luxembourg",
          "Philippines",
          "Guinea-Bissau",
          "Sao Tome and Principe",
          "Namibia",
          "Germany",
          "Bahamas",
          "Qatar",
          "Dominica",
          "Ghana",
          "Nepal",
          "Cuba",
          "Saint Vincent and the Grenadines",
          "Suriname",
          "Burkina Faso",
          "Ireland",
          "Malawi",
          "Brazil",
          "Romania",
          "Djibouti",
          "Syria",
          "United Arab Emirates",
          "Azerbaijan",
          "Ukraine",
          "Guinea",
          "Montenegro",
          "Taiwan*",
          "Netherlands",
          "Iraq",
          "Malaysia",
          "Portugal",
          "Dominican Republic",
          "Sudan",
          "Botswana",
          "Angola",
          "San Marino",
          "Burma",
          "Zambia",
          "Afghanistan",
          "Vietnam",
          "Australia",
          "Uruguay",
          "Croatia",
          "Gambia",
          "Serbia",
          "Congo (Brazzaville)",
          "Albania",
          "Chile",
          "Slovakia",
          "Hungary",
          "Mauritania",
          "Finland",
          "North Macedonia",
          "Pakistan",
          "Eswatini",
          "Mexico",
          "Holy See",
          "Trinidad and Tobago",
          "Belgium",
          "Somalia",
          "China",
          "Singapore",
          "Canada",
          "Bhutan",
          "Timor-Leste",
          "Benin",
          "Algeria",
          "Belize",
          "Fiji",
          "Norway",
          "Mauritius",
          "Honduras",
          "Chad",
          "Slovenia",
          "Togo",
          "Solomon Islands",
          "Western Sahara",
          "Central African Republic",
          "Oman",
          "Ethiopia",
          "Lithuania",
          "Japan",
          "Lesotho",
          "Korea, South",
          "Thailand",
          "Panama",
          "Estonia",
          "Paraguay",
          "Haiti",
          "Comoros",
          "Seychelles",
          "Gabon",
          "India",
          "Malta",
          "Niger",
          "Equatorial Guinea",
          "Belarus",
          "Bolivia",
          "Tanzania",
          "Turkey",
          "Barbados",
          "South Sudan",
          "Cambodia",
          "Yemen",
          "Moldova",
          "Tunisia",
          "France",
          "Armenia",
          "Iceland",
          "Marshall Islands",
          "Nigeria",
          "Vanuatu",
          "Argentina",
          "Kosovo",
          "Lebanon",
          "South Africa",
          "Eritrea",
          "Colombia",
          "Sierra Leone",
          "Cameroon",
          "Uzbekistan",
          "Andorra",
          "West Bank and Gaza",
          "Papua New Guinea",
          "Greece",
          "Jamaica",
          "Guatemala",
          "Austria",
          "Saint Kitts and Nevis",
          "Kazakhstan",
          "Libya",
          "Switzerland",
          "Laos",
          "Venezuela",
          "Brunei",
          "Antigua and Barbuda",
          "MS Zaandam",
          "Kyrgyzstan",
          "Madagascar",
          "Czechia",
          "Morocco",
          "Italy",
          "Sweden",
          "Mozambique",
          "Cyprus",
          "Diamond Princess",
          "Russia",
          "United Kingdom",
          "Rwanda",
          "Saint Lucia",
          "Grenada",
          "Bulgaria",
          "Denmark",
          "Israel"
         ],
         "name": "",
         "type": "choropleth",
         "z": [
          9822,
          21310,
          142426,
          16975,
          132368,
          2056,
          87374,
          12155,
          137093,
          357128,
          948749,
          12994,
          23484,
          681,
          985075,
          192117,
          791,
          20145,
          86787,
          462407,
          1253,
          214307,
          1628208,
          5784,
          534266,
          4688,
          608,
          962530,
          38405,
          5376,
          10747,
          115541,
          12702,
          16075,
          13383320,
          1595,
          83316,
          33409,
          429864,
          2422,
          989,
          14345,
          1055691,
          7517,
          138648,
          85,
          51569,
          231978,
          8233,
          85,
          5312,
          2856,
          72241,
          6025,
          6314740,
          471536,
          5677,
          7797,
          167753,
          118195,
          742105,
          13039,
          34881,
          651,
          527336,
          550435,
          64485,
          294799,
          143473,
          17404,
          10258,
          15103,
          1586,
          89486,
          17608,
          46215,
          1343,
          27902,
          5716,
          126612,
          3734,
          169214,
          5774,
          37625,
          550430,
          105733,
          211527,
          8547,
          24629,
          61543,
          398024,
          6410,
          1107071,
          27,
          6660,
          576599,
          4451,
          92814,
          58213,
          373662,
          396,
          30,
          2974,
          82221,
          5743,
          38,
          35828,
          501,
          107888,
          1682,
          75381,
          2962,
          17,
          10,
          4913,
          123484,
          109534,
          60193,
          147515,
          2109,
          34201,
          3998,
          164729,
          12052,
          81906,
          9272,
          611,
          173,
          9191,
          9431691,
          9752,
          1516,
          5153,
          135008,
          144622,
          509,
          607628,
          275,
          3109,
          323,
          2177,
          107017,
          96251,
          2270573,
          134768,
          5381,
          4,
          67412,
          1,
          1418807,
          39057,
          126944,
          787702,
          577,
          1308376,
          2411,
          24117,
          72870,
          6712,
          83585,
          645,
          104227,
          10709,
          121971,
          279708,
          22,
          131659,
          82430,
          318290,
          39,
          102040,
          150,
          141,
          9,
          72807,
          17341,
          519723,
          353803,
          1585178,
          243129,
          15613,
          10383,
          712,
          2249890,
          1621305,
          5919,
          257,
          41,
          142486,
          79872,
          335598
         ]
        }
       ],
       "layout": {
        "coloraxis": {
         "colorbar": {
          "title": {
           "text": "Confirmed"
          }
         },
         "colorscale": [
          [
           0,
           "#0d0887"
          ],
          [
           0.1111111111111111,
           "#46039f"
          ],
          [
           0.2222222222222222,
           "#7201a8"
          ],
          [
           0.3333333333333333,
           "#9c179e"
          ],
          [
           0.4444444444444444,
           "#bd3786"
          ],
          [
           0.5555555555555556,
           "#d8576b"
          ],
          [
           0.6666666666666666,
           "#ed7953"
          ],
          [
           0.7777777777777778,
           "#fb9f3a"
          ],
          [
           0.8888888888888888,
           "#fdca26"
          ],
          [
           1,
           "#f0f921"
          ]
         ]
        },
        "geo": {
         "center": {},
         "domain": {
          "x": [
           0,
           1
          ],
          "y": [
           0,
           1
          ]
         },
         "showcoastlines": false,
         "showframe": false
        },
        "legend": {
         "tracegroupgap": 0
        },
        "margin": {
         "t": 60
        },
        "template": {
         "data": {
          "bar": [
           {
            "error_x": {
             "color": "#2a3f5f"
            },
            "error_y": {
             "color": "#2a3f5f"
            },
            "marker": {
             "line": {
              "color": "#E5ECF6",
              "width": 0.5
             }
            },
            "type": "bar"
           }
          ],
          "barpolar": [
           {
            "marker": {
             "line": {
              "color": "#E5ECF6",
              "width": 0.5
             }
            },
            "type": "barpolar"
           }
          ],
          "carpet": [
           {
            "aaxis": {
             "endlinecolor": "#2a3f5f",
             "gridcolor": "white",
             "linecolor": "white",
             "minorgridcolor": "white",
             "startlinecolor": "#2a3f5f"
            },
            "baxis": {
             "endlinecolor": "#2a3f5f",
             "gridcolor": "white",
             "linecolor": "white",
             "minorgridcolor": "white",
             "startlinecolor": "#2a3f5f"
            },
            "type": "carpet"
           }
          ],
          "choropleth": [
           {
            "colorbar": {
             "outlinewidth": 0,
             "ticks": ""
            },
            "type": "choropleth"
           }
          ],
          "contour": [
           {
            "colorbar": {
             "outlinewidth": 0,
             "ticks": ""
            },
            "colorscale": [
             [
              0,
              "#0d0887"
             ],
             [
              0.1111111111111111,
              "#46039f"
             ],
             [
              0.2222222222222222,
              "#7201a8"
             ],
             [
              0.3333333333333333,
              "#9c179e"
             ],
             [
              0.4444444444444444,
              "#bd3786"
             ],
             [
              0.5555555555555556,
              "#d8576b"
             ],
             [
              0.6666666666666666,
              "#ed7953"
             ],
             [
              0.7777777777777778,
              "#fb9f3a"
             ],
             [
              0.8888888888888888,
              "#fdca26"
             ],
             [
              1,
              "#f0f921"
             ]
            ],
            "type": "contour"
           }
          ],
          "contourcarpet": [
           {
            "colorbar": {
             "outlinewidth": 0,
             "ticks": ""
            },
            "type": "contourcarpet"
           }
          ],
          "heatmap": [
           {
            "colorbar": {
             "outlinewidth": 0,
             "ticks": ""
            },
            "colorscale": [
             [
              0,
              "#0d0887"
             ],
             [
              0.1111111111111111,
              "#46039f"
             ],
             [
              0.2222222222222222,
              "#7201a8"
             ],
             [
              0.3333333333333333,
              "#9c179e"
             ],
             [
              0.4444444444444444,
              "#bd3786"
             ],
             [
              0.5555555555555556,
              "#d8576b"
             ],
             [
              0.6666666666666666,
              "#ed7953"
             ],
             [
              0.7777777777777778,
              "#fb9f3a"
             ],
             [
              0.8888888888888888,
              "#fdca26"
             ],
             [
              1,
              "#f0f921"
             ]
            ],
            "type": "heatmap"
           }
          ],
          "heatmapgl": [
           {
            "colorbar": {
             "outlinewidth": 0,
             "ticks": ""
            },
            "colorscale": [
             [
              0,
              "#0d0887"
             ],
             [
              0.1111111111111111,
              "#46039f"
             ],
             [
              0.2222222222222222,
              "#7201a8"
             ],
             [
              0.3333333333333333,
              "#9c179e"
             ],
             [
              0.4444444444444444,
              "#bd3786"
             ],
             [
              0.5555555555555556,
              "#d8576b"
             ],
             [
              0.6666666666666666,
              "#ed7953"
             ],
             [
              0.7777777777777778,
              "#fb9f3a"
             ],
             [
              0.8888888888888888,
              "#fdca26"
             ],
             [
              1,
              "#f0f921"
             ]
            ],
            "type": "heatmapgl"
           }
          ],
          "histogram": [
           {
            "marker": {
             "colorbar": {
              "outlinewidth": 0,
              "ticks": ""
             }
            },
            "type": "histogram"
           }
          ],
          "histogram2d": [
           {
            "colorbar": {
             "outlinewidth": 0,
             "ticks": ""
            },
            "colorscale": [
             [
              0,
              "#0d0887"
             ],
             [
              0.1111111111111111,
              "#46039f"
             ],
             [
              0.2222222222222222,
              "#7201a8"
             ],
             [
              0.3333333333333333,
              "#9c179e"
             ],
             [
              0.4444444444444444,
              "#bd3786"
             ],
             [
              0.5555555555555556,
              "#d8576b"
             ],
             [
              0.6666666666666666,
              "#ed7953"
             ],
             [
              0.7777777777777778,
              "#fb9f3a"
             ],
             [
              0.8888888888888888,
              "#fdca26"
             ],
             [
              1,
              "#f0f921"
             ]
            ],
            "type": "histogram2d"
           }
          ],
          "histogram2dcontour": [
           {
            "colorbar": {
             "outlinewidth": 0,
             "ticks": ""
            },
            "colorscale": [
             [
              0,
              "#0d0887"
             ],
             [
              0.1111111111111111,
              "#46039f"
             ],
             [
              0.2222222222222222,
              "#7201a8"
             ],
             [
              0.3333333333333333,
              "#9c179e"
             ],
             [
              0.4444444444444444,
              "#bd3786"
             ],
             [
              0.5555555555555556,
              "#d8576b"
             ],
             [
              0.6666666666666666,
              "#ed7953"
             ],
             [
              0.7777777777777778,
              "#fb9f3a"
             ],
             [
              0.8888888888888888,
              "#fdca26"
             ],
             [
              1,
              "#f0f921"
             ]
            ],
            "type": "histogram2dcontour"
           }
          ],
          "mesh3d": [
           {
            "colorbar": {
             "outlinewidth": 0,
             "ticks": ""
            },
            "type": "mesh3d"
           }
          ],
          "parcoords": [
           {
            "line": {
             "colorbar": {
              "outlinewidth": 0,
              "ticks": ""
             }
            },
            "type": "parcoords"
           }
          ],
          "pie": [
           {
            "automargin": true,
            "type": "pie"
           }
          ],
          "scatter": [
           {
            "marker": {
             "colorbar": {
              "outlinewidth": 0,
              "ticks": ""
             }
            },
            "type": "scatter"
           }
          ],
          "scatter3d": [
           {
            "line": {
             "colorbar": {
              "outlinewidth": 0,
              "ticks": ""
             }
            },
            "marker": {
             "colorbar": {
              "outlinewidth": 0,
              "ticks": ""
             }
            },
            "type": "scatter3d"
           }
          ],
          "scattercarpet": [
           {
            "marker": {
             "colorbar": {
              "outlinewidth": 0,
              "ticks": ""
             }
            },
            "type": "scattercarpet"
           }
          ],
          "scattergeo": [
           {
            "marker": {
             "colorbar": {
              "outlinewidth": 0,
              "ticks": ""
             }
            },
            "type": "scattergeo"
           }
          ],
          "scattergl": [
           {
            "marker": {
             "colorbar": {
              "outlinewidth": 0,
              "ticks": ""
             }
            },
            "type": "scattergl"
           }
          ],
          "scattermapbox": [
           {
            "marker": {
             "colorbar": {
              "outlinewidth": 0,
              "ticks": ""
             }
            },
            "type": "scattermapbox"
           }
          ],
          "scatterpolar": [
           {
            "marker": {
             "colorbar": {
              "outlinewidth": 0,
              "ticks": ""
             }
            },
            "type": "scatterpolar"
           }
          ],
          "scatterpolargl": [
           {
            "marker": {
             "colorbar": {
              "outlinewidth": 0,
              "ticks": ""
             }
            },
            "type": "scatterpolargl"
           }
          ],
          "scatterternary": [
           {
            "marker": {
             "colorbar": {
              "outlinewidth": 0,
              "ticks": ""
             }
            },
            "type": "scatterternary"
           }
          ],
          "surface": [
           {
            "colorbar": {
             "outlinewidth": 0,
             "ticks": ""
            },
            "colorscale": [
             [
              0,
              "#0d0887"
             ],
             [
              0.1111111111111111,
              "#46039f"
             ],
             [
              0.2222222222222222,
              "#7201a8"
             ],
             [
              0.3333333333333333,
              "#9c179e"
             ],
             [
              0.4444444444444444,
              "#bd3786"
             ],
             [
              0.5555555555555556,
              "#d8576b"
             ],
             [
              0.6666666666666666,
              "#ed7953"
             ],
             [
              0.7777777777777778,
              "#fb9f3a"
             ],
             [
              0.8888888888888888,
              "#fdca26"
             ],
             [
              1,
              "#f0f921"
             ]
            ],
            "type": "surface"
           }
          ],
          "table": [
           {
            "cells": {
             "fill": {
              "color": "#EBF0F8"
             },
             "line": {
              "color": "white"
             }
            },
            "header": {
             "fill": {
              "color": "#C8D4E3"
             },
             "line": {
              "color": "white"
             }
            },
            "type": "table"
           }
          ]
         },
         "layout": {
          "annotationdefaults": {
           "arrowcolor": "#2a3f5f",
           "arrowhead": 0,
           "arrowwidth": 1
          },
          "autotypenumbers": "strict",
          "coloraxis": {
           "colorbar": {
            "outlinewidth": 0,
            "ticks": ""
           }
          },
          "colorscale": {
           "diverging": [
            [
             0,
             "#8e0152"
            ],
            [
             0.1,
             "#c51b7d"
            ],
            [
             0.2,
             "#de77ae"
            ],
            [
             0.3,
             "#f1b6da"
            ],
            [
             0.4,
             "#fde0ef"
            ],
            [
             0.5,
             "#f7f7f7"
            ],
            [
             0.6,
             "#e6f5d0"
            ],
            [
             0.7,
             "#b8e186"
            ],
            [
             0.8,
             "#7fbc41"
            ],
            [
             0.9,
             "#4d9221"
            ],
            [
             1,
             "#276419"
            ]
           ],
           "sequential": [
            [
             0,
             "#0d0887"
            ],
            [
             0.1111111111111111,
             "#46039f"
            ],
            [
             0.2222222222222222,
             "#7201a8"
            ],
            [
             0.3333333333333333,
             "#9c179e"
            ],
            [
             0.4444444444444444,
             "#bd3786"
            ],
            [
             0.5555555555555556,
             "#d8576b"
            ],
            [
             0.6666666666666666,
             "#ed7953"
            ],
            [
             0.7777777777777778,
             "#fb9f3a"
            ],
            [
             0.8888888888888888,
             "#fdca26"
            ],
            [
             1,
             "#f0f921"
            ]
           ],
           "sequentialminus": [
            [
             0,
             "#0d0887"
            ],
            [
             0.1111111111111111,
             "#46039f"
            ],
            [
             0.2222222222222222,
             "#7201a8"
            ],
            [
             0.3333333333333333,
             "#9c179e"
            ],
            [
             0.4444444444444444,
             "#bd3786"
            ],
            [
             0.5555555555555556,
             "#d8576b"
            ],
            [
             0.6666666666666666,
             "#ed7953"
            ],
            [
             0.7777777777777778,
             "#fb9f3a"
            ],
            [
             0.8888888888888888,
             "#fdca26"
            ],
            [
             1,
             "#f0f921"
            ]
           ]
          },
          "colorway": [
           "#636efa",
           "#EF553B",
           "#00cc96",
           "#ab63fa",
           "#FFA15A",
           "#19d3f3",
           "#FF6692",
           "#B6E880",
           "#FF97FF",
           "#FECB52"
          ],
          "font": {
           "color": "#2a3f5f"
          },
          "geo": {
           "bgcolor": "white",
           "lakecolor": "white",
           "landcolor": "#E5ECF6",
           "showlakes": true,
           "showland": true,
           "subunitcolor": "white"
          },
          "hoverlabel": {
           "align": "left"
          },
          "hovermode": "closest",
          "mapbox": {
           "style": "light"
          },
          "paper_bgcolor": "white",
          "plot_bgcolor": "#E5ECF6",
          "polar": {
           "angularaxis": {
            "gridcolor": "white",
            "linecolor": "white",
            "ticks": ""
           },
           "bgcolor": "#E5ECF6",
           "radialaxis": {
            "gridcolor": "white",
            "linecolor": "white",
            "ticks": ""
           }
          },
          "scene": {
           "xaxis": {
            "backgroundcolor": "#E5ECF6",
            "gridcolor": "white",
            "gridwidth": 2,
            "linecolor": "white",
            "showbackground": true,
            "ticks": "",
            "zerolinecolor": "white"
           },
           "yaxis": {
            "backgroundcolor": "#E5ECF6",
            "gridcolor": "white",
            "gridwidth": 2,
            "linecolor": "white",
            "showbackground": true,
            "ticks": "",
            "zerolinecolor": "white"
           },
           "zaxis": {
            "backgroundcolor": "#E5ECF6",
            "gridcolor": "white",
            "gridwidth": 2,
            "linecolor": "white",
            "showbackground": true,
            "ticks": "",
            "zerolinecolor": "white"
           }
          },
          "shapedefaults": {
           "line": {
            "color": "#2a3f5f"
           }
          },
          "ternary": {
           "aaxis": {
            "gridcolor": "white",
            "linecolor": "white",
            "ticks": ""
           },
           "baxis": {
            "gridcolor": "white",
            "linecolor": "white",
            "ticks": ""
           },
           "bgcolor": "#E5ECF6",
           "caxis": {
            "gridcolor": "white",
            "linecolor": "white",
            "ticks": ""
           }
          },
          "title": {
           "x": 0.05
          },
          "xaxis": {
           "automargin": true,
           "gridcolor": "white",
           "linecolor": "white",
           "ticks": "",
           "title": {
            "standoff": 15
           },
           "zerolinecolor": "white",
           "zerolinewidth": 2
          },
          "yaxis": {
           "automargin": true,
           "gridcolor": "white",
           "linecolor": "white",
           "ticks": "",
           "title": {
            "standoff": 15
           },
           "zerolinecolor": "white",
           "zerolinewidth": 2
          }
         }
        },
        "title": {
         "text": "Day-Wise Confirmed cases representation",
         "x": 0.5
        }
       }
      },
      "text/html": [
       "<div>                            <div id=\"96c3e5f0-aab3-47b9-bd7d-2a596df72f14\" class=\"plotly-graph-div\" style=\"height:525px; width:100%;\"></div>            <script type=\"text/javascript\">                require([\"plotly\"], function(Plotly) {                    window.PLOTLYENV=window.PLOTLYENV || {};                                    if (document.getElementById(\"96c3e5f0-aab3-47b9-bd7d-2a596df72f14\")) {                    Plotly.newPlot(                        \"96c3e5f0-aab3-47b9-bd7d-2a596df72f14\",                        [{\"coloraxis\": \"coloraxis\", \"geo\": \"geo\", \"hovertemplate\": \"<b>%{hovertext}</b><br><br>Date=2020-11-29<br>Country=%{location}<br>Confirmed=%{z}<extra></extra>\", \"hovertext\": [\"Zimbabwe\", \"Cote d'Ivoire\", \"Kuwait\", \"Latvia\", \"Georgia\", \"New Zealand\", \"Bosnia and Herzegovina\", \"Tajikistan\", \"Costa Rica\", \"Saudi Arabia\", \"Iran\", \"Maldives\", \"Sri Lanka\", \"Burundi\", \"Poland\", \"Ecuador\", \"Mongolia\", \"Uganda\", \"Bahrain\", \"Bangladesh\", \"Liechtenstein\", \"Jordan\", \"Spain\", \"Nicaragua\", \"Indonesia\", \"Mali\", \"Monaco\", \"Peru\", \"El Salvador\", \"Guyana\", \"Cabo Verde\", \"Egypt\", \"Congo (Kinshasa)\", \"Senegal\", \"US\", \"Liberia\", \"Kenya\", \"Luxembourg\", \"Philippines\", \"Guinea-Bissau\", \"Sao Tome and Principe\", \"Namibia\", \"Germany\", \"Bahamas\", \"Qatar\", \"Dominica\", \"Ghana\", \"Nepal\", \"Cuba\", \"Saint Vincent and the Grenadines\", \"Suriname\", \"Burkina Faso\", \"Ireland\", \"Malawi\", \"Brazil\", \"Romania\", \"Djibouti\", \"Syria\", \"United Arab Emirates\", \"Azerbaijan\", \"Ukraine\", \"Guinea\", \"Montenegro\", \"Taiwan*\", \"Netherlands\", \"Iraq\", \"Malaysia\", \"Portugal\", \"Dominican Republic\", \"Sudan\", \"Botswana\", \"Angola\", \"San Marino\", \"Burma\", \"Zambia\", \"Afghanistan\", \"Vietnam\", \"Australia\", \"Uruguay\", \"Croatia\", \"Gambia\", \"Serbia\", \"Congo (Brazzaville)\", \"Albania\", \"Chile\", \"Slovakia\", \"Hungary\", \"Mauritania\", \"Finland\", \"North Macedonia\", \"Pakistan\", \"Eswatini\", \"Mexico\", \"Holy See\", \"Trinidad and Tobago\", \"Belgium\", \"Somalia\", \"China\", \"Singapore\", \"Canada\", \"Bhutan\", \"Timor-Leste\", \"Benin\", \"Algeria\", \"Belize\", \"Fiji\", \"Norway\", \"Mauritius\", \"Honduras\", \"Chad\", \"Slovenia\", \"Togo\", \"Solomon Islands\", \"Western Sahara\", \"Central African Republic\", \"Oman\", \"Ethiopia\", \"Lithuania\", \"Japan\", \"Lesotho\", \"Korea, South\", \"Thailand\", \"Panama\", \"Estonia\", \"Paraguay\", \"Haiti\", \"Comoros\", \"Seychelles\", \"Gabon\", \"India\", \"Malta\", \"Niger\", \"Equatorial Guinea\", \"Belarus\", \"Bolivia\", \"Tanzania\", \"Turkey\", \"Barbados\", \"South Sudan\", \"Cambodia\", \"Yemen\", \"Moldova\", \"Tunisia\", \"France\", \"Armenia\", \"Iceland\", \"Marshall Islands\", \"Nigeria\", \"Vanuatu\", \"Argentina\", \"Kosovo\", \"Lebanon\", \"South Africa\", \"Eritrea\", \"Colombia\", \"Sierra Leone\", \"Cameroon\", \"Uzbekistan\", \"Andorra\", \"West Bank and Gaza\", \"Papua New Guinea\", \"Greece\", \"Jamaica\", \"Guatemala\", \"Austria\", \"Saint Kitts and Nevis\", \"Kazakhstan\", \"Libya\", \"Switzerland\", \"Laos\", \"Venezuela\", \"Brunei\", \"Antigua and Barbuda\", \"MS Zaandam\", \"Kyrgyzstan\", \"Madagascar\", \"Czechia\", \"Morocco\", \"Italy\", \"Sweden\", \"Mozambique\", \"Cyprus\", \"Diamond Princess\", \"Russia\", \"United Kingdom\", \"Rwanda\", \"Saint Lucia\", \"Grenada\", \"Bulgaria\", \"Denmark\", \"Israel\"], \"locationmode\": \"country names\", \"locations\": [\"Zimbabwe\", \"Cote d'Ivoire\", \"Kuwait\", \"Latvia\", \"Georgia\", \"New Zealand\", \"Bosnia and Herzegovina\", \"Tajikistan\", \"Costa Rica\", \"Saudi Arabia\", \"Iran\", \"Maldives\", \"Sri Lanka\", \"Burundi\", \"Poland\", \"Ecuador\", \"Mongolia\", \"Uganda\", \"Bahrain\", \"Bangladesh\", \"Liechtenstein\", \"Jordan\", \"Spain\", \"Nicaragua\", \"Indonesia\", \"Mali\", \"Monaco\", \"Peru\", \"El Salvador\", \"Guyana\", \"Cabo Verde\", \"Egypt\", \"Congo (Kinshasa)\", \"Senegal\", \"US\", \"Liberia\", \"Kenya\", \"Luxembourg\", \"Philippines\", \"Guinea-Bissau\", \"Sao Tome and Principe\", \"Namibia\", \"Germany\", \"Bahamas\", \"Qatar\", \"Dominica\", \"Ghana\", \"Nepal\", \"Cuba\", \"Saint Vincent and the Grenadines\", \"Suriname\", \"Burkina Faso\", \"Ireland\", \"Malawi\", \"Brazil\", \"Romania\", \"Djibouti\", \"Syria\", \"United Arab Emirates\", \"Azerbaijan\", \"Ukraine\", \"Guinea\", \"Montenegro\", \"Taiwan*\", \"Netherlands\", \"Iraq\", \"Malaysia\", \"Portugal\", \"Dominican Republic\", \"Sudan\", \"Botswana\", \"Angola\", \"San Marino\", \"Burma\", \"Zambia\", \"Afghanistan\", \"Vietnam\", \"Australia\", \"Uruguay\", \"Croatia\", \"Gambia\", \"Serbia\", \"Congo (Brazzaville)\", \"Albania\", \"Chile\", \"Slovakia\", \"Hungary\", \"Mauritania\", \"Finland\", \"North Macedonia\", \"Pakistan\", \"Eswatini\", \"Mexico\", \"Holy See\", \"Trinidad and Tobago\", \"Belgium\", \"Somalia\", \"China\", \"Singapore\", \"Canada\", \"Bhutan\", \"Timor-Leste\", \"Benin\", \"Algeria\", \"Belize\", \"Fiji\", \"Norway\", \"Mauritius\", \"Honduras\", \"Chad\", \"Slovenia\", \"Togo\", \"Solomon Islands\", \"Western Sahara\", \"Central African Republic\", \"Oman\", \"Ethiopia\", \"Lithuania\", \"Japan\", \"Lesotho\", \"Korea, South\", \"Thailand\", \"Panama\", \"Estonia\", \"Paraguay\", \"Haiti\", \"Comoros\", \"Seychelles\", \"Gabon\", \"India\", \"Malta\", \"Niger\", \"Equatorial Guinea\", \"Belarus\", \"Bolivia\", \"Tanzania\", \"Turkey\", \"Barbados\", \"South Sudan\", \"Cambodia\", \"Yemen\", \"Moldova\", \"Tunisia\", \"France\", \"Armenia\", \"Iceland\", \"Marshall Islands\", \"Nigeria\", \"Vanuatu\", \"Argentina\", \"Kosovo\", \"Lebanon\", \"South Africa\", \"Eritrea\", \"Colombia\", \"Sierra Leone\", \"Cameroon\", \"Uzbekistan\", \"Andorra\", \"West Bank and Gaza\", \"Papua New Guinea\", \"Greece\", \"Jamaica\", \"Guatemala\", \"Austria\", \"Saint Kitts and Nevis\", \"Kazakhstan\", \"Libya\", \"Switzerland\", \"Laos\", \"Venezuela\", \"Brunei\", \"Antigua and Barbuda\", \"MS Zaandam\", \"Kyrgyzstan\", \"Madagascar\", \"Czechia\", \"Morocco\", \"Italy\", \"Sweden\", \"Mozambique\", \"Cyprus\", \"Diamond Princess\", \"Russia\", \"United Kingdom\", \"Rwanda\", \"Saint Lucia\", \"Grenada\", \"Bulgaria\", \"Denmark\", \"Israel\"], \"name\": \"\", \"type\": \"choropleth\", \"z\": [9822, 21310, 142426, 16975, 132368, 2056, 87374, 12155, 137093, 357128, 948749, 12994, 23484, 681, 985075, 192117, 791, 20145, 86787, 462407, 1253, 214307, 1628208, 5784, 534266, 4688, 608, 962530, 38405, 5376, 10747, 115541, 12702, 16075, 13383320, 1595, 83316, 33409, 429864, 2422, 989, 14345, 1055691, 7517, 138648, 85, 51569, 231978, 8233, 85, 5312, 2856, 72241, 6025, 6314740, 471536, 5677, 7797, 167753, 118195, 742105, 13039, 34881, 651, 527336, 550435, 64485, 294799, 143473, 17404, 10258, 15103, 1586, 89486, 17608, 46215, 1343, 27902, 5716, 126612, 3734, 169214, 5774, 37625, 550430, 105733, 211527, 8547, 24629, 61543, 398024, 6410, 1107071, 27, 6660, 576599, 4451, 92814, 58213, 373662, 396, 30, 2974, 82221, 5743, 38, 35828, 501, 107888, 1682, 75381, 2962, 17, 10, 4913, 123484, 109534, 60193, 147515, 2109, 34201, 3998, 164729, 12052, 81906, 9272, 611, 173, 9191, 9431691, 9752, 1516, 5153, 135008, 144622, 509, 607628, 275, 3109, 323, 2177, 107017, 96251, 2270573, 134768, 5381, 4, 67412, 1, 1418807, 39057, 126944, 787702, 577, 1308376, 2411, 24117, 72870, 6712, 83585, 645, 104227, 10709, 121971, 279708, 22, 131659, 82430, 318290, 39, 102040, 150, 141, 9, 72807, 17341, 519723, 353803, 1585178, 243129, 15613, 10383, 712, 2249890, 1621305, 5919, 257, 41, 142486, 79872, 335598]}],                        {\"coloraxis\": {\"colorbar\": {\"title\": {\"text\": \"Confirmed\"}}, \"colorscale\": [[0.0, \"#0d0887\"], [0.1111111111111111, \"#46039f\"], [0.2222222222222222, \"#7201a8\"], [0.3333333333333333, \"#9c179e\"], [0.4444444444444444, \"#bd3786\"], [0.5555555555555556, \"#d8576b\"], [0.6666666666666666, \"#ed7953\"], [0.7777777777777778, \"#fb9f3a\"], [0.8888888888888888, \"#fdca26\"], [1.0, \"#f0f921\"]]}, \"geo\": {\"center\": {}, \"domain\": {\"x\": [0.0, 1.0], \"y\": [0.0, 1.0]}, \"showcoastlines\": false, \"showframe\": false}, \"legend\": {\"tracegroupgap\": 0}, \"margin\": {\"t\": 60}, \"template\": {\"data\": {\"bar\": [{\"error_x\": {\"color\": \"#2a3f5f\"}, \"error_y\": {\"color\": \"#2a3f5f\"}, \"marker\": {\"line\": {\"color\": \"#E5ECF6\", \"width\": 0.5}}, \"type\": \"bar\"}], \"barpolar\": [{\"marker\": {\"line\": {\"color\": \"#E5ECF6\", \"width\": 0.5}}, \"type\": \"barpolar\"}], \"carpet\": [{\"aaxis\": {\"endlinecolor\": \"#2a3f5f\", \"gridcolor\": \"white\", \"linecolor\": \"white\", \"minorgridcolor\": \"white\", \"startlinecolor\": \"#2a3f5f\"}, \"baxis\": {\"endlinecolor\": \"#2a3f5f\", \"gridcolor\": \"white\", \"linecolor\": \"white\", \"minorgridcolor\": \"white\", \"startlinecolor\": \"#2a3f5f\"}, \"type\": \"carpet\"}], \"choropleth\": [{\"colorbar\": {\"outlinewidth\": 0, \"ticks\": \"\"}, \"type\": \"choropleth\"}], \"contour\": [{\"colorbar\": {\"outlinewidth\": 0, \"ticks\": \"\"}, \"colorscale\": [[0.0, \"#0d0887\"], [0.1111111111111111, \"#46039f\"], [0.2222222222222222, \"#7201a8\"], [0.3333333333333333, \"#9c179e\"], [0.4444444444444444, \"#bd3786\"], [0.5555555555555556, \"#d8576b\"], [0.6666666666666666, \"#ed7953\"], [0.7777777777777778, \"#fb9f3a\"], [0.8888888888888888, \"#fdca26\"], [1.0, \"#f0f921\"]], \"type\": \"contour\"}], \"contourcarpet\": [{\"colorbar\": {\"outlinewidth\": 0, \"ticks\": \"\"}, \"type\": \"contourcarpet\"}], \"heatmap\": [{\"colorbar\": {\"outlinewidth\": 0, \"ticks\": \"\"}, \"colorscale\": [[0.0, \"#0d0887\"], [0.1111111111111111, \"#46039f\"], [0.2222222222222222, \"#7201a8\"], [0.3333333333333333, \"#9c179e\"], [0.4444444444444444, \"#bd3786\"], [0.5555555555555556, \"#d8576b\"], [0.6666666666666666, \"#ed7953\"], [0.7777777777777778, \"#fb9f3a\"], [0.8888888888888888, \"#fdca26\"], [1.0, \"#f0f921\"]], \"type\": \"heatmap\"}], \"heatmapgl\": [{\"colorbar\": {\"outlinewidth\": 0, \"ticks\": \"\"}, \"colorscale\": [[0.0, \"#0d0887\"], [0.1111111111111111, \"#46039f\"], [0.2222222222222222, \"#7201a8\"], [0.3333333333333333, \"#9c179e\"], [0.4444444444444444, \"#bd3786\"], [0.5555555555555556, \"#d8576b\"], [0.6666666666666666, \"#ed7953\"], [0.7777777777777778, \"#fb9f3a\"], [0.8888888888888888, \"#fdca26\"], [1.0, \"#f0f921\"]], \"type\": \"heatmapgl\"}], \"histogram\": [{\"marker\": {\"colorbar\": {\"outlinewidth\": 0, \"ticks\": \"\"}}, \"type\": \"histogram\"}], \"histogram2d\": [{\"colorbar\": {\"outlinewidth\": 0, \"ticks\": \"\"}, \"colorscale\": [[0.0, \"#0d0887\"], [0.1111111111111111, \"#46039f\"], [0.2222222222222222, \"#7201a8\"], [0.3333333333333333, \"#9c179e\"], [0.4444444444444444, \"#bd3786\"], [0.5555555555555556, \"#d8576b\"], [0.6666666666666666, \"#ed7953\"], [0.7777777777777778, \"#fb9f3a\"], [0.8888888888888888, \"#fdca26\"], [1.0, \"#f0f921\"]], \"type\": \"histogram2d\"}], \"histogram2dcontour\": [{\"colorbar\": {\"outlinewidth\": 0, \"ticks\": \"\"}, \"colorscale\": [[0.0, \"#0d0887\"], [0.1111111111111111, \"#46039f\"], [0.2222222222222222, \"#7201a8\"], [0.3333333333333333, \"#9c179e\"], [0.4444444444444444, \"#bd3786\"], [0.5555555555555556, \"#d8576b\"], [0.6666666666666666, \"#ed7953\"], [0.7777777777777778, \"#fb9f3a\"], [0.8888888888888888, \"#fdca26\"], [1.0, \"#f0f921\"]], \"type\": \"histogram2dcontour\"}], \"mesh3d\": [{\"colorbar\": {\"outlinewidth\": 0, \"ticks\": \"\"}, \"type\": \"mesh3d\"}], \"parcoords\": [{\"line\": {\"colorbar\": {\"outlinewidth\": 0, \"ticks\": \"\"}}, \"type\": \"parcoords\"}], \"pie\": [{\"automargin\": true, \"type\": \"pie\"}], \"scatter\": [{\"marker\": {\"colorbar\": {\"outlinewidth\": 0, \"ticks\": \"\"}}, \"type\": \"scatter\"}], \"scatter3d\": [{\"line\": {\"colorbar\": {\"outlinewidth\": 0, \"ticks\": \"\"}}, \"marker\": {\"colorbar\": {\"outlinewidth\": 0, \"ticks\": \"\"}}, \"type\": \"scatter3d\"}], \"scattercarpet\": [{\"marker\": {\"colorbar\": {\"outlinewidth\": 0, \"ticks\": \"\"}}, \"type\": \"scattercarpet\"}], \"scattergeo\": [{\"marker\": {\"colorbar\": {\"outlinewidth\": 0, \"ticks\": \"\"}}, \"type\": \"scattergeo\"}], \"scattergl\": [{\"marker\": {\"colorbar\": {\"outlinewidth\": 0, \"ticks\": \"\"}}, \"type\": \"scattergl\"}], \"scattermapbox\": [{\"marker\": {\"colorbar\": {\"outlinewidth\": 0, \"ticks\": \"\"}}, \"type\": \"scattermapbox\"}], \"scatterpolar\": [{\"marker\": {\"colorbar\": {\"outlinewidth\": 0, \"ticks\": \"\"}}, \"type\": \"scatterpolar\"}], \"scatterpolargl\": [{\"marker\": {\"colorbar\": {\"outlinewidth\": 0, \"ticks\": \"\"}}, \"type\": \"scatterpolargl\"}], \"scatterternary\": [{\"marker\": {\"colorbar\": {\"outlinewidth\": 0, \"ticks\": \"\"}}, \"type\": \"scatterternary\"}], \"surface\": [{\"colorbar\": {\"outlinewidth\": 0, \"ticks\": \"\"}, \"colorscale\": [[0.0, \"#0d0887\"], [0.1111111111111111, \"#46039f\"], [0.2222222222222222, \"#7201a8\"], [0.3333333333333333, \"#9c179e\"], [0.4444444444444444, \"#bd3786\"], [0.5555555555555556, \"#d8576b\"], [0.6666666666666666, \"#ed7953\"], [0.7777777777777778, \"#fb9f3a\"], [0.8888888888888888, \"#fdca26\"], [1.0, \"#f0f921\"]], \"type\": \"surface\"}], \"table\": [{\"cells\": {\"fill\": {\"color\": \"#EBF0F8\"}, \"line\": {\"color\": \"white\"}}, \"header\": {\"fill\": {\"color\": \"#C8D4E3\"}, \"line\": {\"color\": \"white\"}}, \"type\": \"table\"}]}, \"layout\": {\"annotationdefaults\": {\"arrowcolor\": \"#2a3f5f\", \"arrowhead\": 0, \"arrowwidth\": 1}, \"autotypenumbers\": \"strict\", \"coloraxis\": {\"colorbar\": {\"outlinewidth\": 0, \"ticks\": \"\"}}, \"colorscale\": {\"diverging\": [[0, \"#8e0152\"], [0.1, \"#c51b7d\"], [0.2, \"#de77ae\"], [0.3, \"#f1b6da\"], [0.4, \"#fde0ef\"], [0.5, \"#f7f7f7\"], [0.6, \"#e6f5d0\"], [0.7, \"#b8e186\"], [0.8, \"#7fbc41\"], [0.9, \"#4d9221\"], [1, \"#276419\"]], \"sequential\": [[0.0, \"#0d0887\"], [0.1111111111111111, \"#46039f\"], [0.2222222222222222, \"#7201a8\"], [0.3333333333333333, \"#9c179e\"], [0.4444444444444444, \"#bd3786\"], [0.5555555555555556, \"#d8576b\"], [0.6666666666666666, \"#ed7953\"], [0.7777777777777778, \"#fb9f3a\"], [0.8888888888888888, \"#fdca26\"], [1.0, \"#f0f921\"]], \"sequentialminus\": [[0.0, \"#0d0887\"], [0.1111111111111111, \"#46039f\"], [0.2222222222222222, \"#7201a8\"], [0.3333333333333333, \"#9c179e\"], [0.4444444444444444, \"#bd3786\"], [0.5555555555555556, \"#d8576b\"], [0.6666666666666666, \"#ed7953\"], [0.7777777777777778, \"#fb9f3a\"], [0.8888888888888888, \"#fdca26\"], [1.0, \"#f0f921\"]]}, \"colorway\": [\"#636efa\", \"#EF553B\", \"#00cc96\", \"#ab63fa\", \"#FFA15A\", \"#19d3f3\", \"#FF6692\", \"#B6E880\", \"#FF97FF\", \"#FECB52\"], \"font\": {\"color\": \"#2a3f5f\"}, \"geo\": {\"bgcolor\": \"white\", \"lakecolor\": \"white\", \"landcolor\": \"#E5ECF6\", \"showlakes\": true, \"showland\": true, \"subunitcolor\": \"white\"}, \"hoverlabel\": {\"align\": \"left\"}, \"hovermode\": \"closest\", \"mapbox\": {\"style\": \"light\"}, \"paper_bgcolor\": \"white\", \"plot_bgcolor\": \"#E5ECF6\", \"polar\": {\"angularaxis\": {\"gridcolor\": \"white\", \"linecolor\": \"white\", \"ticks\": \"\"}, \"bgcolor\": \"#E5ECF6\", \"radialaxis\": {\"gridcolor\": \"white\", \"linecolor\": \"white\", \"ticks\": \"\"}}, \"scene\": {\"xaxis\": {\"backgroundcolor\": \"#E5ECF6\", \"gridcolor\": \"white\", \"gridwidth\": 2, \"linecolor\": \"white\", \"showbackground\": true, \"ticks\": \"\", \"zerolinecolor\": \"white\"}, \"yaxis\": {\"backgroundcolor\": \"#E5ECF6\", \"gridcolor\": \"white\", \"gridwidth\": 2, \"linecolor\": \"white\", \"showbackground\": true, \"ticks\": \"\", \"zerolinecolor\": \"white\"}, \"zaxis\": {\"backgroundcolor\": \"#E5ECF6\", \"gridcolor\": \"white\", \"gridwidth\": 2, \"linecolor\": \"white\", \"showbackground\": true, \"ticks\": \"\", \"zerolinecolor\": \"white\"}}, \"shapedefaults\": {\"line\": {\"color\": \"#2a3f5f\"}}, \"ternary\": {\"aaxis\": {\"gridcolor\": \"white\", \"linecolor\": \"white\", \"ticks\": \"\"}, \"baxis\": {\"gridcolor\": \"white\", \"linecolor\": \"white\", \"ticks\": \"\"}, \"bgcolor\": \"#E5ECF6\", \"caxis\": {\"gridcolor\": \"white\", \"linecolor\": \"white\", \"ticks\": \"\"}}, \"title\": {\"x\": 0.05}, \"xaxis\": {\"automargin\": true, \"gridcolor\": \"white\", \"linecolor\": \"white\", \"ticks\": \"\", \"title\": {\"standoff\": 15}, \"zerolinecolor\": \"white\", \"zerolinewidth\": 2}, \"yaxis\": {\"automargin\": true, \"gridcolor\": \"white\", \"linecolor\": \"white\", \"ticks\": \"\", \"title\": {\"standoff\": 15}, \"zerolinecolor\": \"white\", \"zerolinewidth\": 2}}}, \"title\": {\"text\": \"Day-Wise Confirmed cases representation\", \"x\": 0.5}},                        {\"responsive\": true}                    ).then(function(){\n",
       "                            \n",
       "var gd = document.getElementById('96c3e5f0-aab3-47b9-bd7d-2a596df72f14');\n",
       "var x = new MutationObserver(function (mutations, observer) {{\n",
       "        var display = window.getComputedStyle(gd).display;\n",
       "        if (!display || display === 'none') {{\n",
       "            console.log([gd, 'removed!']);\n",
       "            Plotly.purge(gd);\n",
       "            observer.disconnect();\n",
       "        }}\n",
       "}});\n",
       "\n",
       "// Listen for the removal of the full notebook cells\n",
       "var notebookContainer = gd.closest('#notebook-container');\n",
       "if (notebookContainer) {{\n",
       "    x.observe(notebookContainer, {childList: true});\n",
       "}}\n",
       "\n",
       "// Listen for the clearing of the current output cell\n",
       "var outputEl = gd.closest('.output');\n",
       "if (outputEl) {{\n",
       "    x.observe(outputEl, {childList: true});\n",
       "}}\n",
       "\n",
       "                        })                };                });            </script>        </div>"
      ]
     },
     "metadata": {},
     "output_type": "display_data"
    }
   ],
   "source": [
    "# Creating the choropleth visualization\n",
    "\n",
    "fig = px.choropleth(df_countries, \n",
    " locations=\"Country\", \n",
    " locationmode = \"country names\",\n",
    " color=\"Confirmed\", \n",
    " hover_name=\"Country\", \n",
    " animation_frame=\"Date\"\n",
    " )\n",
    "fig.update_layout(\n",
    " title_text = 'Day-Wise Confirmed cases representation',\n",
    " title_x = 0.5,\n",
    " geo=dict(\n",
    " showframe = False,\n",
    " showcoastlines = False,\n",
    " ))\n",
    " \n",
    "fig.show()"
   ]
  },
  {
   "cell_type": "code",
   "execution_count": 17,
   "metadata": {},
   "outputs": [
    {
     "data": {
      "application/vnd.plotly.v1+json": {
       "config": {
        "plotlyServerURL": "https://plot.ly"
       },
       "data": [
        {
         "coloraxis": "coloraxis",
         "geo": "geo",
         "hovertemplate": "<b>%{hovertext}</b><br><br>Date=2020-11-29<br>Country=%{location}<br>Recovered=%{z}<extra></extra>",
         "hovertext": [
          "Zimbabwe",
          "Cote d'Ivoire",
          "Kuwait",
          "Latvia",
          "Georgia",
          "New Zealand",
          "Bosnia and Herzegovina",
          "Tajikistan",
          "Costa Rica",
          "Saudi Arabia",
          "Iran",
          "Maldives",
          "Sri Lanka",
          "Burundi",
          "Poland",
          "Ecuador",
          "Mongolia",
          "Uganda",
          "Bahrain",
          "Bangladesh",
          "Liechtenstein",
          "Jordan",
          "Spain",
          "Nicaragua",
          "Indonesia",
          "Mali",
          "Monaco",
          "Peru",
          "El Salvador",
          "Guyana",
          "Cabo Verde",
          "Egypt",
          "Congo (Kinshasa)",
          "Senegal",
          "US",
          "Liberia",
          "Kenya",
          "Luxembourg",
          "Philippines",
          "Guinea-Bissau",
          "Sao Tome and Principe",
          "Namibia",
          "Germany",
          "Bahamas",
          "Qatar",
          "Dominica",
          "Ghana",
          "Nepal",
          "Cuba",
          "Saint Vincent and the Grenadines",
          "Suriname",
          "Burkina Faso",
          "Ireland",
          "Malawi",
          "Brazil",
          "Romania",
          "Djibouti",
          "Syria",
          "United Arab Emirates",
          "Azerbaijan",
          "Ukraine",
          "Guinea",
          "Montenegro",
          "Taiwan*",
          "Netherlands",
          "Iraq",
          "Malaysia",
          "Portugal",
          "Dominican Republic",
          "Sudan",
          "Botswana",
          "Angola",
          "San Marino",
          "Burma",
          "Zambia",
          "Afghanistan",
          "Vietnam",
          "Australia",
          "Uruguay",
          "Croatia",
          "Gambia",
          "Serbia",
          "Congo (Brazzaville)",
          "Albania",
          "Chile",
          "Slovakia",
          "Hungary",
          "Mauritania",
          "Finland",
          "North Macedonia",
          "Pakistan",
          "Eswatini",
          "Mexico",
          "Holy See",
          "Trinidad and Tobago",
          "Belgium",
          "Somalia",
          "China",
          "Singapore",
          "Canada",
          "Bhutan",
          "Timor-Leste",
          "Benin",
          "Algeria",
          "Belize",
          "Fiji",
          "Norway",
          "Mauritius",
          "Honduras",
          "Chad",
          "Slovenia",
          "Togo",
          "Solomon Islands",
          "Western Sahara",
          "Central African Republic",
          "Oman",
          "Ethiopia",
          "Lithuania",
          "Japan",
          "Lesotho",
          "Korea, South",
          "Thailand",
          "Panama",
          "Estonia",
          "Paraguay",
          "Haiti",
          "Comoros",
          "Seychelles",
          "Gabon",
          "India",
          "Malta",
          "Niger",
          "Equatorial Guinea",
          "Belarus",
          "Bolivia",
          "Tanzania",
          "Turkey",
          "Barbados",
          "South Sudan",
          "Cambodia",
          "Yemen",
          "Moldova",
          "Tunisia",
          "France",
          "Armenia",
          "Iceland",
          "Marshall Islands",
          "Nigeria",
          "Vanuatu",
          "Argentina",
          "Kosovo",
          "Lebanon",
          "South Africa",
          "Eritrea",
          "Colombia",
          "Sierra Leone",
          "Cameroon",
          "Uzbekistan",
          "Andorra",
          "West Bank and Gaza",
          "Papua New Guinea",
          "Greece",
          "Jamaica",
          "Guatemala",
          "Austria",
          "Saint Kitts and Nevis",
          "Kazakhstan",
          "Libya",
          "Switzerland",
          "Laos",
          "Venezuela",
          "Brunei",
          "Antigua and Barbuda",
          "MS Zaandam",
          "Kyrgyzstan",
          "Madagascar",
          "Czechia",
          "Morocco",
          "Italy",
          "Sweden",
          "Mozambique",
          "Cyprus",
          "Diamond Princess",
          "Russia",
          "United Kingdom",
          "Rwanda",
          "Saint Lucia",
          "Grenada",
          "Bulgaria",
          "Denmark",
          "Israel"
         ],
         "locationmode": "country names",
         "locations": [
          "Zimbabwe",
          "Cote d'Ivoire",
          "Kuwait",
          "Latvia",
          "Georgia",
          "New Zealand",
          "Bosnia and Herzegovina",
          "Tajikistan",
          "Costa Rica",
          "Saudi Arabia",
          "Iran",
          "Maldives",
          "Sri Lanka",
          "Burundi",
          "Poland",
          "Ecuador",
          "Mongolia",
          "Uganda",
          "Bahrain",
          "Bangladesh",
          "Liechtenstein",
          "Jordan",
          "Spain",
          "Nicaragua",
          "Indonesia",
          "Mali",
          "Monaco",
          "Peru",
          "El Salvador",
          "Guyana",
          "Cabo Verde",
          "Egypt",
          "Congo (Kinshasa)",
          "Senegal",
          "US",
          "Liberia",
          "Kenya",
          "Luxembourg",
          "Philippines",
          "Guinea-Bissau",
          "Sao Tome and Principe",
          "Namibia",
          "Germany",
          "Bahamas",
          "Qatar",
          "Dominica",
          "Ghana",
          "Nepal",
          "Cuba",
          "Saint Vincent and the Grenadines",
          "Suriname",
          "Burkina Faso",
          "Ireland",
          "Malawi",
          "Brazil",
          "Romania",
          "Djibouti",
          "Syria",
          "United Arab Emirates",
          "Azerbaijan",
          "Ukraine",
          "Guinea",
          "Montenegro",
          "Taiwan*",
          "Netherlands",
          "Iraq",
          "Malaysia",
          "Portugal",
          "Dominican Republic",
          "Sudan",
          "Botswana",
          "Angola",
          "San Marino",
          "Burma",
          "Zambia",
          "Afghanistan",
          "Vietnam",
          "Australia",
          "Uruguay",
          "Croatia",
          "Gambia",
          "Serbia",
          "Congo (Brazzaville)",
          "Albania",
          "Chile",
          "Slovakia",
          "Hungary",
          "Mauritania",
          "Finland",
          "North Macedonia",
          "Pakistan",
          "Eswatini",
          "Mexico",
          "Holy See",
          "Trinidad and Tobago",
          "Belgium",
          "Somalia",
          "China",
          "Singapore",
          "Canada",
          "Bhutan",
          "Timor-Leste",
          "Benin",
          "Algeria",
          "Belize",
          "Fiji",
          "Norway",
          "Mauritius",
          "Honduras",
          "Chad",
          "Slovenia",
          "Togo",
          "Solomon Islands",
          "Western Sahara",
          "Central African Republic",
          "Oman",
          "Ethiopia",
          "Lithuania",
          "Japan",
          "Lesotho",
          "Korea, South",
          "Thailand",
          "Panama",
          "Estonia",
          "Paraguay",
          "Haiti",
          "Comoros",
          "Seychelles",
          "Gabon",
          "India",
          "Malta",
          "Niger",
          "Equatorial Guinea",
          "Belarus",
          "Bolivia",
          "Tanzania",
          "Turkey",
          "Barbados",
          "South Sudan",
          "Cambodia",
          "Yemen",
          "Moldova",
          "Tunisia",
          "France",
          "Armenia",
          "Iceland",
          "Marshall Islands",
          "Nigeria",
          "Vanuatu",
          "Argentina",
          "Kosovo",
          "Lebanon",
          "South Africa",
          "Eritrea",
          "Colombia",
          "Sierra Leone",
          "Cameroon",
          "Uzbekistan",
          "Andorra",
          "West Bank and Gaza",
          "Papua New Guinea",
          "Greece",
          "Jamaica",
          "Guatemala",
          "Austria",
          "Saint Kitts and Nevis",
          "Kazakhstan",
          "Libya",
          "Switzerland",
          "Laos",
          "Venezuela",
          "Brunei",
          "Antigua and Barbuda",
          "MS Zaandam",
          "Kyrgyzstan",
          "Madagascar",
          "Czechia",
          "Morocco",
          "Italy",
          "Sweden",
          "Mozambique",
          "Cyprus",
          "Diamond Princess",
          "Russia",
          "United Kingdom",
          "Rwanda",
          "Saint Lucia",
          "Grenada",
          "Bulgaria",
          "Denmark",
          "Israel"
         ],
         "name": "",
         "type": "choropleth",
         "z": [
          8472,
          20947,
          136413,
          1719,
          110049,
          1959,
          51479,
          11559,
          84991,
          346409,
          658292,
          11902,
          17002,
          575,
          559429,
          169804,
          354,
          8989,
          84977,
          378172,
          1024,
          148572,
          150376,
          4225,
          445793,
          3178,
          537,
          893061,
          35078,
          4346,
          10229,
          102596,
          11585,
          15597,
          5065030,
          1343,
          54975,
          24073,
          398624,
          2309,
          930,
          13439,
          730797,
          5867,
          135862,
          63,
          50450,
          212590,
          7586,
          79,
          5192,
          2593,
          23364,
          5453,
          5581436,
          348852,
          5577,
          3500,
          154185,
          73676,
          354556,
          11982,
          23484,
          565,
          6921,
          480903,
          52647,
          209534,
          114818,
          10175,
          7717,
          7763,
          1285,
          68910,
          16983,
          36731,
          1179,
          25592,
          4267,
          101838,
          3591,
          0,
          4988,
          18481,
          525213,
          64197,
          55637,
          7717,
          16800,
          38400,
          341423,
          5996,
          818397,
          15,
          5745,
          0,
          3417,
          86998,
          58124,
          0,
          377,
          30,
          2819,
          53204,
          3131,
          33,
          17998,
          443,
          47680,
          1515,
          53687,
          2464,
          5,
          8,
          1924,
          114963,
          69315,
          14120,
          121735,
          1278,
          27653,
          3803,
          143616,
          7010,
          57947,
          7951,
          586,
          162,
          9037,
          8847600,
          7557,
          1207,
          5009,
          113375,
          121472,
          183,
          400242,
          250,
          2954,
          301,
          1504,
          94586,
          69624,
          167005,
          107364,
          5168,
          1,
          63055,
          0,
          1249843,
          24427,
          76774,
          730633,
          498,
          1204452,
          1836,
          22177,
          70151,
          5794,
          63834,
          588,
          23074,
          6066,
          110588,
          216998,
          19,
          116461,
          53266,
          222100,
          24,
          96652,
          145,
          130,
          0,
          64149,
          16657,
          444406,
          302314,
          734503,
          0,
          13677,
          2057,
          659,
          1746279,
          3514,
          5480,
          109,
          30,
          48594,
          63030,
          323067
         ]
        }
       ],
       "layout": {
        "coloraxis": {
         "colorbar": {
          "title": {
           "text": "Recovered"
          }
         },
         "colorscale": [
          [
           0,
           "#0d0887"
          ],
          [
           0.1111111111111111,
           "#46039f"
          ],
          [
           0.2222222222222222,
           "#7201a8"
          ],
          [
           0.3333333333333333,
           "#9c179e"
          ],
          [
           0.4444444444444444,
           "#bd3786"
          ],
          [
           0.5555555555555556,
           "#d8576b"
          ],
          [
           0.6666666666666666,
           "#ed7953"
          ],
          [
           0.7777777777777778,
           "#fb9f3a"
          ],
          [
           0.8888888888888888,
           "#fdca26"
          ],
          [
           1,
           "#f0f921"
          ]
         ]
        },
        "geo": {
         "center": {},
         "domain": {
          "x": [
           0,
           1
          ],
          "y": [
           0,
           1
          ]
         },
         "showcoastlines": false,
         "showframe": false
        },
        "legend": {
         "tracegroupgap": 0
        },
        "margin": {
         "t": 60
        },
        "template": {
         "data": {
          "bar": [
           {
            "error_x": {
             "color": "#2a3f5f"
            },
            "error_y": {
             "color": "#2a3f5f"
            },
            "marker": {
             "line": {
              "color": "#E5ECF6",
              "width": 0.5
             }
            },
            "type": "bar"
           }
          ],
          "barpolar": [
           {
            "marker": {
             "line": {
              "color": "#E5ECF6",
              "width": 0.5
             }
            },
            "type": "barpolar"
           }
          ],
          "carpet": [
           {
            "aaxis": {
             "endlinecolor": "#2a3f5f",
             "gridcolor": "white",
             "linecolor": "white",
             "minorgridcolor": "white",
             "startlinecolor": "#2a3f5f"
            },
            "baxis": {
             "endlinecolor": "#2a3f5f",
             "gridcolor": "white",
             "linecolor": "white",
             "minorgridcolor": "white",
             "startlinecolor": "#2a3f5f"
            },
            "type": "carpet"
           }
          ],
          "choropleth": [
           {
            "colorbar": {
             "outlinewidth": 0,
             "ticks": ""
            },
            "type": "choropleth"
           }
          ],
          "contour": [
           {
            "colorbar": {
             "outlinewidth": 0,
             "ticks": ""
            },
            "colorscale": [
             [
              0,
              "#0d0887"
             ],
             [
              0.1111111111111111,
              "#46039f"
             ],
             [
              0.2222222222222222,
              "#7201a8"
             ],
             [
              0.3333333333333333,
              "#9c179e"
             ],
             [
              0.4444444444444444,
              "#bd3786"
             ],
             [
              0.5555555555555556,
              "#d8576b"
             ],
             [
              0.6666666666666666,
              "#ed7953"
             ],
             [
              0.7777777777777778,
              "#fb9f3a"
             ],
             [
              0.8888888888888888,
              "#fdca26"
             ],
             [
              1,
              "#f0f921"
             ]
            ],
            "type": "contour"
           }
          ],
          "contourcarpet": [
           {
            "colorbar": {
             "outlinewidth": 0,
             "ticks": ""
            },
            "type": "contourcarpet"
           }
          ],
          "heatmap": [
           {
            "colorbar": {
             "outlinewidth": 0,
             "ticks": ""
            },
            "colorscale": [
             [
              0,
              "#0d0887"
             ],
             [
              0.1111111111111111,
              "#46039f"
             ],
             [
              0.2222222222222222,
              "#7201a8"
             ],
             [
              0.3333333333333333,
              "#9c179e"
             ],
             [
              0.4444444444444444,
              "#bd3786"
             ],
             [
              0.5555555555555556,
              "#d8576b"
             ],
             [
              0.6666666666666666,
              "#ed7953"
             ],
             [
              0.7777777777777778,
              "#fb9f3a"
             ],
             [
              0.8888888888888888,
              "#fdca26"
             ],
             [
              1,
              "#f0f921"
             ]
            ],
            "type": "heatmap"
           }
          ],
          "heatmapgl": [
           {
            "colorbar": {
             "outlinewidth": 0,
             "ticks": ""
            },
            "colorscale": [
             [
              0,
              "#0d0887"
             ],
             [
              0.1111111111111111,
              "#46039f"
             ],
             [
              0.2222222222222222,
              "#7201a8"
             ],
             [
              0.3333333333333333,
              "#9c179e"
             ],
             [
              0.4444444444444444,
              "#bd3786"
             ],
             [
              0.5555555555555556,
              "#d8576b"
             ],
             [
              0.6666666666666666,
              "#ed7953"
             ],
             [
              0.7777777777777778,
              "#fb9f3a"
             ],
             [
              0.8888888888888888,
              "#fdca26"
             ],
             [
              1,
              "#f0f921"
             ]
            ],
            "type": "heatmapgl"
           }
          ],
          "histogram": [
           {
            "marker": {
             "colorbar": {
              "outlinewidth": 0,
              "ticks": ""
             }
            },
            "type": "histogram"
           }
          ],
          "histogram2d": [
           {
            "colorbar": {
             "outlinewidth": 0,
             "ticks": ""
            },
            "colorscale": [
             [
              0,
              "#0d0887"
             ],
             [
              0.1111111111111111,
              "#46039f"
             ],
             [
              0.2222222222222222,
              "#7201a8"
             ],
             [
              0.3333333333333333,
              "#9c179e"
             ],
             [
              0.4444444444444444,
              "#bd3786"
             ],
             [
              0.5555555555555556,
              "#d8576b"
             ],
             [
              0.6666666666666666,
              "#ed7953"
             ],
             [
              0.7777777777777778,
              "#fb9f3a"
             ],
             [
              0.8888888888888888,
              "#fdca26"
             ],
             [
              1,
              "#f0f921"
             ]
            ],
            "type": "histogram2d"
           }
          ],
          "histogram2dcontour": [
           {
            "colorbar": {
             "outlinewidth": 0,
             "ticks": ""
            },
            "colorscale": [
             [
              0,
              "#0d0887"
             ],
             [
              0.1111111111111111,
              "#46039f"
             ],
             [
              0.2222222222222222,
              "#7201a8"
             ],
             [
              0.3333333333333333,
              "#9c179e"
             ],
             [
              0.4444444444444444,
              "#bd3786"
             ],
             [
              0.5555555555555556,
              "#d8576b"
             ],
             [
              0.6666666666666666,
              "#ed7953"
             ],
             [
              0.7777777777777778,
              "#fb9f3a"
             ],
             [
              0.8888888888888888,
              "#fdca26"
             ],
             [
              1,
              "#f0f921"
             ]
            ],
            "type": "histogram2dcontour"
           }
          ],
          "mesh3d": [
           {
            "colorbar": {
             "outlinewidth": 0,
             "ticks": ""
            },
            "type": "mesh3d"
           }
          ],
          "parcoords": [
           {
            "line": {
             "colorbar": {
              "outlinewidth": 0,
              "ticks": ""
             }
            },
            "type": "parcoords"
           }
          ],
          "pie": [
           {
            "automargin": true,
            "type": "pie"
           }
          ],
          "scatter": [
           {
            "marker": {
             "colorbar": {
              "outlinewidth": 0,
              "ticks": ""
             }
            },
            "type": "scatter"
           }
          ],
          "scatter3d": [
           {
            "line": {
             "colorbar": {
              "outlinewidth": 0,
              "ticks": ""
             }
            },
            "marker": {
             "colorbar": {
              "outlinewidth": 0,
              "ticks": ""
             }
            },
            "type": "scatter3d"
           }
          ],
          "scattercarpet": [
           {
            "marker": {
             "colorbar": {
              "outlinewidth": 0,
              "ticks": ""
             }
            },
            "type": "scattercarpet"
           }
          ],
          "scattergeo": [
           {
            "marker": {
             "colorbar": {
              "outlinewidth": 0,
              "ticks": ""
             }
            },
            "type": "scattergeo"
           }
          ],
          "scattergl": [
           {
            "marker": {
             "colorbar": {
              "outlinewidth": 0,
              "ticks": ""
             }
            },
            "type": "scattergl"
           }
          ],
          "scattermapbox": [
           {
            "marker": {
             "colorbar": {
              "outlinewidth": 0,
              "ticks": ""
             }
            },
            "type": "scattermapbox"
           }
          ],
          "scatterpolar": [
           {
            "marker": {
             "colorbar": {
              "outlinewidth": 0,
              "ticks": ""
             }
            },
            "type": "scatterpolar"
           }
          ],
          "scatterpolargl": [
           {
            "marker": {
             "colorbar": {
              "outlinewidth": 0,
              "ticks": ""
             }
            },
            "type": "scatterpolargl"
           }
          ],
          "scatterternary": [
           {
            "marker": {
             "colorbar": {
              "outlinewidth": 0,
              "ticks": ""
             }
            },
            "type": "scatterternary"
           }
          ],
          "surface": [
           {
            "colorbar": {
             "outlinewidth": 0,
             "ticks": ""
            },
            "colorscale": [
             [
              0,
              "#0d0887"
             ],
             [
              0.1111111111111111,
              "#46039f"
             ],
             [
              0.2222222222222222,
              "#7201a8"
             ],
             [
              0.3333333333333333,
              "#9c179e"
             ],
             [
              0.4444444444444444,
              "#bd3786"
             ],
             [
              0.5555555555555556,
              "#d8576b"
             ],
             [
              0.6666666666666666,
              "#ed7953"
             ],
             [
              0.7777777777777778,
              "#fb9f3a"
             ],
             [
              0.8888888888888888,
              "#fdca26"
             ],
             [
              1,
              "#f0f921"
             ]
            ],
            "type": "surface"
           }
          ],
          "table": [
           {
            "cells": {
             "fill": {
              "color": "#EBF0F8"
             },
             "line": {
              "color": "white"
             }
            },
            "header": {
             "fill": {
              "color": "#C8D4E3"
             },
             "line": {
              "color": "white"
             }
            },
            "type": "table"
           }
          ]
         },
         "layout": {
          "annotationdefaults": {
           "arrowcolor": "#2a3f5f",
           "arrowhead": 0,
           "arrowwidth": 1
          },
          "autotypenumbers": "strict",
          "coloraxis": {
           "colorbar": {
            "outlinewidth": 0,
            "ticks": ""
           }
          },
          "colorscale": {
           "diverging": [
            [
             0,
             "#8e0152"
            ],
            [
             0.1,
             "#c51b7d"
            ],
            [
             0.2,
             "#de77ae"
            ],
            [
             0.3,
             "#f1b6da"
            ],
            [
             0.4,
             "#fde0ef"
            ],
            [
             0.5,
             "#f7f7f7"
            ],
            [
             0.6,
             "#e6f5d0"
            ],
            [
             0.7,
             "#b8e186"
            ],
            [
             0.8,
             "#7fbc41"
            ],
            [
             0.9,
             "#4d9221"
            ],
            [
             1,
             "#276419"
            ]
           ],
           "sequential": [
            [
             0,
             "#0d0887"
            ],
            [
             0.1111111111111111,
             "#46039f"
            ],
            [
             0.2222222222222222,
             "#7201a8"
            ],
            [
             0.3333333333333333,
             "#9c179e"
            ],
            [
             0.4444444444444444,
             "#bd3786"
            ],
            [
             0.5555555555555556,
             "#d8576b"
            ],
            [
             0.6666666666666666,
             "#ed7953"
            ],
            [
             0.7777777777777778,
             "#fb9f3a"
            ],
            [
             0.8888888888888888,
             "#fdca26"
            ],
            [
             1,
             "#f0f921"
            ]
           ],
           "sequentialminus": [
            [
             0,
             "#0d0887"
            ],
            [
             0.1111111111111111,
             "#46039f"
            ],
            [
             0.2222222222222222,
             "#7201a8"
            ],
            [
             0.3333333333333333,
             "#9c179e"
            ],
            [
             0.4444444444444444,
             "#bd3786"
            ],
            [
             0.5555555555555556,
             "#d8576b"
            ],
            [
             0.6666666666666666,
             "#ed7953"
            ],
            [
             0.7777777777777778,
             "#fb9f3a"
            ],
            [
             0.8888888888888888,
             "#fdca26"
            ],
            [
             1,
             "#f0f921"
            ]
           ]
          },
          "colorway": [
           "#636efa",
           "#EF553B",
           "#00cc96",
           "#ab63fa",
           "#FFA15A",
           "#19d3f3",
           "#FF6692",
           "#B6E880",
           "#FF97FF",
           "#FECB52"
          ],
          "font": {
           "color": "#2a3f5f"
          },
          "geo": {
           "bgcolor": "white",
           "lakecolor": "white",
           "landcolor": "#E5ECF6",
           "showlakes": true,
           "showland": true,
           "subunitcolor": "white"
          },
          "hoverlabel": {
           "align": "left"
          },
          "hovermode": "closest",
          "mapbox": {
           "style": "light"
          },
          "paper_bgcolor": "white",
          "plot_bgcolor": "#E5ECF6",
          "polar": {
           "angularaxis": {
            "gridcolor": "white",
            "linecolor": "white",
            "ticks": ""
           },
           "bgcolor": "#E5ECF6",
           "radialaxis": {
            "gridcolor": "white",
            "linecolor": "white",
            "ticks": ""
           }
          },
          "scene": {
           "xaxis": {
            "backgroundcolor": "#E5ECF6",
            "gridcolor": "white",
            "gridwidth": 2,
            "linecolor": "white",
            "showbackground": true,
            "ticks": "",
            "zerolinecolor": "white"
           },
           "yaxis": {
            "backgroundcolor": "#E5ECF6",
            "gridcolor": "white",
            "gridwidth": 2,
            "linecolor": "white",
            "showbackground": true,
            "ticks": "",
            "zerolinecolor": "white"
           },
           "zaxis": {
            "backgroundcolor": "#E5ECF6",
            "gridcolor": "white",
            "gridwidth": 2,
            "linecolor": "white",
            "showbackground": true,
            "ticks": "",
            "zerolinecolor": "white"
           }
          },
          "shapedefaults": {
           "line": {
            "color": "#2a3f5f"
           }
          },
          "ternary": {
           "aaxis": {
            "gridcolor": "white",
            "linecolor": "white",
            "ticks": ""
           },
           "baxis": {
            "gridcolor": "white",
            "linecolor": "white",
            "ticks": ""
           },
           "bgcolor": "#E5ECF6",
           "caxis": {
            "gridcolor": "white",
            "linecolor": "white",
            "ticks": ""
           }
          },
          "title": {
           "x": 0.05
          },
          "xaxis": {
           "automargin": true,
           "gridcolor": "white",
           "linecolor": "white",
           "ticks": "",
           "title": {
            "standoff": 15
           },
           "zerolinecolor": "white",
           "zerolinewidth": 2
          },
          "yaxis": {
           "automargin": true,
           "gridcolor": "white",
           "linecolor": "white",
           "ticks": "",
           "title": {
            "standoff": 15
           },
           "zerolinecolor": "white",
           "zerolinewidth": 2
          }
         }
        },
        "title": {
         "text": "Global Recovered Rate of Coronavirus",
         "x": 0.5
        }
       }
      },
      "text/html": [
       "<div>                            <div id=\"c5a00138-ed65-49d9-b3df-d153377007f1\" class=\"plotly-graph-div\" style=\"height:525px; width:100%;\"></div>            <script type=\"text/javascript\">                require([\"plotly\"], function(Plotly) {                    window.PLOTLYENV=window.PLOTLYENV || {};                                    if (document.getElementById(\"c5a00138-ed65-49d9-b3df-d153377007f1\")) {                    Plotly.newPlot(                        \"c5a00138-ed65-49d9-b3df-d153377007f1\",                        [{\"coloraxis\": \"coloraxis\", \"geo\": \"geo\", \"hovertemplate\": \"<b>%{hovertext}</b><br><br>Date=2020-11-29<br>Country=%{location}<br>Recovered=%{z}<extra></extra>\", \"hovertext\": [\"Zimbabwe\", \"Cote d'Ivoire\", \"Kuwait\", \"Latvia\", \"Georgia\", \"New Zealand\", \"Bosnia and Herzegovina\", \"Tajikistan\", \"Costa Rica\", \"Saudi Arabia\", \"Iran\", \"Maldives\", \"Sri Lanka\", \"Burundi\", \"Poland\", \"Ecuador\", \"Mongolia\", \"Uganda\", \"Bahrain\", \"Bangladesh\", \"Liechtenstein\", \"Jordan\", \"Spain\", \"Nicaragua\", \"Indonesia\", \"Mali\", \"Monaco\", \"Peru\", \"El Salvador\", \"Guyana\", \"Cabo Verde\", \"Egypt\", \"Congo (Kinshasa)\", \"Senegal\", \"US\", \"Liberia\", \"Kenya\", \"Luxembourg\", \"Philippines\", \"Guinea-Bissau\", \"Sao Tome and Principe\", \"Namibia\", \"Germany\", \"Bahamas\", \"Qatar\", \"Dominica\", \"Ghana\", \"Nepal\", \"Cuba\", \"Saint Vincent and the Grenadines\", \"Suriname\", \"Burkina Faso\", \"Ireland\", \"Malawi\", \"Brazil\", \"Romania\", \"Djibouti\", \"Syria\", \"United Arab Emirates\", \"Azerbaijan\", \"Ukraine\", \"Guinea\", \"Montenegro\", \"Taiwan*\", \"Netherlands\", \"Iraq\", \"Malaysia\", \"Portugal\", \"Dominican Republic\", \"Sudan\", \"Botswana\", \"Angola\", \"San Marino\", \"Burma\", \"Zambia\", \"Afghanistan\", \"Vietnam\", \"Australia\", \"Uruguay\", \"Croatia\", \"Gambia\", \"Serbia\", \"Congo (Brazzaville)\", \"Albania\", \"Chile\", \"Slovakia\", \"Hungary\", \"Mauritania\", \"Finland\", \"North Macedonia\", \"Pakistan\", \"Eswatini\", \"Mexico\", \"Holy See\", \"Trinidad and Tobago\", \"Belgium\", \"Somalia\", \"China\", \"Singapore\", \"Canada\", \"Bhutan\", \"Timor-Leste\", \"Benin\", \"Algeria\", \"Belize\", \"Fiji\", \"Norway\", \"Mauritius\", \"Honduras\", \"Chad\", \"Slovenia\", \"Togo\", \"Solomon Islands\", \"Western Sahara\", \"Central African Republic\", \"Oman\", \"Ethiopia\", \"Lithuania\", \"Japan\", \"Lesotho\", \"Korea, South\", \"Thailand\", \"Panama\", \"Estonia\", \"Paraguay\", \"Haiti\", \"Comoros\", \"Seychelles\", \"Gabon\", \"India\", \"Malta\", \"Niger\", \"Equatorial Guinea\", \"Belarus\", \"Bolivia\", \"Tanzania\", \"Turkey\", \"Barbados\", \"South Sudan\", \"Cambodia\", \"Yemen\", \"Moldova\", \"Tunisia\", \"France\", \"Armenia\", \"Iceland\", \"Marshall Islands\", \"Nigeria\", \"Vanuatu\", \"Argentina\", \"Kosovo\", \"Lebanon\", \"South Africa\", \"Eritrea\", \"Colombia\", \"Sierra Leone\", \"Cameroon\", \"Uzbekistan\", \"Andorra\", \"West Bank and Gaza\", \"Papua New Guinea\", \"Greece\", \"Jamaica\", \"Guatemala\", \"Austria\", \"Saint Kitts and Nevis\", \"Kazakhstan\", \"Libya\", \"Switzerland\", \"Laos\", \"Venezuela\", \"Brunei\", \"Antigua and Barbuda\", \"MS Zaandam\", \"Kyrgyzstan\", \"Madagascar\", \"Czechia\", \"Morocco\", \"Italy\", \"Sweden\", \"Mozambique\", \"Cyprus\", \"Diamond Princess\", \"Russia\", \"United Kingdom\", \"Rwanda\", \"Saint Lucia\", \"Grenada\", \"Bulgaria\", \"Denmark\", \"Israel\"], \"locationmode\": \"country names\", \"locations\": [\"Zimbabwe\", \"Cote d'Ivoire\", \"Kuwait\", \"Latvia\", \"Georgia\", \"New Zealand\", \"Bosnia and Herzegovina\", \"Tajikistan\", \"Costa Rica\", \"Saudi Arabia\", \"Iran\", \"Maldives\", \"Sri Lanka\", \"Burundi\", \"Poland\", \"Ecuador\", \"Mongolia\", \"Uganda\", \"Bahrain\", \"Bangladesh\", \"Liechtenstein\", \"Jordan\", \"Spain\", \"Nicaragua\", \"Indonesia\", \"Mali\", \"Monaco\", \"Peru\", \"El Salvador\", \"Guyana\", \"Cabo Verde\", \"Egypt\", \"Congo (Kinshasa)\", \"Senegal\", \"US\", \"Liberia\", \"Kenya\", \"Luxembourg\", \"Philippines\", \"Guinea-Bissau\", \"Sao Tome and Principe\", \"Namibia\", \"Germany\", \"Bahamas\", \"Qatar\", \"Dominica\", \"Ghana\", \"Nepal\", \"Cuba\", \"Saint Vincent and the Grenadines\", \"Suriname\", \"Burkina Faso\", \"Ireland\", \"Malawi\", \"Brazil\", \"Romania\", \"Djibouti\", \"Syria\", \"United Arab Emirates\", \"Azerbaijan\", \"Ukraine\", \"Guinea\", \"Montenegro\", \"Taiwan*\", \"Netherlands\", \"Iraq\", \"Malaysia\", \"Portugal\", \"Dominican Republic\", \"Sudan\", \"Botswana\", \"Angola\", \"San Marino\", \"Burma\", \"Zambia\", \"Afghanistan\", \"Vietnam\", \"Australia\", \"Uruguay\", \"Croatia\", \"Gambia\", \"Serbia\", \"Congo (Brazzaville)\", \"Albania\", \"Chile\", \"Slovakia\", \"Hungary\", \"Mauritania\", \"Finland\", \"North Macedonia\", \"Pakistan\", \"Eswatini\", \"Mexico\", \"Holy See\", \"Trinidad and Tobago\", \"Belgium\", \"Somalia\", \"China\", \"Singapore\", \"Canada\", \"Bhutan\", \"Timor-Leste\", \"Benin\", \"Algeria\", \"Belize\", \"Fiji\", \"Norway\", \"Mauritius\", \"Honduras\", \"Chad\", \"Slovenia\", \"Togo\", \"Solomon Islands\", \"Western Sahara\", \"Central African Republic\", \"Oman\", \"Ethiopia\", \"Lithuania\", \"Japan\", \"Lesotho\", \"Korea, South\", \"Thailand\", \"Panama\", \"Estonia\", \"Paraguay\", \"Haiti\", \"Comoros\", \"Seychelles\", \"Gabon\", \"India\", \"Malta\", \"Niger\", \"Equatorial Guinea\", \"Belarus\", \"Bolivia\", \"Tanzania\", \"Turkey\", \"Barbados\", \"South Sudan\", \"Cambodia\", \"Yemen\", \"Moldova\", \"Tunisia\", \"France\", \"Armenia\", \"Iceland\", \"Marshall Islands\", \"Nigeria\", \"Vanuatu\", \"Argentina\", \"Kosovo\", \"Lebanon\", \"South Africa\", \"Eritrea\", \"Colombia\", \"Sierra Leone\", \"Cameroon\", \"Uzbekistan\", \"Andorra\", \"West Bank and Gaza\", \"Papua New Guinea\", \"Greece\", \"Jamaica\", \"Guatemala\", \"Austria\", \"Saint Kitts and Nevis\", \"Kazakhstan\", \"Libya\", \"Switzerland\", \"Laos\", \"Venezuela\", \"Brunei\", \"Antigua and Barbuda\", \"MS Zaandam\", \"Kyrgyzstan\", \"Madagascar\", \"Czechia\", \"Morocco\", \"Italy\", \"Sweden\", \"Mozambique\", \"Cyprus\", \"Diamond Princess\", \"Russia\", \"United Kingdom\", \"Rwanda\", \"Saint Lucia\", \"Grenada\", \"Bulgaria\", \"Denmark\", \"Israel\"], \"name\": \"\", \"type\": \"choropleth\", \"z\": [8472.0, 20947.0, 136413.0, 1719.0, 110049.0, 1959.0, 51479.0, 11559.0, 84991.0, 346409.0, 658292.0, 11902.0, 17002.0, 575.0, 559429.0, 169804.0, 354.0, 8989.0, 84977.0, 378172.0, 1024.0, 148572.0, 150376.0, 4225.0, 445793.0, 3178.0, 537.0, 893061.0, 35078.0, 4346.0, 10229.0, 102596.0, 11585.0, 15597.0, 5065030.0, 1343.0, 54975.0, 24073.0, 398624.0, 2309.0, 930.0, 13439.0, 730797.0, 5867.0, 135862.0, 63.0, 50450.0, 212590.0, 7586.0, 79.0, 5192.0, 2593.0, 23364.0, 5453.0, 5581436.0, 348852.0, 5577.0, 3500.0, 154185.0, 73676.0, 354556.0, 11982.0, 23484.0, 565.0, 6921.0, 480903.0, 52647.0, 209534.0, 114818.0, 10175.0, 7717.0, 7763.0, 1285.0, 68910.0, 16983.0, 36731.0, 1179.0, 25592.0, 4267.0, 101838.0, 3591.0, 0.0, 4988.0, 18481.0, 525213.0, 64197.0, 55637.0, 7717.0, 16800.0, 38400.0, 341423.0, 5996.0, 818397.0, 15.0, 5745.0, 0.0, 3417.0, 86998.0, 58124.0, 0.0, 377.0, 30.0, 2819.0, 53204.0, 3131.0, 33.0, 17998.0, 443.0, 47680.0, 1515.0, 53687.0, 2464.0, 5.0, 8.0, 1924.0, 114963.0, 69315.0, 14120.0, 121735.0, 1278.0, 27653.0, 3803.0, 143616.0, 7010.0, 57947.0, 7951.0, 586.0, 162.0, 9037.0, 8847600.0, 7557.0, 1207.0, 5009.0, 113375.0, 121472.0, 183.0, 400242.0, 250.0, 2954.0, 301.0, 1504.0, 94586.0, 69624.0, 167005.0, 107364.0, 5168.0, 1.0, 63055.0, 0.0, 1249843.0, 24427.0, 76774.0, 730633.0, 498.0, 1204452.0, 1836.0, 22177.0, 70151.0, 5794.0, 63834.0, 588.0, 23074.0, 6066.0, 110588.0, 216998.0, 19.0, 116461.0, 53266.0, 222100.0, 24.0, 96652.0, 145.0, 130.0, 0.0, 64149.0, 16657.0, 444406.0, 302314.0, 734503.0, 0.0, 13677.0, 2057.0, 659.0, 1746279.0, 3514.0, 5480.0, 109.0, 30.0, 48594.0, 63030.0, 323067.0]}],                        {\"coloraxis\": {\"colorbar\": {\"title\": {\"text\": \"Recovered\"}}, \"colorscale\": [[0.0, \"#0d0887\"], [0.1111111111111111, \"#46039f\"], [0.2222222222222222, \"#7201a8\"], [0.3333333333333333, \"#9c179e\"], [0.4444444444444444, \"#bd3786\"], [0.5555555555555556, \"#d8576b\"], [0.6666666666666666, \"#ed7953\"], [0.7777777777777778, \"#fb9f3a\"], [0.8888888888888888, \"#fdca26\"], [1.0, \"#f0f921\"]]}, \"geo\": {\"center\": {}, \"domain\": {\"x\": [0.0, 1.0], \"y\": [0.0, 1.0]}, \"showcoastlines\": false, \"showframe\": false}, \"legend\": {\"tracegroupgap\": 0}, \"margin\": {\"t\": 60}, \"template\": {\"data\": {\"bar\": [{\"error_x\": {\"color\": \"#2a3f5f\"}, \"error_y\": {\"color\": \"#2a3f5f\"}, \"marker\": {\"line\": {\"color\": \"#E5ECF6\", \"width\": 0.5}}, \"type\": \"bar\"}], \"barpolar\": [{\"marker\": {\"line\": {\"color\": \"#E5ECF6\", \"width\": 0.5}}, \"type\": \"barpolar\"}], \"carpet\": [{\"aaxis\": {\"endlinecolor\": \"#2a3f5f\", \"gridcolor\": \"white\", \"linecolor\": \"white\", \"minorgridcolor\": \"white\", \"startlinecolor\": \"#2a3f5f\"}, \"baxis\": {\"endlinecolor\": \"#2a3f5f\", \"gridcolor\": \"white\", \"linecolor\": \"white\", \"minorgridcolor\": \"white\", \"startlinecolor\": \"#2a3f5f\"}, \"type\": \"carpet\"}], \"choropleth\": [{\"colorbar\": {\"outlinewidth\": 0, \"ticks\": \"\"}, \"type\": \"choropleth\"}], \"contour\": [{\"colorbar\": {\"outlinewidth\": 0, \"ticks\": \"\"}, \"colorscale\": [[0.0, \"#0d0887\"], [0.1111111111111111, \"#46039f\"], [0.2222222222222222, \"#7201a8\"], [0.3333333333333333, \"#9c179e\"], [0.4444444444444444, \"#bd3786\"], [0.5555555555555556, \"#d8576b\"], [0.6666666666666666, \"#ed7953\"], [0.7777777777777778, \"#fb9f3a\"], [0.8888888888888888, \"#fdca26\"], [1.0, \"#f0f921\"]], \"type\": \"contour\"}], \"contourcarpet\": [{\"colorbar\": {\"outlinewidth\": 0, \"ticks\": \"\"}, \"type\": \"contourcarpet\"}], \"heatmap\": [{\"colorbar\": {\"outlinewidth\": 0, \"ticks\": \"\"}, \"colorscale\": [[0.0, \"#0d0887\"], [0.1111111111111111, \"#46039f\"], [0.2222222222222222, \"#7201a8\"], [0.3333333333333333, \"#9c179e\"], [0.4444444444444444, \"#bd3786\"], [0.5555555555555556, \"#d8576b\"], [0.6666666666666666, \"#ed7953\"], [0.7777777777777778, \"#fb9f3a\"], [0.8888888888888888, \"#fdca26\"], [1.0, \"#f0f921\"]], \"type\": \"heatmap\"}], \"heatmapgl\": [{\"colorbar\": {\"outlinewidth\": 0, \"ticks\": \"\"}, \"colorscale\": [[0.0, \"#0d0887\"], [0.1111111111111111, \"#46039f\"], [0.2222222222222222, \"#7201a8\"], [0.3333333333333333, \"#9c179e\"], [0.4444444444444444, \"#bd3786\"], [0.5555555555555556, \"#d8576b\"], [0.6666666666666666, \"#ed7953\"], [0.7777777777777778, \"#fb9f3a\"], [0.8888888888888888, \"#fdca26\"], [1.0, \"#f0f921\"]], \"type\": \"heatmapgl\"}], \"histogram\": [{\"marker\": {\"colorbar\": {\"outlinewidth\": 0, \"ticks\": \"\"}}, \"type\": \"histogram\"}], \"histogram2d\": [{\"colorbar\": {\"outlinewidth\": 0, \"ticks\": \"\"}, \"colorscale\": [[0.0, \"#0d0887\"], [0.1111111111111111, \"#46039f\"], [0.2222222222222222, \"#7201a8\"], [0.3333333333333333, \"#9c179e\"], [0.4444444444444444, \"#bd3786\"], [0.5555555555555556, \"#d8576b\"], [0.6666666666666666, \"#ed7953\"], [0.7777777777777778, \"#fb9f3a\"], [0.8888888888888888, \"#fdca26\"], [1.0, \"#f0f921\"]], \"type\": \"histogram2d\"}], \"histogram2dcontour\": [{\"colorbar\": {\"outlinewidth\": 0, \"ticks\": \"\"}, \"colorscale\": [[0.0, \"#0d0887\"], [0.1111111111111111, \"#46039f\"], [0.2222222222222222, \"#7201a8\"], [0.3333333333333333, \"#9c179e\"], [0.4444444444444444, \"#bd3786\"], [0.5555555555555556, \"#d8576b\"], [0.6666666666666666, \"#ed7953\"], [0.7777777777777778, \"#fb9f3a\"], [0.8888888888888888, \"#fdca26\"], [1.0, \"#f0f921\"]], \"type\": \"histogram2dcontour\"}], \"mesh3d\": [{\"colorbar\": {\"outlinewidth\": 0, \"ticks\": \"\"}, \"type\": \"mesh3d\"}], \"parcoords\": [{\"line\": {\"colorbar\": {\"outlinewidth\": 0, \"ticks\": \"\"}}, \"type\": \"parcoords\"}], \"pie\": [{\"automargin\": true, \"type\": \"pie\"}], \"scatter\": [{\"marker\": {\"colorbar\": {\"outlinewidth\": 0, \"ticks\": \"\"}}, \"type\": \"scatter\"}], \"scatter3d\": [{\"line\": {\"colorbar\": {\"outlinewidth\": 0, \"ticks\": \"\"}}, \"marker\": {\"colorbar\": {\"outlinewidth\": 0, \"ticks\": \"\"}}, \"type\": \"scatter3d\"}], \"scattercarpet\": [{\"marker\": {\"colorbar\": {\"outlinewidth\": 0, \"ticks\": \"\"}}, \"type\": \"scattercarpet\"}], \"scattergeo\": [{\"marker\": {\"colorbar\": {\"outlinewidth\": 0, \"ticks\": \"\"}}, \"type\": \"scattergeo\"}], \"scattergl\": [{\"marker\": {\"colorbar\": {\"outlinewidth\": 0, \"ticks\": \"\"}}, \"type\": \"scattergl\"}], \"scattermapbox\": [{\"marker\": {\"colorbar\": {\"outlinewidth\": 0, \"ticks\": \"\"}}, \"type\": \"scattermapbox\"}], \"scatterpolar\": [{\"marker\": {\"colorbar\": {\"outlinewidth\": 0, \"ticks\": \"\"}}, \"type\": \"scatterpolar\"}], \"scatterpolargl\": [{\"marker\": {\"colorbar\": {\"outlinewidth\": 0, \"ticks\": \"\"}}, \"type\": \"scatterpolargl\"}], \"scatterternary\": [{\"marker\": {\"colorbar\": {\"outlinewidth\": 0, \"ticks\": \"\"}}, \"type\": \"scatterternary\"}], \"surface\": [{\"colorbar\": {\"outlinewidth\": 0, \"ticks\": \"\"}, \"colorscale\": [[0.0, \"#0d0887\"], [0.1111111111111111, \"#46039f\"], [0.2222222222222222, \"#7201a8\"], [0.3333333333333333, \"#9c179e\"], [0.4444444444444444, \"#bd3786\"], [0.5555555555555556, \"#d8576b\"], [0.6666666666666666, \"#ed7953\"], [0.7777777777777778, \"#fb9f3a\"], [0.8888888888888888, \"#fdca26\"], [1.0, \"#f0f921\"]], \"type\": \"surface\"}], \"table\": [{\"cells\": {\"fill\": {\"color\": \"#EBF0F8\"}, \"line\": {\"color\": \"white\"}}, \"header\": {\"fill\": {\"color\": \"#C8D4E3\"}, \"line\": {\"color\": \"white\"}}, \"type\": \"table\"}]}, \"layout\": {\"annotationdefaults\": {\"arrowcolor\": \"#2a3f5f\", \"arrowhead\": 0, \"arrowwidth\": 1}, \"autotypenumbers\": \"strict\", \"coloraxis\": {\"colorbar\": {\"outlinewidth\": 0, \"ticks\": \"\"}}, \"colorscale\": {\"diverging\": [[0, \"#8e0152\"], [0.1, \"#c51b7d\"], [0.2, \"#de77ae\"], [0.3, \"#f1b6da\"], [0.4, \"#fde0ef\"], [0.5, \"#f7f7f7\"], [0.6, \"#e6f5d0\"], [0.7, \"#b8e186\"], [0.8, \"#7fbc41\"], [0.9, \"#4d9221\"], [1, \"#276419\"]], \"sequential\": [[0.0, \"#0d0887\"], [0.1111111111111111, \"#46039f\"], [0.2222222222222222, \"#7201a8\"], [0.3333333333333333, \"#9c179e\"], [0.4444444444444444, \"#bd3786\"], [0.5555555555555556, \"#d8576b\"], [0.6666666666666666, \"#ed7953\"], [0.7777777777777778, \"#fb9f3a\"], [0.8888888888888888, \"#fdca26\"], [1.0, \"#f0f921\"]], \"sequentialminus\": [[0.0, \"#0d0887\"], [0.1111111111111111, \"#46039f\"], [0.2222222222222222, \"#7201a8\"], [0.3333333333333333, \"#9c179e\"], [0.4444444444444444, \"#bd3786\"], [0.5555555555555556, \"#d8576b\"], [0.6666666666666666, \"#ed7953\"], [0.7777777777777778, \"#fb9f3a\"], [0.8888888888888888, \"#fdca26\"], [1.0, \"#f0f921\"]]}, \"colorway\": [\"#636efa\", \"#EF553B\", \"#00cc96\", \"#ab63fa\", \"#FFA15A\", \"#19d3f3\", \"#FF6692\", \"#B6E880\", \"#FF97FF\", \"#FECB52\"], \"font\": {\"color\": \"#2a3f5f\"}, \"geo\": {\"bgcolor\": \"white\", \"lakecolor\": \"white\", \"landcolor\": \"#E5ECF6\", \"showlakes\": true, \"showland\": true, \"subunitcolor\": \"white\"}, \"hoverlabel\": {\"align\": \"left\"}, \"hovermode\": \"closest\", \"mapbox\": {\"style\": \"light\"}, \"paper_bgcolor\": \"white\", \"plot_bgcolor\": \"#E5ECF6\", \"polar\": {\"angularaxis\": {\"gridcolor\": \"white\", \"linecolor\": \"white\", \"ticks\": \"\"}, \"bgcolor\": \"#E5ECF6\", \"radialaxis\": {\"gridcolor\": \"white\", \"linecolor\": \"white\", \"ticks\": \"\"}}, \"scene\": {\"xaxis\": {\"backgroundcolor\": \"#E5ECF6\", \"gridcolor\": \"white\", \"gridwidth\": 2, \"linecolor\": \"white\", \"showbackground\": true, \"ticks\": \"\", \"zerolinecolor\": \"white\"}, \"yaxis\": {\"backgroundcolor\": \"#E5ECF6\", \"gridcolor\": \"white\", \"gridwidth\": 2, \"linecolor\": \"white\", \"showbackground\": true, \"ticks\": \"\", \"zerolinecolor\": \"white\"}, \"zaxis\": {\"backgroundcolor\": \"#E5ECF6\", \"gridcolor\": \"white\", \"gridwidth\": 2, \"linecolor\": \"white\", \"showbackground\": true, \"ticks\": \"\", \"zerolinecolor\": \"white\"}}, \"shapedefaults\": {\"line\": {\"color\": \"#2a3f5f\"}}, \"ternary\": {\"aaxis\": {\"gridcolor\": \"white\", \"linecolor\": \"white\", \"ticks\": \"\"}, \"baxis\": {\"gridcolor\": \"white\", \"linecolor\": \"white\", \"ticks\": \"\"}, \"bgcolor\": \"#E5ECF6\", \"caxis\": {\"gridcolor\": \"white\", \"linecolor\": \"white\", \"ticks\": \"\"}}, \"title\": {\"x\": 0.05}, \"xaxis\": {\"automargin\": true, \"gridcolor\": \"white\", \"linecolor\": \"white\", \"ticks\": \"\", \"title\": {\"standoff\": 15}, \"zerolinecolor\": \"white\", \"zerolinewidth\": 2}, \"yaxis\": {\"automargin\": true, \"gridcolor\": \"white\", \"linecolor\": \"white\", \"ticks\": \"\", \"title\": {\"standoff\": 15}, \"zerolinecolor\": \"white\", \"zerolinewidth\": 2}}}, \"title\": {\"text\": \"Global Recovered Rate of Coronavirus\", \"x\": 0.5}},                        {\"responsive\": true}                    ).then(function(){\n",
       "                            \n",
       "var gd = document.getElementById('c5a00138-ed65-49d9-b3df-d153377007f1');\n",
       "var x = new MutationObserver(function (mutations, observer) {{\n",
       "        var display = window.getComputedStyle(gd).display;\n",
       "        if (!display || display === 'none') {{\n",
       "            console.log([gd, 'removed!']);\n",
       "            Plotly.purge(gd);\n",
       "            observer.disconnect();\n",
       "        }}\n",
       "}});\n",
       "\n",
       "// Listen for the removal of the full notebook cells\n",
       "var notebookContainer = gd.closest('#notebook-container');\n",
       "if (notebookContainer) {{\n",
       "    x.observe(notebookContainer, {childList: true});\n",
       "}}\n",
       "\n",
       "// Listen for the clearing of the current output cell\n",
       "var outputEl = gd.closest('.output');\n",
       "if (outputEl) {{\n",
       "    x.observe(outputEl, {childList: true});\n",
       "}}\n",
       "\n",
       "                        })                };                });            </script>        </div>"
      ]
     },
     "metadata": {},
     "output_type": "display_data"
    }
   ],
   "source": [
    "# Creating the choropleth visualization\n",
    "\n",
    "fig = px.choropleth(df_countries, \n",
    " locations=\"Country\", \n",
    " locationmode = \"country names\",\n",
    " color=\"Recovered\", \n",
    " hover_name=\"Country\", \n",
    " animation_frame=\"Date\"\n",
    " )\n",
    "fig.update_layout(\n",
    " title_text = 'Global Recovered Rate of Coronavirus',\n",
    " title_x = 0.5,\n",
    " geo=dict(\n",
    " showframe = False,\n",
    " showcoastlines = False,\n",
    " ))\n",
    " \n",
    "fig.show()"
   ]
  },
  {
   "cell_type": "code",
   "execution_count": 18,
   "metadata": {},
   "outputs": [
    {
     "data": {
      "application/vnd.plotly.v1+json": {
       "config": {
        "plotlyServerURL": "https://plot.ly"
       },
       "data": [
        {
         "coloraxis": "coloraxis",
         "geo": "geo",
         "hovertemplate": "<b>%{hovertext}</b><br><br>Date=2020-11-29<br>Country=%{location}<br>Deaths=%{z}<extra></extra>",
         "hovertext": [
          "Zimbabwe",
          "Cote d'Ivoire",
          "Kuwait",
          "Latvia",
          "Georgia",
          "New Zealand",
          "Bosnia and Herzegovina",
          "Tajikistan",
          "Costa Rica",
          "Saudi Arabia",
          "Iran",
          "Maldives",
          "Sri Lanka",
          "Burundi",
          "Poland",
          "Ecuador",
          "Mongolia",
          "Uganda",
          "Bahrain",
          "Bangladesh",
          "Liechtenstein",
          "Jordan",
          "Spain",
          "Nicaragua",
          "Indonesia",
          "Mali",
          "Monaco",
          "Peru",
          "El Salvador",
          "Guyana",
          "Cabo Verde",
          "Egypt",
          "Congo (Kinshasa)",
          "Senegal",
          "US",
          "Liberia",
          "Kenya",
          "Luxembourg",
          "Philippines",
          "Guinea-Bissau",
          "Sao Tome and Principe",
          "Namibia",
          "Germany",
          "Bahamas",
          "Qatar",
          "Dominica",
          "Ghana",
          "Nepal",
          "Cuba",
          "Saint Vincent and the Grenadines",
          "Suriname",
          "Burkina Faso",
          "Ireland",
          "Malawi",
          "Brazil",
          "Romania",
          "Djibouti",
          "Syria",
          "United Arab Emirates",
          "Azerbaijan",
          "Ukraine",
          "Guinea",
          "Montenegro",
          "Taiwan*",
          "Netherlands",
          "Iraq",
          "Malaysia",
          "Portugal",
          "Dominican Republic",
          "Sudan",
          "Botswana",
          "Angola",
          "San Marino",
          "Burma",
          "Zambia",
          "Afghanistan",
          "Vietnam",
          "Australia",
          "Uruguay",
          "Croatia",
          "Gambia",
          "Serbia",
          "Congo (Brazzaville)",
          "Albania",
          "Chile",
          "Slovakia",
          "Hungary",
          "Mauritania",
          "Finland",
          "North Macedonia",
          "Pakistan",
          "Eswatini",
          "Mexico",
          "Holy See",
          "Trinidad and Tobago",
          "Belgium",
          "Somalia",
          "China",
          "Singapore",
          "Canada",
          "Bhutan",
          "Timor-Leste",
          "Benin",
          "Algeria",
          "Belize",
          "Fiji",
          "Norway",
          "Mauritius",
          "Honduras",
          "Chad",
          "Slovenia",
          "Togo",
          "Solomon Islands",
          "Western Sahara",
          "Central African Republic",
          "Oman",
          "Ethiopia",
          "Lithuania",
          "Japan",
          "Lesotho",
          "Korea, South",
          "Thailand",
          "Panama",
          "Estonia",
          "Paraguay",
          "Haiti",
          "Comoros",
          "Seychelles",
          "Gabon",
          "India",
          "Malta",
          "Niger",
          "Equatorial Guinea",
          "Belarus",
          "Bolivia",
          "Tanzania",
          "Turkey",
          "Barbados",
          "South Sudan",
          "Cambodia",
          "Yemen",
          "Moldova",
          "Tunisia",
          "France",
          "Armenia",
          "Iceland",
          "Marshall Islands",
          "Nigeria",
          "Vanuatu",
          "Argentina",
          "Kosovo",
          "Lebanon",
          "South Africa",
          "Eritrea",
          "Colombia",
          "Sierra Leone",
          "Cameroon",
          "Uzbekistan",
          "Andorra",
          "West Bank and Gaza",
          "Papua New Guinea",
          "Greece",
          "Jamaica",
          "Guatemala",
          "Austria",
          "Saint Kitts and Nevis",
          "Kazakhstan",
          "Libya",
          "Switzerland",
          "Laos",
          "Venezuela",
          "Brunei",
          "Antigua and Barbuda",
          "MS Zaandam",
          "Kyrgyzstan",
          "Madagascar",
          "Czechia",
          "Morocco",
          "Italy",
          "Sweden",
          "Mozambique",
          "Cyprus",
          "Diamond Princess",
          "Russia",
          "United Kingdom",
          "Rwanda",
          "Saint Lucia",
          "Grenada",
          "Bulgaria",
          "Denmark",
          "Israel"
         ],
         "locationmode": "country names",
         "locations": [
          "Zimbabwe",
          "Cote d'Ivoire",
          "Kuwait",
          "Latvia",
          "Georgia",
          "New Zealand",
          "Bosnia and Herzegovina",
          "Tajikistan",
          "Costa Rica",
          "Saudi Arabia",
          "Iran",
          "Maldives",
          "Sri Lanka",
          "Burundi",
          "Poland",
          "Ecuador",
          "Mongolia",
          "Uganda",
          "Bahrain",
          "Bangladesh",
          "Liechtenstein",
          "Jordan",
          "Spain",
          "Nicaragua",
          "Indonesia",
          "Mali",
          "Monaco",
          "Peru",
          "El Salvador",
          "Guyana",
          "Cabo Verde",
          "Egypt",
          "Congo (Kinshasa)",
          "Senegal",
          "US",
          "Liberia",
          "Kenya",
          "Luxembourg",
          "Philippines",
          "Guinea-Bissau",
          "Sao Tome and Principe",
          "Namibia",
          "Germany",
          "Bahamas",
          "Qatar",
          "Dominica",
          "Ghana",
          "Nepal",
          "Cuba",
          "Saint Vincent and the Grenadines",
          "Suriname",
          "Burkina Faso",
          "Ireland",
          "Malawi",
          "Brazil",
          "Romania",
          "Djibouti",
          "Syria",
          "United Arab Emirates",
          "Azerbaijan",
          "Ukraine",
          "Guinea",
          "Montenegro",
          "Taiwan*",
          "Netherlands",
          "Iraq",
          "Malaysia",
          "Portugal",
          "Dominican Republic",
          "Sudan",
          "Botswana",
          "Angola",
          "San Marino",
          "Burma",
          "Zambia",
          "Afghanistan",
          "Vietnam",
          "Australia",
          "Uruguay",
          "Croatia",
          "Gambia",
          "Serbia",
          "Congo (Brazzaville)",
          "Albania",
          "Chile",
          "Slovakia",
          "Hungary",
          "Mauritania",
          "Finland",
          "North Macedonia",
          "Pakistan",
          "Eswatini",
          "Mexico",
          "Holy See",
          "Trinidad and Tobago",
          "Belgium",
          "Somalia",
          "China",
          "Singapore",
          "Canada",
          "Bhutan",
          "Timor-Leste",
          "Benin",
          "Algeria",
          "Belize",
          "Fiji",
          "Norway",
          "Mauritius",
          "Honduras",
          "Chad",
          "Slovenia",
          "Togo",
          "Solomon Islands",
          "Western Sahara",
          "Central African Republic",
          "Oman",
          "Ethiopia",
          "Lithuania",
          "Japan",
          "Lesotho",
          "Korea, South",
          "Thailand",
          "Panama",
          "Estonia",
          "Paraguay",
          "Haiti",
          "Comoros",
          "Seychelles",
          "Gabon",
          "India",
          "Malta",
          "Niger",
          "Equatorial Guinea",
          "Belarus",
          "Bolivia",
          "Tanzania",
          "Turkey",
          "Barbados",
          "South Sudan",
          "Cambodia",
          "Yemen",
          "Moldova",
          "Tunisia",
          "France",
          "Armenia",
          "Iceland",
          "Marshall Islands",
          "Nigeria",
          "Vanuatu",
          "Argentina",
          "Kosovo",
          "Lebanon",
          "South Africa",
          "Eritrea",
          "Colombia",
          "Sierra Leone",
          "Cameroon",
          "Uzbekistan",
          "Andorra",
          "West Bank and Gaza",
          "Papua New Guinea",
          "Greece",
          "Jamaica",
          "Guatemala",
          "Austria",
          "Saint Kitts and Nevis",
          "Kazakhstan",
          "Libya",
          "Switzerland",
          "Laos",
          "Venezuela",
          "Brunei",
          "Antigua and Barbuda",
          "MS Zaandam",
          "Kyrgyzstan",
          "Madagascar",
          "Czechia",
          "Morocco",
          "Italy",
          "Sweden",
          "Mozambique",
          "Cyprus",
          "Diamond Princess",
          "Russia",
          "United Kingdom",
          "Rwanda",
          "Saint Lucia",
          "Grenada",
          "Bulgaria",
          "Denmark",
          "Israel"
         ],
         "name": "",
         "type": "choropleth",
         "z": [
          275,
          131,
          878,
          197,
          1230,
          25,
          2620,
          86,
          1690,
          5884,
          47874,
          46,
          116,
          1,
          17029,
          13423,
          0,
          201,
          341,
          6609,
          15,
          2694,
          44668,
          160,
          16815,
          152,
          3,
          35923,
          1111,
          150,
          105,
          6636,
          333,
          333,
          266873,
          83,
          1452,
          300,
          8373,
          43,
          17,
          151,
          16306,
          163,
          237,
          0,
          323,
          1479,
          134,
          0,
          117,
          68,
          2052,
          185,
          172833,
          11193,
          61,
          413,
          570,
          1361,
          12613,
          76,
          487,
          7,
          9426,
          12224,
          357,
          4427,
          2330,
          1235,
          31,
          346,
          45,
          1918,
          357,
          1763,
          35,
          908,
          76,
          1712,
          123,
          1549,
          94,
          798,
          15356,
          816,
          4672,
          175,
          393,
          1731,
          8025,
          121,
          105655,
          0,
          120,
          16547,
          113,
          4743,
          29,
          12046,
          0,
          0,
          43,
          2410,
          147,
          2,
          328,
          10,
          2909,
          101,
          1384,
          64,
          0,
          1,
          63,
          1418,
          1700,
          493,
          2057,
          44,
          526,
          60,
          3060,
          112,
          1743,
          232,
          7,
          0,
          59,
          137139,
          133,
          70,
          85,
          1151,
          8952,
          21,
          13558,
          7,
          61,
          0,
          617,
          2290,
          3219,
          52410,
          2142,
          26,
          0,
          1173,
          0,
          38473,
          1005,
          1004,
          21477,
          0,
          36584,
          74,
          437,
          608,
          76,
          717,
          7,
          2321,
          256,
          4166,
          3105,
          0,
          1990,
          1166,
          4650,
          0,
          894,
          3,
          4,
          2,
          1271,
          251,
          8138,
          5789,
          54904,
          6681,
          130,
          48,
          13,
          39127,
          58342,
          48,
          2,
          0,
          3814,
          829,
          2864
         ]
        }
       ],
       "layout": {
        "coloraxis": {
         "colorbar": {
          "title": {
           "text": "Deaths"
          }
         },
         "colorscale": [
          [
           0,
           "#0d0887"
          ],
          [
           0.1111111111111111,
           "#46039f"
          ],
          [
           0.2222222222222222,
           "#7201a8"
          ],
          [
           0.3333333333333333,
           "#9c179e"
          ],
          [
           0.4444444444444444,
           "#bd3786"
          ],
          [
           0.5555555555555556,
           "#d8576b"
          ],
          [
           0.6666666666666666,
           "#ed7953"
          ],
          [
           0.7777777777777778,
           "#fb9f3a"
          ],
          [
           0.8888888888888888,
           "#fdca26"
          ],
          [
           1,
           "#f0f921"
          ]
         ]
        },
        "geo": {
         "center": {},
         "domain": {
          "x": [
           0,
           1
          ],
          "y": [
           0,
           1
          ]
         },
         "showcoastlines": false,
         "showframe": false
        },
        "legend": {
         "tracegroupgap": 0
        },
        "margin": {
         "t": 60
        },
        "template": {
         "data": {
          "bar": [
           {
            "error_x": {
             "color": "#2a3f5f"
            },
            "error_y": {
             "color": "#2a3f5f"
            },
            "marker": {
             "line": {
              "color": "#E5ECF6",
              "width": 0.5
             }
            },
            "type": "bar"
           }
          ],
          "barpolar": [
           {
            "marker": {
             "line": {
              "color": "#E5ECF6",
              "width": 0.5
             }
            },
            "type": "barpolar"
           }
          ],
          "carpet": [
           {
            "aaxis": {
             "endlinecolor": "#2a3f5f",
             "gridcolor": "white",
             "linecolor": "white",
             "minorgridcolor": "white",
             "startlinecolor": "#2a3f5f"
            },
            "baxis": {
             "endlinecolor": "#2a3f5f",
             "gridcolor": "white",
             "linecolor": "white",
             "minorgridcolor": "white",
             "startlinecolor": "#2a3f5f"
            },
            "type": "carpet"
           }
          ],
          "choropleth": [
           {
            "colorbar": {
             "outlinewidth": 0,
             "ticks": ""
            },
            "type": "choropleth"
           }
          ],
          "contour": [
           {
            "colorbar": {
             "outlinewidth": 0,
             "ticks": ""
            },
            "colorscale": [
             [
              0,
              "#0d0887"
             ],
             [
              0.1111111111111111,
              "#46039f"
             ],
             [
              0.2222222222222222,
              "#7201a8"
             ],
             [
              0.3333333333333333,
              "#9c179e"
             ],
             [
              0.4444444444444444,
              "#bd3786"
             ],
             [
              0.5555555555555556,
              "#d8576b"
             ],
             [
              0.6666666666666666,
              "#ed7953"
             ],
             [
              0.7777777777777778,
              "#fb9f3a"
             ],
             [
              0.8888888888888888,
              "#fdca26"
             ],
             [
              1,
              "#f0f921"
             ]
            ],
            "type": "contour"
           }
          ],
          "contourcarpet": [
           {
            "colorbar": {
             "outlinewidth": 0,
             "ticks": ""
            },
            "type": "contourcarpet"
           }
          ],
          "heatmap": [
           {
            "colorbar": {
             "outlinewidth": 0,
             "ticks": ""
            },
            "colorscale": [
             [
              0,
              "#0d0887"
             ],
             [
              0.1111111111111111,
              "#46039f"
             ],
             [
              0.2222222222222222,
              "#7201a8"
             ],
             [
              0.3333333333333333,
              "#9c179e"
             ],
             [
              0.4444444444444444,
              "#bd3786"
             ],
             [
              0.5555555555555556,
              "#d8576b"
             ],
             [
              0.6666666666666666,
              "#ed7953"
             ],
             [
              0.7777777777777778,
              "#fb9f3a"
             ],
             [
              0.8888888888888888,
              "#fdca26"
             ],
             [
              1,
              "#f0f921"
             ]
            ],
            "type": "heatmap"
           }
          ],
          "heatmapgl": [
           {
            "colorbar": {
             "outlinewidth": 0,
             "ticks": ""
            },
            "colorscale": [
             [
              0,
              "#0d0887"
             ],
             [
              0.1111111111111111,
              "#46039f"
             ],
             [
              0.2222222222222222,
              "#7201a8"
             ],
             [
              0.3333333333333333,
              "#9c179e"
             ],
             [
              0.4444444444444444,
              "#bd3786"
             ],
             [
              0.5555555555555556,
              "#d8576b"
             ],
             [
              0.6666666666666666,
              "#ed7953"
             ],
             [
              0.7777777777777778,
              "#fb9f3a"
             ],
             [
              0.8888888888888888,
              "#fdca26"
             ],
             [
              1,
              "#f0f921"
             ]
            ],
            "type": "heatmapgl"
           }
          ],
          "histogram": [
           {
            "marker": {
             "colorbar": {
              "outlinewidth": 0,
              "ticks": ""
             }
            },
            "type": "histogram"
           }
          ],
          "histogram2d": [
           {
            "colorbar": {
             "outlinewidth": 0,
             "ticks": ""
            },
            "colorscale": [
             [
              0,
              "#0d0887"
             ],
             [
              0.1111111111111111,
              "#46039f"
             ],
             [
              0.2222222222222222,
              "#7201a8"
             ],
             [
              0.3333333333333333,
              "#9c179e"
             ],
             [
              0.4444444444444444,
              "#bd3786"
             ],
             [
              0.5555555555555556,
              "#d8576b"
             ],
             [
              0.6666666666666666,
              "#ed7953"
             ],
             [
              0.7777777777777778,
              "#fb9f3a"
             ],
             [
              0.8888888888888888,
              "#fdca26"
             ],
             [
              1,
              "#f0f921"
             ]
            ],
            "type": "histogram2d"
           }
          ],
          "histogram2dcontour": [
           {
            "colorbar": {
             "outlinewidth": 0,
             "ticks": ""
            },
            "colorscale": [
             [
              0,
              "#0d0887"
             ],
             [
              0.1111111111111111,
              "#46039f"
             ],
             [
              0.2222222222222222,
              "#7201a8"
             ],
             [
              0.3333333333333333,
              "#9c179e"
             ],
             [
              0.4444444444444444,
              "#bd3786"
             ],
             [
              0.5555555555555556,
              "#d8576b"
             ],
             [
              0.6666666666666666,
              "#ed7953"
             ],
             [
              0.7777777777777778,
              "#fb9f3a"
             ],
             [
              0.8888888888888888,
              "#fdca26"
             ],
             [
              1,
              "#f0f921"
             ]
            ],
            "type": "histogram2dcontour"
           }
          ],
          "mesh3d": [
           {
            "colorbar": {
             "outlinewidth": 0,
             "ticks": ""
            },
            "type": "mesh3d"
           }
          ],
          "parcoords": [
           {
            "line": {
             "colorbar": {
              "outlinewidth": 0,
              "ticks": ""
             }
            },
            "type": "parcoords"
           }
          ],
          "pie": [
           {
            "automargin": true,
            "type": "pie"
           }
          ],
          "scatter": [
           {
            "marker": {
             "colorbar": {
              "outlinewidth": 0,
              "ticks": ""
             }
            },
            "type": "scatter"
           }
          ],
          "scatter3d": [
           {
            "line": {
             "colorbar": {
              "outlinewidth": 0,
              "ticks": ""
             }
            },
            "marker": {
             "colorbar": {
              "outlinewidth": 0,
              "ticks": ""
             }
            },
            "type": "scatter3d"
           }
          ],
          "scattercarpet": [
           {
            "marker": {
             "colorbar": {
              "outlinewidth": 0,
              "ticks": ""
             }
            },
            "type": "scattercarpet"
           }
          ],
          "scattergeo": [
           {
            "marker": {
             "colorbar": {
              "outlinewidth": 0,
              "ticks": ""
             }
            },
            "type": "scattergeo"
           }
          ],
          "scattergl": [
           {
            "marker": {
             "colorbar": {
              "outlinewidth": 0,
              "ticks": ""
             }
            },
            "type": "scattergl"
           }
          ],
          "scattermapbox": [
           {
            "marker": {
             "colorbar": {
              "outlinewidth": 0,
              "ticks": ""
             }
            },
            "type": "scattermapbox"
           }
          ],
          "scatterpolar": [
           {
            "marker": {
             "colorbar": {
              "outlinewidth": 0,
              "ticks": ""
             }
            },
            "type": "scatterpolar"
           }
          ],
          "scatterpolargl": [
           {
            "marker": {
             "colorbar": {
              "outlinewidth": 0,
              "ticks": ""
             }
            },
            "type": "scatterpolargl"
           }
          ],
          "scatterternary": [
           {
            "marker": {
             "colorbar": {
              "outlinewidth": 0,
              "ticks": ""
             }
            },
            "type": "scatterternary"
           }
          ],
          "surface": [
           {
            "colorbar": {
             "outlinewidth": 0,
             "ticks": ""
            },
            "colorscale": [
             [
              0,
              "#0d0887"
             ],
             [
              0.1111111111111111,
              "#46039f"
             ],
             [
              0.2222222222222222,
              "#7201a8"
             ],
             [
              0.3333333333333333,
              "#9c179e"
             ],
             [
              0.4444444444444444,
              "#bd3786"
             ],
             [
              0.5555555555555556,
              "#d8576b"
             ],
             [
              0.6666666666666666,
              "#ed7953"
             ],
             [
              0.7777777777777778,
              "#fb9f3a"
             ],
             [
              0.8888888888888888,
              "#fdca26"
             ],
             [
              1,
              "#f0f921"
             ]
            ],
            "type": "surface"
           }
          ],
          "table": [
           {
            "cells": {
             "fill": {
              "color": "#EBF0F8"
             },
             "line": {
              "color": "white"
             }
            },
            "header": {
             "fill": {
              "color": "#C8D4E3"
             },
             "line": {
              "color": "white"
             }
            },
            "type": "table"
           }
          ]
         },
         "layout": {
          "annotationdefaults": {
           "arrowcolor": "#2a3f5f",
           "arrowhead": 0,
           "arrowwidth": 1
          },
          "autotypenumbers": "strict",
          "coloraxis": {
           "colorbar": {
            "outlinewidth": 0,
            "ticks": ""
           }
          },
          "colorscale": {
           "diverging": [
            [
             0,
             "#8e0152"
            ],
            [
             0.1,
             "#c51b7d"
            ],
            [
             0.2,
             "#de77ae"
            ],
            [
             0.3,
             "#f1b6da"
            ],
            [
             0.4,
             "#fde0ef"
            ],
            [
             0.5,
             "#f7f7f7"
            ],
            [
             0.6,
             "#e6f5d0"
            ],
            [
             0.7,
             "#b8e186"
            ],
            [
             0.8,
             "#7fbc41"
            ],
            [
             0.9,
             "#4d9221"
            ],
            [
             1,
             "#276419"
            ]
           ],
           "sequential": [
            [
             0,
             "#0d0887"
            ],
            [
             0.1111111111111111,
             "#46039f"
            ],
            [
             0.2222222222222222,
             "#7201a8"
            ],
            [
             0.3333333333333333,
             "#9c179e"
            ],
            [
             0.4444444444444444,
             "#bd3786"
            ],
            [
             0.5555555555555556,
             "#d8576b"
            ],
            [
             0.6666666666666666,
             "#ed7953"
            ],
            [
             0.7777777777777778,
             "#fb9f3a"
            ],
            [
             0.8888888888888888,
             "#fdca26"
            ],
            [
             1,
             "#f0f921"
            ]
           ],
           "sequentialminus": [
            [
             0,
             "#0d0887"
            ],
            [
             0.1111111111111111,
             "#46039f"
            ],
            [
             0.2222222222222222,
             "#7201a8"
            ],
            [
             0.3333333333333333,
             "#9c179e"
            ],
            [
             0.4444444444444444,
             "#bd3786"
            ],
            [
             0.5555555555555556,
             "#d8576b"
            ],
            [
             0.6666666666666666,
             "#ed7953"
            ],
            [
             0.7777777777777778,
             "#fb9f3a"
            ],
            [
             0.8888888888888888,
             "#fdca26"
            ],
            [
             1,
             "#f0f921"
            ]
           ]
          },
          "colorway": [
           "#636efa",
           "#EF553B",
           "#00cc96",
           "#ab63fa",
           "#FFA15A",
           "#19d3f3",
           "#FF6692",
           "#B6E880",
           "#FF97FF",
           "#FECB52"
          ],
          "font": {
           "color": "#2a3f5f"
          },
          "geo": {
           "bgcolor": "white",
           "lakecolor": "white",
           "landcolor": "#E5ECF6",
           "showlakes": true,
           "showland": true,
           "subunitcolor": "white"
          },
          "hoverlabel": {
           "align": "left"
          },
          "hovermode": "closest",
          "mapbox": {
           "style": "light"
          },
          "paper_bgcolor": "white",
          "plot_bgcolor": "#E5ECF6",
          "polar": {
           "angularaxis": {
            "gridcolor": "white",
            "linecolor": "white",
            "ticks": ""
           },
           "bgcolor": "#E5ECF6",
           "radialaxis": {
            "gridcolor": "white",
            "linecolor": "white",
            "ticks": ""
           }
          },
          "scene": {
           "xaxis": {
            "backgroundcolor": "#E5ECF6",
            "gridcolor": "white",
            "gridwidth": 2,
            "linecolor": "white",
            "showbackground": true,
            "ticks": "",
            "zerolinecolor": "white"
           },
           "yaxis": {
            "backgroundcolor": "#E5ECF6",
            "gridcolor": "white",
            "gridwidth": 2,
            "linecolor": "white",
            "showbackground": true,
            "ticks": "",
            "zerolinecolor": "white"
           },
           "zaxis": {
            "backgroundcolor": "#E5ECF6",
            "gridcolor": "white",
            "gridwidth": 2,
            "linecolor": "white",
            "showbackground": true,
            "ticks": "",
            "zerolinecolor": "white"
           }
          },
          "shapedefaults": {
           "line": {
            "color": "#2a3f5f"
           }
          },
          "ternary": {
           "aaxis": {
            "gridcolor": "white",
            "linecolor": "white",
            "ticks": ""
           },
           "baxis": {
            "gridcolor": "white",
            "linecolor": "white",
            "ticks": ""
           },
           "bgcolor": "#E5ECF6",
           "caxis": {
            "gridcolor": "white",
            "linecolor": "white",
            "ticks": ""
           }
          },
          "title": {
           "x": 0.05
          },
          "xaxis": {
           "automargin": true,
           "gridcolor": "white",
           "linecolor": "white",
           "ticks": "",
           "title": {
            "standoff": 15
           },
           "zerolinecolor": "white",
           "zerolinewidth": 2
          },
          "yaxis": {
           "automargin": true,
           "gridcolor": "white",
           "linecolor": "white",
           "ticks": "",
           "title": {
            "standoff": 15
           },
           "zerolinecolor": "white",
           "zerolinewidth": 2
          }
         }
        },
        "title": {
         "text": "Global Deaths Rate of Coronavirus",
         "x": 0.5
        }
       }
      },
      "text/html": [
       "<div>                            <div id=\"02bab8d4-27e8-4695-8f3a-3ba45ac8ba85\" class=\"plotly-graph-div\" style=\"height:525px; width:100%;\"></div>            <script type=\"text/javascript\">                require([\"plotly\"], function(Plotly) {                    window.PLOTLYENV=window.PLOTLYENV || {};                                    if (document.getElementById(\"02bab8d4-27e8-4695-8f3a-3ba45ac8ba85\")) {                    Plotly.newPlot(                        \"02bab8d4-27e8-4695-8f3a-3ba45ac8ba85\",                        [{\"coloraxis\": \"coloraxis\", \"geo\": \"geo\", \"hovertemplate\": \"<b>%{hovertext}</b><br><br>Date=2020-11-29<br>Country=%{location}<br>Deaths=%{z}<extra></extra>\", \"hovertext\": [\"Zimbabwe\", \"Cote d'Ivoire\", \"Kuwait\", \"Latvia\", \"Georgia\", \"New Zealand\", \"Bosnia and Herzegovina\", \"Tajikistan\", \"Costa Rica\", \"Saudi Arabia\", \"Iran\", \"Maldives\", \"Sri Lanka\", \"Burundi\", \"Poland\", \"Ecuador\", \"Mongolia\", \"Uganda\", \"Bahrain\", \"Bangladesh\", \"Liechtenstein\", \"Jordan\", \"Spain\", \"Nicaragua\", \"Indonesia\", \"Mali\", \"Monaco\", \"Peru\", \"El Salvador\", \"Guyana\", \"Cabo Verde\", \"Egypt\", \"Congo (Kinshasa)\", \"Senegal\", \"US\", \"Liberia\", \"Kenya\", \"Luxembourg\", \"Philippines\", \"Guinea-Bissau\", \"Sao Tome and Principe\", \"Namibia\", \"Germany\", \"Bahamas\", \"Qatar\", \"Dominica\", \"Ghana\", \"Nepal\", \"Cuba\", \"Saint Vincent and the Grenadines\", \"Suriname\", \"Burkina Faso\", \"Ireland\", \"Malawi\", \"Brazil\", \"Romania\", \"Djibouti\", \"Syria\", \"United Arab Emirates\", \"Azerbaijan\", \"Ukraine\", \"Guinea\", \"Montenegro\", \"Taiwan*\", \"Netherlands\", \"Iraq\", \"Malaysia\", \"Portugal\", \"Dominican Republic\", \"Sudan\", \"Botswana\", \"Angola\", \"San Marino\", \"Burma\", \"Zambia\", \"Afghanistan\", \"Vietnam\", \"Australia\", \"Uruguay\", \"Croatia\", \"Gambia\", \"Serbia\", \"Congo (Brazzaville)\", \"Albania\", \"Chile\", \"Slovakia\", \"Hungary\", \"Mauritania\", \"Finland\", \"North Macedonia\", \"Pakistan\", \"Eswatini\", \"Mexico\", \"Holy See\", \"Trinidad and Tobago\", \"Belgium\", \"Somalia\", \"China\", \"Singapore\", \"Canada\", \"Bhutan\", \"Timor-Leste\", \"Benin\", \"Algeria\", \"Belize\", \"Fiji\", \"Norway\", \"Mauritius\", \"Honduras\", \"Chad\", \"Slovenia\", \"Togo\", \"Solomon Islands\", \"Western Sahara\", \"Central African Republic\", \"Oman\", \"Ethiopia\", \"Lithuania\", \"Japan\", \"Lesotho\", \"Korea, South\", \"Thailand\", \"Panama\", \"Estonia\", \"Paraguay\", \"Haiti\", \"Comoros\", \"Seychelles\", \"Gabon\", \"India\", \"Malta\", \"Niger\", \"Equatorial Guinea\", \"Belarus\", \"Bolivia\", \"Tanzania\", \"Turkey\", \"Barbados\", \"South Sudan\", \"Cambodia\", \"Yemen\", \"Moldova\", \"Tunisia\", \"France\", \"Armenia\", \"Iceland\", \"Marshall Islands\", \"Nigeria\", \"Vanuatu\", \"Argentina\", \"Kosovo\", \"Lebanon\", \"South Africa\", \"Eritrea\", \"Colombia\", \"Sierra Leone\", \"Cameroon\", \"Uzbekistan\", \"Andorra\", \"West Bank and Gaza\", \"Papua New Guinea\", \"Greece\", \"Jamaica\", \"Guatemala\", \"Austria\", \"Saint Kitts and Nevis\", \"Kazakhstan\", \"Libya\", \"Switzerland\", \"Laos\", \"Venezuela\", \"Brunei\", \"Antigua and Barbuda\", \"MS Zaandam\", \"Kyrgyzstan\", \"Madagascar\", \"Czechia\", \"Morocco\", \"Italy\", \"Sweden\", \"Mozambique\", \"Cyprus\", \"Diamond Princess\", \"Russia\", \"United Kingdom\", \"Rwanda\", \"Saint Lucia\", \"Grenada\", \"Bulgaria\", \"Denmark\", \"Israel\"], \"locationmode\": \"country names\", \"locations\": [\"Zimbabwe\", \"Cote d'Ivoire\", \"Kuwait\", \"Latvia\", \"Georgia\", \"New Zealand\", \"Bosnia and Herzegovina\", \"Tajikistan\", \"Costa Rica\", \"Saudi Arabia\", \"Iran\", \"Maldives\", \"Sri Lanka\", \"Burundi\", \"Poland\", \"Ecuador\", \"Mongolia\", \"Uganda\", \"Bahrain\", \"Bangladesh\", \"Liechtenstein\", \"Jordan\", \"Spain\", \"Nicaragua\", \"Indonesia\", \"Mali\", \"Monaco\", \"Peru\", \"El Salvador\", \"Guyana\", \"Cabo Verde\", \"Egypt\", \"Congo (Kinshasa)\", \"Senegal\", \"US\", \"Liberia\", \"Kenya\", \"Luxembourg\", \"Philippines\", \"Guinea-Bissau\", \"Sao Tome and Principe\", \"Namibia\", \"Germany\", \"Bahamas\", \"Qatar\", \"Dominica\", \"Ghana\", \"Nepal\", \"Cuba\", \"Saint Vincent and the Grenadines\", \"Suriname\", \"Burkina Faso\", \"Ireland\", \"Malawi\", \"Brazil\", \"Romania\", \"Djibouti\", \"Syria\", \"United Arab Emirates\", \"Azerbaijan\", \"Ukraine\", \"Guinea\", \"Montenegro\", \"Taiwan*\", \"Netherlands\", \"Iraq\", \"Malaysia\", \"Portugal\", \"Dominican Republic\", \"Sudan\", \"Botswana\", \"Angola\", \"San Marino\", \"Burma\", \"Zambia\", \"Afghanistan\", \"Vietnam\", \"Australia\", \"Uruguay\", \"Croatia\", \"Gambia\", \"Serbia\", \"Congo (Brazzaville)\", \"Albania\", \"Chile\", \"Slovakia\", \"Hungary\", \"Mauritania\", \"Finland\", \"North Macedonia\", \"Pakistan\", \"Eswatini\", \"Mexico\", \"Holy See\", \"Trinidad and Tobago\", \"Belgium\", \"Somalia\", \"China\", \"Singapore\", \"Canada\", \"Bhutan\", \"Timor-Leste\", \"Benin\", \"Algeria\", \"Belize\", \"Fiji\", \"Norway\", \"Mauritius\", \"Honduras\", \"Chad\", \"Slovenia\", \"Togo\", \"Solomon Islands\", \"Western Sahara\", \"Central African Republic\", \"Oman\", \"Ethiopia\", \"Lithuania\", \"Japan\", \"Lesotho\", \"Korea, South\", \"Thailand\", \"Panama\", \"Estonia\", \"Paraguay\", \"Haiti\", \"Comoros\", \"Seychelles\", \"Gabon\", \"India\", \"Malta\", \"Niger\", \"Equatorial Guinea\", \"Belarus\", \"Bolivia\", \"Tanzania\", \"Turkey\", \"Barbados\", \"South Sudan\", \"Cambodia\", \"Yemen\", \"Moldova\", \"Tunisia\", \"France\", \"Armenia\", \"Iceland\", \"Marshall Islands\", \"Nigeria\", \"Vanuatu\", \"Argentina\", \"Kosovo\", \"Lebanon\", \"South Africa\", \"Eritrea\", \"Colombia\", \"Sierra Leone\", \"Cameroon\", \"Uzbekistan\", \"Andorra\", \"West Bank and Gaza\", \"Papua New Guinea\", \"Greece\", \"Jamaica\", \"Guatemala\", \"Austria\", \"Saint Kitts and Nevis\", \"Kazakhstan\", \"Libya\", \"Switzerland\", \"Laos\", \"Venezuela\", \"Brunei\", \"Antigua and Barbuda\", \"MS Zaandam\", \"Kyrgyzstan\", \"Madagascar\", \"Czechia\", \"Morocco\", \"Italy\", \"Sweden\", \"Mozambique\", \"Cyprus\", \"Diamond Princess\", \"Russia\", \"United Kingdom\", \"Rwanda\", \"Saint Lucia\", \"Grenada\", \"Bulgaria\", \"Denmark\", \"Israel\"], \"name\": \"\", \"type\": \"choropleth\", \"z\": [275, 131, 878, 197, 1230, 25, 2620, 86, 1690, 5884, 47874, 46, 116, 1, 17029, 13423, 0, 201, 341, 6609, 15, 2694, 44668, 160, 16815, 152, 3, 35923, 1111, 150, 105, 6636, 333, 333, 266873, 83, 1452, 300, 8373, 43, 17, 151, 16306, 163, 237, 0, 323, 1479, 134, 0, 117, 68, 2052, 185, 172833, 11193, 61, 413, 570, 1361, 12613, 76, 487, 7, 9426, 12224, 357, 4427, 2330, 1235, 31, 346, 45, 1918, 357, 1763, 35, 908, 76, 1712, 123, 1549, 94, 798, 15356, 816, 4672, 175, 393, 1731, 8025, 121, 105655, 0, 120, 16547, 113, 4743, 29, 12046, 0, 0, 43, 2410, 147, 2, 328, 10, 2909, 101, 1384, 64, 0, 1, 63, 1418, 1700, 493, 2057, 44, 526, 60, 3060, 112, 1743, 232, 7, 0, 59, 137139, 133, 70, 85, 1151, 8952, 21, 13558, 7, 61, 0, 617, 2290, 3219, 52410, 2142, 26, 0, 1173, 0, 38473, 1005, 1004, 21477, 0, 36584, 74, 437, 608, 76, 717, 7, 2321, 256, 4166, 3105, 0, 1990, 1166, 4650, 0, 894, 3, 4, 2, 1271, 251, 8138, 5789, 54904, 6681, 130, 48, 13, 39127, 58342, 48, 2, 0, 3814, 829, 2864]}],                        {\"coloraxis\": {\"colorbar\": {\"title\": {\"text\": \"Deaths\"}}, \"colorscale\": [[0.0, \"#0d0887\"], [0.1111111111111111, \"#46039f\"], [0.2222222222222222, \"#7201a8\"], [0.3333333333333333, \"#9c179e\"], [0.4444444444444444, \"#bd3786\"], [0.5555555555555556, \"#d8576b\"], [0.6666666666666666, \"#ed7953\"], [0.7777777777777778, \"#fb9f3a\"], [0.8888888888888888, \"#fdca26\"], [1.0, \"#f0f921\"]]}, \"geo\": {\"center\": {}, \"domain\": {\"x\": [0.0, 1.0], \"y\": [0.0, 1.0]}, \"showcoastlines\": false, \"showframe\": false}, \"legend\": {\"tracegroupgap\": 0}, \"margin\": {\"t\": 60}, \"template\": {\"data\": {\"bar\": [{\"error_x\": {\"color\": \"#2a3f5f\"}, \"error_y\": {\"color\": \"#2a3f5f\"}, \"marker\": {\"line\": {\"color\": \"#E5ECF6\", \"width\": 0.5}}, \"type\": \"bar\"}], \"barpolar\": [{\"marker\": {\"line\": {\"color\": \"#E5ECF6\", \"width\": 0.5}}, \"type\": \"barpolar\"}], \"carpet\": [{\"aaxis\": {\"endlinecolor\": \"#2a3f5f\", \"gridcolor\": \"white\", \"linecolor\": \"white\", \"minorgridcolor\": \"white\", \"startlinecolor\": \"#2a3f5f\"}, \"baxis\": {\"endlinecolor\": \"#2a3f5f\", \"gridcolor\": \"white\", \"linecolor\": \"white\", \"minorgridcolor\": \"white\", \"startlinecolor\": \"#2a3f5f\"}, \"type\": \"carpet\"}], \"choropleth\": [{\"colorbar\": {\"outlinewidth\": 0, \"ticks\": \"\"}, \"type\": \"choropleth\"}], \"contour\": [{\"colorbar\": {\"outlinewidth\": 0, \"ticks\": \"\"}, \"colorscale\": [[0.0, \"#0d0887\"], [0.1111111111111111, \"#46039f\"], [0.2222222222222222, \"#7201a8\"], [0.3333333333333333, \"#9c179e\"], [0.4444444444444444, \"#bd3786\"], [0.5555555555555556, \"#d8576b\"], [0.6666666666666666, \"#ed7953\"], [0.7777777777777778, \"#fb9f3a\"], [0.8888888888888888, \"#fdca26\"], [1.0, \"#f0f921\"]], \"type\": \"contour\"}], \"contourcarpet\": [{\"colorbar\": {\"outlinewidth\": 0, \"ticks\": \"\"}, \"type\": \"contourcarpet\"}], \"heatmap\": [{\"colorbar\": {\"outlinewidth\": 0, \"ticks\": \"\"}, \"colorscale\": [[0.0, \"#0d0887\"], [0.1111111111111111, \"#46039f\"], [0.2222222222222222, \"#7201a8\"], [0.3333333333333333, \"#9c179e\"], [0.4444444444444444, \"#bd3786\"], [0.5555555555555556, \"#d8576b\"], [0.6666666666666666, \"#ed7953\"], [0.7777777777777778, \"#fb9f3a\"], [0.8888888888888888, \"#fdca26\"], [1.0, \"#f0f921\"]], \"type\": \"heatmap\"}], \"heatmapgl\": [{\"colorbar\": {\"outlinewidth\": 0, \"ticks\": \"\"}, \"colorscale\": [[0.0, \"#0d0887\"], [0.1111111111111111, \"#46039f\"], [0.2222222222222222, \"#7201a8\"], [0.3333333333333333, \"#9c179e\"], [0.4444444444444444, \"#bd3786\"], [0.5555555555555556, \"#d8576b\"], [0.6666666666666666, \"#ed7953\"], [0.7777777777777778, \"#fb9f3a\"], [0.8888888888888888, \"#fdca26\"], [1.0, \"#f0f921\"]], \"type\": \"heatmapgl\"}], \"histogram\": [{\"marker\": {\"colorbar\": {\"outlinewidth\": 0, \"ticks\": \"\"}}, \"type\": \"histogram\"}], \"histogram2d\": [{\"colorbar\": {\"outlinewidth\": 0, \"ticks\": \"\"}, \"colorscale\": [[0.0, \"#0d0887\"], [0.1111111111111111, \"#46039f\"], [0.2222222222222222, \"#7201a8\"], [0.3333333333333333, \"#9c179e\"], [0.4444444444444444, \"#bd3786\"], [0.5555555555555556, \"#d8576b\"], [0.6666666666666666, \"#ed7953\"], [0.7777777777777778, \"#fb9f3a\"], [0.8888888888888888, \"#fdca26\"], [1.0, \"#f0f921\"]], \"type\": \"histogram2d\"}], \"histogram2dcontour\": [{\"colorbar\": {\"outlinewidth\": 0, \"ticks\": \"\"}, \"colorscale\": [[0.0, \"#0d0887\"], [0.1111111111111111, \"#46039f\"], [0.2222222222222222, \"#7201a8\"], [0.3333333333333333, \"#9c179e\"], [0.4444444444444444, \"#bd3786\"], [0.5555555555555556, \"#d8576b\"], [0.6666666666666666, \"#ed7953\"], [0.7777777777777778, \"#fb9f3a\"], [0.8888888888888888, \"#fdca26\"], [1.0, \"#f0f921\"]], \"type\": \"histogram2dcontour\"}], \"mesh3d\": [{\"colorbar\": {\"outlinewidth\": 0, \"ticks\": \"\"}, \"type\": \"mesh3d\"}], \"parcoords\": [{\"line\": {\"colorbar\": {\"outlinewidth\": 0, \"ticks\": \"\"}}, \"type\": \"parcoords\"}], \"pie\": [{\"automargin\": true, \"type\": \"pie\"}], \"scatter\": [{\"marker\": {\"colorbar\": {\"outlinewidth\": 0, \"ticks\": \"\"}}, \"type\": \"scatter\"}], \"scatter3d\": [{\"line\": {\"colorbar\": {\"outlinewidth\": 0, \"ticks\": \"\"}}, \"marker\": {\"colorbar\": {\"outlinewidth\": 0, \"ticks\": \"\"}}, \"type\": \"scatter3d\"}], \"scattercarpet\": [{\"marker\": {\"colorbar\": {\"outlinewidth\": 0, \"ticks\": \"\"}}, \"type\": \"scattercarpet\"}], \"scattergeo\": [{\"marker\": {\"colorbar\": {\"outlinewidth\": 0, \"ticks\": \"\"}}, \"type\": \"scattergeo\"}], \"scattergl\": [{\"marker\": {\"colorbar\": {\"outlinewidth\": 0, \"ticks\": \"\"}}, \"type\": \"scattergl\"}], \"scattermapbox\": [{\"marker\": {\"colorbar\": {\"outlinewidth\": 0, \"ticks\": \"\"}}, \"type\": \"scattermapbox\"}], \"scatterpolar\": [{\"marker\": {\"colorbar\": {\"outlinewidth\": 0, \"ticks\": \"\"}}, \"type\": \"scatterpolar\"}], \"scatterpolargl\": [{\"marker\": {\"colorbar\": {\"outlinewidth\": 0, \"ticks\": \"\"}}, \"type\": \"scatterpolargl\"}], \"scatterternary\": [{\"marker\": {\"colorbar\": {\"outlinewidth\": 0, \"ticks\": \"\"}}, \"type\": \"scatterternary\"}], \"surface\": [{\"colorbar\": {\"outlinewidth\": 0, \"ticks\": \"\"}, \"colorscale\": [[0.0, \"#0d0887\"], [0.1111111111111111, \"#46039f\"], [0.2222222222222222, \"#7201a8\"], [0.3333333333333333, \"#9c179e\"], [0.4444444444444444, \"#bd3786\"], [0.5555555555555556, \"#d8576b\"], [0.6666666666666666, \"#ed7953\"], [0.7777777777777778, \"#fb9f3a\"], [0.8888888888888888, \"#fdca26\"], [1.0, \"#f0f921\"]], \"type\": \"surface\"}], \"table\": [{\"cells\": {\"fill\": {\"color\": \"#EBF0F8\"}, \"line\": {\"color\": \"white\"}}, \"header\": {\"fill\": {\"color\": \"#C8D4E3\"}, \"line\": {\"color\": \"white\"}}, \"type\": \"table\"}]}, \"layout\": {\"annotationdefaults\": {\"arrowcolor\": \"#2a3f5f\", \"arrowhead\": 0, \"arrowwidth\": 1}, \"autotypenumbers\": \"strict\", \"coloraxis\": {\"colorbar\": {\"outlinewidth\": 0, \"ticks\": \"\"}}, \"colorscale\": {\"diverging\": [[0, \"#8e0152\"], [0.1, \"#c51b7d\"], [0.2, \"#de77ae\"], [0.3, \"#f1b6da\"], [0.4, \"#fde0ef\"], [0.5, \"#f7f7f7\"], [0.6, \"#e6f5d0\"], [0.7, \"#b8e186\"], [0.8, \"#7fbc41\"], [0.9, \"#4d9221\"], [1, \"#276419\"]], \"sequential\": [[0.0, \"#0d0887\"], [0.1111111111111111, \"#46039f\"], [0.2222222222222222, \"#7201a8\"], [0.3333333333333333, \"#9c179e\"], [0.4444444444444444, \"#bd3786\"], [0.5555555555555556, \"#d8576b\"], [0.6666666666666666, \"#ed7953\"], [0.7777777777777778, \"#fb9f3a\"], [0.8888888888888888, \"#fdca26\"], [1.0, \"#f0f921\"]], \"sequentialminus\": [[0.0, \"#0d0887\"], [0.1111111111111111, \"#46039f\"], [0.2222222222222222, \"#7201a8\"], [0.3333333333333333, \"#9c179e\"], [0.4444444444444444, \"#bd3786\"], [0.5555555555555556, \"#d8576b\"], [0.6666666666666666, \"#ed7953\"], [0.7777777777777778, \"#fb9f3a\"], [0.8888888888888888, \"#fdca26\"], [1.0, \"#f0f921\"]]}, \"colorway\": [\"#636efa\", \"#EF553B\", \"#00cc96\", \"#ab63fa\", \"#FFA15A\", \"#19d3f3\", \"#FF6692\", \"#B6E880\", \"#FF97FF\", \"#FECB52\"], \"font\": {\"color\": \"#2a3f5f\"}, \"geo\": {\"bgcolor\": \"white\", \"lakecolor\": \"white\", \"landcolor\": \"#E5ECF6\", \"showlakes\": true, \"showland\": true, \"subunitcolor\": \"white\"}, \"hoverlabel\": {\"align\": \"left\"}, \"hovermode\": \"closest\", \"mapbox\": {\"style\": \"light\"}, \"paper_bgcolor\": \"white\", \"plot_bgcolor\": \"#E5ECF6\", \"polar\": {\"angularaxis\": {\"gridcolor\": \"white\", \"linecolor\": \"white\", \"ticks\": \"\"}, \"bgcolor\": \"#E5ECF6\", \"radialaxis\": {\"gridcolor\": \"white\", \"linecolor\": \"white\", \"ticks\": \"\"}}, \"scene\": {\"xaxis\": {\"backgroundcolor\": \"#E5ECF6\", \"gridcolor\": \"white\", \"gridwidth\": 2, \"linecolor\": \"white\", \"showbackground\": true, \"ticks\": \"\", \"zerolinecolor\": \"white\"}, \"yaxis\": {\"backgroundcolor\": \"#E5ECF6\", \"gridcolor\": \"white\", \"gridwidth\": 2, \"linecolor\": \"white\", \"showbackground\": true, \"ticks\": \"\", \"zerolinecolor\": \"white\"}, \"zaxis\": {\"backgroundcolor\": \"#E5ECF6\", \"gridcolor\": \"white\", \"gridwidth\": 2, \"linecolor\": \"white\", \"showbackground\": true, \"ticks\": \"\", \"zerolinecolor\": \"white\"}}, \"shapedefaults\": {\"line\": {\"color\": \"#2a3f5f\"}}, \"ternary\": {\"aaxis\": {\"gridcolor\": \"white\", \"linecolor\": \"white\", \"ticks\": \"\"}, \"baxis\": {\"gridcolor\": \"white\", \"linecolor\": \"white\", \"ticks\": \"\"}, \"bgcolor\": \"#E5ECF6\", \"caxis\": {\"gridcolor\": \"white\", \"linecolor\": \"white\", \"ticks\": \"\"}}, \"title\": {\"x\": 0.05}, \"xaxis\": {\"automargin\": true, \"gridcolor\": \"white\", \"linecolor\": \"white\", \"ticks\": \"\", \"title\": {\"standoff\": 15}, \"zerolinecolor\": \"white\", \"zerolinewidth\": 2}, \"yaxis\": {\"automargin\": true, \"gridcolor\": \"white\", \"linecolor\": \"white\", \"ticks\": \"\", \"title\": {\"standoff\": 15}, \"zerolinecolor\": \"white\", \"zerolinewidth\": 2}}}, \"title\": {\"text\": \"Global Deaths Rate of Coronavirus\", \"x\": 0.5}},                        {\"responsive\": true}                    ).then(function(){\n",
       "                            \n",
       "var gd = document.getElementById('02bab8d4-27e8-4695-8f3a-3ba45ac8ba85');\n",
       "var x = new MutationObserver(function (mutations, observer) {{\n",
       "        var display = window.getComputedStyle(gd).display;\n",
       "        if (!display || display === 'none') {{\n",
       "            console.log([gd, 'removed!']);\n",
       "            Plotly.purge(gd);\n",
       "            observer.disconnect();\n",
       "        }}\n",
       "}});\n",
       "\n",
       "// Listen for the removal of the full notebook cells\n",
       "var notebookContainer = gd.closest('#notebook-container');\n",
       "if (notebookContainer) {{\n",
       "    x.observe(notebookContainer, {childList: true});\n",
       "}}\n",
       "\n",
       "// Listen for the clearing of the current output cell\n",
       "var outputEl = gd.closest('.output');\n",
       "if (outputEl) {{\n",
       "    x.observe(outputEl, {childList: true});\n",
       "}}\n",
       "\n",
       "                        })                };                });            </script>        </div>"
      ]
     },
     "metadata": {},
     "output_type": "display_data"
    }
   ],
   "source": [
    "# Creating the choropleth visualization\n",
    "\n",
    "fig = px.choropleth(df_countries, \n",
    " locations=\"Country\", \n",
    " locationmode = \"country names\",\n",
    " color=\"Deaths\", \n",
    " hover_name=\"Country\", \n",
    " animation_frame=\"Date\"\n",
    " )\n",
    "fig.update_layout(\n",
    " title_text = 'Global Deaths Rate of Coronavirus',\n",
    " title_x = 0.5,\n",
    " geo=dict(\n",
    " showframe = False,\n",
    " showcoastlines = False,\n",
    " ))\n",
    " \n",
    "fig.show()"
   ]
  },
  {
   "cell_type": "markdown",
   "metadata": {},
   "source": [
    "# Confirmed COVID-19 cases per day in Top countries"
   ]
  },
  {
   "cell_type": "markdown",
   "metadata": {},
   "source": [
    "### Confirmed COVID-19 cases per day in US"
   ]
  },
  {
   "cell_type": "code",
   "execution_count": 19,
   "metadata": {},
   "outputs": [
    {
     "data": {
      "application/vnd.plotly.v1+json": {
       "config": {
        "plotlyServerURL": "https://plot.ly"
       },
       "data": [
        {
         "alignmentgroup": "True",
         "hovertemplate": "Date=%{x}<br>Confirmed=%{marker.color}<extra></extra>",
         "legendgroup": "",
         "marker": {
          "color": [
           13383320,
           13244417,
           13088821,
           12883264,
           12772653,
           12591163,
           12418228,
           12246766,
           12104032,
           11925959,
           11729949,
           11541986,
           11371585,
           11211070,
           11053304,
           10917519,
           10750810,
           10573242,
           10411994,
           10268446,
           10130752,
           10009386,
           9899480,
           9771480,
           9645772,
           9519582,
           9416709,
           9292091,
           9208607,
           9133045,
           9044161,
           8945642,
           8855474,
           8776790,
           8700789,
           8634210,
           8572449,
           8489662,
           8408675,
           8333340,
           8270314,
           8209226,
           8142220,
           8092924,
           8036049,
           7967600,
           7903242,
           7843769,
           7790890,
           7750186,
           7704352,
           7650345,
           7594351,
           7536022,
           7485381,
           7441432,
           7402515,
           7366423,
           7317749,
           7263347,
           7218052,
           7176856,
           7134060,
           7101812,
           7064532,
           7020229,
           6972152,
           6926442,
           6887861,
           6848379,
           6796841,
           6758397,
           6715928,
           6667178,
           6622256,
           6583796,
           6544411,
           6510541,
           6476236,
           6435261,
           6387822,
           6351756,
           6317861,
           6290964,
           6267419,
           6235908,
           6192768,
           6142639,
           6098858,
           6057907,
           6016230,
           5981032,
           5946245,
           5900891,
           5853962,
           5808842,
           5763322,
           5723343,
           5686858,
           5652401,
           5608748,
           5560495,
           5516408,
           5469037,
           5424000,
           5387483,
           5346302,
           5299526,
           5234762,
           5183020,
           5126224,
           5079299,
           5030566,
           4984196,
           4929748,
           4871426,
           4811945,
           4757512,
           4700229,
           4655662,
           4609390,
           4551554,
           4483643,
           4416044,
           4344212,
           4278427,
           4222480,
           4167616,
           4102241,
           4029038,
           3960522,
           3888599,
           3824368,
           3762890,
           3702174,
           3639705,
           3568033,
           3490931,
           3423296,
           3355869,
           3297074,
           3237989,
           3177953,
           3110094,
           3047527,
           2987787,
           2927032,
           2882870,
           2833290,
           2787741,
           2735900,
           2680312,
           2628824,
           2582844,
           2542787,
           2502378,
           2461019,
           2415666,
           2375310,
           2340884,
           2304676,
           2274000,
           2248032,
           2216115,
           2185134,
           2157267,
           2130768,
           2107075,
           2087619,
           2068600,
           2043332,
           2018418,
           1995376,
           1974425,
           1956064,
           1938572,
           1920910,
           1899505,
           1874156,
           1852788,
           1832782,
           1811393,
           1794465,
           1775428,
           1751612,
           1727357,
           1704489,
           1685956,
           1666505,
           1648158,
           1628212,
           1607109,
           1583798,
           1557933,
           1534871,
           1513816,
           1491829,
           1473514,
           1449498,
           1424243,
           1397085,
           1376122,
           1353397,
           1333970,
           1315099,
           1290151,
           1263402,
           1235666,
           1210577,
           1186067,
           1162685,
           1138228,
           1110464,
           1076224,
           1046737,
           1018926,
           994265,
           971078,
           944234,
           912662,
           878911,
           845727,
           816413,
           790353,
           761933,
           736244,
           708317,
           675648,
           644247,
           614082,
           585518,
           559709,
           532782,
           503474,
           469989,
           435407,
           403212,
           371802,
           341629,
           313432,
           280417,
           248447,
           218060,
           192177,
           165861,
           143779,
           124900,
           105293,
           86613,
           68773,
           56698,
           46086,
           34855,
           26025,
           20030,
           13663,
           9169,
           6512,
           4679,
           3212,
           2978,
           2219,
           1586,
           1147,
           782,
           594,
           519,
           403,
           237,
           184,
           107,
           74,
           55,
           32,
           25,
           17,
           17,
           16,
           16,
           16,
           16,
           16,
           16,
           14,
           14,
           14,
           14,
           14,
           14,
           14,
           14,
           13,
           13,
           12,
           12,
           12,
           12,
           12,
           11,
           11,
           11,
           8,
           8,
           8,
           6,
           6,
           5,
           5,
           5,
           2,
           2,
           1,
           1
          ],
          "coloraxis": "coloraxis"
         },
         "name": "",
         "offsetgroup": "",
         "orientation": "v",
         "showlegend": false,
         "textposition": "auto",
         "type": "bar",
         "x": [
          "2020-11-29",
          "2020-11-28",
          "2020-11-27",
          "2020-11-26",
          "2020-11-25",
          "2020-11-24",
          "2020-11-23",
          "2020-11-22",
          "2020-11-21",
          "2020-11-20",
          "2020-11-19",
          "2020-11-18",
          "2020-11-17",
          "2020-11-16",
          "2020-11-15",
          "2020-11-14",
          "2020-11-13",
          "2020-11-12",
          "2020-11-11",
          "2020-11-10",
          "2020-11-09",
          "2020-11-08",
          "2020-11-07",
          "2020-11-06",
          "2020-11-05",
          "2020-11-04",
          "2020-11-03",
          "2020-11-02",
          "2020-11-01",
          "2020-10-31",
          "2020-10-30",
          "2020-10-29",
          "2020-10-28",
          "2020-10-27",
          "2020-10-26",
          "2020-10-25",
          "2020-10-24",
          "2020-10-23",
          "2020-10-22",
          "2020-10-21",
          "2020-10-20",
          "2020-10-19",
          "2020-10-18",
          "2020-10-17",
          "2020-10-16",
          "2020-10-15",
          "2020-10-14",
          "2020-10-13",
          "2020-10-12",
          "2020-10-11",
          "2020-10-10",
          "2020-10-09",
          "2020-10-08",
          "2020-10-07",
          "2020-10-06",
          "2020-10-05",
          "2020-10-04",
          "2020-10-03",
          "2020-10-02",
          "2020-10-01",
          "2020-09-30",
          "2020-09-29",
          "2020-09-28",
          "2020-09-27",
          "2020-09-26",
          "2020-09-25",
          "2020-09-24",
          "2020-09-23",
          "2020-09-22",
          "2020-09-21",
          "2020-09-20",
          "2020-09-19",
          "2020-09-18",
          "2020-09-17",
          "2020-09-16",
          "2020-09-15",
          "2020-09-14",
          "2020-09-13",
          "2020-09-12",
          "2020-09-11",
          "2020-09-10",
          "2020-09-09",
          "2020-09-08",
          "2020-09-07",
          "2020-09-06",
          "2020-09-05",
          "2020-09-04",
          "2020-09-03",
          "2020-09-02",
          "2020-09-01",
          "2020-08-31",
          "2020-08-30",
          "2020-08-29",
          "2020-08-28",
          "2020-08-27",
          "2020-08-26",
          "2020-08-25",
          "2020-08-24",
          "2020-08-23",
          "2020-08-22",
          "2020-08-21",
          "2020-08-20",
          "2020-08-19",
          "2020-08-18",
          "2020-08-17",
          "2020-08-16",
          "2020-08-15",
          "2020-08-14",
          "2020-08-13",
          "2020-08-12",
          "2020-08-11",
          "2020-08-10",
          "2020-08-09",
          "2020-08-08",
          "2020-08-07",
          "2020-08-06",
          "2020-08-05",
          "2020-08-04",
          "2020-08-03",
          "2020-08-02",
          "2020-08-01",
          "2020-07-31",
          "2020-07-30",
          "2020-07-29",
          "2020-07-28",
          "2020-07-27",
          "2020-07-26",
          "2020-07-25",
          "2020-07-24",
          "2020-07-23",
          "2020-07-22",
          "2020-07-21",
          "2020-07-20",
          "2020-07-19",
          "2020-07-18",
          "2020-07-17",
          "2020-07-16",
          "2020-07-15",
          "2020-07-14",
          "2020-07-13",
          "2020-07-12",
          "2020-07-11",
          "2020-07-10",
          "2020-07-09",
          "2020-07-08",
          "2020-07-07",
          "2020-07-06",
          "2020-07-05",
          "2020-07-04",
          "2020-07-03",
          "2020-07-02",
          "2020-07-01",
          "2020-06-30",
          "2020-06-29",
          "2020-06-28",
          "2020-06-27",
          "2020-06-26",
          "2020-06-25",
          "2020-06-24",
          "2020-06-23",
          "2020-06-22",
          "2020-06-21",
          "2020-06-20",
          "2020-06-19",
          "2020-06-18",
          "2020-06-17",
          "2020-06-16",
          "2020-06-15",
          "2020-06-14",
          "2020-06-13",
          "2020-06-12",
          "2020-06-11",
          "2020-06-10",
          "2020-06-09",
          "2020-06-08",
          "2020-06-07",
          "2020-06-06",
          "2020-06-05",
          "2020-06-04",
          "2020-06-03",
          "2020-06-02",
          "2020-06-01",
          "2020-05-31",
          "2020-05-30",
          "2020-05-29",
          "2020-05-28",
          "2020-05-27",
          "2020-05-26",
          "2020-05-25",
          "2020-05-24",
          "2020-05-23",
          "2020-05-22",
          "2020-05-21",
          "2020-05-20",
          "2020-05-19",
          "2020-05-18",
          "2020-05-17",
          "2020-05-16",
          "2020-05-15",
          "2020-05-14",
          "2020-05-13",
          "2020-05-12",
          "2020-05-11",
          "2020-05-10",
          "2020-05-09",
          "2020-05-08",
          "2020-05-07",
          "2020-05-06",
          "2020-05-05",
          "2020-05-04",
          "2020-05-03",
          "2020-05-02",
          "2020-05-01",
          "2020-04-30",
          "2020-04-29",
          "2020-04-28",
          "2020-04-27",
          "2020-04-26",
          "2020-04-25",
          "2020-04-24",
          "2020-04-23",
          "2020-04-22",
          "2020-04-21",
          "2020-04-20",
          "2020-04-19",
          "2020-04-18",
          "2020-04-17",
          "2020-04-16",
          "2020-04-15",
          "2020-04-14",
          "2020-04-13",
          "2020-04-12",
          "2020-04-11",
          "2020-04-10",
          "2020-04-09",
          "2020-04-08",
          "2020-04-07",
          "2020-04-06",
          "2020-04-05",
          "2020-04-04",
          "2020-04-03",
          "2020-04-02",
          "2020-04-01",
          "2020-03-31",
          "2020-03-30",
          "2020-03-29",
          "2020-03-28",
          "2020-03-27",
          "2020-03-26",
          "2020-03-25",
          "2020-03-24",
          "2020-03-23",
          "2020-03-22",
          "2020-03-21",
          "2020-03-20",
          "2020-03-19",
          "2020-03-18",
          "2020-03-17",
          "2020-03-16",
          "2020-03-15",
          "2020-03-14",
          "2020-03-13",
          "2020-03-12",
          "2020-03-11",
          "2020-03-10",
          "2020-03-09",
          "2020-03-08",
          "2020-03-07",
          "2020-03-06",
          "2020-03-05",
          "2020-03-04",
          "2020-03-03",
          "2020-03-02",
          "2020-03-01",
          "2020-02-29",
          "2020-02-27",
          "2020-02-28",
          "2020-02-26",
          "2020-02-25",
          "2020-02-24",
          "2020-02-23",
          "2020-02-22",
          "2020-02-21",
          "2020-02-13",
          "2020-02-20",
          "2020-02-16",
          "2020-02-15",
          "2020-02-14",
          "2020-02-19",
          "2020-02-17",
          "2020-02-18",
          "2020-02-12",
          "2020-02-11",
          "2020-02-09",
          "2020-02-07",
          "2020-02-08",
          "2020-02-10",
          "2020-02-06",
          "2020-02-03",
          "2020-02-04",
          "2020-02-05",
          "2020-02-01",
          "2020-01-31",
          "2020-02-02",
          "2020-01-29",
          "2020-01-30",
          "2020-01-26",
          "2020-01-28",
          "2020-01-27",
          "2020-01-24",
          "2020-01-25",
          "2020-01-22",
          "2020-01-23"
         ],
         "xaxis": "x",
         "y": [
          13383320,
          13244417,
          13088821,
          12883264,
          12772653,
          12591163,
          12418228,
          12246766,
          12104032,
          11925959,
          11729949,
          11541986,
          11371585,
          11211070,
          11053304,
          10917519,
          10750810,
          10573242,
          10411994,
          10268446,
          10130752,
          10009386,
          9899480,
          9771480,
          9645772,
          9519582,
          9416709,
          9292091,
          9208607,
          9133045,
          9044161,
          8945642,
          8855474,
          8776790,
          8700789,
          8634210,
          8572449,
          8489662,
          8408675,
          8333340,
          8270314,
          8209226,
          8142220,
          8092924,
          8036049,
          7967600,
          7903242,
          7843769,
          7790890,
          7750186,
          7704352,
          7650345,
          7594351,
          7536022,
          7485381,
          7441432,
          7402515,
          7366423,
          7317749,
          7263347,
          7218052,
          7176856,
          7134060,
          7101812,
          7064532,
          7020229,
          6972152,
          6926442,
          6887861,
          6848379,
          6796841,
          6758397,
          6715928,
          6667178,
          6622256,
          6583796,
          6544411,
          6510541,
          6476236,
          6435261,
          6387822,
          6351756,
          6317861,
          6290964,
          6267419,
          6235908,
          6192768,
          6142639,
          6098858,
          6057907,
          6016230,
          5981032,
          5946245,
          5900891,
          5853962,
          5808842,
          5763322,
          5723343,
          5686858,
          5652401,
          5608748,
          5560495,
          5516408,
          5469037,
          5424000,
          5387483,
          5346302,
          5299526,
          5234762,
          5183020,
          5126224,
          5079299,
          5030566,
          4984196,
          4929748,
          4871426,
          4811945,
          4757512,
          4700229,
          4655662,
          4609390,
          4551554,
          4483643,
          4416044,
          4344212,
          4278427,
          4222480,
          4167616,
          4102241,
          4029038,
          3960522,
          3888599,
          3824368,
          3762890,
          3702174,
          3639705,
          3568033,
          3490931,
          3423296,
          3355869,
          3297074,
          3237989,
          3177953,
          3110094,
          3047527,
          2987787,
          2927032,
          2882870,
          2833290,
          2787741,
          2735900,
          2680312,
          2628824,
          2582844,
          2542787,
          2502378,
          2461019,
          2415666,
          2375310,
          2340884,
          2304676,
          2274000,
          2248032,
          2216115,
          2185134,
          2157267,
          2130768,
          2107075,
          2087619,
          2068600,
          2043332,
          2018418,
          1995376,
          1974425,
          1956064,
          1938572,
          1920910,
          1899505,
          1874156,
          1852788,
          1832782,
          1811393,
          1794465,
          1775428,
          1751612,
          1727357,
          1704489,
          1685956,
          1666505,
          1648158,
          1628212,
          1607109,
          1583798,
          1557933,
          1534871,
          1513816,
          1491829,
          1473514,
          1449498,
          1424243,
          1397085,
          1376122,
          1353397,
          1333970,
          1315099,
          1290151,
          1263402,
          1235666,
          1210577,
          1186067,
          1162685,
          1138228,
          1110464,
          1076224,
          1046737,
          1018926,
          994265,
          971078,
          944234,
          912662,
          878911,
          845727,
          816413,
          790353,
          761933,
          736244,
          708317,
          675648,
          644247,
          614082,
          585518,
          559709,
          532782,
          503474,
          469989,
          435407,
          403212,
          371802,
          341629,
          313432,
          280417,
          248447,
          218060,
          192177,
          165861,
          143779,
          124900,
          105293,
          86613,
          68773,
          56698,
          46086,
          34855,
          26025,
          20030,
          13663,
          9169,
          6512,
          4679,
          3212,
          2978,
          2219,
          1586,
          1147,
          782,
          594,
          519,
          403,
          237,
          184,
          107,
          74,
          55,
          32,
          25,
          17,
          17,
          16,
          16,
          16,
          16,
          16,
          16,
          14,
          14,
          14,
          14,
          14,
          14,
          14,
          14,
          13,
          13,
          12,
          12,
          12,
          12,
          12,
          11,
          11,
          11,
          8,
          8,
          8,
          6,
          6,
          5,
          5,
          5,
          2,
          2,
          1,
          1
         ],
         "yaxis": "y"
        }
       ],
       "layout": {
        "barmode": "relative",
        "coloraxis": {
         "colorbar": {
          "title": {
           "text": "Confirmed"
          }
         },
         "colorscale": [
          [
           0,
           "rgb(247,252,253)"
          ],
          [
           0.125,
           "rgb(229,245,249)"
          ],
          [
           0.25,
           "rgb(204,236,230)"
          ],
          [
           0.375,
           "rgb(153,216,201)"
          ],
          [
           0.5,
           "rgb(102,194,164)"
          ],
          [
           0.625,
           "rgb(65,174,118)"
          ],
          [
           0.75,
           "rgb(35,139,69)"
          ],
          [
           0.875,
           "rgb(0,109,44)"
          ],
          [
           1,
           "rgb(0,68,27)"
          ]
         ]
        },
        "legend": {
         "tracegroupgap": 0
        },
        "margin": {
         "t": 60
        },
        "template": {
         "data": {
          "bar": [
           {
            "error_x": {
             "color": "#2a3f5f"
            },
            "error_y": {
             "color": "#2a3f5f"
            },
            "marker": {
             "line": {
              "color": "#E5ECF6",
              "width": 0.5
             }
            },
            "type": "bar"
           }
          ],
          "barpolar": [
           {
            "marker": {
             "line": {
              "color": "#E5ECF6",
              "width": 0.5
             }
            },
            "type": "barpolar"
           }
          ],
          "carpet": [
           {
            "aaxis": {
             "endlinecolor": "#2a3f5f",
             "gridcolor": "white",
             "linecolor": "white",
             "minorgridcolor": "white",
             "startlinecolor": "#2a3f5f"
            },
            "baxis": {
             "endlinecolor": "#2a3f5f",
             "gridcolor": "white",
             "linecolor": "white",
             "minorgridcolor": "white",
             "startlinecolor": "#2a3f5f"
            },
            "type": "carpet"
           }
          ],
          "choropleth": [
           {
            "colorbar": {
             "outlinewidth": 0,
             "ticks": ""
            },
            "type": "choropleth"
           }
          ],
          "contour": [
           {
            "colorbar": {
             "outlinewidth": 0,
             "ticks": ""
            },
            "colorscale": [
             [
              0,
              "#0d0887"
             ],
             [
              0.1111111111111111,
              "#46039f"
             ],
             [
              0.2222222222222222,
              "#7201a8"
             ],
             [
              0.3333333333333333,
              "#9c179e"
             ],
             [
              0.4444444444444444,
              "#bd3786"
             ],
             [
              0.5555555555555556,
              "#d8576b"
             ],
             [
              0.6666666666666666,
              "#ed7953"
             ],
             [
              0.7777777777777778,
              "#fb9f3a"
             ],
             [
              0.8888888888888888,
              "#fdca26"
             ],
             [
              1,
              "#f0f921"
             ]
            ],
            "type": "contour"
           }
          ],
          "contourcarpet": [
           {
            "colorbar": {
             "outlinewidth": 0,
             "ticks": ""
            },
            "type": "contourcarpet"
           }
          ],
          "heatmap": [
           {
            "colorbar": {
             "outlinewidth": 0,
             "ticks": ""
            },
            "colorscale": [
             [
              0,
              "#0d0887"
             ],
             [
              0.1111111111111111,
              "#46039f"
             ],
             [
              0.2222222222222222,
              "#7201a8"
             ],
             [
              0.3333333333333333,
              "#9c179e"
             ],
             [
              0.4444444444444444,
              "#bd3786"
             ],
             [
              0.5555555555555556,
              "#d8576b"
             ],
             [
              0.6666666666666666,
              "#ed7953"
             ],
             [
              0.7777777777777778,
              "#fb9f3a"
             ],
             [
              0.8888888888888888,
              "#fdca26"
             ],
             [
              1,
              "#f0f921"
             ]
            ],
            "type": "heatmap"
           }
          ],
          "heatmapgl": [
           {
            "colorbar": {
             "outlinewidth": 0,
             "ticks": ""
            },
            "colorscale": [
             [
              0,
              "#0d0887"
             ],
             [
              0.1111111111111111,
              "#46039f"
             ],
             [
              0.2222222222222222,
              "#7201a8"
             ],
             [
              0.3333333333333333,
              "#9c179e"
             ],
             [
              0.4444444444444444,
              "#bd3786"
             ],
             [
              0.5555555555555556,
              "#d8576b"
             ],
             [
              0.6666666666666666,
              "#ed7953"
             ],
             [
              0.7777777777777778,
              "#fb9f3a"
             ],
             [
              0.8888888888888888,
              "#fdca26"
             ],
             [
              1,
              "#f0f921"
             ]
            ],
            "type": "heatmapgl"
           }
          ],
          "histogram": [
           {
            "marker": {
             "colorbar": {
              "outlinewidth": 0,
              "ticks": ""
             }
            },
            "type": "histogram"
           }
          ],
          "histogram2d": [
           {
            "colorbar": {
             "outlinewidth": 0,
             "ticks": ""
            },
            "colorscale": [
             [
              0,
              "#0d0887"
             ],
             [
              0.1111111111111111,
              "#46039f"
             ],
             [
              0.2222222222222222,
              "#7201a8"
             ],
             [
              0.3333333333333333,
              "#9c179e"
             ],
             [
              0.4444444444444444,
              "#bd3786"
             ],
             [
              0.5555555555555556,
              "#d8576b"
             ],
             [
              0.6666666666666666,
              "#ed7953"
             ],
             [
              0.7777777777777778,
              "#fb9f3a"
             ],
             [
              0.8888888888888888,
              "#fdca26"
             ],
             [
              1,
              "#f0f921"
             ]
            ],
            "type": "histogram2d"
           }
          ],
          "histogram2dcontour": [
           {
            "colorbar": {
             "outlinewidth": 0,
             "ticks": ""
            },
            "colorscale": [
             [
              0,
              "#0d0887"
             ],
             [
              0.1111111111111111,
              "#46039f"
             ],
             [
              0.2222222222222222,
              "#7201a8"
             ],
             [
              0.3333333333333333,
              "#9c179e"
             ],
             [
              0.4444444444444444,
              "#bd3786"
             ],
             [
              0.5555555555555556,
              "#d8576b"
             ],
             [
              0.6666666666666666,
              "#ed7953"
             ],
             [
              0.7777777777777778,
              "#fb9f3a"
             ],
             [
              0.8888888888888888,
              "#fdca26"
             ],
             [
              1,
              "#f0f921"
             ]
            ],
            "type": "histogram2dcontour"
           }
          ],
          "mesh3d": [
           {
            "colorbar": {
             "outlinewidth": 0,
             "ticks": ""
            },
            "type": "mesh3d"
           }
          ],
          "parcoords": [
           {
            "line": {
             "colorbar": {
              "outlinewidth": 0,
              "ticks": ""
             }
            },
            "type": "parcoords"
           }
          ],
          "pie": [
           {
            "automargin": true,
            "type": "pie"
           }
          ],
          "scatter": [
           {
            "marker": {
             "colorbar": {
              "outlinewidth": 0,
              "ticks": ""
             }
            },
            "type": "scatter"
           }
          ],
          "scatter3d": [
           {
            "line": {
             "colorbar": {
              "outlinewidth": 0,
              "ticks": ""
             }
            },
            "marker": {
             "colorbar": {
              "outlinewidth": 0,
              "ticks": ""
             }
            },
            "type": "scatter3d"
           }
          ],
          "scattercarpet": [
           {
            "marker": {
             "colorbar": {
              "outlinewidth": 0,
              "ticks": ""
             }
            },
            "type": "scattercarpet"
           }
          ],
          "scattergeo": [
           {
            "marker": {
             "colorbar": {
              "outlinewidth": 0,
              "ticks": ""
             }
            },
            "type": "scattergeo"
           }
          ],
          "scattergl": [
           {
            "marker": {
             "colorbar": {
              "outlinewidth": 0,
              "ticks": ""
             }
            },
            "type": "scattergl"
           }
          ],
          "scattermapbox": [
           {
            "marker": {
             "colorbar": {
              "outlinewidth": 0,
              "ticks": ""
             }
            },
            "type": "scattermapbox"
           }
          ],
          "scatterpolar": [
           {
            "marker": {
             "colorbar": {
              "outlinewidth": 0,
              "ticks": ""
             }
            },
            "type": "scatterpolar"
           }
          ],
          "scatterpolargl": [
           {
            "marker": {
             "colorbar": {
              "outlinewidth": 0,
              "ticks": ""
             }
            },
            "type": "scatterpolargl"
           }
          ],
          "scatterternary": [
           {
            "marker": {
             "colorbar": {
              "outlinewidth": 0,
              "ticks": ""
             }
            },
            "type": "scatterternary"
           }
          ],
          "surface": [
           {
            "colorbar": {
             "outlinewidth": 0,
             "ticks": ""
            },
            "colorscale": [
             [
              0,
              "#0d0887"
             ],
             [
              0.1111111111111111,
              "#46039f"
             ],
             [
              0.2222222222222222,
              "#7201a8"
             ],
             [
              0.3333333333333333,
              "#9c179e"
             ],
             [
              0.4444444444444444,
              "#bd3786"
             ],
             [
              0.5555555555555556,
              "#d8576b"
             ],
             [
              0.6666666666666666,
              "#ed7953"
             ],
             [
              0.7777777777777778,
              "#fb9f3a"
             ],
             [
              0.8888888888888888,
              "#fdca26"
             ],
             [
              1,
              "#f0f921"
             ]
            ],
            "type": "surface"
           }
          ],
          "table": [
           {
            "cells": {
             "fill": {
              "color": "#EBF0F8"
             },
             "line": {
              "color": "white"
             }
            },
            "header": {
             "fill": {
              "color": "#C8D4E3"
             },
             "line": {
              "color": "white"
             }
            },
            "type": "table"
           }
          ]
         },
         "layout": {
          "annotationdefaults": {
           "arrowcolor": "#2a3f5f",
           "arrowhead": 0,
           "arrowwidth": 1
          },
          "autotypenumbers": "strict",
          "coloraxis": {
           "colorbar": {
            "outlinewidth": 0,
            "ticks": ""
           }
          },
          "colorscale": {
           "diverging": [
            [
             0,
             "#8e0152"
            ],
            [
             0.1,
             "#c51b7d"
            ],
            [
             0.2,
             "#de77ae"
            ],
            [
             0.3,
             "#f1b6da"
            ],
            [
             0.4,
             "#fde0ef"
            ],
            [
             0.5,
             "#f7f7f7"
            ],
            [
             0.6,
             "#e6f5d0"
            ],
            [
             0.7,
             "#b8e186"
            ],
            [
             0.8,
             "#7fbc41"
            ],
            [
             0.9,
             "#4d9221"
            ],
            [
             1,
             "#276419"
            ]
           ],
           "sequential": [
            [
             0,
             "#0d0887"
            ],
            [
             0.1111111111111111,
             "#46039f"
            ],
            [
             0.2222222222222222,
             "#7201a8"
            ],
            [
             0.3333333333333333,
             "#9c179e"
            ],
            [
             0.4444444444444444,
             "#bd3786"
            ],
            [
             0.5555555555555556,
             "#d8576b"
            ],
            [
             0.6666666666666666,
             "#ed7953"
            ],
            [
             0.7777777777777778,
             "#fb9f3a"
            ],
            [
             0.8888888888888888,
             "#fdca26"
            ],
            [
             1,
             "#f0f921"
            ]
           ],
           "sequentialminus": [
            [
             0,
             "#0d0887"
            ],
            [
             0.1111111111111111,
             "#46039f"
            ],
            [
             0.2222222222222222,
             "#7201a8"
            ],
            [
             0.3333333333333333,
             "#9c179e"
            ],
            [
             0.4444444444444444,
             "#bd3786"
            ],
            [
             0.5555555555555556,
             "#d8576b"
            ],
            [
             0.6666666666666666,
             "#ed7953"
            ],
            [
             0.7777777777777778,
             "#fb9f3a"
            ],
            [
             0.8888888888888888,
             "#fdca26"
            ],
            [
             1,
             "#f0f921"
            ]
           ]
          },
          "colorway": [
           "#636efa",
           "#EF553B",
           "#00cc96",
           "#ab63fa",
           "#FFA15A",
           "#19d3f3",
           "#FF6692",
           "#B6E880",
           "#FF97FF",
           "#FECB52"
          ],
          "font": {
           "color": "#2a3f5f"
          },
          "geo": {
           "bgcolor": "white",
           "lakecolor": "white",
           "landcolor": "#E5ECF6",
           "showlakes": true,
           "showland": true,
           "subunitcolor": "white"
          },
          "hoverlabel": {
           "align": "left"
          },
          "hovermode": "closest",
          "mapbox": {
           "style": "light"
          },
          "paper_bgcolor": "white",
          "plot_bgcolor": "#E5ECF6",
          "polar": {
           "angularaxis": {
            "gridcolor": "white",
            "linecolor": "white",
            "ticks": ""
           },
           "bgcolor": "#E5ECF6",
           "radialaxis": {
            "gridcolor": "white",
            "linecolor": "white",
            "ticks": ""
           }
          },
          "scene": {
           "xaxis": {
            "backgroundcolor": "#E5ECF6",
            "gridcolor": "white",
            "gridwidth": 2,
            "linecolor": "white",
            "showbackground": true,
            "ticks": "",
            "zerolinecolor": "white"
           },
           "yaxis": {
            "backgroundcolor": "#E5ECF6",
            "gridcolor": "white",
            "gridwidth": 2,
            "linecolor": "white",
            "showbackground": true,
            "ticks": "",
            "zerolinecolor": "white"
           },
           "zaxis": {
            "backgroundcolor": "#E5ECF6",
            "gridcolor": "white",
            "gridwidth": 2,
            "linecolor": "white",
            "showbackground": true,
            "ticks": "",
            "zerolinecolor": "white"
           }
          },
          "shapedefaults": {
           "line": {
            "color": "#2a3f5f"
           }
          },
          "ternary": {
           "aaxis": {
            "gridcolor": "white",
            "linecolor": "white",
            "ticks": ""
           },
           "baxis": {
            "gridcolor": "white",
            "linecolor": "white",
            "ticks": ""
           },
           "bgcolor": "#E5ECF6",
           "caxis": {
            "gridcolor": "white",
            "linecolor": "white",
            "ticks": ""
           }
          },
          "title": {
           "x": 0.05
          },
          "xaxis": {
           "automargin": true,
           "gridcolor": "white",
           "linecolor": "white",
           "ticks": "",
           "title": {
            "standoff": 15
           },
           "zerolinecolor": "white",
           "zerolinewidth": 2
          },
          "yaxis": {
           "automargin": true,
           "gridcolor": "white",
           "linecolor": "white",
           "ticks": "",
           "title": {
            "standoff": 15
           },
           "zerolinecolor": "white",
           "zerolinewidth": 2
          }
         }
        },
        "title": {
         "text": "Confirmed COVID-19 cases per day in US"
        },
        "xaxis": {
         "anchor": "y",
         "domain": [
          0,
          1
         ],
         "title": {
          "text": "Date"
         }
        },
        "yaxis": {
         "anchor": "x",
         "domain": [
          0,
          1
         ],
         "title": {
          "text": "Confirmed"
         }
        }
       }
      },
      "text/html": [
       "<div>                            <div id=\"a08336d5-cad4-4bd5-841c-315db494d53f\" class=\"plotly-graph-div\" style=\"height:525px; width:100%;\"></div>            <script type=\"text/javascript\">                require([\"plotly\"], function(Plotly) {                    window.PLOTLYENV=window.PLOTLYENV || {};                                    if (document.getElementById(\"a08336d5-cad4-4bd5-841c-315db494d53f\")) {                    Plotly.newPlot(                        \"a08336d5-cad4-4bd5-841c-315db494d53f\",                        [{\"alignmentgroup\": \"True\", \"hovertemplate\": \"Date=%{x}<br>Confirmed=%{marker.color}<extra></extra>\", \"legendgroup\": \"\", \"marker\": {\"color\": [13383320, 13244417, 13088821, 12883264, 12772653, 12591163, 12418228, 12246766, 12104032, 11925959, 11729949, 11541986, 11371585, 11211070, 11053304, 10917519, 10750810, 10573242, 10411994, 10268446, 10130752, 10009386, 9899480, 9771480, 9645772, 9519582, 9416709, 9292091, 9208607, 9133045, 9044161, 8945642, 8855474, 8776790, 8700789, 8634210, 8572449, 8489662, 8408675, 8333340, 8270314, 8209226, 8142220, 8092924, 8036049, 7967600, 7903242, 7843769, 7790890, 7750186, 7704352, 7650345, 7594351, 7536022, 7485381, 7441432, 7402515, 7366423, 7317749, 7263347, 7218052, 7176856, 7134060, 7101812, 7064532, 7020229, 6972152, 6926442, 6887861, 6848379, 6796841, 6758397, 6715928, 6667178, 6622256, 6583796, 6544411, 6510541, 6476236, 6435261, 6387822, 6351756, 6317861, 6290964, 6267419, 6235908, 6192768, 6142639, 6098858, 6057907, 6016230, 5981032, 5946245, 5900891, 5853962, 5808842, 5763322, 5723343, 5686858, 5652401, 5608748, 5560495, 5516408, 5469037, 5424000, 5387483, 5346302, 5299526, 5234762, 5183020, 5126224, 5079299, 5030566, 4984196, 4929748, 4871426, 4811945, 4757512, 4700229, 4655662, 4609390, 4551554, 4483643, 4416044, 4344212, 4278427, 4222480, 4167616, 4102241, 4029038, 3960522, 3888599, 3824368, 3762890, 3702174, 3639705, 3568033, 3490931, 3423296, 3355869, 3297074, 3237989, 3177953, 3110094, 3047527, 2987787, 2927032, 2882870, 2833290, 2787741, 2735900, 2680312, 2628824, 2582844, 2542787, 2502378, 2461019, 2415666, 2375310, 2340884, 2304676, 2274000, 2248032, 2216115, 2185134, 2157267, 2130768, 2107075, 2087619, 2068600, 2043332, 2018418, 1995376, 1974425, 1956064, 1938572, 1920910, 1899505, 1874156, 1852788, 1832782, 1811393, 1794465, 1775428, 1751612, 1727357, 1704489, 1685956, 1666505, 1648158, 1628212, 1607109, 1583798, 1557933, 1534871, 1513816, 1491829, 1473514, 1449498, 1424243, 1397085, 1376122, 1353397, 1333970, 1315099, 1290151, 1263402, 1235666, 1210577, 1186067, 1162685, 1138228, 1110464, 1076224, 1046737, 1018926, 994265, 971078, 944234, 912662, 878911, 845727, 816413, 790353, 761933, 736244, 708317, 675648, 644247, 614082, 585518, 559709, 532782, 503474, 469989, 435407, 403212, 371802, 341629, 313432, 280417, 248447, 218060, 192177, 165861, 143779, 124900, 105293, 86613, 68773, 56698, 46086, 34855, 26025, 20030, 13663, 9169, 6512, 4679, 3212, 2978, 2219, 1586, 1147, 782, 594, 519, 403, 237, 184, 107, 74, 55, 32, 25, 17, 17, 16, 16, 16, 16, 16, 16, 14, 14, 14, 14, 14, 14, 14, 14, 13, 13, 12, 12, 12, 12, 12, 11, 11, 11, 8, 8, 8, 6, 6, 5, 5, 5, 2, 2, 1, 1], \"coloraxis\": \"coloraxis\"}, \"name\": \"\", \"offsetgroup\": \"\", \"orientation\": \"v\", \"showlegend\": false, \"textposition\": \"auto\", \"type\": \"bar\", \"x\": [\"2020-11-29\", \"2020-11-28\", \"2020-11-27\", \"2020-11-26\", \"2020-11-25\", \"2020-11-24\", \"2020-11-23\", \"2020-11-22\", \"2020-11-21\", \"2020-11-20\", \"2020-11-19\", \"2020-11-18\", \"2020-11-17\", \"2020-11-16\", \"2020-11-15\", \"2020-11-14\", \"2020-11-13\", \"2020-11-12\", \"2020-11-11\", \"2020-11-10\", \"2020-11-09\", \"2020-11-08\", \"2020-11-07\", \"2020-11-06\", \"2020-11-05\", \"2020-11-04\", \"2020-11-03\", \"2020-11-02\", \"2020-11-01\", \"2020-10-31\", \"2020-10-30\", \"2020-10-29\", \"2020-10-28\", \"2020-10-27\", \"2020-10-26\", \"2020-10-25\", \"2020-10-24\", \"2020-10-23\", \"2020-10-22\", \"2020-10-21\", \"2020-10-20\", \"2020-10-19\", \"2020-10-18\", \"2020-10-17\", \"2020-10-16\", \"2020-10-15\", \"2020-10-14\", \"2020-10-13\", \"2020-10-12\", \"2020-10-11\", \"2020-10-10\", \"2020-10-09\", \"2020-10-08\", \"2020-10-07\", \"2020-10-06\", \"2020-10-05\", \"2020-10-04\", \"2020-10-03\", \"2020-10-02\", \"2020-10-01\", \"2020-09-30\", \"2020-09-29\", \"2020-09-28\", \"2020-09-27\", \"2020-09-26\", \"2020-09-25\", \"2020-09-24\", \"2020-09-23\", \"2020-09-22\", \"2020-09-21\", \"2020-09-20\", \"2020-09-19\", \"2020-09-18\", \"2020-09-17\", \"2020-09-16\", \"2020-09-15\", \"2020-09-14\", \"2020-09-13\", \"2020-09-12\", \"2020-09-11\", \"2020-09-10\", \"2020-09-09\", \"2020-09-08\", \"2020-09-07\", \"2020-09-06\", \"2020-09-05\", \"2020-09-04\", \"2020-09-03\", \"2020-09-02\", \"2020-09-01\", \"2020-08-31\", \"2020-08-30\", \"2020-08-29\", \"2020-08-28\", \"2020-08-27\", \"2020-08-26\", \"2020-08-25\", \"2020-08-24\", \"2020-08-23\", \"2020-08-22\", \"2020-08-21\", \"2020-08-20\", \"2020-08-19\", \"2020-08-18\", \"2020-08-17\", \"2020-08-16\", \"2020-08-15\", \"2020-08-14\", \"2020-08-13\", \"2020-08-12\", \"2020-08-11\", \"2020-08-10\", \"2020-08-09\", \"2020-08-08\", \"2020-08-07\", \"2020-08-06\", \"2020-08-05\", \"2020-08-04\", \"2020-08-03\", \"2020-08-02\", \"2020-08-01\", \"2020-07-31\", \"2020-07-30\", \"2020-07-29\", \"2020-07-28\", \"2020-07-27\", \"2020-07-26\", \"2020-07-25\", \"2020-07-24\", \"2020-07-23\", \"2020-07-22\", \"2020-07-21\", \"2020-07-20\", \"2020-07-19\", \"2020-07-18\", \"2020-07-17\", \"2020-07-16\", \"2020-07-15\", \"2020-07-14\", \"2020-07-13\", \"2020-07-12\", \"2020-07-11\", \"2020-07-10\", \"2020-07-09\", \"2020-07-08\", \"2020-07-07\", \"2020-07-06\", \"2020-07-05\", \"2020-07-04\", \"2020-07-03\", \"2020-07-02\", \"2020-07-01\", \"2020-06-30\", \"2020-06-29\", \"2020-06-28\", \"2020-06-27\", \"2020-06-26\", \"2020-06-25\", \"2020-06-24\", \"2020-06-23\", \"2020-06-22\", \"2020-06-21\", \"2020-06-20\", \"2020-06-19\", \"2020-06-18\", \"2020-06-17\", \"2020-06-16\", \"2020-06-15\", \"2020-06-14\", \"2020-06-13\", \"2020-06-12\", \"2020-06-11\", \"2020-06-10\", \"2020-06-09\", \"2020-06-08\", \"2020-06-07\", \"2020-06-06\", \"2020-06-05\", \"2020-06-04\", \"2020-06-03\", \"2020-06-02\", \"2020-06-01\", \"2020-05-31\", \"2020-05-30\", \"2020-05-29\", \"2020-05-28\", \"2020-05-27\", \"2020-05-26\", \"2020-05-25\", \"2020-05-24\", \"2020-05-23\", \"2020-05-22\", \"2020-05-21\", \"2020-05-20\", \"2020-05-19\", \"2020-05-18\", \"2020-05-17\", \"2020-05-16\", \"2020-05-15\", \"2020-05-14\", \"2020-05-13\", \"2020-05-12\", \"2020-05-11\", \"2020-05-10\", \"2020-05-09\", \"2020-05-08\", \"2020-05-07\", \"2020-05-06\", \"2020-05-05\", \"2020-05-04\", \"2020-05-03\", \"2020-05-02\", \"2020-05-01\", \"2020-04-30\", \"2020-04-29\", \"2020-04-28\", \"2020-04-27\", \"2020-04-26\", \"2020-04-25\", \"2020-04-24\", \"2020-04-23\", \"2020-04-22\", \"2020-04-21\", \"2020-04-20\", \"2020-04-19\", \"2020-04-18\", \"2020-04-17\", \"2020-04-16\", \"2020-04-15\", \"2020-04-14\", \"2020-04-13\", \"2020-04-12\", \"2020-04-11\", \"2020-04-10\", \"2020-04-09\", \"2020-04-08\", \"2020-04-07\", \"2020-04-06\", \"2020-04-05\", \"2020-04-04\", \"2020-04-03\", \"2020-04-02\", \"2020-04-01\", \"2020-03-31\", \"2020-03-30\", \"2020-03-29\", \"2020-03-28\", \"2020-03-27\", \"2020-03-26\", \"2020-03-25\", \"2020-03-24\", \"2020-03-23\", \"2020-03-22\", \"2020-03-21\", \"2020-03-20\", \"2020-03-19\", \"2020-03-18\", \"2020-03-17\", \"2020-03-16\", \"2020-03-15\", \"2020-03-14\", \"2020-03-13\", \"2020-03-12\", \"2020-03-11\", \"2020-03-10\", \"2020-03-09\", \"2020-03-08\", \"2020-03-07\", \"2020-03-06\", \"2020-03-05\", \"2020-03-04\", \"2020-03-03\", \"2020-03-02\", \"2020-03-01\", \"2020-02-29\", \"2020-02-27\", \"2020-02-28\", \"2020-02-26\", \"2020-02-25\", \"2020-02-24\", \"2020-02-23\", \"2020-02-22\", \"2020-02-21\", \"2020-02-13\", \"2020-02-20\", \"2020-02-16\", \"2020-02-15\", \"2020-02-14\", \"2020-02-19\", \"2020-02-17\", \"2020-02-18\", \"2020-02-12\", \"2020-02-11\", \"2020-02-09\", \"2020-02-07\", \"2020-02-08\", \"2020-02-10\", \"2020-02-06\", \"2020-02-03\", \"2020-02-04\", \"2020-02-05\", \"2020-02-01\", \"2020-01-31\", \"2020-02-02\", \"2020-01-29\", \"2020-01-30\", \"2020-01-26\", \"2020-01-28\", \"2020-01-27\", \"2020-01-24\", \"2020-01-25\", \"2020-01-22\", \"2020-01-23\"], \"xaxis\": \"x\", \"y\": [13383320, 13244417, 13088821, 12883264, 12772653, 12591163, 12418228, 12246766, 12104032, 11925959, 11729949, 11541986, 11371585, 11211070, 11053304, 10917519, 10750810, 10573242, 10411994, 10268446, 10130752, 10009386, 9899480, 9771480, 9645772, 9519582, 9416709, 9292091, 9208607, 9133045, 9044161, 8945642, 8855474, 8776790, 8700789, 8634210, 8572449, 8489662, 8408675, 8333340, 8270314, 8209226, 8142220, 8092924, 8036049, 7967600, 7903242, 7843769, 7790890, 7750186, 7704352, 7650345, 7594351, 7536022, 7485381, 7441432, 7402515, 7366423, 7317749, 7263347, 7218052, 7176856, 7134060, 7101812, 7064532, 7020229, 6972152, 6926442, 6887861, 6848379, 6796841, 6758397, 6715928, 6667178, 6622256, 6583796, 6544411, 6510541, 6476236, 6435261, 6387822, 6351756, 6317861, 6290964, 6267419, 6235908, 6192768, 6142639, 6098858, 6057907, 6016230, 5981032, 5946245, 5900891, 5853962, 5808842, 5763322, 5723343, 5686858, 5652401, 5608748, 5560495, 5516408, 5469037, 5424000, 5387483, 5346302, 5299526, 5234762, 5183020, 5126224, 5079299, 5030566, 4984196, 4929748, 4871426, 4811945, 4757512, 4700229, 4655662, 4609390, 4551554, 4483643, 4416044, 4344212, 4278427, 4222480, 4167616, 4102241, 4029038, 3960522, 3888599, 3824368, 3762890, 3702174, 3639705, 3568033, 3490931, 3423296, 3355869, 3297074, 3237989, 3177953, 3110094, 3047527, 2987787, 2927032, 2882870, 2833290, 2787741, 2735900, 2680312, 2628824, 2582844, 2542787, 2502378, 2461019, 2415666, 2375310, 2340884, 2304676, 2274000, 2248032, 2216115, 2185134, 2157267, 2130768, 2107075, 2087619, 2068600, 2043332, 2018418, 1995376, 1974425, 1956064, 1938572, 1920910, 1899505, 1874156, 1852788, 1832782, 1811393, 1794465, 1775428, 1751612, 1727357, 1704489, 1685956, 1666505, 1648158, 1628212, 1607109, 1583798, 1557933, 1534871, 1513816, 1491829, 1473514, 1449498, 1424243, 1397085, 1376122, 1353397, 1333970, 1315099, 1290151, 1263402, 1235666, 1210577, 1186067, 1162685, 1138228, 1110464, 1076224, 1046737, 1018926, 994265, 971078, 944234, 912662, 878911, 845727, 816413, 790353, 761933, 736244, 708317, 675648, 644247, 614082, 585518, 559709, 532782, 503474, 469989, 435407, 403212, 371802, 341629, 313432, 280417, 248447, 218060, 192177, 165861, 143779, 124900, 105293, 86613, 68773, 56698, 46086, 34855, 26025, 20030, 13663, 9169, 6512, 4679, 3212, 2978, 2219, 1586, 1147, 782, 594, 519, 403, 237, 184, 107, 74, 55, 32, 25, 17, 17, 16, 16, 16, 16, 16, 16, 14, 14, 14, 14, 14, 14, 14, 14, 13, 13, 12, 12, 12, 12, 12, 11, 11, 11, 8, 8, 8, 6, 6, 5, 5, 5, 2, 2, 1, 1], \"yaxis\": \"y\"}],                        {\"barmode\": \"relative\", \"coloraxis\": {\"colorbar\": {\"title\": {\"text\": \"Confirmed\"}}, \"colorscale\": [[0.0, \"rgb(247,252,253)\"], [0.125, \"rgb(229,245,249)\"], [0.25, \"rgb(204,236,230)\"], [0.375, \"rgb(153,216,201)\"], [0.5, \"rgb(102,194,164)\"], [0.625, \"rgb(65,174,118)\"], [0.75, \"rgb(35,139,69)\"], [0.875, \"rgb(0,109,44)\"], [1.0, \"rgb(0,68,27)\"]]}, \"legend\": {\"tracegroupgap\": 0}, \"margin\": {\"t\": 60}, \"template\": {\"data\": {\"bar\": [{\"error_x\": {\"color\": \"#2a3f5f\"}, \"error_y\": {\"color\": \"#2a3f5f\"}, \"marker\": {\"line\": {\"color\": \"#E5ECF6\", \"width\": 0.5}}, \"type\": \"bar\"}], \"barpolar\": [{\"marker\": {\"line\": {\"color\": \"#E5ECF6\", \"width\": 0.5}}, \"type\": \"barpolar\"}], \"carpet\": [{\"aaxis\": {\"endlinecolor\": \"#2a3f5f\", \"gridcolor\": \"white\", \"linecolor\": \"white\", \"minorgridcolor\": \"white\", \"startlinecolor\": \"#2a3f5f\"}, \"baxis\": {\"endlinecolor\": \"#2a3f5f\", \"gridcolor\": \"white\", \"linecolor\": \"white\", \"minorgridcolor\": \"white\", \"startlinecolor\": \"#2a3f5f\"}, \"type\": \"carpet\"}], \"choropleth\": [{\"colorbar\": {\"outlinewidth\": 0, \"ticks\": \"\"}, \"type\": \"choropleth\"}], \"contour\": [{\"colorbar\": {\"outlinewidth\": 0, \"ticks\": \"\"}, \"colorscale\": [[0.0, \"#0d0887\"], [0.1111111111111111, \"#46039f\"], [0.2222222222222222, \"#7201a8\"], [0.3333333333333333, \"#9c179e\"], [0.4444444444444444, \"#bd3786\"], [0.5555555555555556, \"#d8576b\"], [0.6666666666666666, \"#ed7953\"], [0.7777777777777778, \"#fb9f3a\"], [0.8888888888888888, \"#fdca26\"], [1.0, \"#f0f921\"]], \"type\": \"contour\"}], \"contourcarpet\": [{\"colorbar\": {\"outlinewidth\": 0, \"ticks\": \"\"}, \"type\": \"contourcarpet\"}], \"heatmap\": [{\"colorbar\": {\"outlinewidth\": 0, \"ticks\": \"\"}, \"colorscale\": [[0.0, \"#0d0887\"], [0.1111111111111111, \"#46039f\"], [0.2222222222222222, \"#7201a8\"], [0.3333333333333333, \"#9c179e\"], [0.4444444444444444, \"#bd3786\"], [0.5555555555555556, \"#d8576b\"], [0.6666666666666666, \"#ed7953\"], [0.7777777777777778, \"#fb9f3a\"], [0.8888888888888888, \"#fdca26\"], [1.0, \"#f0f921\"]], \"type\": \"heatmap\"}], \"heatmapgl\": [{\"colorbar\": {\"outlinewidth\": 0, \"ticks\": \"\"}, \"colorscale\": [[0.0, \"#0d0887\"], [0.1111111111111111, \"#46039f\"], [0.2222222222222222, \"#7201a8\"], [0.3333333333333333, \"#9c179e\"], [0.4444444444444444, \"#bd3786\"], [0.5555555555555556, \"#d8576b\"], [0.6666666666666666, \"#ed7953\"], [0.7777777777777778, \"#fb9f3a\"], [0.8888888888888888, \"#fdca26\"], [1.0, \"#f0f921\"]], \"type\": \"heatmapgl\"}], \"histogram\": [{\"marker\": {\"colorbar\": {\"outlinewidth\": 0, \"ticks\": \"\"}}, \"type\": \"histogram\"}], \"histogram2d\": [{\"colorbar\": {\"outlinewidth\": 0, \"ticks\": \"\"}, \"colorscale\": [[0.0, \"#0d0887\"], [0.1111111111111111, \"#46039f\"], [0.2222222222222222, \"#7201a8\"], [0.3333333333333333, \"#9c179e\"], [0.4444444444444444, \"#bd3786\"], [0.5555555555555556, \"#d8576b\"], [0.6666666666666666, \"#ed7953\"], [0.7777777777777778, \"#fb9f3a\"], [0.8888888888888888, \"#fdca26\"], [1.0, \"#f0f921\"]], \"type\": \"histogram2d\"}], \"histogram2dcontour\": [{\"colorbar\": {\"outlinewidth\": 0, \"ticks\": \"\"}, \"colorscale\": [[0.0, \"#0d0887\"], [0.1111111111111111, \"#46039f\"], [0.2222222222222222, \"#7201a8\"], [0.3333333333333333, \"#9c179e\"], [0.4444444444444444, \"#bd3786\"], [0.5555555555555556, \"#d8576b\"], [0.6666666666666666, \"#ed7953\"], [0.7777777777777778, \"#fb9f3a\"], [0.8888888888888888, \"#fdca26\"], [1.0, \"#f0f921\"]], \"type\": \"histogram2dcontour\"}], \"mesh3d\": [{\"colorbar\": {\"outlinewidth\": 0, \"ticks\": \"\"}, \"type\": \"mesh3d\"}], \"parcoords\": [{\"line\": {\"colorbar\": {\"outlinewidth\": 0, \"ticks\": \"\"}}, \"type\": \"parcoords\"}], \"pie\": [{\"automargin\": true, \"type\": \"pie\"}], \"scatter\": [{\"marker\": {\"colorbar\": {\"outlinewidth\": 0, \"ticks\": \"\"}}, \"type\": \"scatter\"}], \"scatter3d\": [{\"line\": {\"colorbar\": {\"outlinewidth\": 0, \"ticks\": \"\"}}, \"marker\": {\"colorbar\": {\"outlinewidth\": 0, \"ticks\": \"\"}}, \"type\": \"scatter3d\"}], \"scattercarpet\": [{\"marker\": {\"colorbar\": {\"outlinewidth\": 0, \"ticks\": \"\"}}, \"type\": \"scattercarpet\"}], \"scattergeo\": [{\"marker\": {\"colorbar\": {\"outlinewidth\": 0, \"ticks\": \"\"}}, \"type\": \"scattergeo\"}], \"scattergl\": [{\"marker\": {\"colorbar\": {\"outlinewidth\": 0, \"ticks\": \"\"}}, \"type\": \"scattergl\"}], \"scattermapbox\": [{\"marker\": {\"colorbar\": {\"outlinewidth\": 0, \"ticks\": \"\"}}, \"type\": \"scattermapbox\"}], \"scatterpolar\": [{\"marker\": {\"colorbar\": {\"outlinewidth\": 0, \"ticks\": \"\"}}, \"type\": \"scatterpolar\"}], \"scatterpolargl\": [{\"marker\": {\"colorbar\": {\"outlinewidth\": 0, \"ticks\": \"\"}}, \"type\": \"scatterpolargl\"}], \"scatterternary\": [{\"marker\": {\"colorbar\": {\"outlinewidth\": 0, \"ticks\": \"\"}}, \"type\": \"scatterternary\"}], \"surface\": [{\"colorbar\": {\"outlinewidth\": 0, \"ticks\": \"\"}, \"colorscale\": [[0.0, \"#0d0887\"], [0.1111111111111111, \"#46039f\"], [0.2222222222222222, \"#7201a8\"], [0.3333333333333333, \"#9c179e\"], [0.4444444444444444, \"#bd3786\"], [0.5555555555555556, \"#d8576b\"], [0.6666666666666666, \"#ed7953\"], [0.7777777777777778, \"#fb9f3a\"], [0.8888888888888888, \"#fdca26\"], [1.0, \"#f0f921\"]], \"type\": \"surface\"}], \"table\": [{\"cells\": {\"fill\": {\"color\": \"#EBF0F8\"}, \"line\": {\"color\": \"white\"}}, \"header\": {\"fill\": {\"color\": \"#C8D4E3\"}, \"line\": {\"color\": \"white\"}}, \"type\": \"table\"}]}, \"layout\": {\"annotationdefaults\": {\"arrowcolor\": \"#2a3f5f\", \"arrowhead\": 0, \"arrowwidth\": 1}, \"autotypenumbers\": \"strict\", \"coloraxis\": {\"colorbar\": {\"outlinewidth\": 0, \"ticks\": \"\"}}, \"colorscale\": {\"diverging\": [[0, \"#8e0152\"], [0.1, \"#c51b7d\"], [0.2, \"#de77ae\"], [0.3, \"#f1b6da\"], [0.4, \"#fde0ef\"], [0.5, \"#f7f7f7\"], [0.6, \"#e6f5d0\"], [0.7, \"#b8e186\"], [0.8, \"#7fbc41\"], [0.9, \"#4d9221\"], [1, \"#276419\"]], \"sequential\": [[0.0, \"#0d0887\"], [0.1111111111111111, \"#46039f\"], [0.2222222222222222, \"#7201a8\"], [0.3333333333333333, \"#9c179e\"], [0.4444444444444444, \"#bd3786\"], [0.5555555555555556, \"#d8576b\"], [0.6666666666666666, \"#ed7953\"], [0.7777777777777778, \"#fb9f3a\"], [0.8888888888888888, \"#fdca26\"], [1.0, \"#f0f921\"]], \"sequentialminus\": [[0.0, \"#0d0887\"], [0.1111111111111111, \"#46039f\"], [0.2222222222222222, \"#7201a8\"], [0.3333333333333333, \"#9c179e\"], [0.4444444444444444, \"#bd3786\"], [0.5555555555555556, \"#d8576b\"], [0.6666666666666666, \"#ed7953\"], [0.7777777777777778, \"#fb9f3a\"], [0.8888888888888888, \"#fdca26\"], [1.0, \"#f0f921\"]]}, \"colorway\": [\"#636efa\", \"#EF553B\", \"#00cc96\", \"#ab63fa\", \"#FFA15A\", \"#19d3f3\", \"#FF6692\", \"#B6E880\", \"#FF97FF\", \"#FECB52\"], \"font\": {\"color\": \"#2a3f5f\"}, \"geo\": {\"bgcolor\": \"white\", \"lakecolor\": \"white\", \"landcolor\": \"#E5ECF6\", \"showlakes\": true, \"showland\": true, \"subunitcolor\": \"white\"}, \"hoverlabel\": {\"align\": \"left\"}, \"hovermode\": \"closest\", \"mapbox\": {\"style\": \"light\"}, \"paper_bgcolor\": \"white\", \"plot_bgcolor\": \"#E5ECF6\", \"polar\": {\"angularaxis\": {\"gridcolor\": \"white\", \"linecolor\": \"white\", \"ticks\": \"\"}, \"bgcolor\": \"#E5ECF6\", \"radialaxis\": {\"gridcolor\": \"white\", \"linecolor\": \"white\", \"ticks\": \"\"}}, \"scene\": {\"xaxis\": {\"backgroundcolor\": \"#E5ECF6\", \"gridcolor\": \"white\", \"gridwidth\": 2, \"linecolor\": \"white\", \"showbackground\": true, \"ticks\": \"\", \"zerolinecolor\": \"white\"}, \"yaxis\": {\"backgroundcolor\": \"#E5ECF6\", \"gridcolor\": \"white\", \"gridwidth\": 2, \"linecolor\": \"white\", \"showbackground\": true, \"ticks\": \"\", \"zerolinecolor\": \"white\"}, \"zaxis\": {\"backgroundcolor\": \"#E5ECF6\", \"gridcolor\": \"white\", \"gridwidth\": 2, \"linecolor\": \"white\", \"showbackground\": true, \"ticks\": \"\", \"zerolinecolor\": \"white\"}}, \"shapedefaults\": {\"line\": {\"color\": \"#2a3f5f\"}}, \"ternary\": {\"aaxis\": {\"gridcolor\": \"white\", \"linecolor\": \"white\", \"ticks\": \"\"}, \"baxis\": {\"gridcolor\": \"white\", \"linecolor\": \"white\", \"ticks\": \"\"}, \"bgcolor\": \"#E5ECF6\", \"caxis\": {\"gridcolor\": \"white\", \"linecolor\": \"white\", \"ticks\": \"\"}}, \"title\": {\"x\": 0.05}, \"xaxis\": {\"automargin\": true, \"gridcolor\": \"white\", \"linecolor\": \"white\", \"ticks\": \"\", \"title\": {\"standoff\": 15}, \"zerolinecolor\": \"white\", \"zerolinewidth\": 2}, \"yaxis\": {\"automargin\": true, \"gridcolor\": \"white\", \"linecolor\": \"white\", \"ticks\": \"\", \"title\": {\"standoff\": 15}, \"zerolinecolor\": \"white\", \"zerolinewidth\": 2}}}, \"title\": {\"text\": \"Confirmed COVID-19 cases per day in US\"}, \"xaxis\": {\"anchor\": \"y\", \"domain\": [0.0, 1.0], \"title\": {\"text\": \"Date\"}}, \"yaxis\": {\"anchor\": \"x\", \"domain\": [0.0, 1.0], \"title\": {\"text\": \"Confirmed\"}}},                        {\"responsive\": true}                    ).then(function(){\n",
       "                            \n",
       "var gd = document.getElementById('a08336d5-cad4-4bd5-841c-315db494d53f');\n",
       "var x = new MutationObserver(function (mutations, observer) {{\n",
       "        var display = window.getComputedStyle(gd).display;\n",
       "        if (!display || display === 'none') {{\n",
       "            console.log([gd, 'removed!']);\n",
       "            Plotly.purge(gd);\n",
       "            observer.disconnect();\n",
       "        }}\n",
       "}});\n",
       "\n",
       "// Listen for the removal of the full notebook cells\n",
       "var notebookContainer = gd.closest('#notebook-container');\n",
       "if (notebookContainer) {{\n",
       "    x.observe(notebookContainer, {childList: true});\n",
       "}}\n",
       "\n",
       "// Listen for the clearing of the current output cell\n",
       "var outputEl = gd.closest('.output');\n",
       "if (outputEl) {{\n",
       "    x.observe(outputEl, {childList: true});\n",
       "}}\n",
       "\n",
       "                        })                };                });            </script>        </div>"
      ]
     },
     "metadata": {},
     "output_type": "display_data"
    }
   ],
   "source": [
    "df_by_date = pd.DataFrame(data.fillna('NA').groupby(['Country','Date'])['Confirmed'].sum().sort_values().reset_index())\n",
    "\n",
    "fig = px.bar(df_by_date.loc[(df_by_date['Country'] == 'US') &(df_by_date.Date >= '2020-01-22')].sort_values('Confirmed',ascending = False), \n",
    "             x='Date', y='Confirmed', color=\"Confirmed\", color_continuous_scale=px.colors.sequential.BuGn)\n",
    "fig.update_layout(title_text='Confirmed COVID-19 cases per day in US')"
   ]
  },
  {
   "cell_type": "markdown",
   "metadata": {},
   "source": [
    "###### The above graph indicates the spread of the COVID-19 over the time period from March 2020-November 2020.The spread of the COVID-19 started from march 26.In US,the spread was reaching above 6 Million in the month of August"
   ]
  },
  {
   "cell_type": "markdown",
   "metadata": {},
   "source": [
    "# Confirmed COVID-19 cases per day in India"
   ]
  },
  {
   "cell_type": "code",
   "execution_count": 20,
   "metadata": {},
   "outputs": [
    {
     "data": {
      "application/vnd.plotly.v1+json": {
       "config": {
        "plotlyServerURL": "https://plot.ly"
       },
       "data": [
        {
         "alignmentgroup": "True",
         "hovertemplate": "Date=%{x}<br>Confirmed=%{marker.color}<extra></extra>",
         "legendgroup": "",
         "marker": {
          "color": [
           9431691,
           9392919,
           9351109,
           9309787,
           9266705,
           9222216,
           9177840,
           9139865,
           9095806,
           9050597,
           9004365,
           8958483,
           8912907,
           8874290,
           8845127,
           8814579,
           8773479,
           8728795,
           8683916,
           8636011,
           8591730,
           8553657,
           8507754,
           8462080,
           8411724,
           8364086,
           8313876,
           8267623,
           8229313,
           8184082,
           8137119,
           8088851,
           8040203,
           7990322,
           7946429,
           7909959,
           7864811,
           7814682,
           7761312,
           7706946,
           7651107,
           7597063,
           7550273,
           7494551,
           7432680,
           7370468,
           7307097,
           7239389,
           7175880,
           7120538,
           7053806,
           6979423,
           6906151,
           6835655,
           6757131,
           6685082,
           6623815,
           6549373,
           6473544,
           6394068,
           6312584,
           6225763,
           6145291,
           6074702,
           5992532,
           5903932,
           5818570,
           5732518,
           5646010,
           5562663,
           5487580,
           5400619,
           5308014,
           5214677,
           5118253,
           5020359,
           4930236,
           4846427,
           4754356,
           4659984,
           4562414,
           4465863,
           4370128,
           4280422,
           4204613,
           4113811,
           4023179,
           3936747,
           3853406,
           3769523,
           3691166,
           3621245,
           3542733,
           3463972,
           3387500,
           3310234,
           3224547,
           3167323,
           3106348,
           3044940,
           2975701,
           2905825,
           2836925,
           2767253,
           2702681,
           2647663,
           2589952,
           2525922,
           2461190,
           2396637,
           2329638,
           2268675,
           2215074,
           2153010,
           2088611,
           2027074,
           1964536,
           1908254,
           1855745,
           1803695,
           1750723,
           1695988,
           1634746,
           1581963,
           1531669,
           1480073,
           1435616,
           1385635,
           1337024,
           1288108,
           1238798,
           1193078,
           1155338,
           1118206,
           1077781,
           1039084,
           1003832,
           968857,
           936181,
           906752,
           878254,
           849522,
           820916,
           793802,
           767296,
           742417,
           719664,
           697413,
           673165,
           648315,
           625544,
           604641,
           585481,
           566840,
           548318,
           528859,
           508953,
           490401,
           473105,
           456183,
           440215,
           425282,
           410451,
           395048,
           380532,
           366946,
           354065,
           343091,
           332424,
           320922,
           308993,
           297535,
           286605,
           276146,
           265928,
           257486,
           246622,
           236184,
           226713,
           216824,
           207191,
           198370,
           190609,
           181827,
           173491,
           165386,
           158086,
           150793,
           144950,
           138536,
           131423,
           124794,
           118226,
           112028,
           106475,
           100328,
           95698,
           90648,
           85784,
           81997,
           78055,
           74292,
           70768,
           67161,
           62808,
           59695,
           56351,
           52987,
           49400,
           46437,
           42505,
           39699,
           37257,
           34863,
           33062,
           31324,
           29451,
           27890,
           26283,
           24530,
           23077,
           21370,
           20080,
           18539,
           17615,
           15722,
           14352,
           13430,
           12322,
           11487,
           10453,
           9205,
           8446,
           7598,
           6725,
           5916,
           5311,
           4778,
           3588,
           3082,
           2567,
           2543,
           1998,
           1397,
           1251,
           1024,
           987,
           887,
           727,
           657,
           536,
           499,
           396,
           330,
           244,
           194,
           156,
           142,
           119,
           113,
           102,
           82,
           73,
           62,
           56,
           43,
           39,
           34,
           31,
           30,
           28,
           5,
           5,
           3,
           3,
           3,
           3,
           3,
           3,
           3,
           3,
           3,
           3,
           3,
           3,
           3,
           3,
           3,
           3,
           3,
           3,
           3,
           3,
           3,
           3,
           3,
           3,
           3,
           3,
           3,
           3,
           2,
           1,
           1,
           1,
           0,
           0,
           0,
           0,
           0,
           0,
           0,
           0
          ],
          "coloraxis": "coloraxis"
         },
         "name": "",
         "offsetgroup": "",
         "orientation": "v",
         "showlegend": false,
         "textposition": "auto",
         "type": "bar",
         "x": [
          "2020-11-29",
          "2020-11-28",
          "2020-11-27",
          "2020-11-26",
          "2020-11-25",
          "2020-11-24",
          "2020-11-23",
          "2020-11-22",
          "2020-11-21",
          "2020-11-20",
          "2020-11-19",
          "2020-11-18",
          "2020-11-17",
          "2020-11-16",
          "2020-11-15",
          "2020-11-14",
          "2020-11-13",
          "2020-11-12",
          "2020-11-11",
          "2020-11-10",
          "2020-11-09",
          "2020-11-08",
          "2020-11-07",
          "2020-11-06",
          "2020-11-05",
          "2020-11-04",
          "2020-11-03",
          "2020-11-02",
          "2020-11-01",
          "2020-10-31",
          "2020-10-30",
          "2020-10-29",
          "2020-10-28",
          "2020-10-27",
          "2020-10-26",
          "2020-10-25",
          "2020-10-24",
          "2020-10-23",
          "2020-10-22",
          "2020-10-21",
          "2020-10-20",
          "2020-10-19",
          "2020-10-18",
          "2020-10-17",
          "2020-10-16",
          "2020-10-15",
          "2020-10-14",
          "2020-10-13",
          "2020-10-12",
          "2020-10-11",
          "2020-10-10",
          "2020-10-09",
          "2020-10-08",
          "2020-10-07",
          "2020-10-06",
          "2020-10-05",
          "2020-10-04",
          "2020-10-03",
          "2020-10-02",
          "2020-10-01",
          "2020-09-30",
          "2020-09-29",
          "2020-09-28",
          "2020-09-27",
          "2020-09-26",
          "2020-09-25",
          "2020-09-24",
          "2020-09-23",
          "2020-09-22",
          "2020-09-21",
          "2020-09-20",
          "2020-09-19",
          "2020-09-18",
          "2020-09-17",
          "2020-09-16",
          "2020-09-15",
          "2020-09-14",
          "2020-09-13",
          "2020-09-12",
          "2020-09-11",
          "2020-09-10",
          "2020-09-09",
          "2020-09-08",
          "2020-09-07",
          "2020-09-06",
          "2020-09-05",
          "2020-09-04",
          "2020-09-03",
          "2020-09-02",
          "2020-09-01",
          "2020-08-31",
          "2020-08-30",
          "2020-08-29",
          "2020-08-28",
          "2020-08-27",
          "2020-08-26",
          "2020-08-25",
          "2020-08-24",
          "2020-08-23",
          "2020-08-22",
          "2020-08-21",
          "2020-08-20",
          "2020-08-19",
          "2020-08-18",
          "2020-08-17",
          "2020-08-16",
          "2020-08-15",
          "2020-08-14",
          "2020-08-13",
          "2020-08-12",
          "2020-08-11",
          "2020-08-10",
          "2020-08-09",
          "2020-08-08",
          "2020-08-07",
          "2020-08-06",
          "2020-08-05",
          "2020-08-04",
          "2020-08-03",
          "2020-08-02",
          "2020-08-01",
          "2020-07-31",
          "2020-07-30",
          "2020-07-29",
          "2020-07-28",
          "2020-07-27",
          "2020-07-26",
          "2020-07-25",
          "2020-07-24",
          "2020-07-23",
          "2020-07-22",
          "2020-07-21",
          "2020-07-20",
          "2020-07-19",
          "2020-07-18",
          "2020-07-17",
          "2020-07-16",
          "2020-07-15",
          "2020-07-14",
          "2020-07-13",
          "2020-07-12",
          "2020-07-11",
          "2020-07-10",
          "2020-07-09",
          "2020-07-08",
          "2020-07-07",
          "2020-07-06",
          "2020-07-05",
          "2020-07-04",
          "2020-07-03",
          "2020-07-02",
          "2020-07-01",
          "2020-06-30",
          "2020-06-29",
          "2020-06-28",
          "2020-06-27",
          "2020-06-26",
          "2020-06-25",
          "2020-06-24",
          "2020-06-23",
          "2020-06-22",
          "2020-06-21",
          "2020-06-20",
          "2020-06-19",
          "2020-06-18",
          "2020-06-17",
          "2020-06-16",
          "2020-06-15",
          "2020-06-14",
          "2020-06-13",
          "2020-06-12",
          "2020-06-11",
          "2020-06-10",
          "2020-06-09",
          "2020-06-08",
          "2020-06-07",
          "2020-06-06",
          "2020-06-05",
          "2020-06-04",
          "2020-06-03",
          "2020-06-02",
          "2020-06-01",
          "2020-05-31",
          "2020-05-30",
          "2020-05-29",
          "2020-05-28",
          "2020-05-27",
          "2020-05-26",
          "2020-05-25",
          "2020-05-24",
          "2020-05-23",
          "2020-05-22",
          "2020-05-21",
          "2020-05-20",
          "2020-05-19",
          "2020-05-18",
          "2020-05-17",
          "2020-05-16",
          "2020-05-15",
          "2020-05-14",
          "2020-05-13",
          "2020-05-12",
          "2020-05-11",
          "2020-05-10",
          "2020-05-09",
          "2020-05-08",
          "2020-05-07",
          "2020-05-06",
          "2020-05-05",
          "2020-05-04",
          "2020-05-03",
          "2020-05-02",
          "2020-05-01",
          "2020-04-30",
          "2020-04-29",
          "2020-04-28",
          "2020-04-27",
          "2020-04-26",
          "2020-04-25",
          "2020-04-24",
          "2020-04-23",
          "2020-04-22",
          "2020-04-21",
          "2020-04-20",
          "2020-04-19",
          "2020-04-18",
          "2020-04-17",
          "2020-04-16",
          "2020-04-15",
          "2020-04-14",
          "2020-04-13",
          "2020-04-12",
          "2020-04-11",
          "2020-04-10",
          "2020-04-09",
          "2020-04-08",
          "2020-04-07",
          "2020-04-06",
          "2020-04-05",
          "2020-04-04",
          "2020-04-03",
          "2020-04-02",
          "2020-04-01",
          "2020-03-31",
          "2020-03-30",
          "2020-03-29",
          "2020-03-28",
          "2020-03-27",
          "2020-03-26",
          "2020-03-25",
          "2020-03-24",
          "2020-03-23",
          "2020-03-22",
          "2020-03-21",
          "2020-03-20",
          "2020-03-19",
          "2020-03-18",
          "2020-03-17",
          "2020-03-16",
          "2020-03-15",
          "2020-03-14",
          "2020-03-13",
          "2020-03-12",
          "2020-03-11",
          "2020-03-10",
          "2020-03-09",
          "2020-03-08",
          "2020-03-07",
          "2020-03-06",
          "2020-03-05",
          "2020-03-04",
          "2020-03-02",
          "2020-03-03",
          "2020-02-29",
          "2020-02-11",
          "2020-02-10",
          "2020-02-09",
          "2020-02-08",
          "2020-02-07",
          "2020-02-06",
          "2020-02-05",
          "2020-02-03",
          "2020-02-04",
          "2020-02-12",
          "2020-02-13",
          "2020-02-14",
          "2020-02-15",
          "2020-02-28",
          "2020-02-27",
          "2020-02-26",
          "2020-02-25",
          "2020-02-24",
          "2020-03-01",
          "2020-02-23",
          "2020-02-21",
          "2020-02-20",
          "2020-02-19",
          "2020-02-18",
          "2020-02-17",
          "2020-02-16",
          "2020-02-22",
          "2020-02-02",
          "2020-01-31",
          "2020-01-30",
          "2020-02-01",
          "2020-01-24",
          "2020-01-22",
          "2020-01-23",
          "2020-01-25",
          "2020-01-27",
          "2020-01-28",
          "2020-01-29",
          "2020-01-26"
         ],
         "xaxis": "x",
         "y": [
          9431691,
          9392919,
          9351109,
          9309787,
          9266705,
          9222216,
          9177840,
          9139865,
          9095806,
          9050597,
          9004365,
          8958483,
          8912907,
          8874290,
          8845127,
          8814579,
          8773479,
          8728795,
          8683916,
          8636011,
          8591730,
          8553657,
          8507754,
          8462080,
          8411724,
          8364086,
          8313876,
          8267623,
          8229313,
          8184082,
          8137119,
          8088851,
          8040203,
          7990322,
          7946429,
          7909959,
          7864811,
          7814682,
          7761312,
          7706946,
          7651107,
          7597063,
          7550273,
          7494551,
          7432680,
          7370468,
          7307097,
          7239389,
          7175880,
          7120538,
          7053806,
          6979423,
          6906151,
          6835655,
          6757131,
          6685082,
          6623815,
          6549373,
          6473544,
          6394068,
          6312584,
          6225763,
          6145291,
          6074702,
          5992532,
          5903932,
          5818570,
          5732518,
          5646010,
          5562663,
          5487580,
          5400619,
          5308014,
          5214677,
          5118253,
          5020359,
          4930236,
          4846427,
          4754356,
          4659984,
          4562414,
          4465863,
          4370128,
          4280422,
          4204613,
          4113811,
          4023179,
          3936747,
          3853406,
          3769523,
          3691166,
          3621245,
          3542733,
          3463972,
          3387500,
          3310234,
          3224547,
          3167323,
          3106348,
          3044940,
          2975701,
          2905825,
          2836925,
          2767253,
          2702681,
          2647663,
          2589952,
          2525922,
          2461190,
          2396637,
          2329638,
          2268675,
          2215074,
          2153010,
          2088611,
          2027074,
          1964536,
          1908254,
          1855745,
          1803695,
          1750723,
          1695988,
          1634746,
          1581963,
          1531669,
          1480073,
          1435616,
          1385635,
          1337024,
          1288108,
          1238798,
          1193078,
          1155338,
          1118206,
          1077781,
          1039084,
          1003832,
          968857,
          936181,
          906752,
          878254,
          849522,
          820916,
          793802,
          767296,
          742417,
          719664,
          697413,
          673165,
          648315,
          625544,
          604641,
          585481,
          566840,
          548318,
          528859,
          508953,
          490401,
          473105,
          456183,
          440215,
          425282,
          410451,
          395048,
          380532,
          366946,
          354065,
          343091,
          332424,
          320922,
          308993,
          297535,
          286605,
          276146,
          265928,
          257486,
          246622,
          236184,
          226713,
          216824,
          207191,
          198370,
          190609,
          181827,
          173491,
          165386,
          158086,
          150793,
          144950,
          138536,
          131423,
          124794,
          118226,
          112028,
          106475,
          100328,
          95698,
          90648,
          85784,
          81997,
          78055,
          74292,
          70768,
          67161,
          62808,
          59695,
          56351,
          52987,
          49400,
          46437,
          42505,
          39699,
          37257,
          34863,
          33062,
          31324,
          29451,
          27890,
          26283,
          24530,
          23077,
          21370,
          20080,
          18539,
          17615,
          15722,
          14352,
          13430,
          12322,
          11487,
          10453,
          9205,
          8446,
          7598,
          6725,
          5916,
          5311,
          4778,
          3588,
          3082,
          2567,
          2543,
          1998,
          1397,
          1251,
          1024,
          987,
          887,
          727,
          657,
          536,
          499,
          396,
          330,
          244,
          194,
          156,
          142,
          119,
          113,
          102,
          82,
          73,
          62,
          56,
          43,
          39,
          34,
          31,
          30,
          28,
          5,
          5,
          3,
          3,
          3,
          3,
          3,
          3,
          3,
          3,
          3,
          3,
          3,
          3,
          3,
          3,
          3,
          3,
          3,
          3,
          3,
          3,
          3,
          3,
          3,
          3,
          3,
          3,
          3,
          3,
          2,
          1,
          1,
          1,
          0,
          0,
          0,
          0,
          0,
          0,
          0,
          0
         ],
         "yaxis": "y"
        }
       ],
       "layout": {
        "barmode": "relative",
        "coloraxis": {
         "colorbar": {
          "title": {
           "text": "Confirmed"
          }
         },
         "colorscale": [
          [
           0,
           "rgb(237, 229, 207)"
          ],
          [
           0.16666666666666666,
           "rgb(224, 194, 162)"
          ],
          [
           0.3333333333333333,
           "rgb(211, 156, 131)"
          ],
          [
           0.5,
           "rgb(193, 118, 111)"
          ],
          [
           0.6666666666666666,
           "rgb(166, 84, 97)"
          ],
          [
           0.8333333333333334,
           "rgb(129, 55, 83)"
          ],
          [
           1,
           "rgb(84, 31, 63)"
          ]
         ]
        },
        "legend": {
         "tracegroupgap": 0
        },
        "margin": {
         "t": 60
        },
        "template": {
         "data": {
          "bar": [
           {
            "error_x": {
             "color": "#2a3f5f"
            },
            "error_y": {
             "color": "#2a3f5f"
            },
            "marker": {
             "line": {
              "color": "#E5ECF6",
              "width": 0.5
             }
            },
            "type": "bar"
           }
          ],
          "barpolar": [
           {
            "marker": {
             "line": {
              "color": "#E5ECF6",
              "width": 0.5
             }
            },
            "type": "barpolar"
           }
          ],
          "carpet": [
           {
            "aaxis": {
             "endlinecolor": "#2a3f5f",
             "gridcolor": "white",
             "linecolor": "white",
             "minorgridcolor": "white",
             "startlinecolor": "#2a3f5f"
            },
            "baxis": {
             "endlinecolor": "#2a3f5f",
             "gridcolor": "white",
             "linecolor": "white",
             "minorgridcolor": "white",
             "startlinecolor": "#2a3f5f"
            },
            "type": "carpet"
           }
          ],
          "choropleth": [
           {
            "colorbar": {
             "outlinewidth": 0,
             "ticks": ""
            },
            "type": "choropleth"
           }
          ],
          "contour": [
           {
            "colorbar": {
             "outlinewidth": 0,
             "ticks": ""
            },
            "colorscale": [
             [
              0,
              "#0d0887"
             ],
             [
              0.1111111111111111,
              "#46039f"
             ],
             [
              0.2222222222222222,
              "#7201a8"
             ],
             [
              0.3333333333333333,
              "#9c179e"
             ],
             [
              0.4444444444444444,
              "#bd3786"
             ],
             [
              0.5555555555555556,
              "#d8576b"
             ],
             [
              0.6666666666666666,
              "#ed7953"
             ],
             [
              0.7777777777777778,
              "#fb9f3a"
             ],
             [
              0.8888888888888888,
              "#fdca26"
             ],
             [
              1,
              "#f0f921"
             ]
            ],
            "type": "contour"
           }
          ],
          "contourcarpet": [
           {
            "colorbar": {
             "outlinewidth": 0,
             "ticks": ""
            },
            "type": "contourcarpet"
           }
          ],
          "heatmap": [
           {
            "colorbar": {
             "outlinewidth": 0,
             "ticks": ""
            },
            "colorscale": [
             [
              0,
              "#0d0887"
             ],
             [
              0.1111111111111111,
              "#46039f"
             ],
             [
              0.2222222222222222,
              "#7201a8"
             ],
             [
              0.3333333333333333,
              "#9c179e"
             ],
             [
              0.4444444444444444,
              "#bd3786"
             ],
             [
              0.5555555555555556,
              "#d8576b"
             ],
             [
              0.6666666666666666,
              "#ed7953"
             ],
             [
              0.7777777777777778,
              "#fb9f3a"
             ],
             [
              0.8888888888888888,
              "#fdca26"
             ],
             [
              1,
              "#f0f921"
             ]
            ],
            "type": "heatmap"
           }
          ],
          "heatmapgl": [
           {
            "colorbar": {
             "outlinewidth": 0,
             "ticks": ""
            },
            "colorscale": [
             [
              0,
              "#0d0887"
             ],
             [
              0.1111111111111111,
              "#46039f"
             ],
             [
              0.2222222222222222,
              "#7201a8"
             ],
             [
              0.3333333333333333,
              "#9c179e"
             ],
             [
              0.4444444444444444,
              "#bd3786"
             ],
             [
              0.5555555555555556,
              "#d8576b"
             ],
             [
              0.6666666666666666,
              "#ed7953"
             ],
             [
              0.7777777777777778,
              "#fb9f3a"
             ],
             [
              0.8888888888888888,
              "#fdca26"
             ],
             [
              1,
              "#f0f921"
             ]
            ],
            "type": "heatmapgl"
           }
          ],
          "histogram": [
           {
            "marker": {
             "colorbar": {
              "outlinewidth": 0,
              "ticks": ""
             }
            },
            "type": "histogram"
           }
          ],
          "histogram2d": [
           {
            "colorbar": {
             "outlinewidth": 0,
             "ticks": ""
            },
            "colorscale": [
             [
              0,
              "#0d0887"
             ],
             [
              0.1111111111111111,
              "#46039f"
             ],
             [
              0.2222222222222222,
              "#7201a8"
             ],
             [
              0.3333333333333333,
              "#9c179e"
             ],
             [
              0.4444444444444444,
              "#bd3786"
             ],
             [
              0.5555555555555556,
              "#d8576b"
             ],
             [
              0.6666666666666666,
              "#ed7953"
             ],
             [
              0.7777777777777778,
              "#fb9f3a"
             ],
             [
              0.8888888888888888,
              "#fdca26"
             ],
             [
              1,
              "#f0f921"
             ]
            ],
            "type": "histogram2d"
           }
          ],
          "histogram2dcontour": [
           {
            "colorbar": {
             "outlinewidth": 0,
             "ticks": ""
            },
            "colorscale": [
             [
              0,
              "#0d0887"
             ],
             [
              0.1111111111111111,
              "#46039f"
             ],
             [
              0.2222222222222222,
              "#7201a8"
             ],
             [
              0.3333333333333333,
              "#9c179e"
             ],
             [
              0.4444444444444444,
              "#bd3786"
             ],
             [
              0.5555555555555556,
              "#d8576b"
             ],
             [
              0.6666666666666666,
              "#ed7953"
             ],
             [
              0.7777777777777778,
              "#fb9f3a"
             ],
             [
              0.8888888888888888,
              "#fdca26"
             ],
             [
              1,
              "#f0f921"
             ]
            ],
            "type": "histogram2dcontour"
           }
          ],
          "mesh3d": [
           {
            "colorbar": {
             "outlinewidth": 0,
             "ticks": ""
            },
            "type": "mesh3d"
           }
          ],
          "parcoords": [
           {
            "line": {
             "colorbar": {
              "outlinewidth": 0,
              "ticks": ""
             }
            },
            "type": "parcoords"
           }
          ],
          "pie": [
           {
            "automargin": true,
            "type": "pie"
           }
          ],
          "scatter": [
           {
            "marker": {
             "colorbar": {
              "outlinewidth": 0,
              "ticks": ""
             }
            },
            "type": "scatter"
           }
          ],
          "scatter3d": [
           {
            "line": {
             "colorbar": {
              "outlinewidth": 0,
              "ticks": ""
             }
            },
            "marker": {
             "colorbar": {
              "outlinewidth": 0,
              "ticks": ""
             }
            },
            "type": "scatter3d"
           }
          ],
          "scattercarpet": [
           {
            "marker": {
             "colorbar": {
              "outlinewidth": 0,
              "ticks": ""
             }
            },
            "type": "scattercarpet"
           }
          ],
          "scattergeo": [
           {
            "marker": {
             "colorbar": {
              "outlinewidth": 0,
              "ticks": ""
             }
            },
            "type": "scattergeo"
           }
          ],
          "scattergl": [
           {
            "marker": {
             "colorbar": {
              "outlinewidth": 0,
              "ticks": ""
             }
            },
            "type": "scattergl"
           }
          ],
          "scattermapbox": [
           {
            "marker": {
             "colorbar": {
              "outlinewidth": 0,
              "ticks": ""
             }
            },
            "type": "scattermapbox"
           }
          ],
          "scatterpolar": [
           {
            "marker": {
             "colorbar": {
              "outlinewidth": 0,
              "ticks": ""
             }
            },
            "type": "scatterpolar"
           }
          ],
          "scatterpolargl": [
           {
            "marker": {
             "colorbar": {
              "outlinewidth": 0,
              "ticks": ""
             }
            },
            "type": "scatterpolargl"
           }
          ],
          "scatterternary": [
           {
            "marker": {
             "colorbar": {
              "outlinewidth": 0,
              "ticks": ""
             }
            },
            "type": "scatterternary"
           }
          ],
          "surface": [
           {
            "colorbar": {
             "outlinewidth": 0,
             "ticks": ""
            },
            "colorscale": [
             [
              0,
              "#0d0887"
             ],
             [
              0.1111111111111111,
              "#46039f"
             ],
             [
              0.2222222222222222,
              "#7201a8"
             ],
             [
              0.3333333333333333,
              "#9c179e"
             ],
             [
              0.4444444444444444,
              "#bd3786"
             ],
             [
              0.5555555555555556,
              "#d8576b"
             ],
             [
              0.6666666666666666,
              "#ed7953"
             ],
             [
              0.7777777777777778,
              "#fb9f3a"
             ],
             [
              0.8888888888888888,
              "#fdca26"
             ],
             [
              1,
              "#f0f921"
             ]
            ],
            "type": "surface"
           }
          ],
          "table": [
           {
            "cells": {
             "fill": {
              "color": "#EBF0F8"
             },
             "line": {
              "color": "white"
             }
            },
            "header": {
             "fill": {
              "color": "#C8D4E3"
             },
             "line": {
              "color": "white"
             }
            },
            "type": "table"
           }
          ]
         },
         "layout": {
          "annotationdefaults": {
           "arrowcolor": "#2a3f5f",
           "arrowhead": 0,
           "arrowwidth": 1
          },
          "autotypenumbers": "strict",
          "coloraxis": {
           "colorbar": {
            "outlinewidth": 0,
            "ticks": ""
           }
          },
          "colorscale": {
           "diverging": [
            [
             0,
             "#8e0152"
            ],
            [
             0.1,
             "#c51b7d"
            ],
            [
             0.2,
             "#de77ae"
            ],
            [
             0.3,
             "#f1b6da"
            ],
            [
             0.4,
             "#fde0ef"
            ],
            [
             0.5,
             "#f7f7f7"
            ],
            [
             0.6,
             "#e6f5d0"
            ],
            [
             0.7,
             "#b8e186"
            ],
            [
             0.8,
             "#7fbc41"
            ],
            [
             0.9,
             "#4d9221"
            ],
            [
             1,
             "#276419"
            ]
           ],
           "sequential": [
            [
             0,
             "#0d0887"
            ],
            [
             0.1111111111111111,
             "#46039f"
            ],
            [
             0.2222222222222222,
             "#7201a8"
            ],
            [
             0.3333333333333333,
             "#9c179e"
            ],
            [
             0.4444444444444444,
             "#bd3786"
            ],
            [
             0.5555555555555556,
             "#d8576b"
            ],
            [
             0.6666666666666666,
             "#ed7953"
            ],
            [
             0.7777777777777778,
             "#fb9f3a"
            ],
            [
             0.8888888888888888,
             "#fdca26"
            ],
            [
             1,
             "#f0f921"
            ]
           ],
           "sequentialminus": [
            [
             0,
             "#0d0887"
            ],
            [
             0.1111111111111111,
             "#46039f"
            ],
            [
             0.2222222222222222,
             "#7201a8"
            ],
            [
             0.3333333333333333,
             "#9c179e"
            ],
            [
             0.4444444444444444,
             "#bd3786"
            ],
            [
             0.5555555555555556,
             "#d8576b"
            ],
            [
             0.6666666666666666,
             "#ed7953"
            ],
            [
             0.7777777777777778,
             "#fb9f3a"
            ],
            [
             0.8888888888888888,
             "#fdca26"
            ],
            [
             1,
             "#f0f921"
            ]
           ]
          },
          "colorway": [
           "#636efa",
           "#EF553B",
           "#00cc96",
           "#ab63fa",
           "#FFA15A",
           "#19d3f3",
           "#FF6692",
           "#B6E880",
           "#FF97FF",
           "#FECB52"
          ],
          "font": {
           "color": "#2a3f5f"
          },
          "geo": {
           "bgcolor": "white",
           "lakecolor": "white",
           "landcolor": "#E5ECF6",
           "showlakes": true,
           "showland": true,
           "subunitcolor": "white"
          },
          "hoverlabel": {
           "align": "left"
          },
          "hovermode": "closest",
          "mapbox": {
           "style": "light"
          },
          "paper_bgcolor": "white",
          "plot_bgcolor": "#E5ECF6",
          "polar": {
           "angularaxis": {
            "gridcolor": "white",
            "linecolor": "white",
            "ticks": ""
           },
           "bgcolor": "#E5ECF6",
           "radialaxis": {
            "gridcolor": "white",
            "linecolor": "white",
            "ticks": ""
           }
          },
          "scene": {
           "xaxis": {
            "backgroundcolor": "#E5ECF6",
            "gridcolor": "white",
            "gridwidth": 2,
            "linecolor": "white",
            "showbackground": true,
            "ticks": "",
            "zerolinecolor": "white"
           },
           "yaxis": {
            "backgroundcolor": "#E5ECF6",
            "gridcolor": "white",
            "gridwidth": 2,
            "linecolor": "white",
            "showbackground": true,
            "ticks": "",
            "zerolinecolor": "white"
           },
           "zaxis": {
            "backgroundcolor": "#E5ECF6",
            "gridcolor": "white",
            "gridwidth": 2,
            "linecolor": "white",
            "showbackground": true,
            "ticks": "",
            "zerolinecolor": "white"
           }
          },
          "shapedefaults": {
           "line": {
            "color": "#2a3f5f"
           }
          },
          "ternary": {
           "aaxis": {
            "gridcolor": "white",
            "linecolor": "white",
            "ticks": ""
           },
           "baxis": {
            "gridcolor": "white",
            "linecolor": "white",
            "ticks": ""
           },
           "bgcolor": "#E5ECF6",
           "caxis": {
            "gridcolor": "white",
            "linecolor": "white",
            "ticks": ""
           }
          },
          "title": {
           "x": 0.05
          },
          "xaxis": {
           "automargin": true,
           "gridcolor": "white",
           "linecolor": "white",
           "ticks": "",
           "title": {
            "standoff": 15
           },
           "zerolinecolor": "white",
           "zerolinewidth": 2
          },
          "yaxis": {
           "automargin": true,
           "gridcolor": "white",
           "linecolor": "white",
           "ticks": "",
           "title": {
            "standoff": 15
           },
           "zerolinecolor": "white",
           "zerolinewidth": 2
          }
         }
        },
        "title": {
         "text": "Confirmed COVID-19 cases per day in India"
        },
        "xaxis": {
         "anchor": "y",
         "domain": [
          0,
          1
         ],
         "title": {
          "text": "Date"
         }
        },
        "yaxis": {
         "anchor": "x",
         "domain": [
          0,
          1
         ],
         "title": {
          "text": "Confirmed"
         }
        }
       }
      },
      "text/html": [
       "<div>                            <div id=\"e65f7cdb-0523-4fef-a973-0c1ff99cd0f2\" class=\"plotly-graph-div\" style=\"height:525px; width:100%;\"></div>            <script type=\"text/javascript\">                require([\"plotly\"], function(Plotly) {                    window.PLOTLYENV=window.PLOTLYENV || {};                                    if (document.getElementById(\"e65f7cdb-0523-4fef-a973-0c1ff99cd0f2\")) {                    Plotly.newPlot(                        \"e65f7cdb-0523-4fef-a973-0c1ff99cd0f2\",                        [{\"alignmentgroup\": \"True\", \"hovertemplate\": \"Date=%{x}<br>Confirmed=%{marker.color}<extra></extra>\", \"legendgroup\": \"\", \"marker\": {\"color\": [9431691, 9392919, 9351109, 9309787, 9266705, 9222216, 9177840, 9139865, 9095806, 9050597, 9004365, 8958483, 8912907, 8874290, 8845127, 8814579, 8773479, 8728795, 8683916, 8636011, 8591730, 8553657, 8507754, 8462080, 8411724, 8364086, 8313876, 8267623, 8229313, 8184082, 8137119, 8088851, 8040203, 7990322, 7946429, 7909959, 7864811, 7814682, 7761312, 7706946, 7651107, 7597063, 7550273, 7494551, 7432680, 7370468, 7307097, 7239389, 7175880, 7120538, 7053806, 6979423, 6906151, 6835655, 6757131, 6685082, 6623815, 6549373, 6473544, 6394068, 6312584, 6225763, 6145291, 6074702, 5992532, 5903932, 5818570, 5732518, 5646010, 5562663, 5487580, 5400619, 5308014, 5214677, 5118253, 5020359, 4930236, 4846427, 4754356, 4659984, 4562414, 4465863, 4370128, 4280422, 4204613, 4113811, 4023179, 3936747, 3853406, 3769523, 3691166, 3621245, 3542733, 3463972, 3387500, 3310234, 3224547, 3167323, 3106348, 3044940, 2975701, 2905825, 2836925, 2767253, 2702681, 2647663, 2589952, 2525922, 2461190, 2396637, 2329638, 2268675, 2215074, 2153010, 2088611, 2027074, 1964536, 1908254, 1855745, 1803695, 1750723, 1695988, 1634746, 1581963, 1531669, 1480073, 1435616, 1385635, 1337024, 1288108, 1238798, 1193078, 1155338, 1118206, 1077781, 1039084, 1003832, 968857, 936181, 906752, 878254, 849522, 820916, 793802, 767296, 742417, 719664, 697413, 673165, 648315, 625544, 604641, 585481, 566840, 548318, 528859, 508953, 490401, 473105, 456183, 440215, 425282, 410451, 395048, 380532, 366946, 354065, 343091, 332424, 320922, 308993, 297535, 286605, 276146, 265928, 257486, 246622, 236184, 226713, 216824, 207191, 198370, 190609, 181827, 173491, 165386, 158086, 150793, 144950, 138536, 131423, 124794, 118226, 112028, 106475, 100328, 95698, 90648, 85784, 81997, 78055, 74292, 70768, 67161, 62808, 59695, 56351, 52987, 49400, 46437, 42505, 39699, 37257, 34863, 33062, 31324, 29451, 27890, 26283, 24530, 23077, 21370, 20080, 18539, 17615, 15722, 14352, 13430, 12322, 11487, 10453, 9205, 8446, 7598, 6725, 5916, 5311, 4778, 3588, 3082, 2567, 2543, 1998, 1397, 1251, 1024, 987, 887, 727, 657, 536, 499, 396, 330, 244, 194, 156, 142, 119, 113, 102, 82, 73, 62, 56, 43, 39, 34, 31, 30, 28, 5, 5, 3, 3, 3, 3, 3, 3, 3, 3, 3, 3, 3, 3, 3, 3, 3, 3, 3, 3, 3, 3, 3, 3, 3, 3, 3, 3, 3, 3, 2, 1, 1, 1, 0, 0, 0, 0, 0, 0, 0, 0], \"coloraxis\": \"coloraxis\"}, \"name\": \"\", \"offsetgroup\": \"\", \"orientation\": \"v\", \"showlegend\": false, \"textposition\": \"auto\", \"type\": \"bar\", \"x\": [\"2020-11-29\", \"2020-11-28\", \"2020-11-27\", \"2020-11-26\", \"2020-11-25\", \"2020-11-24\", \"2020-11-23\", \"2020-11-22\", \"2020-11-21\", \"2020-11-20\", \"2020-11-19\", \"2020-11-18\", \"2020-11-17\", \"2020-11-16\", \"2020-11-15\", \"2020-11-14\", \"2020-11-13\", \"2020-11-12\", \"2020-11-11\", \"2020-11-10\", \"2020-11-09\", \"2020-11-08\", \"2020-11-07\", \"2020-11-06\", \"2020-11-05\", \"2020-11-04\", \"2020-11-03\", \"2020-11-02\", \"2020-11-01\", \"2020-10-31\", \"2020-10-30\", \"2020-10-29\", \"2020-10-28\", \"2020-10-27\", \"2020-10-26\", \"2020-10-25\", \"2020-10-24\", \"2020-10-23\", \"2020-10-22\", \"2020-10-21\", \"2020-10-20\", \"2020-10-19\", \"2020-10-18\", \"2020-10-17\", \"2020-10-16\", \"2020-10-15\", \"2020-10-14\", \"2020-10-13\", \"2020-10-12\", \"2020-10-11\", \"2020-10-10\", \"2020-10-09\", \"2020-10-08\", \"2020-10-07\", \"2020-10-06\", \"2020-10-05\", \"2020-10-04\", \"2020-10-03\", \"2020-10-02\", \"2020-10-01\", \"2020-09-30\", \"2020-09-29\", \"2020-09-28\", \"2020-09-27\", \"2020-09-26\", \"2020-09-25\", \"2020-09-24\", \"2020-09-23\", \"2020-09-22\", \"2020-09-21\", \"2020-09-20\", \"2020-09-19\", \"2020-09-18\", \"2020-09-17\", \"2020-09-16\", \"2020-09-15\", \"2020-09-14\", \"2020-09-13\", \"2020-09-12\", \"2020-09-11\", \"2020-09-10\", \"2020-09-09\", \"2020-09-08\", \"2020-09-07\", \"2020-09-06\", \"2020-09-05\", \"2020-09-04\", \"2020-09-03\", \"2020-09-02\", \"2020-09-01\", \"2020-08-31\", \"2020-08-30\", \"2020-08-29\", \"2020-08-28\", \"2020-08-27\", \"2020-08-26\", \"2020-08-25\", \"2020-08-24\", \"2020-08-23\", \"2020-08-22\", \"2020-08-21\", \"2020-08-20\", \"2020-08-19\", \"2020-08-18\", \"2020-08-17\", \"2020-08-16\", \"2020-08-15\", \"2020-08-14\", \"2020-08-13\", \"2020-08-12\", \"2020-08-11\", \"2020-08-10\", \"2020-08-09\", \"2020-08-08\", \"2020-08-07\", \"2020-08-06\", \"2020-08-05\", \"2020-08-04\", \"2020-08-03\", \"2020-08-02\", \"2020-08-01\", \"2020-07-31\", \"2020-07-30\", \"2020-07-29\", \"2020-07-28\", \"2020-07-27\", \"2020-07-26\", \"2020-07-25\", \"2020-07-24\", \"2020-07-23\", \"2020-07-22\", \"2020-07-21\", \"2020-07-20\", \"2020-07-19\", \"2020-07-18\", \"2020-07-17\", \"2020-07-16\", \"2020-07-15\", \"2020-07-14\", \"2020-07-13\", \"2020-07-12\", \"2020-07-11\", \"2020-07-10\", \"2020-07-09\", \"2020-07-08\", \"2020-07-07\", \"2020-07-06\", \"2020-07-05\", \"2020-07-04\", \"2020-07-03\", \"2020-07-02\", \"2020-07-01\", \"2020-06-30\", \"2020-06-29\", \"2020-06-28\", \"2020-06-27\", \"2020-06-26\", \"2020-06-25\", \"2020-06-24\", \"2020-06-23\", \"2020-06-22\", \"2020-06-21\", \"2020-06-20\", \"2020-06-19\", \"2020-06-18\", \"2020-06-17\", \"2020-06-16\", \"2020-06-15\", \"2020-06-14\", \"2020-06-13\", \"2020-06-12\", \"2020-06-11\", \"2020-06-10\", \"2020-06-09\", \"2020-06-08\", \"2020-06-07\", \"2020-06-06\", \"2020-06-05\", \"2020-06-04\", \"2020-06-03\", \"2020-06-02\", \"2020-06-01\", \"2020-05-31\", \"2020-05-30\", \"2020-05-29\", \"2020-05-28\", \"2020-05-27\", \"2020-05-26\", \"2020-05-25\", \"2020-05-24\", \"2020-05-23\", \"2020-05-22\", \"2020-05-21\", \"2020-05-20\", \"2020-05-19\", \"2020-05-18\", \"2020-05-17\", \"2020-05-16\", \"2020-05-15\", \"2020-05-14\", \"2020-05-13\", \"2020-05-12\", \"2020-05-11\", \"2020-05-10\", \"2020-05-09\", \"2020-05-08\", \"2020-05-07\", \"2020-05-06\", \"2020-05-05\", \"2020-05-04\", \"2020-05-03\", \"2020-05-02\", \"2020-05-01\", \"2020-04-30\", \"2020-04-29\", \"2020-04-28\", \"2020-04-27\", \"2020-04-26\", \"2020-04-25\", \"2020-04-24\", \"2020-04-23\", \"2020-04-22\", \"2020-04-21\", \"2020-04-20\", \"2020-04-19\", \"2020-04-18\", \"2020-04-17\", \"2020-04-16\", \"2020-04-15\", \"2020-04-14\", \"2020-04-13\", \"2020-04-12\", \"2020-04-11\", \"2020-04-10\", \"2020-04-09\", \"2020-04-08\", \"2020-04-07\", \"2020-04-06\", \"2020-04-05\", \"2020-04-04\", \"2020-04-03\", \"2020-04-02\", \"2020-04-01\", \"2020-03-31\", \"2020-03-30\", \"2020-03-29\", \"2020-03-28\", \"2020-03-27\", \"2020-03-26\", \"2020-03-25\", \"2020-03-24\", \"2020-03-23\", \"2020-03-22\", \"2020-03-21\", \"2020-03-20\", \"2020-03-19\", \"2020-03-18\", \"2020-03-17\", \"2020-03-16\", \"2020-03-15\", \"2020-03-14\", \"2020-03-13\", \"2020-03-12\", \"2020-03-11\", \"2020-03-10\", \"2020-03-09\", \"2020-03-08\", \"2020-03-07\", \"2020-03-06\", \"2020-03-05\", \"2020-03-04\", \"2020-03-02\", \"2020-03-03\", \"2020-02-29\", \"2020-02-11\", \"2020-02-10\", \"2020-02-09\", \"2020-02-08\", \"2020-02-07\", \"2020-02-06\", \"2020-02-05\", \"2020-02-03\", \"2020-02-04\", \"2020-02-12\", \"2020-02-13\", \"2020-02-14\", \"2020-02-15\", \"2020-02-28\", \"2020-02-27\", \"2020-02-26\", \"2020-02-25\", \"2020-02-24\", \"2020-03-01\", \"2020-02-23\", \"2020-02-21\", \"2020-02-20\", \"2020-02-19\", \"2020-02-18\", \"2020-02-17\", \"2020-02-16\", \"2020-02-22\", \"2020-02-02\", \"2020-01-31\", \"2020-01-30\", \"2020-02-01\", \"2020-01-24\", \"2020-01-22\", \"2020-01-23\", \"2020-01-25\", \"2020-01-27\", \"2020-01-28\", \"2020-01-29\", \"2020-01-26\"], \"xaxis\": \"x\", \"y\": [9431691, 9392919, 9351109, 9309787, 9266705, 9222216, 9177840, 9139865, 9095806, 9050597, 9004365, 8958483, 8912907, 8874290, 8845127, 8814579, 8773479, 8728795, 8683916, 8636011, 8591730, 8553657, 8507754, 8462080, 8411724, 8364086, 8313876, 8267623, 8229313, 8184082, 8137119, 8088851, 8040203, 7990322, 7946429, 7909959, 7864811, 7814682, 7761312, 7706946, 7651107, 7597063, 7550273, 7494551, 7432680, 7370468, 7307097, 7239389, 7175880, 7120538, 7053806, 6979423, 6906151, 6835655, 6757131, 6685082, 6623815, 6549373, 6473544, 6394068, 6312584, 6225763, 6145291, 6074702, 5992532, 5903932, 5818570, 5732518, 5646010, 5562663, 5487580, 5400619, 5308014, 5214677, 5118253, 5020359, 4930236, 4846427, 4754356, 4659984, 4562414, 4465863, 4370128, 4280422, 4204613, 4113811, 4023179, 3936747, 3853406, 3769523, 3691166, 3621245, 3542733, 3463972, 3387500, 3310234, 3224547, 3167323, 3106348, 3044940, 2975701, 2905825, 2836925, 2767253, 2702681, 2647663, 2589952, 2525922, 2461190, 2396637, 2329638, 2268675, 2215074, 2153010, 2088611, 2027074, 1964536, 1908254, 1855745, 1803695, 1750723, 1695988, 1634746, 1581963, 1531669, 1480073, 1435616, 1385635, 1337024, 1288108, 1238798, 1193078, 1155338, 1118206, 1077781, 1039084, 1003832, 968857, 936181, 906752, 878254, 849522, 820916, 793802, 767296, 742417, 719664, 697413, 673165, 648315, 625544, 604641, 585481, 566840, 548318, 528859, 508953, 490401, 473105, 456183, 440215, 425282, 410451, 395048, 380532, 366946, 354065, 343091, 332424, 320922, 308993, 297535, 286605, 276146, 265928, 257486, 246622, 236184, 226713, 216824, 207191, 198370, 190609, 181827, 173491, 165386, 158086, 150793, 144950, 138536, 131423, 124794, 118226, 112028, 106475, 100328, 95698, 90648, 85784, 81997, 78055, 74292, 70768, 67161, 62808, 59695, 56351, 52987, 49400, 46437, 42505, 39699, 37257, 34863, 33062, 31324, 29451, 27890, 26283, 24530, 23077, 21370, 20080, 18539, 17615, 15722, 14352, 13430, 12322, 11487, 10453, 9205, 8446, 7598, 6725, 5916, 5311, 4778, 3588, 3082, 2567, 2543, 1998, 1397, 1251, 1024, 987, 887, 727, 657, 536, 499, 396, 330, 244, 194, 156, 142, 119, 113, 102, 82, 73, 62, 56, 43, 39, 34, 31, 30, 28, 5, 5, 3, 3, 3, 3, 3, 3, 3, 3, 3, 3, 3, 3, 3, 3, 3, 3, 3, 3, 3, 3, 3, 3, 3, 3, 3, 3, 3, 3, 2, 1, 1, 1, 0, 0, 0, 0, 0, 0, 0, 0], \"yaxis\": \"y\"}],                        {\"barmode\": \"relative\", \"coloraxis\": {\"colorbar\": {\"title\": {\"text\": \"Confirmed\"}}, \"colorscale\": [[0.0, \"rgb(237, 229, 207)\"], [0.16666666666666666, \"rgb(224, 194, 162)\"], [0.3333333333333333, \"rgb(211, 156, 131)\"], [0.5, \"rgb(193, 118, 111)\"], [0.6666666666666666, \"rgb(166, 84, 97)\"], [0.8333333333333334, \"rgb(129, 55, 83)\"], [1.0, \"rgb(84, 31, 63)\"]]}, \"legend\": {\"tracegroupgap\": 0}, \"margin\": {\"t\": 60}, \"template\": {\"data\": {\"bar\": [{\"error_x\": {\"color\": \"#2a3f5f\"}, \"error_y\": {\"color\": \"#2a3f5f\"}, \"marker\": {\"line\": {\"color\": \"#E5ECF6\", \"width\": 0.5}}, \"type\": \"bar\"}], \"barpolar\": [{\"marker\": {\"line\": {\"color\": \"#E5ECF6\", \"width\": 0.5}}, \"type\": \"barpolar\"}], \"carpet\": [{\"aaxis\": {\"endlinecolor\": \"#2a3f5f\", \"gridcolor\": \"white\", \"linecolor\": \"white\", \"minorgridcolor\": \"white\", \"startlinecolor\": \"#2a3f5f\"}, \"baxis\": {\"endlinecolor\": \"#2a3f5f\", \"gridcolor\": \"white\", \"linecolor\": \"white\", \"minorgridcolor\": \"white\", \"startlinecolor\": \"#2a3f5f\"}, \"type\": \"carpet\"}], \"choropleth\": [{\"colorbar\": {\"outlinewidth\": 0, \"ticks\": \"\"}, \"type\": \"choropleth\"}], \"contour\": [{\"colorbar\": {\"outlinewidth\": 0, \"ticks\": \"\"}, \"colorscale\": [[0.0, \"#0d0887\"], [0.1111111111111111, \"#46039f\"], [0.2222222222222222, \"#7201a8\"], [0.3333333333333333, \"#9c179e\"], [0.4444444444444444, \"#bd3786\"], [0.5555555555555556, \"#d8576b\"], [0.6666666666666666, \"#ed7953\"], [0.7777777777777778, \"#fb9f3a\"], [0.8888888888888888, \"#fdca26\"], [1.0, \"#f0f921\"]], \"type\": \"contour\"}], \"contourcarpet\": [{\"colorbar\": {\"outlinewidth\": 0, \"ticks\": \"\"}, \"type\": \"contourcarpet\"}], \"heatmap\": [{\"colorbar\": {\"outlinewidth\": 0, \"ticks\": \"\"}, \"colorscale\": [[0.0, \"#0d0887\"], [0.1111111111111111, \"#46039f\"], [0.2222222222222222, \"#7201a8\"], [0.3333333333333333, \"#9c179e\"], [0.4444444444444444, \"#bd3786\"], [0.5555555555555556, \"#d8576b\"], [0.6666666666666666, \"#ed7953\"], [0.7777777777777778, \"#fb9f3a\"], [0.8888888888888888, \"#fdca26\"], [1.0, \"#f0f921\"]], \"type\": \"heatmap\"}], \"heatmapgl\": [{\"colorbar\": {\"outlinewidth\": 0, \"ticks\": \"\"}, \"colorscale\": [[0.0, \"#0d0887\"], [0.1111111111111111, \"#46039f\"], [0.2222222222222222, \"#7201a8\"], [0.3333333333333333, \"#9c179e\"], [0.4444444444444444, \"#bd3786\"], [0.5555555555555556, \"#d8576b\"], [0.6666666666666666, \"#ed7953\"], [0.7777777777777778, \"#fb9f3a\"], [0.8888888888888888, \"#fdca26\"], [1.0, \"#f0f921\"]], \"type\": \"heatmapgl\"}], \"histogram\": [{\"marker\": {\"colorbar\": {\"outlinewidth\": 0, \"ticks\": \"\"}}, \"type\": \"histogram\"}], \"histogram2d\": [{\"colorbar\": {\"outlinewidth\": 0, \"ticks\": \"\"}, \"colorscale\": [[0.0, \"#0d0887\"], [0.1111111111111111, \"#46039f\"], [0.2222222222222222, \"#7201a8\"], [0.3333333333333333, \"#9c179e\"], [0.4444444444444444, \"#bd3786\"], [0.5555555555555556, \"#d8576b\"], [0.6666666666666666, \"#ed7953\"], [0.7777777777777778, \"#fb9f3a\"], [0.8888888888888888, \"#fdca26\"], [1.0, \"#f0f921\"]], \"type\": \"histogram2d\"}], \"histogram2dcontour\": [{\"colorbar\": {\"outlinewidth\": 0, \"ticks\": \"\"}, \"colorscale\": [[0.0, \"#0d0887\"], [0.1111111111111111, \"#46039f\"], [0.2222222222222222, \"#7201a8\"], [0.3333333333333333, \"#9c179e\"], [0.4444444444444444, \"#bd3786\"], [0.5555555555555556, \"#d8576b\"], [0.6666666666666666, \"#ed7953\"], [0.7777777777777778, \"#fb9f3a\"], [0.8888888888888888, \"#fdca26\"], [1.0, \"#f0f921\"]], \"type\": \"histogram2dcontour\"}], \"mesh3d\": [{\"colorbar\": {\"outlinewidth\": 0, \"ticks\": \"\"}, \"type\": \"mesh3d\"}], \"parcoords\": [{\"line\": {\"colorbar\": {\"outlinewidth\": 0, \"ticks\": \"\"}}, \"type\": \"parcoords\"}], \"pie\": [{\"automargin\": true, \"type\": \"pie\"}], \"scatter\": [{\"marker\": {\"colorbar\": {\"outlinewidth\": 0, \"ticks\": \"\"}}, \"type\": \"scatter\"}], \"scatter3d\": [{\"line\": {\"colorbar\": {\"outlinewidth\": 0, \"ticks\": \"\"}}, \"marker\": {\"colorbar\": {\"outlinewidth\": 0, \"ticks\": \"\"}}, \"type\": \"scatter3d\"}], \"scattercarpet\": [{\"marker\": {\"colorbar\": {\"outlinewidth\": 0, \"ticks\": \"\"}}, \"type\": \"scattercarpet\"}], \"scattergeo\": [{\"marker\": {\"colorbar\": {\"outlinewidth\": 0, \"ticks\": \"\"}}, \"type\": \"scattergeo\"}], \"scattergl\": [{\"marker\": {\"colorbar\": {\"outlinewidth\": 0, \"ticks\": \"\"}}, \"type\": \"scattergl\"}], \"scattermapbox\": [{\"marker\": {\"colorbar\": {\"outlinewidth\": 0, \"ticks\": \"\"}}, \"type\": \"scattermapbox\"}], \"scatterpolar\": [{\"marker\": {\"colorbar\": {\"outlinewidth\": 0, \"ticks\": \"\"}}, \"type\": \"scatterpolar\"}], \"scatterpolargl\": [{\"marker\": {\"colorbar\": {\"outlinewidth\": 0, \"ticks\": \"\"}}, \"type\": \"scatterpolargl\"}], \"scatterternary\": [{\"marker\": {\"colorbar\": {\"outlinewidth\": 0, \"ticks\": \"\"}}, \"type\": \"scatterternary\"}], \"surface\": [{\"colorbar\": {\"outlinewidth\": 0, \"ticks\": \"\"}, \"colorscale\": [[0.0, \"#0d0887\"], [0.1111111111111111, \"#46039f\"], [0.2222222222222222, \"#7201a8\"], [0.3333333333333333, \"#9c179e\"], [0.4444444444444444, \"#bd3786\"], [0.5555555555555556, \"#d8576b\"], [0.6666666666666666, \"#ed7953\"], [0.7777777777777778, \"#fb9f3a\"], [0.8888888888888888, \"#fdca26\"], [1.0, \"#f0f921\"]], \"type\": \"surface\"}], \"table\": [{\"cells\": {\"fill\": {\"color\": \"#EBF0F8\"}, \"line\": {\"color\": \"white\"}}, \"header\": {\"fill\": {\"color\": \"#C8D4E3\"}, \"line\": {\"color\": \"white\"}}, \"type\": \"table\"}]}, \"layout\": {\"annotationdefaults\": {\"arrowcolor\": \"#2a3f5f\", \"arrowhead\": 0, \"arrowwidth\": 1}, \"autotypenumbers\": \"strict\", \"coloraxis\": {\"colorbar\": {\"outlinewidth\": 0, \"ticks\": \"\"}}, \"colorscale\": {\"diverging\": [[0, \"#8e0152\"], [0.1, \"#c51b7d\"], [0.2, \"#de77ae\"], [0.3, \"#f1b6da\"], [0.4, \"#fde0ef\"], [0.5, \"#f7f7f7\"], [0.6, \"#e6f5d0\"], [0.7, \"#b8e186\"], [0.8, \"#7fbc41\"], [0.9, \"#4d9221\"], [1, \"#276419\"]], \"sequential\": [[0.0, \"#0d0887\"], [0.1111111111111111, \"#46039f\"], [0.2222222222222222, \"#7201a8\"], [0.3333333333333333, \"#9c179e\"], [0.4444444444444444, \"#bd3786\"], [0.5555555555555556, \"#d8576b\"], [0.6666666666666666, \"#ed7953\"], [0.7777777777777778, \"#fb9f3a\"], [0.8888888888888888, \"#fdca26\"], [1.0, \"#f0f921\"]], \"sequentialminus\": [[0.0, \"#0d0887\"], [0.1111111111111111, \"#46039f\"], [0.2222222222222222, \"#7201a8\"], [0.3333333333333333, \"#9c179e\"], [0.4444444444444444, \"#bd3786\"], [0.5555555555555556, \"#d8576b\"], [0.6666666666666666, \"#ed7953\"], [0.7777777777777778, \"#fb9f3a\"], [0.8888888888888888, \"#fdca26\"], [1.0, \"#f0f921\"]]}, \"colorway\": [\"#636efa\", \"#EF553B\", \"#00cc96\", \"#ab63fa\", \"#FFA15A\", \"#19d3f3\", \"#FF6692\", \"#B6E880\", \"#FF97FF\", \"#FECB52\"], \"font\": {\"color\": \"#2a3f5f\"}, \"geo\": {\"bgcolor\": \"white\", \"lakecolor\": \"white\", \"landcolor\": \"#E5ECF6\", \"showlakes\": true, \"showland\": true, \"subunitcolor\": \"white\"}, \"hoverlabel\": {\"align\": \"left\"}, \"hovermode\": \"closest\", \"mapbox\": {\"style\": \"light\"}, \"paper_bgcolor\": \"white\", \"plot_bgcolor\": \"#E5ECF6\", \"polar\": {\"angularaxis\": {\"gridcolor\": \"white\", \"linecolor\": \"white\", \"ticks\": \"\"}, \"bgcolor\": \"#E5ECF6\", \"radialaxis\": {\"gridcolor\": \"white\", \"linecolor\": \"white\", \"ticks\": \"\"}}, \"scene\": {\"xaxis\": {\"backgroundcolor\": \"#E5ECF6\", \"gridcolor\": \"white\", \"gridwidth\": 2, \"linecolor\": \"white\", \"showbackground\": true, \"ticks\": \"\", \"zerolinecolor\": \"white\"}, \"yaxis\": {\"backgroundcolor\": \"#E5ECF6\", \"gridcolor\": \"white\", \"gridwidth\": 2, \"linecolor\": \"white\", \"showbackground\": true, \"ticks\": \"\", \"zerolinecolor\": \"white\"}, \"zaxis\": {\"backgroundcolor\": \"#E5ECF6\", \"gridcolor\": \"white\", \"gridwidth\": 2, \"linecolor\": \"white\", \"showbackground\": true, \"ticks\": \"\", \"zerolinecolor\": \"white\"}}, \"shapedefaults\": {\"line\": {\"color\": \"#2a3f5f\"}}, \"ternary\": {\"aaxis\": {\"gridcolor\": \"white\", \"linecolor\": \"white\", \"ticks\": \"\"}, \"baxis\": {\"gridcolor\": \"white\", \"linecolor\": \"white\", \"ticks\": \"\"}, \"bgcolor\": \"#E5ECF6\", \"caxis\": {\"gridcolor\": \"white\", \"linecolor\": \"white\", \"ticks\": \"\"}}, \"title\": {\"x\": 0.05}, \"xaxis\": {\"automargin\": true, \"gridcolor\": \"white\", \"linecolor\": \"white\", \"ticks\": \"\", \"title\": {\"standoff\": 15}, \"zerolinecolor\": \"white\", \"zerolinewidth\": 2}, \"yaxis\": {\"automargin\": true, \"gridcolor\": \"white\", \"linecolor\": \"white\", \"ticks\": \"\", \"title\": {\"standoff\": 15}, \"zerolinecolor\": \"white\", \"zerolinewidth\": 2}}}, \"title\": {\"text\": \"Confirmed COVID-19 cases per day in India\"}, \"xaxis\": {\"anchor\": \"y\", \"domain\": [0.0, 1.0], \"title\": {\"text\": \"Date\"}}, \"yaxis\": {\"anchor\": \"x\", \"domain\": [0.0, 1.0], \"title\": {\"text\": \"Confirmed\"}}},                        {\"responsive\": true}                    ).then(function(){\n",
       "                            \n",
       "var gd = document.getElementById('e65f7cdb-0523-4fef-a973-0c1ff99cd0f2');\n",
       "var x = new MutationObserver(function (mutations, observer) {{\n",
       "        var display = window.getComputedStyle(gd).display;\n",
       "        if (!display || display === 'none') {{\n",
       "            console.log([gd, 'removed!']);\n",
       "            Plotly.purge(gd);\n",
       "            observer.disconnect();\n",
       "        }}\n",
       "}});\n",
       "\n",
       "// Listen for the removal of the full notebook cells\n",
       "var notebookContainer = gd.closest('#notebook-container');\n",
       "if (notebookContainer) {{\n",
       "    x.observe(notebookContainer, {childList: true});\n",
       "}}\n",
       "\n",
       "// Listen for the clearing of the current output cell\n",
       "var outputEl = gd.closest('.output');\n",
       "if (outputEl) {{\n",
       "    x.observe(outputEl, {childList: true});\n",
       "}}\n",
       "\n",
       "                        })                };                });            </script>        </div>"
      ]
     },
     "metadata": {},
     "output_type": "display_data"
    }
   ],
   "source": [
    "df_by_date = pd.DataFrame(data.fillna('NA').groupby(['Country','Date'])['Confirmed'].sum().sort_values().reset_index())\n",
    "\n",
    "fig = px.bar(df_by_date.loc[(df_by_date['Country'] == 'India') &(df_by_date.Date >= '2020-01-22')].sort_values('Confirmed',ascending = False), \n",
    "             x='Date', y='Confirmed', color=\"Confirmed\", color_continuous_scale=px.colors.sequential.Brwnyl)\n",
    "fig.update_layout(title_text='Confirmed COVID-19 cases per day in India')\n",
    "fig.show()"
   ]
  },
  {
   "cell_type": "markdown",
   "metadata": {},
   "source": [
    "##### The spread of the COVID-19 in India started from April 28.The spread was reaching above 6 Million at the end of September"
   ]
  },
  {
   "cell_type": "markdown",
   "metadata": {},
   "source": [
    "# Confirmed COVID-19 cases per day in Brazil"
   ]
  },
  {
   "cell_type": "code",
   "execution_count": 21,
   "metadata": {},
   "outputs": [
    {
     "data": {
      "application/vnd.plotly.v1+json": {
       "config": {
        "plotlyServerURL": "https://plot.ly"
       },
       "data": [
        {
         "alignmentgroup": "True",
         "hovertemplate": "Date=%{x}<br>Confirmed=%{marker.color}<extra></extra>",
         "legendgroup": "",
         "marker": {
          "color": [
           6314740,
           6290272,
           6238350,
           6204220,
           6166606,
           6118708,
           6087608,
           6071401,
           6052786,
           6020164,
           5981767,
           5945849,
           5911758,
           5876464,
           5863093,
           5848959,
           5810652,
           5781582,
           5747660,
           5699005,
           5675032,
           5664115,
           5653561,
           5631181,
           5590025,
           5590025,
           5566049,
           5554206,
           5545705,
           5535605,
           5516658,
           5494376,
           5468270,
           5439641,
           5409854,
           5394128,
           5380635,
           5353656,
           5323630,
           5298772,
           5273954,
           5250727,
           5224362,
           5224362,
           5200300,
           5169386,
           5140863,
           5113628,
           5103408,
           5094979,
           5082637,
           5055888,
           5028444,
           5000694,
           4969141,
           4927235,
           4915289,
           4906833,
           4847092,
           4847092,
           4810935,
           4777522,
           4745464,
           4732309,
           4717991,
           4689613,
           4657702,
           4591364,
           4591364,
           4558040,
           4544629,
           4528240,
           4495183,
           4455386,
           4419083,
           4382263,
           4345610,
           4330455,
           4315687,
           4282164,
           4238446,
           4197889,
           4162073,
           4147794,
           4137521,
           4123000,
           4091801,
           4041638,
           3997865,
           3950931,
           3908272,
           3862311,
           3846153,
           3804803,
           3761391,
           3717156,
           3669995,
           3622861,
           3605783,
           3582362,
           3532330,
           3501975,
           3456652,
           3407354,
           3359570,
           3340197,
           3317096,
           3275520,
           3224876,
           3164785,
           3109630,
           3057470,
           3035422,
           3012412,
           2962442,
           2912212,
           2859073,
           2801921,
           2750318,
           2733677,
           2707877,
           2662485,
           2610102,
           2552265,
           2483191,
           2442375,
           2419091,
           2394513,
           2343366,
           2287475,
           2227514,
           2159654,
           2118646,
           2098389,
           2074860,
           2046328,
           2012151,
           1966748,
           1926824,
           1884967,
           1864681,
           1839850,
           1800827,
           1755779,
           1713160,
           1668589,
           1623284,
           1603055,
           1577004,
           1539081,
           1496858,
           1448753,
           1402041,
           1368195,
           1344143,
           1313667,
           1274974,
           1228114,
           1188631,
           1145906,
           1106470,
           1083341,
           1067579,
           1032913,
           978142,
           955377,
           923189,
           888271,
           867624,
           850514,
           828810,
           802828,
           772416,
           739503,
           707412,
           691758,
           672846,
           645771,
           614941,
           584016,
           555383,
           526447,
           514849,
           498440,
           465166,
           438238,
           411821,
           391222,
           374898,
           363211,
           347398,
           330890,
           310087,
           291579,
           271885,
           255368,
           241080,
           233511,
           220291,
           203165,
           190137,
           178214,
           169594,
           162699,
           156061,
           146894,
           135773,
           126611,
           115455,
           108620,
           101826,
           97100,
           92202,
           87187,
           79685,
           73235,
           67446,
           63100,
           59324,
           54043,
           50036,
           45757,
           43079,
           40743,
           38654,
           36658,
           33682,
           30425,
           28320,
           25262,
           23430,
           22192,
           20727,
           19638,
           18092,
           16170,
           14034,
           12161,
           11130,
           10360,
           9056,
           8044,
           6836,
           5717,
           4579,
           4256,
           3904,
           3417,
           2985,
           2554,
           2247,
           1924,
           1546,
           1021,
           793,
           621,
           372,
           321,
           200,
           162,
           151,
           151,
           52,
           38,
           31,
           25,
           20,
           13,
           13,
           4,
           4,
           2,
           2,
           2,
           2,
           1,
           1,
           1,
           0,
           0,
           0,
           0,
           0,
           0,
           0,
           0,
           0,
           0,
           0,
           0,
           0,
           0,
           0,
           0,
           0,
           0,
           0,
           0,
           0,
           0,
           0,
           0,
           0,
           0,
           0,
           0,
           0,
           0,
           0,
           0,
           0,
           0,
           0
          ],
          "coloraxis": "coloraxis"
         },
         "name": "",
         "offsetgroup": "",
         "orientation": "v",
         "showlegend": false,
         "textposition": "auto",
         "type": "bar",
         "x": [
          "2020-11-29",
          "2020-11-28",
          "2020-11-27",
          "2020-11-26",
          "2020-11-25",
          "2020-11-24",
          "2020-11-23",
          "2020-11-22",
          "2020-11-21",
          "2020-11-20",
          "2020-11-19",
          "2020-11-18",
          "2020-11-17",
          "2020-11-16",
          "2020-11-15",
          "2020-11-14",
          "2020-11-13",
          "2020-11-12",
          "2020-11-11",
          "2020-11-10",
          "2020-11-09",
          "2020-11-08",
          "2020-11-07",
          "2020-11-06",
          "2020-11-05",
          "2020-11-04",
          "2020-11-03",
          "2020-11-02",
          "2020-11-01",
          "2020-10-31",
          "2020-10-30",
          "2020-10-29",
          "2020-10-28",
          "2020-10-27",
          "2020-10-26",
          "2020-10-25",
          "2020-10-24",
          "2020-10-23",
          "2020-10-22",
          "2020-10-21",
          "2020-10-20",
          "2020-10-19",
          "2020-10-18",
          "2020-10-17",
          "2020-10-16",
          "2020-10-15",
          "2020-10-14",
          "2020-10-13",
          "2020-10-12",
          "2020-10-11",
          "2020-10-10",
          "2020-10-09",
          "2020-10-08",
          "2020-10-07",
          "2020-10-06",
          "2020-10-05",
          "2020-10-04",
          "2020-10-03",
          "2020-10-02",
          "2020-10-01",
          "2020-09-30",
          "2020-09-29",
          "2020-09-28",
          "2020-09-27",
          "2020-09-26",
          "2020-09-25",
          "2020-09-24",
          "2020-09-22",
          "2020-09-23",
          "2020-09-21",
          "2020-09-20",
          "2020-09-19",
          "2020-09-18",
          "2020-09-17",
          "2020-09-16",
          "2020-09-15",
          "2020-09-14",
          "2020-09-13",
          "2020-09-12",
          "2020-09-11",
          "2020-09-10",
          "2020-09-09",
          "2020-09-08",
          "2020-09-07",
          "2020-09-06",
          "2020-09-05",
          "2020-09-04",
          "2020-09-03",
          "2020-09-02",
          "2020-09-01",
          "2020-08-31",
          "2020-08-30",
          "2020-08-29",
          "2020-08-28",
          "2020-08-27",
          "2020-08-26",
          "2020-08-25",
          "2020-08-24",
          "2020-08-23",
          "2020-08-22",
          "2020-08-21",
          "2020-08-20",
          "2020-08-19",
          "2020-08-18",
          "2020-08-17",
          "2020-08-16",
          "2020-08-15",
          "2020-08-14",
          "2020-08-13",
          "2020-08-12",
          "2020-08-11",
          "2020-08-10",
          "2020-08-09",
          "2020-08-08",
          "2020-08-07",
          "2020-08-06",
          "2020-08-05",
          "2020-08-04",
          "2020-08-03",
          "2020-08-02",
          "2020-08-01",
          "2020-07-31",
          "2020-07-30",
          "2020-07-29",
          "2020-07-28",
          "2020-07-27",
          "2020-07-26",
          "2020-07-25",
          "2020-07-24",
          "2020-07-23",
          "2020-07-22",
          "2020-07-21",
          "2020-07-20",
          "2020-07-19",
          "2020-07-18",
          "2020-07-17",
          "2020-07-16",
          "2020-07-15",
          "2020-07-14",
          "2020-07-13",
          "2020-07-12",
          "2020-07-11",
          "2020-07-10",
          "2020-07-09",
          "2020-07-08",
          "2020-07-07",
          "2020-07-06",
          "2020-07-05",
          "2020-07-04",
          "2020-07-03",
          "2020-07-02",
          "2020-07-01",
          "2020-06-30",
          "2020-06-29",
          "2020-06-28",
          "2020-06-27",
          "2020-06-26",
          "2020-06-25",
          "2020-06-24",
          "2020-06-23",
          "2020-06-22",
          "2020-06-21",
          "2020-06-20",
          "2020-06-19",
          "2020-06-18",
          "2020-06-17",
          "2020-06-16",
          "2020-06-15",
          "2020-06-14",
          "2020-06-13",
          "2020-06-12",
          "2020-06-11",
          "2020-06-10",
          "2020-06-09",
          "2020-06-08",
          "2020-06-07",
          "2020-06-06",
          "2020-06-05",
          "2020-06-04",
          "2020-06-03",
          "2020-06-02",
          "2020-06-01",
          "2020-05-31",
          "2020-05-30",
          "2020-05-29",
          "2020-05-28",
          "2020-05-27",
          "2020-05-26",
          "2020-05-25",
          "2020-05-24",
          "2020-05-23",
          "2020-05-22",
          "2020-05-21",
          "2020-05-20",
          "2020-05-19",
          "2020-05-18",
          "2020-05-17",
          "2020-05-16",
          "2020-05-15",
          "2020-05-14",
          "2020-05-13",
          "2020-05-12",
          "2020-05-11",
          "2020-05-10",
          "2020-05-09",
          "2020-05-08",
          "2020-05-07",
          "2020-05-06",
          "2020-05-05",
          "2020-05-04",
          "2020-05-03",
          "2020-05-02",
          "2020-05-01",
          "2020-04-30",
          "2020-04-29",
          "2020-04-28",
          "2020-04-27",
          "2020-04-26",
          "2020-04-25",
          "2020-04-24",
          "2020-04-23",
          "2020-04-22",
          "2020-04-21",
          "2020-04-20",
          "2020-04-19",
          "2020-04-18",
          "2020-04-17",
          "2020-04-16",
          "2020-04-15",
          "2020-04-14",
          "2020-04-13",
          "2020-04-12",
          "2020-04-11",
          "2020-04-10",
          "2020-04-09",
          "2020-04-08",
          "2020-04-07",
          "2020-04-06",
          "2020-04-05",
          "2020-04-04",
          "2020-04-03",
          "2020-04-02",
          "2020-04-01",
          "2020-03-31",
          "2020-03-30",
          "2020-03-29",
          "2020-03-28",
          "2020-03-27",
          "2020-03-26",
          "2020-03-25",
          "2020-03-24",
          "2020-03-23",
          "2020-03-22",
          "2020-03-21",
          "2020-03-20",
          "2020-03-19",
          "2020-03-18",
          "2020-03-17",
          "2020-03-16",
          "2020-03-15",
          "2020-03-14",
          "2020-03-13",
          "2020-03-12",
          "2020-03-11",
          "2020-03-10",
          "2020-03-09",
          "2020-03-08",
          "2020-03-06",
          "2020-03-07",
          "2020-03-05",
          "2020-03-04",
          "2020-03-03",
          "2020-02-29",
          "2020-03-01",
          "2020-03-02",
          "2020-02-28",
          "2020-02-27",
          "2020-02-26",
          "2020-02-16",
          "2020-02-14",
          "2020-02-15",
          "2020-02-12",
          "2020-02-17",
          "2020-02-18",
          "2020-02-19",
          "2020-02-13",
          "2020-02-21",
          "2020-02-11",
          "2020-02-10",
          "2020-02-09",
          "2020-02-08",
          "2020-02-07",
          "2020-02-06",
          "2020-02-23",
          "2020-02-20",
          "2020-02-24",
          "2020-02-22",
          "2020-01-27",
          "2020-01-24",
          "2020-02-01",
          "2020-01-31",
          "2020-01-30",
          "2020-01-29",
          "2020-01-28",
          "2020-01-26",
          "2020-02-05",
          "2020-01-25",
          "2020-01-23",
          "2020-01-22",
          "2020-02-02",
          "2020-02-03",
          "2020-02-04",
          "2020-02-25"
         ],
         "xaxis": "x",
         "y": [
          6314740,
          6290272,
          6238350,
          6204220,
          6166606,
          6118708,
          6087608,
          6071401,
          6052786,
          6020164,
          5981767,
          5945849,
          5911758,
          5876464,
          5863093,
          5848959,
          5810652,
          5781582,
          5747660,
          5699005,
          5675032,
          5664115,
          5653561,
          5631181,
          5590025,
          5590025,
          5566049,
          5554206,
          5545705,
          5535605,
          5516658,
          5494376,
          5468270,
          5439641,
          5409854,
          5394128,
          5380635,
          5353656,
          5323630,
          5298772,
          5273954,
          5250727,
          5224362,
          5224362,
          5200300,
          5169386,
          5140863,
          5113628,
          5103408,
          5094979,
          5082637,
          5055888,
          5028444,
          5000694,
          4969141,
          4927235,
          4915289,
          4906833,
          4847092,
          4847092,
          4810935,
          4777522,
          4745464,
          4732309,
          4717991,
          4689613,
          4657702,
          4591364,
          4591364,
          4558040,
          4544629,
          4528240,
          4495183,
          4455386,
          4419083,
          4382263,
          4345610,
          4330455,
          4315687,
          4282164,
          4238446,
          4197889,
          4162073,
          4147794,
          4137521,
          4123000,
          4091801,
          4041638,
          3997865,
          3950931,
          3908272,
          3862311,
          3846153,
          3804803,
          3761391,
          3717156,
          3669995,
          3622861,
          3605783,
          3582362,
          3532330,
          3501975,
          3456652,
          3407354,
          3359570,
          3340197,
          3317096,
          3275520,
          3224876,
          3164785,
          3109630,
          3057470,
          3035422,
          3012412,
          2962442,
          2912212,
          2859073,
          2801921,
          2750318,
          2733677,
          2707877,
          2662485,
          2610102,
          2552265,
          2483191,
          2442375,
          2419091,
          2394513,
          2343366,
          2287475,
          2227514,
          2159654,
          2118646,
          2098389,
          2074860,
          2046328,
          2012151,
          1966748,
          1926824,
          1884967,
          1864681,
          1839850,
          1800827,
          1755779,
          1713160,
          1668589,
          1623284,
          1603055,
          1577004,
          1539081,
          1496858,
          1448753,
          1402041,
          1368195,
          1344143,
          1313667,
          1274974,
          1228114,
          1188631,
          1145906,
          1106470,
          1083341,
          1067579,
          1032913,
          978142,
          955377,
          923189,
          888271,
          867624,
          850514,
          828810,
          802828,
          772416,
          739503,
          707412,
          691758,
          672846,
          645771,
          614941,
          584016,
          555383,
          526447,
          514849,
          498440,
          465166,
          438238,
          411821,
          391222,
          374898,
          363211,
          347398,
          330890,
          310087,
          291579,
          271885,
          255368,
          241080,
          233511,
          220291,
          203165,
          190137,
          178214,
          169594,
          162699,
          156061,
          146894,
          135773,
          126611,
          115455,
          108620,
          101826,
          97100,
          92202,
          87187,
          79685,
          73235,
          67446,
          63100,
          59324,
          54043,
          50036,
          45757,
          43079,
          40743,
          38654,
          36658,
          33682,
          30425,
          28320,
          25262,
          23430,
          22192,
          20727,
          19638,
          18092,
          16170,
          14034,
          12161,
          11130,
          10360,
          9056,
          8044,
          6836,
          5717,
          4579,
          4256,
          3904,
          3417,
          2985,
          2554,
          2247,
          1924,
          1546,
          1021,
          793,
          621,
          372,
          321,
          200,
          162,
          151,
          151,
          52,
          38,
          31,
          25,
          20,
          13,
          13,
          4,
          4,
          2,
          2,
          2,
          2,
          1,
          1,
          1,
          0,
          0,
          0,
          0,
          0,
          0,
          0,
          0,
          0,
          0,
          0,
          0,
          0,
          0,
          0,
          0,
          0,
          0,
          0,
          0,
          0,
          0,
          0,
          0,
          0,
          0,
          0,
          0,
          0,
          0,
          0,
          0,
          0,
          0,
          0
         ],
         "yaxis": "y"
        }
       ],
       "layout": {
        "barmode": "relative",
        "coloraxis": {
         "colorbar": {
          "title": {
           "text": "Confirmed"
          }
         },
         "colorscale": [
          [
           0,
           "rgb(247,251,255)"
          ],
          [
           0.125,
           "rgb(222,235,247)"
          ],
          [
           0.25,
           "rgb(198,219,239)"
          ],
          [
           0.375,
           "rgb(158,202,225)"
          ],
          [
           0.5,
           "rgb(107,174,214)"
          ],
          [
           0.625,
           "rgb(66,146,198)"
          ],
          [
           0.75,
           "rgb(33,113,181)"
          ],
          [
           0.875,
           "rgb(8,81,156)"
          ],
          [
           1,
           "rgb(8,48,107)"
          ]
         ]
        },
        "legend": {
         "tracegroupgap": 0
        },
        "margin": {
         "t": 60
        },
        "template": {
         "data": {
          "bar": [
           {
            "error_x": {
             "color": "#2a3f5f"
            },
            "error_y": {
             "color": "#2a3f5f"
            },
            "marker": {
             "line": {
              "color": "#E5ECF6",
              "width": 0.5
             }
            },
            "type": "bar"
           }
          ],
          "barpolar": [
           {
            "marker": {
             "line": {
              "color": "#E5ECF6",
              "width": 0.5
             }
            },
            "type": "barpolar"
           }
          ],
          "carpet": [
           {
            "aaxis": {
             "endlinecolor": "#2a3f5f",
             "gridcolor": "white",
             "linecolor": "white",
             "minorgridcolor": "white",
             "startlinecolor": "#2a3f5f"
            },
            "baxis": {
             "endlinecolor": "#2a3f5f",
             "gridcolor": "white",
             "linecolor": "white",
             "minorgridcolor": "white",
             "startlinecolor": "#2a3f5f"
            },
            "type": "carpet"
           }
          ],
          "choropleth": [
           {
            "colorbar": {
             "outlinewidth": 0,
             "ticks": ""
            },
            "type": "choropleth"
           }
          ],
          "contour": [
           {
            "colorbar": {
             "outlinewidth": 0,
             "ticks": ""
            },
            "colorscale": [
             [
              0,
              "#0d0887"
             ],
             [
              0.1111111111111111,
              "#46039f"
             ],
             [
              0.2222222222222222,
              "#7201a8"
             ],
             [
              0.3333333333333333,
              "#9c179e"
             ],
             [
              0.4444444444444444,
              "#bd3786"
             ],
             [
              0.5555555555555556,
              "#d8576b"
             ],
             [
              0.6666666666666666,
              "#ed7953"
             ],
             [
              0.7777777777777778,
              "#fb9f3a"
             ],
             [
              0.8888888888888888,
              "#fdca26"
             ],
             [
              1,
              "#f0f921"
             ]
            ],
            "type": "contour"
           }
          ],
          "contourcarpet": [
           {
            "colorbar": {
             "outlinewidth": 0,
             "ticks": ""
            },
            "type": "contourcarpet"
           }
          ],
          "heatmap": [
           {
            "colorbar": {
             "outlinewidth": 0,
             "ticks": ""
            },
            "colorscale": [
             [
              0,
              "#0d0887"
             ],
             [
              0.1111111111111111,
              "#46039f"
             ],
             [
              0.2222222222222222,
              "#7201a8"
             ],
             [
              0.3333333333333333,
              "#9c179e"
             ],
             [
              0.4444444444444444,
              "#bd3786"
             ],
             [
              0.5555555555555556,
              "#d8576b"
             ],
             [
              0.6666666666666666,
              "#ed7953"
             ],
             [
              0.7777777777777778,
              "#fb9f3a"
             ],
             [
              0.8888888888888888,
              "#fdca26"
             ],
             [
              1,
              "#f0f921"
             ]
            ],
            "type": "heatmap"
           }
          ],
          "heatmapgl": [
           {
            "colorbar": {
             "outlinewidth": 0,
             "ticks": ""
            },
            "colorscale": [
             [
              0,
              "#0d0887"
             ],
             [
              0.1111111111111111,
              "#46039f"
             ],
             [
              0.2222222222222222,
              "#7201a8"
             ],
             [
              0.3333333333333333,
              "#9c179e"
             ],
             [
              0.4444444444444444,
              "#bd3786"
             ],
             [
              0.5555555555555556,
              "#d8576b"
             ],
             [
              0.6666666666666666,
              "#ed7953"
             ],
             [
              0.7777777777777778,
              "#fb9f3a"
             ],
             [
              0.8888888888888888,
              "#fdca26"
             ],
             [
              1,
              "#f0f921"
             ]
            ],
            "type": "heatmapgl"
           }
          ],
          "histogram": [
           {
            "marker": {
             "colorbar": {
              "outlinewidth": 0,
              "ticks": ""
             }
            },
            "type": "histogram"
           }
          ],
          "histogram2d": [
           {
            "colorbar": {
             "outlinewidth": 0,
             "ticks": ""
            },
            "colorscale": [
             [
              0,
              "#0d0887"
             ],
             [
              0.1111111111111111,
              "#46039f"
             ],
             [
              0.2222222222222222,
              "#7201a8"
             ],
             [
              0.3333333333333333,
              "#9c179e"
             ],
             [
              0.4444444444444444,
              "#bd3786"
             ],
             [
              0.5555555555555556,
              "#d8576b"
             ],
             [
              0.6666666666666666,
              "#ed7953"
             ],
             [
              0.7777777777777778,
              "#fb9f3a"
             ],
             [
              0.8888888888888888,
              "#fdca26"
             ],
             [
              1,
              "#f0f921"
             ]
            ],
            "type": "histogram2d"
           }
          ],
          "histogram2dcontour": [
           {
            "colorbar": {
             "outlinewidth": 0,
             "ticks": ""
            },
            "colorscale": [
             [
              0,
              "#0d0887"
             ],
             [
              0.1111111111111111,
              "#46039f"
             ],
             [
              0.2222222222222222,
              "#7201a8"
             ],
             [
              0.3333333333333333,
              "#9c179e"
             ],
             [
              0.4444444444444444,
              "#bd3786"
             ],
             [
              0.5555555555555556,
              "#d8576b"
             ],
             [
              0.6666666666666666,
              "#ed7953"
             ],
             [
              0.7777777777777778,
              "#fb9f3a"
             ],
             [
              0.8888888888888888,
              "#fdca26"
             ],
             [
              1,
              "#f0f921"
             ]
            ],
            "type": "histogram2dcontour"
           }
          ],
          "mesh3d": [
           {
            "colorbar": {
             "outlinewidth": 0,
             "ticks": ""
            },
            "type": "mesh3d"
           }
          ],
          "parcoords": [
           {
            "line": {
             "colorbar": {
              "outlinewidth": 0,
              "ticks": ""
             }
            },
            "type": "parcoords"
           }
          ],
          "pie": [
           {
            "automargin": true,
            "type": "pie"
           }
          ],
          "scatter": [
           {
            "marker": {
             "colorbar": {
              "outlinewidth": 0,
              "ticks": ""
             }
            },
            "type": "scatter"
           }
          ],
          "scatter3d": [
           {
            "line": {
             "colorbar": {
              "outlinewidth": 0,
              "ticks": ""
             }
            },
            "marker": {
             "colorbar": {
              "outlinewidth": 0,
              "ticks": ""
             }
            },
            "type": "scatter3d"
           }
          ],
          "scattercarpet": [
           {
            "marker": {
             "colorbar": {
              "outlinewidth": 0,
              "ticks": ""
             }
            },
            "type": "scattercarpet"
           }
          ],
          "scattergeo": [
           {
            "marker": {
             "colorbar": {
              "outlinewidth": 0,
              "ticks": ""
             }
            },
            "type": "scattergeo"
           }
          ],
          "scattergl": [
           {
            "marker": {
             "colorbar": {
              "outlinewidth": 0,
              "ticks": ""
             }
            },
            "type": "scattergl"
           }
          ],
          "scattermapbox": [
           {
            "marker": {
             "colorbar": {
              "outlinewidth": 0,
              "ticks": ""
             }
            },
            "type": "scattermapbox"
           }
          ],
          "scatterpolar": [
           {
            "marker": {
             "colorbar": {
              "outlinewidth": 0,
              "ticks": ""
             }
            },
            "type": "scatterpolar"
           }
          ],
          "scatterpolargl": [
           {
            "marker": {
             "colorbar": {
              "outlinewidth": 0,
              "ticks": ""
             }
            },
            "type": "scatterpolargl"
           }
          ],
          "scatterternary": [
           {
            "marker": {
             "colorbar": {
              "outlinewidth": 0,
              "ticks": ""
             }
            },
            "type": "scatterternary"
           }
          ],
          "surface": [
           {
            "colorbar": {
             "outlinewidth": 0,
             "ticks": ""
            },
            "colorscale": [
             [
              0,
              "#0d0887"
             ],
             [
              0.1111111111111111,
              "#46039f"
             ],
             [
              0.2222222222222222,
              "#7201a8"
             ],
             [
              0.3333333333333333,
              "#9c179e"
             ],
             [
              0.4444444444444444,
              "#bd3786"
             ],
             [
              0.5555555555555556,
              "#d8576b"
             ],
             [
              0.6666666666666666,
              "#ed7953"
             ],
             [
              0.7777777777777778,
              "#fb9f3a"
             ],
             [
              0.8888888888888888,
              "#fdca26"
             ],
             [
              1,
              "#f0f921"
             ]
            ],
            "type": "surface"
           }
          ],
          "table": [
           {
            "cells": {
             "fill": {
              "color": "#EBF0F8"
             },
             "line": {
              "color": "white"
             }
            },
            "header": {
             "fill": {
              "color": "#C8D4E3"
             },
             "line": {
              "color": "white"
             }
            },
            "type": "table"
           }
          ]
         },
         "layout": {
          "annotationdefaults": {
           "arrowcolor": "#2a3f5f",
           "arrowhead": 0,
           "arrowwidth": 1
          },
          "autotypenumbers": "strict",
          "coloraxis": {
           "colorbar": {
            "outlinewidth": 0,
            "ticks": ""
           }
          },
          "colorscale": {
           "diverging": [
            [
             0,
             "#8e0152"
            ],
            [
             0.1,
             "#c51b7d"
            ],
            [
             0.2,
             "#de77ae"
            ],
            [
             0.3,
             "#f1b6da"
            ],
            [
             0.4,
             "#fde0ef"
            ],
            [
             0.5,
             "#f7f7f7"
            ],
            [
             0.6,
             "#e6f5d0"
            ],
            [
             0.7,
             "#b8e186"
            ],
            [
             0.8,
             "#7fbc41"
            ],
            [
             0.9,
             "#4d9221"
            ],
            [
             1,
             "#276419"
            ]
           ],
           "sequential": [
            [
             0,
             "#0d0887"
            ],
            [
             0.1111111111111111,
             "#46039f"
            ],
            [
             0.2222222222222222,
             "#7201a8"
            ],
            [
             0.3333333333333333,
             "#9c179e"
            ],
            [
             0.4444444444444444,
             "#bd3786"
            ],
            [
             0.5555555555555556,
             "#d8576b"
            ],
            [
             0.6666666666666666,
             "#ed7953"
            ],
            [
             0.7777777777777778,
             "#fb9f3a"
            ],
            [
             0.8888888888888888,
             "#fdca26"
            ],
            [
             1,
             "#f0f921"
            ]
           ],
           "sequentialminus": [
            [
             0,
             "#0d0887"
            ],
            [
             0.1111111111111111,
             "#46039f"
            ],
            [
             0.2222222222222222,
             "#7201a8"
            ],
            [
             0.3333333333333333,
             "#9c179e"
            ],
            [
             0.4444444444444444,
             "#bd3786"
            ],
            [
             0.5555555555555556,
             "#d8576b"
            ],
            [
             0.6666666666666666,
             "#ed7953"
            ],
            [
             0.7777777777777778,
             "#fb9f3a"
            ],
            [
             0.8888888888888888,
             "#fdca26"
            ],
            [
             1,
             "#f0f921"
            ]
           ]
          },
          "colorway": [
           "#636efa",
           "#EF553B",
           "#00cc96",
           "#ab63fa",
           "#FFA15A",
           "#19d3f3",
           "#FF6692",
           "#B6E880",
           "#FF97FF",
           "#FECB52"
          ],
          "font": {
           "color": "#2a3f5f"
          },
          "geo": {
           "bgcolor": "white",
           "lakecolor": "white",
           "landcolor": "#E5ECF6",
           "showlakes": true,
           "showland": true,
           "subunitcolor": "white"
          },
          "hoverlabel": {
           "align": "left"
          },
          "hovermode": "closest",
          "mapbox": {
           "style": "light"
          },
          "paper_bgcolor": "white",
          "plot_bgcolor": "#E5ECF6",
          "polar": {
           "angularaxis": {
            "gridcolor": "white",
            "linecolor": "white",
            "ticks": ""
           },
           "bgcolor": "#E5ECF6",
           "radialaxis": {
            "gridcolor": "white",
            "linecolor": "white",
            "ticks": ""
           }
          },
          "scene": {
           "xaxis": {
            "backgroundcolor": "#E5ECF6",
            "gridcolor": "white",
            "gridwidth": 2,
            "linecolor": "white",
            "showbackground": true,
            "ticks": "",
            "zerolinecolor": "white"
           },
           "yaxis": {
            "backgroundcolor": "#E5ECF6",
            "gridcolor": "white",
            "gridwidth": 2,
            "linecolor": "white",
            "showbackground": true,
            "ticks": "",
            "zerolinecolor": "white"
           },
           "zaxis": {
            "backgroundcolor": "#E5ECF6",
            "gridcolor": "white",
            "gridwidth": 2,
            "linecolor": "white",
            "showbackground": true,
            "ticks": "",
            "zerolinecolor": "white"
           }
          },
          "shapedefaults": {
           "line": {
            "color": "#2a3f5f"
           }
          },
          "ternary": {
           "aaxis": {
            "gridcolor": "white",
            "linecolor": "white",
            "ticks": ""
           },
           "baxis": {
            "gridcolor": "white",
            "linecolor": "white",
            "ticks": ""
           },
           "bgcolor": "#E5ECF6",
           "caxis": {
            "gridcolor": "white",
            "linecolor": "white",
            "ticks": ""
           }
          },
          "title": {
           "x": 0.05
          },
          "xaxis": {
           "automargin": true,
           "gridcolor": "white",
           "linecolor": "white",
           "ticks": "",
           "title": {
            "standoff": 15
           },
           "zerolinecolor": "white",
           "zerolinewidth": 2
          },
          "yaxis": {
           "automargin": true,
           "gridcolor": "white",
           "linecolor": "white",
           "ticks": "",
           "title": {
            "standoff": 15
           },
           "zerolinecolor": "white",
           "zerolinewidth": 2
          }
         }
        },
        "title": {
         "text": "Confirmed COVID-19 cases per day in Brazil"
        },
        "xaxis": {
         "anchor": "y",
         "domain": [
          0,
          1
         ],
         "title": {
          "text": "Date"
         }
        },
        "yaxis": {
         "anchor": "x",
         "domain": [
          0,
          1
         ],
         "title": {
          "text": "Confirmed"
         }
        }
       }
      },
      "text/html": [
       "<div>                            <div id=\"42a1999d-2c83-47c4-8b0d-26f8978abf64\" class=\"plotly-graph-div\" style=\"height:525px; width:100%;\"></div>            <script type=\"text/javascript\">                require([\"plotly\"], function(Plotly) {                    window.PLOTLYENV=window.PLOTLYENV || {};                                    if (document.getElementById(\"42a1999d-2c83-47c4-8b0d-26f8978abf64\")) {                    Plotly.newPlot(                        \"42a1999d-2c83-47c4-8b0d-26f8978abf64\",                        [{\"alignmentgroup\": \"True\", \"hovertemplate\": \"Date=%{x}<br>Confirmed=%{marker.color}<extra></extra>\", \"legendgroup\": \"\", \"marker\": {\"color\": [6314740, 6290272, 6238350, 6204220, 6166606, 6118708, 6087608, 6071401, 6052786, 6020164, 5981767, 5945849, 5911758, 5876464, 5863093, 5848959, 5810652, 5781582, 5747660, 5699005, 5675032, 5664115, 5653561, 5631181, 5590025, 5590025, 5566049, 5554206, 5545705, 5535605, 5516658, 5494376, 5468270, 5439641, 5409854, 5394128, 5380635, 5353656, 5323630, 5298772, 5273954, 5250727, 5224362, 5224362, 5200300, 5169386, 5140863, 5113628, 5103408, 5094979, 5082637, 5055888, 5028444, 5000694, 4969141, 4927235, 4915289, 4906833, 4847092, 4847092, 4810935, 4777522, 4745464, 4732309, 4717991, 4689613, 4657702, 4591364, 4591364, 4558040, 4544629, 4528240, 4495183, 4455386, 4419083, 4382263, 4345610, 4330455, 4315687, 4282164, 4238446, 4197889, 4162073, 4147794, 4137521, 4123000, 4091801, 4041638, 3997865, 3950931, 3908272, 3862311, 3846153, 3804803, 3761391, 3717156, 3669995, 3622861, 3605783, 3582362, 3532330, 3501975, 3456652, 3407354, 3359570, 3340197, 3317096, 3275520, 3224876, 3164785, 3109630, 3057470, 3035422, 3012412, 2962442, 2912212, 2859073, 2801921, 2750318, 2733677, 2707877, 2662485, 2610102, 2552265, 2483191, 2442375, 2419091, 2394513, 2343366, 2287475, 2227514, 2159654, 2118646, 2098389, 2074860, 2046328, 2012151, 1966748, 1926824, 1884967, 1864681, 1839850, 1800827, 1755779, 1713160, 1668589, 1623284, 1603055, 1577004, 1539081, 1496858, 1448753, 1402041, 1368195, 1344143, 1313667, 1274974, 1228114, 1188631, 1145906, 1106470, 1083341, 1067579, 1032913, 978142, 955377, 923189, 888271, 867624, 850514, 828810, 802828, 772416, 739503, 707412, 691758, 672846, 645771, 614941, 584016, 555383, 526447, 514849, 498440, 465166, 438238, 411821, 391222, 374898, 363211, 347398, 330890, 310087, 291579, 271885, 255368, 241080, 233511, 220291, 203165, 190137, 178214, 169594, 162699, 156061, 146894, 135773, 126611, 115455, 108620, 101826, 97100, 92202, 87187, 79685, 73235, 67446, 63100, 59324, 54043, 50036, 45757, 43079, 40743, 38654, 36658, 33682, 30425, 28320, 25262, 23430, 22192, 20727, 19638, 18092, 16170, 14034, 12161, 11130, 10360, 9056, 8044, 6836, 5717, 4579, 4256, 3904, 3417, 2985, 2554, 2247, 1924, 1546, 1021, 793, 621, 372, 321, 200, 162, 151, 151, 52, 38, 31, 25, 20, 13, 13, 4, 4, 2, 2, 2, 2, 1, 1, 1, 0, 0, 0, 0, 0, 0, 0, 0, 0, 0, 0, 0, 0, 0, 0, 0, 0, 0, 0, 0, 0, 0, 0, 0, 0, 0, 0, 0, 0, 0, 0, 0, 0, 0, 0], \"coloraxis\": \"coloraxis\"}, \"name\": \"\", \"offsetgroup\": \"\", \"orientation\": \"v\", \"showlegend\": false, \"textposition\": \"auto\", \"type\": \"bar\", \"x\": [\"2020-11-29\", \"2020-11-28\", \"2020-11-27\", \"2020-11-26\", \"2020-11-25\", \"2020-11-24\", \"2020-11-23\", \"2020-11-22\", \"2020-11-21\", \"2020-11-20\", \"2020-11-19\", \"2020-11-18\", \"2020-11-17\", \"2020-11-16\", \"2020-11-15\", \"2020-11-14\", \"2020-11-13\", \"2020-11-12\", \"2020-11-11\", \"2020-11-10\", \"2020-11-09\", \"2020-11-08\", \"2020-11-07\", \"2020-11-06\", \"2020-11-05\", \"2020-11-04\", \"2020-11-03\", \"2020-11-02\", \"2020-11-01\", \"2020-10-31\", \"2020-10-30\", \"2020-10-29\", \"2020-10-28\", \"2020-10-27\", \"2020-10-26\", \"2020-10-25\", \"2020-10-24\", \"2020-10-23\", \"2020-10-22\", \"2020-10-21\", \"2020-10-20\", \"2020-10-19\", \"2020-10-18\", \"2020-10-17\", \"2020-10-16\", \"2020-10-15\", \"2020-10-14\", \"2020-10-13\", \"2020-10-12\", \"2020-10-11\", \"2020-10-10\", \"2020-10-09\", \"2020-10-08\", \"2020-10-07\", \"2020-10-06\", \"2020-10-05\", \"2020-10-04\", \"2020-10-03\", \"2020-10-02\", \"2020-10-01\", \"2020-09-30\", \"2020-09-29\", \"2020-09-28\", \"2020-09-27\", \"2020-09-26\", \"2020-09-25\", \"2020-09-24\", \"2020-09-22\", \"2020-09-23\", \"2020-09-21\", \"2020-09-20\", \"2020-09-19\", \"2020-09-18\", \"2020-09-17\", \"2020-09-16\", \"2020-09-15\", \"2020-09-14\", \"2020-09-13\", \"2020-09-12\", \"2020-09-11\", \"2020-09-10\", \"2020-09-09\", \"2020-09-08\", \"2020-09-07\", \"2020-09-06\", \"2020-09-05\", \"2020-09-04\", \"2020-09-03\", \"2020-09-02\", \"2020-09-01\", \"2020-08-31\", \"2020-08-30\", \"2020-08-29\", \"2020-08-28\", \"2020-08-27\", \"2020-08-26\", \"2020-08-25\", \"2020-08-24\", \"2020-08-23\", \"2020-08-22\", \"2020-08-21\", \"2020-08-20\", \"2020-08-19\", \"2020-08-18\", \"2020-08-17\", \"2020-08-16\", \"2020-08-15\", \"2020-08-14\", \"2020-08-13\", \"2020-08-12\", \"2020-08-11\", \"2020-08-10\", \"2020-08-09\", \"2020-08-08\", \"2020-08-07\", \"2020-08-06\", \"2020-08-05\", \"2020-08-04\", \"2020-08-03\", \"2020-08-02\", \"2020-08-01\", \"2020-07-31\", \"2020-07-30\", \"2020-07-29\", \"2020-07-28\", \"2020-07-27\", \"2020-07-26\", \"2020-07-25\", \"2020-07-24\", \"2020-07-23\", \"2020-07-22\", \"2020-07-21\", \"2020-07-20\", \"2020-07-19\", \"2020-07-18\", \"2020-07-17\", \"2020-07-16\", \"2020-07-15\", \"2020-07-14\", \"2020-07-13\", \"2020-07-12\", \"2020-07-11\", \"2020-07-10\", \"2020-07-09\", \"2020-07-08\", \"2020-07-07\", \"2020-07-06\", \"2020-07-05\", \"2020-07-04\", \"2020-07-03\", \"2020-07-02\", \"2020-07-01\", \"2020-06-30\", \"2020-06-29\", \"2020-06-28\", \"2020-06-27\", \"2020-06-26\", \"2020-06-25\", \"2020-06-24\", \"2020-06-23\", \"2020-06-22\", \"2020-06-21\", \"2020-06-20\", \"2020-06-19\", \"2020-06-18\", \"2020-06-17\", \"2020-06-16\", \"2020-06-15\", \"2020-06-14\", \"2020-06-13\", \"2020-06-12\", \"2020-06-11\", \"2020-06-10\", \"2020-06-09\", \"2020-06-08\", \"2020-06-07\", \"2020-06-06\", \"2020-06-05\", \"2020-06-04\", \"2020-06-03\", \"2020-06-02\", \"2020-06-01\", \"2020-05-31\", \"2020-05-30\", \"2020-05-29\", \"2020-05-28\", \"2020-05-27\", \"2020-05-26\", \"2020-05-25\", \"2020-05-24\", \"2020-05-23\", \"2020-05-22\", \"2020-05-21\", \"2020-05-20\", \"2020-05-19\", \"2020-05-18\", \"2020-05-17\", \"2020-05-16\", \"2020-05-15\", \"2020-05-14\", \"2020-05-13\", \"2020-05-12\", \"2020-05-11\", \"2020-05-10\", \"2020-05-09\", \"2020-05-08\", \"2020-05-07\", \"2020-05-06\", \"2020-05-05\", \"2020-05-04\", \"2020-05-03\", \"2020-05-02\", \"2020-05-01\", \"2020-04-30\", \"2020-04-29\", \"2020-04-28\", \"2020-04-27\", \"2020-04-26\", \"2020-04-25\", \"2020-04-24\", \"2020-04-23\", \"2020-04-22\", \"2020-04-21\", \"2020-04-20\", \"2020-04-19\", \"2020-04-18\", \"2020-04-17\", \"2020-04-16\", \"2020-04-15\", \"2020-04-14\", \"2020-04-13\", \"2020-04-12\", \"2020-04-11\", \"2020-04-10\", \"2020-04-09\", \"2020-04-08\", \"2020-04-07\", \"2020-04-06\", \"2020-04-05\", \"2020-04-04\", \"2020-04-03\", \"2020-04-02\", \"2020-04-01\", \"2020-03-31\", \"2020-03-30\", \"2020-03-29\", \"2020-03-28\", \"2020-03-27\", \"2020-03-26\", \"2020-03-25\", \"2020-03-24\", \"2020-03-23\", \"2020-03-22\", \"2020-03-21\", \"2020-03-20\", \"2020-03-19\", \"2020-03-18\", \"2020-03-17\", \"2020-03-16\", \"2020-03-15\", \"2020-03-14\", \"2020-03-13\", \"2020-03-12\", \"2020-03-11\", \"2020-03-10\", \"2020-03-09\", \"2020-03-08\", \"2020-03-06\", \"2020-03-07\", \"2020-03-05\", \"2020-03-04\", \"2020-03-03\", \"2020-02-29\", \"2020-03-01\", \"2020-03-02\", \"2020-02-28\", \"2020-02-27\", \"2020-02-26\", \"2020-02-16\", \"2020-02-14\", \"2020-02-15\", \"2020-02-12\", \"2020-02-17\", \"2020-02-18\", \"2020-02-19\", \"2020-02-13\", \"2020-02-21\", \"2020-02-11\", \"2020-02-10\", \"2020-02-09\", \"2020-02-08\", \"2020-02-07\", \"2020-02-06\", \"2020-02-23\", \"2020-02-20\", \"2020-02-24\", \"2020-02-22\", \"2020-01-27\", \"2020-01-24\", \"2020-02-01\", \"2020-01-31\", \"2020-01-30\", \"2020-01-29\", \"2020-01-28\", \"2020-01-26\", \"2020-02-05\", \"2020-01-25\", \"2020-01-23\", \"2020-01-22\", \"2020-02-02\", \"2020-02-03\", \"2020-02-04\", \"2020-02-25\"], \"xaxis\": \"x\", \"y\": [6314740, 6290272, 6238350, 6204220, 6166606, 6118708, 6087608, 6071401, 6052786, 6020164, 5981767, 5945849, 5911758, 5876464, 5863093, 5848959, 5810652, 5781582, 5747660, 5699005, 5675032, 5664115, 5653561, 5631181, 5590025, 5590025, 5566049, 5554206, 5545705, 5535605, 5516658, 5494376, 5468270, 5439641, 5409854, 5394128, 5380635, 5353656, 5323630, 5298772, 5273954, 5250727, 5224362, 5224362, 5200300, 5169386, 5140863, 5113628, 5103408, 5094979, 5082637, 5055888, 5028444, 5000694, 4969141, 4927235, 4915289, 4906833, 4847092, 4847092, 4810935, 4777522, 4745464, 4732309, 4717991, 4689613, 4657702, 4591364, 4591364, 4558040, 4544629, 4528240, 4495183, 4455386, 4419083, 4382263, 4345610, 4330455, 4315687, 4282164, 4238446, 4197889, 4162073, 4147794, 4137521, 4123000, 4091801, 4041638, 3997865, 3950931, 3908272, 3862311, 3846153, 3804803, 3761391, 3717156, 3669995, 3622861, 3605783, 3582362, 3532330, 3501975, 3456652, 3407354, 3359570, 3340197, 3317096, 3275520, 3224876, 3164785, 3109630, 3057470, 3035422, 3012412, 2962442, 2912212, 2859073, 2801921, 2750318, 2733677, 2707877, 2662485, 2610102, 2552265, 2483191, 2442375, 2419091, 2394513, 2343366, 2287475, 2227514, 2159654, 2118646, 2098389, 2074860, 2046328, 2012151, 1966748, 1926824, 1884967, 1864681, 1839850, 1800827, 1755779, 1713160, 1668589, 1623284, 1603055, 1577004, 1539081, 1496858, 1448753, 1402041, 1368195, 1344143, 1313667, 1274974, 1228114, 1188631, 1145906, 1106470, 1083341, 1067579, 1032913, 978142, 955377, 923189, 888271, 867624, 850514, 828810, 802828, 772416, 739503, 707412, 691758, 672846, 645771, 614941, 584016, 555383, 526447, 514849, 498440, 465166, 438238, 411821, 391222, 374898, 363211, 347398, 330890, 310087, 291579, 271885, 255368, 241080, 233511, 220291, 203165, 190137, 178214, 169594, 162699, 156061, 146894, 135773, 126611, 115455, 108620, 101826, 97100, 92202, 87187, 79685, 73235, 67446, 63100, 59324, 54043, 50036, 45757, 43079, 40743, 38654, 36658, 33682, 30425, 28320, 25262, 23430, 22192, 20727, 19638, 18092, 16170, 14034, 12161, 11130, 10360, 9056, 8044, 6836, 5717, 4579, 4256, 3904, 3417, 2985, 2554, 2247, 1924, 1546, 1021, 793, 621, 372, 321, 200, 162, 151, 151, 52, 38, 31, 25, 20, 13, 13, 4, 4, 2, 2, 2, 2, 1, 1, 1, 0, 0, 0, 0, 0, 0, 0, 0, 0, 0, 0, 0, 0, 0, 0, 0, 0, 0, 0, 0, 0, 0, 0, 0, 0, 0, 0, 0, 0, 0, 0, 0, 0, 0, 0], \"yaxis\": \"y\"}],                        {\"barmode\": \"relative\", \"coloraxis\": {\"colorbar\": {\"title\": {\"text\": \"Confirmed\"}}, \"colorscale\": [[0.0, \"rgb(247,251,255)\"], [0.125, \"rgb(222,235,247)\"], [0.25, \"rgb(198,219,239)\"], [0.375, \"rgb(158,202,225)\"], [0.5, \"rgb(107,174,214)\"], [0.625, \"rgb(66,146,198)\"], [0.75, \"rgb(33,113,181)\"], [0.875, \"rgb(8,81,156)\"], [1.0, \"rgb(8,48,107)\"]]}, \"legend\": {\"tracegroupgap\": 0}, \"margin\": {\"t\": 60}, \"template\": {\"data\": {\"bar\": [{\"error_x\": {\"color\": \"#2a3f5f\"}, \"error_y\": {\"color\": \"#2a3f5f\"}, \"marker\": {\"line\": {\"color\": \"#E5ECF6\", \"width\": 0.5}}, \"type\": \"bar\"}], \"barpolar\": [{\"marker\": {\"line\": {\"color\": \"#E5ECF6\", \"width\": 0.5}}, \"type\": \"barpolar\"}], \"carpet\": [{\"aaxis\": {\"endlinecolor\": \"#2a3f5f\", \"gridcolor\": \"white\", \"linecolor\": \"white\", \"minorgridcolor\": \"white\", \"startlinecolor\": \"#2a3f5f\"}, \"baxis\": {\"endlinecolor\": \"#2a3f5f\", \"gridcolor\": \"white\", \"linecolor\": \"white\", \"minorgridcolor\": \"white\", \"startlinecolor\": \"#2a3f5f\"}, \"type\": \"carpet\"}], \"choropleth\": [{\"colorbar\": {\"outlinewidth\": 0, \"ticks\": \"\"}, \"type\": \"choropleth\"}], \"contour\": [{\"colorbar\": {\"outlinewidth\": 0, \"ticks\": \"\"}, \"colorscale\": [[0.0, \"#0d0887\"], [0.1111111111111111, \"#46039f\"], [0.2222222222222222, \"#7201a8\"], [0.3333333333333333, \"#9c179e\"], [0.4444444444444444, \"#bd3786\"], [0.5555555555555556, \"#d8576b\"], [0.6666666666666666, \"#ed7953\"], [0.7777777777777778, \"#fb9f3a\"], [0.8888888888888888, \"#fdca26\"], [1.0, \"#f0f921\"]], \"type\": \"contour\"}], \"contourcarpet\": [{\"colorbar\": {\"outlinewidth\": 0, \"ticks\": \"\"}, \"type\": \"contourcarpet\"}], \"heatmap\": [{\"colorbar\": {\"outlinewidth\": 0, \"ticks\": \"\"}, \"colorscale\": [[0.0, \"#0d0887\"], [0.1111111111111111, \"#46039f\"], [0.2222222222222222, \"#7201a8\"], [0.3333333333333333, \"#9c179e\"], [0.4444444444444444, \"#bd3786\"], [0.5555555555555556, \"#d8576b\"], [0.6666666666666666, \"#ed7953\"], [0.7777777777777778, \"#fb9f3a\"], [0.8888888888888888, \"#fdca26\"], [1.0, \"#f0f921\"]], \"type\": \"heatmap\"}], \"heatmapgl\": [{\"colorbar\": {\"outlinewidth\": 0, \"ticks\": \"\"}, \"colorscale\": [[0.0, \"#0d0887\"], [0.1111111111111111, \"#46039f\"], [0.2222222222222222, \"#7201a8\"], [0.3333333333333333, \"#9c179e\"], [0.4444444444444444, \"#bd3786\"], [0.5555555555555556, \"#d8576b\"], [0.6666666666666666, \"#ed7953\"], [0.7777777777777778, \"#fb9f3a\"], [0.8888888888888888, \"#fdca26\"], [1.0, \"#f0f921\"]], \"type\": \"heatmapgl\"}], \"histogram\": [{\"marker\": {\"colorbar\": {\"outlinewidth\": 0, \"ticks\": \"\"}}, \"type\": \"histogram\"}], \"histogram2d\": [{\"colorbar\": {\"outlinewidth\": 0, \"ticks\": \"\"}, \"colorscale\": [[0.0, \"#0d0887\"], [0.1111111111111111, \"#46039f\"], [0.2222222222222222, \"#7201a8\"], [0.3333333333333333, \"#9c179e\"], [0.4444444444444444, \"#bd3786\"], [0.5555555555555556, \"#d8576b\"], [0.6666666666666666, \"#ed7953\"], [0.7777777777777778, \"#fb9f3a\"], [0.8888888888888888, \"#fdca26\"], [1.0, \"#f0f921\"]], \"type\": \"histogram2d\"}], \"histogram2dcontour\": [{\"colorbar\": {\"outlinewidth\": 0, \"ticks\": \"\"}, \"colorscale\": [[0.0, \"#0d0887\"], [0.1111111111111111, \"#46039f\"], [0.2222222222222222, \"#7201a8\"], [0.3333333333333333, \"#9c179e\"], [0.4444444444444444, \"#bd3786\"], [0.5555555555555556, \"#d8576b\"], [0.6666666666666666, \"#ed7953\"], [0.7777777777777778, \"#fb9f3a\"], [0.8888888888888888, \"#fdca26\"], [1.0, \"#f0f921\"]], \"type\": \"histogram2dcontour\"}], \"mesh3d\": [{\"colorbar\": {\"outlinewidth\": 0, \"ticks\": \"\"}, \"type\": \"mesh3d\"}], \"parcoords\": [{\"line\": {\"colorbar\": {\"outlinewidth\": 0, \"ticks\": \"\"}}, \"type\": \"parcoords\"}], \"pie\": [{\"automargin\": true, \"type\": \"pie\"}], \"scatter\": [{\"marker\": {\"colorbar\": {\"outlinewidth\": 0, \"ticks\": \"\"}}, \"type\": \"scatter\"}], \"scatter3d\": [{\"line\": {\"colorbar\": {\"outlinewidth\": 0, \"ticks\": \"\"}}, \"marker\": {\"colorbar\": {\"outlinewidth\": 0, \"ticks\": \"\"}}, \"type\": \"scatter3d\"}], \"scattercarpet\": [{\"marker\": {\"colorbar\": {\"outlinewidth\": 0, \"ticks\": \"\"}}, \"type\": \"scattercarpet\"}], \"scattergeo\": [{\"marker\": {\"colorbar\": {\"outlinewidth\": 0, \"ticks\": \"\"}}, \"type\": \"scattergeo\"}], \"scattergl\": [{\"marker\": {\"colorbar\": {\"outlinewidth\": 0, \"ticks\": \"\"}}, \"type\": \"scattergl\"}], \"scattermapbox\": [{\"marker\": {\"colorbar\": {\"outlinewidth\": 0, \"ticks\": \"\"}}, \"type\": \"scattermapbox\"}], \"scatterpolar\": [{\"marker\": {\"colorbar\": {\"outlinewidth\": 0, \"ticks\": \"\"}}, \"type\": \"scatterpolar\"}], \"scatterpolargl\": [{\"marker\": {\"colorbar\": {\"outlinewidth\": 0, \"ticks\": \"\"}}, \"type\": \"scatterpolargl\"}], \"scatterternary\": [{\"marker\": {\"colorbar\": {\"outlinewidth\": 0, \"ticks\": \"\"}}, \"type\": \"scatterternary\"}], \"surface\": [{\"colorbar\": {\"outlinewidth\": 0, \"ticks\": \"\"}, \"colorscale\": [[0.0, \"#0d0887\"], [0.1111111111111111, \"#46039f\"], [0.2222222222222222, \"#7201a8\"], [0.3333333333333333, \"#9c179e\"], [0.4444444444444444, \"#bd3786\"], [0.5555555555555556, \"#d8576b\"], [0.6666666666666666, \"#ed7953\"], [0.7777777777777778, \"#fb9f3a\"], [0.8888888888888888, \"#fdca26\"], [1.0, \"#f0f921\"]], \"type\": \"surface\"}], \"table\": [{\"cells\": {\"fill\": {\"color\": \"#EBF0F8\"}, \"line\": {\"color\": \"white\"}}, \"header\": {\"fill\": {\"color\": \"#C8D4E3\"}, \"line\": {\"color\": \"white\"}}, \"type\": \"table\"}]}, \"layout\": {\"annotationdefaults\": {\"arrowcolor\": \"#2a3f5f\", \"arrowhead\": 0, \"arrowwidth\": 1}, \"autotypenumbers\": \"strict\", \"coloraxis\": {\"colorbar\": {\"outlinewidth\": 0, \"ticks\": \"\"}}, \"colorscale\": {\"diverging\": [[0, \"#8e0152\"], [0.1, \"#c51b7d\"], [0.2, \"#de77ae\"], [0.3, \"#f1b6da\"], [0.4, \"#fde0ef\"], [0.5, \"#f7f7f7\"], [0.6, \"#e6f5d0\"], [0.7, \"#b8e186\"], [0.8, \"#7fbc41\"], [0.9, \"#4d9221\"], [1, \"#276419\"]], \"sequential\": [[0.0, \"#0d0887\"], [0.1111111111111111, \"#46039f\"], [0.2222222222222222, \"#7201a8\"], [0.3333333333333333, \"#9c179e\"], [0.4444444444444444, \"#bd3786\"], [0.5555555555555556, \"#d8576b\"], [0.6666666666666666, \"#ed7953\"], [0.7777777777777778, \"#fb9f3a\"], [0.8888888888888888, \"#fdca26\"], [1.0, \"#f0f921\"]], \"sequentialminus\": [[0.0, \"#0d0887\"], [0.1111111111111111, \"#46039f\"], [0.2222222222222222, \"#7201a8\"], [0.3333333333333333, \"#9c179e\"], [0.4444444444444444, \"#bd3786\"], [0.5555555555555556, \"#d8576b\"], [0.6666666666666666, \"#ed7953\"], [0.7777777777777778, \"#fb9f3a\"], [0.8888888888888888, \"#fdca26\"], [1.0, \"#f0f921\"]]}, \"colorway\": [\"#636efa\", \"#EF553B\", \"#00cc96\", \"#ab63fa\", \"#FFA15A\", \"#19d3f3\", \"#FF6692\", \"#B6E880\", \"#FF97FF\", \"#FECB52\"], \"font\": {\"color\": \"#2a3f5f\"}, \"geo\": {\"bgcolor\": \"white\", \"lakecolor\": \"white\", \"landcolor\": \"#E5ECF6\", \"showlakes\": true, \"showland\": true, \"subunitcolor\": \"white\"}, \"hoverlabel\": {\"align\": \"left\"}, \"hovermode\": \"closest\", \"mapbox\": {\"style\": \"light\"}, \"paper_bgcolor\": \"white\", \"plot_bgcolor\": \"#E5ECF6\", \"polar\": {\"angularaxis\": {\"gridcolor\": \"white\", \"linecolor\": \"white\", \"ticks\": \"\"}, \"bgcolor\": \"#E5ECF6\", \"radialaxis\": {\"gridcolor\": \"white\", \"linecolor\": \"white\", \"ticks\": \"\"}}, \"scene\": {\"xaxis\": {\"backgroundcolor\": \"#E5ECF6\", \"gridcolor\": \"white\", \"gridwidth\": 2, \"linecolor\": \"white\", \"showbackground\": true, \"ticks\": \"\", \"zerolinecolor\": \"white\"}, \"yaxis\": {\"backgroundcolor\": \"#E5ECF6\", \"gridcolor\": \"white\", \"gridwidth\": 2, \"linecolor\": \"white\", \"showbackground\": true, \"ticks\": \"\", \"zerolinecolor\": \"white\"}, \"zaxis\": {\"backgroundcolor\": \"#E5ECF6\", \"gridcolor\": \"white\", \"gridwidth\": 2, \"linecolor\": \"white\", \"showbackground\": true, \"ticks\": \"\", \"zerolinecolor\": \"white\"}}, \"shapedefaults\": {\"line\": {\"color\": \"#2a3f5f\"}}, \"ternary\": {\"aaxis\": {\"gridcolor\": \"white\", \"linecolor\": \"white\", \"ticks\": \"\"}, \"baxis\": {\"gridcolor\": \"white\", \"linecolor\": \"white\", \"ticks\": \"\"}, \"bgcolor\": \"#E5ECF6\", \"caxis\": {\"gridcolor\": \"white\", \"linecolor\": \"white\", \"ticks\": \"\"}}, \"title\": {\"x\": 0.05}, \"xaxis\": {\"automargin\": true, \"gridcolor\": \"white\", \"linecolor\": \"white\", \"ticks\": \"\", \"title\": {\"standoff\": 15}, \"zerolinecolor\": \"white\", \"zerolinewidth\": 2}, \"yaxis\": {\"automargin\": true, \"gridcolor\": \"white\", \"linecolor\": \"white\", \"ticks\": \"\", \"title\": {\"standoff\": 15}, \"zerolinecolor\": \"white\", \"zerolinewidth\": 2}}}, \"title\": {\"text\": \"Confirmed COVID-19 cases per day in Brazil\"}, \"xaxis\": {\"anchor\": \"y\", \"domain\": [0.0, 1.0], \"title\": {\"text\": \"Date\"}}, \"yaxis\": {\"anchor\": \"x\", \"domain\": [0.0, 1.0], \"title\": {\"text\": \"Confirmed\"}}},                        {\"responsive\": true}                    ).then(function(){\n",
       "                            \n",
       "var gd = document.getElementById('42a1999d-2c83-47c4-8b0d-26f8978abf64');\n",
       "var x = new MutationObserver(function (mutations, observer) {{\n",
       "        var display = window.getComputedStyle(gd).display;\n",
       "        if (!display || display === 'none') {{\n",
       "            console.log([gd, 'removed!']);\n",
       "            Plotly.purge(gd);\n",
       "            observer.disconnect();\n",
       "        }}\n",
       "}});\n",
       "\n",
       "// Listen for the removal of the full notebook cells\n",
       "var notebookContainer = gd.closest('#notebook-container');\n",
       "if (notebookContainer) {{\n",
       "    x.observe(notebookContainer, {childList: true});\n",
       "}}\n",
       "\n",
       "// Listen for the clearing of the current output cell\n",
       "var outputEl = gd.closest('.output');\n",
       "if (outputEl) {{\n",
       "    x.observe(outputEl, {childList: true});\n",
       "}}\n",
       "\n",
       "                        })                };                });            </script>        </div>"
      ]
     },
     "metadata": {},
     "output_type": "display_data"
    }
   ],
   "source": [
    "df_by_date = pd.DataFrame(data.fillna('NA').groupby(['Country','Date'])['Confirmed'].sum().sort_values().reset_index())\n",
    "\n",
    "fig = px.bar(df_by_date.loc[(df_by_date['Country'] == 'Brazil') &(df_by_date.Date >= '2020-01-22')].sort_values('Confirmed',ascending = False), \n",
    "             x='Date', y='Confirmed', color=\"Confirmed\", color_continuous_scale=px.colors.sequential.Blues)\n",
    "fig.update_layout(title_text='Confirmed COVID-19 cases per day in Brazil')\n",
    "fig.show()"
   ]
  },
  {
   "cell_type": "markdown",
   "metadata": {},
   "source": [
    "###### The spread of the COVID-19 in Brazil started from April 28.The spread was reaching above 6 Million at the end of September"
   ]
  },
  {
   "cell_type": "markdown",
   "metadata": {},
   "source": [
    "### Confirmed COVID-19 cases per day in France"
   ]
  },
  {
   "cell_type": "code",
   "execution_count": 22,
   "metadata": {},
   "outputs": [
    {
     "data": {
      "application/vnd.plotly.v1+json": {
       "config": {
        "plotlyServerURL": "https://plot.ly"
       },
       "data": [
        {
         "alignmentgroup": "True",
         "hovertemplate": "Date=%{x}<br>Confirmed=%{marker.color}<extra></extra>",
         "legendgroup": "",
         "marker": {
          "color": [
           2270573,
           2260789,
           2248209,
           2235537,
           2221874,
           2206126,
           2195940,
           2191180,
           2178023,
           2160343,
           2137096,
           2115717,
           2087183,
           2041293,
           2031472,
           2004244,
           1972149,
           1948134,
           1914722,
           1878498,
           1856027,
           1835187,
           1709773,
           1709716,
           1648989,
           1591152,
           1549174,
           1512541,
           1458999,
           1412709,
           1377347,
           1327852,
           1280215,
           1244242,
           1209651,
           1084746,
           1084684,
           1084659,
           1041991,
           1000369,
           973275,
           952600,
           876342,
           876342,
           876342,
           850997,
           820376,
           798257,
           776097,
           732434,
           732434,
           732434,
           711704,
           693603,
           675736,
           664289,
           629509,
           629509,
           629431,
           616986,
           604031,
           590021,
           577980,
           552473,
           552454,
           552421,
           536289,
           508456,
           507150,
           496851,
           467614,
           467614,
           467421,
           454266,
           443869,
           433905,
           425870,
           402893,
           402811,
           401890,
           392243,
           383292,
           373718,
           367174,
           347268,
           347267,
           347267,
           338220,
           331060,
           323968,
           318986,
           315813,
           304947,
           304947,
           297485,
           291374,
           285902,
           282414,
           280459,
           275562,
           271960,
           256534,
           256534,
           256534,
           256533,
           252965,
           252965,
           249655,
           244096,
           244088,
           239355,
           239349,
           235237,
           235208,
           235207,
           231310,
           228576,
           228576,
           225198,
           225198,
           225198,
           225197,
           222469,
           221077,
           221077,
           220352,
           217801,
           217801,
           217797,
           216667,
           215605,
           214607,
           214023,
           211943,
           211943,
           211943,
           211102,
           210568,
           209640,
           209640,
           208015,
           208015,
           208015,
           207356,
           206072,
           206072,
           205597,
           204222,
           204222,
           204222,
           203640,
           202981,
           202063,
           201522,
           200195,
           200195,
           199476,
           198607,
           198607,
           198526,
           198009,
           197636,
           197352,
           196711,
           195900,
           195433,
           194975,
           194631,
           194479,
           194072,
           193546,
           192819,
           192394,
           191849,
           191445,
           191234,
           190891,
           190312,
           189701,
           189348,
           189009,
           188934,
           188752,
           188582,
           186923,
           186364,
           183067,
           183038,
           182847,
           182709,
           182694,
           182354,
           181951,
           181700,
           180933,
           180051,
           179693,
           179630,
           179630,
           178994,
           178349,
           178184,
           177547,
           177094,
           176782,
           176202,
           174918,
           174224,
           170687,
           169583,
           169053,
           168925,
           168518,
           167305,
           167299,
           166543,
           165963,
           162220,
           161644,
           159952,
           158303,
           158168,
           155980,
           155393,
           153011,
           148086,
           148084,
           146075,
           133585,
           130365,
           125394,
           121712,
           94863,
           91738,
           87366,
           83057,
           79163,
           75343,
           71412,
           69500,
           65202,
           59929,
           57749,
           52827,
           45170,
           40708,
           38105,
           33402,
           29551,
           25600,
           22622,
           20123,
           16243,
           14463,
           12758,
           10970,
           9124,
           7715,
           6683,
           4532,
           4496,
           3681,
           2293,
           2293,
           1794,
           1219,
           1136,
           959,
           656,
           380,
           288,
           204,
           191,
           130,
           100,
           57,
           38,
           18,
           14,
           12,
           12,
           12,
           12,
           12,
           12,
           12,
           12,
           12,
           12,
           11,
           11,
           11,
           11,
           11,
           11,
           11,
           6,
           6,
           6,
           6,
           6,
           6,
           6,
           5,
           5,
           5,
           4,
           3,
           3,
           3,
           2,
           0,
           0
          ],
          "coloraxis": "coloraxis"
         },
         "name": "",
         "offsetgroup": "",
         "orientation": "v",
         "showlegend": false,
         "textposition": "auto",
         "type": "bar",
         "x": [
          "2020-11-29",
          "2020-11-28",
          "2020-11-27",
          "2020-11-26",
          "2020-11-25",
          "2020-11-24",
          "2020-11-23",
          "2020-11-22",
          "2020-11-21",
          "2020-11-20",
          "2020-11-19",
          "2020-11-18",
          "2020-11-17",
          "2020-11-16",
          "2020-11-15",
          "2020-11-14",
          "2020-11-13",
          "2020-11-12",
          "2020-11-11",
          "2020-11-10",
          "2020-11-09",
          "2020-11-08",
          "2020-11-07",
          "2020-11-06",
          "2020-11-05",
          "2020-11-04",
          "2020-11-03",
          "2020-11-02",
          "2020-11-01",
          "2020-10-31",
          "2020-10-30",
          "2020-10-29",
          "2020-10-28",
          "2020-10-27",
          "2020-10-26",
          "2020-10-25",
          "2020-10-24",
          "2020-10-23",
          "2020-10-22",
          "2020-10-21",
          "2020-10-20",
          "2020-10-19",
          "2020-10-16",
          "2020-10-17",
          "2020-10-18",
          "2020-10-15",
          "2020-10-14",
          "2020-10-13",
          "2020-10-12",
          "2020-10-09",
          "2020-10-11",
          "2020-10-10",
          "2020-10-08",
          "2020-10-07",
          "2020-10-06",
          "2020-10-05",
          "2020-10-04",
          "2020-10-03",
          "2020-10-02",
          "2020-10-01",
          "2020-09-30",
          "2020-09-29",
          "2020-09-28",
          "2020-09-27",
          "2020-09-26",
          "2020-09-25",
          "2020-09-24",
          "2020-09-23",
          "2020-09-22",
          "2020-09-21",
          "2020-09-20",
          "2020-09-19",
          "2020-09-18",
          "2020-09-17",
          "2020-09-16",
          "2020-09-15",
          "2020-09-14",
          "2020-09-13",
          "2020-09-12",
          "2020-09-11",
          "2020-09-10",
          "2020-09-09",
          "2020-09-08",
          "2020-09-07",
          "2020-09-06",
          "2020-09-04",
          "2020-09-05",
          "2020-09-03",
          "2020-09-02",
          "2020-09-01",
          "2020-08-31",
          "2020-08-30",
          "2020-08-28",
          "2020-08-29",
          "2020-08-27",
          "2020-08-26",
          "2020-08-25",
          "2020-08-24",
          "2020-08-23",
          "2020-08-22",
          "2020-08-21",
          "2020-08-20",
          "2020-08-19",
          "2020-08-18",
          "2020-08-17",
          "2020-08-16",
          "2020-08-15",
          "2020-08-14",
          "2020-08-13",
          "2020-08-12",
          "2020-08-11",
          "2020-08-10",
          "2020-08-09",
          "2020-08-08",
          "2020-08-07",
          "2020-08-06",
          "2020-08-05",
          "2020-08-04",
          "2020-08-01",
          "2020-08-02",
          "2020-08-03",
          "2020-07-31",
          "2020-07-30",
          "2020-07-28",
          "2020-07-29",
          "2020-07-27",
          "2020-07-26",
          "2020-07-25",
          "2020-07-24",
          "2020-07-23",
          "2020-07-22",
          "2020-07-21",
          "2020-07-20",
          "2020-07-17",
          "2020-07-18",
          "2020-07-19",
          "2020-07-16",
          "2020-07-15",
          "2020-07-13",
          "2020-07-14",
          "2020-07-10",
          "2020-07-11",
          "2020-07-12",
          "2020-07-09",
          "2020-07-08",
          "2020-07-07",
          "2020-07-06",
          "2020-07-05",
          "2020-07-03",
          "2020-07-04",
          "2020-07-02",
          "2020-07-01",
          "2020-06-30",
          "2020-06-29",
          "2020-06-26",
          "2020-06-27",
          "2020-06-28",
          "2020-06-24",
          "2020-06-25",
          "2020-06-23",
          "2020-06-22",
          "2020-06-21",
          "2020-06-20",
          "2020-06-19",
          "2020-06-18",
          "2020-06-17",
          "2020-06-16",
          "2020-06-15",
          "2020-06-14",
          "2020-06-13",
          "2020-06-12",
          "2020-06-11",
          "2020-06-10",
          "2020-06-09",
          "2020-06-08",
          "2020-06-07",
          "2020-06-06",
          "2020-06-05",
          "2020-06-04",
          "2020-06-01",
          "2020-05-31",
          "2020-06-03",
          "2020-05-30",
          "2020-06-02",
          "2020-05-29",
          "2020-05-28",
          "2020-05-25",
          "2020-05-27",
          "2020-05-26",
          "2020-05-24",
          "2020-05-23",
          "2020-05-22",
          "2020-05-21",
          "2020-05-20",
          "2020-05-19",
          "2020-05-18",
          "2020-05-17",
          "2020-05-15",
          "2020-05-16",
          "2020-05-14",
          "2020-05-12",
          "2020-05-13",
          "2020-05-11",
          "2020-05-10",
          "2020-05-09",
          "2020-05-08",
          "2020-05-07",
          "2020-05-06",
          "2020-05-05",
          "2020-05-04",
          "2020-04-28",
          "2020-05-03",
          "2020-05-02",
          "2020-05-01",
          "2020-04-30",
          "2020-04-29",
          "2020-04-27",
          "2020-04-26",
          "2020-04-25",
          "2020-04-24",
          "2020-04-23",
          "2020-04-21",
          "2020-04-22",
          "2020-04-20",
          "2020-04-19",
          "2020-04-18",
          "2020-04-17",
          "2020-04-16",
          "2020-04-15",
          "2020-04-14",
          "2020-04-13",
          "2020-04-12",
          "2020-04-11",
          "2020-04-10",
          "2020-04-09",
          "2020-04-08",
          "2020-04-07",
          "2020-04-06",
          "2020-04-05",
          "2020-04-04",
          "2020-04-03",
          "2020-04-02",
          "2020-04-01",
          "2020-03-31",
          "2020-03-30",
          "2020-03-29",
          "2020-03-28",
          "2020-03-27",
          "2020-03-26",
          "2020-03-25",
          "2020-03-24",
          "2020-03-23",
          "2020-03-22",
          "2020-03-21",
          "2020-03-20",
          "2020-03-19",
          "2020-03-18",
          "2020-03-17",
          "2020-03-16",
          "2020-03-15",
          "2020-03-14",
          "2020-03-13",
          "2020-03-11",
          "2020-03-12",
          "2020-03-10",
          "2020-03-09",
          "2020-03-08",
          "2020-03-07",
          "2020-03-06",
          "2020-03-05",
          "2020-03-04",
          "2020-03-03",
          "2020-03-02",
          "2020-03-01",
          "2020-02-29",
          "2020-02-28",
          "2020-02-27",
          "2020-02-26",
          "2020-02-25",
          "2020-02-24",
          "2020-02-20",
          "2020-02-23",
          "2020-02-22",
          "2020-02-21",
          "2020-02-18",
          "2020-02-19",
          "2020-02-17",
          "2020-02-16",
          "2020-02-15",
          "2020-02-11",
          "2020-02-08",
          "2020-02-09",
          "2020-02-10",
          "2020-02-14",
          "2020-02-12",
          "2020-02-13",
          "2020-02-04",
          "2020-02-05",
          "2020-02-06",
          "2020-02-07",
          "2020-02-03",
          "2020-02-02",
          "2020-02-01",
          "2020-01-29",
          "2020-01-31",
          "2020-01-30",
          "2020-01-28",
          "2020-01-25",
          "2020-01-27",
          "2020-01-26",
          "2020-01-24",
          "2020-01-23",
          "2020-01-22"
         ],
         "xaxis": "x",
         "y": [
          2270573,
          2260789,
          2248209,
          2235537,
          2221874,
          2206126,
          2195940,
          2191180,
          2178023,
          2160343,
          2137096,
          2115717,
          2087183,
          2041293,
          2031472,
          2004244,
          1972149,
          1948134,
          1914722,
          1878498,
          1856027,
          1835187,
          1709773,
          1709716,
          1648989,
          1591152,
          1549174,
          1512541,
          1458999,
          1412709,
          1377347,
          1327852,
          1280215,
          1244242,
          1209651,
          1084746,
          1084684,
          1084659,
          1041991,
          1000369,
          973275,
          952600,
          876342,
          876342,
          876342,
          850997,
          820376,
          798257,
          776097,
          732434,
          732434,
          732434,
          711704,
          693603,
          675736,
          664289,
          629509,
          629509,
          629431,
          616986,
          604031,
          590021,
          577980,
          552473,
          552454,
          552421,
          536289,
          508456,
          507150,
          496851,
          467614,
          467614,
          467421,
          454266,
          443869,
          433905,
          425870,
          402893,
          402811,
          401890,
          392243,
          383292,
          373718,
          367174,
          347268,
          347267,
          347267,
          338220,
          331060,
          323968,
          318986,
          315813,
          304947,
          304947,
          297485,
          291374,
          285902,
          282414,
          280459,
          275562,
          271960,
          256534,
          256534,
          256534,
          256533,
          252965,
          252965,
          249655,
          244096,
          244088,
          239355,
          239349,
          235237,
          235208,
          235207,
          231310,
          228576,
          228576,
          225198,
          225198,
          225198,
          225197,
          222469,
          221077,
          221077,
          220352,
          217801,
          217801,
          217797,
          216667,
          215605,
          214607,
          214023,
          211943,
          211943,
          211943,
          211102,
          210568,
          209640,
          209640,
          208015,
          208015,
          208015,
          207356,
          206072,
          206072,
          205597,
          204222,
          204222,
          204222,
          203640,
          202981,
          202063,
          201522,
          200195,
          200195,
          199476,
          198607,
          198607,
          198526,
          198009,
          197636,
          197352,
          196711,
          195900,
          195433,
          194975,
          194631,
          194479,
          194072,
          193546,
          192819,
          192394,
          191849,
          191445,
          191234,
          190891,
          190312,
          189701,
          189348,
          189009,
          188934,
          188752,
          188582,
          186923,
          186364,
          183067,
          183038,
          182847,
          182709,
          182694,
          182354,
          181951,
          181700,
          180933,
          180051,
          179693,
          179630,
          179630,
          178994,
          178349,
          178184,
          177547,
          177094,
          176782,
          176202,
          174918,
          174224,
          170687,
          169583,
          169053,
          168925,
          168518,
          167305,
          167299,
          166543,
          165963,
          162220,
          161644,
          159952,
          158303,
          158168,
          155980,
          155393,
          153011,
          148086,
          148084,
          146075,
          133585,
          130365,
          125394,
          121712,
          94863,
          91738,
          87366,
          83057,
          79163,
          75343,
          71412,
          69500,
          65202,
          59929,
          57749,
          52827,
          45170,
          40708,
          38105,
          33402,
          29551,
          25600,
          22622,
          20123,
          16243,
          14463,
          12758,
          10970,
          9124,
          7715,
          6683,
          4532,
          4496,
          3681,
          2293,
          2293,
          1794,
          1219,
          1136,
          959,
          656,
          380,
          288,
          204,
          191,
          130,
          100,
          57,
          38,
          18,
          14,
          12,
          12,
          12,
          12,
          12,
          12,
          12,
          12,
          12,
          12,
          11,
          11,
          11,
          11,
          11,
          11,
          11,
          6,
          6,
          6,
          6,
          6,
          6,
          6,
          5,
          5,
          5,
          4,
          3,
          3,
          3,
          2,
          0,
          0
         ],
         "yaxis": "y"
        }
       ],
       "layout": {
        "barmode": "relative",
        "coloraxis": {
         "colorbar": {
          "title": {
           "text": "Confirmed"
          }
         },
         "colorscale": [
          [
           0,
           "rgb(237, 229, 207)"
          ],
          [
           0.16666666666666666,
           "rgb(224, 194, 162)"
          ],
          [
           0.3333333333333333,
           "rgb(211, 156, 131)"
          ],
          [
           0.5,
           "rgb(193, 118, 111)"
          ],
          [
           0.6666666666666666,
           "rgb(166, 84, 97)"
          ],
          [
           0.8333333333333334,
           "rgb(129, 55, 83)"
          ],
          [
           1,
           "rgb(84, 31, 63)"
          ]
         ]
        },
        "legend": {
         "tracegroupgap": 0
        },
        "margin": {
         "t": 60
        },
        "template": {
         "data": {
          "bar": [
           {
            "error_x": {
             "color": "#2a3f5f"
            },
            "error_y": {
             "color": "#2a3f5f"
            },
            "marker": {
             "line": {
              "color": "#E5ECF6",
              "width": 0.5
             }
            },
            "type": "bar"
           }
          ],
          "barpolar": [
           {
            "marker": {
             "line": {
              "color": "#E5ECF6",
              "width": 0.5
             }
            },
            "type": "barpolar"
           }
          ],
          "carpet": [
           {
            "aaxis": {
             "endlinecolor": "#2a3f5f",
             "gridcolor": "white",
             "linecolor": "white",
             "minorgridcolor": "white",
             "startlinecolor": "#2a3f5f"
            },
            "baxis": {
             "endlinecolor": "#2a3f5f",
             "gridcolor": "white",
             "linecolor": "white",
             "minorgridcolor": "white",
             "startlinecolor": "#2a3f5f"
            },
            "type": "carpet"
           }
          ],
          "choropleth": [
           {
            "colorbar": {
             "outlinewidth": 0,
             "ticks": ""
            },
            "type": "choropleth"
           }
          ],
          "contour": [
           {
            "colorbar": {
             "outlinewidth": 0,
             "ticks": ""
            },
            "colorscale": [
             [
              0,
              "#0d0887"
             ],
             [
              0.1111111111111111,
              "#46039f"
             ],
             [
              0.2222222222222222,
              "#7201a8"
             ],
             [
              0.3333333333333333,
              "#9c179e"
             ],
             [
              0.4444444444444444,
              "#bd3786"
             ],
             [
              0.5555555555555556,
              "#d8576b"
             ],
             [
              0.6666666666666666,
              "#ed7953"
             ],
             [
              0.7777777777777778,
              "#fb9f3a"
             ],
             [
              0.8888888888888888,
              "#fdca26"
             ],
             [
              1,
              "#f0f921"
             ]
            ],
            "type": "contour"
           }
          ],
          "contourcarpet": [
           {
            "colorbar": {
             "outlinewidth": 0,
             "ticks": ""
            },
            "type": "contourcarpet"
           }
          ],
          "heatmap": [
           {
            "colorbar": {
             "outlinewidth": 0,
             "ticks": ""
            },
            "colorscale": [
             [
              0,
              "#0d0887"
             ],
             [
              0.1111111111111111,
              "#46039f"
             ],
             [
              0.2222222222222222,
              "#7201a8"
             ],
             [
              0.3333333333333333,
              "#9c179e"
             ],
             [
              0.4444444444444444,
              "#bd3786"
             ],
             [
              0.5555555555555556,
              "#d8576b"
             ],
             [
              0.6666666666666666,
              "#ed7953"
             ],
             [
              0.7777777777777778,
              "#fb9f3a"
             ],
             [
              0.8888888888888888,
              "#fdca26"
             ],
             [
              1,
              "#f0f921"
             ]
            ],
            "type": "heatmap"
           }
          ],
          "heatmapgl": [
           {
            "colorbar": {
             "outlinewidth": 0,
             "ticks": ""
            },
            "colorscale": [
             [
              0,
              "#0d0887"
             ],
             [
              0.1111111111111111,
              "#46039f"
             ],
             [
              0.2222222222222222,
              "#7201a8"
             ],
             [
              0.3333333333333333,
              "#9c179e"
             ],
             [
              0.4444444444444444,
              "#bd3786"
             ],
             [
              0.5555555555555556,
              "#d8576b"
             ],
             [
              0.6666666666666666,
              "#ed7953"
             ],
             [
              0.7777777777777778,
              "#fb9f3a"
             ],
             [
              0.8888888888888888,
              "#fdca26"
             ],
             [
              1,
              "#f0f921"
             ]
            ],
            "type": "heatmapgl"
           }
          ],
          "histogram": [
           {
            "marker": {
             "colorbar": {
              "outlinewidth": 0,
              "ticks": ""
             }
            },
            "type": "histogram"
           }
          ],
          "histogram2d": [
           {
            "colorbar": {
             "outlinewidth": 0,
             "ticks": ""
            },
            "colorscale": [
             [
              0,
              "#0d0887"
             ],
             [
              0.1111111111111111,
              "#46039f"
             ],
             [
              0.2222222222222222,
              "#7201a8"
             ],
             [
              0.3333333333333333,
              "#9c179e"
             ],
             [
              0.4444444444444444,
              "#bd3786"
             ],
             [
              0.5555555555555556,
              "#d8576b"
             ],
             [
              0.6666666666666666,
              "#ed7953"
             ],
             [
              0.7777777777777778,
              "#fb9f3a"
             ],
             [
              0.8888888888888888,
              "#fdca26"
             ],
             [
              1,
              "#f0f921"
             ]
            ],
            "type": "histogram2d"
           }
          ],
          "histogram2dcontour": [
           {
            "colorbar": {
             "outlinewidth": 0,
             "ticks": ""
            },
            "colorscale": [
             [
              0,
              "#0d0887"
             ],
             [
              0.1111111111111111,
              "#46039f"
             ],
             [
              0.2222222222222222,
              "#7201a8"
             ],
             [
              0.3333333333333333,
              "#9c179e"
             ],
             [
              0.4444444444444444,
              "#bd3786"
             ],
             [
              0.5555555555555556,
              "#d8576b"
             ],
             [
              0.6666666666666666,
              "#ed7953"
             ],
             [
              0.7777777777777778,
              "#fb9f3a"
             ],
             [
              0.8888888888888888,
              "#fdca26"
             ],
             [
              1,
              "#f0f921"
             ]
            ],
            "type": "histogram2dcontour"
           }
          ],
          "mesh3d": [
           {
            "colorbar": {
             "outlinewidth": 0,
             "ticks": ""
            },
            "type": "mesh3d"
           }
          ],
          "parcoords": [
           {
            "line": {
             "colorbar": {
              "outlinewidth": 0,
              "ticks": ""
             }
            },
            "type": "parcoords"
           }
          ],
          "pie": [
           {
            "automargin": true,
            "type": "pie"
           }
          ],
          "scatter": [
           {
            "marker": {
             "colorbar": {
              "outlinewidth": 0,
              "ticks": ""
             }
            },
            "type": "scatter"
           }
          ],
          "scatter3d": [
           {
            "line": {
             "colorbar": {
              "outlinewidth": 0,
              "ticks": ""
             }
            },
            "marker": {
             "colorbar": {
              "outlinewidth": 0,
              "ticks": ""
             }
            },
            "type": "scatter3d"
           }
          ],
          "scattercarpet": [
           {
            "marker": {
             "colorbar": {
              "outlinewidth": 0,
              "ticks": ""
             }
            },
            "type": "scattercarpet"
           }
          ],
          "scattergeo": [
           {
            "marker": {
             "colorbar": {
              "outlinewidth": 0,
              "ticks": ""
             }
            },
            "type": "scattergeo"
           }
          ],
          "scattergl": [
           {
            "marker": {
             "colorbar": {
              "outlinewidth": 0,
              "ticks": ""
             }
            },
            "type": "scattergl"
           }
          ],
          "scattermapbox": [
           {
            "marker": {
             "colorbar": {
              "outlinewidth": 0,
              "ticks": ""
             }
            },
            "type": "scattermapbox"
           }
          ],
          "scatterpolar": [
           {
            "marker": {
             "colorbar": {
              "outlinewidth": 0,
              "ticks": ""
             }
            },
            "type": "scatterpolar"
           }
          ],
          "scatterpolargl": [
           {
            "marker": {
             "colorbar": {
              "outlinewidth": 0,
              "ticks": ""
             }
            },
            "type": "scatterpolargl"
           }
          ],
          "scatterternary": [
           {
            "marker": {
             "colorbar": {
              "outlinewidth": 0,
              "ticks": ""
             }
            },
            "type": "scatterternary"
           }
          ],
          "surface": [
           {
            "colorbar": {
             "outlinewidth": 0,
             "ticks": ""
            },
            "colorscale": [
             [
              0,
              "#0d0887"
             ],
             [
              0.1111111111111111,
              "#46039f"
             ],
             [
              0.2222222222222222,
              "#7201a8"
             ],
             [
              0.3333333333333333,
              "#9c179e"
             ],
             [
              0.4444444444444444,
              "#bd3786"
             ],
             [
              0.5555555555555556,
              "#d8576b"
             ],
             [
              0.6666666666666666,
              "#ed7953"
             ],
             [
              0.7777777777777778,
              "#fb9f3a"
             ],
             [
              0.8888888888888888,
              "#fdca26"
             ],
             [
              1,
              "#f0f921"
             ]
            ],
            "type": "surface"
           }
          ],
          "table": [
           {
            "cells": {
             "fill": {
              "color": "#EBF0F8"
             },
             "line": {
              "color": "white"
             }
            },
            "header": {
             "fill": {
              "color": "#C8D4E3"
             },
             "line": {
              "color": "white"
             }
            },
            "type": "table"
           }
          ]
         },
         "layout": {
          "annotationdefaults": {
           "arrowcolor": "#2a3f5f",
           "arrowhead": 0,
           "arrowwidth": 1
          },
          "autotypenumbers": "strict",
          "coloraxis": {
           "colorbar": {
            "outlinewidth": 0,
            "ticks": ""
           }
          },
          "colorscale": {
           "diverging": [
            [
             0,
             "#8e0152"
            ],
            [
             0.1,
             "#c51b7d"
            ],
            [
             0.2,
             "#de77ae"
            ],
            [
             0.3,
             "#f1b6da"
            ],
            [
             0.4,
             "#fde0ef"
            ],
            [
             0.5,
             "#f7f7f7"
            ],
            [
             0.6,
             "#e6f5d0"
            ],
            [
             0.7,
             "#b8e186"
            ],
            [
             0.8,
             "#7fbc41"
            ],
            [
             0.9,
             "#4d9221"
            ],
            [
             1,
             "#276419"
            ]
           ],
           "sequential": [
            [
             0,
             "#0d0887"
            ],
            [
             0.1111111111111111,
             "#46039f"
            ],
            [
             0.2222222222222222,
             "#7201a8"
            ],
            [
             0.3333333333333333,
             "#9c179e"
            ],
            [
             0.4444444444444444,
             "#bd3786"
            ],
            [
             0.5555555555555556,
             "#d8576b"
            ],
            [
             0.6666666666666666,
             "#ed7953"
            ],
            [
             0.7777777777777778,
             "#fb9f3a"
            ],
            [
             0.8888888888888888,
             "#fdca26"
            ],
            [
             1,
             "#f0f921"
            ]
           ],
           "sequentialminus": [
            [
             0,
             "#0d0887"
            ],
            [
             0.1111111111111111,
             "#46039f"
            ],
            [
             0.2222222222222222,
             "#7201a8"
            ],
            [
             0.3333333333333333,
             "#9c179e"
            ],
            [
             0.4444444444444444,
             "#bd3786"
            ],
            [
             0.5555555555555556,
             "#d8576b"
            ],
            [
             0.6666666666666666,
             "#ed7953"
            ],
            [
             0.7777777777777778,
             "#fb9f3a"
            ],
            [
             0.8888888888888888,
             "#fdca26"
            ],
            [
             1,
             "#f0f921"
            ]
           ]
          },
          "colorway": [
           "#636efa",
           "#EF553B",
           "#00cc96",
           "#ab63fa",
           "#FFA15A",
           "#19d3f3",
           "#FF6692",
           "#B6E880",
           "#FF97FF",
           "#FECB52"
          ],
          "font": {
           "color": "#2a3f5f"
          },
          "geo": {
           "bgcolor": "white",
           "lakecolor": "white",
           "landcolor": "#E5ECF6",
           "showlakes": true,
           "showland": true,
           "subunitcolor": "white"
          },
          "hoverlabel": {
           "align": "left"
          },
          "hovermode": "closest",
          "mapbox": {
           "style": "light"
          },
          "paper_bgcolor": "white",
          "plot_bgcolor": "#E5ECF6",
          "polar": {
           "angularaxis": {
            "gridcolor": "white",
            "linecolor": "white",
            "ticks": ""
           },
           "bgcolor": "#E5ECF6",
           "radialaxis": {
            "gridcolor": "white",
            "linecolor": "white",
            "ticks": ""
           }
          },
          "scene": {
           "xaxis": {
            "backgroundcolor": "#E5ECF6",
            "gridcolor": "white",
            "gridwidth": 2,
            "linecolor": "white",
            "showbackground": true,
            "ticks": "",
            "zerolinecolor": "white"
           },
           "yaxis": {
            "backgroundcolor": "#E5ECF6",
            "gridcolor": "white",
            "gridwidth": 2,
            "linecolor": "white",
            "showbackground": true,
            "ticks": "",
            "zerolinecolor": "white"
           },
           "zaxis": {
            "backgroundcolor": "#E5ECF6",
            "gridcolor": "white",
            "gridwidth": 2,
            "linecolor": "white",
            "showbackground": true,
            "ticks": "",
            "zerolinecolor": "white"
           }
          },
          "shapedefaults": {
           "line": {
            "color": "#2a3f5f"
           }
          },
          "ternary": {
           "aaxis": {
            "gridcolor": "white",
            "linecolor": "white",
            "ticks": ""
           },
           "baxis": {
            "gridcolor": "white",
            "linecolor": "white",
            "ticks": ""
           },
           "bgcolor": "#E5ECF6",
           "caxis": {
            "gridcolor": "white",
            "linecolor": "white",
            "ticks": ""
           }
          },
          "title": {
           "x": 0.05
          },
          "xaxis": {
           "automargin": true,
           "gridcolor": "white",
           "linecolor": "white",
           "ticks": "",
           "title": {
            "standoff": 15
           },
           "zerolinecolor": "white",
           "zerolinewidth": 2
          },
          "yaxis": {
           "automargin": true,
           "gridcolor": "white",
           "linecolor": "white",
           "ticks": "",
           "title": {
            "standoff": 15
           },
           "zerolinecolor": "white",
           "zerolinewidth": 2
          }
         }
        },
        "title": {
         "text": "Confirmed COVID-19 cases per day in France"
        },
        "xaxis": {
         "anchor": "y",
         "domain": [
          0,
          1
         ],
         "title": {
          "text": "Date"
         }
        },
        "yaxis": {
         "anchor": "x",
         "domain": [
          0,
          1
         ],
         "title": {
          "text": "Confirmed"
         }
        }
       }
      },
      "text/html": [
       "<div>                            <div id=\"333ffed7-a38a-4bc2-9f05-cd7d2d3fe63c\" class=\"plotly-graph-div\" style=\"height:525px; width:100%;\"></div>            <script type=\"text/javascript\">                require([\"plotly\"], function(Plotly) {                    window.PLOTLYENV=window.PLOTLYENV || {};                                    if (document.getElementById(\"333ffed7-a38a-4bc2-9f05-cd7d2d3fe63c\")) {                    Plotly.newPlot(                        \"333ffed7-a38a-4bc2-9f05-cd7d2d3fe63c\",                        [{\"alignmentgroup\": \"True\", \"hovertemplate\": \"Date=%{x}<br>Confirmed=%{marker.color}<extra></extra>\", \"legendgroup\": \"\", \"marker\": {\"color\": [2270573, 2260789, 2248209, 2235537, 2221874, 2206126, 2195940, 2191180, 2178023, 2160343, 2137096, 2115717, 2087183, 2041293, 2031472, 2004244, 1972149, 1948134, 1914722, 1878498, 1856027, 1835187, 1709773, 1709716, 1648989, 1591152, 1549174, 1512541, 1458999, 1412709, 1377347, 1327852, 1280215, 1244242, 1209651, 1084746, 1084684, 1084659, 1041991, 1000369, 973275, 952600, 876342, 876342, 876342, 850997, 820376, 798257, 776097, 732434, 732434, 732434, 711704, 693603, 675736, 664289, 629509, 629509, 629431, 616986, 604031, 590021, 577980, 552473, 552454, 552421, 536289, 508456, 507150, 496851, 467614, 467614, 467421, 454266, 443869, 433905, 425870, 402893, 402811, 401890, 392243, 383292, 373718, 367174, 347268, 347267, 347267, 338220, 331060, 323968, 318986, 315813, 304947, 304947, 297485, 291374, 285902, 282414, 280459, 275562, 271960, 256534, 256534, 256534, 256533, 252965, 252965, 249655, 244096, 244088, 239355, 239349, 235237, 235208, 235207, 231310, 228576, 228576, 225198, 225198, 225198, 225197, 222469, 221077, 221077, 220352, 217801, 217801, 217797, 216667, 215605, 214607, 214023, 211943, 211943, 211943, 211102, 210568, 209640, 209640, 208015, 208015, 208015, 207356, 206072, 206072, 205597, 204222, 204222, 204222, 203640, 202981, 202063, 201522, 200195, 200195, 199476, 198607, 198607, 198526, 198009, 197636, 197352, 196711, 195900, 195433, 194975, 194631, 194479, 194072, 193546, 192819, 192394, 191849, 191445, 191234, 190891, 190312, 189701, 189348, 189009, 188934, 188752, 188582, 186923, 186364, 183067, 183038, 182847, 182709, 182694, 182354, 181951, 181700, 180933, 180051, 179693, 179630, 179630, 178994, 178349, 178184, 177547, 177094, 176782, 176202, 174918, 174224, 170687, 169583, 169053, 168925, 168518, 167305, 167299, 166543, 165963, 162220, 161644, 159952, 158303, 158168, 155980, 155393, 153011, 148086, 148084, 146075, 133585, 130365, 125394, 121712, 94863, 91738, 87366, 83057, 79163, 75343, 71412, 69500, 65202, 59929, 57749, 52827, 45170, 40708, 38105, 33402, 29551, 25600, 22622, 20123, 16243, 14463, 12758, 10970, 9124, 7715, 6683, 4532, 4496, 3681, 2293, 2293, 1794, 1219, 1136, 959, 656, 380, 288, 204, 191, 130, 100, 57, 38, 18, 14, 12, 12, 12, 12, 12, 12, 12, 12, 12, 12, 11, 11, 11, 11, 11, 11, 11, 6, 6, 6, 6, 6, 6, 6, 5, 5, 5, 4, 3, 3, 3, 2, 0, 0], \"coloraxis\": \"coloraxis\"}, \"name\": \"\", \"offsetgroup\": \"\", \"orientation\": \"v\", \"showlegend\": false, \"textposition\": \"auto\", \"type\": \"bar\", \"x\": [\"2020-11-29\", \"2020-11-28\", \"2020-11-27\", \"2020-11-26\", \"2020-11-25\", \"2020-11-24\", \"2020-11-23\", \"2020-11-22\", \"2020-11-21\", \"2020-11-20\", \"2020-11-19\", \"2020-11-18\", \"2020-11-17\", \"2020-11-16\", \"2020-11-15\", \"2020-11-14\", \"2020-11-13\", \"2020-11-12\", \"2020-11-11\", \"2020-11-10\", \"2020-11-09\", \"2020-11-08\", \"2020-11-07\", \"2020-11-06\", \"2020-11-05\", \"2020-11-04\", \"2020-11-03\", \"2020-11-02\", \"2020-11-01\", \"2020-10-31\", \"2020-10-30\", \"2020-10-29\", \"2020-10-28\", \"2020-10-27\", \"2020-10-26\", \"2020-10-25\", \"2020-10-24\", \"2020-10-23\", \"2020-10-22\", \"2020-10-21\", \"2020-10-20\", \"2020-10-19\", \"2020-10-16\", \"2020-10-17\", \"2020-10-18\", \"2020-10-15\", \"2020-10-14\", \"2020-10-13\", \"2020-10-12\", \"2020-10-09\", \"2020-10-11\", \"2020-10-10\", \"2020-10-08\", \"2020-10-07\", \"2020-10-06\", \"2020-10-05\", \"2020-10-04\", \"2020-10-03\", \"2020-10-02\", \"2020-10-01\", \"2020-09-30\", \"2020-09-29\", \"2020-09-28\", \"2020-09-27\", \"2020-09-26\", \"2020-09-25\", \"2020-09-24\", \"2020-09-23\", \"2020-09-22\", \"2020-09-21\", \"2020-09-20\", \"2020-09-19\", \"2020-09-18\", \"2020-09-17\", \"2020-09-16\", \"2020-09-15\", \"2020-09-14\", \"2020-09-13\", \"2020-09-12\", \"2020-09-11\", \"2020-09-10\", \"2020-09-09\", \"2020-09-08\", \"2020-09-07\", \"2020-09-06\", \"2020-09-04\", \"2020-09-05\", \"2020-09-03\", \"2020-09-02\", \"2020-09-01\", \"2020-08-31\", \"2020-08-30\", \"2020-08-28\", \"2020-08-29\", \"2020-08-27\", \"2020-08-26\", \"2020-08-25\", \"2020-08-24\", \"2020-08-23\", \"2020-08-22\", \"2020-08-21\", \"2020-08-20\", \"2020-08-19\", \"2020-08-18\", \"2020-08-17\", \"2020-08-16\", \"2020-08-15\", \"2020-08-14\", \"2020-08-13\", \"2020-08-12\", \"2020-08-11\", \"2020-08-10\", \"2020-08-09\", \"2020-08-08\", \"2020-08-07\", \"2020-08-06\", \"2020-08-05\", \"2020-08-04\", \"2020-08-01\", \"2020-08-02\", \"2020-08-03\", \"2020-07-31\", \"2020-07-30\", \"2020-07-28\", \"2020-07-29\", \"2020-07-27\", \"2020-07-26\", \"2020-07-25\", \"2020-07-24\", \"2020-07-23\", \"2020-07-22\", \"2020-07-21\", \"2020-07-20\", \"2020-07-17\", \"2020-07-18\", \"2020-07-19\", \"2020-07-16\", \"2020-07-15\", \"2020-07-13\", \"2020-07-14\", \"2020-07-10\", \"2020-07-11\", \"2020-07-12\", \"2020-07-09\", \"2020-07-08\", \"2020-07-07\", \"2020-07-06\", \"2020-07-05\", \"2020-07-03\", \"2020-07-04\", \"2020-07-02\", \"2020-07-01\", \"2020-06-30\", \"2020-06-29\", \"2020-06-26\", \"2020-06-27\", \"2020-06-28\", \"2020-06-24\", \"2020-06-25\", \"2020-06-23\", \"2020-06-22\", \"2020-06-21\", \"2020-06-20\", \"2020-06-19\", \"2020-06-18\", \"2020-06-17\", \"2020-06-16\", \"2020-06-15\", \"2020-06-14\", \"2020-06-13\", \"2020-06-12\", \"2020-06-11\", \"2020-06-10\", \"2020-06-09\", \"2020-06-08\", \"2020-06-07\", \"2020-06-06\", \"2020-06-05\", \"2020-06-04\", \"2020-06-01\", \"2020-05-31\", \"2020-06-03\", \"2020-05-30\", \"2020-06-02\", \"2020-05-29\", \"2020-05-28\", \"2020-05-25\", \"2020-05-27\", \"2020-05-26\", \"2020-05-24\", \"2020-05-23\", \"2020-05-22\", \"2020-05-21\", \"2020-05-20\", \"2020-05-19\", \"2020-05-18\", \"2020-05-17\", \"2020-05-15\", \"2020-05-16\", \"2020-05-14\", \"2020-05-12\", \"2020-05-13\", \"2020-05-11\", \"2020-05-10\", \"2020-05-09\", \"2020-05-08\", \"2020-05-07\", \"2020-05-06\", \"2020-05-05\", \"2020-05-04\", \"2020-04-28\", \"2020-05-03\", \"2020-05-02\", \"2020-05-01\", \"2020-04-30\", \"2020-04-29\", \"2020-04-27\", \"2020-04-26\", \"2020-04-25\", \"2020-04-24\", \"2020-04-23\", \"2020-04-21\", \"2020-04-22\", \"2020-04-20\", \"2020-04-19\", \"2020-04-18\", \"2020-04-17\", \"2020-04-16\", \"2020-04-15\", \"2020-04-14\", \"2020-04-13\", \"2020-04-12\", \"2020-04-11\", \"2020-04-10\", \"2020-04-09\", \"2020-04-08\", \"2020-04-07\", \"2020-04-06\", \"2020-04-05\", \"2020-04-04\", \"2020-04-03\", \"2020-04-02\", \"2020-04-01\", \"2020-03-31\", \"2020-03-30\", \"2020-03-29\", \"2020-03-28\", \"2020-03-27\", \"2020-03-26\", \"2020-03-25\", \"2020-03-24\", \"2020-03-23\", \"2020-03-22\", \"2020-03-21\", \"2020-03-20\", \"2020-03-19\", \"2020-03-18\", \"2020-03-17\", \"2020-03-16\", \"2020-03-15\", \"2020-03-14\", \"2020-03-13\", \"2020-03-11\", \"2020-03-12\", \"2020-03-10\", \"2020-03-09\", \"2020-03-08\", \"2020-03-07\", \"2020-03-06\", \"2020-03-05\", \"2020-03-04\", \"2020-03-03\", \"2020-03-02\", \"2020-03-01\", \"2020-02-29\", \"2020-02-28\", \"2020-02-27\", \"2020-02-26\", \"2020-02-25\", \"2020-02-24\", \"2020-02-20\", \"2020-02-23\", \"2020-02-22\", \"2020-02-21\", \"2020-02-18\", \"2020-02-19\", \"2020-02-17\", \"2020-02-16\", \"2020-02-15\", \"2020-02-11\", \"2020-02-08\", \"2020-02-09\", \"2020-02-10\", \"2020-02-14\", \"2020-02-12\", \"2020-02-13\", \"2020-02-04\", \"2020-02-05\", \"2020-02-06\", \"2020-02-07\", \"2020-02-03\", \"2020-02-02\", \"2020-02-01\", \"2020-01-29\", \"2020-01-31\", \"2020-01-30\", \"2020-01-28\", \"2020-01-25\", \"2020-01-27\", \"2020-01-26\", \"2020-01-24\", \"2020-01-23\", \"2020-01-22\"], \"xaxis\": \"x\", \"y\": [2270573, 2260789, 2248209, 2235537, 2221874, 2206126, 2195940, 2191180, 2178023, 2160343, 2137096, 2115717, 2087183, 2041293, 2031472, 2004244, 1972149, 1948134, 1914722, 1878498, 1856027, 1835187, 1709773, 1709716, 1648989, 1591152, 1549174, 1512541, 1458999, 1412709, 1377347, 1327852, 1280215, 1244242, 1209651, 1084746, 1084684, 1084659, 1041991, 1000369, 973275, 952600, 876342, 876342, 876342, 850997, 820376, 798257, 776097, 732434, 732434, 732434, 711704, 693603, 675736, 664289, 629509, 629509, 629431, 616986, 604031, 590021, 577980, 552473, 552454, 552421, 536289, 508456, 507150, 496851, 467614, 467614, 467421, 454266, 443869, 433905, 425870, 402893, 402811, 401890, 392243, 383292, 373718, 367174, 347268, 347267, 347267, 338220, 331060, 323968, 318986, 315813, 304947, 304947, 297485, 291374, 285902, 282414, 280459, 275562, 271960, 256534, 256534, 256534, 256533, 252965, 252965, 249655, 244096, 244088, 239355, 239349, 235237, 235208, 235207, 231310, 228576, 228576, 225198, 225198, 225198, 225197, 222469, 221077, 221077, 220352, 217801, 217801, 217797, 216667, 215605, 214607, 214023, 211943, 211943, 211943, 211102, 210568, 209640, 209640, 208015, 208015, 208015, 207356, 206072, 206072, 205597, 204222, 204222, 204222, 203640, 202981, 202063, 201522, 200195, 200195, 199476, 198607, 198607, 198526, 198009, 197636, 197352, 196711, 195900, 195433, 194975, 194631, 194479, 194072, 193546, 192819, 192394, 191849, 191445, 191234, 190891, 190312, 189701, 189348, 189009, 188934, 188752, 188582, 186923, 186364, 183067, 183038, 182847, 182709, 182694, 182354, 181951, 181700, 180933, 180051, 179693, 179630, 179630, 178994, 178349, 178184, 177547, 177094, 176782, 176202, 174918, 174224, 170687, 169583, 169053, 168925, 168518, 167305, 167299, 166543, 165963, 162220, 161644, 159952, 158303, 158168, 155980, 155393, 153011, 148086, 148084, 146075, 133585, 130365, 125394, 121712, 94863, 91738, 87366, 83057, 79163, 75343, 71412, 69500, 65202, 59929, 57749, 52827, 45170, 40708, 38105, 33402, 29551, 25600, 22622, 20123, 16243, 14463, 12758, 10970, 9124, 7715, 6683, 4532, 4496, 3681, 2293, 2293, 1794, 1219, 1136, 959, 656, 380, 288, 204, 191, 130, 100, 57, 38, 18, 14, 12, 12, 12, 12, 12, 12, 12, 12, 12, 12, 11, 11, 11, 11, 11, 11, 11, 6, 6, 6, 6, 6, 6, 6, 5, 5, 5, 4, 3, 3, 3, 2, 0, 0], \"yaxis\": \"y\"}],                        {\"barmode\": \"relative\", \"coloraxis\": {\"colorbar\": {\"title\": {\"text\": \"Confirmed\"}}, \"colorscale\": [[0.0, \"rgb(237, 229, 207)\"], [0.16666666666666666, \"rgb(224, 194, 162)\"], [0.3333333333333333, \"rgb(211, 156, 131)\"], [0.5, \"rgb(193, 118, 111)\"], [0.6666666666666666, \"rgb(166, 84, 97)\"], [0.8333333333333334, \"rgb(129, 55, 83)\"], [1.0, \"rgb(84, 31, 63)\"]]}, \"legend\": {\"tracegroupgap\": 0}, \"margin\": {\"t\": 60}, \"template\": {\"data\": {\"bar\": [{\"error_x\": {\"color\": \"#2a3f5f\"}, \"error_y\": {\"color\": \"#2a3f5f\"}, \"marker\": {\"line\": {\"color\": \"#E5ECF6\", \"width\": 0.5}}, \"type\": \"bar\"}], \"barpolar\": [{\"marker\": {\"line\": {\"color\": \"#E5ECF6\", \"width\": 0.5}}, \"type\": \"barpolar\"}], \"carpet\": [{\"aaxis\": {\"endlinecolor\": \"#2a3f5f\", \"gridcolor\": \"white\", \"linecolor\": \"white\", \"minorgridcolor\": \"white\", \"startlinecolor\": \"#2a3f5f\"}, \"baxis\": {\"endlinecolor\": \"#2a3f5f\", \"gridcolor\": \"white\", \"linecolor\": \"white\", \"minorgridcolor\": \"white\", \"startlinecolor\": \"#2a3f5f\"}, \"type\": \"carpet\"}], \"choropleth\": [{\"colorbar\": {\"outlinewidth\": 0, \"ticks\": \"\"}, \"type\": \"choropleth\"}], \"contour\": [{\"colorbar\": {\"outlinewidth\": 0, \"ticks\": \"\"}, \"colorscale\": [[0.0, \"#0d0887\"], [0.1111111111111111, \"#46039f\"], [0.2222222222222222, \"#7201a8\"], [0.3333333333333333, \"#9c179e\"], [0.4444444444444444, \"#bd3786\"], [0.5555555555555556, \"#d8576b\"], [0.6666666666666666, \"#ed7953\"], [0.7777777777777778, \"#fb9f3a\"], [0.8888888888888888, \"#fdca26\"], [1.0, \"#f0f921\"]], \"type\": \"contour\"}], \"contourcarpet\": [{\"colorbar\": {\"outlinewidth\": 0, \"ticks\": \"\"}, \"type\": \"contourcarpet\"}], \"heatmap\": [{\"colorbar\": {\"outlinewidth\": 0, \"ticks\": \"\"}, \"colorscale\": [[0.0, \"#0d0887\"], [0.1111111111111111, \"#46039f\"], [0.2222222222222222, \"#7201a8\"], [0.3333333333333333, \"#9c179e\"], [0.4444444444444444, \"#bd3786\"], [0.5555555555555556, \"#d8576b\"], [0.6666666666666666, \"#ed7953\"], [0.7777777777777778, \"#fb9f3a\"], [0.8888888888888888, \"#fdca26\"], [1.0, \"#f0f921\"]], \"type\": \"heatmap\"}], \"heatmapgl\": [{\"colorbar\": {\"outlinewidth\": 0, \"ticks\": \"\"}, \"colorscale\": [[0.0, \"#0d0887\"], [0.1111111111111111, \"#46039f\"], [0.2222222222222222, \"#7201a8\"], [0.3333333333333333, \"#9c179e\"], [0.4444444444444444, \"#bd3786\"], [0.5555555555555556, \"#d8576b\"], [0.6666666666666666, \"#ed7953\"], [0.7777777777777778, \"#fb9f3a\"], [0.8888888888888888, \"#fdca26\"], [1.0, \"#f0f921\"]], \"type\": \"heatmapgl\"}], \"histogram\": [{\"marker\": {\"colorbar\": {\"outlinewidth\": 0, \"ticks\": \"\"}}, \"type\": \"histogram\"}], \"histogram2d\": [{\"colorbar\": {\"outlinewidth\": 0, \"ticks\": \"\"}, \"colorscale\": [[0.0, \"#0d0887\"], [0.1111111111111111, \"#46039f\"], [0.2222222222222222, \"#7201a8\"], [0.3333333333333333, \"#9c179e\"], [0.4444444444444444, \"#bd3786\"], [0.5555555555555556, \"#d8576b\"], [0.6666666666666666, \"#ed7953\"], [0.7777777777777778, \"#fb9f3a\"], [0.8888888888888888, \"#fdca26\"], [1.0, \"#f0f921\"]], \"type\": \"histogram2d\"}], \"histogram2dcontour\": [{\"colorbar\": {\"outlinewidth\": 0, \"ticks\": \"\"}, \"colorscale\": [[0.0, \"#0d0887\"], [0.1111111111111111, \"#46039f\"], [0.2222222222222222, \"#7201a8\"], [0.3333333333333333, \"#9c179e\"], [0.4444444444444444, \"#bd3786\"], [0.5555555555555556, \"#d8576b\"], [0.6666666666666666, \"#ed7953\"], [0.7777777777777778, \"#fb9f3a\"], [0.8888888888888888, \"#fdca26\"], [1.0, \"#f0f921\"]], \"type\": \"histogram2dcontour\"}], \"mesh3d\": [{\"colorbar\": {\"outlinewidth\": 0, \"ticks\": \"\"}, \"type\": \"mesh3d\"}], \"parcoords\": [{\"line\": {\"colorbar\": {\"outlinewidth\": 0, \"ticks\": \"\"}}, \"type\": \"parcoords\"}], \"pie\": [{\"automargin\": true, \"type\": \"pie\"}], \"scatter\": [{\"marker\": {\"colorbar\": {\"outlinewidth\": 0, \"ticks\": \"\"}}, \"type\": \"scatter\"}], \"scatter3d\": [{\"line\": {\"colorbar\": {\"outlinewidth\": 0, \"ticks\": \"\"}}, \"marker\": {\"colorbar\": {\"outlinewidth\": 0, \"ticks\": \"\"}}, \"type\": \"scatter3d\"}], \"scattercarpet\": [{\"marker\": {\"colorbar\": {\"outlinewidth\": 0, \"ticks\": \"\"}}, \"type\": \"scattercarpet\"}], \"scattergeo\": [{\"marker\": {\"colorbar\": {\"outlinewidth\": 0, \"ticks\": \"\"}}, \"type\": \"scattergeo\"}], \"scattergl\": [{\"marker\": {\"colorbar\": {\"outlinewidth\": 0, \"ticks\": \"\"}}, \"type\": \"scattergl\"}], \"scattermapbox\": [{\"marker\": {\"colorbar\": {\"outlinewidth\": 0, \"ticks\": \"\"}}, \"type\": \"scattermapbox\"}], \"scatterpolar\": [{\"marker\": {\"colorbar\": {\"outlinewidth\": 0, \"ticks\": \"\"}}, \"type\": \"scatterpolar\"}], \"scatterpolargl\": [{\"marker\": {\"colorbar\": {\"outlinewidth\": 0, \"ticks\": \"\"}}, \"type\": \"scatterpolargl\"}], \"scatterternary\": [{\"marker\": {\"colorbar\": {\"outlinewidth\": 0, \"ticks\": \"\"}}, \"type\": \"scatterternary\"}], \"surface\": [{\"colorbar\": {\"outlinewidth\": 0, \"ticks\": \"\"}, \"colorscale\": [[0.0, \"#0d0887\"], [0.1111111111111111, \"#46039f\"], [0.2222222222222222, \"#7201a8\"], [0.3333333333333333, \"#9c179e\"], [0.4444444444444444, \"#bd3786\"], [0.5555555555555556, \"#d8576b\"], [0.6666666666666666, \"#ed7953\"], [0.7777777777777778, \"#fb9f3a\"], [0.8888888888888888, \"#fdca26\"], [1.0, \"#f0f921\"]], \"type\": \"surface\"}], \"table\": [{\"cells\": {\"fill\": {\"color\": \"#EBF0F8\"}, \"line\": {\"color\": \"white\"}}, \"header\": {\"fill\": {\"color\": \"#C8D4E3\"}, \"line\": {\"color\": \"white\"}}, \"type\": \"table\"}]}, \"layout\": {\"annotationdefaults\": {\"arrowcolor\": \"#2a3f5f\", \"arrowhead\": 0, \"arrowwidth\": 1}, \"autotypenumbers\": \"strict\", \"coloraxis\": {\"colorbar\": {\"outlinewidth\": 0, \"ticks\": \"\"}}, \"colorscale\": {\"diverging\": [[0, \"#8e0152\"], [0.1, \"#c51b7d\"], [0.2, \"#de77ae\"], [0.3, \"#f1b6da\"], [0.4, \"#fde0ef\"], [0.5, \"#f7f7f7\"], [0.6, \"#e6f5d0\"], [0.7, \"#b8e186\"], [0.8, \"#7fbc41\"], [0.9, \"#4d9221\"], [1, \"#276419\"]], \"sequential\": [[0.0, \"#0d0887\"], [0.1111111111111111, \"#46039f\"], [0.2222222222222222, \"#7201a8\"], [0.3333333333333333, \"#9c179e\"], [0.4444444444444444, \"#bd3786\"], [0.5555555555555556, \"#d8576b\"], [0.6666666666666666, \"#ed7953\"], [0.7777777777777778, \"#fb9f3a\"], [0.8888888888888888, \"#fdca26\"], [1.0, \"#f0f921\"]], \"sequentialminus\": [[0.0, \"#0d0887\"], [0.1111111111111111, \"#46039f\"], [0.2222222222222222, \"#7201a8\"], [0.3333333333333333, \"#9c179e\"], [0.4444444444444444, \"#bd3786\"], [0.5555555555555556, \"#d8576b\"], [0.6666666666666666, \"#ed7953\"], [0.7777777777777778, \"#fb9f3a\"], [0.8888888888888888, \"#fdca26\"], [1.0, \"#f0f921\"]]}, \"colorway\": [\"#636efa\", \"#EF553B\", \"#00cc96\", \"#ab63fa\", \"#FFA15A\", \"#19d3f3\", \"#FF6692\", \"#B6E880\", \"#FF97FF\", \"#FECB52\"], \"font\": {\"color\": \"#2a3f5f\"}, \"geo\": {\"bgcolor\": \"white\", \"lakecolor\": \"white\", \"landcolor\": \"#E5ECF6\", \"showlakes\": true, \"showland\": true, \"subunitcolor\": \"white\"}, \"hoverlabel\": {\"align\": \"left\"}, \"hovermode\": \"closest\", \"mapbox\": {\"style\": \"light\"}, \"paper_bgcolor\": \"white\", \"plot_bgcolor\": \"#E5ECF6\", \"polar\": {\"angularaxis\": {\"gridcolor\": \"white\", \"linecolor\": \"white\", \"ticks\": \"\"}, \"bgcolor\": \"#E5ECF6\", \"radialaxis\": {\"gridcolor\": \"white\", \"linecolor\": \"white\", \"ticks\": \"\"}}, \"scene\": {\"xaxis\": {\"backgroundcolor\": \"#E5ECF6\", \"gridcolor\": \"white\", \"gridwidth\": 2, \"linecolor\": \"white\", \"showbackground\": true, \"ticks\": \"\", \"zerolinecolor\": \"white\"}, \"yaxis\": {\"backgroundcolor\": \"#E5ECF6\", \"gridcolor\": \"white\", \"gridwidth\": 2, \"linecolor\": \"white\", \"showbackground\": true, \"ticks\": \"\", \"zerolinecolor\": \"white\"}, \"zaxis\": {\"backgroundcolor\": \"#E5ECF6\", \"gridcolor\": \"white\", \"gridwidth\": 2, \"linecolor\": \"white\", \"showbackground\": true, \"ticks\": \"\", \"zerolinecolor\": \"white\"}}, \"shapedefaults\": {\"line\": {\"color\": \"#2a3f5f\"}}, \"ternary\": {\"aaxis\": {\"gridcolor\": \"white\", \"linecolor\": \"white\", \"ticks\": \"\"}, \"baxis\": {\"gridcolor\": \"white\", \"linecolor\": \"white\", \"ticks\": \"\"}, \"bgcolor\": \"#E5ECF6\", \"caxis\": {\"gridcolor\": \"white\", \"linecolor\": \"white\", \"ticks\": \"\"}}, \"title\": {\"x\": 0.05}, \"xaxis\": {\"automargin\": true, \"gridcolor\": \"white\", \"linecolor\": \"white\", \"ticks\": \"\", \"title\": {\"standoff\": 15}, \"zerolinecolor\": \"white\", \"zerolinewidth\": 2}, \"yaxis\": {\"automargin\": true, \"gridcolor\": \"white\", \"linecolor\": \"white\", \"ticks\": \"\", \"title\": {\"standoff\": 15}, \"zerolinecolor\": \"white\", \"zerolinewidth\": 2}}}, \"title\": {\"text\": \"Confirmed COVID-19 cases per day in France\"}, \"xaxis\": {\"anchor\": \"y\", \"domain\": [0.0, 1.0], \"title\": {\"text\": \"Date\"}}, \"yaxis\": {\"anchor\": \"x\", \"domain\": [0.0, 1.0], \"title\": {\"text\": \"Confirmed\"}}},                        {\"responsive\": true}                    ).then(function(){\n",
       "                            \n",
       "var gd = document.getElementById('333ffed7-a38a-4bc2-9f05-cd7d2d3fe63c');\n",
       "var x = new MutationObserver(function (mutations, observer) {{\n",
       "        var display = window.getComputedStyle(gd).display;\n",
       "        if (!display || display === 'none') {{\n",
       "            console.log([gd, 'removed!']);\n",
       "            Plotly.purge(gd);\n",
       "            observer.disconnect();\n",
       "        }}\n",
       "}});\n",
       "\n",
       "// Listen for the removal of the full notebook cells\n",
       "var notebookContainer = gd.closest('#notebook-container');\n",
       "if (notebookContainer) {{\n",
       "    x.observe(notebookContainer, {childList: true});\n",
       "}}\n",
       "\n",
       "// Listen for the clearing of the current output cell\n",
       "var outputEl = gd.closest('.output');\n",
       "if (outputEl) {{\n",
       "    x.observe(outputEl, {childList: true});\n",
       "}}\n",
       "\n",
       "                        })                };                });            </script>        </div>"
      ]
     },
     "metadata": {},
     "output_type": "display_data"
    }
   ],
   "source": [
    "df_by_date = pd.DataFrame(data.fillna('NA').groupby(['Country','Date'])['Confirmed'].sum().sort_values().reset_index())\n",
    "\n",
    "fig = px.bar(df_by_date.loc[(df_by_date['Country'] == 'France') &(df_by_date.Date >= '2020-01-22')].sort_values('Confirmed',ascending = False), \n",
    "             x='Date', y='Confirmed', color=\"Confirmed\", color_continuous_scale=px.colors.sequential.Brwnyl)\n",
    "fig.update_layout(title_text='Confirmed COVID-19 cases per day in France')\n",
    "fig.show()"
   ]
  },
  {
   "cell_type": "markdown",
   "metadata": {},
   "source": [
    "###### The spread of the COVID-19 in France started from March 20.The spread was reaching above 2Million at the end of September."
   ]
  },
  {
   "cell_type": "markdown",
   "metadata": {},
   "source": [
    "### Confirmed COVID-19 cases per day in China"
   ]
  },
  {
   "cell_type": "code",
   "execution_count": 23,
   "metadata": {},
   "outputs": [
    {
     "data": {
      "application/vnd.plotly.v1+json": {
       "config": {
        "plotlyServerURL": "https://plot.ly"
       },
       "data": [
        {
         "alignmentgroup": "True",
         "hovertemplate": "Date=%{x}<br>Confirmed=%{marker.color}<extra></extra>",
         "legendgroup": "",
         "marker": {
          "color": [
           92814,
           92681,
           92586,
           92488,
           92402,
           92296,
           92211,
           92116,
           92037,
           91977,
           91935,
           91906,
           91885,
           91872,
           91850,
           91828,
           91807,
           91783,
           91752,
           91719,
           91693,
           91665,
           91622,
           91591,
           91552,
           91509,
           91478,
           91452,
           91397,
           91366,
           91339,
           91299,
           91271,
           91222,
           91175,
           91151,
           91128,
           91108,
           91073,
           91044,
           91022,
           91006,
           90972,
           90955,
           90925,
           90905,
           90869,
           90858,
           90830,
           90812,
           90778,
           90751,
           90728,
           90687,
           90667,
           90652,
           90629,
           90604,
           90584,
           90567,
           90545,
           90528,
           90505,
           90483,
           90456,
           90441,
           90424,
           90409,
           90399,
           90381,
           90369,
           90334,
           90311,
           90294,
           90253,
           90235,
           90219,
           90197,
           90168,
           90145,
           90127,
           90100,
           90087,
           90078,
           90058,
           90025,
           90008,
           89986,
           89953,
           89933,
           89914,
           89895,
           89863,
           89836,
           89814,
           89784,
           89752,
           89718,
           89695,
           89654,
           89616,
           89567,
           89527,
           89494,
           89441,
           89375,
           89279,
           89214,
           89144,
           89045,
           88958,
           88906,
           88793,
           88672,
           88580,
           88460,
           88328,
           88206,
           88099,
           87985,
           87827,
           87655,
           87489,
           87213,
           86990,
           86783,
           86570,
           86381,
           86202,
           86045,
           85906,
           85708,
           85622,
           85503,
           85418,
           85402,
           85327,
           85246,
           85226,
           85117,
           85117,
           85071,
           84992,
           84992,
           84950,
           84917,
           84889,
           84871,
           84857,
           84838,
           84830,
           84816,
           84785,
           84780,
           84757,
           84743,
           84725,
           84701,
           84673,
           84653,
           84624,
           84572,
           84553,
           84494,
           84494,
           84458,
           84422,
           84378,
           84335,
           84286,
           84228,
           84216,
           84209,
           84198,
           84195,
           84191,
           84186,
           84177,
           84171,
           84161,
           84160,
           84154,
           84146,
           84128,
           84123,
           84106,
           84106,
           84103,
           84102,
           84095,
           84084,
           84081,
           84063,
           84063,
           84063,
           84063,
           84054,
           84044,
           84038,
           84029,
           84024,
           84018,
           84011,
           84010,
           83990,
           83976,
           83975,
           83970,
           83968,
           83966,
           83964,
           83959,
           83959,
           83956,
           83944,
           83940,
           83918,
           83912,
           83909,
           83899,
           83884,
           83868,
           83853,
           83817,
           83805,
           83787,
           83760,
           83403,
           83356,
           83306,
           83213,
           83134,
           83014,
           82941,
           82883,
           82809,
           82718,
           82665,
           82602,
           82543,
           82511,
           82432,
           82361,
           82279,
           82198,
           82122,
           81999,
           81897,
           81782,
           81661,
           81591,
           81498,
           81435,
           81305,
           81250,
           81156,
           81102,
           81058,
           81033,
           81003,
           80977,
           80945,
           80932,
           80921,
           80887,
           80860,
           80823,
           80770,
           80690,
           80537,
           80386,
           80261,
           80136,
           79932,
           79356,
           78928,
           78600,
           78166,
           77754,
           77241,
           77022,
           77001,
           75550,
           75077,
           74619,
           74211,
           72434,
           70513,
           68413,
           66358,
           59895,
           44759,
           44386,
           42354,
           39829,
           36814,
           34110,
           30587,
           27440,
           23707,
           19716,
           16630,
           11891,
           9802,
           8141,
           6087,
           5509,
           2877,
           2075,
           1406,
           920,
           643,
           548
          ],
          "coloraxis": "coloraxis"
         },
         "name": "",
         "offsetgroup": "",
         "orientation": "v",
         "showlegend": false,
         "textposition": "auto",
         "type": "bar",
         "x": [
          "2020-11-29",
          "2020-11-28",
          "2020-11-27",
          "2020-11-26",
          "2020-11-25",
          "2020-11-24",
          "2020-11-23",
          "2020-11-22",
          "2020-11-21",
          "2020-11-20",
          "2020-11-19",
          "2020-11-18",
          "2020-11-17",
          "2020-11-16",
          "2020-11-15",
          "2020-11-14",
          "2020-11-13",
          "2020-11-12",
          "2020-11-11",
          "2020-11-10",
          "2020-11-09",
          "2020-11-08",
          "2020-11-07",
          "2020-11-06",
          "2020-11-05",
          "2020-11-04",
          "2020-11-03",
          "2020-11-02",
          "2020-11-01",
          "2020-10-31",
          "2020-10-30",
          "2020-10-29",
          "2020-10-28",
          "2020-10-27",
          "2020-10-26",
          "2020-10-25",
          "2020-10-24",
          "2020-10-23",
          "2020-10-22",
          "2020-10-21",
          "2020-10-20",
          "2020-10-19",
          "2020-10-18",
          "2020-10-17",
          "2020-10-16",
          "2020-10-15",
          "2020-10-14",
          "2020-10-13",
          "2020-10-12",
          "2020-10-11",
          "2020-10-10",
          "2020-10-09",
          "2020-10-08",
          "2020-10-07",
          "2020-10-06",
          "2020-10-05",
          "2020-10-04",
          "2020-10-03",
          "2020-10-02",
          "2020-10-01",
          "2020-09-30",
          "2020-09-29",
          "2020-09-28",
          "2020-09-27",
          "2020-09-26",
          "2020-09-25",
          "2020-09-24",
          "2020-09-23",
          "2020-09-22",
          "2020-09-21",
          "2020-09-20",
          "2020-09-19",
          "2020-09-18",
          "2020-09-17",
          "2020-09-16",
          "2020-09-15",
          "2020-09-14",
          "2020-09-13",
          "2020-09-12",
          "2020-09-11",
          "2020-09-10",
          "2020-09-09",
          "2020-09-08",
          "2020-09-07",
          "2020-09-06",
          "2020-09-05",
          "2020-09-04",
          "2020-09-03",
          "2020-09-02",
          "2020-09-01",
          "2020-08-31",
          "2020-08-30",
          "2020-08-29",
          "2020-08-28",
          "2020-08-27",
          "2020-08-26",
          "2020-08-25",
          "2020-08-24",
          "2020-08-23",
          "2020-08-22",
          "2020-08-21",
          "2020-08-20",
          "2020-08-19",
          "2020-08-18",
          "2020-08-17",
          "2020-08-16",
          "2020-08-15",
          "2020-08-14",
          "2020-08-13",
          "2020-08-12",
          "2020-08-11",
          "2020-08-10",
          "2020-08-09",
          "2020-08-08",
          "2020-08-07",
          "2020-08-06",
          "2020-08-05",
          "2020-08-04",
          "2020-08-03",
          "2020-08-02",
          "2020-08-01",
          "2020-07-31",
          "2020-07-30",
          "2020-07-29",
          "2020-07-28",
          "2020-07-27",
          "2020-07-26",
          "2020-07-25",
          "2020-07-24",
          "2020-07-23",
          "2020-07-22",
          "2020-07-21",
          "2020-07-20",
          "2020-07-19",
          "2020-07-18",
          "2020-07-17",
          "2020-07-16",
          "2020-07-15",
          "2020-07-14",
          "2020-07-13",
          "2020-07-12",
          "2020-07-11",
          "2020-07-09",
          "2020-07-10",
          "2020-07-08",
          "2020-07-07",
          "2020-07-06",
          "2020-07-05",
          "2020-07-04",
          "2020-07-03",
          "2020-07-02",
          "2020-07-01",
          "2020-06-30",
          "2020-06-29",
          "2020-06-28",
          "2020-06-27",
          "2020-06-26",
          "2020-06-25",
          "2020-06-24",
          "2020-06-23",
          "2020-06-22",
          "2020-06-21",
          "2020-06-20",
          "2020-06-19",
          "2020-06-18",
          "2020-06-17",
          "2020-06-16",
          "2020-06-15",
          "2020-06-14",
          "2020-06-13",
          "2020-06-12",
          "2020-06-11",
          "2020-06-10",
          "2020-06-09",
          "2020-06-08",
          "2020-06-07",
          "2020-06-06",
          "2020-06-05",
          "2020-06-04",
          "2020-06-02",
          "2020-06-03",
          "2020-06-01",
          "2020-05-31",
          "2020-05-30",
          "2020-05-29",
          "2020-05-28",
          "2020-05-27",
          "2020-05-26",
          "2020-05-25",
          "2020-05-24",
          "2020-05-23",
          "2020-05-22",
          "2020-05-20",
          "2020-05-18",
          "2020-05-21",
          "2020-05-19",
          "2020-05-17",
          "2020-05-16",
          "2020-05-15",
          "2020-05-14",
          "2020-05-13",
          "2020-05-12",
          "2020-05-11",
          "2020-05-10",
          "2020-05-09",
          "2020-05-08",
          "2020-05-07",
          "2020-05-06",
          "2020-05-05",
          "2020-05-04",
          "2020-05-03",
          "2020-05-01",
          "2020-05-02",
          "2020-04-30",
          "2020-04-29",
          "2020-04-28",
          "2020-04-27",
          "2020-04-26",
          "2020-04-25",
          "2020-04-24",
          "2020-04-23",
          "2020-04-22",
          "2020-04-21",
          "2020-04-20",
          "2020-04-19",
          "2020-04-18",
          "2020-04-17",
          "2020-04-16",
          "2020-04-15",
          "2020-04-14",
          "2020-04-13",
          "2020-04-12",
          "2020-04-11",
          "2020-04-10",
          "2020-04-09",
          "2020-04-08",
          "2020-04-07",
          "2020-04-06",
          "2020-04-05",
          "2020-04-04",
          "2020-04-03",
          "2020-04-02",
          "2020-04-01",
          "2020-03-31",
          "2020-03-30",
          "2020-03-29",
          "2020-03-28",
          "2020-03-27",
          "2020-03-26",
          "2020-03-25",
          "2020-03-24",
          "2020-03-23",
          "2020-03-22",
          "2020-03-21",
          "2020-03-20",
          "2020-03-19",
          "2020-03-18",
          "2020-03-17",
          "2020-03-16",
          "2020-03-15",
          "2020-03-14",
          "2020-03-13",
          "2020-03-12",
          "2020-03-11",
          "2020-03-10",
          "2020-03-09",
          "2020-03-08",
          "2020-03-07",
          "2020-03-06",
          "2020-03-05",
          "2020-03-04",
          "2020-03-03",
          "2020-03-02",
          "2020-03-01",
          "2020-02-29",
          "2020-02-28",
          "2020-02-27",
          "2020-02-26",
          "2020-02-25",
          "2020-02-24",
          "2020-02-23",
          "2020-02-22",
          "2020-02-21",
          "2020-02-20",
          "2020-02-19",
          "2020-02-18",
          "2020-02-17",
          "2020-02-16",
          "2020-02-15",
          "2020-02-14",
          "2020-02-13",
          "2020-02-12",
          "2020-02-11",
          "2020-02-10",
          "2020-02-09",
          "2020-02-08",
          "2020-02-07",
          "2020-02-06",
          "2020-02-05",
          "2020-02-04",
          "2020-02-03",
          "2020-02-02",
          "2020-02-01",
          "2020-01-31",
          "2020-01-30",
          "2020-01-29",
          "2020-01-28",
          "2020-01-27",
          "2020-01-26",
          "2020-01-25",
          "2020-01-24",
          "2020-01-23",
          "2020-01-22"
         ],
         "xaxis": "x",
         "y": [
          92814,
          92681,
          92586,
          92488,
          92402,
          92296,
          92211,
          92116,
          92037,
          91977,
          91935,
          91906,
          91885,
          91872,
          91850,
          91828,
          91807,
          91783,
          91752,
          91719,
          91693,
          91665,
          91622,
          91591,
          91552,
          91509,
          91478,
          91452,
          91397,
          91366,
          91339,
          91299,
          91271,
          91222,
          91175,
          91151,
          91128,
          91108,
          91073,
          91044,
          91022,
          91006,
          90972,
          90955,
          90925,
          90905,
          90869,
          90858,
          90830,
          90812,
          90778,
          90751,
          90728,
          90687,
          90667,
          90652,
          90629,
          90604,
          90584,
          90567,
          90545,
          90528,
          90505,
          90483,
          90456,
          90441,
          90424,
          90409,
          90399,
          90381,
          90369,
          90334,
          90311,
          90294,
          90253,
          90235,
          90219,
          90197,
          90168,
          90145,
          90127,
          90100,
          90087,
          90078,
          90058,
          90025,
          90008,
          89986,
          89953,
          89933,
          89914,
          89895,
          89863,
          89836,
          89814,
          89784,
          89752,
          89718,
          89695,
          89654,
          89616,
          89567,
          89527,
          89494,
          89441,
          89375,
          89279,
          89214,
          89144,
          89045,
          88958,
          88906,
          88793,
          88672,
          88580,
          88460,
          88328,
          88206,
          88099,
          87985,
          87827,
          87655,
          87489,
          87213,
          86990,
          86783,
          86570,
          86381,
          86202,
          86045,
          85906,
          85708,
          85622,
          85503,
          85418,
          85402,
          85327,
          85246,
          85226,
          85117,
          85117,
          85071,
          84992,
          84992,
          84950,
          84917,
          84889,
          84871,
          84857,
          84838,
          84830,
          84816,
          84785,
          84780,
          84757,
          84743,
          84725,
          84701,
          84673,
          84653,
          84624,
          84572,
          84553,
          84494,
          84494,
          84458,
          84422,
          84378,
          84335,
          84286,
          84228,
          84216,
          84209,
          84198,
          84195,
          84191,
          84186,
          84177,
          84171,
          84161,
          84160,
          84154,
          84146,
          84128,
          84123,
          84106,
          84106,
          84103,
          84102,
          84095,
          84084,
          84081,
          84063,
          84063,
          84063,
          84063,
          84054,
          84044,
          84038,
          84029,
          84024,
          84018,
          84011,
          84010,
          83990,
          83976,
          83975,
          83970,
          83968,
          83966,
          83964,
          83959,
          83959,
          83956,
          83944,
          83940,
          83918,
          83912,
          83909,
          83899,
          83884,
          83868,
          83853,
          83817,
          83805,
          83787,
          83760,
          83403,
          83356,
          83306,
          83213,
          83134,
          83014,
          82941,
          82883,
          82809,
          82718,
          82665,
          82602,
          82543,
          82511,
          82432,
          82361,
          82279,
          82198,
          82122,
          81999,
          81897,
          81782,
          81661,
          81591,
          81498,
          81435,
          81305,
          81250,
          81156,
          81102,
          81058,
          81033,
          81003,
          80977,
          80945,
          80932,
          80921,
          80887,
          80860,
          80823,
          80770,
          80690,
          80537,
          80386,
          80261,
          80136,
          79932,
          79356,
          78928,
          78600,
          78166,
          77754,
          77241,
          77022,
          77001,
          75550,
          75077,
          74619,
          74211,
          72434,
          70513,
          68413,
          66358,
          59895,
          44759,
          44386,
          42354,
          39829,
          36814,
          34110,
          30587,
          27440,
          23707,
          19716,
          16630,
          11891,
          9802,
          8141,
          6087,
          5509,
          2877,
          2075,
          1406,
          920,
          643,
          548
         ],
         "yaxis": "y"
        }
       ],
       "layout": {
        "barmode": "relative",
        "coloraxis": {
         "colorbar": {
          "title": {
           "text": "Confirmed"
          }
         },
         "colorscale": [
          [
           0,
           "rgb(255,245,240)"
          ],
          [
           0.125,
           "rgb(254,224,210)"
          ],
          [
           0.25,
           "rgb(252,187,161)"
          ],
          [
           0.375,
           "rgb(252,146,114)"
          ],
          [
           0.5,
           "rgb(251,106,74)"
          ],
          [
           0.625,
           "rgb(239,59,44)"
          ],
          [
           0.75,
           "rgb(203,24,29)"
          ],
          [
           0.875,
           "rgb(165,15,21)"
          ],
          [
           1,
           "rgb(103,0,13)"
          ]
         ]
        },
        "legend": {
         "tracegroupgap": 0
        },
        "margin": {
         "t": 60
        },
        "template": {
         "data": {
          "bar": [
           {
            "error_x": {
             "color": "#2a3f5f"
            },
            "error_y": {
             "color": "#2a3f5f"
            },
            "marker": {
             "line": {
              "color": "#E5ECF6",
              "width": 0.5
             }
            },
            "type": "bar"
           }
          ],
          "barpolar": [
           {
            "marker": {
             "line": {
              "color": "#E5ECF6",
              "width": 0.5
             }
            },
            "type": "barpolar"
           }
          ],
          "carpet": [
           {
            "aaxis": {
             "endlinecolor": "#2a3f5f",
             "gridcolor": "white",
             "linecolor": "white",
             "minorgridcolor": "white",
             "startlinecolor": "#2a3f5f"
            },
            "baxis": {
             "endlinecolor": "#2a3f5f",
             "gridcolor": "white",
             "linecolor": "white",
             "minorgridcolor": "white",
             "startlinecolor": "#2a3f5f"
            },
            "type": "carpet"
           }
          ],
          "choropleth": [
           {
            "colorbar": {
             "outlinewidth": 0,
             "ticks": ""
            },
            "type": "choropleth"
           }
          ],
          "contour": [
           {
            "colorbar": {
             "outlinewidth": 0,
             "ticks": ""
            },
            "colorscale": [
             [
              0,
              "#0d0887"
             ],
             [
              0.1111111111111111,
              "#46039f"
             ],
             [
              0.2222222222222222,
              "#7201a8"
             ],
             [
              0.3333333333333333,
              "#9c179e"
             ],
             [
              0.4444444444444444,
              "#bd3786"
             ],
             [
              0.5555555555555556,
              "#d8576b"
             ],
             [
              0.6666666666666666,
              "#ed7953"
             ],
             [
              0.7777777777777778,
              "#fb9f3a"
             ],
             [
              0.8888888888888888,
              "#fdca26"
             ],
             [
              1,
              "#f0f921"
             ]
            ],
            "type": "contour"
           }
          ],
          "contourcarpet": [
           {
            "colorbar": {
             "outlinewidth": 0,
             "ticks": ""
            },
            "type": "contourcarpet"
           }
          ],
          "heatmap": [
           {
            "colorbar": {
             "outlinewidth": 0,
             "ticks": ""
            },
            "colorscale": [
             [
              0,
              "#0d0887"
             ],
             [
              0.1111111111111111,
              "#46039f"
             ],
             [
              0.2222222222222222,
              "#7201a8"
             ],
             [
              0.3333333333333333,
              "#9c179e"
             ],
             [
              0.4444444444444444,
              "#bd3786"
             ],
             [
              0.5555555555555556,
              "#d8576b"
             ],
             [
              0.6666666666666666,
              "#ed7953"
             ],
             [
              0.7777777777777778,
              "#fb9f3a"
             ],
             [
              0.8888888888888888,
              "#fdca26"
             ],
             [
              1,
              "#f0f921"
             ]
            ],
            "type": "heatmap"
           }
          ],
          "heatmapgl": [
           {
            "colorbar": {
             "outlinewidth": 0,
             "ticks": ""
            },
            "colorscale": [
             [
              0,
              "#0d0887"
             ],
             [
              0.1111111111111111,
              "#46039f"
             ],
             [
              0.2222222222222222,
              "#7201a8"
             ],
             [
              0.3333333333333333,
              "#9c179e"
             ],
             [
              0.4444444444444444,
              "#bd3786"
             ],
             [
              0.5555555555555556,
              "#d8576b"
             ],
             [
              0.6666666666666666,
              "#ed7953"
             ],
             [
              0.7777777777777778,
              "#fb9f3a"
             ],
             [
              0.8888888888888888,
              "#fdca26"
             ],
             [
              1,
              "#f0f921"
             ]
            ],
            "type": "heatmapgl"
           }
          ],
          "histogram": [
           {
            "marker": {
             "colorbar": {
              "outlinewidth": 0,
              "ticks": ""
             }
            },
            "type": "histogram"
           }
          ],
          "histogram2d": [
           {
            "colorbar": {
             "outlinewidth": 0,
             "ticks": ""
            },
            "colorscale": [
             [
              0,
              "#0d0887"
             ],
             [
              0.1111111111111111,
              "#46039f"
             ],
             [
              0.2222222222222222,
              "#7201a8"
             ],
             [
              0.3333333333333333,
              "#9c179e"
             ],
             [
              0.4444444444444444,
              "#bd3786"
             ],
             [
              0.5555555555555556,
              "#d8576b"
             ],
             [
              0.6666666666666666,
              "#ed7953"
             ],
             [
              0.7777777777777778,
              "#fb9f3a"
             ],
             [
              0.8888888888888888,
              "#fdca26"
             ],
             [
              1,
              "#f0f921"
             ]
            ],
            "type": "histogram2d"
           }
          ],
          "histogram2dcontour": [
           {
            "colorbar": {
             "outlinewidth": 0,
             "ticks": ""
            },
            "colorscale": [
             [
              0,
              "#0d0887"
             ],
             [
              0.1111111111111111,
              "#46039f"
             ],
             [
              0.2222222222222222,
              "#7201a8"
             ],
             [
              0.3333333333333333,
              "#9c179e"
             ],
             [
              0.4444444444444444,
              "#bd3786"
             ],
             [
              0.5555555555555556,
              "#d8576b"
             ],
             [
              0.6666666666666666,
              "#ed7953"
             ],
             [
              0.7777777777777778,
              "#fb9f3a"
             ],
             [
              0.8888888888888888,
              "#fdca26"
             ],
             [
              1,
              "#f0f921"
             ]
            ],
            "type": "histogram2dcontour"
           }
          ],
          "mesh3d": [
           {
            "colorbar": {
             "outlinewidth": 0,
             "ticks": ""
            },
            "type": "mesh3d"
           }
          ],
          "parcoords": [
           {
            "line": {
             "colorbar": {
              "outlinewidth": 0,
              "ticks": ""
             }
            },
            "type": "parcoords"
           }
          ],
          "pie": [
           {
            "automargin": true,
            "type": "pie"
           }
          ],
          "scatter": [
           {
            "marker": {
             "colorbar": {
              "outlinewidth": 0,
              "ticks": ""
             }
            },
            "type": "scatter"
           }
          ],
          "scatter3d": [
           {
            "line": {
             "colorbar": {
              "outlinewidth": 0,
              "ticks": ""
             }
            },
            "marker": {
             "colorbar": {
              "outlinewidth": 0,
              "ticks": ""
             }
            },
            "type": "scatter3d"
           }
          ],
          "scattercarpet": [
           {
            "marker": {
             "colorbar": {
              "outlinewidth": 0,
              "ticks": ""
             }
            },
            "type": "scattercarpet"
           }
          ],
          "scattergeo": [
           {
            "marker": {
             "colorbar": {
              "outlinewidth": 0,
              "ticks": ""
             }
            },
            "type": "scattergeo"
           }
          ],
          "scattergl": [
           {
            "marker": {
             "colorbar": {
              "outlinewidth": 0,
              "ticks": ""
             }
            },
            "type": "scattergl"
           }
          ],
          "scattermapbox": [
           {
            "marker": {
             "colorbar": {
              "outlinewidth": 0,
              "ticks": ""
             }
            },
            "type": "scattermapbox"
           }
          ],
          "scatterpolar": [
           {
            "marker": {
             "colorbar": {
              "outlinewidth": 0,
              "ticks": ""
             }
            },
            "type": "scatterpolar"
           }
          ],
          "scatterpolargl": [
           {
            "marker": {
             "colorbar": {
              "outlinewidth": 0,
              "ticks": ""
             }
            },
            "type": "scatterpolargl"
           }
          ],
          "scatterternary": [
           {
            "marker": {
             "colorbar": {
              "outlinewidth": 0,
              "ticks": ""
             }
            },
            "type": "scatterternary"
           }
          ],
          "surface": [
           {
            "colorbar": {
             "outlinewidth": 0,
             "ticks": ""
            },
            "colorscale": [
             [
              0,
              "#0d0887"
             ],
             [
              0.1111111111111111,
              "#46039f"
             ],
             [
              0.2222222222222222,
              "#7201a8"
             ],
             [
              0.3333333333333333,
              "#9c179e"
             ],
             [
              0.4444444444444444,
              "#bd3786"
             ],
             [
              0.5555555555555556,
              "#d8576b"
             ],
             [
              0.6666666666666666,
              "#ed7953"
             ],
             [
              0.7777777777777778,
              "#fb9f3a"
             ],
             [
              0.8888888888888888,
              "#fdca26"
             ],
             [
              1,
              "#f0f921"
             ]
            ],
            "type": "surface"
           }
          ],
          "table": [
           {
            "cells": {
             "fill": {
              "color": "#EBF0F8"
             },
             "line": {
              "color": "white"
             }
            },
            "header": {
             "fill": {
              "color": "#C8D4E3"
             },
             "line": {
              "color": "white"
             }
            },
            "type": "table"
           }
          ]
         },
         "layout": {
          "annotationdefaults": {
           "arrowcolor": "#2a3f5f",
           "arrowhead": 0,
           "arrowwidth": 1
          },
          "autotypenumbers": "strict",
          "coloraxis": {
           "colorbar": {
            "outlinewidth": 0,
            "ticks": ""
           }
          },
          "colorscale": {
           "diverging": [
            [
             0,
             "#8e0152"
            ],
            [
             0.1,
             "#c51b7d"
            ],
            [
             0.2,
             "#de77ae"
            ],
            [
             0.3,
             "#f1b6da"
            ],
            [
             0.4,
             "#fde0ef"
            ],
            [
             0.5,
             "#f7f7f7"
            ],
            [
             0.6,
             "#e6f5d0"
            ],
            [
             0.7,
             "#b8e186"
            ],
            [
             0.8,
             "#7fbc41"
            ],
            [
             0.9,
             "#4d9221"
            ],
            [
             1,
             "#276419"
            ]
           ],
           "sequential": [
            [
             0,
             "#0d0887"
            ],
            [
             0.1111111111111111,
             "#46039f"
            ],
            [
             0.2222222222222222,
             "#7201a8"
            ],
            [
             0.3333333333333333,
             "#9c179e"
            ],
            [
             0.4444444444444444,
             "#bd3786"
            ],
            [
             0.5555555555555556,
             "#d8576b"
            ],
            [
             0.6666666666666666,
             "#ed7953"
            ],
            [
             0.7777777777777778,
             "#fb9f3a"
            ],
            [
             0.8888888888888888,
             "#fdca26"
            ],
            [
             1,
             "#f0f921"
            ]
           ],
           "sequentialminus": [
            [
             0,
             "#0d0887"
            ],
            [
             0.1111111111111111,
             "#46039f"
            ],
            [
             0.2222222222222222,
             "#7201a8"
            ],
            [
             0.3333333333333333,
             "#9c179e"
            ],
            [
             0.4444444444444444,
             "#bd3786"
            ],
            [
             0.5555555555555556,
             "#d8576b"
            ],
            [
             0.6666666666666666,
             "#ed7953"
            ],
            [
             0.7777777777777778,
             "#fb9f3a"
            ],
            [
             0.8888888888888888,
             "#fdca26"
            ],
            [
             1,
             "#f0f921"
            ]
           ]
          },
          "colorway": [
           "#636efa",
           "#EF553B",
           "#00cc96",
           "#ab63fa",
           "#FFA15A",
           "#19d3f3",
           "#FF6692",
           "#B6E880",
           "#FF97FF",
           "#FECB52"
          ],
          "font": {
           "color": "#2a3f5f"
          },
          "geo": {
           "bgcolor": "white",
           "lakecolor": "white",
           "landcolor": "#E5ECF6",
           "showlakes": true,
           "showland": true,
           "subunitcolor": "white"
          },
          "hoverlabel": {
           "align": "left"
          },
          "hovermode": "closest",
          "mapbox": {
           "style": "light"
          },
          "paper_bgcolor": "white",
          "plot_bgcolor": "#E5ECF6",
          "polar": {
           "angularaxis": {
            "gridcolor": "white",
            "linecolor": "white",
            "ticks": ""
           },
           "bgcolor": "#E5ECF6",
           "radialaxis": {
            "gridcolor": "white",
            "linecolor": "white",
            "ticks": ""
           }
          },
          "scene": {
           "xaxis": {
            "backgroundcolor": "#E5ECF6",
            "gridcolor": "white",
            "gridwidth": 2,
            "linecolor": "white",
            "showbackground": true,
            "ticks": "",
            "zerolinecolor": "white"
           },
           "yaxis": {
            "backgroundcolor": "#E5ECF6",
            "gridcolor": "white",
            "gridwidth": 2,
            "linecolor": "white",
            "showbackground": true,
            "ticks": "",
            "zerolinecolor": "white"
           },
           "zaxis": {
            "backgroundcolor": "#E5ECF6",
            "gridcolor": "white",
            "gridwidth": 2,
            "linecolor": "white",
            "showbackground": true,
            "ticks": "",
            "zerolinecolor": "white"
           }
          },
          "shapedefaults": {
           "line": {
            "color": "#2a3f5f"
           }
          },
          "ternary": {
           "aaxis": {
            "gridcolor": "white",
            "linecolor": "white",
            "ticks": ""
           },
           "baxis": {
            "gridcolor": "white",
            "linecolor": "white",
            "ticks": ""
           },
           "bgcolor": "#E5ECF6",
           "caxis": {
            "gridcolor": "white",
            "linecolor": "white",
            "ticks": ""
           }
          },
          "title": {
           "x": 0.05
          },
          "xaxis": {
           "automargin": true,
           "gridcolor": "white",
           "linecolor": "white",
           "ticks": "",
           "title": {
            "standoff": 15
           },
           "zerolinecolor": "white",
           "zerolinewidth": 2
          },
          "yaxis": {
           "automargin": true,
           "gridcolor": "white",
           "linecolor": "white",
           "ticks": "",
           "title": {
            "standoff": 15
           },
           "zerolinecolor": "white",
           "zerolinewidth": 2
          }
         }
        },
        "title": {
         "text": "Confirmed COVID-19 cases per day in China"
        },
        "xaxis": {
         "anchor": "y",
         "domain": [
          0,
          1
         ],
         "title": {
          "text": "Date"
         }
        },
        "yaxis": {
         "anchor": "x",
         "domain": [
          0,
          1
         ],
         "title": {
          "text": "Confirmed"
         }
        }
       }
      },
      "text/html": [
       "<div>                            <div id=\"8998ce62-b7d8-4e0c-8c5b-55442d738c02\" class=\"plotly-graph-div\" style=\"height:525px; width:100%;\"></div>            <script type=\"text/javascript\">                require([\"plotly\"], function(Plotly) {                    window.PLOTLYENV=window.PLOTLYENV || {};                                    if (document.getElementById(\"8998ce62-b7d8-4e0c-8c5b-55442d738c02\")) {                    Plotly.newPlot(                        \"8998ce62-b7d8-4e0c-8c5b-55442d738c02\",                        [{\"alignmentgroup\": \"True\", \"hovertemplate\": \"Date=%{x}<br>Confirmed=%{marker.color}<extra></extra>\", \"legendgroup\": \"\", \"marker\": {\"color\": [92814, 92681, 92586, 92488, 92402, 92296, 92211, 92116, 92037, 91977, 91935, 91906, 91885, 91872, 91850, 91828, 91807, 91783, 91752, 91719, 91693, 91665, 91622, 91591, 91552, 91509, 91478, 91452, 91397, 91366, 91339, 91299, 91271, 91222, 91175, 91151, 91128, 91108, 91073, 91044, 91022, 91006, 90972, 90955, 90925, 90905, 90869, 90858, 90830, 90812, 90778, 90751, 90728, 90687, 90667, 90652, 90629, 90604, 90584, 90567, 90545, 90528, 90505, 90483, 90456, 90441, 90424, 90409, 90399, 90381, 90369, 90334, 90311, 90294, 90253, 90235, 90219, 90197, 90168, 90145, 90127, 90100, 90087, 90078, 90058, 90025, 90008, 89986, 89953, 89933, 89914, 89895, 89863, 89836, 89814, 89784, 89752, 89718, 89695, 89654, 89616, 89567, 89527, 89494, 89441, 89375, 89279, 89214, 89144, 89045, 88958, 88906, 88793, 88672, 88580, 88460, 88328, 88206, 88099, 87985, 87827, 87655, 87489, 87213, 86990, 86783, 86570, 86381, 86202, 86045, 85906, 85708, 85622, 85503, 85418, 85402, 85327, 85246, 85226, 85117, 85117, 85071, 84992, 84992, 84950, 84917, 84889, 84871, 84857, 84838, 84830, 84816, 84785, 84780, 84757, 84743, 84725, 84701, 84673, 84653, 84624, 84572, 84553, 84494, 84494, 84458, 84422, 84378, 84335, 84286, 84228, 84216, 84209, 84198, 84195, 84191, 84186, 84177, 84171, 84161, 84160, 84154, 84146, 84128, 84123, 84106, 84106, 84103, 84102, 84095, 84084, 84081, 84063, 84063, 84063, 84063, 84054, 84044, 84038, 84029, 84024, 84018, 84011, 84010, 83990, 83976, 83975, 83970, 83968, 83966, 83964, 83959, 83959, 83956, 83944, 83940, 83918, 83912, 83909, 83899, 83884, 83868, 83853, 83817, 83805, 83787, 83760, 83403, 83356, 83306, 83213, 83134, 83014, 82941, 82883, 82809, 82718, 82665, 82602, 82543, 82511, 82432, 82361, 82279, 82198, 82122, 81999, 81897, 81782, 81661, 81591, 81498, 81435, 81305, 81250, 81156, 81102, 81058, 81033, 81003, 80977, 80945, 80932, 80921, 80887, 80860, 80823, 80770, 80690, 80537, 80386, 80261, 80136, 79932, 79356, 78928, 78600, 78166, 77754, 77241, 77022, 77001, 75550, 75077, 74619, 74211, 72434, 70513, 68413, 66358, 59895, 44759, 44386, 42354, 39829, 36814, 34110, 30587, 27440, 23707, 19716, 16630, 11891, 9802, 8141, 6087, 5509, 2877, 2075, 1406, 920, 643, 548], \"coloraxis\": \"coloraxis\"}, \"name\": \"\", \"offsetgroup\": \"\", \"orientation\": \"v\", \"showlegend\": false, \"textposition\": \"auto\", \"type\": \"bar\", \"x\": [\"2020-11-29\", \"2020-11-28\", \"2020-11-27\", \"2020-11-26\", \"2020-11-25\", \"2020-11-24\", \"2020-11-23\", \"2020-11-22\", \"2020-11-21\", \"2020-11-20\", \"2020-11-19\", \"2020-11-18\", \"2020-11-17\", \"2020-11-16\", \"2020-11-15\", \"2020-11-14\", \"2020-11-13\", \"2020-11-12\", \"2020-11-11\", \"2020-11-10\", \"2020-11-09\", \"2020-11-08\", \"2020-11-07\", \"2020-11-06\", \"2020-11-05\", \"2020-11-04\", \"2020-11-03\", \"2020-11-02\", \"2020-11-01\", \"2020-10-31\", \"2020-10-30\", \"2020-10-29\", \"2020-10-28\", \"2020-10-27\", \"2020-10-26\", \"2020-10-25\", \"2020-10-24\", \"2020-10-23\", \"2020-10-22\", \"2020-10-21\", \"2020-10-20\", \"2020-10-19\", \"2020-10-18\", \"2020-10-17\", \"2020-10-16\", \"2020-10-15\", \"2020-10-14\", \"2020-10-13\", \"2020-10-12\", \"2020-10-11\", \"2020-10-10\", \"2020-10-09\", \"2020-10-08\", \"2020-10-07\", \"2020-10-06\", \"2020-10-05\", \"2020-10-04\", \"2020-10-03\", \"2020-10-02\", \"2020-10-01\", \"2020-09-30\", \"2020-09-29\", \"2020-09-28\", \"2020-09-27\", \"2020-09-26\", \"2020-09-25\", \"2020-09-24\", \"2020-09-23\", \"2020-09-22\", \"2020-09-21\", \"2020-09-20\", \"2020-09-19\", \"2020-09-18\", \"2020-09-17\", \"2020-09-16\", \"2020-09-15\", \"2020-09-14\", \"2020-09-13\", \"2020-09-12\", \"2020-09-11\", \"2020-09-10\", \"2020-09-09\", \"2020-09-08\", \"2020-09-07\", \"2020-09-06\", \"2020-09-05\", \"2020-09-04\", \"2020-09-03\", \"2020-09-02\", \"2020-09-01\", \"2020-08-31\", \"2020-08-30\", \"2020-08-29\", \"2020-08-28\", \"2020-08-27\", \"2020-08-26\", \"2020-08-25\", \"2020-08-24\", \"2020-08-23\", \"2020-08-22\", \"2020-08-21\", \"2020-08-20\", \"2020-08-19\", \"2020-08-18\", \"2020-08-17\", \"2020-08-16\", \"2020-08-15\", \"2020-08-14\", \"2020-08-13\", \"2020-08-12\", \"2020-08-11\", \"2020-08-10\", \"2020-08-09\", \"2020-08-08\", \"2020-08-07\", \"2020-08-06\", \"2020-08-05\", \"2020-08-04\", \"2020-08-03\", \"2020-08-02\", \"2020-08-01\", \"2020-07-31\", \"2020-07-30\", \"2020-07-29\", \"2020-07-28\", \"2020-07-27\", \"2020-07-26\", \"2020-07-25\", \"2020-07-24\", \"2020-07-23\", \"2020-07-22\", \"2020-07-21\", \"2020-07-20\", \"2020-07-19\", \"2020-07-18\", \"2020-07-17\", \"2020-07-16\", \"2020-07-15\", \"2020-07-14\", \"2020-07-13\", \"2020-07-12\", \"2020-07-11\", \"2020-07-09\", \"2020-07-10\", \"2020-07-08\", \"2020-07-07\", \"2020-07-06\", \"2020-07-05\", \"2020-07-04\", \"2020-07-03\", \"2020-07-02\", \"2020-07-01\", \"2020-06-30\", \"2020-06-29\", \"2020-06-28\", \"2020-06-27\", \"2020-06-26\", \"2020-06-25\", \"2020-06-24\", \"2020-06-23\", \"2020-06-22\", \"2020-06-21\", \"2020-06-20\", \"2020-06-19\", \"2020-06-18\", \"2020-06-17\", \"2020-06-16\", \"2020-06-15\", \"2020-06-14\", \"2020-06-13\", \"2020-06-12\", \"2020-06-11\", \"2020-06-10\", \"2020-06-09\", \"2020-06-08\", \"2020-06-07\", \"2020-06-06\", \"2020-06-05\", \"2020-06-04\", \"2020-06-02\", \"2020-06-03\", \"2020-06-01\", \"2020-05-31\", \"2020-05-30\", \"2020-05-29\", \"2020-05-28\", \"2020-05-27\", \"2020-05-26\", \"2020-05-25\", \"2020-05-24\", \"2020-05-23\", \"2020-05-22\", \"2020-05-20\", \"2020-05-18\", \"2020-05-21\", \"2020-05-19\", \"2020-05-17\", \"2020-05-16\", \"2020-05-15\", \"2020-05-14\", \"2020-05-13\", \"2020-05-12\", \"2020-05-11\", \"2020-05-10\", \"2020-05-09\", \"2020-05-08\", \"2020-05-07\", \"2020-05-06\", \"2020-05-05\", \"2020-05-04\", \"2020-05-03\", \"2020-05-01\", \"2020-05-02\", \"2020-04-30\", \"2020-04-29\", \"2020-04-28\", \"2020-04-27\", \"2020-04-26\", \"2020-04-25\", \"2020-04-24\", \"2020-04-23\", \"2020-04-22\", \"2020-04-21\", \"2020-04-20\", \"2020-04-19\", \"2020-04-18\", \"2020-04-17\", \"2020-04-16\", \"2020-04-15\", \"2020-04-14\", \"2020-04-13\", \"2020-04-12\", \"2020-04-11\", \"2020-04-10\", \"2020-04-09\", \"2020-04-08\", \"2020-04-07\", \"2020-04-06\", \"2020-04-05\", \"2020-04-04\", \"2020-04-03\", \"2020-04-02\", \"2020-04-01\", \"2020-03-31\", \"2020-03-30\", \"2020-03-29\", \"2020-03-28\", \"2020-03-27\", \"2020-03-26\", \"2020-03-25\", \"2020-03-24\", \"2020-03-23\", \"2020-03-22\", \"2020-03-21\", \"2020-03-20\", \"2020-03-19\", \"2020-03-18\", \"2020-03-17\", \"2020-03-16\", \"2020-03-15\", \"2020-03-14\", \"2020-03-13\", \"2020-03-12\", \"2020-03-11\", \"2020-03-10\", \"2020-03-09\", \"2020-03-08\", \"2020-03-07\", \"2020-03-06\", \"2020-03-05\", \"2020-03-04\", \"2020-03-03\", \"2020-03-02\", \"2020-03-01\", \"2020-02-29\", \"2020-02-28\", \"2020-02-27\", \"2020-02-26\", \"2020-02-25\", \"2020-02-24\", \"2020-02-23\", \"2020-02-22\", \"2020-02-21\", \"2020-02-20\", \"2020-02-19\", \"2020-02-18\", \"2020-02-17\", \"2020-02-16\", \"2020-02-15\", \"2020-02-14\", \"2020-02-13\", \"2020-02-12\", \"2020-02-11\", \"2020-02-10\", \"2020-02-09\", \"2020-02-08\", \"2020-02-07\", \"2020-02-06\", \"2020-02-05\", \"2020-02-04\", \"2020-02-03\", \"2020-02-02\", \"2020-02-01\", \"2020-01-31\", \"2020-01-30\", \"2020-01-29\", \"2020-01-28\", \"2020-01-27\", \"2020-01-26\", \"2020-01-25\", \"2020-01-24\", \"2020-01-23\", \"2020-01-22\"], \"xaxis\": \"x\", \"y\": [92814, 92681, 92586, 92488, 92402, 92296, 92211, 92116, 92037, 91977, 91935, 91906, 91885, 91872, 91850, 91828, 91807, 91783, 91752, 91719, 91693, 91665, 91622, 91591, 91552, 91509, 91478, 91452, 91397, 91366, 91339, 91299, 91271, 91222, 91175, 91151, 91128, 91108, 91073, 91044, 91022, 91006, 90972, 90955, 90925, 90905, 90869, 90858, 90830, 90812, 90778, 90751, 90728, 90687, 90667, 90652, 90629, 90604, 90584, 90567, 90545, 90528, 90505, 90483, 90456, 90441, 90424, 90409, 90399, 90381, 90369, 90334, 90311, 90294, 90253, 90235, 90219, 90197, 90168, 90145, 90127, 90100, 90087, 90078, 90058, 90025, 90008, 89986, 89953, 89933, 89914, 89895, 89863, 89836, 89814, 89784, 89752, 89718, 89695, 89654, 89616, 89567, 89527, 89494, 89441, 89375, 89279, 89214, 89144, 89045, 88958, 88906, 88793, 88672, 88580, 88460, 88328, 88206, 88099, 87985, 87827, 87655, 87489, 87213, 86990, 86783, 86570, 86381, 86202, 86045, 85906, 85708, 85622, 85503, 85418, 85402, 85327, 85246, 85226, 85117, 85117, 85071, 84992, 84992, 84950, 84917, 84889, 84871, 84857, 84838, 84830, 84816, 84785, 84780, 84757, 84743, 84725, 84701, 84673, 84653, 84624, 84572, 84553, 84494, 84494, 84458, 84422, 84378, 84335, 84286, 84228, 84216, 84209, 84198, 84195, 84191, 84186, 84177, 84171, 84161, 84160, 84154, 84146, 84128, 84123, 84106, 84106, 84103, 84102, 84095, 84084, 84081, 84063, 84063, 84063, 84063, 84054, 84044, 84038, 84029, 84024, 84018, 84011, 84010, 83990, 83976, 83975, 83970, 83968, 83966, 83964, 83959, 83959, 83956, 83944, 83940, 83918, 83912, 83909, 83899, 83884, 83868, 83853, 83817, 83805, 83787, 83760, 83403, 83356, 83306, 83213, 83134, 83014, 82941, 82883, 82809, 82718, 82665, 82602, 82543, 82511, 82432, 82361, 82279, 82198, 82122, 81999, 81897, 81782, 81661, 81591, 81498, 81435, 81305, 81250, 81156, 81102, 81058, 81033, 81003, 80977, 80945, 80932, 80921, 80887, 80860, 80823, 80770, 80690, 80537, 80386, 80261, 80136, 79932, 79356, 78928, 78600, 78166, 77754, 77241, 77022, 77001, 75550, 75077, 74619, 74211, 72434, 70513, 68413, 66358, 59895, 44759, 44386, 42354, 39829, 36814, 34110, 30587, 27440, 23707, 19716, 16630, 11891, 9802, 8141, 6087, 5509, 2877, 2075, 1406, 920, 643, 548], \"yaxis\": \"y\"}],                        {\"barmode\": \"relative\", \"coloraxis\": {\"colorbar\": {\"title\": {\"text\": \"Confirmed\"}}, \"colorscale\": [[0.0, \"rgb(255,245,240)\"], [0.125, \"rgb(254,224,210)\"], [0.25, \"rgb(252,187,161)\"], [0.375, \"rgb(252,146,114)\"], [0.5, \"rgb(251,106,74)\"], [0.625, \"rgb(239,59,44)\"], [0.75, \"rgb(203,24,29)\"], [0.875, \"rgb(165,15,21)\"], [1.0, \"rgb(103,0,13)\"]]}, \"legend\": {\"tracegroupgap\": 0}, \"margin\": {\"t\": 60}, \"template\": {\"data\": {\"bar\": [{\"error_x\": {\"color\": \"#2a3f5f\"}, \"error_y\": {\"color\": \"#2a3f5f\"}, \"marker\": {\"line\": {\"color\": \"#E5ECF6\", \"width\": 0.5}}, \"type\": \"bar\"}], \"barpolar\": [{\"marker\": {\"line\": {\"color\": \"#E5ECF6\", \"width\": 0.5}}, \"type\": \"barpolar\"}], \"carpet\": [{\"aaxis\": {\"endlinecolor\": \"#2a3f5f\", \"gridcolor\": \"white\", \"linecolor\": \"white\", \"minorgridcolor\": \"white\", \"startlinecolor\": \"#2a3f5f\"}, \"baxis\": {\"endlinecolor\": \"#2a3f5f\", \"gridcolor\": \"white\", \"linecolor\": \"white\", \"minorgridcolor\": \"white\", \"startlinecolor\": \"#2a3f5f\"}, \"type\": \"carpet\"}], \"choropleth\": [{\"colorbar\": {\"outlinewidth\": 0, \"ticks\": \"\"}, \"type\": \"choropleth\"}], \"contour\": [{\"colorbar\": {\"outlinewidth\": 0, \"ticks\": \"\"}, \"colorscale\": [[0.0, \"#0d0887\"], [0.1111111111111111, \"#46039f\"], [0.2222222222222222, \"#7201a8\"], [0.3333333333333333, \"#9c179e\"], [0.4444444444444444, \"#bd3786\"], [0.5555555555555556, \"#d8576b\"], [0.6666666666666666, \"#ed7953\"], [0.7777777777777778, \"#fb9f3a\"], [0.8888888888888888, \"#fdca26\"], [1.0, \"#f0f921\"]], \"type\": \"contour\"}], \"contourcarpet\": [{\"colorbar\": {\"outlinewidth\": 0, \"ticks\": \"\"}, \"type\": \"contourcarpet\"}], \"heatmap\": [{\"colorbar\": {\"outlinewidth\": 0, \"ticks\": \"\"}, \"colorscale\": [[0.0, \"#0d0887\"], [0.1111111111111111, \"#46039f\"], [0.2222222222222222, \"#7201a8\"], [0.3333333333333333, \"#9c179e\"], [0.4444444444444444, \"#bd3786\"], [0.5555555555555556, \"#d8576b\"], [0.6666666666666666, \"#ed7953\"], [0.7777777777777778, \"#fb9f3a\"], [0.8888888888888888, \"#fdca26\"], [1.0, \"#f0f921\"]], \"type\": \"heatmap\"}], \"heatmapgl\": [{\"colorbar\": {\"outlinewidth\": 0, \"ticks\": \"\"}, \"colorscale\": [[0.0, \"#0d0887\"], [0.1111111111111111, \"#46039f\"], [0.2222222222222222, \"#7201a8\"], [0.3333333333333333, \"#9c179e\"], [0.4444444444444444, \"#bd3786\"], [0.5555555555555556, \"#d8576b\"], [0.6666666666666666, \"#ed7953\"], [0.7777777777777778, \"#fb9f3a\"], [0.8888888888888888, \"#fdca26\"], [1.0, \"#f0f921\"]], \"type\": \"heatmapgl\"}], \"histogram\": [{\"marker\": {\"colorbar\": {\"outlinewidth\": 0, \"ticks\": \"\"}}, \"type\": \"histogram\"}], \"histogram2d\": [{\"colorbar\": {\"outlinewidth\": 0, \"ticks\": \"\"}, \"colorscale\": [[0.0, \"#0d0887\"], [0.1111111111111111, \"#46039f\"], [0.2222222222222222, \"#7201a8\"], [0.3333333333333333, \"#9c179e\"], [0.4444444444444444, \"#bd3786\"], [0.5555555555555556, \"#d8576b\"], [0.6666666666666666, \"#ed7953\"], [0.7777777777777778, \"#fb9f3a\"], [0.8888888888888888, \"#fdca26\"], [1.0, \"#f0f921\"]], \"type\": \"histogram2d\"}], \"histogram2dcontour\": [{\"colorbar\": {\"outlinewidth\": 0, \"ticks\": \"\"}, \"colorscale\": [[0.0, \"#0d0887\"], [0.1111111111111111, \"#46039f\"], [0.2222222222222222, \"#7201a8\"], [0.3333333333333333, \"#9c179e\"], [0.4444444444444444, \"#bd3786\"], [0.5555555555555556, \"#d8576b\"], [0.6666666666666666, \"#ed7953\"], [0.7777777777777778, \"#fb9f3a\"], [0.8888888888888888, \"#fdca26\"], [1.0, \"#f0f921\"]], \"type\": \"histogram2dcontour\"}], \"mesh3d\": [{\"colorbar\": {\"outlinewidth\": 0, \"ticks\": \"\"}, \"type\": \"mesh3d\"}], \"parcoords\": [{\"line\": {\"colorbar\": {\"outlinewidth\": 0, \"ticks\": \"\"}}, \"type\": \"parcoords\"}], \"pie\": [{\"automargin\": true, \"type\": \"pie\"}], \"scatter\": [{\"marker\": {\"colorbar\": {\"outlinewidth\": 0, \"ticks\": \"\"}}, \"type\": \"scatter\"}], \"scatter3d\": [{\"line\": {\"colorbar\": {\"outlinewidth\": 0, \"ticks\": \"\"}}, \"marker\": {\"colorbar\": {\"outlinewidth\": 0, \"ticks\": \"\"}}, \"type\": \"scatter3d\"}], \"scattercarpet\": [{\"marker\": {\"colorbar\": {\"outlinewidth\": 0, \"ticks\": \"\"}}, \"type\": \"scattercarpet\"}], \"scattergeo\": [{\"marker\": {\"colorbar\": {\"outlinewidth\": 0, \"ticks\": \"\"}}, \"type\": \"scattergeo\"}], \"scattergl\": [{\"marker\": {\"colorbar\": {\"outlinewidth\": 0, \"ticks\": \"\"}}, \"type\": \"scattergl\"}], \"scattermapbox\": [{\"marker\": {\"colorbar\": {\"outlinewidth\": 0, \"ticks\": \"\"}}, \"type\": \"scattermapbox\"}], \"scatterpolar\": [{\"marker\": {\"colorbar\": {\"outlinewidth\": 0, \"ticks\": \"\"}}, \"type\": \"scatterpolar\"}], \"scatterpolargl\": [{\"marker\": {\"colorbar\": {\"outlinewidth\": 0, \"ticks\": \"\"}}, \"type\": \"scatterpolargl\"}], \"scatterternary\": [{\"marker\": {\"colorbar\": {\"outlinewidth\": 0, \"ticks\": \"\"}}, \"type\": \"scatterternary\"}], \"surface\": [{\"colorbar\": {\"outlinewidth\": 0, \"ticks\": \"\"}, \"colorscale\": [[0.0, \"#0d0887\"], [0.1111111111111111, \"#46039f\"], [0.2222222222222222, \"#7201a8\"], [0.3333333333333333, \"#9c179e\"], [0.4444444444444444, \"#bd3786\"], [0.5555555555555556, \"#d8576b\"], [0.6666666666666666, \"#ed7953\"], [0.7777777777777778, \"#fb9f3a\"], [0.8888888888888888, \"#fdca26\"], [1.0, \"#f0f921\"]], \"type\": \"surface\"}], \"table\": [{\"cells\": {\"fill\": {\"color\": \"#EBF0F8\"}, \"line\": {\"color\": \"white\"}}, \"header\": {\"fill\": {\"color\": \"#C8D4E3\"}, \"line\": {\"color\": \"white\"}}, \"type\": \"table\"}]}, \"layout\": {\"annotationdefaults\": {\"arrowcolor\": \"#2a3f5f\", \"arrowhead\": 0, \"arrowwidth\": 1}, \"autotypenumbers\": \"strict\", \"coloraxis\": {\"colorbar\": {\"outlinewidth\": 0, \"ticks\": \"\"}}, \"colorscale\": {\"diverging\": [[0, \"#8e0152\"], [0.1, \"#c51b7d\"], [0.2, \"#de77ae\"], [0.3, \"#f1b6da\"], [0.4, \"#fde0ef\"], [0.5, \"#f7f7f7\"], [0.6, \"#e6f5d0\"], [0.7, \"#b8e186\"], [0.8, \"#7fbc41\"], [0.9, \"#4d9221\"], [1, \"#276419\"]], \"sequential\": [[0.0, \"#0d0887\"], [0.1111111111111111, \"#46039f\"], [0.2222222222222222, \"#7201a8\"], [0.3333333333333333, \"#9c179e\"], [0.4444444444444444, \"#bd3786\"], [0.5555555555555556, \"#d8576b\"], [0.6666666666666666, \"#ed7953\"], [0.7777777777777778, \"#fb9f3a\"], [0.8888888888888888, \"#fdca26\"], [1.0, \"#f0f921\"]], \"sequentialminus\": [[0.0, \"#0d0887\"], [0.1111111111111111, \"#46039f\"], [0.2222222222222222, \"#7201a8\"], [0.3333333333333333, \"#9c179e\"], [0.4444444444444444, \"#bd3786\"], [0.5555555555555556, \"#d8576b\"], [0.6666666666666666, \"#ed7953\"], [0.7777777777777778, \"#fb9f3a\"], [0.8888888888888888, \"#fdca26\"], [1.0, \"#f0f921\"]]}, \"colorway\": [\"#636efa\", \"#EF553B\", \"#00cc96\", \"#ab63fa\", \"#FFA15A\", \"#19d3f3\", \"#FF6692\", \"#B6E880\", \"#FF97FF\", \"#FECB52\"], \"font\": {\"color\": \"#2a3f5f\"}, \"geo\": {\"bgcolor\": \"white\", \"lakecolor\": \"white\", \"landcolor\": \"#E5ECF6\", \"showlakes\": true, \"showland\": true, \"subunitcolor\": \"white\"}, \"hoverlabel\": {\"align\": \"left\"}, \"hovermode\": \"closest\", \"mapbox\": {\"style\": \"light\"}, \"paper_bgcolor\": \"white\", \"plot_bgcolor\": \"#E5ECF6\", \"polar\": {\"angularaxis\": {\"gridcolor\": \"white\", \"linecolor\": \"white\", \"ticks\": \"\"}, \"bgcolor\": \"#E5ECF6\", \"radialaxis\": {\"gridcolor\": \"white\", \"linecolor\": \"white\", \"ticks\": \"\"}}, \"scene\": {\"xaxis\": {\"backgroundcolor\": \"#E5ECF6\", \"gridcolor\": \"white\", \"gridwidth\": 2, \"linecolor\": \"white\", \"showbackground\": true, \"ticks\": \"\", \"zerolinecolor\": \"white\"}, \"yaxis\": {\"backgroundcolor\": \"#E5ECF6\", \"gridcolor\": \"white\", \"gridwidth\": 2, \"linecolor\": \"white\", \"showbackground\": true, \"ticks\": \"\", \"zerolinecolor\": \"white\"}, \"zaxis\": {\"backgroundcolor\": \"#E5ECF6\", \"gridcolor\": \"white\", \"gridwidth\": 2, \"linecolor\": \"white\", \"showbackground\": true, \"ticks\": \"\", \"zerolinecolor\": \"white\"}}, \"shapedefaults\": {\"line\": {\"color\": \"#2a3f5f\"}}, \"ternary\": {\"aaxis\": {\"gridcolor\": \"white\", \"linecolor\": \"white\", \"ticks\": \"\"}, \"baxis\": {\"gridcolor\": \"white\", \"linecolor\": \"white\", \"ticks\": \"\"}, \"bgcolor\": \"#E5ECF6\", \"caxis\": {\"gridcolor\": \"white\", \"linecolor\": \"white\", \"ticks\": \"\"}}, \"title\": {\"x\": 0.05}, \"xaxis\": {\"automargin\": true, \"gridcolor\": \"white\", \"linecolor\": \"white\", \"ticks\": \"\", \"title\": {\"standoff\": 15}, \"zerolinecolor\": \"white\", \"zerolinewidth\": 2}, \"yaxis\": {\"automargin\": true, \"gridcolor\": \"white\", \"linecolor\": \"white\", \"ticks\": \"\", \"title\": {\"standoff\": 15}, \"zerolinecolor\": \"white\", \"zerolinewidth\": 2}}}, \"title\": {\"text\": \"Confirmed COVID-19 cases per day in China\"}, \"xaxis\": {\"anchor\": \"y\", \"domain\": [0.0, 1.0], \"title\": {\"text\": \"Date\"}}, \"yaxis\": {\"anchor\": \"x\", \"domain\": [0.0, 1.0], \"title\": {\"text\": \"Confirmed\"}}},                        {\"responsive\": true}                    ).then(function(){\n",
       "                            \n",
       "var gd = document.getElementById('8998ce62-b7d8-4e0c-8c5b-55442d738c02');\n",
       "var x = new MutationObserver(function (mutations, observer) {{\n",
       "        var display = window.getComputedStyle(gd).display;\n",
       "        if (!display || display === 'none') {{\n",
       "            console.log([gd, 'removed!']);\n",
       "            Plotly.purge(gd);\n",
       "            observer.disconnect();\n",
       "        }}\n",
       "}});\n",
       "\n",
       "// Listen for the removal of the full notebook cells\n",
       "var notebookContainer = gd.closest('#notebook-container');\n",
       "if (notebookContainer) {{\n",
       "    x.observe(notebookContainer, {childList: true});\n",
       "}}\n",
       "\n",
       "// Listen for the clearing of the current output cell\n",
       "var outputEl = gd.closest('.output');\n",
       "if (outputEl) {{\n",
       "    x.observe(outputEl, {childList: true});\n",
       "}}\n",
       "\n",
       "                        })                };                });            </script>        </div>"
      ]
     },
     "metadata": {},
     "output_type": "display_data"
    }
   ],
   "source": [
    "df_by_date = pd.DataFrame(data.fillna('NA').groupby(['Country','Date'])['Confirmed'].sum().sort_values().reset_index())\n",
    "\n",
    "fig = px.bar(df_by_date.loc[(df_by_date['Country'] == 'China') &(df_by_date.Date >= '2020-01-22')].sort_values('Confirmed',ascending = False), \n",
    "             x='Date', y='Confirmed', color=\"Confirmed\", color_continuous_scale=px.colors.sequential.Reds)\n",
    "fig.update_layout(title_text='Confirmed COVID-19 cases per day in China')\n",
    "fig.show()"
   ]
  },
  {
   "cell_type": "markdown",
   "metadata": {},
   "source": [
    "#### Even though China is the Origin of Covid-19,the count reaches only 90K in November end.The spread of the COVID-19 in China started from December 2019."
   ]
  },
  {
   "cell_type": "markdown",
   "metadata": {},
   "source": [
    "### Deaths COVID-19 cases per day in US"
   ]
  },
  {
   "cell_type": "code",
   "execution_count": 24,
   "metadata": {},
   "outputs": [
    {
     "data": {
      "application/vnd.plotly.v1+json": {
       "config": {
        "plotlyServerURL": "https://plot.ly"
       },
       "data": [
        {
         "alignmentgroup": "True",
         "hovertemplate": "Date=%{x}<br>Deaths=%{marker.color}<extra></extra>",
         "legendgroup": "",
         "marker": {
          "color": [
           266873,
           266047,
           264858,
           263454,
           262222,
           259925,
           257779,
           256866,
           255946,
           254517,
           252600,
           250613,
           248716,
           247024,
           246290,
           245663,
           244403,
           243245,
           242036,
           240623,
           239242,
           238554,
           238081,
           237073,
           235878,
           234728,
           233638,
           232067,
           231535,
           231127,
           230242,
           229214,
           228247,
           227240,
           226272,
           225780,
           225402,
           224466,
           223515,
           222665,
           221510,
           220576,
           220109,
           219681,
           218936,
           218031,
           217213,
           216212,
           215415,
           215078,
           214656,
           214029,
           213064,
           212100,
           211170,
           210468,
           210006,
           209657,
           208978,
           208050,
           207199,
           206257,
           205345,
           205024,
           204742,
           203996,
           203057,
           202140,
           201038,
           200015,
           199590,
           199349,
           198634,
           197704,
           196838,
           195851,
           194563,
           194139,
           193753,
           193043,
           191830,
           190923,
           189741,
           189295,
           189019,
           188609,
           187838,
           186868,
           185801,
           184749,
           183684,
           183089,
           182777,
           181813,
           180841,
           179737,
           178509,
           177279,
           176835,
           176380,
           175396,
           174285,
           173207,
           171876,
           170545,
           170099,
           169524,
           168494,
           167151,
           166087,
           164581,
           163513,
           162986,
           162470,
           161388,
           160150,
           158902,
           157526,
           156152,
           155613,
           155202,
           154093,
           152851,
           151635,
           150204,
           148835,
           147716,
           147233,
           146345,
           145215,
           144123,
           142903,
           141802,
           141278,
           140825,
           139963,
           139030,
           138080,
           137108,
           136188,
           135820,
           135359,
           134666,
           133845,
           132847,
           131984,
           130777,
           130416,
           130127,
           129858,
           129199,
           128479,
           127787,
           127139,
           126761,
           126483,
           125981,
           125360,
           124815,
           124059,
           123217,
           122833,
           122540,
           121934,
           121272,
           120564,
           119833,
           119012,
           118629,
           118316,
           117543,
           116723,
           115869,
           114970,
           114040,
           113543,
           113102,
           112405,
           111499,
           110494,
           109500,
           108451,
           107674,
           106985,
           106031,
           104876,
           103693,
           102185,
           101521,
           100964,
           100348,
           99214,
           97969,
           96758,
           95240,
           93714,
           92547,
           91792,
           90520,
           88856,
           87082,
           85333,
           83719,
           82717,
           81817,
           80275,
           78523,
           76599,
           74255,
           71956,
           70638,
           69535,
           67848,
           65971,
           63555,
           61028,
           58787,
           57322,
           55988,
           54285,
           52125,
           49659,
           47221,
           44679,
           42499,
           40568,
           38599,
           36506,
           34337,
           31734,
           29280,
           27342,
           25527,
           23403,
           21176,
           18957,
           16803,
           14233,
           12457,
           10889,
           9348,
           7955,
           6452,
           5272,
           4180,
           3484,
           2892,
           2259,
           1741,
           1329,
           1003,
           762,
           574,
           464,
           365,
           264,
           191,
           132,
           97,
           70,
           58,
           51,
           43,
           33,
           28,
           22,
           21,
           17,
           14,
           12,
           11,
           7,
           6,
           1,
           1,
           0,
           0,
           0,
           0,
           0,
           0,
           0,
           0,
           0,
           0,
           0,
           0,
           0,
           0,
           0,
           0,
           0,
           0,
           0,
           0,
           0,
           0,
           0,
           0,
           0,
           0,
           0,
           0,
           0,
           0,
           0,
           0,
           0,
           0,
           0,
           0,
           0,
           0
          ],
          "coloraxis": "coloraxis"
         },
         "name": "",
         "offsetgroup": "",
         "orientation": "v",
         "showlegend": false,
         "textposition": "auto",
         "type": "bar",
         "x": [
          "2020-11-29",
          "2020-11-28",
          "2020-11-27",
          "2020-11-26",
          "2020-11-25",
          "2020-11-24",
          "2020-11-23",
          "2020-11-22",
          "2020-11-21",
          "2020-11-20",
          "2020-11-19",
          "2020-11-18",
          "2020-11-17",
          "2020-11-16",
          "2020-11-15",
          "2020-11-14",
          "2020-11-13",
          "2020-11-12",
          "2020-11-11",
          "2020-11-10",
          "2020-11-09",
          "2020-11-08",
          "2020-11-07",
          "2020-11-06",
          "2020-11-05",
          "2020-11-04",
          "2020-11-03",
          "2020-11-02",
          "2020-11-01",
          "2020-10-31",
          "2020-10-30",
          "2020-10-29",
          "2020-10-28",
          "2020-10-27",
          "2020-10-26",
          "2020-10-25",
          "2020-10-24",
          "2020-10-23",
          "2020-10-22",
          "2020-10-21",
          "2020-10-20",
          "2020-10-19",
          "2020-10-18",
          "2020-10-17",
          "2020-10-16",
          "2020-10-15",
          "2020-10-14",
          "2020-10-13",
          "2020-10-12",
          "2020-10-11",
          "2020-10-10",
          "2020-10-09",
          "2020-10-08",
          "2020-10-07",
          "2020-10-06",
          "2020-10-05",
          "2020-10-04",
          "2020-10-03",
          "2020-10-02",
          "2020-10-01",
          "2020-09-30",
          "2020-09-29",
          "2020-09-28",
          "2020-09-27",
          "2020-09-26",
          "2020-09-25",
          "2020-09-24",
          "2020-09-23",
          "2020-09-22",
          "2020-09-21",
          "2020-09-20",
          "2020-09-19",
          "2020-09-18",
          "2020-09-17",
          "2020-09-16",
          "2020-09-15",
          "2020-09-14",
          "2020-09-13",
          "2020-09-12",
          "2020-09-11",
          "2020-09-10",
          "2020-09-09",
          "2020-09-08",
          "2020-09-07",
          "2020-09-06",
          "2020-09-05",
          "2020-09-04",
          "2020-09-03",
          "2020-09-02",
          "2020-09-01",
          "2020-08-31",
          "2020-08-30",
          "2020-08-29",
          "2020-08-28",
          "2020-08-27",
          "2020-08-26",
          "2020-08-25",
          "2020-08-24",
          "2020-08-23",
          "2020-08-22",
          "2020-08-21",
          "2020-08-20",
          "2020-08-19",
          "2020-08-18",
          "2020-08-17",
          "2020-08-16",
          "2020-08-15",
          "2020-08-14",
          "2020-08-13",
          "2020-08-12",
          "2020-08-11",
          "2020-08-10",
          "2020-08-09",
          "2020-08-08",
          "2020-08-07",
          "2020-08-06",
          "2020-08-05",
          "2020-08-04",
          "2020-08-03",
          "2020-08-02",
          "2020-08-01",
          "2020-07-31",
          "2020-07-30",
          "2020-07-29",
          "2020-07-28",
          "2020-07-27",
          "2020-07-26",
          "2020-07-25",
          "2020-07-24",
          "2020-07-23",
          "2020-07-22",
          "2020-07-21",
          "2020-07-20",
          "2020-07-19",
          "2020-07-18",
          "2020-07-17",
          "2020-07-16",
          "2020-07-15",
          "2020-07-14",
          "2020-07-13",
          "2020-07-12",
          "2020-07-11",
          "2020-07-10",
          "2020-07-09",
          "2020-07-08",
          "2020-07-07",
          "2020-07-06",
          "2020-07-05",
          "2020-07-04",
          "2020-07-03",
          "2020-07-02",
          "2020-07-01",
          "2020-06-30",
          "2020-06-29",
          "2020-06-28",
          "2020-06-27",
          "2020-06-26",
          "2020-06-25",
          "2020-06-24",
          "2020-06-23",
          "2020-06-22",
          "2020-06-21",
          "2020-06-20",
          "2020-06-19",
          "2020-06-18",
          "2020-06-17",
          "2020-06-16",
          "2020-06-15",
          "2020-06-14",
          "2020-06-13",
          "2020-06-12",
          "2020-06-11",
          "2020-06-10",
          "2020-06-09",
          "2020-06-08",
          "2020-06-07",
          "2020-06-06",
          "2020-06-05",
          "2020-06-04",
          "2020-06-03",
          "2020-06-02",
          "2020-06-01",
          "2020-05-31",
          "2020-05-30",
          "2020-05-29",
          "2020-05-28",
          "2020-05-27",
          "2020-05-26",
          "2020-05-25",
          "2020-05-24",
          "2020-05-23",
          "2020-05-22",
          "2020-05-21",
          "2020-05-20",
          "2020-05-19",
          "2020-05-18",
          "2020-05-17",
          "2020-05-16",
          "2020-05-15",
          "2020-05-14",
          "2020-05-13",
          "2020-05-12",
          "2020-05-11",
          "2020-05-10",
          "2020-05-09",
          "2020-05-08",
          "2020-05-07",
          "2020-05-06",
          "2020-05-05",
          "2020-05-04",
          "2020-05-03",
          "2020-05-02",
          "2020-05-01",
          "2020-04-30",
          "2020-04-29",
          "2020-04-28",
          "2020-04-27",
          "2020-04-26",
          "2020-04-25",
          "2020-04-24",
          "2020-04-23",
          "2020-04-22",
          "2020-04-21",
          "2020-04-20",
          "2020-04-19",
          "2020-04-18",
          "2020-04-17",
          "2020-04-16",
          "2020-04-15",
          "2020-04-14",
          "2020-04-13",
          "2020-04-12",
          "2020-04-11",
          "2020-04-10",
          "2020-04-09",
          "2020-04-08",
          "2020-04-07",
          "2020-04-06",
          "2020-04-05",
          "2020-04-04",
          "2020-04-03",
          "2020-04-02",
          "2020-04-01",
          "2020-03-31",
          "2020-03-30",
          "2020-03-29",
          "2020-03-28",
          "2020-03-27",
          "2020-03-26",
          "2020-03-25",
          "2020-03-24",
          "2020-03-23",
          "2020-03-22",
          "2020-03-21",
          "2020-03-20",
          "2020-03-19",
          "2020-03-18",
          "2020-03-17",
          "2020-03-16",
          "2020-03-15",
          "2020-03-14",
          "2020-03-13",
          "2020-03-12",
          "2020-03-11",
          "2020-03-10",
          "2020-03-09",
          "2020-03-08",
          "2020-03-07",
          "2020-03-06",
          "2020-03-05",
          "2020-03-04",
          "2020-03-03",
          "2020-03-02",
          "2020-02-29",
          "2020-03-01",
          "2020-02-14",
          "2020-02-16",
          "2020-02-15",
          "2020-02-28",
          "2020-02-13",
          "2020-02-12",
          "2020-02-11",
          "2020-02-17",
          "2020-02-09",
          "2020-02-18",
          "2020-02-19",
          "2020-02-20",
          "2020-02-21",
          "2020-02-22",
          "2020-02-23",
          "2020-02-24",
          "2020-02-25",
          "2020-02-10",
          "2020-02-26",
          "2020-02-08",
          "2020-01-29",
          "2020-01-22",
          "2020-01-23",
          "2020-01-24",
          "2020-01-25",
          "2020-01-26",
          "2020-01-27",
          "2020-01-28",
          "2020-01-30",
          "2020-02-07",
          "2020-01-31",
          "2020-02-01",
          "2020-02-02",
          "2020-02-03",
          "2020-02-04",
          "2020-02-05",
          "2020-02-06",
          "2020-02-27"
         ],
         "xaxis": "x",
         "y": [
          266873,
          266047,
          264858,
          263454,
          262222,
          259925,
          257779,
          256866,
          255946,
          254517,
          252600,
          250613,
          248716,
          247024,
          246290,
          245663,
          244403,
          243245,
          242036,
          240623,
          239242,
          238554,
          238081,
          237073,
          235878,
          234728,
          233638,
          232067,
          231535,
          231127,
          230242,
          229214,
          228247,
          227240,
          226272,
          225780,
          225402,
          224466,
          223515,
          222665,
          221510,
          220576,
          220109,
          219681,
          218936,
          218031,
          217213,
          216212,
          215415,
          215078,
          214656,
          214029,
          213064,
          212100,
          211170,
          210468,
          210006,
          209657,
          208978,
          208050,
          207199,
          206257,
          205345,
          205024,
          204742,
          203996,
          203057,
          202140,
          201038,
          200015,
          199590,
          199349,
          198634,
          197704,
          196838,
          195851,
          194563,
          194139,
          193753,
          193043,
          191830,
          190923,
          189741,
          189295,
          189019,
          188609,
          187838,
          186868,
          185801,
          184749,
          183684,
          183089,
          182777,
          181813,
          180841,
          179737,
          178509,
          177279,
          176835,
          176380,
          175396,
          174285,
          173207,
          171876,
          170545,
          170099,
          169524,
          168494,
          167151,
          166087,
          164581,
          163513,
          162986,
          162470,
          161388,
          160150,
          158902,
          157526,
          156152,
          155613,
          155202,
          154093,
          152851,
          151635,
          150204,
          148835,
          147716,
          147233,
          146345,
          145215,
          144123,
          142903,
          141802,
          141278,
          140825,
          139963,
          139030,
          138080,
          137108,
          136188,
          135820,
          135359,
          134666,
          133845,
          132847,
          131984,
          130777,
          130416,
          130127,
          129858,
          129199,
          128479,
          127787,
          127139,
          126761,
          126483,
          125981,
          125360,
          124815,
          124059,
          123217,
          122833,
          122540,
          121934,
          121272,
          120564,
          119833,
          119012,
          118629,
          118316,
          117543,
          116723,
          115869,
          114970,
          114040,
          113543,
          113102,
          112405,
          111499,
          110494,
          109500,
          108451,
          107674,
          106985,
          106031,
          104876,
          103693,
          102185,
          101521,
          100964,
          100348,
          99214,
          97969,
          96758,
          95240,
          93714,
          92547,
          91792,
          90520,
          88856,
          87082,
          85333,
          83719,
          82717,
          81817,
          80275,
          78523,
          76599,
          74255,
          71956,
          70638,
          69535,
          67848,
          65971,
          63555,
          61028,
          58787,
          57322,
          55988,
          54285,
          52125,
          49659,
          47221,
          44679,
          42499,
          40568,
          38599,
          36506,
          34337,
          31734,
          29280,
          27342,
          25527,
          23403,
          21176,
          18957,
          16803,
          14233,
          12457,
          10889,
          9348,
          7955,
          6452,
          5272,
          4180,
          3484,
          2892,
          2259,
          1741,
          1329,
          1003,
          762,
          574,
          464,
          365,
          264,
          191,
          132,
          97,
          70,
          58,
          51,
          43,
          33,
          28,
          22,
          21,
          17,
          14,
          12,
          11,
          7,
          6,
          1,
          1,
          0,
          0,
          0,
          0,
          0,
          0,
          0,
          0,
          0,
          0,
          0,
          0,
          0,
          0,
          0,
          0,
          0,
          0,
          0,
          0,
          0,
          0,
          0,
          0,
          0,
          0,
          0,
          0,
          0,
          0,
          0,
          0,
          0,
          0,
          0,
          0,
          0,
          0
         ],
         "yaxis": "y"
        }
       ],
       "layout": {
        "barmode": "relative",
        "coloraxis": {
         "colorbar": {
          "title": {
           "text": "Deaths"
          }
         },
         "colorscale": [
          [
           0,
           "rgb(255,245,240)"
          ],
          [
           0.125,
           "rgb(254,224,210)"
          ],
          [
           0.25,
           "rgb(252,187,161)"
          ],
          [
           0.375,
           "rgb(252,146,114)"
          ],
          [
           0.5,
           "rgb(251,106,74)"
          ],
          [
           0.625,
           "rgb(239,59,44)"
          ],
          [
           0.75,
           "rgb(203,24,29)"
          ],
          [
           0.875,
           "rgb(165,15,21)"
          ],
          [
           1,
           "rgb(103,0,13)"
          ]
         ]
        },
        "legend": {
         "tracegroupgap": 0
        },
        "margin": {
         "t": 60
        },
        "template": {
         "data": {
          "bar": [
           {
            "error_x": {
             "color": "#2a3f5f"
            },
            "error_y": {
             "color": "#2a3f5f"
            },
            "marker": {
             "line": {
              "color": "#E5ECF6",
              "width": 0.5
             }
            },
            "type": "bar"
           }
          ],
          "barpolar": [
           {
            "marker": {
             "line": {
              "color": "#E5ECF6",
              "width": 0.5
             }
            },
            "type": "barpolar"
           }
          ],
          "carpet": [
           {
            "aaxis": {
             "endlinecolor": "#2a3f5f",
             "gridcolor": "white",
             "linecolor": "white",
             "minorgridcolor": "white",
             "startlinecolor": "#2a3f5f"
            },
            "baxis": {
             "endlinecolor": "#2a3f5f",
             "gridcolor": "white",
             "linecolor": "white",
             "minorgridcolor": "white",
             "startlinecolor": "#2a3f5f"
            },
            "type": "carpet"
           }
          ],
          "choropleth": [
           {
            "colorbar": {
             "outlinewidth": 0,
             "ticks": ""
            },
            "type": "choropleth"
           }
          ],
          "contour": [
           {
            "colorbar": {
             "outlinewidth": 0,
             "ticks": ""
            },
            "colorscale": [
             [
              0,
              "#0d0887"
             ],
             [
              0.1111111111111111,
              "#46039f"
             ],
             [
              0.2222222222222222,
              "#7201a8"
             ],
             [
              0.3333333333333333,
              "#9c179e"
             ],
             [
              0.4444444444444444,
              "#bd3786"
             ],
             [
              0.5555555555555556,
              "#d8576b"
             ],
             [
              0.6666666666666666,
              "#ed7953"
             ],
             [
              0.7777777777777778,
              "#fb9f3a"
             ],
             [
              0.8888888888888888,
              "#fdca26"
             ],
             [
              1,
              "#f0f921"
             ]
            ],
            "type": "contour"
           }
          ],
          "contourcarpet": [
           {
            "colorbar": {
             "outlinewidth": 0,
             "ticks": ""
            },
            "type": "contourcarpet"
           }
          ],
          "heatmap": [
           {
            "colorbar": {
             "outlinewidth": 0,
             "ticks": ""
            },
            "colorscale": [
             [
              0,
              "#0d0887"
             ],
             [
              0.1111111111111111,
              "#46039f"
             ],
             [
              0.2222222222222222,
              "#7201a8"
             ],
             [
              0.3333333333333333,
              "#9c179e"
             ],
             [
              0.4444444444444444,
              "#bd3786"
             ],
             [
              0.5555555555555556,
              "#d8576b"
             ],
             [
              0.6666666666666666,
              "#ed7953"
             ],
             [
              0.7777777777777778,
              "#fb9f3a"
             ],
             [
              0.8888888888888888,
              "#fdca26"
             ],
             [
              1,
              "#f0f921"
             ]
            ],
            "type": "heatmap"
           }
          ],
          "heatmapgl": [
           {
            "colorbar": {
             "outlinewidth": 0,
             "ticks": ""
            },
            "colorscale": [
             [
              0,
              "#0d0887"
             ],
             [
              0.1111111111111111,
              "#46039f"
             ],
             [
              0.2222222222222222,
              "#7201a8"
             ],
             [
              0.3333333333333333,
              "#9c179e"
             ],
             [
              0.4444444444444444,
              "#bd3786"
             ],
             [
              0.5555555555555556,
              "#d8576b"
             ],
             [
              0.6666666666666666,
              "#ed7953"
             ],
             [
              0.7777777777777778,
              "#fb9f3a"
             ],
             [
              0.8888888888888888,
              "#fdca26"
             ],
             [
              1,
              "#f0f921"
             ]
            ],
            "type": "heatmapgl"
           }
          ],
          "histogram": [
           {
            "marker": {
             "colorbar": {
              "outlinewidth": 0,
              "ticks": ""
             }
            },
            "type": "histogram"
           }
          ],
          "histogram2d": [
           {
            "colorbar": {
             "outlinewidth": 0,
             "ticks": ""
            },
            "colorscale": [
             [
              0,
              "#0d0887"
             ],
             [
              0.1111111111111111,
              "#46039f"
             ],
             [
              0.2222222222222222,
              "#7201a8"
             ],
             [
              0.3333333333333333,
              "#9c179e"
             ],
             [
              0.4444444444444444,
              "#bd3786"
             ],
             [
              0.5555555555555556,
              "#d8576b"
             ],
             [
              0.6666666666666666,
              "#ed7953"
             ],
             [
              0.7777777777777778,
              "#fb9f3a"
             ],
             [
              0.8888888888888888,
              "#fdca26"
             ],
             [
              1,
              "#f0f921"
             ]
            ],
            "type": "histogram2d"
           }
          ],
          "histogram2dcontour": [
           {
            "colorbar": {
             "outlinewidth": 0,
             "ticks": ""
            },
            "colorscale": [
             [
              0,
              "#0d0887"
             ],
             [
              0.1111111111111111,
              "#46039f"
             ],
             [
              0.2222222222222222,
              "#7201a8"
             ],
             [
              0.3333333333333333,
              "#9c179e"
             ],
             [
              0.4444444444444444,
              "#bd3786"
             ],
             [
              0.5555555555555556,
              "#d8576b"
             ],
             [
              0.6666666666666666,
              "#ed7953"
             ],
             [
              0.7777777777777778,
              "#fb9f3a"
             ],
             [
              0.8888888888888888,
              "#fdca26"
             ],
             [
              1,
              "#f0f921"
             ]
            ],
            "type": "histogram2dcontour"
           }
          ],
          "mesh3d": [
           {
            "colorbar": {
             "outlinewidth": 0,
             "ticks": ""
            },
            "type": "mesh3d"
           }
          ],
          "parcoords": [
           {
            "line": {
             "colorbar": {
              "outlinewidth": 0,
              "ticks": ""
             }
            },
            "type": "parcoords"
           }
          ],
          "pie": [
           {
            "automargin": true,
            "type": "pie"
           }
          ],
          "scatter": [
           {
            "marker": {
             "colorbar": {
              "outlinewidth": 0,
              "ticks": ""
             }
            },
            "type": "scatter"
           }
          ],
          "scatter3d": [
           {
            "line": {
             "colorbar": {
              "outlinewidth": 0,
              "ticks": ""
             }
            },
            "marker": {
             "colorbar": {
              "outlinewidth": 0,
              "ticks": ""
             }
            },
            "type": "scatter3d"
           }
          ],
          "scattercarpet": [
           {
            "marker": {
             "colorbar": {
              "outlinewidth": 0,
              "ticks": ""
             }
            },
            "type": "scattercarpet"
           }
          ],
          "scattergeo": [
           {
            "marker": {
             "colorbar": {
              "outlinewidth": 0,
              "ticks": ""
             }
            },
            "type": "scattergeo"
           }
          ],
          "scattergl": [
           {
            "marker": {
             "colorbar": {
              "outlinewidth": 0,
              "ticks": ""
             }
            },
            "type": "scattergl"
           }
          ],
          "scattermapbox": [
           {
            "marker": {
             "colorbar": {
              "outlinewidth": 0,
              "ticks": ""
             }
            },
            "type": "scattermapbox"
           }
          ],
          "scatterpolar": [
           {
            "marker": {
             "colorbar": {
              "outlinewidth": 0,
              "ticks": ""
             }
            },
            "type": "scatterpolar"
           }
          ],
          "scatterpolargl": [
           {
            "marker": {
             "colorbar": {
              "outlinewidth": 0,
              "ticks": ""
             }
            },
            "type": "scatterpolargl"
           }
          ],
          "scatterternary": [
           {
            "marker": {
             "colorbar": {
              "outlinewidth": 0,
              "ticks": ""
             }
            },
            "type": "scatterternary"
           }
          ],
          "surface": [
           {
            "colorbar": {
             "outlinewidth": 0,
             "ticks": ""
            },
            "colorscale": [
             [
              0,
              "#0d0887"
             ],
             [
              0.1111111111111111,
              "#46039f"
             ],
             [
              0.2222222222222222,
              "#7201a8"
             ],
             [
              0.3333333333333333,
              "#9c179e"
             ],
             [
              0.4444444444444444,
              "#bd3786"
             ],
             [
              0.5555555555555556,
              "#d8576b"
             ],
             [
              0.6666666666666666,
              "#ed7953"
             ],
             [
              0.7777777777777778,
              "#fb9f3a"
             ],
             [
              0.8888888888888888,
              "#fdca26"
             ],
             [
              1,
              "#f0f921"
             ]
            ],
            "type": "surface"
           }
          ],
          "table": [
           {
            "cells": {
             "fill": {
              "color": "#EBF0F8"
             },
             "line": {
              "color": "white"
             }
            },
            "header": {
             "fill": {
              "color": "#C8D4E3"
             },
             "line": {
              "color": "white"
             }
            },
            "type": "table"
           }
          ]
         },
         "layout": {
          "annotationdefaults": {
           "arrowcolor": "#2a3f5f",
           "arrowhead": 0,
           "arrowwidth": 1
          },
          "autotypenumbers": "strict",
          "coloraxis": {
           "colorbar": {
            "outlinewidth": 0,
            "ticks": ""
           }
          },
          "colorscale": {
           "diverging": [
            [
             0,
             "#8e0152"
            ],
            [
             0.1,
             "#c51b7d"
            ],
            [
             0.2,
             "#de77ae"
            ],
            [
             0.3,
             "#f1b6da"
            ],
            [
             0.4,
             "#fde0ef"
            ],
            [
             0.5,
             "#f7f7f7"
            ],
            [
             0.6,
             "#e6f5d0"
            ],
            [
             0.7,
             "#b8e186"
            ],
            [
             0.8,
             "#7fbc41"
            ],
            [
             0.9,
             "#4d9221"
            ],
            [
             1,
             "#276419"
            ]
           ],
           "sequential": [
            [
             0,
             "#0d0887"
            ],
            [
             0.1111111111111111,
             "#46039f"
            ],
            [
             0.2222222222222222,
             "#7201a8"
            ],
            [
             0.3333333333333333,
             "#9c179e"
            ],
            [
             0.4444444444444444,
             "#bd3786"
            ],
            [
             0.5555555555555556,
             "#d8576b"
            ],
            [
             0.6666666666666666,
             "#ed7953"
            ],
            [
             0.7777777777777778,
             "#fb9f3a"
            ],
            [
             0.8888888888888888,
             "#fdca26"
            ],
            [
             1,
             "#f0f921"
            ]
           ],
           "sequentialminus": [
            [
             0,
             "#0d0887"
            ],
            [
             0.1111111111111111,
             "#46039f"
            ],
            [
             0.2222222222222222,
             "#7201a8"
            ],
            [
             0.3333333333333333,
             "#9c179e"
            ],
            [
             0.4444444444444444,
             "#bd3786"
            ],
            [
             0.5555555555555556,
             "#d8576b"
            ],
            [
             0.6666666666666666,
             "#ed7953"
            ],
            [
             0.7777777777777778,
             "#fb9f3a"
            ],
            [
             0.8888888888888888,
             "#fdca26"
            ],
            [
             1,
             "#f0f921"
            ]
           ]
          },
          "colorway": [
           "#636efa",
           "#EF553B",
           "#00cc96",
           "#ab63fa",
           "#FFA15A",
           "#19d3f3",
           "#FF6692",
           "#B6E880",
           "#FF97FF",
           "#FECB52"
          ],
          "font": {
           "color": "#2a3f5f"
          },
          "geo": {
           "bgcolor": "white",
           "lakecolor": "white",
           "landcolor": "#E5ECF6",
           "showlakes": true,
           "showland": true,
           "subunitcolor": "white"
          },
          "hoverlabel": {
           "align": "left"
          },
          "hovermode": "closest",
          "mapbox": {
           "style": "light"
          },
          "paper_bgcolor": "white",
          "plot_bgcolor": "#E5ECF6",
          "polar": {
           "angularaxis": {
            "gridcolor": "white",
            "linecolor": "white",
            "ticks": ""
           },
           "bgcolor": "#E5ECF6",
           "radialaxis": {
            "gridcolor": "white",
            "linecolor": "white",
            "ticks": ""
           }
          },
          "scene": {
           "xaxis": {
            "backgroundcolor": "#E5ECF6",
            "gridcolor": "white",
            "gridwidth": 2,
            "linecolor": "white",
            "showbackground": true,
            "ticks": "",
            "zerolinecolor": "white"
           },
           "yaxis": {
            "backgroundcolor": "#E5ECF6",
            "gridcolor": "white",
            "gridwidth": 2,
            "linecolor": "white",
            "showbackground": true,
            "ticks": "",
            "zerolinecolor": "white"
           },
           "zaxis": {
            "backgroundcolor": "#E5ECF6",
            "gridcolor": "white",
            "gridwidth": 2,
            "linecolor": "white",
            "showbackground": true,
            "ticks": "",
            "zerolinecolor": "white"
           }
          },
          "shapedefaults": {
           "line": {
            "color": "#2a3f5f"
           }
          },
          "ternary": {
           "aaxis": {
            "gridcolor": "white",
            "linecolor": "white",
            "ticks": ""
           },
           "baxis": {
            "gridcolor": "white",
            "linecolor": "white",
            "ticks": ""
           },
           "bgcolor": "#E5ECF6",
           "caxis": {
            "gridcolor": "white",
            "linecolor": "white",
            "ticks": ""
           }
          },
          "title": {
           "x": 0.05
          },
          "xaxis": {
           "automargin": true,
           "gridcolor": "white",
           "linecolor": "white",
           "ticks": "",
           "title": {
            "standoff": 15
           },
           "zerolinecolor": "white",
           "zerolinewidth": 2
          },
          "yaxis": {
           "automargin": true,
           "gridcolor": "white",
           "linecolor": "white",
           "ticks": "",
           "title": {
            "standoff": 15
           },
           "zerolinecolor": "white",
           "zerolinewidth": 2
          }
         }
        },
        "title": {
         "text": "Deaths COVID-19 cases per day in US"
        },
        "xaxis": {
         "anchor": "y",
         "domain": [
          0,
          1
         ],
         "title": {
          "text": "Date"
         }
        },
        "yaxis": {
         "anchor": "x",
         "domain": [
          0,
          1
         ],
         "title": {
          "text": "Deaths"
         }
        }
       }
      },
      "text/html": [
       "<div>                            <div id=\"14e01abd-b214-47c2-9a58-7595f90cc062\" class=\"plotly-graph-div\" style=\"height:525px; width:100%;\"></div>            <script type=\"text/javascript\">                require([\"plotly\"], function(Plotly) {                    window.PLOTLYENV=window.PLOTLYENV || {};                                    if (document.getElementById(\"14e01abd-b214-47c2-9a58-7595f90cc062\")) {                    Plotly.newPlot(                        \"14e01abd-b214-47c2-9a58-7595f90cc062\",                        [{\"alignmentgroup\": \"True\", \"hovertemplate\": \"Date=%{x}<br>Deaths=%{marker.color}<extra></extra>\", \"legendgroup\": \"\", \"marker\": {\"color\": [266873, 266047, 264858, 263454, 262222, 259925, 257779, 256866, 255946, 254517, 252600, 250613, 248716, 247024, 246290, 245663, 244403, 243245, 242036, 240623, 239242, 238554, 238081, 237073, 235878, 234728, 233638, 232067, 231535, 231127, 230242, 229214, 228247, 227240, 226272, 225780, 225402, 224466, 223515, 222665, 221510, 220576, 220109, 219681, 218936, 218031, 217213, 216212, 215415, 215078, 214656, 214029, 213064, 212100, 211170, 210468, 210006, 209657, 208978, 208050, 207199, 206257, 205345, 205024, 204742, 203996, 203057, 202140, 201038, 200015, 199590, 199349, 198634, 197704, 196838, 195851, 194563, 194139, 193753, 193043, 191830, 190923, 189741, 189295, 189019, 188609, 187838, 186868, 185801, 184749, 183684, 183089, 182777, 181813, 180841, 179737, 178509, 177279, 176835, 176380, 175396, 174285, 173207, 171876, 170545, 170099, 169524, 168494, 167151, 166087, 164581, 163513, 162986, 162470, 161388, 160150, 158902, 157526, 156152, 155613, 155202, 154093, 152851, 151635, 150204, 148835, 147716, 147233, 146345, 145215, 144123, 142903, 141802, 141278, 140825, 139963, 139030, 138080, 137108, 136188, 135820, 135359, 134666, 133845, 132847, 131984, 130777, 130416, 130127, 129858, 129199, 128479, 127787, 127139, 126761, 126483, 125981, 125360, 124815, 124059, 123217, 122833, 122540, 121934, 121272, 120564, 119833, 119012, 118629, 118316, 117543, 116723, 115869, 114970, 114040, 113543, 113102, 112405, 111499, 110494, 109500, 108451, 107674, 106985, 106031, 104876, 103693, 102185, 101521, 100964, 100348, 99214, 97969, 96758, 95240, 93714, 92547, 91792, 90520, 88856, 87082, 85333, 83719, 82717, 81817, 80275, 78523, 76599, 74255, 71956, 70638, 69535, 67848, 65971, 63555, 61028, 58787, 57322, 55988, 54285, 52125, 49659, 47221, 44679, 42499, 40568, 38599, 36506, 34337, 31734, 29280, 27342, 25527, 23403, 21176, 18957, 16803, 14233, 12457, 10889, 9348, 7955, 6452, 5272, 4180, 3484, 2892, 2259, 1741, 1329, 1003, 762, 574, 464, 365, 264, 191, 132, 97, 70, 58, 51, 43, 33, 28, 22, 21, 17, 14, 12, 11, 7, 6, 1, 1, 0, 0, 0, 0, 0, 0, 0, 0, 0, 0, 0, 0, 0, 0, 0, 0, 0, 0, 0, 0, 0, 0, 0, 0, 0, 0, 0, 0, 0, 0, 0, 0, 0, 0, 0, 0, 0, 0], \"coloraxis\": \"coloraxis\"}, \"name\": \"\", \"offsetgroup\": \"\", \"orientation\": \"v\", \"showlegend\": false, \"textposition\": \"auto\", \"type\": \"bar\", \"x\": [\"2020-11-29\", \"2020-11-28\", \"2020-11-27\", \"2020-11-26\", \"2020-11-25\", \"2020-11-24\", \"2020-11-23\", \"2020-11-22\", \"2020-11-21\", \"2020-11-20\", \"2020-11-19\", \"2020-11-18\", \"2020-11-17\", \"2020-11-16\", \"2020-11-15\", \"2020-11-14\", \"2020-11-13\", \"2020-11-12\", \"2020-11-11\", \"2020-11-10\", \"2020-11-09\", \"2020-11-08\", \"2020-11-07\", \"2020-11-06\", \"2020-11-05\", \"2020-11-04\", \"2020-11-03\", \"2020-11-02\", \"2020-11-01\", \"2020-10-31\", \"2020-10-30\", \"2020-10-29\", \"2020-10-28\", \"2020-10-27\", \"2020-10-26\", \"2020-10-25\", \"2020-10-24\", \"2020-10-23\", \"2020-10-22\", \"2020-10-21\", \"2020-10-20\", \"2020-10-19\", \"2020-10-18\", \"2020-10-17\", \"2020-10-16\", \"2020-10-15\", \"2020-10-14\", \"2020-10-13\", \"2020-10-12\", \"2020-10-11\", \"2020-10-10\", \"2020-10-09\", \"2020-10-08\", \"2020-10-07\", \"2020-10-06\", \"2020-10-05\", \"2020-10-04\", \"2020-10-03\", \"2020-10-02\", \"2020-10-01\", \"2020-09-30\", \"2020-09-29\", \"2020-09-28\", \"2020-09-27\", \"2020-09-26\", \"2020-09-25\", \"2020-09-24\", \"2020-09-23\", \"2020-09-22\", \"2020-09-21\", \"2020-09-20\", \"2020-09-19\", \"2020-09-18\", \"2020-09-17\", \"2020-09-16\", \"2020-09-15\", \"2020-09-14\", \"2020-09-13\", \"2020-09-12\", \"2020-09-11\", \"2020-09-10\", \"2020-09-09\", \"2020-09-08\", \"2020-09-07\", \"2020-09-06\", \"2020-09-05\", \"2020-09-04\", \"2020-09-03\", \"2020-09-02\", \"2020-09-01\", \"2020-08-31\", \"2020-08-30\", \"2020-08-29\", \"2020-08-28\", \"2020-08-27\", \"2020-08-26\", \"2020-08-25\", \"2020-08-24\", \"2020-08-23\", \"2020-08-22\", \"2020-08-21\", \"2020-08-20\", \"2020-08-19\", \"2020-08-18\", \"2020-08-17\", \"2020-08-16\", \"2020-08-15\", \"2020-08-14\", \"2020-08-13\", \"2020-08-12\", \"2020-08-11\", \"2020-08-10\", \"2020-08-09\", \"2020-08-08\", \"2020-08-07\", \"2020-08-06\", \"2020-08-05\", \"2020-08-04\", \"2020-08-03\", \"2020-08-02\", \"2020-08-01\", \"2020-07-31\", \"2020-07-30\", \"2020-07-29\", \"2020-07-28\", \"2020-07-27\", \"2020-07-26\", \"2020-07-25\", \"2020-07-24\", \"2020-07-23\", \"2020-07-22\", \"2020-07-21\", \"2020-07-20\", \"2020-07-19\", \"2020-07-18\", \"2020-07-17\", \"2020-07-16\", \"2020-07-15\", \"2020-07-14\", \"2020-07-13\", \"2020-07-12\", \"2020-07-11\", \"2020-07-10\", \"2020-07-09\", \"2020-07-08\", \"2020-07-07\", \"2020-07-06\", \"2020-07-05\", \"2020-07-04\", \"2020-07-03\", \"2020-07-02\", \"2020-07-01\", \"2020-06-30\", \"2020-06-29\", \"2020-06-28\", \"2020-06-27\", \"2020-06-26\", \"2020-06-25\", \"2020-06-24\", \"2020-06-23\", \"2020-06-22\", \"2020-06-21\", \"2020-06-20\", \"2020-06-19\", \"2020-06-18\", \"2020-06-17\", \"2020-06-16\", \"2020-06-15\", \"2020-06-14\", \"2020-06-13\", \"2020-06-12\", \"2020-06-11\", \"2020-06-10\", \"2020-06-09\", \"2020-06-08\", \"2020-06-07\", \"2020-06-06\", \"2020-06-05\", \"2020-06-04\", \"2020-06-03\", \"2020-06-02\", \"2020-06-01\", \"2020-05-31\", \"2020-05-30\", \"2020-05-29\", \"2020-05-28\", \"2020-05-27\", \"2020-05-26\", \"2020-05-25\", \"2020-05-24\", \"2020-05-23\", \"2020-05-22\", \"2020-05-21\", \"2020-05-20\", \"2020-05-19\", \"2020-05-18\", \"2020-05-17\", \"2020-05-16\", \"2020-05-15\", \"2020-05-14\", \"2020-05-13\", \"2020-05-12\", \"2020-05-11\", \"2020-05-10\", \"2020-05-09\", \"2020-05-08\", \"2020-05-07\", \"2020-05-06\", \"2020-05-05\", \"2020-05-04\", \"2020-05-03\", \"2020-05-02\", \"2020-05-01\", \"2020-04-30\", \"2020-04-29\", \"2020-04-28\", \"2020-04-27\", \"2020-04-26\", \"2020-04-25\", \"2020-04-24\", \"2020-04-23\", \"2020-04-22\", \"2020-04-21\", \"2020-04-20\", \"2020-04-19\", \"2020-04-18\", \"2020-04-17\", \"2020-04-16\", \"2020-04-15\", \"2020-04-14\", \"2020-04-13\", \"2020-04-12\", \"2020-04-11\", \"2020-04-10\", \"2020-04-09\", \"2020-04-08\", \"2020-04-07\", \"2020-04-06\", \"2020-04-05\", \"2020-04-04\", \"2020-04-03\", \"2020-04-02\", \"2020-04-01\", \"2020-03-31\", \"2020-03-30\", \"2020-03-29\", \"2020-03-28\", \"2020-03-27\", \"2020-03-26\", \"2020-03-25\", \"2020-03-24\", \"2020-03-23\", \"2020-03-22\", \"2020-03-21\", \"2020-03-20\", \"2020-03-19\", \"2020-03-18\", \"2020-03-17\", \"2020-03-16\", \"2020-03-15\", \"2020-03-14\", \"2020-03-13\", \"2020-03-12\", \"2020-03-11\", \"2020-03-10\", \"2020-03-09\", \"2020-03-08\", \"2020-03-07\", \"2020-03-06\", \"2020-03-05\", \"2020-03-04\", \"2020-03-03\", \"2020-03-02\", \"2020-02-29\", \"2020-03-01\", \"2020-02-14\", \"2020-02-16\", \"2020-02-15\", \"2020-02-28\", \"2020-02-13\", \"2020-02-12\", \"2020-02-11\", \"2020-02-17\", \"2020-02-09\", \"2020-02-18\", \"2020-02-19\", \"2020-02-20\", \"2020-02-21\", \"2020-02-22\", \"2020-02-23\", \"2020-02-24\", \"2020-02-25\", \"2020-02-10\", \"2020-02-26\", \"2020-02-08\", \"2020-01-29\", \"2020-01-22\", \"2020-01-23\", \"2020-01-24\", \"2020-01-25\", \"2020-01-26\", \"2020-01-27\", \"2020-01-28\", \"2020-01-30\", \"2020-02-07\", \"2020-01-31\", \"2020-02-01\", \"2020-02-02\", \"2020-02-03\", \"2020-02-04\", \"2020-02-05\", \"2020-02-06\", \"2020-02-27\"], \"xaxis\": \"x\", \"y\": [266873, 266047, 264858, 263454, 262222, 259925, 257779, 256866, 255946, 254517, 252600, 250613, 248716, 247024, 246290, 245663, 244403, 243245, 242036, 240623, 239242, 238554, 238081, 237073, 235878, 234728, 233638, 232067, 231535, 231127, 230242, 229214, 228247, 227240, 226272, 225780, 225402, 224466, 223515, 222665, 221510, 220576, 220109, 219681, 218936, 218031, 217213, 216212, 215415, 215078, 214656, 214029, 213064, 212100, 211170, 210468, 210006, 209657, 208978, 208050, 207199, 206257, 205345, 205024, 204742, 203996, 203057, 202140, 201038, 200015, 199590, 199349, 198634, 197704, 196838, 195851, 194563, 194139, 193753, 193043, 191830, 190923, 189741, 189295, 189019, 188609, 187838, 186868, 185801, 184749, 183684, 183089, 182777, 181813, 180841, 179737, 178509, 177279, 176835, 176380, 175396, 174285, 173207, 171876, 170545, 170099, 169524, 168494, 167151, 166087, 164581, 163513, 162986, 162470, 161388, 160150, 158902, 157526, 156152, 155613, 155202, 154093, 152851, 151635, 150204, 148835, 147716, 147233, 146345, 145215, 144123, 142903, 141802, 141278, 140825, 139963, 139030, 138080, 137108, 136188, 135820, 135359, 134666, 133845, 132847, 131984, 130777, 130416, 130127, 129858, 129199, 128479, 127787, 127139, 126761, 126483, 125981, 125360, 124815, 124059, 123217, 122833, 122540, 121934, 121272, 120564, 119833, 119012, 118629, 118316, 117543, 116723, 115869, 114970, 114040, 113543, 113102, 112405, 111499, 110494, 109500, 108451, 107674, 106985, 106031, 104876, 103693, 102185, 101521, 100964, 100348, 99214, 97969, 96758, 95240, 93714, 92547, 91792, 90520, 88856, 87082, 85333, 83719, 82717, 81817, 80275, 78523, 76599, 74255, 71956, 70638, 69535, 67848, 65971, 63555, 61028, 58787, 57322, 55988, 54285, 52125, 49659, 47221, 44679, 42499, 40568, 38599, 36506, 34337, 31734, 29280, 27342, 25527, 23403, 21176, 18957, 16803, 14233, 12457, 10889, 9348, 7955, 6452, 5272, 4180, 3484, 2892, 2259, 1741, 1329, 1003, 762, 574, 464, 365, 264, 191, 132, 97, 70, 58, 51, 43, 33, 28, 22, 21, 17, 14, 12, 11, 7, 6, 1, 1, 0, 0, 0, 0, 0, 0, 0, 0, 0, 0, 0, 0, 0, 0, 0, 0, 0, 0, 0, 0, 0, 0, 0, 0, 0, 0, 0, 0, 0, 0, 0, 0, 0, 0, 0, 0, 0, 0], \"yaxis\": \"y\"}],                        {\"barmode\": \"relative\", \"coloraxis\": {\"colorbar\": {\"title\": {\"text\": \"Deaths\"}}, \"colorscale\": [[0.0, \"rgb(255,245,240)\"], [0.125, \"rgb(254,224,210)\"], [0.25, \"rgb(252,187,161)\"], [0.375, \"rgb(252,146,114)\"], [0.5, \"rgb(251,106,74)\"], [0.625, \"rgb(239,59,44)\"], [0.75, \"rgb(203,24,29)\"], [0.875, \"rgb(165,15,21)\"], [1.0, \"rgb(103,0,13)\"]]}, \"legend\": {\"tracegroupgap\": 0}, \"margin\": {\"t\": 60}, \"template\": {\"data\": {\"bar\": [{\"error_x\": {\"color\": \"#2a3f5f\"}, \"error_y\": {\"color\": \"#2a3f5f\"}, \"marker\": {\"line\": {\"color\": \"#E5ECF6\", \"width\": 0.5}}, \"type\": \"bar\"}], \"barpolar\": [{\"marker\": {\"line\": {\"color\": \"#E5ECF6\", \"width\": 0.5}}, \"type\": \"barpolar\"}], \"carpet\": [{\"aaxis\": {\"endlinecolor\": \"#2a3f5f\", \"gridcolor\": \"white\", \"linecolor\": \"white\", \"minorgridcolor\": \"white\", \"startlinecolor\": \"#2a3f5f\"}, \"baxis\": {\"endlinecolor\": \"#2a3f5f\", \"gridcolor\": \"white\", \"linecolor\": \"white\", \"minorgridcolor\": \"white\", \"startlinecolor\": \"#2a3f5f\"}, \"type\": \"carpet\"}], \"choropleth\": [{\"colorbar\": {\"outlinewidth\": 0, \"ticks\": \"\"}, \"type\": \"choropleth\"}], \"contour\": [{\"colorbar\": {\"outlinewidth\": 0, \"ticks\": \"\"}, \"colorscale\": [[0.0, \"#0d0887\"], [0.1111111111111111, \"#46039f\"], [0.2222222222222222, \"#7201a8\"], [0.3333333333333333, \"#9c179e\"], [0.4444444444444444, \"#bd3786\"], [0.5555555555555556, \"#d8576b\"], [0.6666666666666666, \"#ed7953\"], [0.7777777777777778, \"#fb9f3a\"], [0.8888888888888888, \"#fdca26\"], [1.0, \"#f0f921\"]], \"type\": \"contour\"}], \"contourcarpet\": [{\"colorbar\": {\"outlinewidth\": 0, \"ticks\": \"\"}, \"type\": \"contourcarpet\"}], \"heatmap\": [{\"colorbar\": {\"outlinewidth\": 0, \"ticks\": \"\"}, \"colorscale\": [[0.0, \"#0d0887\"], [0.1111111111111111, \"#46039f\"], [0.2222222222222222, \"#7201a8\"], [0.3333333333333333, \"#9c179e\"], [0.4444444444444444, \"#bd3786\"], [0.5555555555555556, \"#d8576b\"], [0.6666666666666666, \"#ed7953\"], [0.7777777777777778, \"#fb9f3a\"], [0.8888888888888888, \"#fdca26\"], [1.0, \"#f0f921\"]], \"type\": \"heatmap\"}], \"heatmapgl\": [{\"colorbar\": {\"outlinewidth\": 0, \"ticks\": \"\"}, \"colorscale\": [[0.0, \"#0d0887\"], [0.1111111111111111, \"#46039f\"], [0.2222222222222222, \"#7201a8\"], [0.3333333333333333, \"#9c179e\"], [0.4444444444444444, \"#bd3786\"], [0.5555555555555556, \"#d8576b\"], [0.6666666666666666, \"#ed7953\"], [0.7777777777777778, \"#fb9f3a\"], [0.8888888888888888, \"#fdca26\"], [1.0, \"#f0f921\"]], \"type\": \"heatmapgl\"}], \"histogram\": [{\"marker\": {\"colorbar\": {\"outlinewidth\": 0, \"ticks\": \"\"}}, \"type\": \"histogram\"}], \"histogram2d\": [{\"colorbar\": {\"outlinewidth\": 0, \"ticks\": \"\"}, \"colorscale\": [[0.0, \"#0d0887\"], [0.1111111111111111, \"#46039f\"], [0.2222222222222222, \"#7201a8\"], [0.3333333333333333, \"#9c179e\"], [0.4444444444444444, \"#bd3786\"], [0.5555555555555556, \"#d8576b\"], [0.6666666666666666, \"#ed7953\"], [0.7777777777777778, \"#fb9f3a\"], [0.8888888888888888, \"#fdca26\"], [1.0, \"#f0f921\"]], \"type\": \"histogram2d\"}], \"histogram2dcontour\": [{\"colorbar\": {\"outlinewidth\": 0, \"ticks\": \"\"}, \"colorscale\": [[0.0, \"#0d0887\"], [0.1111111111111111, \"#46039f\"], [0.2222222222222222, \"#7201a8\"], [0.3333333333333333, \"#9c179e\"], [0.4444444444444444, \"#bd3786\"], [0.5555555555555556, \"#d8576b\"], [0.6666666666666666, \"#ed7953\"], [0.7777777777777778, \"#fb9f3a\"], [0.8888888888888888, \"#fdca26\"], [1.0, \"#f0f921\"]], \"type\": \"histogram2dcontour\"}], \"mesh3d\": [{\"colorbar\": {\"outlinewidth\": 0, \"ticks\": \"\"}, \"type\": \"mesh3d\"}], \"parcoords\": [{\"line\": {\"colorbar\": {\"outlinewidth\": 0, \"ticks\": \"\"}}, \"type\": \"parcoords\"}], \"pie\": [{\"automargin\": true, \"type\": \"pie\"}], \"scatter\": [{\"marker\": {\"colorbar\": {\"outlinewidth\": 0, \"ticks\": \"\"}}, \"type\": \"scatter\"}], \"scatter3d\": [{\"line\": {\"colorbar\": {\"outlinewidth\": 0, \"ticks\": \"\"}}, \"marker\": {\"colorbar\": {\"outlinewidth\": 0, \"ticks\": \"\"}}, \"type\": \"scatter3d\"}], \"scattercarpet\": [{\"marker\": {\"colorbar\": {\"outlinewidth\": 0, \"ticks\": \"\"}}, \"type\": \"scattercarpet\"}], \"scattergeo\": [{\"marker\": {\"colorbar\": {\"outlinewidth\": 0, \"ticks\": \"\"}}, \"type\": \"scattergeo\"}], \"scattergl\": [{\"marker\": {\"colorbar\": {\"outlinewidth\": 0, \"ticks\": \"\"}}, \"type\": \"scattergl\"}], \"scattermapbox\": [{\"marker\": {\"colorbar\": {\"outlinewidth\": 0, \"ticks\": \"\"}}, \"type\": \"scattermapbox\"}], \"scatterpolar\": [{\"marker\": {\"colorbar\": {\"outlinewidth\": 0, \"ticks\": \"\"}}, \"type\": \"scatterpolar\"}], \"scatterpolargl\": [{\"marker\": {\"colorbar\": {\"outlinewidth\": 0, \"ticks\": \"\"}}, \"type\": \"scatterpolargl\"}], \"scatterternary\": [{\"marker\": {\"colorbar\": {\"outlinewidth\": 0, \"ticks\": \"\"}}, \"type\": \"scatterternary\"}], \"surface\": [{\"colorbar\": {\"outlinewidth\": 0, \"ticks\": \"\"}, \"colorscale\": [[0.0, \"#0d0887\"], [0.1111111111111111, \"#46039f\"], [0.2222222222222222, \"#7201a8\"], [0.3333333333333333, \"#9c179e\"], [0.4444444444444444, \"#bd3786\"], [0.5555555555555556, \"#d8576b\"], [0.6666666666666666, \"#ed7953\"], [0.7777777777777778, \"#fb9f3a\"], [0.8888888888888888, \"#fdca26\"], [1.0, \"#f0f921\"]], \"type\": \"surface\"}], \"table\": [{\"cells\": {\"fill\": {\"color\": \"#EBF0F8\"}, \"line\": {\"color\": \"white\"}}, \"header\": {\"fill\": {\"color\": \"#C8D4E3\"}, \"line\": {\"color\": \"white\"}}, \"type\": \"table\"}]}, \"layout\": {\"annotationdefaults\": {\"arrowcolor\": \"#2a3f5f\", \"arrowhead\": 0, \"arrowwidth\": 1}, \"autotypenumbers\": \"strict\", \"coloraxis\": {\"colorbar\": {\"outlinewidth\": 0, \"ticks\": \"\"}}, \"colorscale\": {\"diverging\": [[0, \"#8e0152\"], [0.1, \"#c51b7d\"], [0.2, \"#de77ae\"], [0.3, \"#f1b6da\"], [0.4, \"#fde0ef\"], [0.5, \"#f7f7f7\"], [0.6, \"#e6f5d0\"], [0.7, \"#b8e186\"], [0.8, \"#7fbc41\"], [0.9, \"#4d9221\"], [1, \"#276419\"]], \"sequential\": [[0.0, \"#0d0887\"], [0.1111111111111111, \"#46039f\"], [0.2222222222222222, \"#7201a8\"], [0.3333333333333333, \"#9c179e\"], [0.4444444444444444, \"#bd3786\"], [0.5555555555555556, \"#d8576b\"], [0.6666666666666666, \"#ed7953\"], [0.7777777777777778, \"#fb9f3a\"], [0.8888888888888888, \"#fdca26\"], [1.0, \"#f0f921\"]], \"sequentialminus\": [[0.0, \"#0d0887\"], [0.1111111111111111, \"#46039f\"], [0.2222222222222222, \"#7201a8\"], [0.3333333333333333, \"#9c179e\"], [0.4444444444444444, \"#bd3786\"], [0.5555555555555556, \"#d8576b\"], [0.6666666666666666, \"#ed7953\"], [0.7777777777777778, \"#fb9f3a\"], [0.8888888888888888, \"#fdca26\"], [1.0, \"#f0f921\"]]}, \"colorway\": [\"#636efa\", \"#EF553B\", \"#00cc96\", \"#ab63fa\", \"#FFA15A\", \"#19d3f3\", \"#FF6692\", \"#B6E880\", \"#FF97FF\", \"#FECB52\"], \"font\": {\"color\": \"#2a3f5f\"}, \"geo\": {\"bgcolor\": \"white\", \"lakecolor\": \"white\", \"landcolor\": \"#E5ECF6\", \"showlakes\": true, \"showland\": true, \"subunitcolor\": \"white\"}, \"hoverlabel\": {\"align\": \"left\"}, \"hovermode\": \"closest\", \"mapbox\": {\"style\": \"light\"}, \"paper_bgcolor\": \"white\", \"plot_bgcolor\": \"#E5ECF6\", \"polar\": {\"angularaxis\": {\"gridcolor\": \"white\", \"linecolor\": \"white\", \"ticks\": \"\"}, \"bgcolor\": \"#E5ECF6\", \"radialaxis\": {\"gridcolor\": \"white\", \"linecolor\": \"white\", \"ticks\": \"\"}}, \"scene\": {\"xaxis\": {\"backgroundcolor\": \"#E5ECF6\", \"gridcolor\": \"white\", \"gridwidth\": 2, \"linecolor\": \"white\", \"showbackground\": true, \"ticks\": \"\", \"zerolinecolor\": \"white\"}, \"yaxis\": {\"backgroundcolor\": \"#E5ECF6\", \"gridcolor\": \"white\", \"gridwidth\": 2, \"linecolor\": \"white\", \"showbackground\": true, \"ticks\": \"\", \"zerolinecolor\": \"white\"}, \"zaxis\": {\"backgroundcolor\": \"#E5ECF6\", \"gridcolor\": \"white\", \"gridwidth\": 2, \"linecolor\": \"white\", \"showbackground\": true, \"ticks\": \"\", \"zerolinecolor\": \"white\"}}, \"shapedefaults\": {\"line\": {\"color\": \"#2a3f5f\"}}, \"ternary\": {\"aaxis\": {\"gridcolor\": \"white\", \"linecolor\": \"white\", \"ticks\": \"\"}, \"baxis\": {\"gridcolor\": \"white\", \"linecolor\": \"white\", \"ticks\": \"\"}, \"bgcolor\": \"#E5ECF6\", \"caxis\": {\"gridcolor\": \"white\", \"linecolor\": \"white\", \"ticks\": \"\"}}, \"title\": {\"x\": 0.05}, \"xaxis\": {\"automargin\": true, \"gridcolor\": \"white\", \"linecolor\": \"white\", \"ticks\": \"\", \"title\": {\"standoff\": 15}, \"zerolinecolor\": \"white\", \"zerolinewidth\": 2}, \"yaxis\": {\"automargin\": true, \"gridcolor\": \"white\", \"linecolor\": \"white\", \"ticks\": \"\", \"title\": {\"standoff\": 15}, \"zerolinecolor\": \"white\", \"zerolinewidth\": 2}}}, \"title\": {\"text\": \"Deaths COVID-19 cases per day in US\"}, \"xaxis\": {\"anchor\": \"y\", \"domain\": [0.0, 1.0], \"title\": {\"text\": \"Date\"}}, \"yaxis\": {\"anchor\": \"x\", \"domain\": [0.0, 1.0], \"title\": {\"text\": \"Deaths\"}}},                        {\"responsive\": true}                    ).then(function(){\n",
       "                            \n",
       "var gd = document.getElementById('14e01abd-b214-47c2-9a58-7595f90cc062');\n",
       "var x = new MutationObserver(function (mutations, observer) {{\n",
       "        var display = window.getComputedStyle(gd).display;\n",
       "        if (!display || display === 'none') {{\n",
       "            console.log([gd, 'removed!']);\n",
       "            Plotly.purge(gd);\n",
       "            observer.disconnect();\n",
       "        }}\n",
       "}});\n",
       "\n",
       "// Listen for the removal of the full notebook cells\n",
       "var notebookContainer = gd.closest('#notebook-container');\n",
       "if (notebookContainer) {{\n",
       "    x.observe(notebookContainer, {childList: true});\n",
       "}}\n",
       "\n",
       "// Listen for the clearing of the current output cell\n",
       "var outputEl = gd.closest('.output');\n",
       "if (outputEl) {{\n",
       "    x.observe(outputEl, {childList: true});\n",
       "}}\n",
       "\n",
       "                        })                };                });            </script>        </div>"
      ]
     },
     "metadata": {},
     "output_type": "display_data"
    }
   ],
   "source": [
    "df_by_date = pd.DataFrame(data.fillna('NA').groupby(['Country','Date'])['Deaths'].sum().sort_values().reset_index())\n",
    "\n",
    "fig = px.bar(df_by_date.loc[(df_by_date['Country'] == 'US') &(df_by_date.Date >= '2020-01-22')].sort_values('Deaths',ascending = False), \n",
    "             x='Date', y='Deaths', color=\"Deaths\", color_continuous_scale=px.colors.sequential.Reds)\n",
    "fig.update_layout(title_text='Deaths COVID-19 cases per day in US')\n",
    "fig.show()"
   ]
  },
  {
   "cell_type": "markdown",
   "metadata": {},
   "source": [
    "##### The Death rate in US reached 250K at the end of November"
   ]
  },
  {
   "cell_type": "markdown",
   "metadata": {},
   "source": [
    "### Deaths COVID-19 cases per day in India"
   ]
  },
  {
   "cell_type": "code",
   "execution_count": 25,
   "metadata": {},
   "outputs": [
    {
     "data": {
      "application/vnd.plotly.v1+json": {
       "config": {
        "plotlyServerURL": "https://plot.ly"
       },
       "data": [
        {
         "alignmentgroup": "True",
         "hovertemplate": "Date=%{x}<br>Deaths=%{marker.color}<extra></extra>",
         "legendgroup": "",
         "marker": {
          "color": [
           137139,
           136696,
           136200,
           135715,
           135223,
           134699,
           134218,
           133738,
           133227,
           132726,
           132162,
           131578,
           130993,
           130519,
           130070,
           129635,
           129188,
           128668,
           128121,
           127571,
           127059,
           126611,
           126121,
           125562,
           124985,
           124315,
           123611,
           123097,
           122607,
           122111,
           121641,
           121090,
           120527,
           120010,
           119502,
           119014,
           118534,
           117956,
           117306,
           116616,
           115914,
           115197,
           114610,
           114031,
           112998,
           112161,
           111266,
           110586,
           109856,
           109150,
           108334,
           107416,
           106490,
           105526,
           104555,
           103569,
           102685,
           101782,
           100842,
           99773,
           98678,
           97497,
           96318,
           95542,
           94503,
           93379,
           92290,
           91149,
           90020,
           88935,
           87882,
           86752,
           85619,
           84372,
           83198,
           82066,
           80776,
           79722,
           78586,
           77472,
           76271,
           75062,
           73890,
           72775,
           71642,
           70626,
           69561,
           68472,
           67376,
           66333,
           65288,
           64469,
           63498,
           62550,
           61529,
           60472,
           59357,
           58390,
           57542,
           56706,
           55794,
           54849,
           53866,
           52888,
           51797,
           50921,
           49980,
           49036,
           48040,
           47033,
           46091,
           45257,
           44386,
           43379,
           42518,
           41585,
           40699,
           39795,
           38938,
           38135,
           37364,
           36511,
           35718,
           34955,
           34193,
           33408,
           32771,
           32060,
           31358,
           30601,
           29861,
           28732,
           28082,
           27497,
           26816,
           26273,
           25602,
           24914,
           24309,
           23727,
           23174,
           22673,
           22123,
           21604,
           21129,
           20642,
           20159,
           19693,
           19268,
           18655,
           18213,
           17834,
           17400,
           16893,
           16475,
           16095,
           15685,
           15301,
           14894,
           14476,
           14011,
           13699,
           13254,
           12948,
           12573,
           12237,
           11903,
           9900,
           9520,
           9195,
           8884,
           8498,
           8102,
           7750,
           7473,
           7207,
           6946,
           6649,
           6363,
           6088,
           5829,
           5608,
           5408,
           5185,
           4980,
           4711,
           4534,
           4344,
           4172,
           4024,
           3868,
           3726,
           3584,
           3434,
           3302,
           3156,
           3025,
           2871,
           2753,
           2649,
           2551,
           2415,
           2294,
           2212,
           2101,
           1985,
           1889,
           1785,
           1693,
           1566,
           1391,
           1323,
           1223,
           1154,
           1079,
           1008,
           939,
           881,
           825,
           780,
           721,
           681,
           645,
           592,
           559,
           521,
           486,
           448,
           405,
           393,
           358,
           331,
           288,
           246,
           226,
           178,
           150,
           136,
           99,
           86,
           72,
           72,
           58,
           35,
           32,
           27,
           24,
           20,
           20,
           12,
           10,
           10,
           7,
           5,
           4,
           4,
           3,
           3,
           2,
           2,
           2,
           2,
           1,
           1,
           0,
           0,
           0,
           0,
           0,
           0,
           0,
           0,
           0,
           0,
           0,
           0,
           0,
           0,
           0,
           0,
           0,
           0,
           0,
           0,
           0,
           0,
           0,
           0,
           0,
           0,
           0,
           0,
           0,
           0,
           0,
           0,
           0,
           0,
           0,
           0,
           0,
           0,
           0,
           0,
           0,
           0,
           0,
           0,
           0,
           0,
           0,
           0,
           0
          ],
          "coloraxis": "coloraxis"
         },
         "name": "",
         "offsetgroup": "",
         "orientation": "v",
         "showlegend": false,
         "textposition": "auto",
         "type": "bar",
         "x": [
          "2020-11-29",
          "2020-11-28",
          "2020-11-27",
          "2020-11-26",
          "2020-11-25",
          "2020-11-24",
          "2020-11-23",
          "2020-11-22",
          "2020-11-21",
          "2020-11-20",
          "2020-11-19",
          "2020-11-18",
          "2020-11-17",
          "2020-11-16",
          "2020-11-15",
          "2020-11-14",
          "2020-11-13",
          "2020-11-12",
          "2020-11-11",
          "2020-11-10",
          "2020-11-09",
          "2020-11-08",
          "2020-11-07",
          "2020-11-06",
          "2020-11-05",
          "2020-11-04",
          "2020-11-03",
          "2020-11-02",
          "2020-11-01",
          "2020-10-31",
          "2020-10-30",
          "2020-10-29",
          "2020-10-28",
          "2020-10-27",
          "2020-10-26",
          "2020-10-25",
          "2020-10-24",
          "2020-10-23",
          "2020-10-22",
          "2020-10-21",
          "2020-10-20",
          "2020-10-19",
          "2020-10-18",
          "2020-10-17",
          "2020-10-16",
          "2020-10-15",
          "2020-10-14",
          "2020-10-13",
          "2020-10-12",
          "2020-10-11",
          "2020-10-10",
          "2020-10-09",
          "2020-10-08",
          "2020-10-07",
          "2020-10-06",
          "2020-10-05",
          "2020-10-04",
          "2020-10-03",
          "2020-10-02",
          "2020-10-01",
          "2020-09-30",
          "2020-09-29",
          "2020-09-28",
          "2020-09-27",
          "2020-09-26",
          "2020-09-25",
          "2020-09-24",
          "2020-09-23",
          "2020-09-22",
          "2020-09-21",
          "2020-09-20",
          "2020-09-19",
          "2020-09-18",
          "2020-09-17",
          "2020-09-16",
          "2020-09-15",
          "2020-09-14",
          "2020-09-13",
          "2020-09-12",
          "2020-09-11",
          "2020-09-10",
          "2020-09-09",
          "2020-09-08",
          "2020-09-07",
          "2020-09-06",
          "2020-09-05",
          "2020-09-04",
          "2020-09-03",
          "2020-09-02",
          "2020-09-01",
          "2020-08-31",
          "2020-08-30",
          "2020-08-29",
          "2020-08-28",
          "2020-08-27",
          "2020-08-26",
          "2020-08-25",
          "2020-08-24",
          "2020-08-23",
          "2020-08-22",
          "2020-08-21",
          "2020-08-20",
          "2020-08-19",
          "2020-08-18",
          "2020-08-17",
          "2020-08-16",
          "2020-08-15",
          "2020-08-14",
          "2020-08-13",
          "2020-08-12",
          "2020-08-11",
          "2020-08-10",
          "2020-08-09",
          "2020-08-08",
          "2020-08-07",
          "2020-08-06",
          "2020-08-05",
          "2020-08-04",
          "2020-08-03",
          "2020-08-02",
          "2020-08-01",
          "2020-07-31",
          "2020-07-30",
          "2020-07-29",
          "2020-07-28",
          "2020-07-27",
          "2020-07-26",
          "2020-07-25",
          "2020-07-24",
          "2020-07-23",
          "2020-07-22",
          "2020-07-21",
          "2020-07-20",
          "2020-07-19",
          "2020-07-18",
          "2020-07-17",
          "2020-07-16",
          "2020-07-15",
          "2020-07-14",
          "2020-07-13",
          "2020-07-12",
          "2020-07-11",
          "2020-07-10",
          "2020-07-09",
          "2020-07-08",
          "2020-07-07",
          "2020-07-06",
          "2020-07-05",
          "2020-07-04",
          "2020-07-03",
          "2020-07-02",
          "2020-07-01",
          "2020-06-30",
          "2020-06-29",
          "2020-06-28",
          "2020-06-27",
          "2020-06-26",
          "2020-06-25",
          "2020-06-24",
          "2020-06-23",
          "2020-06-22",
          "2020-06-21",
          "2020-06-20",
          "2020-06-19",
          "2020-06-18",
          "2020-06-17",
          "2020-06-16",
          "2020-06-15",
          "2020-06-14",
          "2020-06-13",
          "2020-06-12",
          "2020-06-11",
          "2020-06-10",
          "2020-06-09",
          "2020-06-08",
          "2020-06-07",
          "2020-06-06",
          "2020-06-05",
          "2020-06-04",
          "2020-06-03",
          "2020-06-02",
          "2020-06-01",
          "2020-05-31",
          "2020-05-30",
          "2020-05-29",
          "2020-05-28",
          "2020-05-27",
          "2020-05-26",
          "2020-05-25",
          "2020-05-24",
          "2020-05-23",
          "2020-05-22",
          "2020-05-21",
          "2020-05-20",
          "2020-05-19",
          "2020-05-18",
          "2020-05-17",
          "2020-05-16",
          "2020-05-15",
          "2020-05-14",
          "2020-05-13",
          "2020-05-12",
          "2020-05-11",
          "2020-05-10",
          "2020-05-09",
          "2020-05-08",
          "2020-05-07",
          "2020-05-06",
          "2020-05-05",
          "2020-05-04",
          "2020-05-03",
          "2020-05-02",
          "2020-05-01",
          "2020-04-30",
          "2020-04-29",
          "2020-04-28",
          "2020-04-27",
          "2020-04-26",
          "2020-04-25",
          "2020-04-24",
          "2020-04-23",
          "2020-04-22",
          "2020-04-21",
          "2020-04-20",
          "2020-04-19",
          "2020-04-18",
          "2020-04-17",
          "2020-04-16",
          "2020-04-15",
          "2020-04-14",
          "2020-04-13",
          "2020-04-12",
          "2020-04-11",
          "2020-04-10",
          "2020-04-09",
          "2020-04-08",
          "2020-04-07",
          "2020-04-06",
          "2020-04-05",
          "2020-04-04",
          "2020-04-03",
          "2020-04-02",
          "2020-04-01",
          "2020-03-31",
          "2020-03-30",
          "2020-03-29",
          "2020-03-28",
          "2020-03-26",
          "2020-03-27",
          "2020-03-25",
          "2020-03-23",
          "2020-03-24",
          "2020-03-22",
          "2020-03-20",
          "2020-03-21",
          "2020-03-19",
          "2020-03-17",
          "2020-03-18",
          "2020-03-15",
          "2020-03-13",
          "2020-03-14",
          "2020-03-16",
          "2020-03-12",
          "2020-03-11",
          "2020-01-31",
          "2020-01-25",
          "2020-01-22",
          "2020-01-23",
          "2020-01-24",
          "2020-01-26",
          "2020-02-06",
          "2020-01-27",
          "2020-01-28",
          "2020-01-29",
          "2020-01-30",
          "2020-02-09",
          "2020-02-01",
          "2020-02-02",
          "2020-02-03",
          "2020-02-04",
          "2020-02-05",
          "2020-03-03",
          "2020-03-04",
          "2020-03-05",
          "2020-03-06",
          "2020-03-07",
          "2020-03-08",
          "2020-02-07",
          "2020-03-09",
          "2020-03-02",
          "2020-03-01",
          "2020-02-20",
          "2020-02-10",
          "2020-02-11",
          "2020-02-12",
          "2020-02-13",
          "2020-02-14",
          "2020-02-15",
          "2020-02-16",
          "2020-02-17",
          "2020-02-18",
          "2020-02-19",
          "2020-02-21",
          "2020-02-08",
          "2020-02-22",
          "2020-02-23",
          "2020-02-24",
          "2020-02-25",
          "2020-02-26",
          "2020-02-27",
          "2020-02-28",
          "2020-02-29",
          "2020-03-10"
         ],
         "xaxis": "x",
         "y": [
          137139,
          136696,
          136200,
          135715,
          135223,
          134699,
          134218,
          133738,
          133227,
          132726,
          132162,
          131578,
          130993,
          130519,
          130070,
          129635,
          129188,
          128668,
          128121,
          127571,
          127059,
          126611,
          126121,
          125562,
          124985,
          124315,
          123611,
          123097,
          122607,
          122111,
          121641,
          121090,
          120527,
          120010,
          119502,
          119014,
          118534,
          117956,
          117306,
          116616,
          115914,
          115197,
          114610,
          114031,
          112998,
          112161,
          111266,
          110586,
          109856,
          109150,
          108334,
          107416,
          106490,
          105526,
          104555,
          103569,
          102685,
          101782,
          100842,
          99773,
          98678,
          97497,
          96318,
          95542,
          94503,
          93379,
          92290,
          91149,
          90020,
          88935,
          87882,
          86752,
          85619,
          84372,
          83198,
          82066,
          80776,
          79722,
          78586,
          77472,
          76271,
          75062,
          73890,
          72775,
          71642,
          70626,
          69561,
          68472,
          67376,
          66333,
          65288,
          64469,
          63498,
          62550,
          61529,
          60472,
          59357,
          58390,
          57542,
          56706,
          55794,
          54849,
          53866,
          52888,
          51797,
          50921,
          49980,
          49036,
          48040,
          47033,
          46091,
          45257,
          44386,
          43379,
          42518,
          41585,
          40699,
          39795,
          38938,
          38135,
          37364,
          36511,
          35718,
          34955,
          34193,
          33408,
          32771,
          32060,
          31358,
          30601,
          29861,
          28732,
          28082,
          27497,
          26816,
          26273,
          25602,
          24914,
          24309,
          23727,
          23174,
          22673,
          22123,
          21604,
          21129,
          20642,
          20159,
          19693,
          19268,
          18655,
          18213,
          17834,
          17400,
          16893,
          16475,
          16095,
          15685,
          15301,
          14894,
          14476,
          14011,
          13699,
          13254,
          12948,
          12573,
          12237,
          11903,
          9900,
          9520,
          9195,
          8884,
          8498,
          8102,
          7750,
          7473,
          7207,
          6946,
          6649,
          6363,
          6088,
          5829,
          5608,
          5408,
          5185,
          4980,
          4711,
          4534,
          4344,
          4172,
          4024,
          3868,
          3726,
          3584,
          3434,
          3302,
          3156,
          3025,
          2871,
          2753,
          2649,
          2551,
          2415,
          2294,
          2212,
          2101,
          1985,
          1889,
          1785,
          1693,
          1566,
          1391,
          1323,
          1223,
          1154,
          1079,
          1008,
          939,
          881,
          825,
          780,
          721,
          681,
          645,
          592,
          559,
          521,
          486,
          448,
          405,
          393,
          358,
          331,
          288,
          246,
          226,
          178,
          150,
          136,
          99,
          86,
          72,
          72,
          58,
          35,
          32,
          27,
          24,
          20,
          20,
          12,
          10,
          10,
          7,
          5,
          4,
          4,
          3,
          3,
          2,
          2,
          2,
          2,
          1,
          1,
          0,
          0,
          0,
          0,
          0,
          0,
          0,
          0,
          0,
          0,
          0,
          0,
          0,
          0,
          0,
          0,
          0,
          0,
          0,
          0,
          0,
          0,
          0,
          0,
          0,
          0,
          0,
          0,
          0,
          0,
          0,
          0,
          0,
          0,
          0,
          0,
          0,
          0,
          0,
          0,
          0,
          0,
          0,
          0,
          0,
          0,
          0,
          0,
          0
         ],
         "yaxis": "y"
        }
       ],
       "layout": {
        "barmode": "relative",
        "coloraxis": {
         "colorbar": {
          "title": {
           "text": "Deaths"
          }
         },
         "colorscale": [
          [
           0,
           "rgb(247,251,255)"
          ],
          [
           0.125,
           "rgb(222,235,247)"
          ],
          [
           0.25,
           "rgb(198,219,239)"
          ],
          [
           0.375,
           "rgb(158,202,225)"
          ],
          [
           0.5,
           "rgb(107,174,214)"
          ],
          [
           0.625,
           "rgb(66,146,198)"
          ],
          [
           0.75,
           "rgb(33,113,181)"
          ],
          [
           0.875,
           "rgb(8,81,156)"
          ],
          [
           1,
           "rgb(8,48,107)"
          ]
         ]
        },
        "legend": {
         "tracegroupgap": 0
        },
        "margin": {
         "t": 60
        },
        "template": {
         "data": {
          "bar": [
           {
            "error_x": {
             "color": "#2a3f5f"
            },
            "error_y": {
             "color": "#2a3f5f"
            },
            "marker": {
             "line": {
              "color": "#E5ECF6",
              "width": 0.5
             }
            },
            "type": "bar"
           }
          ],
          "barpolar": [
           {
            "marker": {
             "line": {
              "color": "#E5ECF6",
              "width": 0.5
             }
            },
            "type": "barpolar"
           }
          ],
          "carpet": [
           {
            "aaxis": {
             "endlinecolor": "#2a3f5f",
             "gridcolor": "white",
             "linecolor": "white",
             "minorgridcolor": "white",
             "startlinecolor": "#2a3f5f"
            },
            "baxis": {
             "endlinecolor": "#2a3f5f",
             "gridcolor": "white",
             "linecolor": "white",
             "minorgridcolor": "white",
             "startlinecolor": "#2a3f5f"
            },
            "type": "carpet"
           }
          ],
          "choropleth": [
           {
            "colorbar": {
             "outlinewidth": 0,
             "ticks": ""
            },
            "type": "choropleth"
           }
          ],
          "contour": [
           {
            "colorbar": {
             "outlinewidth": 0,
             "ticks": ""
            },
            "colorscale": [
             [
              0,
              "#0d0887"
             ],
             [
              0.1111111111111111,
              "#46039f"
             ],
             [
              0.2222222222222222,
              "#7201a8"
             ],
             [
              0.3333333333333333,
              "#9c179e"
             ],
             [
              0.4444444444444444,
              "#bd3786"
             ],
             [
              0.5555555555555556,
              "#d8576b"
             ],
             [
              0.6666666666666666,
              "#ed7953"
             ],
             [
              0.7777777777777778,
              "#fb9f3a"
             ],
             [
              0.8888888888888888,
              "#fdca26"
             ],
             [
              1,
              "#f0f921"
             ]
            ],
            "type": "contour"
           }
          ],
          "contourcarpet": [
           {
            "colorbar": {
             "outlinewidth": 0,
             "ticks": ""
            },
            "type": "contourcarpet"
           }
          ],
          "heatmap": [
           {
            "colorbar": {
             "outlinewidth": 0,
             "ticks": ""
            },
            "colorscale": [
             [
              0,
              "#0d0887"
             ],
             [
              0.1111111111111111,
              "#46039f"
             ],
             [
              0.2222222222222222,
              "#7201a8"
             ],
             [
              0.3333333333333333,
              "#9c179e"
             ],
             [
              0.4444444444444444,
              "#bd3786"
             ],
             [
              0.5555555555555556,
              "#d8576b"
             ],
             [
              0.6666666666666666,
              "#ed7953"
             ],
             [
              0.7777777777777778,
              "#fb9f3a"
             ],
             [
              0.8888888888888888,
              "#fdca26"
             ],
             [
              1,
              "#f0f921"
             ]
            ],
            "type": "heatmap"
           }
          ],
          "heatmapgl": [
           {
            "colorbar": {
             "outlinewidth": 0,
             "ticks": ""
            },
            "colorscale": [
             [
              0,
              "#0d0887"
             ],
             [
              0.1111111111111111,
              "#46039f"
             ],
             [
              0.2222222222222222,
              "#7201a8"
             ],
             [
              0.3333333333333333,
              "#9c179e"
             ],
             [
              0.4444444444444444,
              "#bd3786"
             ],
             [
              0.5555555555555556,
              "#d8576b"
             ],
             [
              0.6666666666666666,
              "#ed7953"
             ],
             [
              0.7777777777777778,
              "#fb9f3a"
             ],
             [
              0.8888888888888888,
              "#fdca26"
             ],
             [
              1,
              "#f0f921"
             ]
            ],
            "type": "heatmapgl"
           }
          ],
          "histogram": [
           {
            "marker": {
             "colorbar": {
              "outlinewidth": 0,
              "ticks": ""
             }
            },
            "type": "histogram"
           }
          ],
          "histogram2d": [
           {
            "colorbar": {
             "outlinewidth": 0,
             "ticks": ""
            },
            "colorscale": [
             [
              0,
              "#0d0887"
             ],
             [
              0.1111111111111111,
              "#46039f"
             ],
             [
              0.2222222222222222,
              "#7201a8"
             ],
             [
              0.3333333333333333,
              "#9c179e"
             ],
             [
              0.4444444444444444,
              "#bd3786"
             ],
             [
              0.5555555555555556,
              "#d8576b"
             ],
             [
              0.6666666666666666,
              "#ed7953"
             ],
             [
              0.7777777777777778,
              "#fb9f3a"
             ],
             [
              0.8888888888888888,
              "#fdca26"
             ],
             [
              1,
              "#f0f921"
             ]
            ],
            "type": "histogram2d"
           }
          ],
          "histogram2dcontour": [
           {
            "colorbar": {
             "outlinewidth": 0,
             "ticks": ""
            },
            "colorscale": [
             [
              0,
              "#0d0887"
             ],
             [
              0.1111111111111111,
              "#46039f"
             ],
             [
              0.2222222222222222,
              "#7201a8"
             ],
             [
              0.3333333333333333,
              "#9c179e"
             ],
             [
              0.4444444444444444,
              "#bd3786"
             ],
             [
              0.5555555555555556,
              "#d8576b"
             ],
             [
              0.6666666666666666,
              "#ed7953"
             ],
             [
              0.7777777777777778,
              "#fb9f3a"
             ],
             [
              0.8888888888888888,
              "#fdca26"
             ],
             [
              1,
              "#f0f921"
             ]
            ],
            "type": "histogram2dcontour"
           }
          ],
          "mesh3d": [
           {
            "colorbar": {
             "outlinewidth": 0,
             "ticks": ""
            },
            "type": "mesh3d"
           }
          ],
          "parcoords": [
           {
            "line": {
             "colorbar": {
              "outlinewidth": 0,
              "ticks": ""
             }
            },
            "type": "parcoords"
           }
          ],
          "pie": [
           {
            "automargin": true,
            "type": "pie"
           }
          ],
          "scatter": [
           {
            "marker": {
             "colorbar": {
              "outlinewidth": 0,
              "ticks": ""
             }
            },
            "type": "scatter"
           }
          ],
          "scatter3d": [
           {
            "line": {
             "colorbar": {
              "outlinewidth": 0,
              "ticks": ""
             }
            },
            "marker": {
             "colorbar": {
              "outlinewidth": 0,
              "ticks": ""
             }
            },
            "type": "scatter3d"
           }
          ],
          "scattercarpet": [
           {
            "marker": {
             "colorbar": {
              "outlinewidth": 0,
              "ticks": ""
             }
            },
            "type": "scattercarpet"
           }
          ],
          "scattergeo": [
           {
            "marker": {
             "colorbar": {
              "outlinewidth": 0,
              "ticks": ""
             }
            },
            "type": "scattergeo"
           }
          ],
          "scattergl": [
           {
            "marker": {
             "colorbar": {
              "outlinewidth": 0,
              "ticks": ""
             }
            },
            "type": "scattergl"
           }
          ],
          "scattermapbox": [
           {
            "marker": {
             "colorbar": {
              "outlinewidth": 0,
              "ticks": ""
             }
            },
            "type": "scattermapbox"
           }
          ],
          "scatterpolar": [
           {
            "marker": {
             "colorbar": {
              "outlinewidth": 0,
              "ticks": ""
             }
            },
            "type": "scatterpolar"
           }
          ],
          "scatterpolargl": [
           {
            "marker": {
             "colorbar": {
              "outlinewidth": 0,
              "ticks": ""
             }
            },
            "type": "scatterpolargl"
           }
          ],
          "scatterternary": [
           {
            "marker": {
             "colorbar": {
              "outlinewidth": 0,
              "ticks": ""
             }
            },
            "type": "scatterternary"
           }
          ],
          "surface": [
           {
            "colorbar": {
             "outlinewidth": 0,
             "ticks": ""
            },
            "colorscale": [
             [
              0,
              "#0d0887"
             ],
             [
              0.1111111111111111,
              "#46039f"
             ],
             [
              0.2222222222222222,
              "#7201a8"
             ],
             [
              0.3333333333333333,
              "#9c179e"
             ],
             [
              0.4444444444444444,
              "#bd3786"
             ],
             [
              0.5555555555555556,
              "#d8576b"
             ],
             [
              0.6666666666666666,
              "#ed7953"
             ],
             [
              0.7777777777777778,
              "#fb9f3a"
             ],
             [
              0.8888888888888888,
              "#fdca26"
             ],
             [
              1,
              "#f0f921"
             ]
            ],
            "type": "surface"
           }
          ],
          "table": [
           {
            "cells": {
             "fill": {
              "color": "#EBF0F8"
             },
             "line": {
              "color": "white"
             }
            },
            "header": {
             "fill": {
              "color": "#C8D4E3"
             },
             "line": {
              "color": "white"
             }
            },
            "type": "table"
           }
          ]
         },
         "layout": {
          "annotationdefaults": {
           "arrowcolor": "#2a3f5f",
           "arrowhead": 0,
           "arrowwidth": 1
          },
          "autotypenumbers": "strict",
          "coloraxis": {
           "colorbar": {
            "outlinewidth": 0,
            "ticks": ""
           }
          },
          "colorscale": {
           "diverging": [
            [
             0,
             "#8e0152"
            ],
            [
             0.1,
             "#c51b7d"
            ],
            [
             0.2,
             "#de77ae"
            ],
            [
             0.3,
             "#f1b6da"
            ],
            [
             0.4,
             "#fde0ef"
            ],
            [
             0.5,
             "#f7f7f7"
            ],
            [
             0.6,
             "#e6f5d0"
            ],
            [
             0.7,
             "#b8e186"
            ],
            [
             0.8,
             "#7fbc41"
            ],
            [
             0.9,
             "#4d9221"
            ],
            [
             1,
             "#276419"
            ]
           ],
           "sequential": [
            [
             0,
             "#0d0887"
            ],
            [
             0.1111111111111111,
             "#46039f"
            ],
            [
             0.2222222222222222,
             "#7201a8"
            ],
            [
             0.3333333333333333,
             "#9c179e"
            ],
            [
             0.4444444444444444,
             "#bd3786"
            ],
            [
             0.5555555555555556,
             "#d8576b"
            ],
            [
             0.6666666666666666,
             "#ed7953"
            ],
            [
             0.7777777777777778,
             "#fb9f3a"
            ],
            [
             0.8888888888888888,
             "#fdca26"
            ],
            [
             1,
             "#f0f921"
            ]
           ],
           "sequentialminus": [
            [
             0,
             "#0d0887"
            ],
            [
             0.1111111111111111,
             "#46039f"
            ],
            [
             0.2222222222222222,
             "#7201a8"
            ],
            [
             0.3333333333333333,
             "#9c179e"
            ],
            [
             0.4444444444444444,
             "#bd3786"
            ],
            [
             0.5555555555555556,
             "#d8576b"
            ],
            [
             0.6666666666666666,
             "#ed7953"
            ],
            [
             0.7777777777777778,
             "#fb9f3a"
            ],
            [
             0.8888888888888888,
             "#fdca26"
            ],
            [
             1,
             "#f0f921"
            ]
           ]
          },
          "colorway": [
           "#636efa",
           "#EF553B",
           "#00cc96",
           "#ab63fa",
           "#FFA15A",
           "#19d3f3",
           "#FF6692",
           "#B6E880",
           "#FF97FF",
           "#FECB52"
          ],
          "font": {
           "color": "#2a3f5f"
          },
          "geo": {
           "bgcolor": "white",
           "lakecolor": "white",
           "landcolor": "#E5ECF6",
           "showlakes": true,
           "showland": true,
           "subunitcolor": "white"
          },
          "hoverlabel": {
           "align": "left"
          },
          "hovermode": "closest",
          "mapbox": {
           "style": "light"
          },
          "paper_bgcolor": "white",
          "plot_bgcolor": "#E5ECF6",
          "polar": {
           "angularaxis": {
            "gridcolor": "white",
            "linecolor": "white",
            "ticks": ""
           },
           "bgcolor": "#E5ECF6",
           "radialaxis": {
            "gridcolor": "white",
            "linecolor": "white",
            "ticks": ""
           }
          },
          "scene": {
           "xaxis": {
            "backgroundcolor": "#E5ECF6",
            "gridcolor": "white",
            "gridwidth": 2,
            "linecolor": "white",
            "showbackground": true,
            "ticks": "",
            "zerolinecolor": "white"
           },
           "yaxis": {
            "backgroundcolor": "#E5ECF6",
            "gridcolor": "white",
            "gridwidth": 2,
            "linecolor": "white",
            "showbackground": true,
            "ticks": "",
            "zerolinecolor": "white"
           },
           "zaxis": {
            "backgroundcolor": "#E5ECF6",
            "gridcolor": "white",
            "gridwidth": 2,
            "linecolor": "white",
            "showbackground": true,
            "ticks": "",
            "zerolinecolor": "white"
           }
          },
          "shapedefaults": {
           "line": {
            "color": "#2a3f5f"
           }
          },
          "ternary": {
           "aaxis": {
            "gridcolor": "white",
            "linecolor": "white",
            "ticks": ""
           },
           "baxis": {
            "gridcolor": "white",
            "linecolor": "white",
            "ticks": ""
           },
           "bgcolor": "#E5ECF6",
           "caxis": {
            "gridcolor": "white",
            "linecolor": "white",
            "ticks": ""
           }
          },
          "title": {
           "x": 0.05
          },
          "xaxis": {
           "automargin": true,
           "gridcolor": "white",
           "linecolor": "white",
           "ticks": "",
           "title": {
            "standoff": 15
           },
           "zerolinecolor": "white",
           "zerolinewidth": 2
          },
          "yaxis": {
           "automargin": true,
           "gridcolor": "white",
           "linecolor": "white",
           "ticks": "",
           "title": {
            "standoff": 15
           },
           "zerolinecolor": "white",
           "zerolinewidth": 2
          }
         }
        },
        "title": {
         "text": "Deaths COVID-19 cases per day in India"
        },
        "xaxis": {
         "anchor": "y",
         "domain": [
          0,
          1
         ],
         "title": {
          "text": "Date"
         }
        },
        "yaxis": {
         "anchor": "x",
         "domain": [
          0,
          1
         ],
         "title": {
          "text": "Deaths"
         }
        }
       }
      },
      "text/html": [
       "<div>                            <div id=\"523117cd-6706-4fc1-81d5-60f090bdaec5\" class=\"plotly-graph-div\" style=\"height:525px; width:100%;\"></div>            <script type=\"text/javascript\">                require([\"plotly\"], function(Plotly) {                    window.PLOTLYENV=window.PLOTLYENV || {};                                    if (document.getElementById(\"523117cd-6706-4fc1-81d5-60f090bdaec5\")) {                    Plotly.newPlot(                        \"523117cd-6706-4fc1-81d5-60f090bdaec5\",                        [{\"alignmentgroup\": \"True\", \"hovertemplate\": \"Date=%{x}<br>Deaths=%{marker.color}<extra></extra>\", \"legendgroup\": \"\", \"marker\": {\"color\": [137139, 136696, 136200, 135715, 135223, 134699, 134218, 133738, 133227, 132726, 132162, 131578, 130993, 130519, 130070, 129635, 129188, 128668, 128121, 127571, 127059, 126611, 126121, 125562, 124985, 124315, 123611, 123097, 122607, 122111, 121641, 121090, 120527, 120010, 119502, 119014, 118534, 117956, 117306, 116616, 115914, 115197, 114610, 114031, 112998, 112161, 111266, 110586, 109856, 109150, 108334, 107416, 106490, 105526, 104555, 103569, 102685, 101782, 100842, 99773, 98678, 97497, 96318, 95542, 94503, 93379, 92290, 91149, 90020, 88935, 87882, 86752, 85619, 84372, 83198, 82066, 80776, 79722, 78586, 77472, 76271, 75062, 73890, 72775, 71642, 70626, 69561, 68472, 67376, 66333, 65288, 64469, 63498, 62550, 61529, 60472, 59357, 58390, 57542, 56706, 55794, 54849, 53866, 52888, 51797, 50921, 49980, 49036, 48040, 47033, 46091, 45257, 44386, 43379, 42518, 41585, 40699, 39795, 38938, 38135, 37364, 36511, 35718, 34955, 34193, 33408, 32771, 32060, 31358, 30601, 29861, 28732, 28082, 27497, 26816, 26273, 25602, 24914, 24309, 23727, 23174, 22673, 22123, 21604, 21129, 20642, 20159, 19693, 19268, 18655, 18213, 17834, 17400, 16893, 16475, 16095, 15685, 15301, 14894, 14476, 14011, 13699, 13254, 12948, 12573, 12237, 11903, 9900, 9520, 9195, 8884, 8498, 8102, 7750, 7473, 7207, 6946, 6649, 6363, 6088, 5829, 5608, 5408, 5185, 4980, 4711, 4534, 4344, 4172, 4024, 3868, 3726, 3584, 3434, 3302, 3156, 3025, 2871, 2753, 2649, 2551, 2415, 2294, 2212, 2101, 1985, 1889, 1785, 1693, 1566, 1391, 1323, 1223, 1154, 1079, 1008, 939, 881, 825, 780, 721, 681, 645, 592, 559, 521, 486, 448, 405, 393, 358, 331, 288, 246, 226, 178, 150, 136, 99, 86, 72, 72, 58, 35, 32, 27, 24, 20, 20, 12, 10, 10, 7, 5, 4, 4, 3, 3, 2, 2, 2, 2, 1, 1, 0, 0, 0, 0, 0, 0, 0, 0, 0, 0, 0, 0, 0, 0, 0, 0, 0, 0, 0, 0, 0, 0, 0, 0, 0, 0, 0, 0, 0, 0, 0, 0, 0, 0, 0, 0, 0, 0, 0, 0, 0, 0, 0, 0, 0, 0, 0, 0, 0], \"coloraxis\": \"coloraxis\"}, \"name\": \"\", \"offsetgroup\": \"\", \"orientation\": \"v\", \"showlegend\": false, \"textposition\": \"auto\", \"type\": \"bar\", \"x\": [\"2020-11-29\", \"2020-11-28\", \"2020-11-27\", \"2020-11-26\", \"2020-11-25\", \"2020-11-24\", \"2020-11-23\", \"2020-11-22\", \"2020-11-21\", \"2020-11-20\", \"2020-11-19\", \"2020-11-18\", \"2020-11-17\", \"2020-11-16\", \"2020-11-15\", \"2020-11-14\", \"2020-11-13\", \"2020-11-12\", \"2020-11-11\", \"2020-11-10\", \"2020-11-09\", \"2020-11-08\", \"2020-11-07\", \"2020-11-06\", \"2020-11-05\", \"2020-11-04\", \"2020-11-03\", \"2020-11-02\", \"2020-11-01\", \"2020-10-31\", \"2020-10-30\", \"2020-10-29\", \"2020-10-28\", \"2020-10-27\", \"2020-10-26\", \"2020-10-25\", \"2020-10-24\", \"2020-10-23\", \"2020-10-22\", \"2020-10-21\", \"2020-10-20\", \"2020-10-19\", \"2020-10-18\", \"2020-10-17\", \"2020-10-16\", \"2020-10-15\", \"2020-10-14\", \"2020-10-13\", \"2020-10-12\", \"2020-10-11\", \"2020-10-10\", \"2020-10-09\", \"2020-10-08\", \"2020-10-07\", \"2020-10-06\", \"2020-10-05\", \"2020-10-04\", \"2020-10-03\", \"2020-10-02\", \"2020-10-01\", \"2020-09-30\", \"2020-09-29\", \"2020-09-28\", \"2020-09-27\", \"2020-09-26\", \"2020-09-25\", \"2020-09-24\", \"2020-09-23\", \"2020-09-22\", \"2020-09-21\", \"2020-09-20\", \"2020-09-19\", \"2020-09-18\", \"2020-09-17\", \"2020-09-16\", \"2020-09-15\", \"2020-09-14\", \"2020-09-13\", \"2020-09-12\", \"2020-09-11\", \"2020-09-10\", \"2020-09-09\", \"2020-09-08\", \"2020-09-07\", \"2020-09-06\", \"2020-09-05\", \"2020-09-04\", \"2020-09-03\", \"2020-09-02\", \"2020-09-01\", \"2020-08-31\", \"2020-08-30\", \"2020-08-29\", \"2020-08-28\", \"2020-08-27\", \"2020-08-26\", \"2020-08-25\", \"2020-08-24\", \"2020-08-23\", \"2020-08-22\", \"2020-08-21\", \"2020-08-20\", \"2020-08-19\", \"2020-08-18\", \"2020-08-17\", \"2020-08-16\", \"2020-08-15\", \"2020-08-14\", \"2020-08-13\", \"2020-08-12\", \"2020-08-11\", \"2020-08-10\", \"2020-08-09\", \"2020-08-08\", \"2020-08-07\", \"2020-08-06\", \"2020-08-05\", \"2020-08-04\", \"2020-08-03\", \"2020-08-02\", \"2020-08-01\", \"2020-07-31\", \"2020-07-30\", \"2020-07-29\", \"2020-07-28\", \"2020-07-27\", \"2020-07-26\", \"2020-07-25\", \"2020-07-24\", \"2020-07-23\", \"2020-07-22\", \"2020-07-21\", \"2020-07-20\", \"2020-07-19\", \"2020-07-18\", \"2020-07-17\", \"2020-07-16\", \"2020-07-15\", \"2020-07-14\", \"2020-07-13\", \"2020-07-12\", \"2020-07-11\", \"2020-07-10\", \"2020-07-09\", \"2020-07-08\", \"2020-07-07\", \"2020-07-06\", \"2020-07-05\", \"2020-07-04\", \"2020-07-03\", \"2020-07-02\", \"2020-07-01\", \"2020-06-30\", \"2020-06-29\", \"2020-06-28\", \"2020-06-27\", \"2020-06-26\", \"2020-06-25\", \"2020-06-24\", \"2020-06-23\", \"2020-06-22\", \"2020-06-21\", \"2020-06-20\", \"2020-06-19\", \"2020-06-18\", \"2020-06-17\", \"2020-06-16\", \"2020-06-15\", \"2020-06-14\", \"2020-06-13\", \"2020-06-12\", \"2020-06-11\", \"2020-06-10\", \"2020-06-09\", \"2020-06-08\", \"2020-06-07\", \"2020-06-06\", \"2020-06-05\", \"2020-06-04\", \"2020-06-03\", \"2020-06-02\", \"2020-06-01\", \"2020-05-31\", \"2020-05-30\", \"2020-05-29\", \"2020-05-28\", \"2020-05-27\", \"2020-05-26\", \"2020-05-25\", \"2020-05-24\", \"2020-05-23\", \"2020-05-22\", \"2020-05-21\", \"2020-05-20\", \"2020-05-19\", \"2020-05-18\", \"2020-05-17\", \"2020-05-16\", \"2020-05-15\", \"2020-05-14\", \"2020-05-13\", \"2020-05-12\", \"2020-05-11\", \"2020-05-10\", \"2020-05-09\", \"2020-05-08\", \"2020-05-07\", \"2020-05-06\", \"2020-05-05\", \"2020-05-04\", \"2020-05-03\", \"2020-05-02\", \"2020-05-01\", \"2020-04-30\", \"2020-04-29\", \"2020-04-28\", \"2020-04-27\", \"2020-04-26\", \"2020-04-25\", \"2020-04-24\", \"2020-04-23\", \"2020-04-22\", \"2020-04-21\", \"2020-04-20\", \"2020-04-19\", \"2020-04-18\", \"2020-04-17\", \"2020-04-16\", \"2020-04-15\", \"2020-04-14\", \"2020-04-13\", \"2020-04-12\", \"2020-04-11\", \"2020-04-10\", \"2020-04-09\", \"2020-04-08\", \"2020-04-07\", \"2020-04-06\", \"2020-04-05\", \"2020-04-04\", \"2020-04-03\", \"2020-04-02\", \"2020-04-01\", \"2020-03-31\", \"2020-03-30\", \"2020-03-29\", \"2020-03-28\", \"2020-03-26\", \"2020-03-27\", \"2020-03-25\", \"2020-03-23\", \"2020-03-24\", \"2020-03-22\", \"2020-03-20\", \"2020-03-21\", \"2020-03-19\", \"2020-03-17\", \"2020-03-18\", \"2020-03-15\", \"2020-03-13\", \"2020-03-14\", \"2020-03-16\", \"2020-03-12\", \"2020-03-11\", \"2020-01-31\", \"2020-01-25\", \"2020-01-22\", \"2020-01-23\", \"2020-01-24\", \"2020-01-26\", \"2020-02-06\", \"2020-01-27\", \"2020-01-28\", \"2020-01-29\", \"2020-01-30\", \"2020-02-09\", \"2020-02-01\", \"2020-02-02\", \"2020-02-03\", \"2020-02-04\", \"2020-02-05\", \"2020-03-03\", \"2020-03-04\", \"2020-03-05\", \"2020-03-06\", \"2020-03-07\", \"2020-03-08\", \"2020-02-07\", \"2020-03-09\", \"2020-03-02\", \"2020-03-01\", \"2020-02-20\", \"2020-02-10\", \"2020-02-11\", \"2020-02-12\", \"2020-02-13\", \"2020-02-14\", \"2020-02-15\", \"2020-02-16\", \"2020-02-17\", \"2020-02-18\", \"2020-02-19\", \"2020-02-21\", \"2020-02-08\", \"2020-02-22\", \"2020-02-23\", \"2020-02-24\", \"2020-02-25\", \"2020-02-26\", \"2020-02-27\", \"2020-02-28\", \"2020-02-29\", \"2020-03-10\"], \"xaxis\": \"x\", \"y\": [137139, 136696, 136200, 135715, 135223, 134699, 134218, 133738, 133227, 132726, 132162, 131578, 130993, 130519, 130070, 129635, 129188, 128668, 128121, 127571, 127059, 126611, 126121, 125562, 124985, 124315, 123611, 123097, 122607, 122111, 121641, 121090, 120527, 120010, 119502, 119014, 118534, 117956, 117306, 116616, 115914, 115197, 114610, 114031, 112998, 112161, 111266, 110586, 109856, 109150, 108334, 107416, 106490, 105526, 104555, 103569, 102685, 101782, 100842, 99773, 98678, 97497, 96318, 95542, 94503, 93379, 92290, 91149, 90020, 88935, 87882, 86752, 85619, 84372, 83198, 82066, 80776, 79722, 78586, 77472, 76271, 75062, 73890, 72775, 71642, 70626, 69561, 68472, 67376, 66333, 65288, 64469, 63498, 62550, 61529, 60472, 59357, 58390, 57542, 56706, 55794, 54849, 53866, 52888, 51797, 50921, 49980, 49036, 48040, 47033, 46091, 45257, 44386, 43379, 42518, 41585, 40699, 39795, 38938, 38135, 37364, 36511, 35718, 34955, 34193, 33408, 32771, 32060, 31358, 30601, 29861, 28732, 28082, 27497, 26816, 26273, 25602, 24914, 24309, 23727, 23174, 22673, 22123, 21604, 21129, 20642, 20159, 19693, 19268, 18655, 18213, 17834, 17400, 16893, 16475, 16095, 15685, 15301, 14894, 14476, 14011, 13699, 13254, 12948, 12573, 12237, 11903, 9900, 9520, 9195, 8884, 8498, 8102, 7750, 7473, 7207, 6946, 6649, 6363, 6088, 5829, 5608, 5408, 5185, 4980, 4711, 4534, 4344, 4172, 4024, 3868, 3726, 3584, 3434, 3302, 3156, 3025, 2871, 2753, 2649, 2551, 2415, 2294, 2212, 2101, 1985, 1889, 1785, 1693, 1566, 1391, 1323, 1223, 1154, 1079, 1008, 939, 881, 825, 780, 721, 681, 645, 592, 559, 521, 486, 448, 405, 393, 358, 331, 288, 246, 226, 178, 150, 136, 99, 86, 72, 72, 58, 35, 32, 27, 24, 20, 20, 12, 10, 10, 7, 5, 4, 4, 3, 3, 2, 2, 2, 2, 1, 1, 0, 0, 0, 0, 0, 0, 0, 0, 0, 0, 0, 0, 0, 0, 0, 0, 0, 0, 0, 0, 0, 0, 0, 0, 0, 0, 0, 0, 0, 0, 0, 0, 0, 0, 0, 0, 0, 0, 0, 0, 0, 0, 0, 0, 0, 0, 0, 0, 0], \"yaxis\": \"y\"}],                        {\"barmode\": \"relative\", \"coloraxis\": {\"colorbar\": {\"title\": {\"text\": \"Deaths\"}}, \"colorscale\": [[0.0, \"rgb(247,251,255)\"], [0.125, \"rgb(222,235,247)\"], [0.25, \"rgb(198,219,239)\"], [0.375, \"rgb(158,202,225)\"], [0.5, \"rgb(107,174,214)\"], [0.625, \"rgb(66,146,198)\"], [0.75, \"rgb(33,113,181)\"], [0.875, \"rgb(8,81,156)\"], [1.0, \"rgb(8,48,107)\"]]}, \"legend\": {\"tracegroupgap\": 0}, \"margin\": {\"t\": 60}, \"template\": {\"data\": {\"bar\": [{\"error_x\": {\"color\": \"#2a3f5f\"}, \"error_y\": {\"color\": \"#2a3f5f\"}, \"marker\": {\"line\": {\"color\": \"#E5ECF6\", \"width\": 0.5}}, \"type\": \"bar\"}], \"barpolar\": [{\"marker\": {\"line\": {\"color\": \"#E5ECF6\", \"width\": 0.5}}, \"type\": \"barpolar\"}], \"carpet\": [{\"aaxis\": {\"endlinecolor\": \"#2a3f5f\", \"gridcolor\": \"white\", \"linecolor\": \"white\", \"minorgridcolor\": \"white\", \"startlinecolor\": \"#2a3f5f\"}, \"baxis\": {\"endlinecolor\": \"#2a3f5f\", \"gridcolor\": \"white\", \"linecolor\": \"white\", \"minorgridcolor\": \"white\", \"startlinecolor\": \"#2a3f5f\"}, \"type\": \"carpet\"}], \"choropleth\": [{\"colorbar\": {\"outlinewidth\": 0, \"ticks\": \"\"}, \"type\": \"choropleth\"}], \"contour\": [{\"colorbar\": {\"outlinewidth\": 0, \"ticks\": \"\"}, \"colorscale\": [[0.0, \"#0d0887\"], [0.1111111111111111, \"#46039f\"], [0.2222222222222222, \"#7201a8\"], [0.3333333333333333, \"#9c179e\"], [0.4444444444444444, \"#bd3786\"], [0.5555555555555556, \"#d8576b\"], [0.6666666666666666, \"#ed7953\"], [0.7777777777777778, \"#fb9f3a\"], [0.8888888888888888, \"#fdca26\"], [1.0, \"#f0f921\"]], \"type\": \"contour\"}], \"contourcarpet\": [{\"colorbar\": {\"outlinewidth\": 0, \"ticks\": \"\"}, \"type\": \"contourcarpet\"}], \"heatmap\": [{\"colorbar\": {\"outlinewidth\": 0, \"ticks\": \"\"}, \"colorscale\": [[0.0, \"#0d0887\"], [0.1111111111111111, \"#46039f\"], [0.2222222222222222, \"#7201a8\"], [0.3333333333333333, \"#9c179e\"], [0.4444444444444444, \"#bd3786\"], [0.5555555555555556, \"#d8576b\"], [0.6666666666666666, \"#ed7953\"], [0.7777777777777778, \"#fb9f3a\"], [0.8888888888888888, \"#fdca26\"], [1.0, \"#f0f921\"]], \"type\": \"heatmap\"}], \"heatmapgl\": [{\"colorbar\": {\"outlinewidth\": 0, \"ticks\": \"\"}, \"colorscale\": [[0.0, \"#0d0887\"], [0.1111111111111111, \"#46039f\"], [0.2222222222222222, \"#7201a8\"], [0.3333333333333333, \"#9c179e\"], [0.4444444444444444, \"#bd3786\"], [0.5555555555555556, \"#d8576b\"], [0.6666666666666666, \"#ed7953\"], [0.7777777777777778, \"#fb9f3a\"], [0.8888888888888888, \"#fdca26\"], [1.0, \"#f0f921\"]], \"type\": \"heatmapgl\"}], \"histogram\": [{\"marker\": {\"colorbar\": {\"outlinewidth\": 0, \"ticks\": \"\"}}, \"type\": \"histogram\"}], \"histogram2d\": [{\"colorbar\": {\"outlinewidth\": 0, \"ticks\": \"\"}, \"colorscale\": [[0.0, \"#0d0887\"], [0.1111111111111111, \"#46039f\"], [0.2222222222222222, \"#7201a8\"], [0.3333333333333333, \"#9c179e\"], [0.4444444444444444, \"#bd3786\"], [0.5555555555555556, \"#d8576b\"], [0.6666666666666666, \"#ed7953\"], [0.7777777777777778, \"#fb9f3a\"], [0.8888888888888888, \"#fdca26\"], [1.0, \"#f0f921\"]], \"type\": \"histogram2d\"}], \"histogram2dcontour\": [{\"colorbar\": {\"outlinewidth\": 0, \"ticks\": \"\"}, \"colorscale\": [[0.0, \"#0d0887\"], [0.1111111111111111, \"#46039f\"], [0.2222222222222222, \"#7201a8\"], [0.3333333333333333, \"#9c179e\"], [0.4444444444444444, \"#bd3786\"], [0.5555555555555556, \"#d8576b\"], [0.6666666666666666, \"#ed7953\"], [0.7777777777777778, \"#fb9f3a\"], [0.8888888888888888, \"#fdca26\"], [1.0, \"#f0f921\"]], \"type\": \"histogram2dcontour\"}], \"mesh3d\": [{\"colorbar\": {\"outlinewidth\": 0, \"ticks\": \"\"}, \"type\": \"mesh3d\"}], \"parcoords\": [{\"line\": {\"colorbar\": {\"outlinewidth\": 0, \"ticks\": \"\"}}, \"type\": \"parcoords\"}], \"pie\": [{\"automargin\": true, \"type\": \"pie\"}], \"scatter\": [{\"marker\": {\"colorbar\": {\"outlinewidth\": 0, \"ticks\": \"\"}}, \"type\": \"scatter\"}], \"scatter3d\": [{\"line\": {\"colorbar\": {\"outlinewidth\": 0, \"ticks\": \"\"}}, \"marker\": {\"colorbar\": {\"outlinewidth\": 0, \"ticks\": \"\"}}, \"type\": \"scatter3d\"}], \"scattercarpet\": [{\"marker\": {\"colorbar\": {\"outlinewidth\": 0, \"ticks\": \"\"}}, \"type\": \"scattercarpet\"}], \"scattergeo\": [{\"marker\": {\"colorbar\": {\"outlinewidth\": 0, \"ticks\": \"\"}}, \"type\": \"scattergeo\"}], \"scattergl\": [{\"marker\": {\"colorbar\": {\"outlinewidth\": 0, \"ticks\": \"\"}}, \"type\": \"scattergl\"}], \"scattermapbox\": [{\"marker\": {\"colorbar\": {\"outlinewidth\": 0, \"ticks\": \"\"}}, \"type\": \"scattermapbox\"}], \"scatterpolar\": [{\"marker\": {\"colorbar\": {\"outlinewidth\": 0, \"ticks\": \"\"}}, \"type\": \"scatterpolar\"}], \"scatterpolargl\": [{\"marker\": {\"colorbar\": {\"outlinewidth\": 0, \"ticks\": \"\"}}, \"type\": \"scatterpolargl\"}], \"scatterternary\": [{\"marker\": {\"colorbar\": {\"outlinewidth\": 0, \"ticks\": \"\"}}, \"type\": \"scatterternary\"}], \"surface\": [{\"colorbar\": {\"outlinewidth\": 0, \"ticks\": \"\"}, \"colorscale\": [[0.0, \"#0d0887\"], [0.1111111111111111, \"#46039f\"], [0.2222222222222222, \"#7201a8\"], [0.3333333333333333, \"#9c179e\"], [0.4444444444444444, \"#bd3786\"], [0.5555555555555556, \"#d8576b\"], [0.6666666666666666, \"#ed7953\"], [0.7777777777777778, \"#fb9f3a\"], [0.8888888888888888, \"#fdca26\"], [1.0, \"#f0f921\"]], \"type\": \"surface\"}], \"table\": [{\"cells\": {\"fill\": {\"color\": \"#EBF0F8\"}, \"line\": {\"color\": \"white\"}}, \"header\": {\"fill\": {\"color\": \"#C8D4E3\"}, \"line\": {\"color\": \"white\"}}, \"type\": \"table\"}]}, \"layout\": {\"annotationdefaults\": {\"arrowcolor\": \"#2a3f5f\", \"arrowhead\": 0, \"arrowwidth\": 1}, \"autotypenumbers\": \"strict\", \"coloraxis\": {\"colorbar\": {\"outlinewidth\": 0, \"ticks\": \"\"}}, \"colorscale\": {\"diverging\": [[0, \"#8e0152\"], [0.1, \"#c51b7d\"], [0.2, \"#de77ae\"], [0.3, \"#f1b6da\"], [0.4, \"#fde0ef\"], [0.5, \"#f7f7f7\"], [0.6, \"#e6f5d0\"], [0.7, \"#b8e186\"], [0.8, \"#7fbc41\"], [0.9, \"#4d9221\"], [1, \"#276419\"]], \"sequential\": [[0.0, \"#0d0887\"], [0.1111111111111111, \"#46039f\"], [0.2222222222222222, \"#7201a8\"], [0.3333333333333333, \"#9c179e\"], [0.4444444444444444, \"#bd3786\"], [0.5555555555555556, \"#d8576b\"], [0.6666666666666666, \"#ed7953\"], [0.7777777777777778, \"#fb9f3a\"], [0.8888888888888888, \"#fdca26\"], [1.0, \"#f0f921\"]], \"sequentialminus\": [[0.0, \"#0d0887\"], [0.1111111111111111, \"#46039f\"], [0.2222222222222222, \"#7201a8\"], [0.3333333333333333, \"#9c179e\"], [0.4444444444444444, \"#bd3786\"], [0.5555555555555556, \"#d8576b\"], [0.6666666666666666, \"#ed7953\"], [0.7777777777777778, \"#fb9f3a\"], [0.8888888888888888, \"#fdca26\"], [1.0, \"#f0f921\"]]}, \"colorway\": [\"#636efa\", \"#EF553B\", \"#00cc96\", \"#ab63fa\", \"#FFA15A\", \"#19d3f3\", \"#FF6692\", \"#B6E880\", \"#FF97FF\", \"#FECB52\"], \"font\": {\"color\": \"#2a3f5f\"}, \"geo\": {\"bgcolor\": \"white\", \"lakecolor\": \"white\", \"landcolor\": \"#E5ECF6\", \"showlakes\": true, \"showland\": true, \"subunitcolor\": \"white\"}, \"hoverlabel\": {\"align\": \"left\"}, \"hovermode\": \"closest\", \"mapbox\": {\"style\": \"light\"}, \"paper_bgcolor\": \"white\", \"plot_bgcolor\": \"#E5ECF6\", \"polar\": {\"angularaxis\": {\"gridcolor\": \"white\", \"linecolor\": \"white\", \"ticks\": \"\"}, \"bgcolor\": \"#E5ECF6\", \"radialaxis\": {\"gridcolor\": \"white\", \"linecolor\": \"white\", \"ticks\": \"\"}}, \"scene\": {\"xaxis\": {\"backgroundcolor\": \"#E5ECF6\", \"gridcolor\": \"white\", \"gridwidth\": 2, \"linecolor\": \"white\", \"showbackground\": true, \"ticks\": \"\", \"zerolinecolor\": \"white\"}, \"yaxis\": {\"backgroundcolor\": \"#E5ECF6\", \"gridcolor\": \"white\", \"gridwidth\": 2, \"linecolor\": \"white\", \"showbackground\": true, \"ticks\": \"\", \"zerolinecolor\": \"white\"}, \"zaxis\": {\"backgroundcolor\": \"#E5ECF6\", \"gridcolor\": \"white\", \"gridwidth\": 2, \"linecolor\": \"white\", \"showbackground\": true, \"ticks\": \"\", \"zerolinecolor\": \"white\"}}, \"shapedefaults\": {\"line\": {\"color\": \"#2a3f5f\"}}, \"ternary\": {\"aaxis\": {\"gridcolor\": \"white\", \"linecolor\": \"white\", \"ticks\": \"\"}, \"baxis\": {\"gridcolor\": \"white\", \"linecolor\": \"white\", \"ticks\": \"\"}, \"bgcolor\": \"#E5ECF6\", \"caxis\": {\"gridcolor\": \"white\", \"linecolor\": \"white\", \"ticks\": \"\"}}, \"title\": {\"x\": 0.05}, \"xaxis\": {\"automargin\": true, \"gridcolor\": \"white\", \"linecolor\": \"white\", \"ticks\": \"\", \"title\": {\"standoff\": 15}, \"zerolinecolor\": \"white\", \"zerolinewidth\": 2}, \"yaxis\": {\"automargin\": true, \"gridcolor\": \"white\", \"linecolor\": \"white\", \"ticks\": \"\", \"title\": {\"standoff\": 15}, \"zerolinecolor\": \"white\", \"zerolinewidth\": 2}}}, \"title\": {\"text\": \"Deaths COVID-19 cases per day in India\"}, \"xaxis\": {\"anchor\": \"y\", \"domain\": [0.0, 1.0], \"title\": {\"text\": \"Date\"}}, \"yaxis\": {\"anchor\": \"x\", \"domain\": [0.0, 1.0], \"title\": {\"text\": \"Deaths\"}}},                        {\"responsive\": true}                    ).then(function(){\n",
       "                            \n",
       "var gd = document.getElementById('523117cd-6706-4fc1-81d5-60f090bdaec5');\n",
       "var x = new MutationObserver(function (mutations, observer) {{\n",
       "        var display = window.getComputedStyle(gd).display;\n",
       "        if (!display || display === 'none') {{\n",
       "            console.log([gd, 'removed!']);\n",
       "            Plotly.purge(gd);\n",
       "            observer.disconnect();\n",
       "        }}\n",
       "}});\n",
       "\n",
       "// Listen for the removal of the full notebook cells\n",
       "var notebookContainer = gd.closest('#notebook-container');\n",
       "if (notebookContainer) {{\n",
       "    x.observe(notebookContainer, {childList: true});\n",
       "}}\n",
       "\n",
       "// Listen for the clearing of the current output cell\n",
       "var outputEl = gd.closest('.output');\n",
       "if (outputEl) {{\n",
       "    x.observe(outputEl, {childList: true});\n",
       "}}\n",
       "\n",
       "                        })                };                });            </script>        </div>"
      ]
     },
     "metadata": {},
     "output_type": "display_data"
    }
   ],
   "source": [
    "df_by_date = pd.DataFrame(data.fillna('NA').groupby(['Country','Date'])['Deaths'].sum().sort_values().reset_index())\n",
    "\n",
    "fig = px.bar(df_by_date.loc[(df_by_date['Country'] == 'India') &(df_by_date.Date >= '2020-01-22')].sort_values('Deaths',ascending = False), \n",
    "             x='Date', y='Deaths', color=\"Deaths\", color_continuous_scale=px.colors.sequential.Blues)\n",
    "fig.update_layout(title_text='Deaths COVID-19 cases per day in India')\n",
    "fig.show()"
   ]
  },
  {
   "cell_type": "markdown",
   "metadata": {},
   "source": [
    "###### The Death rate in India reached 120K at the end of November."
   ]
  },
  {
   "cell_type": "markdown",
   "metadata": {},
   "source": [
    "# Deaths COVID-19 cases per day in Brazil"
   ]
  },
  {
   "cell_type": "code",
   "execution_count": 26,
   "metadata": {},
   "outputs": [
    {
     "data": {
      "application/vnd.plotly.v1+json": {
       "config": {
        "plotlyServerURL": "https://plot.ly"
       },
       "data": [
        {
         "alignmentgroup": "True",
         "hovertemplate": "Date=%{x}<br>Deaths=%{marker.color}<extra></extra>",
         "legendgroup": "",
         "marker": {
          "color": [
           172833,
           172561,
           171974,
           171460,
           170769,
           170115,
           169485,
           169183,
           168989,
           168613,
           168061,
           167455,
           166699,
           166014,
           165798,
           165658,
           164737,
           164281,
           163368,
           162802,
           162628,
           162397,
           162269,
           162015,
           161106,
           161106,
           160496,
           160253,
           160074,
           159884,
           159477,
           158969,
           158456,
           157946,
           157397,
           157134,
           156903,
           156471,
           155900,
           155403,
           154837,
           154176,
           153675,
           153675,
           153214,
           152460,
           151747,
           150998,
           150689,
           150488,
           150198,
           149639,
           148957,
           148228,
           147494,
           146675,
           146352,
           145987,
           144680,
           144680,
           143952,
           142921,
           142058,
           141741,
           141406,
           140537,
           139808,
           138105,
           138105,
           137272,
           136895,
           136532,
           135793,
           134935,
           134106,
           133119,
           132006,
           131625,
           131210,
           130396,
           129522,
           128539,
           127464,
           126960,
           126650,
           126203,
           125502,
           124614,
           123780,
           122596,
           121381,
           120828,
           120262,
           119504,
           118649,
           117665,
           116580,
           115309,
           114744,
           114250,
           113358,
           112304,
           111100,
           109888,
           108536,
           107852,
           107232,
           106523,
           105463,
           104201,
           103026,
           101752,
           101049,
           100477,
           99572,
           98493,
           97256,
           95819,
           94665,
           94104,
           93563,
           92475,
           91263,
           90134,
           88539,
           87618,
           87004,
           86449,
           85238,
           84082,
           82771,
           81487,
           80120,
           79488,
           78772,
           77851,
           76688,
           75366,
           74133,
           72833,
           72100,
           71469,
           70398,
           69184,
           67964,
           66741,
           65487,
           64867,
           64265,
           63174,
           61884,
           60632,
           59594,
           58314,
           57622,
           57070,
           55961,
           54971,
           53830,
           52645,
           51271,
           50591,
           49976,
           48954,
           47748,
           46510,
           45241,
           43959,
           43332,
           42720,
           41828,
           40919,
           39680,
           38406,
           37134,
           36455,
           35930,
           35026,
           34021,
           32548,
           31199,
           29937,
           29314,
           28834,
           27878,
           26754,
           25598,
           24512,
           23473,
           22666,
           22013,
           21048,
           20047,
           18859,
           17983,
           16853,
           16118,
           15662,
           14962,
           13999,
           13240,
           12461,
           11653,
           11123,
           10656,
           10017,
           9190,
           8588,
           7938,
           7367,
           7051,
           6761,
           6412,
           6006,
           5513,
           5083,
           4603,
           4286,
           4057,
           3704,
           3331,
           2906,
           2741,
           2587,
           2462,
           2354,
           2141,
           1924,
           1736,
           1532,
           1328,
           1223,
           1124,
           1057,
           950,
           819,
           686,
           564,
           486,
           445,
           359,
           324,
           240,
           201,
           159,
           136,
           111,
           92,
           77,
           59,
           46,
           34,
           25,
           15,
           11,
           6,
           3,
           1,
           0,
           0,
           0,
           0,
           0,
           0,
           0,
           0,
           0,
           0,
           0,
           0,
           0,
           0,
           0,
           0,
           0,
           0,
           0,
           0,
           0,
           0,
           0,
           0,
           0,
           0,
           0,
           0,
           0,
           0,
           0,
           0,
           0,
           0,
           0,
           0,
           0,
           0,
           0,
           0,
           0,
           0,
           0,
           0,
           0,
           0,
           0,
           0,
           0,
           0,
           0,
           0,
           0,
           0,
           0
          ],
          "coloraxis": "coloraxis"
         },
         "name": "",
         "offsetgroup": "",
         "orientation": "v",
         "showlegend": false,
         "textposition": "auto",
         "type": "bar",
         "x": [
          "2020-11-29",
          "2020-11-28",
          "2020-11-27",
          "2020-11-26",
          "2020-11-25",
          "2020-11-24",
          "2020-11-23",
          "2020-11-22",
          "2020-11-21",
          "2020-11-20",
          "2020-11-19",
          "2020-11-18",
          "2020-11-17",
          "2020-11-16",
          "2020-11-15",
          "2020-11-14",
          "2020-11-13",
          "2020-11-12",
          "2020-11-11",
          "2020-11-10",
          "2020-11-09",
          "2020-11-08",
          "2020-11-07",
          "2020-11-06",
          "2020-11-04",
          "2020-11-05",
          "2020-11-03",
          "2020-11-02",
          "2020-11-01",
          "2020-10-31",
          "2020-10-30",
          "2020-10-29",
          "2020-10-28",
          "2020-10-27",
          "2020-10-26",
          "2020-10-25",
          "2020-10-24",
          "2020-10-23",
          "2020-10-22",
          "2020-10-21",
          "2020-10-20",
          "2020-10-19",
          "2020-10-18",
          "2020-10-17",
          "2020-10-16",
          "2020-10-15",
          "2020-10-14",
          "2020-10-13",
          "2020-10-12",
          "2020-10-11",
          "2020-10-10",
          "2020-10-09",
          "2020-10-08",
          "2020-10-07",
          "2020-10-06",
          "2020-10-05",
          "2020-10-04",
          "2020-10-03",
          "2020-10-01",
          "2020-10-02",
          "2020-09-30",
          "2020-09-29",
          "2020-09-28",
          "2020-09-27",
          "2020-09-26",
          "2020-09-25",
          "2020-09-24",
          "2020-09-23",
          "2020-09-22",
          "2020-09-21",
          "2020-09-20",
          "2020-09-19",
          "2020-09-18",
          "2020-09-17",
          "2020-09-16",
          "2020-09-15",
          "2020-09-14",
          "2020-09-13",
          "2020-09-12",
          "2020-09-11",
          "2020-09-10",
          "2020-09-09",
          "2020-09-08",
          "2020-09-07",
          "2020-09-06",
          "2020-09-05",
          "2020-09-04",
          "2020-09-03",
          "2020-09-02",
          "2020-09-01",
          "2020-08-31",
          "2020-08-30",
          "2020-08-29",
          "2020-08-28",
          "2020-08-27",
          "2020-08-26",
          "2020-08-25",
          "2020-08-24",
          "2020-08-23",
          "2020-08-22",
          "2020-08-21",
          "2020-08-20",
          "2020-08-19",
          "2020-08-18",
          "2020-08-17",
          "2020-08-16",
          "2020-08-15",
          "2020-08-14",
          "2020-08-13",
          "2020-08-12",
          "2020-08-11",
          "2020-08-10",
          "2020-08-09",
          "2020-08-08",
          "2020-08-07",
          "2020-08-06",
          "2020-08-05",
          "2020-08-04",
          "2020-08-03",
          "2020-08-02",
          "2020-08-01",
          "2020-07-31",
          "2020-07-30",
          "2020-07-29",
          "2020-07-28",
          "2020-07-27",
          "2020-07-26",
          "2020-07-25",
          "2020-07-24",
          "2020-07-23",
          "2020-07-22",
          "2020-07-21",
          "2020-07-20",
          "2020-07-19",
          "2020-07-18",
          "2020-07-17",
          "2020-07-16",
          "2020-07-15",
          "2020-07-14",
          "2020-07-13",
          "2020-07-12",
          "2020-07-11",
          "2020-07-10",
          "2020-07-09",
          "2020-07-08",
          "2020-07-07",
          "2020-07-06",
          "2020-07-05",
          "2020-07-04",
          "2020-07-03",
          "2020-07-02",
          "2020-07-01",
          "2020-06-30",
          "2020-06-29",
          "2020-06-28",
          "2020-06-27",
          "2020-06-26",
          "2020-06-25",
          "2020-06-24",
          "2020-06-23",
          "2020-06-22",
          "2020-06-21",
          "2020-06-20",
          "2020-06-19",
          "2020-06-18",
          "2020-06-17",
          "2020-06-16",
          "2020-06-15",
          "2020-06-14",
          "2020-06-13",
          "2020-06-12",
          "2020-06-11",
          "2020-06-10",
          "2020-06-09",
          "2020-06-08",
          "2020-06-07",
          "2020-06-06",
          "2020-06-05",
          "2020-06-04",
          "2020-06-03",
          "2020-06-02",
          "2020-06-01",
          "2020-05-31",
          "2020-05-30",
          "2020-05-29",
          "2020-05-28",
          "2020-05-27",
          "2020-05-26",
          "2020-05-25",
          "2020-05-24",
          "2020-05-23",
          "2020-05-22",
          "2020-05-21",
          "2020-05-20",
          "2020-05-19",
          "2020-05-18",
          "2020-05-17",
          "2020-05-16",
          "2020-05-15",
          "2020-05-14",
          "2020-05-13",
          "2020-05-12",
          "2020-05-11",
          "2020-05-10",
          "2020-05-09",
          "2020-05-08",
          "2020-05-07",
          "2020-05-06",
          "2020-05-05",
          "2020-05-04",
          "2020-05-03",
          "2020-05-02",
          "2020-05-01",
          "2020-04-30",
          "2020-04-29",
          "2020-04-28",
          "2020-04-27",
          "2020-04-26",
          "2020-04-25",
          "2020-04-24",
          "2020-04-23",
          "2020-04-22",
          "2020-04-21",
          "2020-04-20",
          "2020-04-19",
          "2020-04-18",
          "2020-04-17",
          "2020-04-16",
          "2020-04-15",
          "2020-04-14",
          "2020-04-13",
          "2020-04-12",
          "2020-04-11",
          "2020-04-10",
          "2020-04-09",
          "2020-04-08",
          "2020-04-07",
          "2020-04-06",
          "2020-04-05",
          "2020-04-04",
          "2020-04-03",
          "2020-04-02",
          "2020-04-01",
          "2020-03-31",
          "2020-03-30",
          "2020-03-29",
          "2020-03-28",
          "2020-03-27",
          "2020-03-26",
          "2020-03-25",
          "2020-03-24",
          "2020-03-23",
          "2020-03-22",
          "2020-03-21",
          "2020-03-20",
          "2020-03-19",
          "2020-03-18",
          "2020-03-17",
          "2020-02-28",
          "2020-02-29",
          "2020-02-06",
          "2020-02-20",
          "2020-03-01",
          "2020-02-08",
          "2020-01-26",
          "2020-01-22",
          "2020-01-23",
          "2020-01-24",
          "2020-01-25",
          "2020-02-26",
          "2020-02-27",
          "2020-02-13",
          "2020-02-25",
          "2020-02-24",
          "2020-02-23",
          "2020-02-22",
          "2020-02-21",
          "2020-02-19",
          "2020-02-18",
          "2020-02-17",
          "2020-02-16",
          "2020-02-15",
          "2020-02-14",
          "2020-02-12",
          "2020-02-07",
          "2020-02-11",
          "2020-01-28",
          "2020-03-06",
          "2020-02-09",
          "2020-03-15",
          "2020-03-16",
          "2020-03-14",
          "2020-03-13",
          "2020-03-12",
          "2020-03-11",
          "2020-03-10",
          "2020-03-09",
          "2020-03-08",
          "2020-03-07",
          "2020-03-05",
          "2020-01-29",
          "2020-03-03",
          "2020-03-04",
          "2020-03-02",
          "2020-01-27",
          "2020-02-05",
          "2020-02-04",
          "2020-02-03",
          "2020-02-02",
          "2020-02-01",
          "2020-01-31",
          "2020-01-30",
          "2020-02-10"
         ],
         "xaxis": "x",
         "y": [
          172833,
          172561,
          171974,
          171460,
          170769,
          170115,
          169485,
          169183,
          168989,
          168613,
          168061,
          167455,
          166699,
          166014,
          165798,
          165658,
          164737,
          164281,
          163368,
          162802,
          162628,
          162397,
          162269,
          162015,
          161106,
          161106,
          160496,
          160253,
          160074,
          159884,
          159477,
          158969,
          158456,
          157946,
          157397,
          157134,
          156903,
          156471,
          155900,
          155403,
          154837,
          154176,
          153675,
          153675,
          153214,
          152460,
          151747,
          150998,
          150689,
          150488,
          150198,
          149639,
          148957,
          148228,
          147494,
          146675,
          146352,
          145987,
          144680,
          144680,
          143952,
          142921,
          142058,
          141741,
          141406,
          140537,
          139808,
          138105,
          138105,
          137272,
          136895,
          136532,
          135793,
          134935,
          134106,
          133119,
          132006,
          131625,
          131210,
          130396,
          129522,
          128539,
          127464,
          126960,
          126650,
          126203,
          125502,
          124614,
          123780,
          122596,
          121381,
          120828,
          120262,
          119504,
          118649,
          117665,
          116580,
          115309,
          114744,
          114250,
          113358,
          112304,
          111100,
          109888,
          108536,
          107852,
          107232,
          106523,
          105463,
          104201,
          103026,
          101752,
          101049,
          100477,
          99572,
          98493,
          97256,
          95819,
          94665,
          94104,
          93563,
          92475,
          91263,
          90134,
          88539,
          87618,
          87004,
          86449,
          85238,
          84082,
          82771,
          81487,
          80120,
          79488,
          78772,
          77851,
          76688,
          75366,
          74133,
          72833,
          72100,
          71469,
          70398,
          69184,
          67964,
          66741,
          65487,
          64867,
          64265,
          63174,
          61884,
          60632,
          59594,
          58314,
          57622,
          57070,
          55961,
          54971,
          53830,
          52645,
          51271,
          50591,
          49976,
          48954,
          47748,
          46510,
          45241,
          43959,
          43332,
          42720,
          41828,
          40919,
          39680,
          38406,
          37134,
          36455,
          35930,
          35026,
          34021,
          32548,
          31199,
          29937,
          29314,
          28834,
          27878,
          26754,
          25598,
          24512,
          23473,
          22666,
          22013,
          21048,
          20047,
          18859,
          17983,
          16853,
          16118,
          15662,
          14962,
          13999,
          13240,
          12461,
          11653,
          11123,
          10656,
          10017,
          9190,
          8588,
          7938,
          7367,
          7051,
          6761,
          6412,
          6006,
          5513,
          5083,
          4603,
          4286,
          4057,
          3704,
          3331,
          2906,
          2741,
          2587,
          2462,
          2354,
          2141,
          1924,
          1736,
          1532,
          1328,
          1223,
          1124,
          1057,
          950,
          819,
          686,
          564,
          486,
          445,
          359,
          324,
          240,
          201,
          159,
          136,
          111,
          92,
          77,
          59,
          46,
          34,
          25,
          15,
          11,
          6,
          3,
          1,
          0,
          0,
          0,
          0,
          0,
          0,
          0,
          0,
          0,
          0,
          0,
          0,
          0,
          0,
          0,
          0,
          0,
          0,
          0,
          0,
          0,
          0,
          0,
          0,
          0,
          0,
          0,
          0,
          0,
          0,
          0,
          0,
          0,
          0,
          0,
          0,
          0,
          0,
          0,
          0,
          0,
          0,
          0,
          0,
          0,
          0,
          0,
          0,
          0,
          0,
          0,
          0,
          0,
          0,
          0
         ],
         "yaxis": "y"
        }
       ],
       "layout": {
        "barmode": "relative",
        "coloraxis": {
         "colorbar": {
          "title": {
           "text": "Deaths"
          }
         },
         "colorscale": [
          [
           0,
           "rgb(247,252,253)"
          ],
          [
           0.125,
           "rgb(229,245,249)"
          ],
          [
           0.25,
           "rgb(204,236,230)"
          ],
          [
           0.375,
           "rgb(153,216,201)"
          ],
          [
           0.5,
           "rgb(102,194,164)"
          ],
          [
           0.625,
           "rgb(65,174,118)"
          ],
          [
           0.75,
           "rgb(35,139,69)"
          ],
          [
           0.875,
           "rgb(0,109,44)"
          ],
          [
           1,
           "rgb(0,68,27)"
          ]
         ]
        },
        "legend": {
         "tracegroupgap": 0
        },
        "margin": {
         "t": 60
        },
        "template": {
         "data": {
          "bar": [
           {
            "error_x": {
             "color": "#2a3f5f"
            },
            "error_y": {
             "color": "#2a3f5f"
            },
            "marker": {
             "line": {
              "color": "#E5ECF6",
              "width": 0.5
             }
            },
            "type": "bar"
           }
          ],
          "barpolar": [
           {
            "marker": {
             "line": {
              "color": "#E5ECF6",
              "width": 0.5
             }
            },
            "type": "barpolar"
           }
          ],
          "carpet": [
           {
            "aaxis": {
             "endlinecolor": "#2a3f5f",
             "gridcolor": "white",
             "linecolor": "white",
             "minorgridcolor": "white",
             "startlinecolor": "#2a3f5f"
            },
            "baxis": {
             "endlinecolor": "#2a3f5f",
             "gridcolor": "white",
             "linecolor": "white",
             "minorgridcolor": "white",
             "startlinecolor": "#2a3f5f"
            },
            "type": "carpet"
           }
          ],
          "choropleth": [
           {
            "colorbar": {
             "outlinewidth": 0,
             "ticks": ""
            },
            "type": "choropleth"
           }
          ],
          "contour": [
           {
            "colorbar": {
             "outlinewidth": 0,
             "ticks": ""
            },
            "colorscale": [
             [
              0,
              "#0d0887"
             ],
             [
              0.1111111111111111,
              "#46039f"
             ],
             [
              0.2222222222222222,
              "#7201a8"
             ],
             [
              0.3333333333333333,
              "#9c179e"
             ],
             [
              0.4444444444444444,
              "#bd3786"
             ],
             [
              0.5555555555555556,
              "#d8576b"
             ],
             [
              0.6666666666666666,
              "#ed7953"
             ],
             [
              0.7777777777777778,
              "#fb9f3a"
             ],
             [
              0.8888888888888888,
              "#fdca26"
             ],
             [
              1,
              "#f0f921"
             ]
            ],
            "type": "contour"
           }
          ],
          "contourcarpet": [
           {
            "colorbar": {
             "outlinewidth": 0,
             "ticks": ""
            },
            "type": "contourcarpet"
           }
          ],
          "heatmap": [
           {
            "colorbar": {
             "outlinewidth": 0,
             "ticks": ""
            },
            "colorscale": [
             [
              0,
              "#0d0887"
             ],
             [
              0.1111111111111111,
              "#46039f"
             ],
             [
              0.2222222222222222,
              "#7201a8"
             ],
             [
              0.3333333333333333,
              "#9c179e"
             ],
             [
              0.4444444444444444,
              "#bd3786"
             ],
             [
              0.5555555555555556,
              "#d8576b"
             ],
             [
              0.6666666666666666,
              "#ed7953"
             ],
             [
              0.7777777777777778,
              "#fb9f3a"
             ],
             [
              0.8888888888888888,
              "#fdca26"
             ],
             [
              1,
              "#f0f921"
             ]
            ],
            "type": "heatmap"
           }
          ],
          "heatmapgl": [
           {
            "colorbar": {
             "outlinewidth": 0,
             "ticks": ""
            },
            "colorscale": [
             [
              0,
              "#0d0887"
             ],
             [
              0.1111111111111111,
              "#46039f"
             ],
             [
              0.2222222222222222,
              "#7201a8"
             ],
             [
              0.3333333333333333,
              "#9c179e"
             ],
             [
              0.4444444444444444,
              "#bd3786"
             ],
             [
              0.5555555555555556,
              "#d8576b"
             ],
             [
              0.6666666666666666,
              "#ed7953"
             ],
             [
              0.7777777777777778,
              "#fb9f3a"
             ],
             [
              0.8888888888888888,
              "#fdca26"
             ],
             [
              1,
              "#f0f921"
             ]
            ],
            "type": "heatmapgl"
           }
          ],
          "histogram": [
           {
            "marker": {
             "colorbar": {
              "outlinewidth": 0,
              "ticks": ""
             }
            },
            "type": "histogram"
           }
          ],
          "histogram2d": [
           {
            "colorbar": {
             "outlinewidth": 0,
             "ticks": ""
            },
            "colorscale": [
             [
              0,
              "#0d0887"
             ],
             [
              0.1111111111111111,
              "#46039f"
             ],
             [
              0.2222222222222222,
              "#7201a8"
             ],
             [
              0.3333333333333333,
              "#9c179e"
             ],
             [
              0.4444444444444444,
              "#bd3786"
             ],
             [
              0.5555555555555556,
              "#d8576b"
             ],
             [
              0.6666666666666666,
              "#ed7953"
             ],
             [
              0.7777777777777778,
              "#fb9f3a"
             ],
             [
              0.8888888888888888,
              "#fdca26"
             ],
             [
              1,
              "#f0f921"
             ]
            ],
            "type": "histogram2d"
           }
          ],
          "histogram2dcontour": [
           {
            "colorbar": {
             "outlinewidth": 0,
             "ticks": ""
            },
            "colorscale": [
             [
              0,
              "#0d0887"
             ],
             [
              0.1111111111111111,
              "#46039f"
             ],
             [
              0.2222222222222222,
              "#7201a8"
             ],
             [
              0.3333333333333333,
              "#9c179e"
             ],
             [
              0.4444444444444444,
              "#bd3786"
             ],
             [
              0.5555555555555556,
              "#d8576b"
             ],
             [
              0.6666666666666666,
              "#ed7953"
             ],
             [
              0.7777777777777778,
              "#fb9f3a"
             ],
             [
              0.8888888888888888,
              "#fdca26"
             ],
             [
              1,
              "#f0f921"
             ]
            ],
            "type": "histogram2dcontour"
           }
          ],
          "mesh3d": [
           {
            "colorbar": {
             "outlinewidth": 0,
             "ticks": ""
            },
            "type": "mesh3d"
           }
          ],
          "parcoords": [
           {
            "line": {
             "colorbar": {
              "outlinewidth": 0,
              "ticks": ""
             }
            },
            "type": "parcoords"
           }
          ],
          "pie": [
           {
            "automargin": true,
            "type": "pie"
           }
          ],
          "scatter": [
           {
            "marker": {
             "colorbar": {
              "outlinewidth": 0,
              "ticks": ""
             }
            },
            "type": "scatter"
           }
          ],
          "scatter3d": [
           {
            "line": {
             "colorbar": {
              "outlinewidth": 0,
              "ticks": ""
             }
            },
            "marker": {
             "colorbar": {
              "outlinewidth": 0,
              "ticks": ""
             }
            },
            "type": "scatter3d"
           }
          ],
          "scattercarpet": [
           {
            "marker": {
             "colorbar": {
              "outlinewidth": 0,
              "ticks": ""
             }
            },
            "type": "scattercarpet"
           }
          ],
          "scattergeo": [
           {
            "marker": {
             "colorbar": {
              "outlinewidth": 0,
              "ticks": ""
             }
            },
            "type": "scattergeo"
           }
          ],
          "scattergl": [
           {
            "marker": {
             "colorbar": {
              "outlinewidth": 0,
              "ticks": ""
             }
            },
            "type": "scattergl"
           }
          ],
          "scattermapbox": [
           {
            "marker": {
             "colorbar": {
              "outlinewidth": 0,
              "ticks": ""
             }
            },
            "type": "scattermapbox"
           }
          ],
          "scatterpolar": [
           {
            "marker": {
             "colorbar": {
              "outlinewidth": 0,
              "ticks": ""
             }
            },
            "type": "scatterpolar"
           }
          ],
          "scatterpolargl": [
           {
            "marker": {
             "colorbar": {
              "outlinewidth": 0,
              "ticks": ""
             }
            },
            "type": "scatterpolargl"
           }
          ],
          "scatterternary": [
           {
            "marker": {
             "colorbar": {
              "outlinewidth": 0,
              "ticks": ""
             }
            },
            "type": "scatterternary"
           }
          ],
          "surface": [
           {
            "colorbar": {
             "outlinewidth": 0,
             "ticks": ""
            },
            "colorscale": [
             [
              0,
              "#0d0887"
             ],
             [
              0.1111111111111111,
              "#46039f"
             ],
             [
              0.2222222222222222,
              "#7201a8"
             ],
             [
              0.3333333333333333,
              "#9c179e"
             ],
             [
              0.4444444444444444,
              "#bd3786"
             ],
             [
              0.5555555555555556,
              "#d8576b"
             ],
             [
              0.6666666666666666,
              "#ed7953"
             ],
             [
              0.7777777777777778,
              "#fb9f3a"
             ],
             [
              0.8888888888888888,
              "#fdca26"
             ],
             [
              1,
              "#f0f921"
             ]
            ],
            "type": "surface"
           }
          ],
          "table": [
           {
            "cells": {
             "fill": {
              "color": "#EBF0F8"
             },
             "line": {
              "color": "white"
             }
            },
            "header": {
             "fill": {
              "color": "#C8D4E3"
             },
             "line": {
              "color": "white"
             }
            },
            "type": "table"
           }
          ]
         },
         "layout": {
          "annotationdefaults": {
           "arrowcolor": "#2a3f5f",
           "arrowhead": 0,
           "arrowwidth": 1
          },
          "autotypenumbers": "strict",
          "coloraxis": {
           "colorbar": {
            "outlinewidth": 0,
            "ticks": ""
           }
          },
          "colorscale": {
           "diverging": [
            [
             0,
             "#8e0152"
            ],
            [
             0.1,
             "#c51b7d"
            ],
            [
             0.2,
             "#de77ae"
            ],
            [
             0.3,
             "#f1b6da"
            ],
            [
             0.4,
             "#fde0ef"
            ],
            [
             0.5,
             "#f7f7f7"
            ],
            [
             0.6,
             "#e6f5d0"
            ],
            [
             0.7,
             "#b8e186"
            ],
            [
             0.8,
             "#7fbc41"
            ],
            [
             0.9,
             "#4d9221"
            ],
            [
             1,
             "#276419"
            ]
           ],
           "sequential": [
            [
             0,
             "#0d0887"
            ],
            [
             0.1111111111111111,
             "#46039f"
            ],
            [
             0.2222222222222222,
             "#7201a8"
            ],
            [
             0.3333333333333333,
             "#9c179e"
            ],
            [
             0.4444444444444444,
             "#bd3786"
            ],
            [
             0.5555555555555556,
             "#d8576b"
            ],
            [
             0.6666666666666666,
             "#ed7953"
            ],
            [
             0.7777777777777778,
             "#fb9f3a"
            ],
            [
             0.8888888888888888,
             "#fdca26"
            ],
            [
             1,
             "#f0f921"
            ]
           ],
           "sequentialminus": [
            [
             0,
             "#0d0887"
            ],
            [
             0.1111111111111111,
             "#46039f"
            ],
            [
             0.2222222222222222,
             "#7201a8"
            ],
            [
             0.3333333333333333,
             "#9c179e"
            ],
            [
             0.4444444444444444,
             "#bd3786"
            ],
            [
             0.5555555555555556,
             "#d8576b"
            ],
            [
             0.6666666666666666,
             "#ed7953"
            ],
            [
             0.7777777777777778,
             "#fb9f3a"
            ],
            [
             0.8888888888888888,
             "#fdca26"
            ],
            [
             1,
             "#f0f921"
            ]
           ]
          },
          "colorway": [
           "#636efa",
           "#EF553B",
           "#00cc96",
           "#ab63fa",
           "#FFA15A",
           "#19d3f3",
           "#FF6692",
           "#B6E880",
           "#FF97FF",
           "#FECB52"
          ],
          "font": {
           "color": "#2a3f5f"
          },
          "geo": {
           "bgcolor": "white",
           "lakecolor": "white",
           "landcolor": "#E5ECF6",
           "showlakes": true,
           "showland": true,
           "subunitcolor": "white"
          },
          "hoverlabel": {
           "align": "left"
          },
          "hovermode": "closest",
          "mapbox": {
           "style": "light"
          },
          "paper_bgcolor": "white",
          "plot_bgcolor": "#E5ECF6",
          "polar": {
           "angularaxis": {
            "gridcolor": "white",
            "linecolor": "white",
            "ticks": ""
           },
           "bgcolor": "#E5ECF6",
           "radialaxis": {
            "gridcolor": "white",
            "linecolor": "white",
            "ticks": ""
           }
          },
          "scene": {
           "xaxis": {
            "backgroundcolor": "#E5ECF6",
            "gridcolor": "white",
            "gridwidth": 2,
            "linecolor": "white",
            "showbackground": true,
            "ticks": "",
            "zerolinecolor": "white"
           },
           "yaxis": {
            "backgroundcolor": "#E5ECF6",
            "gridcolor": "white",
            "gridwidth": 2,
            "linecolor": "white",
            "showbackground": true,
            "ticks": "",
            "zerolinecolor": "white"
           },
           "zaxis": {
            "backgroundcolor": "#E5ECF6",
            "gridcolor": "white",
            "gridwidth": 2,
            "linecolor": "white",
            "showbackground": true,
            "ticks": "",
            "zerolinecolor": "white"
           }
          },
          "shapedefaults": {
           "line": {
            "color": "#2a3f5f"
           }
          },
          "ternary": {
           "aaxis": {
            "gridcolor": "white",
            "linecolor": "white",
            "ticks": ""
           },
           "baxis": {
            "gridcolor": "white",
            "linecolor": "white",
            "ticks": ""
           },
           "bgcolor": "#E5ECF6",
           "caxis": {
            "gridcolor": "white",
            "linecolor": "white",
            "ticks": ""
           }
          },
          "title": {
           "x": 0.05
          },
          "xaxis": {
           "automargin": true,
           "gridcolor": "white",
           "linecolor": "white",
           "ticks": "",
           "title": {
            "standoff": 15
           },
           "zerolinecolor": "white",
           "zerolinewidth": 2
          },
          "yaxis": {
           "automargin": true,
           "gridcolor": "white",
           "linecolor": "white",
           "ticks": "",
           "title": {
            "standoff": 15
           },
           "zerolinecolor": "white",
           "zerolinewidth": 2
          }
         }
        },
        "title": {
         "text": "Deaths COVID-19 cases per day in Brazil"
        },
        "xaxis": {
         "anchor": "y",
         "domain": [
          0,
          1
         ],
         "title": {
          "text": "Date"
         }
        },
        "yaxis": {
         "anchor": "x",
         "domain": [
          0,
          1
         ],
         "title": {
          "text": "Deaths"
         }
        }
       }
      },
      "text/html": [
       "<div>                            <div id=\"cc29b8a5-3dcf-46c4-bfb4-c95c70bb5f63\" class=\"plotly-graph-div\" style=\"height:525px; width:100%;\"></div>            <script type=\"text/javascript\">                require([\"plotly\"], function(Plotly) {                    window.PLOTLYENV=window.PLOTLYENV || {};                                    if (document.getElementById(\"cc29b8a5-3dcf-46c4-bfb4-c95c70bb5f63\")) {                    Plotly.newPlot(                        \"cc29b8a5-3dcf-46c4-bfb4-c95c70bb5f63\",                        [{\"alignmentgroup\": \"True\", \"hovertemplate\": \"Date=%{x}<br>Deaths=%{marker.color}<extra></extra>\", \"legendgroup\": \"\", \"marker\": {\"color\": [172833, 172561, 171974, 171460, 170769, 170115, 169485, 169183, 168989, 168613, 168061, 167455, 166699, 166014, 165798, 165658, 164737, 164281, 163368, 162802, 162628, 162397, 162269, 162015, 161106, 161106, 160496, 160253, 160074, 159884, 159477, 158969, 158456, 157946, 157397, 157134, 156903, 156471, 155900, 155403, 154837, 154176, 153675, 153675, 153214, 152460, 151747, 150998, 150689, 150488, 150198, 149639, 148957, 148228, 147494, 146675, 146352, 145987, 144680, 144680, 143952, 142921, 142058, 141741, 141406, 140537, 139808, 138105, 138105, 137272, 136895, 136532, 135793, 134935, 134106, 133119, 132006, 131625, 131210, 130396, 129522, 128539, 127464, 126960, 126650, 126203, 125502, 124614, 123780, 122596, 121381, 120828, 120262, 119504, 118649, 117665, 116580, 115309, 114744, 114250, 113358, 112304, 111100, 109888, 108536, 107852, 107232, 106523, 105463, 104201, 103026, 101752, 101049, 100477, 99572, 98493, 97256, 95819, 94665, 94104, 93563, 92475, 91263, 90134, 88539, 87618, 87004, 86449, 85238, 84082, 82771, 81487, 80120, 79488, 78772, 77851, 76688, 75366, 74133, 72833, 72100, 71469, 70398, 69184, 67964, 66741, 65487, 64867, 64265, 63174, 61884, 60632, 59594, 58314, 57622, 57070, 55961, 54971, 53830, 52645, 51271, 50591, 49976, 48954, 47748, 46510, 45241, 43959, 43332, 42720, 41828, 40919, 39680, 38406, 37134, 36455, 35930, 35026, 34021, 32548, 31199, 29937, 29314, 28834, 27878, 26754, 25598, 24512, 23473, 22666, 22013, 21048, 20047, 18859, 17983, 16853, 16118, 15662, 14962, 13999, 13240, 12461, 11653, 11123, 10656, 10017, 9190, 8588, 7938, 7367, 7051, 6761, 6412, 6006, 5513, 5083, 4603, 4286, 4057, 3704, 3331, 2906, 2741, 2587, 2462, 2354, 2141, 1924, 1736, 1532, 1328, 1223, 1124, 1057, 950, 819, 686, 564, 486, 445, 359, 324, 240, 201, 159, 136, 111, 92, 77, 59, 46, 34, 25, 15, 11, 6, 3, 1, 0, 0, 0, 0, 0, 0, 0, 0, 0, 0, 0, 0, 0, 0, 0, 0, 0, 0, 0, 0, 0, 0, 0, 0, 0, 0, 0, 0, 0, 0, 0, 0, 0, 0, 0, 0, 0, 0, 0, 0, 0, 0, 0, 0, 0, 0, 0, 0, 0, 0, 0, 0, 0, 0, 0], \"coloraxis\": \"coloraxis\"}, \"name\": \"\", \"offsetgroup\": \"\", \"orientation\": \"v\", \"showlegend\": false, \"textposition\": \"auto\", \"type\": \"bar\", \"x\": [\"2020-11-29\", \"2020-11-28\", \"2020-11-27\", \"2020-11-26\", \"2020-11-25\", \"2020-11-24\", \"2020-11-23\", \"2020-11-22\", \"2020-11-21\", \"2020-11-20\", \"2020-11-19\", \"2020-11-18\", \"2020-11-17\", \"2020-11-16\", \"2020-11-15\", \"2020-11-14\", \"2020-11-13\", \"2020-11-12\", \"2020-11-11\", \"2020-11-10\", \"2020-11-09\", \"2020-11-08\", \"2020-11-07\", \"2020-11-06\", \"2020-11-04\", \"2020-11-05\", \"2020-11-03\", \"2020-11-02\", \"2020-11-01\", \"2020-10-31\", \"2020-10-30\", \"2020-10-29\", \"2020-10-28\", \"2020-10-27\", \"2020-10-26\", \"2020-10-25\", \"2020-10-24\", \"2020-10-23\", \"2020-10-22\", \"2020-10-21\", \"2020-10-20\", \"2020-10-19\", \"2020-10-18\", \"2020-10-17\", \"2020-10-16\", \"2020-10-15\", \"2020-10-14\", \"2020-10-13\", \"2020-10-12\", \"2020-10-11\", \"2020-10-10\", \"2020-10-09\", \"2020-10-08\", \"2020-10-07\", \"2020-10-06\", \"2020-10-05\", \"2020-10-04\", \"2020-10-03\", \"2020-10-01\", \"2020-10-02\", \"2020-09-30\", \"2020-09-29\", \"2020-09-28\", \"2020-09-27\", \"2020-09-26\", \"2020-09-25\", \"2020-09-24\", \"2020-09-23\", \"2020-09-22\", \"2020-09-21\", \"2020-09-20\", \"2020-09-19\", \"2020-09-18\", \"2020-09-17\", \"2020-09-16\", \"2020-09-15\", \"2020-09-14\", \"2020-09-13\", \"2020-09-12\", \"2020-09-11\", \"2020-09-10\", \"2020-09-09\", \"2020-09-08\", \"2020-09-07\", \"2020-09-06\", \"2020-09-05\", \"2020-09-04\", \"2020-09-03\", \"2020-09-02\", \"2020-09-01\", \"2020-08-31\", \"2020-08-30\", \"2020-08-29\", \"2020-08-28\", \"2020-08-27\", \"2020-08-26\", \"2020-08-25\", \"2020-08-24\", \"2020-08-23\", \"2020-08-22\", \"2020-08-21\", \"2020-08-20\", \"2020-08-19\", \"2020-08-18\", \"2020-08-17\", \"2020-08-16\", \"2020-08-15\", \"2020-08-14\", \"2020-08-13\", \"2020-08-12\", \"2020-08-11\", \"2020-08-10\", \"2020-08-09\", \"2020-08-08\", \"2020-08-07\", \"2020-08-06\", \"2020-08-05\", \"2020-08-04\", \"2020-08-03\", \"2020-08-02\", \"2020-08-01\", \"2020-07-31\", \"2020-07-30\", \"2020-07-29\", \"2020-07-28\", \"2020-07-27\", \"2020-07-26\", \"2020-07-25\", \"2020-07-24\", \"2020-07-23\", \"2020-07-22\", \"2020-07-21\", \"2020-07-20\", \"2020-07-19\", \"2020-07-18\", \"2020-07-17\", \"2020-07-16\", \"2020-07-15\", \"2020-07-14\", \"2020-07-13\", \"2020-07-12\", \"2020-07-11\", \"2020-07-10\", \"2020-07-09\", \"2020-07-08\", \"2020-07-07\", \"2020-07-06\", \"2020-07-05\", \"2020-07-04\", \"2020-07-03\", \"2020-07-02\", \"2020-07-01\", \"2020-06-30\", \"2020-06-29\", \"2020-06-28\", \"2020-06-27\", \"2020-06-26\", \"2020-06-25\", \"2020-06-24\", \"2020-06-23\", \"2020-06-22\", \"2020-06-21\", \"2020-06-20\", \"2020-06-19\", \"2020-06-18\", \"2020-06-17\", \"2020-06-16\", \"2020-06-15\", \"2020-06-14\", \"2020-06-13\", \"2020-06-12\", \"2020-06-11\", \"2020-06-10\", \"2020-06-09\", \"2020-06-08\", \"2020-06-07\", \"2020-06-06\", \"2020-06-05\", \"2020-06-04\", \"2020-06-03\", \"2020-06-02\", \"2020-06-01\", \"2020-05-31\", \"2020-05-30\", \"2020-05-29\", \"2020-05-28\", \"2020-05-27\", \"2020-05-26\", \"2020-05-25\", \"2020-05-24\", \"2020-05-23\", \"2020-05-22\", \"2020-05-21\", \"2020-05-20\", \"2020-05-19\", \"2020-05-18\", \"2020-05-17\", \"2020-05-16\", \"2020-05-15\", \"2020-05-14\", \"2020-05-13\", \"2020-05-12\", \"2020-05-11\", \"2020-05-10\", \"2020-05-09\", \"2020-05-08\", \"2020-05-07\", \"2020-05-06\", \"2020-05-05\", \"2020-05-04\", \"2020-05-03\", \"2020-05-02\", \"2020-05-01\", \"2020-04-30\", \"2020-04-29\", \"2020-04-28\", \"2020-04-27\", \"2020-04-26\", \"2020-04-25\", \"2020-04-24\", \"2020-04-23\", \"2020-04-22\", \"2020-04-21\", \"2020-04-20\", \"2020-04-19\", \"2020-04-18\", \"2020-04-17\", \"2020-04-16\", \"2020-04-15\", \"2020-04-14\", \"2020-04-13\", \"2020-04-12\", \"2020-04-11\", \"2020-04-10\", \"2020-04-09\", \"2020-04-08\", \"2020-04-07\", \"2020-04-06\", \"2020-04-05\", \"2020-04-04\", \"2020-04-03\", \"2020-04-02\", \"2020-04-01\", \"2020-03-31\", \"2020-03-30\", \"2020-03-29\", \"2020-03-28\", \"2020-03-27\", \"2020-03-26\", \"2020-03-25\", \"2020-03-24\", \"2020-03-23\", \"2020-03-22\", \"2020-03-21\", \"2020-03-20\", \"2020-03-19\", \"2020-03-18\", \"2020-03-17\", \"2020-02-28\", \"2020-02-29\", \"2020-02-06\", \"2020-02-20\", \"2020-03-01\", \"2020-02-08\", \"2020-01-26\", \"2020-01-22\", \"2020-01-23\", \"2020-01-24\", \"2020-01-25\", \"2020-02-26\", \"2020-02-27\", \"2020-02-13\", \"2020-02-25\", \"2020-02-24\", \"2020-02-23\", \"2020-02-22\", \"2020-02-21\", \"2020-02-19\", \"2020-02-18\", \"2020-02-17\", \"2020-02-16\", \"2020-02-15\", \"2020-02-14\", \"2020-02-12\", \"2020-02-07\", \"2020-02-11\", \"2020-01-28\", \"2020-03-06\", \"2020-02-09\", \"2020-03-15\", \"2020-03-16\", \"2020-03-14\", \"2020-03-13\", \"2020-03-12\", \"2020-03-11\", \"2020-03-10\", \"2020-03-09\", \"2020-03-08\", \"2020-03-07\", \"2020-03-05\", \"2020-01-29\", \"2020-03-03\", \"2020-03-04\", \"2020-03-02\", \"2020-01-27\", \"2020-02-05\", \"2020-02-04\", \"2020-02-03\", \"2020-02-02\", \"2020-02-01\", \"2020-01-31\", \"2020-01-30\", \"2020-02-10\"], \"xaxis\": \"x\", \"y\": [172833, 172561, 171974, 171460, 170769, 170115, 169485, 169183, 168989, 168613, 168061, 167455, 166699, 166014, 165798, 165658, 164737, 164281, 163368, 162802, 162628, 162397, 162269, 162015, 161106, 161106, 160496, 160253, 160074, 159884, 159477, 158969, 158456, 157946, 157397, 157134, 156903, 156471, 155900, 155403, 154837, 154176, 153675, 153675, 153214, 152460, 151747, 150998, 150689, 150488, 150198, 149639, 148957, 148228, 147494, 146675, 146352, 145987, 144680, 144680, 143952, 142921, 142058, 141741, 141406, 140537, 139808, 138105, 138105, 137272, 136895, 136532, 135793, 134935, 134106, 133119, 132006, 131625, 131210, 130396, 129522, 128539, 127464, 126960, 126650, 126203, 125502, 124614, 123780, 122596, 121381, 120828, 120262, 119504, 118649, 117665, 116580, 115309, 114744, 114250, 113358, 112304, 111100, 109888, 108536, 107852, 107232, 106523, 105463, 104201, 103026, 101752, 101049, 100477, 99572, 98493, 97256, 95819, 94665, 94104, 93563, 92475, 91263, 90134, 88539, 87618, 87004, 86449, 85238, 84082, 82771, 81487, 80120, 79488, 78772, 77851, 76688, 75366, 74133, 72833, 72100, 71469, 70398, 69184, 67964, 66741, 65487, 64867, 64265, 63174, 61884, 60632, 59594, 58314, 57622, 57070, 55961, 54971, 53830, 52645, 51271, 50591, 49976, 48954, 47748, 46510, 45241, 43959, 43332, 42720, 41828, 40919, 39680, 38406, 37134, 36455, 35930, 35026, 34021, 32548, 31199, 29937, 29314, 28834, 27878, 26754, 25598, 24512, 23473, 22666, 22013, 21048, 20047, 18859, 17983, 16853, 16118, 15662, 14962, 13999, 13240, 12461, 11653, 11123, 10656, 10017, 9190, 8588, 7938, 7367, 7051, 6761, 6412, 6006, 5513, 5083, 4603, 4286, 4057, 3704, 3331, 2906, 2741, 2587, 2462, 2354, 2141, 1924, 1736, 1532, 1328, 1223, 1124, 1057, 950, 819, 686, 564, 486, 445, 359, 324, 240, 201, 159, 136, 111, 92, 77, 59, 46, 34, 25, 15, 11, 6, 3, 1, 0, 0, 0, 0, 0, 0, 0, 0, 0, 0, 0, 0, 0, 0, 0, 0, 0, 0, 0, 0, 0, 0, 0, 0, 0, 0, 0, 0, 0, 0, 0, 0, 0, 0, 0, 0, 0, 0, 0, 0, 0, 0, 0, 0, 0, 0, 0, 0, 0, 0, 0, 0, 0, 0, 0], \"yaxis\": \"y\"}],                        {\"barmode\": \"relative\", \"coloraxis\": {\"colorbar\": {\"title\": {\"text\": \"Deaths\"}}, \"colorscale\": [[0.0, \"rgb(247,252,253)\"], [0.125, \"rgb(229,245,249)\"], [0.25, \"rgb(204,236,230)\"], [0.375, \"rgb(153,216,201)\"], [0.5, \"rgb(102,194,164)\"], [0.625, \"rgb(65,174,118)\"], [0.75, \"rgb(35,139,69)\"], [0.875, \"rgb(0,109,44)\"], [1.0, \"rgb(0,68,27)\"]]}, \"legend\": {\"tracegroupgap\": 0}, \"margin\": {\"t\": 60}, \"template\": {\"data\": {\"bar\": [{\"error_x\": {\"color\": \"#2a3f5f\"}, \"error_y\": {\"color\": \"#2a3f5f\"}, \"marker\": {\"line\": {\"color\": \"#E5ECF6\", \"width\": 0.5}}, \"type\": \"bar\"}], \"barpolar\": [{\"marker\": {\"line\": {\"color\": \"#E5ECF6\", \"width\": 0.5}}, \"type\": \"barpolar\"}], \"carpet\": [{\"aaxis\": {\"endlinecolor\": \"#2a3f5f\", \"gridcolor\": \"white\", \"linecolor\": \"white\", \"minorgridcolor\": \"white\", \"startlinecolor\": \"#2a3f5f\"}, \"baxis\": {\"endlinecolor\": \"#2a3f5f\", \"gridcolor\": \"white\", \"linecolor\": \"white\", \"minorgridcolor\": \"white\", \"startlinecolor\": \"#2a3f5f\"}, \"type\": \"carpet\"}], \"choropleth\": [{\"colorbar\": {\"outlinewidth\": 0, \"ticks\": \"\"}, \"type\": \"choropleth\"}], \"contour\": [{\"colorbar\": {\"outlinewidth\": 0, \"ticks\": \"\"}, \"colorscale\": [[0.0, \"#0d0887\"], [0.1111111111111111, \"#46039f\"], [0.2222222222222222, \"#7201a8\"], [0.3333333333333333, \"#9c179e\"], [0.4444444444444444, \"#bd3786\"], [0.5555555555555556, \"#d8576b\"], [0.6666666666666666, \"#ed7953\"], [0.7777777777777778, \"#fb9f3a\"], [0.8888888888888888, \"#fdca26\"], [1.0, \"#f0f921\"]], \"type\": \"contour\"}], \"contourcarpet\": [{\"colorbar\": {\"outlinewidth\": 0, \"ticks\": \"\"}, \"type\": \"contourcarpet\"}], \"heatmap\": [{\"colorbar\": {\"outlinewidth\": 0, \"ticks\": \"\"}, \"colorscale\": [[0.0, \"#0d0887\"], [0.1111111111111111, \"#46039f\"], [0.2222222222222222, \"#7201a8\"], [0.3333333333333333, \"#9c179e\"], [0.4444444444444444, \"#bd3786\"], [0.5555555555555556, \"#d8576b\"], [0.6666666666666666, \"#ed7953\"], [0.7777777777777778, \"#fb9f3a\"], [0.8888888888888888, \"#fdca26\"], [1.0, \"#f0f921\"]], \"type\": \"heatmap\"}], \"heatmapgl\": [{\"colorbar\": {\"outlinewidth\": 0, \"ticks\": \"\"}, \"colorscale\": [[0.0, \"#0d0887\"], [0.1111111111111111, \"#46039f\"], [0.2222222222222222, \"#7201a8\"], [0.3333333333333333, \"#9c179e\"], [0.4444444444444444, \"#bd3786\"], [0.5555555555555556, \"#d8576b\"], [0.6666666666666666, \"#ed7953\"], [0.7777777777777778, \"#fb9f3a\"], [0.8888888888888888, \"#fdca26\"], [1.0, \"#f0f921\"]], \"type\": \"heatmapgl\"}], \"histogram\": [{\"marker\": {\"colorbar\": {\"outlinewidth\": 0, \"ticks\": \"\"}}, \"type\": \"histogram\"}], \"histogram2d\": [{\"colorbar\": {\"outlinewidth\": 0, \"ticks\": \"\"}, \"colorscale\": [[0.0, \"#0d0887\"], [0.1111111111111111, \"#46039f\"], [0.2222222222222222, \"#7201a8\"], [0.3333333333333333, \"#9c179e\"], [0.4444444444444444, \"#bd3786\"], [0.5555555555555556, \"#d8576b\"], [0.6666666666666666, \"#ed7953\"], [0.7777777777777778, \"#fb9f3a\"], [0.8888888888888888, \"#fdca26\"], [1.0, \"#f0f921\"]], \"type\": \"histogram2d\"}], \"histogram2dcontour\": [{\"colorbar\": {\"outlinewidth\": 0, \"ticks\": \"\"}, \"colorscale\": [[0.0, \"#0d0887\"], [0.1111111111111111, \"#46039f\"], [0.2222222222222222, \"#7201a8\"], [0.3333333333333333, \"#9c179e\"], [0.4444444444444444, \"#bd3786\"], [0.5555555555555556, \"#d8576b\"], [0.6666666666666666, \"#ed7953\"], [0.7777777777777778, \"#fb9f3a\"], [0.8888888888888888, \"#fdca26\"], [1.0, \"#f0f921\"]], \"type\": \"histogram2dcontour\"}], \"mesh3d\": [{\"colorbar\": {\"outlinewidth\": 0, \"ticks\": \"\"}, \"type\": \"mesh3d\"}], \"parcoords\": [{\"line\": {\"colorbar\": {\"outlinewidth\": 0, \"ticks\": \"\"}}, \"type\": \"parcoords\"}], \"pie\": [{\"automargin\": true, \"type\": \"pie\"}], \"scatter\": [{\"marker\": {\"colorbar\": {\"outlinewidth\": 0, \"ticks\": \"\"}}, \"type\": \"scatter\"}], \"scatter3d\": [{\"line\": {\"colorbar\": {\"outlinewidth\": 0, \"ticks\": \"\"}}, \"marker\": {\"colorbar\": {\"outlinewidth\": 0, \"ticks\": \"\"}}, \"type\": \"scatter3d\"}], \"scattercarpet\": [{\"marker\": {\"colorbar\": {\"outlinewidth\": 0, \"ticks\": \"\"}}, \"type\": \"scattercarpet\"}], \"scattergeo\": [{\"marker\": {\"colorbar\": {\"outlinewidth\": 0, \"ticks\": \"\"}}, \"type\": \"scattergeo\"}], \"scattergl\": [{\"marker\": {\"colorbar\": {\"outlinewidth\": 0, \"ticks\": \"\"}}, \"type\": \"scattergl\"}], \"scattermapbox\": [{\"marker\": {\"colorbar\": {\"outlinewidth\": 0, \"ticks\": \"\"}}, \"type\": \"scattermapbox\"}], \"scatterpolar\": [{\"marker\": {\"colorbar\": {\"outlinewidth\": 0, \"ticks\": \"\"}}, \"type\": \"scatterpolar\"}], \"scatterpolargl\": [{\"marker\": {\"colorbar\": {\"outlinewidth\": 0, \"ticks\": \"\"}}, \"type\": \"scatterpolargl\"}], \"scatterternary\": [{\"marker\": {\"colorbar\": {\"outlinewidth\": 0, \"ticks\": \"\"}}, \"type\": \"scatterternary\"}], \"surface\": [{\"colorbar\": {\"outlinewidth\": 0, \"ticks\": \"\"}, \"colorscale\": [[0.0, \"#0d0887\"], [0.1111111111111111, \"#46039f\"], [0.2222222222222222, \"#7201a8\"], [0.3333333333333333, \"#9c179e\"], [0.4444444444444444, \"#bd3786\"], [0.5555555555555556, \"#d8576b\"], [0.6666666666666666, \"#ed7953\"], [0.7777777777777778, \"#fb9f3a\"], [0.8888888888888888, \"#fdca26\"], [1.0, \"#f0f921\"]], \"type\": \"surface\"}], \"table\": [{\"cells\": {\"fill\": {\"color\": \"#EBF0F8\"}, \"line\": {\"color\": \"white\"}}, \"header\": {\"fill\": {\"color\": \"#C8D4E3\"}, \"line\": {\"color\": \"white\"}}, \"type\": \"table\"}]}, \"layout\": {\"annotationdefaults\": {\"arrowcolor\": \"#2a3f5f\", \"arrowhead\": 0, \"arrowwidth\": 1}, \"autotypenumbers\": \"strict\", \"coloraxis\": {\"colorbar\": {\"outlinewidth\": 0, \"ticks\": \"\"}}, \"colorscale\": {\"diverging\": [[0, \"#8e0152\"], [0.1, \"#c51b7d\"], [0.2, \"#de77ae\"], [0.3, \"#f1b6da\"], [0.4, \"#fde0ef\"], [0.5, \"#f7f7f7\"], [0.6, \"#e6f5d0\"], [0.7, \"#b8e186\"], [0.8, \"#7fbc41\"], [0.9, \"#4d9221\"], [1, \"#276419\"]], \"sequential\": [[0.0, \"#0d0887\"], [0.1111111111111111, \"#46039f\"], [0.2222222222222222, \"#7201a8\"], [0.3333333333333333, \"#9c179e\"], [0.4444444444444444, \"#bd3786\"], [0.5555555555555556, \"#d8576b\"], [0.6666666666666666, \"#ed7953\"], [0.7777777777777778, \"#fb9f3a\"], [0.8888888888888888, \"#fdca26\"], [1.0, \"#f0f921\"]], \"sequentialminus\": [[0.0, \"#0d0887\"], [0.1111111111111111, \"#46039f\"], [0.2222222222222222, \"#7201a8\"], [0.3333333333333333, \"#9c179e\"], [0.4444444444444444, \"#bd3786\"], [0.5555555555555556, \"#d8576b\"], [0.6666666666666666, \"#ed7953\"], [0.7777777777777778, \"#fb9f3a\"], [0.8888888888888888, \"#fdca26\"], [1.0, \"#f0f921\"]]}, \"colorway\": [\"#636efa\", \"#EF553B\", \"#00cc96\", \"#ab63fa\", \"#FFA15A\", \"#19d3f3\", \"#FF6692\", \"#B6E880\", \"#FF97FF\", \"#FECB52\"], \"font\": {\"color\": \"#2a3f5f\"}, \"geo\": {\"bgcolor\": \"white\", \"lakecolor\": \"white\", \"landcolor\": \"#E5ECF6\", \"showlakes\": true, \"showland\": true, \"subunitcolor\": \"white\"}, \"hoverlabel\": {\"align\": \"left\"}, \"hovermode\": \"closest\", \"mapbox\": {\"style\": \"light\"}, \"paper_bgcolor\": \"white\", \"plot_bgcolor\": \"#E5ECF6\", \"polar\": {\"angularaxis\": {\"gridcolor\": \"white\", \"linecolor\": \"white\", \"ticks\": \"\"}, \"bgcolor\": \"#E5ECF6\", \"radialaxis\": {\"gridcolor\": \"white\", \"linecolor\": \"white\", \"ticks\": \"\"}}, \"scene\": {\"xaxis\": {\"backgroundcolor\": \"#E5ECF6\", \"gridcolor\": \"white\", \"gridwidth\": 2, \"linecolor\": \"white\", \"showbackground\": true, \"ticks\": \"\", \"zerolinecolor\": \"white\"}, \"yaxis\": {\"backgroundcolor\": \"#E5ECF6\", \"gridcolor\": \"white\", \"gridwidth\": 2, \"linecolor\": \"white\", \"showbackground\": true, \"ticks\": \"\", \"zerolinecolor\": \"white\"}, \"zaxis\": {\"backgroundcolor\": \"#E5ECF6\", \"gridcolor\": \"white\", \"gridwidth\": 2, \"linecolor\": \"white\", \"showbackground\": true, \"ticks\": \"\", \"zerolinecolor\": \"white\"}}, \"shapedefaults\": {\"line\": {\"color\": \"#2a3f5f\"}}, \"ternary\": {\"aaxis\": {\"gridcolor\": \"white\", \"linecolor\": \"white\", \"ticks\": \"\"}, \"baxis\": {\"gridcolor\": \"white\", \"linecolor\": \"white\", \"ticks\": \"\"}, \"bgcolor\": \"#E5ECF6\", \"caxis\": {\"gridcolor\": \"white\", \"linecolor\": \"white\", \"ticks\": \"\"}}, \"title\": {\"x\": 0.05}, \"xaxis\": {\"automargin\": true, \"gridcolor\": \"white\", \"linecolor\": \"white\", \"ticks\": \"\", \"title\": {\"standoff\": 15}, \"zerolinecolor\": \"white\", \"zerolinewidth\": 2}, \"yaxis\": {\"automargin\": true, \"gridcolor\": \"white\", \"linecolor\": \"white\", \"ticks\": \"\", \"title\": {\"standoff\": 15}, \"zerolinecolor\": \"white\", \"zerolinewidth\": 2}}}, \"title\": {\"text\": \"Deaths COVID-19 cases per day in Brazil\"}, \"xaxis\": {\"anchor\": \"y\", \"domain\": [0.0, 1.0], \"title\": {\"text\": \"Date\"}}, \"yaxis\": {\"anchor\": \"x\", \"domain\": [0.0, 1.0], \"title\": {\"text\": \"Deaths\"}}},                        {\"responsive\": true}                    ).then(function(){\n",
       "                            \n",
       "var gd = document.getElementById('cc29b8a5-3dcf-46c4-bfb4-c95c70bb5f63');\n",
       "var x = new MutationObserver(function (mutations, observer) {{\n",
       "        var display = window.getComputedStyle(gd).display;\n",
       "        if (!display || display === 'none') {{\n",
       "            console.log([gd, 'removed!']);\n",
       "            Plotly.purge(gd);\n",
       "            observer.disconnect();\n",
       "        }}\n",
       "}});\n",
       "\n",
       "// Listen for the removal of the full notebook cells\n",
       "var notebookContainer = gd.closest('#notebook-container');\n",
       "if (notebookContainer) {{\n",
       "    x.observe(notebookContainer, {childList: true});\n",
       "}}\n",
       "\n",
       "// Listen for the clearing of the current output cell\n",
       "var outputEl = gd.closest('.output');\n",
       "if (outputEl) {{\n",
       "    x.observe(outputEl, {childList: true});\n",
       "}}\n",
       "\n",
       "                        })                };                });            </script>        </div>"
      ]
     },
     "metadata": {},
     "output_type": "display_data"
    }
   ],
   "source": [
    "df_by_date = pd.DataFrame(data.fillna('NA').groupby(['Country','Date'])['Deaths'].sum().sort_values().reset_index())\n",
    "\n",
    "fig = px.bar(df_by_date.loc[(df_by_date['Country'] == 'Brazil') &(df_by_date.Date >= '2020-01-22')].sort_values('Deaths',ascending = False), \n",
    "             x='Date', y='Deaths', color=\"Deaths\", color_continuous_scale=px.colors.sequential.BuGn)\n",
    "fig.update_layout(title_text='Deaths COVID-19 cases per day in Brazil')\n",
    "fig.show()"
   ]
  },
  {
   "cell_type": "markdown",
   "metadata": {},
   "source": [
    "##### The Death rate in Brazil reached 160K at the end of November."
   ]
  },
  {
   "cell_type": "markdown",
   "metadata": {},
   "source": [
    "# Deaths COVID-19 cases per day in France"
   ]
  },
  {
   "cell_type": "code",
   "execution_count": 27,
   "metadata": {},
   "outputs": [
    {
     "data": {
      "application/vnd.plotly.v1+json": {
       "config": {
        "plotlyServerURL": "https://plot.ly"
       },
       "data": [
        {
         "alignmentgroup": "True",
         "hovertemplate": "Date=%{x}<br>Deaths=%{marker.color}<extra></extra>",
         "legendgroup": "",
         "marker": {
          "color": [
           52410,
           52212,
           51999,
           51041,
           50700,
           50324,
           49312,
           48807,
           48593,
           48341,
           47201,
           46772,
           46346,
           45122,
           44613,
           44311,
           43957,
           43024,
           42599,
           42271,
           41048,
           40490,
           40220,
           39916,
           39088,
           38728,
           37915,
           37485,
           37057,
           36826,
           36605,
           36058,
           35823,
           35582,
           35052,
           34536,
           34536,
           34536,
           34237,
           34075,
           33928,
           33647,
           33325,
           33325,
           33325,
           33146,
           33058,
           32982,
           32703,
           32601,
           32601,
           32601,
           32539,
           32463,
           32383,
           32317,
           32171,
           32171,
           32171,
           32034,
           31986,
           31908,
           31744,
           31675,
           31675,
           31675,
           31524,
           31447,
           31426,
           31346,
           31257,
           31257,
           31257,
           31103,
           31056,
           31007,
           30958,
           30903,
           30902,
           30901,
           30819,
           30805,
           30770,
           30732,
           30730,
           30730,
           30730,
           30712,
           30692,
           30666,
           30640,
           30611,
           30601,
           30601,
           30581,
           30549,
           30549,
           30533,
           30518,
           30517,
           30508,
           30434,
           30434,
           30434,
           30434,
           30410,
           30410,
           30410,
           30392,
           30375,
           30328,
           30327,
           30327,
           30327,
           30327,
           30308,
           30297,
           30297,
           30268,
           30268,
           30268,
           30268,
           30241,
           30226,
           30226,
           30212,
           30195,
           30195,
           30195,
           30185,
           30180,
           30175,
           30168,
           30155,
           30155,
           30155,
           30141,
           30123,
           30032,
           30032,
           30007,
           30007,
           30007,
           29982,
           29936,
           29936,
           29923,
           29896,
           29896,
           29896,
           29878,
           29864,
           29846,
           29816,
           29781,
           29781,
           29781,
           29755,
           29734,
           29723,
           29666,
           29643,
           29636,
           29620,
           29606,
           29578,
           29550,
           29439,
           29410,
           29401,
           29377,
           29349,
           29322,
           29299,
           29212,
           29158,
           29145,
           29114,
           29068,
           29024,
           28943,
           28836,
           28805,
           28774,
           28717,
           28665,
           28599,
           28533,
           28460,
           28370,
           28335,
           28292,
           28242,
           28218,
           28135,
           28111,
           28025,
           27532,
           27532,
           27428,
           27077,
           26994,
           26646,
           26383,
           26313,
           26233,
           25990,
           25812,
           25537,
           25204,
           24900,
           24763,
           24597,
           24379,
           24090,
           23663,
           23296,
           22859,
           22617,
           22248,
           21858,
           21342,
           20798,
           20267,
           19720,
           19325,
           18683,
           17922,
           17169,
           15731,
           14986,
           14412,
           13851,
           13215,
           12228,
           10887,
           10343,
           8926,
           8093,
           7574,
           6520,
           5398,
           4414,
           3532,
           3030,
           2611,
           2317,
           1997,
           1698,
           1333,
           1102,
           862,
           676,
           563,
           451,
           244,
           149,
           149,
           149,
           91,
           91,
           79,
           48,
           48,
           33,
           19,
           19,
           11,
           9,
           6,
           4,
           4,
           3,
           2,
           2,
           2,
           2,
           2,
           1,
           1,
           1,
           1,
           1,
           1,
           1,
           1,
           1,
           1,
           1,
           0,
           0,
           0,
           0,
           0,
           0,
           0,
           0,
           0,
           0,
           0,
           0,
           0,
           0,
           0,
           0,
           0,
           0,
           0,
           0,
           0,
           0,
           0,
           0
          ],
          "coloraxis": "coloraxis"
         },
         "name": "",
         "offsetgroup": "",
         "orientation": "v",
         "showlegend": false,
         "textposition": "auto",
         "type": "bar",
         "x": [
          "2020-11-29",
          "2020-11-28",
          "2020-11-27",
          "2020-11-26",
          "2020-11-25",
          "2020-11-24",
          "2020-11-23",
          "2020-11-22",
          "2020-11-21",
          "2020-11-20",
          "2020-11-19",
          "2020-11-18",
          "2020-11-17",
          "2020-11-16",
          "2020-11-15",
          "2020-11-14",
          "2020-11-13",
          "2020-11-12",
          "2020-11-11",
          "2020-11-10",
          "2020-11-09",
          "2020-11-08",
          "2020-11-07",
          "2020-11-06",
          "2020-11-05",
          "2020-11-04",
          "2020-11-03",
          "2020-11-02",
          "2020-11-01",
          "2020-10-31",
          "2020-10-30",
          "2020-10-29",
          "2020-10-28",
          "2020-10-27",
          "2020-10-26",
          "2020-10-24",
          "2020-10-25",
          "2020-10-23",
          "2020-10-22",
          "2020-10-21",
          "2020-10-20",
          "2020-10-19",
          "2020-10-18",
          "2020-10-17",
          "2020-10-16",
          "2020-10-15",
          "2020-10-14",
          "2020-10-13",
          "2020-10-12",
          "2020-10-11",
          "2020-10-10",
          "2020-10-09",
          "2020-10-08",
          "2020-10-07",
          "2020-10-06",
          "2020-10-05",
          "2020-10-03",
          "2020-10-04",
          "2020-10-02",
          "2020-10-01",
          "2020-09-30",
          "2020-09-29",
          "2020-09-28",
          "2020-09-27",
          "2020-09-26",
          "2020-09-25",
          "2020-09-24",
          "2020-09-23",
          "2020-09-22",
          "2020-09-21",
          "2020-09-18",
          "2020-09-20",
          "2020-09-19",
          "2020-09-17",
          "2020-09-16",
          "2020-09-15",
          "2020-09-14",
          "2020-09-13",
          "2020-09-12",
          "2020-09-11",
          "2020-09-10",
          "2020-09-09",
          "2020-09-08",
          "2020-09-07",
          "2020-09-06",
          "2020-09-05",
          "2020-09-04",
          "2020-09-03",
          "2020-09-02",
          "2020-09-01",
          "2020-08-31",
          "2020-08-30",
          "2020-08-28",
          "2020-08-29",
          "2020-08-27",
          "2020-08-26",
          "2020-08-25",
          "2020-08-24",
          "2020-08-23",
          "2020-08-22",
          "2020-08-21",
          "2020-08-17",
          "2020-08-18",
          "2020-08-20",
          "2020-08-19",
          "2020-08-16",
          "2020-08-15",
          "2020-08-14",
          "2020-08-13",
          "2020-08-12",
          "2020-08-11",
          "2020-08-08",
          "2020-08-10",
          "2020-08-07",
          "2020-08-09",
          "2020-08-06",
          "2020-08-05",
          "2020-08-04",
          "2020-08-02",
          "2020-08-01",
          "2020-07-31",
          "2020-08-03",
          "2020-07-30",
          "2020-07-29",
          "2020-07-28",
          "2020-07-27",
          "2020-07-26",
          "2020-07-25",
          "2020-07-24",
          "2020-07-23",
          "2020-07-20",
          "2020-07-22",
          "2020-07-21",
          "2020-07-18",
          "2020-07-17",
          "2020-07-19",
          "2020-07-16",
          "2020-07-15",
          "2020-07-14",
          "2020-07-13",
          "2020-07-10",
          "2020-07-12",
          "2020-07-11",
          "2020-07-09",
          "2020-07-07",
          "2020-07-08",
          "2020-07-06",
          "2020-07-03",
          "2020-07-05",
          "2020-07-04",
          "2020-07-02",
          "2020-07-01",
          "2020-06-30",
          "2020-06-29",
          "2020-06-27",
          "2020-06-26",
          "2020-06-28",
          "2020-06-25",
          "2020-06-24",
          "2020-06-23",
          "2020-06-22",
          "2020-06-21",
          "2020-06-20",
          "2020-06-19",
          "2020-06-18",
          "2020-06-17",
          "2020-06-16",
          "2020-06-15",
          "2020-06-14",
          "2020-06-13",
          "2020-06-12",
          "2020-06-11",
          "2020-06-10",
          "2020-06-09",
          "2020-06-08",
          "2020-06-07",
          "2020-06-06",
          "2020-06-05",
          "2020-06-04",
          "2020-06-03",
          "2020-06-02",
          "2020-06-01",
          "2020-05-31",
          "2020-05-30",
          "2020-05-29",
          "2020-05-28",
          "2020-05-27",
          "2020-05-26",
          "2020-05-25",
          "2020-05-24",
          "2020-05-23",
          "2020-05-22",
          "2020-05-18",
          "2020-05-21",
          "2020-05-20",
          "2020-05-17",
          "2020-05-19",
          "2020-05-16",
          "2020-05-15",
          "2020-05-14",
          "2020-05-13",
          "2020-05-12",
          "2020-05-11",
          "2020-05-10",
          "2020-05-09",
          "2020-05-08",
          "2020-05-07",
          "2020-05-06",
          "2020-05-05",
          "2020-05-04",
          "2020-05-03",
          "2020-05-02",
          "2020-05-01",
          "2020-04-30",
          "2020-04-29",
          "2020-04-28",
          "2020-04-27",
          "2020-04-26",
          "2020-04-25",
          "2020-04-24",
          "2020-04-23",
          "2020-04-22",
          "2020-04-21",
          "2020-04-20",
          "2020-04-19",
          "2020-04-18",
          "2020-04-17",
          "2020-04-16",
          "2020-04-15",
          "2020-04-14",
          "2020-04-13",
          "2020-04-12",
          "2020-04-11",
          "2020-04-10",
          "2020-04-09",
          "2020-04-08",
          "2020-04-07",
          "2020-04-06",
          "2020-04-05",
          "2020-04-04",
          "2020-04-03",
          "2020-04-02",
          "2020-04-01",
          "2020-03-31",
          "2020-03-30",
          "2020-03-29",
          "2020-03-28",
          "2020-03-27",
          "2020-03-26",
          "2020-03-25",
          "2020-03-24",
          "2020-03-23",
          "2020-03-22",
          "2020-03-21",
          "2020-03-20",
          "2020-03-19",
          "2020-03-18",
          "2020-03-17",
          "2020-03-16",
          "2020-03-15",
          "2020-03-14",
          "2020-03-13",
          "2020-03-11",
          "2020-03-12",
          "2020-03-10",
          "2020-03-09",
          "2020-03-08",
          "2020-03-07",
          "2020-03-06",
          "2020-03-05",
          "2020-03-03",
          "2020-03-04",
          "2020-03-02",
          "2020-02-27",
          "2020-03-01",
          "2020-02-29",
          "2020-02-28",
          "2020-02-26",
          "2020-02-19",
          "2020-02-16",
          "2020-02-22",
          "2020-02-15",
          "2020-02-20",
          "2020-02-18",
          "2020-02-21",
          "2020-02-17",
          "2020-02-25",
          "2020-02-24",
          "2020-02-23",
          "2020-01-26",
          "2020-01-27",
          "2020-01-29",
          "2020-02-05",
          "2020-01-28",
          "2020-01-23",
          "2020-01-30",
          "2020-01-31",
          "2020-02-01",
          "2020-02-02",
          "2020-01-25",
          "2020-02-03",
          "2020-01-22",
          "2020-01-24",
          "2020-02-06",
          "2020-02-07",
          "2020-02-08",
          "2020-02-14",
          "2020-02-13",
          "2020-02-12",
          "2020-02-11",
          "2020-02-10",
          "2020-02-09",
          "2020-02-04"
         ],
         "xaxis": "x",
         "y": [
          52410,
          52212,
          51999,
          51041,
          50700,
          50324,
          49312,
          48807,
          48593,
          48341,
          47201,
          46772,
          46346,
          45122,
          44613,
          44311,
          43957,
          43024,
          42599,
          42271,
          41048,
          40490,
          40220,
          39916,
          39088,
          38728,
          37915,
          37485,
          37057,
          36826,
          36605,
          36058,
          35823,
          35582,
          35052,
          34536,
          34536,
          34536,
          34237,
          34075,
          33928,
          33647,
          33325,
          33325,
          33325,
          33146,
          33058,
          32982,
          32703,
          32601,
          32601,
          32601,
          32539,
          32463,
          32383,
          32317,
          32171,
          32171,
          32171,
          32034,
          31986,
          31908,
          31744,
          31675,
          31675,
          31675,
          31524,
          31447,
          31426,
          31346,
          31257,
          31257,
          31257,
          31103,
          31056,
          31007,
          30958,
          30903,
          30902,
          30901,
          30819,
          30805,
          30770,
          30732,
          30730,
          30730,
          30730,
          30712,
          30692,
          30666,
          30640,
          30611,
          30601,
          30601,
          30581,
          30549,
          30549,
          30533,
          30518,
          30517,
          30508,
          30434,
          30434,
          30434,
          30434,
          30410,
          30410,
          30410,
          30392,
          30375,
          30328,
          30327,
          30327,
          30327,
          30327,
          30308,
          30297,
          30297,
          30268,
          30268,
          30268,
          30268,
          30241,
          30226,
          30226,
          30212,
          30195,
          30195,
          30195,
          30185,
          30180,
          30175,
          30168,
          30155,
          30155,
          30155,
          30141,
          30123,
          30032,
          30032,
          30007,
          30007,
          30007,
          29982,
          29936,
          29936,
          29923,
          29896,
          29896,
          29896,
          29878,
          29864,
          29846,
          29816,
          29781,
          29781,
          29781,
          29755,
          29734,
          29723,
          29666,
          29643,
          29636,
          29620,
          29606,
          29578,
          29550,
          29439,
          29410,
          29401,
          29377,
          29349,
          29322,
          29299,
          29212,
          29158,
          29145,
          29114,
          29068,
          29024,
          28943,
          28836,
          28805,
          28774,
          28717,
          28665,
          28599,
          28533,
          28460,
          28370,
          28335,
          28292,
          28242,
          28218,
          28135,
          28111,
          28025,
          27532,
          27532,
          27428,
          27077,
          26994,
          26646,
          26383,
          26313,
          26233,
          25990,
          25812,
          25537,
          25204,
          24900,
          24763,
          24597,
          24379,
          24090,
          23663,
          23296,
          22859,
          22617,
          22248,
          21858,
          21342,
          20798,
          20267,
          19720,
          19325,
          18683,
          17922,
          17169,
          15731,
          14986,
          14412,
          13851,
          13215,
          12228,
          10887,
          10343,
          8926,
          8093,
          7574,
          6520,
          5398,
          4414,
          3532,
          3030,
          2611,
          2317,
          1997,
          1698,
          1333,
          1102,
          862,
          676,
          563,
          451,
          244,
          149,
          149,
          149,
          91,
          91,
          79,
          48,
          48,
          33,
          19,
          19,
          11,
          9,
          6,
          4,
          4,
          3,
          2,
          2,
          2,
          2,
          2,
          1,
          1,
          1,
          1,
          1,
          1,
          1,
          1,
          1,
          1,
          1,
          0,
          0,
          0,
          0,
          0,
          0,
          0,
          0,
          0,
          0,
          0,
          0,
          0,
          0,
          0,
          0,
          0,
          0,
          0,
          0,
          0,
          0,
          0,
          0
         ],
         "yaxis": "y"
        }
       ],
       "layout": {
        "barmode": "relative",
        "coloraxis": {
         "colorbar": {
          "title": {
           "text": "Deaths"
          }
         },
         "colorscale": [
          [
           0,
           "rgb(237, 229, 207)"
          ],
          [
           0.16666666666666666,
           "rgb(224, 194, 162)"
          ],
          [
           0.3333333333333333,
           "rgb(211, 156, 131)"
          ],
          [
           0.5,
           "rgb(193, 118, 111)"
          ],
          [
           0.6666666666666666,
           "rgb(166, 84, 97)"
          ],
          [
           0.8333333333333334,
           "rgb(129, 55, 83)"
          ],
          [
           1,
           "rgb(84, 31, 63)"
          ]
         ]
        },
        "legend": {
         "tracegroupgap": 0
        },
        "margin": {
         "t": 60
        },
        "template": {
         "data": {
          "bar": [
           {
            "error_x": {
             "color": "#2a3f5f"
            },
            "error_y": {
             "color": "#2a3f5f"
            },
            "marker": {
             "line": {
              "color": "#E5ECF6",
              "width": 0.5
             }
            },
            "type": "bar"
           }
          ],
          "barpolar": [
           {
            "marker": {
             "line": {
              "color": "#E5ECF6",
              "width": 0.5
             }
            },
            "type": "barpolar"
           }
          ],
          "carpet": [
           {
            "aaxis": {
             "endlinecolor": "#2a3f5f",
             "gridcolor": "white",
             "linecolor": "white",
             "minorgridcolor": "white",
             "startlinecolor": "#2a3f5f"
            },
            "baxis": {
             "endlinecolor": "#2a3f5f",
             "gridcolor": "white",
             "linecolor": "white",
             "minorgridcolor": "white",
             "startlinecolor": "#2a3f5f"
            },
            "type": "carpet"
           }
          ],
          "choropleth": [
           {
            "colorbar": {
             "outlinewidth": 0,
             "ticks": ""
            },
            "type": "choropleth"
           }
          ],
          "contour": [
           {
            "colorbar": {
             "outlinewidth": 0,
             "ticks": ""
            },
            "colorscale": [
             [
              0,
              "#0d0887"
             ],
             [
              0.1111111111111111,
              "#46039f"
             ],
             [
              0.2222222222222222,
              "#7201a8"
             ],
             [
              0.3333333333333333,
              "#9c179e"
             ],
             [
              0.4444444444444444,
              "#bd3786"
             ],
             [
              0.5555555555555556,
              "#d8576b"
             ],
             [
              0.6666666666666666,
              "#ed7953"
             ],
             [
              0.7777777777777778,
              "#fb9f3a"
             ],
             [
              0.8888888888888888,
              "#fdca26"
             ],
             [
              1,
              "#f0f921"
             ]
            ],
            "type": "contour"
           }
          ],
          "contourcarpet": [
           {
            "colorbar": {
             "outlinewidth": 0,
             "ticks": ""
            },
            "type": "contourcarpet"
           }
          ],
          "heatmap": [
           {
            "colorbar": {
             "outlinewidth": 0,
             "ticks": ""
            },
            "colorscale": [
             [
              0,
              "#0d0887"
             ],
             [
              0.1111111111111111,
              "#46039f"
             ],
             [
              0.2222222222222222,
              "#7201a8"
             ],
             [
              0.3333333333333333,
              "#9c179e"
             ],
             [
              0.4444444444444444,
              "#bd3786"
             ],
             [
              0.5555555555555556,
              "#d8576b"
             ],
             [
              0.6666666666666666,
              "#ed7953"
             ],
             [
              0.7777777777777778,
              "#fb9f3a"
             ],
             [
              0.8888888888888888,
              "#fdca26"
             ],
             [
              1,
              "#f0f921"
             ]
            ],
            "type": "heatmap"
           }
          ],
          "heatmapgl": [
           {
            "colorbar": {
             "outlinewidth": 0,
             "ticks": ""
            },
            "colorscale": [
             [
              0,
              "#0d0887"
             ],
             [
              0.1111111111111111,
              "#46039f"
             ],
             [
              0.2222222222222222,
              "#7201a8"
             ],
             [
              0.3333333333333333,
              "#9c179e"
             ],
             [
              0.4444444444444444,
              "#bd3786"
             ],
             [
              0.5555555555555556,
              "#d8576b"
             ],
             [
              0.6666666666666666,
              "#ed7953"
             ],
             [
              0.7777777777777778,
              "#fb9f3a"
             ],
             [
              0.8888888888888888,
              "#fdca26"
             ],
             [
              1,
              "#f0f921"
             ]
            ],
            "type": "heatmapgl"
           }
          ],
          "histogram": [
           {
            "marker": {
             "colorbar": {
              "outlinewidth": 0,
              "ticks": ""
             }
            },
            "type": "histogram"
           }
          ],
          "histogram2d": [
           {
            "colorbar": {
             "outlinewidth": 0,
             "ticks": ""
            },
            "colorscale": [
             [
              0,
              "#0d0887"
             ],
             [
              0.1111111111111111,
              "#46039f"
             ],
             [
              0.2222222222222222,
              "#7201a8"
             ],
             [
              0.3333333333333333,
              "#9c179e"
             ],
             [
              0.4444444444444444,
              "#bd3786"
             ],
             [
              0.5555555555555556,
              "#d8576b"
             ],
             [
              0.6666666666666666,
              "#ed7953"
             ],
             [
              0.7777777777777778,
              "#fb9f3a"
             ],
             [
              0.8888888888888888,
              "#fdca26"
             ],
             [
              1,
              "#f0f921"
             ]
            ],
            "type": "histogram2d"
           }
          ],
          "histogram2dcontour": [
           {
            "colorbar": {
             "outlinewidth": 0,
             "ticks": ""
            },
            "colorscale": [
             [
              0,
              "#0d0887"
             ],
             [
              0.1111111111111111,
              "#46039f"
             ],
             [
              0.2222222222222222,
              "#7201a8"
             ],
             [
              0.3333333333333333,
              "#9c179e"
             ],
             [
              0.4444444444444444,
              "#bd3786"
             ],
             [
              0.5555555555555556,
              "#d8576b"
             ],
             [
              0.6666666666666666,
              "#ed7953"
             ],
             [
              0.7777777777777778,
              "#fb9f3a"
             ],
             [
              0.8888888888888888,
              "#fdca26"
             ],
             [
              1,
              "#f0f921"
             ]
            ],
            "type": "histogram2dcontour"
           }
          ],
          "mesh3d": [
           {
            "colorbar": {
             "outlinewidth": 0,
             "ticks": ""
            },
            "type": "mesh3d"
           }
          ],
          "parcoords": [
           {
            "line": {
             "colorbar": {
              "outlinewidth": 0,
              "ticks": ""
             }
            },
            "type": "parcoords"
           }
          ],
          "pie": [
           {
            "automargin": true,
            "type": "pie"
           }
          ],
          "scatter": [
           {
            "marker": {
             "colorbar": {
              "outlinewidth": 0,
              "ticks": ""
             }
            },
            "type": "scatter"
           }
          ],
          "scatter3d": [
           {
            "line": {
             "colorbar": {
              "outlinewidth": 0,
              "ticks": ""
             }
            },
            "marker": {
             "colorbar": {
              "outlinewidth": 0,
              "ticks": ""
             }
            },
            "type": "scatter3d"
           }
          ],
          "scattercarpet": [
           {
            "marker": {
             "colorbar": {
              "outlinewidth": 0,
              "ticks": ""
             }
            },
            "type": "scattercarpet"
           }
          ],
          "scattergeo": [
           {
            "marker": {
             "colorbar": {
              "outlinewidth": 0,
              "ticks": ""
             }
            },
            "type": "scattergeo"
           }
          ],
          "scattergl": [
           {
            "marker": {
             "colorbar": {
              "outlinewidth": 0,
              "ticks": ""
             }
            },
            "type": "scattergl"
           }
          ],
          "scattermapbox": [
           {
            "marker": {
             "colorbar": {
              "outlinewidth": 0,
              "ticks": ""
             }
            },
            "type": "scattermapbox"
           }
          ],
          "scatterpolar": [
           {
            "marker": {
             "colorbar": {
              "outlinewidth": 0,
              "ticks": ""
             }
            },
            "type": "scatterpolar"
           }
          ],
          "scatterpolargl": [
           {
            "marker": {
             "colorbar": {
              "outlinewidth": 0,
              "ticks": ""
             }
            },
            "type": "scatterpolargl"
           }
          ],
          "scatterternary": [
           {
            "marker": {
             "colorbar": {
              "outlinewidth": 0,
              "ticks": ""
             }
            },
            "type": "scatterternary"
           }
          ],
          "surface": [
           {
            "colorbar": {
             "outlinewidth": 0,
             "ticks": ""
            },
            "colorscale": [
             [
              0,
              "#0d0887"
             ],
             [
              0.1111111111111111,
              "#46039f"
             ],
             [
              0.2222222222222222,
              "#7201a8"
             ],
             [
              0.3333333333333333,
              "#9c179e"
             ],
             [
              0.4444444444444444,
              "#bd3786"
             ],
             [
              0.5555555555555556,
              "#d8576b"
             ],
             [
              0.6666666666666666,
              "#ed7953"
             ],
             [
              0.7777777777777778,
              "#fb9f3a"
             ],
             [
              0.8888888888888888,
              "#fdca26"
             ],
             [
              1,
              "#f0f921"
             ]
            ],
            "type": "surface"
           }
          ],
          "table": [
           {
            "cells": {
             "fill": {
              "color": "#EBF0F8"
             },
             "line": {
              "color": "white"
             }
            },
            "header": {
             "fill": {
              "color": "#C8D4E3"
             },
             "line": {
              "color": "white"
             }
            },
            "type": "table"
           }
          ]
         },
         "layout": {
          "annotationdefaults": {
           "arrowcolor": "#2a3f5f",
           "arrowhead": 0,
           "arrowwidth": 1
          },
          "autotypenumbers": "strict",
          "coloraxis": {
           "colorbar": {
            "outlinewidth": 0,
            "ticks": ""
           }
          },
          "colorscale": {
           "diverging": [
            [
             0,
             "#8e0152"
            ],
            [
             0.1,
             "#c51b7d"
            ],
            [
             0.2,
             "#de77ae"
            ],
            [
             0.3,
             "#f1b6da"
            ],
            [
             0.4,
             "#fde0ef"
            ],
            [
             0.5,
             "#f7f7f7"
            ],
            [
             0.6,
             "#e6f5d0"
            ],
            [
             0.7,
             "#b8e186"
            ],
            [
             0.8,
             "#7fbc41"
            ],
            [
             0.9,
             "#4d9221"
            ],
            [
             1,
             "#276419"
            ]
           ],
           "sequential": [
            [
             0,
             "#0d0887"
            ],
            [
             0.1111111111111111,
             "#46039f"
            ],
            [
             0.2222222222222222,
             "#7201a8"
            ],
            [
             0.3333333333333333,
             "#9c179e"
            ],
            [
             0.4444444444444444,
             "#bd3786"
            ],
            [
             0.5555555555555556,
             "#d8576b"
            ],
            [
             0.6666666666666666,
             "#ed7953"
            ],
            [
             0.7777777777777778,
             "#fb9f3a"
            ],
            [
             0.8888888888888888,
             "#fdca26"
            ],
            [
             1,
             "#f0f921"
            ]
           ],
           "sequentialminus": [
            [
             0,
             "#0d0887"
            ],
            [
             0.1111111111111111,
             "#46039f"
            ],
            [
             0.2222222222222222,
             "#7201a8"
            ],
            [
             0.3333333333333333,
             "#9c179e"
            ],
            [
             0.4444444444444444,
             "#bd3786"
            ],
            [
             0.5555555555555556,
             "#d8576b"
            ],
            [
             0.6666666666666666,
             "#ed7953"
            ],
            [
             0.7777777777777778,
             "#fb9f3a"
            ],
            [
             0.8888888888888888,
             "#fdca26"
            ],
            [
             1,
             "#f0f921"
            ]
           ]
          },
          "colorway": [
           "#636efa",
           "#EF553B",
           "#00cc96",
           "#ab63fa",
           "#FFA15A",
           "#19d3f3",
           "#FF6692",
           "#B6E880",
           "#FF97FF",
           "#FECB52"
          ],
          "font": {
           "color": "#2a3f5f"
          },
          "geo": {
           "bgcolor": "white",
           "lakecolor": "white",
           "landcolor": "#E5ECF6",
           "showlakes": true,
           "showland": true,
           "subunitcolor": "white"
          },
          "hoverlabel": {
           "align": "left"
          },
          "hovermode": "closest",
          "mapbox": {
           "style": "light"
          },
          "paper_bgcolor": "white",
          "plot_bgcolor": "#E5ECF6",
          "polar": {
           "angularaxis": {
            "gridcolor": "white",
            "linecolor": "white",
            "ticks": ""
           },
           "bgcolor": "#E5ECF6",
           "radialaxis": {
            "gridcolor": "white",
            "linecolor": "white",
            "ticks": ""
           }
          },
          "scene": {
           "xaxis": {
            "backgroundcolor": "#E5ECF6",
            "gridcolor": "white",
            "gridwidth": 2,
            "linecolor": "white",
            "showbackground": true,
            "ticks": "",
            "zerolinecolor": "white"
           },
           "yaxis": {
            "backgroundcolor": "#E5ECF6",
            "gridcolor": "white",
            "gridwidth": 2,
            "linecolor": "white",
            "showbackground": true,
            "ticks": "",
            "zerolinecolor": "white"
           },
           "zaxis": {
            "backgroundcolor": "#E5ECF6",
            "gridcolor": "white",
            "gridwidth": 2,
            "linecolor": "white",
            "showbackground": true,
            "ticks": "",
            "zerolinecolor": "white"
           }
          },
          "shapedefaults": {
           "line": {
            "color": "#2a3f5f"
           }
          },
          "ternary": {
           "aaxis": {
            "gridcolor": "white",
            "linecolor": "white",
            "ticks": ""
           },
           "baxis": {
            "gridcolor": "white",
            "linecolor": "white",
            "ticks": ""
           },
           "bgcolor": "#E5ECF6",
           "caxis": {
            "gridcolor": "white",
            "linecolor": "white",
            "ticks": ""
           }
          },
          "title": {
           "x": 0.05
          },
          "xaxis": {
           "automargin": true,
           "gridcolor": "white",
           "linecolor": "white",
           "ticks": "",
           "title": {
            "standoff": 15
           },
           "zerolinecolor": "white",
           "zerolinewidth": 2
          },
          "yaxis": {
           "automargin": true,
           "gridcolor": "white",
           "linecolor": "white",
           "ticks": "",
           "title": {
            "standoff": 15
           },
           "zerolinecolor": "white",
           "zerolinewidth": 2
          }
         }
        },
        "title": {
         "text": "Deaths COVID-19 cases per day in France"
        },
        "xaxis": {
         "anchor": "y",
         "domain": [
          0,
          1
         ],
         "title": {
          "text": "Date"
         }
        },
        "yaxis": {
         "anchor": "x",
         "domain": [
          0,
          1
         ],
         "title": {
          "text": "Deaths"
         }
        }
       }
      },
      "text/html": [
       "<div>                            <div id=\"ddced0a1-4c21-4f8b-92d4-10d33806cd29\" class=\"plotly-graph-div\" style=\"height:525px; width:100%;\"></div>            <script type=\"text/javascript\">                require([\"plotly\"], function(Plotly) {                    window.PLOTLYENV=window.PLOTLYENV || {};                                    if (document.getElementById(\"ddced0a1-4c21-4f8b-92d4-10d33806cd29\")) {                    Plotly.newPlot(                        \"ddced0a1-4c21-4f8b-92d4-10d33806cd29\",                        [{\"alignmentgroup\": \"True\", \"hovertemplate\": \"Date=%{x}<br>Deaths=%{marker.color}<extra></extra>\", \"legendgroup\": \"\", \"marker\": {\"color\": [52410, 52212, 51999, 51041, 50700, 50324, 49312, 48807, 48593, 48341, 47201, 46772, 46346, 45122, 44613, 44311, 43957, 43024, 42599, 42271, 41048, 40490, 40220, 39916, 39088, 38728, 37915, 37485, 37057, 36826, 36605, 36058, 35823, 35582, 35052, 34536, 34536, 34536, 34237, 34075, 33928, 33647, 33325, 33325, 33325, 33146, 33058, 32982, 32703, 32601, 32601, 32601, 32539, 32463, 32383, 32317, 32171, 32171, 32171, 32034, 31986, 31908, 31744, 31675, 31675, 31675, 31524, 31447, 31426, 31346, 31257, 31257, 31257, 31103, 31056, 31007, 30958, 30903, 30902, 30901, 30819, 30805, 30770, 30732, 30730, 30730, 30730, 30712, 30692, 30666, 30640, 30611, 30601, 30601, 30581, 30549, 30549, 30533, 30518, 30517, 30508, 30434, 30434, 30434, 30434, 30410, 30410, 30410, 30392, 30375, 30328, 30327, 30327, 30327, 30327, 30308, 30297, 30297, 30268, 30268, 30268, 30268, 30241, 30226, 30226, 30212, 30195, 30195, 30195, 30185, 30180, 30175, 30168, 30155, 30155, 30155, 30141, 30123, 30032, 30032, 30007, 30007, 30007, 29982, 29936, 29936, 29923, 29896, 29896, 29896, 29878, 29864, 29846, 29816, 29781, 29781, 29781, 29755, 29734, 29723, 29666, 29643, 29636, 29620, 29606, 29578, 29550, 29439, 29410, 29401, 29377, 29349, 29322, 29299, 29212, 29158, 29145, 29114, 29068, 29024, 28943, 28836, 28805, 28774, 28717, 28665, 28599, 28533, 28460, 28370, 28335, 28292, 28242, 28218, 28135, 28111, 28025, 27532, 27532, 27428, 27077, 26994, 26646, 26383, 26313, 26233, 25990, 25812, 25537, 25204, 24900, 24763, 24597, 24379, 24090, 23663, 23296, 22859, 22617, 22248, 21858, 21342, 20798, 20267, 19720, 19325, 18683, 17922, 17169, 15731, 14986, 14412, 13851, 13215, 12228, 10887, 10343, 8926, 8093, 7574, 6520, 5398, 4414, 3532, 3030, 2611, 2317, 1997, 1698, 1333, 1102, 862, 676, 563, 451, 244, 149, 149, 149, 91, 91, 79, 48, 48, 33, 19, 19, 11, 9, 6, 4, 4, 3, 2, 2, 2, 2, 2, 1, 1, 1, 1, 1, 1, 1, 1, 1, 1, 1, 0, 0, 0, 0, 0, 0, 0, 0, 0, 0, 0, 0, 0, 0, 0, 0, 0, 0, 0, 0, 0, 0, 0, 0], \"coloraxis\": \"coloraxis\"}, \"name\": \"\", \"offsetgroup\": \"\", \"orientation\": \"v\", \"showlegend\": false, \"textposition\": \"auto\", \"type\": \"bar\", \"x\": [\"2020-11-29\", \"2020-11-28\", \"2020-11-27\", \"2020-11-26\", \"2020-11-25\", \"2020-11-24\", \"2020-11-23\", \"2020-11-22\", \"2020-11-21\", \"2020-11-20\", \"2020-11-19\", \"2020-11-18\", \"2020-11-17\", \"2020-11-16\", \"2020-11-15\", \"2020-11-14\", \"2020-11-13\", \"2020-11-12\", \"2020-11-11\", \"2020-11-10\", \"2020-11-09\", \"2020-11-08\", \"2020-11-07\", \"2020-11-06\", \"2020-11-05\", \"2020-11-04\", \"2020-11-03\", \"2020-11-02\", \"2020-11-01\", \"2020-10-31\", \"2020-10-30\", \"2020-10-29\", \"2020-10-28\", \"2020-10-27\", \"2020-10-26\", \"2020-10-24\", \"2020-10-25\", \"2020-10-23\", \"2020-10-22\", \"2020-10-21\", \"2020-10-20\", \"2020-10-19\", \"2020-10-18\", \"2020-10-17\", \"2020-10-16\", \"2020-10-15\", \"2020-10-14\", \"2020-10-13\", \"2020-10-12\", \"2020-10-11\", \"2020-10-10\", \"2020-10-09\", \"2020-10-08\", \"2020-10-07\", \"2020-10-06\", \"2020-10-05\", \"2020-10-03\", \"2020-10-04\", \"2020-10-02\", \"2020-10-01\", \"2020-09-30\", \"2020-09-29\", \"2020-09-28\", \"2020-09-27\", \"2020-09-26\", \"2020-09-25\", \"2020-09-24\", \"2020-09-23\", \"2020-09-22\", \"2020-09-21\", \"2020-09-18\", \"2020-09-20\", \"2020-09-19\", \"2020-09-17\", \"2020-09-16\", \"2020-09-15\", \"2020-09-14\", \"2020-09-13\", \"2020-09-12\", \"2020-09-11\", \"2020-09-10\", \"2020-09-09\", \"2020-09-08\", \"2020-09-07\", \"2020-09-06\", \"2020-09-05\", \"2020-09-04\", \"2020-09-03\", \"2020-09-02\", \"2020-09-01\", \"2020-08-31\", \"2020-08-30\", \"2020-08-28\", \"2020-08-29\", \"2020-08-27\", \"2020-08-26\", \"2020-08-25\", \"2020-08-24\", \"2020-08-23\", \"2020-08-22\", \"2020-08-21\", \"2020-08-17\", \"2020-08-18\", \"2020-08-20\", \"2020-08-19\", \"2020-08-16\", \"2020-08-15\", \"2020-08-14\", \"2020-08-13\", \"2020-08-12\", \"2020-08-11\", \"2020-08-08\", \"2020-08-10\", \"2020-08-07\", \"2020-08-09\", \"2020-08-06\", \"2020-08-05\", \"2020-08-04\", \"2020-08-02\", \"2020-08-01\", \"2020-07-31\", \"2020-08-03\", \"2020-07-30\", \"2020-07-29\", \"2020-07-28\", \"2020-07-27\", \"2020-07-26\", \"2020-07-25\", \"2020-07-24\", \"2020-07-23\", \"2020-07-20\", \"2020-07-22\", \"2020-07-21\", \"2020-07-18\", \"2020-07-17\", \"2020-07-19\", \"2020-07-16\", \"2020-07-15\", \"2020-07-14\", \"2020-07-13\", \"2020-07-10\", \"2020-07-12\", \"2020-07-11\", \"2020-07-09\", \"2020-07-07\", \"2020-07-08\", \"2020-07-06\", \"2020-07-03\", \"2020-07-05\", \"2020-07-04\", \"2020-07-02\", \"2020-07-01\", \"2020-06-30\", \"2020-06-29\", \"2020-06-27\", \"2020-06-26\", \"2020-06-28\", \"2020-06-25\", \"2020-06-24\", \"2020-06-23\", \"2020-06-22\", \"2020-06-21\", \"2020-06-20\", \"2020-06-19\", \"2020-06-18\", \"2020-06-17\", \"2020-06-16\", \"2020-06-15\", \"2020-06-14\", \"2020-06-13\", \"2020-06-12\", \"2020-06-11\", \"2020-06-10\", \"2020-06-09\", \"2020-06-08\", \"2020-06-07\", \"2020-06-06\", \"2020-06-05\", \"2020-06-04\", \"2020-06-03\", \"2020-06-02\", \"2020-06-01\", \"2020-05-31\", \"2020-05-30\", \"2020-05-29\", \"2020-05-28\", \"2020-05-27\", \"2020-05-26\", \"2020-05-25\", \"2020-05-24\", \"2020-05-23\", \"2020-05-22\", \"2020-05-18\", \"2020-05-21\", \"2020-05-20\", \"2020-05-17\", \"2020-05-19\", \"2020-05-16\", \"2020-05-15\", \"2020-05-14\", \"2020-05-13\", \"2020-05-12\", \"2020-05-11\", \"2020-05-10\", \"2020-05-09\", \"2020-05-08\", \"2020-05-07\", \"2020-05-06\", \"2020-05-05\", \"2020-05-04\", \"2020-05-03\", \"2020-05-02\", \"2020-05-01\", \"2020-04-30\", \"2020-04-29\", \"2020-04-28\", \"2020-04-27\", \"2020-04-26\", \"2020-04-25\", \"2020-04-24\", \"2020-04-23\", \"2020-04-22\", \"2020-04-21\", \"2020-04-20\", \"2020-04-19\", \"2020-04-18\", \"2020-04-17\", \"2020-04-16\", \"2020-04-15\", \"2020-04-14\", \"2020-04-13\", \"2020-04-12\", \"2020-04-11\", \"2020-04-10\", \"2020-04-09\", \"2020-04-08\", \"2020-04-07\", \"2020-04-06\", \"2020-04-05\", \"2020-04-04\", \"2020-04-03\", \"2020-04-02\", \"2020-04-01\", \"2020-03-31\", \"2020-03-30\", \"2020-03-29\", \"2020-03-28\", \"2020-03-27\", \"2020-03-26\", \"2020-03-25\", \"2020-03-24\", \"2020-03-23\", \"2020-03-22\", \"2020-03-21\", \"2020-03-20\", \"2020-03-19\", \"2020-03-18\", \"2020-03-17\", \"2020-03-16\", \"2020-03-15\", \"2020-03-14\", \"2020-03-13\", \"2020-03-11\", \"2020-03-12\", \"2020-03-10\", \"2020-03-09\", \"2020-03-08\", \"2020-03-07\", \"2020-03-06\", \"2020-03-05\", \"2020-03-03\", \"2020-03-04\", \"2020-03-02\", \"2020-02-27\", \"2020-03-01\", \"2020-02-29\", \"2020-02-28\", \"2020-02-26\", \"2020-02-19\", \"2020-02-16\", \"2020-02-22\", \"2020-02-15\", \"2020-02-20\", \"2020-02-18\", \"2020-02-21\", \"2020-02-17\", \"2020-02-25\", \"2020-02-24\", \"2020-02-23\", \"2020-01-26\", \"2020-01-27\", \"2020-01-29\", \"2020-02-05\", \"2020-01-28\", \"2020-01-23\", \"2020-01-30\", \"2020-01-31\", \"2020-02-01\", \"2020-02-02\", \"2020-01-25\", \"2020-02-03\", \"2020-01-22\", \"2020-01-24\", \"2020-02-06\", \"2020-02-07\", \"2020-02-08\", \"2020-02-14\", \"2020-02-13\", \"2020-02-12\", \"2020-02-11\", \"2020-02-10\", \"2020-02-09\", \"2020-02-04\"], \"xaxis\": \"x\", \"y\": [52410, 52212, 51999, 51041, 50700, 50324, 49312, 48807, 48593, 48341, 47201, 46772, 46346, 45122, 44613, 44311, 43957, 43024, 42599, 42271, 41048, 40490, 40220, 39916, 39088, 38728, 37915, 37485, 37057, 36826, 36605, 36058, 35823, 35582, 35052, 34536, 34536, 34536, 34237, 34075, 33928, 33647, 33325, 33325, 33325, 33146, 33058, 32982, 32703, 32601, 32601, 32601, 32539, 32463, 32383, 32317, 32171, 32171, 32171, 32034, 31986, 31908, 31744, 31675, 31675, 31675, 31524, 31447, 31426, 31346, 31257, 31257, 31257, 31103, 31056, 31007, 30958, 30903, 30902, 30901, 30819, 30805, 30770, 30732, 30730, 30730, 30730, 30712, 30692, 30666, 30640, 30611, 30601, 30601, 30581, 30549, 30549, 30533, 30518, 30517, 30508, 30434, 30434, 30434, 30434, 30410, 30410, 30410, 30392, 30375, 30328, 30327, 30327, 30327, 30327, 30308, 30297, 30297, 30268, 30268, 30268, 30268, 30241, 30226, 30226, 30212, 30195, 30195, 30195, 30185, 30180, 30175, 30168, 30155, 30155, 30155, 30141, 30123, 30032, 30032, 30007, 30007, 30007, 29982, 29936, 29936, 29923, 29896, 29896, 29896, 29878, 29864, 29846, 29816, 29781, 29781, 29781, 29755, 29734, 29723, 29666, 29643, 29636, 29620, 29606, 29578, 29550, 29439, 29410, 29401, 29377, 29349, 29322, 29299, 29212, 29158, 29145, 29114, 29068, 29024, 28943, 28836, 28805, 28774, 28717, 28665, 28599, 28533, 28460, 28370, 28335, 28292, 28242, 28218, 28135, 28111, 28025, 27532, 27532, 27428, 27077, 26994, 26646, 26383, 26313, 26233, 25990, 25812, 25537, 25204, 24900, 24763, 24597, 24379, 24090, 23663, 23296, 22859, 22617, 22248, 21858, 21342, 20798, 20267, 19720, 19325, 18683, 17922, 17169, 15731, 14986, 14412, 13851, 13215, 12228, 10887, 10343, 8926, 8093, 7574, 6520, 5398, 4414, 3532, 3030, 2611, 2317, 1997, 1698, 1333, 1102, 862, 676, 563, 451, 244, 149, 149, 149, 91, 91, 79, 48, 48, 33, 19, 19, 11, 9, 6, 4, 4, 3, 2, 2, 2, 2, 2, 1, 1, 1, 1, 1, 1, 1, 1, 1, 1, 1, 0, 0, 0, 0, 0, 0, 0, 0, 0, 0, 0, 0, 0, 0, 0, 0, 0, 0, 0, 0, 0, 0, 0, 0], \"yaxis\": \"y\"}],                        {\"barmode\": \"relative\", \"coloraxis\": {\"colorbar\": {\"title\": {\"text\": \"Deaths\"}}, \"colorscale\": [[0.0, \"rgb(237, 229, 207)\"], [0.16666666666666666, \"rgb(224, 194, 162)\"], [0.3333333333333333, \"rgb(211, 156, 131)\"], [0.5, \"rgb(193, 118, 111)\"], [0.6666666666666666, \"rgb(166, 84, 97)\"], [0.8333333333333334, \"rgb(129, 55, 83)\"], [1.0, \"rgb(84, 31, 63)\"]]}, \"legend\": {\"tracegroupgap\": 0}, \"margin\": {\"t\": 60}, \"template\": {\"data\": {\"bar\": [{\"error_x\": {\"color\": \"#2a3f5f\"}, \"error_y\": {\"color\": \"#2a3f5f\"}, \"marker\": {\"line\": {\"color\": \"#E5ECF6\", \"width\": 0.5}}, \"type\": \"bar\"}], \"barpolar\": [{\"marker\": {\"line\": {\"color\": \"#E5ECF6\", \"width\": 0.5}}, \"type\": \"barpolar\"}], \"carpet\": [{\"aaxis\": {\"endlinecolor\": \"#2a3f5f\", \"gridcolor\": \"white\", \"linecolor\": \"white\", \"minorgridcolor\": \"white\", \"startlinecolor\": \"#2a3f5f\"}, \"baxis\": {\"endlinecolor\": \"#2a3f5f\", \"gridcolor\": \"white\", \"linecolor\": \"white\", \"minorgridcolor\": \"white\", \"startlinecolor\": \"#2a3f5f\"}, \"type\": \"carpet\"}], \"choropleth\": [{\"colorbar\": {\"outlinewidth\": 0, \"ticks\": \"\"}, \"type\": \"choropleth\"}], \"contour\": [{\"colorbar\": {\"outlinewidth\": 0, \"ticks\": \"\"}, \"colorscale\": [[0.0, \"#0d0887\"], [0.1111111111111111, \"#46039f\"], [0.2222222222222222, \"#7201a8\"], [0.3333333333333333, \"#9c179e\"], [0.4444444444444444, \"#bd3786\"], [0.5555555555555556, \"#d8576b\"], [0.6666666666666666, \"#ed7953\"], [0.7777777777777778, \"#fb9f3a\"], [0.8888888888888888, \"#fdca26\"], [1.0, \"#f0f921\"]], \"type\": \"contour\"}], \"contourcarpet\": [{\"colorbar\": {\"outlinewidth\": 0, \"ticks\": \"\"}, \"type\": \"contourcarpet\"}], \"heatmap\": [{\"colorbar\": {\"outlinewidth\": 0, \"ticks\": \"\"}, \"colorscale\": [[0.0, \"#0d0887\"], [0.1111111111111111, \"#46039f\"], [0.2222222222222222, \"#7201a8\"], [0.3333333333333333, \"#9c179e\"], [0.4444444444444444, \"#bd3786\"], [0.5555555555555556, \"#d8576b\"], [0.6666666666666666, \"#ed7953\"], [0.7777777777777778, \"#fb9f3a\"], [0.8888888888888888, \"#fdca26\"], [1.0, \"#f0f921\"]], \"type\": \"heatmap\"}], \"heatmapgl\": [{\"colorbar\": {\"outlinewidth\": 0, \"ticks\": \"\"}, \"colorscale\": [[0.0, \"#0d0887\"], [0.1111111111111111, \"#46039f\"], [0.2222222222222222, \"#7201a8\"], [0.3333333333333333, \"#9c179e\"], [0.4444444444444444, \"#bd3786\"], [0.5555555555555556, \"#d8576b\"], [0.6666666666666666, \"#ed7953\"], [0.7777777777777778, \"#fb9f3a\"], [0.8888888888888888, \"#fdca26\"], [1.0, \"#f0f921\"]], \"type\": \"heatmapgl\"}], \"histogram\": [{\"marker\": {\"colorbar\": {\"outlinewidth\": 0, \"ticks\": \"\"}}, \"type\": \"histogram\"}], \"histogram2d\": [{\"colorbar\": {\"outlinewidth\": 0, \"ticks\": \"\"}, \"colorscale\": [[0.0, \"#0d0887\"], [0.1111111111111111, \"#46039f\"], [0.2222222222222222, \"#7201a8\"], [0.3333333333333333, \"#9c179e\"], [0.4444444444444444, \"#bd3786\"], [0.5555555555555556, \"#d8576b\"], [0.6666666666666666, \"#ed7953\"], [0.7777777777777778, \"#fb9f3a\"], [0.8888888888888888, \"#fdca26\"], [1.0, \"#f0f921\"]], \"type\": \"histogram2d\"}], \"histogram2dcontour\": [{\"colorbar\": {\"outlinewidth\": 0, \"ticks\": \"\"}, \"colorscale\": [[0.0, \"#0d0887\"], [0.1111111111111111, \"#46039f\"], [0.2222222222222222, \"#7201a8\"], [0.3333333333333333, \"#9c179e\"], [0.4444444444444444, \"#bd3786\"], [0.5555555555555556, \"#d8576b\"], [0.6666666666666666, \"#ed7953\"], [0.7777777777777778, \"#fb9f3a\"], [0.8888888888888888, \"#fdca26\"], [1.0, \"#f0f921\"]], \"type\": \"histogram2dcontour\"}], \"mesh3d\": [{\"colorbar\": {\"outlinewidth\": 0, \"ticks\": \"\"}, \"type\": \"mesh3d\"}], \"parcoords\": [{\"line\": {\"colorbar\": {\"outlinewidth\": 0, \"ticks\": \"\"}}, \"type\": \"parcoords\"}], \"pie\": [{\"automargin\": true, \"type\": \"pie\"}], \"scatter\": [{\"marker\": {\"colorbar\": {\"outlinewidth\": 0, \"ticks\": \"\"}}, \"type\": \"scatter\"}], \"scatter3d\": [{\"line\": {\"colorbar\": {\"outlinewidth\": 0, \"ticks\": \"\"}}, \"marker\": {\"colorbar\": {\"outlinewidth\": 0, \"ticks\": \"\"}}, \"type\": \"scatter3d\"}], \"scattercarpet\": [{\"marker\": {\"colorbar\": {\"outlinewidth\": 0, \"ticks\": \"\"}}, \"type\": \"scattercarpet\"}], \"scattergeo\": [{\"marker\": {\"colorbar\": {\"outlinewidth\": 0, \"ticks\": \"\"}}, \"type\": \"scattergeo\"}], \"scattergl\": [{\"marker\": {\"colorbar\": {\"outlinewidth\": 0, \"ticks\": \"\"}}, \"type\": \"scattergl\"}], \"scattermapbox\": [{\"marker\": {\"colorbar\": {\"outlinewidth\": 0, \"ticks\": \"\"}}, \"type\": \"scattermapbox\"}], \"scatterpolar\": [{\"marker\": {\"colorbar\": {\"outlinewidth\": 0, \"ticks\": \"\"}}, \"type\": \"scatterpolar\"}], \"scatterpolargl\": [{\"marker\": {\"colorbar\": {\"outlinewidth\": 0, \"ticks\": \"\"}}, \"type\": \"scatterpolargl\"}], \"scatterternary\": [{\"marker\": {\"colorbar\": {\"outlinewidth\": 0, \"ticks\": \"\"}}, \"type\": \"scatterternary\"}], \"surface\": [{\"colorbar\": {\"outlinewidth\": 0, \"ticks\": \"\"}, \"colorscale\": [[0.0, \"#0d0887\"], [0.1111111111111111, \"#46039f\"], [0.2222222222222222, \"#7201a8\"], [0.3333333333333333, \"#9c179e\"], [0.4444444444444444, \"#bd3786\"], [0.5555555555555556, \"#d8576b\"], [0.6666666666666666, \"#ed7953\"], [0.7777777777777778, \"#fb9f3a\"], [0.8888888888888888, \"#fdca26\"], [1.0, \"#f0f921\"]], \"type\": \"surface\"}], \"table\": [{\"cells\": {\"fill\": {\"color\": \"#EBF0F8\"}, \"line\": {\"color\": \"white\"}}, \"header\": {\"fill\": {\"color\": \"#C8D4E3\"}, \"line\": {\"color\": \"white\"}}, \"type\": \"table\"}]}, \"layout\": {\"annotationdefaults\": {\"arrowcolor\": \"#2a3f5f\", \"arrowhead\": 0, \"arrowwidth\": 1}, \"autotypenumbers\": \"strict\", \"coloraxis\": {\"colorbar\": {\"outlinewidth\": 0, \"ticks\": \"\"}}, \"colorscale\": {\"diverging\": [[0, \"#8e0152\"], [0.1, \"#c51b7d\"], [0.2, \"#de77ae\"], [0.3, \"#f1b6da\"], [0.4, \"#fde0ef\"], [0.5, \"#f7f7f7\"], [0.6, \"#e6f5d0\"], [0.7, \"#b8e186\"], [0.8, \"#7fbc41\"], [0.9, \"#4d9221\"], [1, \"#276419\"]], \"sequential\": [[0.0, \"#0d0887\"], [0.1111111111111111, \"#46039f\"], [0.2222222222222222, \"#7201a8\"], [0.3333333333333333, \"#9c179e\"], [0.4444444444444444, \"#bd3786\"], [0.5555555555555556, \"#d8576b\"], [0.6666666666666666, \"#ed7953\"], [0.7777777777777778, \"#fb9f3a\"], [0.8888888888888888, \"#fdca26\"], [1.0, \"#f0f921\"]], \"sequentialminus\": [[0.0, \"#0d0887\"], [0.1111111111111111, \"#46039f\"], [0.2222222222222222, \"#7201a8\"], [0.3333333333333333, \"#9c179e\"], [0.4444444444444444, \"#bd3786\"], [0.5555555555555556, \"#d8576b\"], [0.6666666666666666, \"#ed7953\"], [0.7777777777777778, \"#fb9f3a\"], [0.8888888888888888, \"#fdca26\"], [1.0, \"#f0f921\"]]}, \"colorway\": [\"#636efa\", \"#EF553B\", \"#00cc96\", \"#ab63fa\", \"#FFA15A\", \"#19d3f3\", \"#FF6692\", \"#B6E880\", \"#FF97FF\", \"#FECB52\"], \"font\": {\"color\": \"#2a3f5f\"}, \"geo\": {\"bgcolor\": \"white\", \"lakecolor\": \"white\", \"landcolor\": \"#E5ECF6\", \"showlakes\": true, \"showland\": true, \"subunitcolor\": \"white\"}, \"hoverlabel\": {\"align\": \"left\"}, \"hovermode\": \"closest\", \"mapbox\": {\"style\": \"light\"}, \"paper_bgcolor\": \"white\", \"plot_bgcolor\": \"#E5ECF6\", \"polar\": {\"angularaxis\": {\"gridcolor\": \"white\", \"linecolor\": \"white\", \"ticks\": \"\"}, \"bgcolor\": \"#E5ECF6\", \"radialaxis\": {\"gridcolor\": \"white\", \"linecolor\": \"white\", \"ticks\": \"\"}}, \"scene\": {\"xaxis\": {\"backgroundcolor\": \"#E5ECF6\", \"gridcolor\": \"white\", \"gridwidth\": 2, \"linecolor\": \"white\", \"showbackground\": true, \"ticks\": \"\", \"zerolinecolor\": \"white\"}, \"yaxis\": {\"backgroundcolor\": \"#E5ECF6\", \"gridcolor\": \"white\", \"gridwidth\": 2, \"linecolor\": \"white\", \"showbackground\": true, \"ticks\": \"\", \"zerolinecolor\": \"white\"}, \"zaxis\": {\"backgroundcolor\": \"#E5ECF6\", \"gridcolor\": \"white\", \"gridwidth\": 2, \"linecolor\": \"white\", \"showbackground\": true, \"ticks\": \"\", \"zerolinecolor\": \"white\"}}, \"shapedefaults\": {\"line\": {\"color\": \"#2a3f5f\"}}, \"ternary\": {\"aaxis\": {\"gridcolor\": \"white\", \"linecolor\": \"white\", \"ticks\": \"\"}, \"baxis\": {\"gridcolor\": \"white\", \"linecolor\": \"white\", \"ticks\": \"\"}, \"bgcolor\": \"#E5ECF6\", \"caxis\": {\"gridcolor\": \"white\", \"linecolor\": \"white\", \"ticks\": \"\"}}, \"title\": {\"x\": 0.05}, \"xaxis\": {\"automargin\": true, \"gridcolor\": \"white\", \"linecolor\": \"white\", \"ticks\": \"\", \"title\": {\"standoff\": 15}, \"zerolinecolor\": \"white\", \"zerolinewidth\": 2}, \"yaxis\": {\"automargin\": true, \"gridcolor\": \"white\", \"linecolor\": \"white\", \"ticks\": \"\", \"title\": {\"standoff\": 15}, \"zerolinecolor\": \"white\", \"zerolinewidth\": 2}}}, \"title\": {\"text\": \"Deaths COVID-19 cases per day in France\"}, \"xaxis\": {\"anchor\": \"y\", \"domain\": [0.0, 1.0], \"title\": {\"text\": \"Date\"}}, \"yaxis\": {\"anchor\": \"x\", \"domain\": [0.0, 1.0], \"title\": {\"text\": \"Deaths\"}}},                        {\"responsive\": true}                    ).then(function(){\n",
       "                            \n",
       "var gd = document.getElementById('ddced0a1-4c21-4f8b-92d4-10d33806cd29');\n",
       "var x = new MutationObserver(function (mutations, observer) {{\n",
       "        var display = window.getComputedStyle(gd).display;\n",
       "        if (!display || display === 'none') {{\n",
       "            console.log([gd, 'removed!']);\n",
       "            Plotly.purge(gd);\n",
       "            observer.disconnect();\n",
       "        }}\n",
       "}});\n",
       "\n",
       "// Listen for the removal of the full notebook cells\n",
       "var notebookContainer = gd.closest('#notebook-container');\n",
       "if (notebookContainer) {{\n",
       "    x.observe(notebookContainer, {childList: true});\n",
       "}}\n",
       "\n",
       "// Listen for the clearing of the current output cell\n",
       "var outputEl = gd.closest('.output');\n",
       "if (outputEl) {{\n",
       "    x.observe(outputEl, {childList: true});\n",
       "}}\n",
       "\n",
       "                        })                };                });            </script>        </div>"
      ]
     },
     "metadata": {},
     "output_type": "display_data"
    }
   ],
   "source": [
    "df_by_date = pd.DataFrame(data.fillna('NA').groupby(['Country','Date'])['Deaths'].sum().sort_values().reset_index())\n",
    "\n",
    "fig = px.bar(df_by_date.loc[(df_by_date['Country'] == 'France') &(df_by_date.Date >= '2020-01-22')].sort_values('Deaths',ascending = False), \n",
    "             x='Date', y='Deaths', color=\"Deaths\", color_continuous_scale=px.colors.sequential.Brwnyl)\n",
    "fig.update_layout(title_text='Deaths COVID-19 cases per day in France')\n",
    "fig.show()"
   ]
  },
  {
   "cell_type": "markdown",
   "metadata": {},
   "source": [
    "#### The Death rate in France reached 50K at the end of November"
   ]
  },
  {
   "cell_type": "markdown",
   "metadata": {},
   "source": [
    "# Deaths COVID-19 cases per day in China"
   ]
  },
  {
   "cell_type": "code",
   "execution_count": 28,
   "metadata": {},
   "outputs": [
    {
     "data": {
      "application/vnd.plotly.v1+json": {
       "config": {
        "plotlyServerURL": "https://plot.ly"
       },
       "data": [
        {
         "alignmentgroup": "True",
         "hovertemplate": "Date=%{x}<br>Deaths=%{marker.color}<extra></extra>",
         "legendgroup": "",
         "marker": {
          "color": [
           4743,
           4743,
           4742,
           4742,
           4742,
           4742,
           4742,
           4742,
           4742,
           4742,
           4742,
           4742,
           4742,
           4742,
           4742,
           4742,
           4742,
           4742,
           4742,
           4742,
           4741,
           4741,
           4741,
           4741,
           4741,
           4740,
           4739,
           4739,
           4739,
           4739,
           4739,
           4739,
           4739,
           4739,
           4739,
           4739,
           4739,
           4739,
           4739,
           4739,
           4739,
           4739,
           4739,
           4739,
           4739,
           4739,
           4739,
           4739,
           4739,
           4739,
           4739,
           4739,
           4739,
           4739,
           4739,
           4739,
           4739,
           4739,
           4739,
           4739,
           4739,
           4739,
           4739,
           4739,
           4739,
           4739,
           4738,
           4738,
           4737,
           4737,
           4737,
           4737,
           4737,
           4736,
           4736,
           4736,
           4735,
           4734,
           4734,
           4733,
           4733,
           4733,
           4733,
           4732,
           4730,
           4728,
           4728,
           4728,
           4727,
           4724,
           4723,
           4722,
           4721,
           4718,
           4715,
           4713,
           4712,
           4711,
           4711,
           4711,
           4709,
           4709,
           4706,
           4705,
           4703,
           4703,
           4703,
           4701,
           4700,
           4697,
           4693,
           4689,
           4686,
           4681,
           4681,
           4680,
           4677,
           4676,
           4672,
           4669,
           4667,
           4661,
           4659,
           4658,
           4657,
           4656,
           4652,
           4652,
           4650,
           4649,
           4648,
           4648,
           4646,
           4646,
           4646,
           4645,
           4644,
           4644,
           4642,
           4641,
           4641,
           4641,
           4641,
           4641,
           4641,
           4641,
           4641,
           4641,
           4641,
           4641,
           4641,
           4641,
           4641,
           4641,
           4641,
           4641,
           4641,
           4641,
           4640,
           4640,
           4639,
           4639,
           4639,
           4638,
           4638,
           4638,
           4638,
           4638,
           4638,
           4638,
           4638,
           4638,
           4638,
           4638,
           4638,
           4638,
           4638,
           4638,
           4638,
           4638,
           4638,
           4638,
           4638,
           4638,
           4638,
           4638,
           4638,
           4638,
           4638,
           4638,
           4638,
           4638,
           4638,
           4638,
           4638,
           4638,
           4638,
           4638,
           4637,
           4637,
           4637,
           4637,
           4637,
           4637,
           4637,
           4637,
           4637,
           4637,
           4637,
           4637,
           4637,
           4637,
           4637,
           4637,
           4637,
           4637,
           4637,
           4637,
           4636,
           4636,
           4636,
           4636,
           4636,
           4636,
           4636,
           4636,
           4636,
           3346,
           3346,
           3345,
           3345,
           3343,
           3343,
           3340,
           3339,
           3337,
           3335,
           3335,
           3333,
           3330,
           3326,
           3322,
           3316,
           3309,
           3308,
           3304,
           3299,
           3296,
           3291,
           3285,
           3281,
           3274,
           3274,
           3259,
           3253,
           3249,
           3241,
           3230,
           3217,
           3203,
           3193,
           3180,
           3172,
           3161,
           3139,
           3123,
           3100,
           3072,
           3044,
           3015,
           2983,
           2947,
           2914,
           2872,
           2837,
           2790,
           2746,
           2717,
           2665,
           2595,
           2445,
           2443,
           2238,
           2238,
           2116,
           2003,
           1864,
           1766,
           1663,
           1521,
           1369,
           1117,
           1112,
           1012,
           905,
           805,
           718,
           633,
           563,
           491,
           425,
           361,
           259,
           213,
           171,
           133,
           131,
           82,
           56,
           42,
           26,
           18,
           17
          ],
          "coloraxis": "coloraxis"
         },
         "name": "",
         "offsetgroup": "",
         "orientation": "v",
         "showlegend": false,
         "textposition": "auto",
         "type": "bar",
         "x": [
          "2020-11-29",
          "2020-11-28",
          "2020-11-20",
          "2020-11-15",
          "2020-11-12",
          "2020-11-11",
          "2020-11-10",
          "2020-11-16",
          "2020-11-17",
          "2020-11-18",
          "2020-11-19",
          "2020-11-13",
          "2020-11-21",
          "2020-11-23",
          "2020-11-24",
          "2020-11-25",
          "2020-11-26",
          "2020-11-27",
          "2020-11-22",
          "2020-11-14",
          "2020-11-08",
          "2020-11-09",
          "2020-11-07",
          "2020-11-05",
          "2020-11-06",
          "2020-11-04",
          "2020-10-31",
          "2020-10-20",
          "2020-10-28",
          "2020-10-27",
          "2020-10-26",
          "2020-10-13",
          "2020-10-24",
          "2020-10-23",
          "2020-10-22",
          "2020-11-01",
          "2020-10-14",
          "2020-10-17",
          "2020-10-19",
          "2020-10-15",
          "2020-10-16",
          "2020-10-25",
          "2020-11-03",
          "2020-11-02",
          "2020-10-18",
          "2020-10-29",
          "2020-09-28",
          "2020-10-21",
          "2020-10-02",
          "2020-10-04",
          "2020-10-10",
          "2020-10-08",
          "2020-10-07",
          "2020-10-12",
          "2020-10-05",
          "2020-10-30",
          "2020-10-11",
          "2020-10-06",
          "2020-10-01",
          "2020-09-29",
          "2020-09-30",
          "2020-09-27",
          "2020-09-26",
          "2020-09-25",
          "2020-10-03",
          "2020-10-09",
          "2020-09-24",
          "2020-09-23",
          "2020-09-22",
          "2020-09-21",
          "2020-09-20",
          "2020-09-19",
          "2020-09-18",
          "2020-09-17",
          "2020-09-16",
          "2020-09-15",
          "2020-09-14",
          "2020-09-13",
          "2020-09-12",
          "2020-09-11",
          "2020-09-10",
          "2020-09-09",
          "2020-09-08",
          "2020-09-07",
          "2020-09-06",
          "2020-09-03",
          "2020-09-04",
          "2020-09-05",
          "2020-09-02",
          "2020-09-01",
          "2020-08-31",
          "2020-08-30",
          "2020-08-29",
          "2020-08-28",
          "2020-08-27",
          "2020-08-26",
          "2020-08-25",
          "2020-08-22",
          "2020-08-23",
          "2020-08-24",
          "2020-08-21",
          "2020-08-20",
          "2020-08-19",
          "2020-08-18",
          "2020-08-17",
          "2020-08-16",
          "2020-08-15",
          "2020-08-14",
          "2020-08-13",
          "2020-08-12",
          "2020-08-11",
          "2020-08-10",
          "2020-08-09",
          "2020-08-07",
          "2020-08-08",
          "2020-08-06",
          "2020-08-05",
          "2020-08-04",
          "2020-08-03",
          "2020-08-02",
          "2020-08-01",
          "2020-07-31",
          "2020-07-30",
          "2020-07-29",
          "2020-07-28",
          "2020-07-27",
          "2020-07-25",
          "2020-07-26",
          "2020-07-24",
          "2020-07-23",
          "2020-07-21",
          "2020-07-22",
          "2020-07-20",
          "2020-07-18",
          "2020-07-19",
          "2020-07-17",
          "2020-07-15",
          "2020-07-16",
          "2020-07-14",
          "2020-06-26",
          "2020-07-06",
          "2020-06-28",
          "2020-07-03",
          "2020-07-02",
          "2020-07-01",
          "2020-07-12",
          "2020-07-07",
          "2020-06-29",
          "2020-07-08",
          "2020-07-09",
          "2020-06-30",
          "2020-07-11",
          "2020-06-27",
          "2020-07-13",
          "2020-07-10",
          "2020-06-25",
          "2020-07-05",
          "2020-07-04",
          "2020-06-24",
          "2020-06-23",
          "2020-06-20",
          "2020-06-22",
          "2020-06-21",
          "2020-06-18",
          "2020-06-11",
          "2020-05-28",
          "2020-06-03",
          "2020-06-14",
          "2020-06-06",
          "2020-06-09",
          "2020-06-04",
          "2020-06-15",
          "2020-06-12",
          "2020-06-13",
          "2020-06-10",
          "2020-05-16",
          "2020-06-19",
          "2020-06-05",
          "2020-06-16",
          "2020-05-31",
          "2020-06-17",
          "2020-05-17",
          "2020-05-26",
          "2020-06-07",
          "2020-06-08",
          "2020-06-01",
          "2020-05-23",
          "2020-05-18",
          "2020-05-30",
          "2020-05-29",
          "2020-05-27",
          "2020-05-25",
          "2020-05-24",
          "2020-05-22",
          "2020-06-02",
          "2020-05-21",
          "2020-05-20",
          "2020-05-19",
          "2020-05-02",
          "2020-05-04",
          "2020-05-05",
          "2020-04-27",
          "2020-05-03",
          "2020-04-26",
          "2020-04-30",
          "2020-05-01",
          "2020-05-07",
          "2020-04-29",
          "2020-05-14",
          "2020-05-06",
          "2020-05-13",
          "2020-05-15",
          "2020-05-11",
          "2020-05-10",
          "2020-05-09",
          "2020-05-08",
          "2020-05-12",
          "2020-04-28",
          "2020-04-17",
          "2020-04-19",
          "2020-04-21",
          "2020-04-18",
          "2020-04-20",
          "2020-04-25",
          "2020-04-23",
          "2020-04-24",
          "2020-04-22",
          "2020-04-16",
          "2020-04-15",
          "2020-04-14",
          "2020-04-13",
          "2020-04-12",
          "2020-04-11",
          "2020-04-10",
          "2020-04-09",
          "2020-04-08",
          "2020-04-07",
          "2020-04-06",
          "2020-04-05",
          "2020-04-04",
          "2020-04-03",
          "2020-04-02",
          "2020-04-01",
          "2020-03-31",
          "2020-03-30",
          "2020-03-29",
          "2020-03-28",
          "2020-03-27",
          "2020-03-26",
          "2020-03-25",
          "2020-03-24",
          "2020-03-22",
          "2020-03-23",
          "2020-03-21",
          "2020-03-20",
          "2020-03-19",
          "2020-03-18",
          "2020-03-17",
          "2020-03-16",
          "2020-03-15",
          "2020-03-14",
          "2020-03-13",
          "2020-03-12",
          "2020-03-11",
          "2020-03-10",
          "2020-03-09",
          "2020-03-08",
          "2020-03-07",
          "2020-03-06",
          "2020-03-05",
          "2020-03-04",
          "2020-03-03",
          "2020-03-02",
          "2020-03-01",
          "2020-02-29",
          "2020-02-28",
          "2020-02-27",
          "2020-02-26",
          "2020-02-25",
          "2020-02-24",
          "2020-02-23",
          "2020-02-22",
          "2020-02-21",
          "2020-02-20",
          "2020-02-19",
          "2020-02-18",
          "2020-02-17",
          "2020-02-16",
          "2020-02-15",
          "2020-02-14",
          "2020-02-13",
          "2020-02-12",
          "2020-02-11",
          "2020-02-10",
          "2020-02-09",
          "2020-02-08",
          "2020-02-07",
          "2020-02-06",
          "2020-02-05",
          "2020-02-04",
          "2020-02-03",
          "2020-02-02",
          "2020-02-01",
          "2020-01-31",
          "2020-01-30",
          "2020-01-29",
          "2020-01-28",
          "2020-01-27",
          "2020-01-26",
          "2020-01-25",
          "2020-01-24",
          "2020-01-23",
          "2020-01-22"
         ],
         "xaxis": "x",
         "y": [
          4743,
          4743,
          4742,
          4742,
          4742,
          4742,
          4742,
          4742,
          4742,
          4742,
          4742,
          4742,
          4742,
          4742,
          4742,
          4742,
          4742,
          4742,
          4742,
          4742,
          4741,
          4741,
          4741,
          4741,
          4741,
          4740,
          4739,
          4739,
          4739,
          4739,
          4739,
          4739,
          4739,
          4739,
          4739,
          4739,
          4739,
          4739,
          4739,
          4739,
          4739,
          4739,
          4739,
          4739,
          4739,
          4739,
          4739,
          4739,
          4739,
          4739,
          4739,
          4739,
          4739,
          4739,
          4739,
          4739,
          4739,
          4739,
          4739,
          4739,
          4739,
          4739,
          4739,
          4739,
          4739,
          4739,
          4738,
          4738,
          4737,
          4737,
          4737,
          4737,
          4737,
          4736,
          4736,
          4736,
          4735,
          4734,
          4734,
          4733,
          4733,
          4733,
          4733,
          4732,
          4730,
          4728,
          4728,
          4728,
          4727,
          4724,
          4723,
          4722,
          4721,
          4718,
          4715,
          4713,
          4712,
          4711,
          4711,
          4711,
          4709,
          4709,
          4706,
          4705,
          4703,
          4703,
          4703,
          4701,
          4700,
          4697,
          4693,
          4689,
          4686,
          4681,
          4681,
          4680,
          4677,
          4676,
          4672,
          4669,
          4667,
          4661,
          4659,
          4658,
          4657,
          4656,
          4652,
          4652,
          4650,
          4649,
          4648,
          4648,
          4646,
          4646,
          4646,
          4645,
          4644,
          4644,
          4642,
          4641,
          4641,
          4641,
          4641,
          4641,
          4641,
          4641,
          4641,
          4641,
          4641,
          4641,
          4641,
          4641,
          4641,
          4641,
          4641,
          4641,
          4641,
          4641,
          4640,
          4640,
          4639,
          4639,
          4639,
          4638,
          4638,
          4638,
          4638,
          4638,
          4638,
          4638,
          4638,
          4638,
          4638,
          4638,
          4638,
          4638,
          4638,
          4638,
          4638,
          4638,
          4638,
          4638,
          4638,
          4638,
          4638,
          4638,
          4638,
          4638,
          4638,
          4638,
          4638,
          4638,
          4638,
          4638,
          4638,
          4638,
          4638,
          4638,
          4637,
          4637,
          4637,
          4637,
          4637,
          4637,
          4637,
          4637,
          4637,
          4637,
          4637,
          4637,
          4637,
          4637,
          4637,
          4637,
          4637,
          4637,
          4637,
          4637,
          4636,
          4636,
          4636,
          4636,
          4636,
          4636,
          4636,
          4636,
          4636,
          3346,
          3346,
          3345,
          3345,
          3343,
          3343,
          3340,
          3339,
          3337,
          3335,
          3335,
          3333,
          3330,
          3326,
          3322,
          3316,
          3309,
          3308,
          3304,
          3299,
          3296,
          3291,
          3285,
          3281,
          3274,
          3274,
          3259,
          3253,
          3249,
          3241,
          3230,
          3217,
          3203,
          3193,
          3180,
          3172,
          3161,
          3139,
          3123,
          3100,
          3072,
          3044,
          3015,
          2983,
          2947,
          2914,
          2872,
          2837,
          2790,
          2746,
          2717,
          2665,
          2595,
          2445,
          2443,
          2238,
          2238,
          2116,
          2003,
          1864,
          1766,
          1663,
          1521,
          1369,
          1117,
          1112,
          1012,
          905,
          805,
          718,
          633,
          563,
          491,
          425,
          361,
          259,
          213,
          171,
          133,
          131,
          82,
          56,
          42,
          26,
          18,
          17
         ],
         "yaxis": "y"
        }
       ],
       "layout": {
        "barmode": "relative",
        "coloraxis": {
         "colorbar": {
          "title": {
           "text": "Deaths"
          }
         },
         "colorscale": [
          [
           0,
           "rgb(237, 229, 207)"
          ],
          [
           0.16666666666666666,
           "rgb(224, 194, 162)"
          ],
          [
           0.3333333333333333,
           "rgb(211, 156, 131)"
          ],
          [
           0.5,
           "rgb(193, 118, 111)"
          ],
          [
           0.6666666666666666,
           "rgb(166, 84, 97)"
          ],
          [
           0.8333333333333334,
           "rgb(129, 55, 83)"
          ],
          [
           1,
           "rgb(84, 31, 63)"
          ]
         ]
        },
        "legend": {
         "tracegroupgap": 0
        },
        "margin": {
         "t": 60
        },
        "template": {
         "data": {
          "bar": [
           {
            "error_x": {
             "color": "#2a3f5f"
            },
            "error_y": {
             "color": "#2a3f5f"
            },
            "marker": {
             "line": {
              "color": "#E5ECF6",
              "width": 0.5
             }
            },
            "type": "bar"
           }
          ],
          "barpolar": [
           {
            "marker": {
             "line": {
              "color": "#E5ECF6",
              "width": 0.5
             }
            },
            "type": "barpolar"
           }
          ],
          "carpet": [
           {
            "aaxis": {
             "endlinecolor": "#2a3f5f",
             "gridcolor": "white",
             "linecolor": "white",
             "minorgridcolor": "white",
             "startlinecolor": "#2a3f5f"
            },
            "baxis": {
             "endlinecolor": "#2a3f5f",
             "gridcolor": "white",
             "linecolor": "white",
             "minorgridcolor": "white",
             "startlinecolor": "#2a3f5f"
            },
            "type": "carpet"
           }
          ],
          "choropleth": [
           {
            "colorbar": {
             "outlinewidth": 0,
             "ticks": ""
            },
            "type": "choropleth"
           }
          ],
          "contour": [
           {
            "colorbar": {
             "outlinewidth": 0,
             "ticks": ""
            },
            "colorscale": [
             [
              0,
              "#0d0887"
             ],
             [
              0.1111111111111111,
              "#46039f"
             ],
             [
              0.2222222222222222,
              "#7201a8"
             ],
             [
              0.3333333333333333,
              "#9c179e"
             ],
             [
              0.4444444444444444,
              "#bd3786"
             ],
             [
              0.5555555555555556,
              "#d8576b"
             ],
             [
              0.6666666666666666,
              "#ed7953"
             ],
             [
              0.7777777777777778,
              "#fb9f3a"
             ],
             [
              0.8888888888888888,
              "#fdca26"
             ],
             [
              1,
              "#f0f921"
             ]
            ],
            "type": "contour"
           }
          ],
          "contourcarpet": [
           {
            "colorbar": {
             "outlinewidth": 0,
             "ticks": ""
            },
            "type": "contourcarpet"
           }
          ],
          "heatmap": [
           {
            "colorbar": {
             "outlinewidth": 0,
             "ticks": ""
            },
            "colorscale": [
             [
              0,
              "#0d0887"
             ],
             [
              0.1111111111111111,
              "#46039f"
             ],
             [
              0.2222222222222222,
              "#7201a8"
             ],
             [
              0.3333333333333333,
              "#9c179e"
             ],
             [
              0.4444444444444444,
              "#bd3786"
             ],
             [
              0.5555555555555556,
              "#d8576b"
             ],
             [
              0.6666666666666666,
              "#ed7953"
             ],
             [
              0.7777777777777778,
              "#fb9f3a"
             ],
             [
              0.8888888888888888,
              "#fdca26"
             ],
             [
              1,
              "#f0f921"
             ]
            ],
            "type": "heatmap"
           }
          ],
          "heatmapgl": [
           {
            "colorbar": {
             "outlinewidth": 0,
             "ticks": ""
            },
            "colorscale": [
             [
              0,
              "#0d0887"
             ],
             [
              0.1111111111111111,
              "#46039f"
             ],
             [
              0.2222222222222222,
              "#7201a8"
             ],
             [
              0.3333333333333333,
              "#9c179e"
             ],
             [
              0.4444444444444444,
              "#bd3786"
             ],
             [
              0.5555555555555556,
              "#d8576b"
             ],
             [
              0.6666666666666666,
              "#ed7953"
             ],
             [
              0.7777777777777778,
              "#fb9f3a"
             ],
             [
              0.8888888888888888,
              "#fdca26"
             ],
             [
              1,
              "#f0f921"
             ]
            ],
            "type": "heatmapgl"
           }
          ],
          "histogram": [
           {
            "marker": {
             "colorbar": {
              "outlinewidth": 0,
              "ticks": ""
             }
            },
            "type": "histogram"
           }
          ],
          "histogram2d": [
           {
            "colorbar": {
             "outlinewidth": 0,
             "ticks": ""
            },
            "colorscale": [
             [
              0,
              "#0d0887"
             ],
             [
              0.1111111111111111,
              "#46039f"
             ],
             [
              0.2222222222222222,
              "#7201a8"
             ],
             [
              0.3333333333333333,
              "#9c179e"
             ],
             [
              0.4444444444444444,
              "#bd3786"
             ],
             [
              0.5555555555555556,
              "#d8576b"
             ],
             [
              0.6666666666666666,
              "#ed7953"
             ],
             [
              0.7777777777777778,
              "#fb9f3a"
             ],
             [
              0.8888888888888888,
              "#fdca26"
             ],
             [
              1,
              "#f0f921"
             ]
            ],
            "type": "histogram2d"
           }
          ],
          "histogram2dcontour": [
           {
            "colorbar": {
             "outlinewidth": 0,
             "ticks": ""
            },
            "colorscale": [
             [
              0,
              "#0d0887"
             ],
             [
              0.1111111111111111,
              "#46039f"
             ],
             [
              0.2222222222222222,
              "#7201a8"
             ],
             [
              0.3333333333333333,
              "#9c179e"
             ],
             [
              0.4444444444444444,
              "#bd3786"
             ],
             [
              0.5555555555555556,
              "#d8576b"
             ],
             [
              0.6666666666666666,
              "#ed7953"
             ],
             [
              0.7777777777777778,
              "#fb9f3a"
             ],
             [
              0.8888888888888888,
              "#fdca26"
             ],
             [
              1,
              "#f0f921"
             ]
            ],
            "type": "histogram2dcontour"
           }
          ],
          "mesh3d": [
           {
            "colorbar": {
             "outlinewidth": 0,
             "ticks": ""
            },
            "type": "mesh3d"
           }
          ],
          "parcoords": [
           {
            "line": {
             "colorbar": {
              "outlinewidth": 0,
              "ticks": ""
             }
            },
            "type": "parcoords"
           }
          ],
          "pie": [
           {
            "automargin": true,
            "type": "pie"
           }
          ],
          "scatter": [
           {
            "marker": {
             "colorbar": {
              "outlinewidth": 0,
              "ticks": ""
             }
            },
            "type": "scatter"
           }
          ],
          "scatter3d": [
           {
            "line": {
             "colorbar": {
              "outlinewidth": 0,
              "ticks": ""
             }
            },
            "marker": {
             "colorbar": {
              "outlinewidth": 0,
              "ticks": ""
             }
            },
            "type": "scatter3d"
           }
          ],
          "scattercarpet": [
           {
            "marker": {
             "colorbar": {
              "outlinewidth": 0,
              "ticks": ""
             }
            },
            "type": "scattercarpet"
           }
          ],
          "scattergeo": [
           {
            "marker": {
             "colorbar": {
              "outlinewidth": 0,
              "ticks": ""
             }
            },
            "type": "scattergeo"
           }
          ],
          "scattergl": [
           {
            "marker": {
             "colorbar": {
              "outlinewidth": 0,
              "ticks": ""
             }
            },
            "type": "scattergl"
           }
          ],
          "scattermapbox": [
           {
            "marker": {
             "colorbar": {
              "outlinewidth": 0,
              "ticks": ""
             }
            },
            "type": "scattermapbox"
           }
          ],
          "scatterpolar": [
           {
            "marker": {
             "colorbar": {
              "outlinewidth": 0,
              "ticks": ""
             }
            },
            "type": "scatterpolar"
           }
          ],
          "scatterpolargl": [
           {
            "marker": {
             "colorbar": {
              "outlinewidth": 0,
              "ticks": ""
             }
            },
            "type": "scatterpolargl"
           }
          ],
          "scatterternary": [
           {
            "marker": {
             "colorbar": {
              "outlinewidth": 0,
              "ticks": ""
             }
            },
            "type": "scatterternary"
           }
          ],
          "surface": [
           {
            "colorbar": {
             "outlinewidth": 0,
             "ticks": ""
            },
            "colorscale": [
             [
              0,
              "#0d0887"
             ],
             [
              0.1111111111111111,
              "#46039f"
             ],
             [
              0.2222222222222222,
              "#7201a8"
             ],
             [
              0.3333333333333333,
              "#9c179e"
             ],
             [
              0.4444444444444444,
              "#bd3786"
             ],
             [
              0.5555555555555556,
              "#d8576b"
             ],
             [
              0.6666666666666666,
              "#ed7953"
             ],
             [
              0.7777777777777778,
              "#fb9f3a"
             ],
             [
              0.8888888888888888,
              "#fdca26"
             ],
             [
              1,
              "#f0f921"
             ]
            ],
            "type": "surface"
           }
          ],
          "table": [
           {
            "cells": {
             "fill": {
              "color": "#EBF0F8"
             },
             "line": {
              "color": "white"
             }
            },
            "header": {
             "fill": {
              "color": "#C8D4E3"
             },
             "line": {
              "color": "white"
             }
            },
            "type": "table"
           }
          ]
         },
         "layout": {
          "annotationdefaults": {
           "arrowcolor": "#2a3f5f",
           "arrowhead": 0,
           "arrowwidth": 1
          },
          "autotypenumbers": "strict",
          "coloraxis": {
           "colorbar": {
            "outlinewidth": 0,
            "ticks": ""
           }
          },
          "colorscale": {
           "diverging": [
            [
             0,
             "#8e0152"
            ],
            [
             0.1,
             "#c51b7d"
            ],
            [
             0.2,
             "#de77ae"
            ],
            [
             0.3,
             "#f1b6da"
            ],
            [
             0.4,
             "#fde0ef"
            ],
            [
             0.5,
             "#f7f7f7"
            ],
            [
             0.6,
             "#e6f5d0"
            ],
            [
             0.7,
             "#b8e186"
            ],
            [
             0.8,
             "#7fbc41"
            ],
            [
             0.9,
             "#4d9221"
            ],
            [
             1,
             "#276419"
            ]
           ],
           "sequential": [
            [
             0,
             "#0d0887"
            ],
            [
             0.1111111111111111,
             "#46039f"
            ],
            [
             0.2222222222222222,
             "#7201a8"
            ],
            [
             0.3333333333333333,
             "#9c179e"
            ],
            [
             0.4444444444444444,
             "#bd3786"
            ],
            [
             0.5555555555555556,
             "#d8576b"
            ],
            [
             0.6666666666666666,
             "#ed7953"
            ],
            [
             0.7777777777777778,
             "#fb9f3a"
            ],
            [
             0.8888888888888888,
             "#fdca26"
            ],
            [
             1,
             "#f0f921"
            ]
           ],
           "sequentialminus": [
            [
             0,
             "#0d0887"
            ],
            [
             0.1111111111111111,
             "#46039f"
            ],
            [
             0.2222222222222222,
             "#7201a8"
            ],
            [
             0.3333333333333333,
             "#9c179e"
            ],
            [
             0.4444444444444444,
             "#bd3786"
            ],
            [
             0.5555555555555556,
             "#d8576b"
            ],
            [
             0.6666666666666666,
             "#ed7953"
            ],
            [
             0.7777777777777778,
             "#fb9f3a"
            ],
            [
             0.8888888888888888,
             "#fdca26"
            ],
            [
             1,
             "#f0f921"
            ]
           ]
          },
          "colorway": [
           "#636efa",
           "#EF553B",
           "#00cc96",
           "#ab63fa",
           "#FFA15A",
           "#19d3f3",
           "#FF6692",
           "#B6E880",
           "#FF97FF",
           "#FECB52"
          ],
          "font": {
           "color": "#2a3f5f"
          },
          "geo": {
           "bgcolor": "white",
           "lakecolor": "white",
           "landcolor": "#E5ECF6",
           "showlakes": true,
           "showland": true,
           "subunitcolor": "white"
          },
          "hoverlabel": {
           "align": "left"
          },
          "hovermode": "closest",
          "mapbox": {
           "style": "light"
          },
          "paper_bgcolor": "white",
          "plot_bgcolor": "#E5ECF6",
          "polar": {
           "angularaxis": {
            "gridcolor": "white",
            "linecolor": "white",
            "ticks": ""
           },
           "bgcolor": "#E5ECF6",
           "radialaxis": {
            "gridcolor": "white",
            "linecolor": "white",
            "ticks": ""
           }
          },
          "scene": {
           "xaxis": {
            "backgroundcolor": "#E5ECF6",
            "gridcolor": "white",
            "gridwidth": 2,
            "linecolor": "white",
            "showbackground": true,
            "ticks": "",
            "zerolinecolor": "white"
           },
           "yaxis": {
            "backgroundcolor": "#E5ECF6",
            "gridcolor": "white",
            "gridwidth": 2,
            "linecolor": "white",
            "showbackground": true,
            "ticks": "",
            "zerolinecolor": "white"
           },
           "zaxis": {
            "backgroundcolor": "#E5ECF6",
            "gridcolor": "white",
            "gridwidth": 2,
            "linecolor": "white",
            "showbackground": true,
            "ticks": "",
            "zerolinecolor": "white"
           }
          },
          "shapedefaults": {
           "line": {
            "color": "#2a3f5f"
           }
          },
          "ternary": {
           "aaxis": {
            "gridcolor": "white",
            "linecolor": "white",
            "ticks": ""
           },
           "baxis": {
            "gridcolor": "white",
            "linecolor": "white",
            "ticks": ""
           },
           "bgcolor": "#E5ECF6",
           "caxis": {
            "gridcolor": "white",
            "linecolor": "white",
            "ticks": ""
           }
          },
          "title": {
           "x": 0.05
          },
          "xaxis": {
           "automargin": true,
           "gridcolor": "white",
           "linecolor": "white",
           "ticks": "",
           "title": {
            "standoff": 15
           },
           "zerolinecolor": "white",
           "zerolinewidth": 2
          },
          "yaxis": {
           "automargin": true,
           "gridcolor": "white",
           "linecolor": "white",
           "ticks": "",
           "title": {
            "standoff": 15
           },
           "zerolinecolor": "white",
           "zerolinewidth": 2
          }
         }
        },
        "title": {
         "text": "Deaths COVID-19 cases per day in China"
        },
        "xaxis": {
         "anchor": "y",
         "domain": [
          0,
          1
         ],
         "title": {
          "text": "Date"
         }
        },
        "yaxis": {
         "anchor": "x",
         "domain": [
          0,
          1
         ],
         "title": {
          "text": "Deaths"
         }
        }
       }
      },
      "text/html": [
       "<div>                            <div id=\"c3ba999a-e013-4d67-86ee-84c4c74f7ebf\" class=\"plotly-graph-div\" style=\"height:525px; width:100%;\"></div>            <script type=\"text/javascript\">                require([\"plotly\"], function(Plotly) {                    window.PLOTLYENV=window.PLOTLYENV || {};                                    if (document.getElementById(\"c3ba999a-e013-4d67-86ee-84c4c74f7ebf\")) {                    Plotly.newPlot(                        \"c3ba999a-e013-4d67-86ee-84c4c74f7ebf\",                        [{\"alignmentgroup\": \"True\", \"hovertemplate\": \"Date=%{x}<br>Deaths=%{marker.color}<extra></extra>\", \"legendgroup\": \"\", \"marker\": {\"color\": [4743, 4743, 4742, 4742, 4742, 4742, 4742, 4742, 4742, 4742, 4742, 4742, 4742, 4742, 4742, 4742, 4742, 4742, 4742, 4742, 4741, 4741, 4741, 4741, 4741, 4740, 4739, 4739, 4739, 4739, 4739, 4739, 4739, 4739, 4739, 4739, 4739, 4739, 4739, 4739, 4739, 4739, 4739, 4739, 4739, 4739, 4739, 4739, 4739, 4739, 4739, 4739, 4739, 4739, 4739, 4739, 4739, 4739, 4739, 4739, 4739, 4739, 4739, 4739, 4739, 4739, 4738, 4738, 4737, 4737, 4737, 4737, 4737, 4736, 4736, 4736, 4735, 4734, 4734, 4733, 4733, 4733, 4733, 4732, 4730, 4728, 4728, 4728, 4727, 4724, 4723, 4722, 4721, 4718, 4715, 4713, 4712, 4711, 4711, 4711, 4709, 4709, 4706, 4705, 4703, 4703, 4703, 4701, 4700, 4697, 4693, 4689, 4686, 4681, 4681, 4680, 4677, 4676, 4672, 4669, 4667, 4661, 4659, 4658, 4657, 4656, 4652, 4652, 4650, 4649, 4648, 4648, 4646, 4646, 4646, 4645, 4644, 4644, 4642, 4641, 4641, 4641, 4641, 4641, 4641, 4641, 4641, 4641, 4641, 4641, 4641, 4641, 4641, 4641, 4641, 4641, 4641, 4641, 4640, 4640, 4639, 4639, 4639, 4638, 4638, 4638, 4638, 4638, 4638, 4638, 4638, 4638, 4638, 4638, 4638, 4638, 4638, 4638, 4638, 4638, 4638, 4638, 4638, 4638, 4638, 4638, 4638, 4638, 4638, 4638, 4638, 4638, 4638, 4638, 4638, 4638, 4638, 4638, 4637, 4637, 4637, 4637, 4637, 4637, 4637, 4637, 4637, 4637, 4637, 4637, 4637, 4637, 4637, 4637, 4637, 4637, 4637, 4637, 4636, 4636, 4636, 4636, 4636, 4636, 4636, 4636, 4636, 3346, 3346, 3345, 3345, 3343, 3343, 3340, 3339, 3337, 3335, 3335, 3333, 3330, 3326, 3322, 3316, 3309, 3308, 3304, 3299, 3296, 3291, 3285, 3281, 3274, 3274, 3259, 3253, 3249, 3241, 3230, 3217, 3203, 3193, 3180, 3172, 3161, 3139, 3123, 3100, 3072, 3044, 3015, 2983, 2947, 2914, 2872, 2837, 2790, 2746, 2717, 2665, 2595, 2445, 2443, 2238, 2238, 2116, 2003, 1864, 1766, 1663, 1521, 1369, 1117, 1112, 1012, 905, 805, 718, 633, 563, 491, 425, 361, 259, 213, 171, 133, 131, 82, 56, 42, 26, 18, 17], \"coloraxis\": \"coloraxis\"}, \"name\": \"\", \"offsetgroup\": \"\", \"orientation\": \"v\", \"showlegend\": false, \"textposition\": \"auto\", \"type\": \"bar\", \"x\": [\"2020-11-29\", \"2020-11-28\", \"2020-11-20\", \"2020-11-15\", \"2020-11-12\", \"2020-11-11\", \"2020-11-10\", \"2020-11-16\", \"2020-11-17\", \"2020-11-18\", \"2020-11-19\", \"2020-11-13\", \"2020-11-21\", \"2020-11-23\", \"2020-11-24\", \"2020-11-25\", \"2020-11-26\", \"2020-11-27\", \"2020-11-22\", \"2020-11-14\", \"2020-11-08\", \"2020-11-09\", \"2020-11-07\", \"2020-11-05\", \"2020-11-06\", \"2020-11-04\", \"2020-10-31\", \"2020-10-20\", \"2020-10-28\", \"2020-10-27\", \"2020-10-26\", \"2020-10-13\", \"2020-10-24\", \"2020-10-23\", \"2020-10-22\", \"2020-11-01\", \"2020-10-14\", \"2020-10-17\", \"2020-10-19\", \"2020-10-15\", \"2020-10-16\", \"2020-10-25\", \"2020-11-03\", \"2020-11-02\", \"2020-10-18\", \"2020-10-29\", \"2020-09-28\", \"2020-10-21\", \"2020-10-02\", \"2020-10-04\", \"2020-10-10\", \"2020-10-08\", \"2020-10-07\", \"2020-10-12\", \"2020-10-05\", \"2020-10-30\", \"2020-10-11\", \"2020-10-06\", \"2020-10-01\", \"2020-09-29\", \"2020-09-30\", \"2020-09-27\", \"2020-09-26\", \"2020-09-25\", \"2020-10-03\", \"2020-10-09\", \"2020-09-24\", \"2020-09-23\", \"2020-09-22\", \"2020-09-21\", \"2020-09-20\", \"2020-09-19\", \"2020-09-18\", \"2020-09-17\", \"2020-09-16\", \"2020-09-15\", \"2020-09-14\", \"2020-09-13\", \"2020-09-12\", \"2020-09-11\", \"2020-09-10\", \"2020-09-09\", \"2020-09-08\", \"2020-09-07\", \"2020-09-06\", \"2020-09-03\", \"2020-09-04\", \"2020-09-05\", \"2020-09-02\", \"2020-09-01\", \"2020-08-31\", \"2020-08-30\", \"2020-08-29\", \"2020-08-28\", \"2020-08-27\", \"2020-08-26\", \"2020-08-25\", \"2020-08-22\", \"2020-08-23\", \"2020-08-24\", \"2020-08-21\", \"2020-08-20\", \"2020-08-19\", \"2020-08-18\", \"2020-08-17\", \"2020-08-16\", \"2020-08-15\", \"2020-08-14\", \"2020-08-13\", \"2020-08-12\", \"2020-08-11\", \"2020-08-10\", \"2020-08-09\", \"2020-08-07\", \"2020-08-08\", \"2020-08-06\", \"2020-08-05\", \"2020-08-04\", \"2020-08-03\", \"2020-08-02\", \"2020-08-01\", \"2020-07-31\", \"2020-07-30\", \"2020-07-29\", \"2020-07-28\", \"2020-07-27\", \"2020-07-25\", \"2020-07-26\", \"2020-07-24\", \"2020-07-23\", \"2020-07-21\", \"2020-07-22\", \"2020-07-20\", \"2020-07-18\", \"2020-07-19\", \"2020-07-17\", \"2020-07-15\", \"2020-07-16\", \"2020-07-14\", \"2020-06-26\", \"2020-07-06\", \"2020-06-28\", \"2020-07-03\", \"2020-07-02\", \"2020-07-01\", \"2020-07-12\", \"2020-07-07\", \"2020-06-29\", \"2020-07-08\", \"2020-07-09\", \"2020-06-30\", \"2020-07-11\", \"2020-06-27\", \"2020-07-13\", \"2020-07-10\", \"2020-06-25\", \"2020-07-05\", \"2020-07-04\", \"2020-06-24\", \"2020-06-23\", \"2020-06-20\", \"2020-06-22\", \"2020-06-21\", \"2020-06-18\", \"2020-06-11\", \"2020-05-28\", \"2020-06-03\", \"2020-06-14\", \"2020-06-06\", \"2020-06-09\", \"2020-06-04\", \"2020-06-15\", \"2020-06-12\", \"2020-06-13\", \"2020-06-10\", \"2020-05-16\", \"2020-06-19\", \"2020-06-05\", \"2020-06-16\", \"2020-05-31\", \"2020-06-17\", \"2020-05-17\", \"2020-05-26\", \"2020-06-07\", \"2020-06-08\", \"2020-06-01\", \"2020-05-23\", \"2020-05-18\", \"2020-05-30\", \"2020-05-29\", \"2020-05-27\", \"2020-05-25\", \"2020-05-24\", \"2020-05-22\", \"2020-06-02\", \"2020-05-21\", \"2020-05-20\", \"2020-05-19\", \"2020-05-02\", \"2020-05-04\", \"2020-05-05\", \"2020-04-27\", \"2020-05-03\", \"2020-04-26\", \"2020-04-30\", \"2020-05-01\", \"2020-05-07\", \"2020-04-29\", \"2020-05-14\", \"2020-05-06\", \"2020-05-13\", \"2020-05-15\", \"2020-05-11\", \"2020-05-10\", \"2020-05-09\", \"2020-05-08\", \"2020-05-12\", \"2020-04-28\", \"2020-04-17\", \"2020-04-19\", \"2020-04-21\", \"2020-04-18\", \"2020-04-20\", \"2020-04-25\", \"2020-04-23\", \"2020-04-24\", \"2020-04-22\", \"2020-04-16\", \"2020-04-15\", \"2020-04-14\", \"2020-04-13\", \"2020-04-12\", \"2020-04-11\", \"2020-04-10\", \"2020-04-09\", \"2020-04-08\", \"2020-04-07\", \"2020-04-06\", \"2020-04-05\", \"2020-04-04\", \"2020-04-03\", \"2020-04-02\", \"2020-04-01\", \"2020-03-31\", \"2020-03-30\", \"2020-03-29\", \"2020-03-28\", \"2020-03-27\", \"2020-03-26\", \"2020-03-25\", \"2020-03-24\", \"2020-03-22\", \"2020-03-23\", \"2020-03-21\", \"2020-03-20\", \"2020-03-19\", \"2020-03-18\", \"2020-03-17\", \"2020-03-16\", \"2020-03-15\", \"2020-03-14\", \"2020-03-13\", \"2020-03-12\", \"2020-03-11\", \"2020-03-10\", \"2020-03-09\", \"2020-03-08\", \"2020-03-07\", \"2020-03-06\", \"2020-03-05\", \"2020-03-04\", \"2020-03-03\", \"2020-03-02\", \"2020-03-01\", \"2020-02-29\", \"2020-02-28\", \"2020-02-27\", \"2020-02-26\", \"2020-02-25\", \"2020-02-24\", \"2020-02-23\", \"2020-02-22\", \"2020-02-21\", \"2020-02-20\", \"2020-02-19\", \"2020-02-18\", \"2020-02-17\", \"2020-02-16\", \"2020-02-15\", \"2020-02-14\", \"2020-02-13\", \"2020-02-12\", \"2020-02-11\", \"2020-02-10\", \"2020-02-09\", \"2020-02-08\", \"2020-02-07\", \"2020-02-06\", \"2020-02-05\", \"2020-02-04\", \"2020-02-03\", \"2020-02-02\", \"2020-02-01\", \"2020-01-31\", \"2020-01-30\", \"2020-01-29\", \"2020-01-28\", \"2020-01-27\", \"2020-01-26\", \"2020-01-25\", \"2020-01-24\", \"2020-01-23\", \"2020-01-22\"], \"xaxis\": \"x\", \"y\": [4743, 4743, 4742, 4742, 4742, 4742, 4742, 4742, 4742, 4742, 4742, 4742, 4742, 4742, 4742, 4742, 4742, 4742, 4742, 4742, 4741, 4741, 4741, 4741, 4741, 4740, 4739, 4739, 4739, 4739, 4739, 4739, 4739, 4739, 4739, 4739, 4739, 4739, 4739, 4739, 4739, 4739, 4739, 4739, 4739, 4739, 4739, 4739, 4739, 4739, 4739, 4739, 4739, 4739, 4739, 4739, 4739, 4739, 4739, 4739, 4739, 4739, 4739, 4739, 4739, 4739, 4738, 4738, 4737, 4737, 4737, 4737, 4737, 4736, 4736, 4736, 4735, 4734, 4734, 4733, 4733, 4733, 4733, 4732, 4730, 4728, 4728, 4728, 4727, 4724, 4723, 4722, 4721, 4718, 4715, 4713, 4712, 4711, 4711, 4711, 4709, 4709, 4706, 4705, 4703, 4703, 4703, 4701, 4700, 4697, 4693, 4689, 4686, 4681, 4681, 4680, 4677, 4676, 4672, 4669, 4667, 4661, 4659, 4658, 4657, 4656, 4652, 4652, 4650, 4649, 4648, 4648, 4646, 4646, 4646, 4645, 4644, 4644, 4642, 4641, 4641, 4641, 4641, 4641, 4641, 4641, 4641, 4641, 4641, 4641, 4641, 4641, 4641, 4641, 4641, 4641, 4641, 4641, 4640, 4640, 4639, 4639, 4639, 4638, 4638, 4638, 4638, 4638, 4638, 4638, 4638, 4638, 4638, 4638, 4638, 4638, 4638, 4638, 4638, 4638, 4638, 4638, 4638, 4638, 4638, 4638, 4638, 4638, 4638, 4638, 4638, 4638, 4638, 4638, 4638, 4638, 4638, 4638, 4637, 4637, 4637, 4637, 4637, 4637, 4637, 4637, 4637, 4637, 4637, 4637, 4637, 4637, 4637, 4637, 4637, 4637, 4637, 4637, 4636, 4636, 4636, 4636, 4636, 4636, 4636, 4636, 4636, 3346, 3346, 3345, 3345, 3343, 3343, 3340, 3339, 3337, 3335, 3335, 3333, 3330, 3326, 3322, 3316, 3309, 3308, 3304, 3299, 3296, 3291, 3285, 3281, 3274, 3274, 3259, 3253, 3249, 3241, 3230, 3217, 3203, 3193, 3180, 3172, 3161, 3139, 3123, 3100, 3072, 3044, 3015, 2983, 2947, 2914, 2872, 2837, 2790, 2746, 2717, 2665, 2595, 2445, 2443, 2238, 2238, 2116, 2003, 1864, 1766, 1663, 1521, 1369, 1117, 1112, 1012, 905, 805, 718, 633, 563, 491, 425, 361, 259, 213, 171, 133, 131, 82, 56, 42, 26, 18, 17], \"yaxis\": \"y\"}],                        {\"barmode\": \"relative\", \"coloraxis\": {\"colorbar\": {\"title\": {\"text\": \"Deaths\"}}, \"colorscale\": [[0.0, \"rgb(237, 229, 207)\"], [0.16666666666666666, \"rgb(224, 194, 162)\"], [0.3333333333333333, \"rgb(211, 156, 131)\"], [0.5, \"rgb(193, 118, 111)\"], [0.6666666666666666, \"rgb(166, 84, 97)\"], [0.8333333333333334, \"rgb(129, 55, 83)\"], [1.0, \"rgb(84, 31, 63)\"]]}, \"legend\": {\"tracegroupgap\": 0}, \"margin\": {\"t\": 60}, \"template\": {\"data\": {\"bar\": [{\"error_x\": {\"color\": \"#2a3f5f\"}, \"error_y\": {\"color\": \"#2a3f5f\"}, \"marker\": {\"line\": {\"color\": \"#E5ECF6\", \"width\": 0.5}}, \"type\": \"bar\"}], \"barpolar\": [{\"marker\": {\"line\": {\"color\": \"#E5ECF6\", \"width\": 0.5}}, \"type\": \"barpolar\"}], \"carpet\": [{\"aaxis\": {\"endlinecolor\": \"#2a3f5f\", \"gridcolor\": \"white\", \"linecolor\": \"white\", \"minorgridcolor\": \"white\", \"startlinecolor\": \"#2a3f5f\"}, \"baxis\": {\"endlinecolor\": \"#2a3f5f\", \"gridcolor\": \"white\", \"linecolor\": \"white\", \"minorgridcolor\": \"white\", \"startlinecolor\": \"#2a3f5f\"}, \"type\": \"carpet\"}], \"choropleth\": [{\"colorbar\": {\"outlinewidth\": 0, \"ticks\": \"\"}, \"type\": \"choropleth\"}], \"contour\": [{\"colorbar\": {\"outlinewidth\": 0, \"ticks\": \"\"}, \"colorscale\": [[0.0, \"#0d0887\"], [0.1111111111111111, \"#46039f\"], [0.2222222222222222, \"#7201a8\"], [0.3333333333333333, \"#9c179e\"], [0.4444444444444444, \"#bd3786\"], [0.5555555555555556, \"#d8576b\"], [0.6666666666666666, \"#ed7953\"], [0.7777777777777778, \"#fb9f3a\"], [0.8888888888888888, \"#fdca26\"], [1.0, \"#f0f921\"]], \"type\": \"contour\"}], \"contourcarpet\": [{\"colorbar\": {\"outlinewidth\": 0, \"ticks\": \"\"}, \"type\": \"contourcarpet\"}], \"heatmap\": [{\"colorbar\": {\"outlinewidth\": 0, \"ticks\": \"\"}, \"colorscale\": [[0.0, \"#0d0887\"], [0.1111111111111111, \"#46039f\"], [0.2222222222222222, \"#7201a8\"], [0.3333333333333333, \"#9c179e\"], [0.4444444444444444, \"#bd3786\"], [0.5555555555555556, \"#d8576b\"], [0.6666666666666666, \"#ed7953\"], [0.7777777777777778, \"#fb9f3a\"], [0.8888888888888888, \"#fdca26\"], [1.0, \"#f0f921\"]], \"type\": \"heatmap\"}], \"heatmapgl\": [{\"colorbar\": {\"outlinewidth\": 0, \"ticks\": \"\"}, \"colorscale\": [[0.0, \"#0d0887\"], [0.1111111111111111, \"#46039f\"], [0.2222222222222222, \"#7201a8\"], [0.3333333333333333, \"#9c179e\"], [0.4444444444444444, \"#bd3786\"], [0.5555555555555556, \"#d8576b\"], [0.6666666666666666, \"#ed7953\"], [0.7777777777777778, \"#fb9f3a\"], [0.8888888888888888, \"#fdca26\"], [1.0, \"#f0f921\"]], \"type\": \"heatmapgl\"}], \"histogram\": [{\"marker\": {\"colorbar\": {\"outlinewidth\": 0, \"ticks\": \"\"}}, \"type\": \"histogram\"}], \"histogram2d\": [{\"colorbar\": {\"outlinewidth\": 0, \"ticks\": \"\"}, \"colorscale\": [[0.0, \"#0d0887\"], [0.1111111111111111, \"#46039f\"], [0.2222222222222222, \"#7201a8\"], [0.3333333333333333, \"#9c179e\"], [0.4444444444444444, \"#bd3786\"], [0.5555555555555556, \"#d8576b\"], [0.6666666666666666, \"#ed7953\"], [0.7777777777777778, \"#fb9f3a\"], [0.8888888888888888, \"#fdca26\"], [1.0, \"#f0f921\"]], \"type\": \"histogram2d\"}], \"histogram2dcontour\": [{\"colorbar\": {\"outlinewidth\": 0, \"ticks\": \"\"}, \"colorscale\": [[0.0, \"#0d0887\"], [0.1111111111111111, \"#46039f\"], [0.2222222222222222, \"#7201a8\"], [0.3333333333333333, \"#9c179e\"], [0.4444444444444444, \"#bd3786\"], [0.5555555555555556, \"#d8576b\"], [0.6666666666666666, \"#ed7953\"], [0.7777777777777778, \"#fb9f3a\"], [0.8888888888888888, \"#fdca26\"], [1.0, \"#f0f921\"]], \"type\": \"histogram2dcontour\"}], \"mesh3d\": [{\"colorbar\": {\"outlinewidth\": 0, \"ticks\": \"\"}, \"type\": \"mesh3d\"}], \"parcoords\": [{\"line\": {\"colorbar\": {\"outlinewidth\": 0, \"ticks\": \"\"}}, \"type\": \"parcoords\"}], \"pie\": [{\"automargin\": true, \"type\": \"pie\"}], \"scatter\": [{\"marker\": {\"colorbar\": {\"outlinewidth\": 0, \"ticks\": \"\"}}, \"type\": \"scatter\"}], \"scatter3d\": [{\"line\": {\"colorbar\": {\"outlinewidth\": 0, \"ticks\": \"\"}}, \"marker\": {\"colorbar\": {\"outlinewidth\": 0, \"ticks\": \"\"}}, \"type\": \"scatter3d\"}], \"scattercarpet\": [{\"marker\": {\"colorbar\": {\"outlinewidth\": 0, \"ticks\": \"\"}}, \"type\": \"scattercarpet\"}], \"scattergeo\": [{\"marker\": {\"colorbar\": {\"outlinewidth\": 0, \"ticks\": \"\"}}, \"type\": \"scattergeo\"}], \"scattergl\": [{\"marker\": {\"colorbar\": {\"outlinewidth\": 0, \"ticks\": \"\"}}, \"type\": \"scattergl\"}], \"scattermapbox\": [{\"marker\": {\"colorbar\": {\"outlinewidth\": 0, \"ticks\": \"\"}}, \"type\": \"scattermapbox\"}], \"scatterpolar\": [{\"marker\": {\"colorbar\": {\"outlinewidth\": 0, \"ticks\": \"\"}}, \"type\": \"scatterpolar\"}], \"scatterpolargl\": [{\"marker\": {\"colorbar\": {\"outlinewidth\": 0, \"ticks\": \"\"}}, \"type\": \"scatterpolargl\"}], \"scatterternary\": [{\"marker\": {\"colorbar\": {\"outlinewidth\": 0, \"ticks\": \"\"}}, \"type\": \"scatterternary\"}], \"surface\": [{\"colorbar\": {\"outlinewidth\": 0, \"ticks\": \"\"}, \"colorscale\": [[0.0, \"#0d0887\"], [0.1111111111111111, \"#46039f\"], [0.2222222222222222, \"#7201a8\"], [0.3333333333333333, \"#9c179e\"], [0.4444444444444444, \"#bd3786\"], [0.5555555555555556, \"#d8576b\"], [0.6666666666666666, \"#ed7953\"], [0.7777777777777778, \"#fb9f3a\"], [0.8888888888888888, \"#fdca26\"], [1.0, \"#f0f921\"]], \"type\": \"surface\"}], \"table\": [{\"cells\": {\"fill\": {\"color\": \"#EBF0F8\"}, \"line\": {\"color\": \"white\"}}, \"header\": {\"fill\": {\"color\": \"#C8D4E3\"}, \"line\": {\"color\": \"white\"}}, \"type\": \"table\"}]}, \"layout\": {\"annotationdefaults\": {\"arrowcolor\": \"#2a3f5f\", \"arrowhead\": 0, \"arrowwidth\": 1}, \"autotypenumbers\": \"strict\", \"coloraxis\": {\"colorbar\": {\"outlinewidth\": 0, \"ticks\": \"\"}}, \"colorscale\": {\"diverging\": [[0, \"#8e0152\"], [0.1, \"#c51b7d\"], [0.2, \"#de77ae\"], [0.3, \"#f1b6da\"], [0.4, \"#fde0ef\"], [0.5, \"#f7f7f7\"], [0.6, \"#e6f5d0\"], [0.7, \"#b8e186\"], [0.8, \"#7fbc41\"], [0.9, \"#4d9221\"], [1, \"#276419\"]], \"sequential\": [[0.0, \"#0d0887\"], [0.1111111111111111, \"#46039f\"], [0.2222222222222222, \"#7201a8\"], [0.3333333333333333, \"#9c179e\"], [0.4444444444444444, \"#bd3786\"], [0.5555555555555556, \"#d8576b\"], [0.6666666666666666, \"#ed7953\"], [0.7777777777777778, \"#fb9f3a\"], [0.8888888888888888, \"#fdca26\"], [1.0, \"#f0f921\"]], \"sequentialminus\": [[0.0, \"#0d0887\"], [0.1111111111111111, \"#46039f\"], [0.2222222222222222, \"#7201a8\"], [0.3333333333333333, \"#9c179e\"], [0.4444444444444444, \"#bd3786\"], [0.5555555555555556, \"#d8576b\"], [0.6666666666666666, \"#ed7953\"], [0.7777777777777778, \"#fb9f3a\"], [0.8888888888888888, \"#fdca26\"], [1.0, \"#f0f921\"]]}, \"colorway\": [\"#636efa\", \"#EF553B\", \"#00cc96\", \"#ab63fa\", \"#FFA15A\", \"#19d3f3\", \"#FF6692\", \"#B6E880\", \"#FF97FF\", \"#FECB52\"], \"font\": {\"color\": \"#2a3f5f\"}, \"geo\": {\"bgcolor\": \"white\", \"lakecolor\": \"white\", \"landcolor\": \"#E5ECF6\", \"showlakes\": true, \"showland\": true, \"subunitcolor\": \"white\"}, \"hoverlabel\": {\"align\": \"left\"}, \"hovermode\": \"closest\", \"mapbox\": {\"style\": \"light\"}, \"paper_bgcolor\": \"white\", \"plot_bgcolor\": \"#E5ECF6\", \"polar\": {\"angularaxis\": {\"gridcolor\": \"white\", \"linecolor\": \"white\", \"ticks\": \"\"}, \"bgcolor\": \"#E5ECF6\", \"radialaxis\": {\"gridcolor\": \"white\", \"linecolor\": \"white\", \"ticks\": \"\"}}, \"scene\": {\"xaxis\": {\"backgroundcolor\": \"#E5ECF6\", \"gridcolor\": \"white\", \"gridwidth\": 2, \"linecolor\": \"white\", \"showbackground\": true, \"ticks\": \"\", \"zerolinecolor\": \"white\"}, \"yaxis\": {\"backgroundcolor\": \"#E5ECF6\", \"gridcolor\": \"white\", \"gridwidth\": 2, \"linecolor\": \"white\", \"showbackground\": true, \"ticks\": \"\", \"zerolinecolor\": \"white\"}, \"zaxis\": {\"backgroundcolor\": \"#E5ECF6\", \"gridcolor\": \"white\", \"gridwidth\": 2, \"linecolor\": \"white\", \"showbackground\": true, \"ticks\": \"\", \"zerolinecolor\": \"white\"}}, \"shapedefaults\": {\"line\": {\"color\": \"#2a3f5f\"}}, \"ternary\": {\"aaxis\": {\"gridcolor\": \"white\", \"linecolor\": \"white\", \"ticks\": \"\"}, \"baxis\": {\"gridcolor\": \"white\", \"linecolor\": \"white\", \"ticks\": \"\"}, \"bgcolor\": \"#E5ECF6\", \"caxis\": {\"gridcolor\": \"white\", \"linecolor\": \"white\", \"ticks\": \"\"}}, \"title\": {\"x\": 0.05}, \"xaxis\": {\"automargin\": true, \"gridcolor\": \"white\", \"linecolor\": \"white\", \"ticks\": \"\", \"title\": {\"standoff\": 15}, \"zerolinecolor\": \"white\", \"zerolinewidth\": 2}, \"yaxis\": {\"automargin\": true, \"gridcolor\": \"white\", \"linecolor\": \"white\", \"ticks\": \"\", \"title\": {\"standoff\": 15}, \"zerolinecolor\": \"white\", \"zerolinewidth\": 2}}}, \"title\": {\"text\": \"Deaths COVID-19 cases per day in China\"}, \"xaxis\": {\"anchor\": \"y\", \"domain\": [0.0, 1.0], \"title\": {\"text\": \"Date\"}}, \"yaxis\": {\"anchor\": \"x\", \"domain\": [0.0, 1.0], \"title\": {\"text\": \"Deaths\"}}},                        {\"responsive\": true}                    ).then(function(){\n",
       "                            \n",
       "var gd = document.getElementById('c3ba999a-e013-4d67-86ee-84c4c74f7ebf');\n",
       "var x = new MutationObserver(function (mutations, observer) {{\n",
       "        var display = window.getComputedStyle(gd).display;\n",
       "        if (!display || display === 'none') {{\n",
       "            console.log([gd, 'removed!']);\n",
       "            Plotly.purge(gd);\n",
       "            observer.disconnect();\n",
       "        }}\n",
       "}});\n",
       "\n",
       "// Listen for the removal of the full notebook cells\n",
       "var notebookContainer = gd.closest('#notebook-container');\n",
       "if (notebookContainer) {{\n",
       "    x.observe(notebookContainer, {childList: true});\n",
       "}}\n",
       "\n",
       "// Listen for the clearing of the current output cell\n",
       "var outputEl = gd.closest('.output');\n",
       "if (outputEl) {{\n",
       "    x.observe(outputEl, {childList: true});\n",
       "}}\n",
       "\n",
       "                        })                };                });            </script>        </div>"
      ]
     },
     "metadata": {},
     "output_type": "display_data"
    }
   ],
   "source": [
    "df_by_date = pd.DataFrame(data.fillna('NA').groupby(['Country','Date'])['Deaths'].sum().sort_values().reset_index())\n",
    "\n",
    "fig = px.bar(df_by_date.loc[(df_by_date['Country'] == 'China') &(df_by_date.Date >= '2020-01-22')].sort_values('Deaths',ascending = False), \n",
    "             x='Date', y='Deaths', color=\"Deaths\", color_continuous_scale=px.colors.sequential.Brwnyl)\n",
    "fig.update_layout(title_text='Deaths COVID-19 cases per day in China')\n",
    "fig.show()"
   ]
  },
  {
   "cell_type": "markdown",
   "metadata": {},
   "source": [
    "##### Wuhan is the origin of Covid-19.The above graph clearly shows a hike in the death rate from April mid to the end of April.But only 4500 deaths cases reported at the end of November"
   ]
  },
  {
   "cell_type": "markdown",
   "metadata": {},
   "source": [
    "# INFERENCE:"
   ]
  },
  {
   "cell_type": "raw",
   "metadata": {},
   "source": [
    "1.US,India & Brazil are top countries with more confirmed cases.\n",
    "2.India is the first country having high recovered cases followed by Brazil & US.\n",
    "3.US is the country with high death rate followed by Brazil and India.\n",
    "4.In US,the spread of the COVID-19 started from march 26 & it was reaching above 6 Million in the Month of August.\n",
    "5.The spread of the COVID-19 in India started from April 28 & the spread was reaching above 6 Million at the end of September.\n",
    "6.The spread of the COVID-19 in Brazil started from April 28 & the spread was reaching above 6 Million at the end of September.\n",
    "7.The spread of the COVID-19 in France started from March 20 & the spread was reaching above 2Million at the end of September.\n",
    "8.Even though China(Wuhan) is the Origin of Covid-19,the count reaches only 90K in November end & the spread of the COVID-19 in China started from December 2019.There was a hike in death rate from April mid to the end of April.But only 4500 deaths cases reported at the end of November.\n",
    "9.The Death rate in India reached 120K ,in Brazil reached 160K & in France reached 50K at the end of November 2020."
   ]
  },
  {
   "cell_type": "markdown",
   "metadata": {},
   "source": [
    "### If you like the work don't forget to upvote"
   ]
  }
 ],
 "metadata": {
  "kernelspec": {
   "display_name": "Python 3",
   "language": "python",
   "name": "python3"
  },
  "language_info": {
   "codemirror_mode": {
    "name": "ipython",
    "version": 3
   },
   "file_extension": ".py",
   "mimetype": "text/x-python",
   "name": "python",
   "nbconvert_exporter": "python",
   "pygments_lexer": "ipython3",
   "version": "3.8.5"
  }
 },
 "nbformat": 4,
 "nbformat_minor": 4
}
